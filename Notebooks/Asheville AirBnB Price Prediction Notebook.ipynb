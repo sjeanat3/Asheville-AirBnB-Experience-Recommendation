{
 "cells": [
  {
   "cell_type": "markdown",
   "id": "283821fc",
   "metadata": {},
   "source": [
    "# Import Necessary Libraries"
   ]
  },
  {
   "cell_type": "code",
   "execution_count": 316,
   "id": "6085ced8",
   "metadata": {},
   "outputs": [],
   "source": [
    "import pandas as pd\n",
    "import gzip\n",
    "import shutil\n",
    "import seaborn as sns\n",
    "import numpy as np\n",
    "\n",
    "from sklearn.linear_model import LogisticRegression\n",
    "from sklearn.model_selection import train_test_split\n",
    "from sklearn.tree import DecisionTreeClassifier\n",
    "from sklearn.ensemble import BaggingClassifier, RandomForestRegressor\n",
    "from sklearn.preprocessing import StandardScaler, OneHotEncoder, OrdinalEncoder, MaxAbsScaler\n",
    "from sklearn.metrics import accuracy_score, confusion_matrix, classification_report, r2_score, mean_squared_error, \\\n",
    "mean_absolute_error, explained_variance_score\n",
    "\n",
    "from sklearn.pipeline import make_pipeline, Pipeline\n",
    "from sklearn.impute import SimpleImputer\n",
    "from sklearn.compose import ColumnTransformer\n",
    "\n",
    "\n",
    "from keras import models, layers \n",
    "from keras.callbacks import EarlyStopping\n",
    "from tensorflow.keras.regularizers import l2\n",
    "from tensorflow.keras.models import Sequential, Model, load_model\n",
    "from tensorflow.keras.optimizers import  Adam\n",
    "from tensorflow.keras.layers import Dense, Dropout, Convolution1D, MaxPooling1D, Flatten, \\\n",
    "GlobalAveragePooling1D, BatchNormalization, Resizing, Rescaling, RandomFlip, RandomRotation\n",
    "\n",
    "from matplotlib import pyplot as plt\n",
    "import matplotlib.image as mpimg\n",
    "%matplotlib inline"
   ]
  },
  {
   "cell_type": "markdown",
   "id": "815b336a",
   "metadata": {},
   "source": [
    "# Exploratory Data Analysis (EDA)"
   ]
  },
  {
   "cell_type": "markdown",
   "id": "85a2c796",
   "metadata": {},
   "source": [
    "## Calendar Data - 2022"
   ]
  },
  {
   "cell_type": "code",
   "execution_count": 317,
   "id": "13b917a2",
   "metadata": {},
   "outputs": [
    {
     "data": {
      "text/html": [
       "<div>\n",
       "<style scoped>\n",
       "    .dataframe tbody tr th:only-of-type {\n",
       "        vertical-align: middle;\n",
       "    }\n",
       "\n",
       "    .dataframe tbody tr th {\n",
       "        vertical-align: top;\n",
       "    }\n",
       "\n",
       "    .dataframe thead th {\n",
       "        text-align: right;\n",
       "    }\n",
       "</style>\n",
       "<table border=\"1\" class=\"dataframe\">\n",
       "  <thead>\n",
       "    <tr style=\"text-align: right;\">\n",
       "      <th></th>\n",
       "      <th>listing_id</th>\n",
       "      <th>date</th>\n",
       "      <th>available</th>\n",
       "      <th>price</th>\n",
       "      <th>adjusted_price</th>\n",
       "      <th>minimum_nights</th>\n",
       "      <th>maximum_nights</th>\n",
       "    </tr>\n",
       "  </thead>\n",
       "  <tbody>\n",
       "    <tr>\n",
       "      <th>0</th>\n",
       "      <td>881707</td>\n",
       "      <td>2021-12-15</td>\n",
       "      <td>f</td>\n",
       "      <td>$93.00</td>\n",
       "      <td>$93.00</td>\n",
       "      <td>1</td>\n",
       "      <td>1125</td>\n",
       "    </tr>\n",
       "    <tr>\n",
       "      <th>1</th>\n",
       "      <td>910737</td>\n",
       "      <td>2021-12-15</td>\n",
       "      <td>t</td>\n",
       "      <td>$156.00</td>\n",
       "      <td>$156.00</td>\n",
       "      <td>2</td>\n",
       "      <td>1125</td>\n",
       "    </tr>\n",
       "    <tr>\n",
       "      <th>2</th>\n",
       "      <td>910737</td>\n",
       "      <td>2021-12-16</td>\n",
       "      <td>t</td>\n",
       "      <td>$156.00</td>\n",
       "      <td>$156.00</td>\n",
       "      <td>2</td>\n",
       "      <td>1125</td>\n",
       "    </tr>\n",
       "    <tr>\n",
       "      <th>3</th>\n",
       "      <td>910737</td>\n",
       "      <td>2021-12-17</td>\n",
       "      <td>f</td>\n",
       "      <td>$135.00</td>\n",
       "      <td>$135.00</td>\n",
       "      <td>2</td>\n",
       "      <td>1125</td>\n",
       "    </tr>\n",
       "    <tr>\n",
       "      <th>4</th>\n",
       "      <td>910737</td>\n",
       "      <td>2021-12-18</td>\n",
       "      <td>f</td>\n",
       "      <td>$135.00</td>\n",
       "      <td>$135.00</td>\n",
       "      <td>2</td>\n",
       "      <td>1125</td>\n",
       "    </tr>\n",
       "    <tr>\n",
       "      <th>...</th>\n",
       "      <td>...</td>\n",
       "      <td>...</td>\n",
       "      <td>...</td>\n",
       "      <td>...</td>\n",
       "      <td>...</td>\n",
       "      <td>...</td>\n",
       "      <td>...</td>\n",
       "    </tr>\n",
       "    <tr>\n",
       "      <th>958485</th>\n",
       "      <td>51875440</td>\n",
       "      <td>2022-12-10</td>\n",
       "      <td>t</td>\n",
       "      <td>$807.00</td>\n",
       "      <td>$807.00</td>\n",
       "      <td>5</td>\n",
       "      <td>365</td>\n",
       "    </tr>\n",
       "    <tr>\n",
       "      <th>958486</th>\n",
       "      <td>51875440</td>\n",
       "      <td>2022-12-11</td>\n",
       "      <td>t</td>\n",
       "      <td>$718.00</td>\n",
       "      <td>$718.00</td>\n",
       "      <td>5</td>\n",
       "      <td>365</td>\n",
       "    </tr>\n",
       "    <tr>\n",
       "      <th>958487</th>\n",
       "      <td>51875440</td>\n",
       "      <td>2022-12-12</td>\n",
       "      <td>t</td>\n",
       "      <td>$706.00</td>\n",
       "      <td>$706.00</td>\n",
       "      <td>5</td>\n",
       "      <td>365</td>\n",
       "    </tr>\n",
       "    <tr>\n",
       "      <th>958488</th>\n",
       "      <td>51875440</td>\n",
       "      <td>2022-12-13</td>\n",
       "      <td>t</td>\n",
       "      <td>$696.00</td>\n",
       "      <td>$696.00</td>\n",
       "      <td>5</td>\n",
       "      <td>365</td>\n",
       "    </tr>\n",
       "    <tr>\n",
       "      <th>958489</th>\n",
       "      <td>51875440</td>\n",
       "      <td>2022-12-14</td>\n",
       "      <td>t</td>\n",
       "      <td>$687.00</td>\n",
       "      <td>$687.00</td>\n",
       "      <td>5</td>\n",
       "      <td>365</td>\n",
       "    </tr>\n",
       "  </tbody>\n",
       "</table>\n",
       "<p>958490 rows × 7 columns</p>\n",
       "</div>"
      ],
      "text/plain": [
       "        listing_id        date available    price adjusted_price  \\\n",
       "0           881707  2021-12-15         f   $93.00         $93.00   \n",
       "1           910737  2021-12-15         t  $156.00        $156.00   \n",
       "2           910737  2021-12-16         t  $156.00        $156.00   \n",
       "3           910737  2021-12-17         f  $135.00        $135.00   \n",
       "4           910737  2021-12-18         f  $135.00        $135.00   \n",
       "...            ...         ...       ...      ...            ...   \n",
       "958485    51875440  2022-12-10         t  $807.00        $807.00   \n",
       "958486    51875440  2022-12-11         t  $718.00        $718.00   \n",
       "958487    51875440  2022-12-12         t  $706.00        $706.00   \n",
       "958488    51875440  2022-12-13         t  $696.00        $696.00   \n",
       "958489    51875440  2022-12-14         t  $687.00        $687.00   \n",
       "\n",
       "        minimum_nights  maximum_nights  \n",
       "0                    1            1125  \n",
       "1                    2            1125  \n",
       "2                    2            1125  \n",
       "3                    2            1125  \n",
       "4                    2            1125  \n",
       "...                ...             ...  \n",
       "958485               5             365  \n",
       "958486               5             365  \n",
       "958487               5             365  \n",
       "958488               5             365  \n",
       "958489               5             365  \n",
       "\n",
       "[958490 rows x 7 columns]"
      ]
     },
     "execution_count": 317,
     "metadata": {},
     "output_type": "execute_result"
    }
   ],
   "source": [
    "#Load raw calendar data from file\n",
    "raw_calendar_data = pd.read_csv('../Data/AirBnB/Asheville/2021/asheville_calendar_2021.csv', compression='gzip')\n",
    "raw_calendar_data"
   ]
  },
  {
   "cell_type": "code",
   "execution_count": 318,
   "id": "9a653ba0",
   "metadata": {},
   "outputs": [
    {
     "name": "stdout",
     "output_type": "stream",
     "text": [
      "<class 'pandas.core.frame.DataFrame'>\n",
      "RangeIndex: 958490 entries, 0 to 958489\n",
      "Data columns (total 7 columns):\n",
      " #   Column          Non-Null Count   Dtype \n",
      "---  ------          --------------   ----- \n",
      " 0   listing_id      958490 non-null  int64 \n",
      " 1   date            958490 non-null  object\n",
      " 2   available       958490 non-null  object\n",
      " 3   price           958319 non-null  object\n",
      " 4   adjusted_price  958319 non-null  object\n",
      " 5   minimum_nights  958490 non-null  int64 \n",
      " 6   maximum_nights  958490 non-null  int64 \n",
      "dtypes: int64(3), object(4)\n",
      "memory usage: 51.2+ MB\n"
     ]
    }
   ],
   "source": [
    "#Check the info / types of data\n",
    "raw_calendar_data.info()"
   ]
  },
  {
   "cell_type": "code",
   "execution_count": 319,
   "id": "56b0bbb3",
   "metadata": {},
   "outputs": [
    {
     "name": "stdout",
     "output_type": "stream",
     "text": [
      "<class 'pandas.core.frame.DataFrame'>\n",
      "RangeIndex: 958490 entries, 0 to 958489\n",
      "Data columns (total 7 columns):\n",
      " #   Column          Non-Null Count   Dtype         \n",
      "---  ------          --------------   -----         \n",
      " 0   listing_id      958490 non-null  int64         \n",
      " 1   date            958490 non-null  datetime64[ns]\n",
      " 2   available       958490 non-null  object        \n",
      " 3   price           958319 non-null  object        \n",
      " 4   adjusted_price  958319 non-null  object        \n",
      " 5   minimum_nights  958490 non-null  int64         \n",
      " 6   maximum_nights  958490 non-null  int64         \n",
      "dtypes: datetime64[ns](1), int64(3), object(3)\n",
      "memory usage: 51.2+ MB\n"
     ]
    }
   ],
   "source": [
    "#Convert date column to date-times type\n",
    "mod_calendar_data = raw_calendar_data\n",
    "mod_calendar_data['date'] = pd.to_datetime(raw_calendar_data['date'])\n",
    "\n",
    "#Confirm the info / types of data\n",
    "mod_calendar_data.info()"
   ]
  },
  {
   "cell_type": "code",
   "execution_count": 320,
   "id": "65f961eb",
   "metadata": {},
   "outputs": [
    {
     "name": "stdout",
     "output_type": "stream",
     "text": [
      "Earliest date of data set 2021-12-15 00:00:00\n",
      "Latest date of data set 2022-12-17 00:00:00\n"
     ]
    }
   ],
   "source": [
    "print(f\"Earliest date of data set {raw_calendar_data['date'].min()}\")\n",
    "print(f\"Latest date of data set {raw_calendar_data['date'].max()}\")"
   ]
  },
  {
   "cell_type": "code",
   "execution_count": 321,
   "id": "3e19f17e",
   "metadata": {},
   "outputs": [
    {
     "data": {
      "text/plain": [
       "t    532541\n",
       "f    425949\n",
       "Name: available, dtype: int64"
      ]
     },
     "execution_count": 321,
     "metadata": {},
     "output_type": "execute_result"
    }
   ],
   "source": [
    "#Check Values of 'Available column'\n",
    "mod_calendar_data['available'].value_counts()"
   ]
  },
  {
   "cell_type": "code",
   "execution_count": 322,
   "id": "aa2f2d0a",
   "metadata": {},
   "outputs": [
    {
     "data": {
      "text/plain": [
       "1    532541\n",
       "0    425949\n",
       "Name: available, dtype: int64"
      ]
     },
     "execution_count": 322,
     "metadata": {},
     "output_type": "execute_result"
    }
   ],
   "source": [
    "#Replace the false and true values with 0 and 1\n",
    "mod_calendar_data['available'] = mod_calendar_data['available'].replace(['f', 't'],[0, 1])\n",
    "\n",
    "#Confirm available are now integers\n",
    "mod_calendar_data['available'].value_counts()"
   ]
  },
  {
   "cell_type": "code",
   "execution_count": 323,
   "id": "a440d5c4",
   "metadata": {},
   "outputs": [
    {
     "name": "stdout",
     "output_type": "stream",
     "text": [
      "<class 'pandas.core.frame.DataFrame'>\n",
      "RangeIndex: 958490 entries, 0 to 958489\n",
      "Data columns (total 7 columns):\n",
      " #   Column          Non-Null Count   Dtype         \n",
      "---  ------          --------------   -----         \n",
      " 0   listing_id      958490 non-null  int64         \n",
      " 1   date            958490 non-null  datetime64[ns]\n",
      " 2   available       958490 non-null  int64         \n",
      " 3   price           958319 non-null  object        \n",
      " 4   adjusted_price  958319 non-null  object        \n",
      " 5   minimum_nights  958490 non-null  int64         \n",
      " 6   maximum_nights  958490 non-null  int64         \n",
      "dtypes: datetime64[ns](1), int64(4), object(2)\n",
      "memory usage: 51.2+ MB\n"
     ]
    }
   ],
   "source": [
    "mod_calendar_data.info()"
   ]
  },
  {
   "cell_type": "code",
   "execution_count": 324,
   "id": "f566d697",
   "metadata": {},
   "outputs": [
    {
     "data": {
      "text/plain": [
       "$125.00      29854\n",
       "$150.00      24356\n",
       "$99.00       19492\n",
       "$95.00       19240\n",
       "$250.00      16814\n",
       "             ...  \n",
       "$1,391.00        1\n",
       "$1,304.00        1\n",
       "$1,711.00        1\n",
       "$2,445.00        1\n",
       "$1,322.00        1\n",
       "Name: price, Length: 2100, dtype: int64"
      ]
     },
     "execution_count": 324,
     "metadata": {},
     "output_type": "execute_result"
    }
   ],
   "source": [
    "mod_calendar_data['price'].value_counts()"
   ]
  },
  {
   "cell_type": "code",
   "execution_count": 325,
   "id": "cdc3c3ce",
   "metadata": {},
   "outputs": [
    {
     "data": {
      "text/plain": [
       "171"
      ]
     },
     "execution_count": 325,
     "metadata": {},
     "output_type": "execute_result"
    }
   ],
   "source": [
    "mod_calendar_data['price'].isna().sum()"
   ]
  },
  {
   "cell_type": "code",
   "execution_count": 326,
   "id": "96c4f7b2",
   "metadata": {},
   "outputs": [
    {
     "data": {
      "text/plain": [
       "$125.00      28413\n",
       "$150.00      24264\n",
       "$99.00       19561\n",
       "$95.00       19077\n",
       "$250.00      16475\n",
       "             ...  \n",
       "$1,565.00        1\n",
       "$1,166.00        1\n",
       "$1,728.00        1\n",
       "$1,688.00        1\n",
       "$1,322.00        1\n",
       "Name: adjusted_price, Length: 2097, dtype: int64"
      ]
     },
     "execution_count": 326,
     "metadata": {},
     "output_type": "execute_result"
    }
   ],
   "source": [
    "mod_calendar_data['adjusted_price'].value_counts()"
   ]
  },
  {
   "cell_type": "code",
   "execution_count": 327,
   "id": "1d970964",
   "metadata": {},
   "outputs": [
    {
     "data": {
      "text/plain": [
       "47732580    171\n",
       "Name: listing_id, dtype: int64"
      ]
     },
     "execution_count": 327,
     "metadata": {},
     "output_type": "execute_result"
    }
   ],
   "source": [
    "nan_cols = mod_calendar_data[mod_calendar_data['price'].isna()]\n",
    "nan_cols['listing_id'].value_counts()"
   ]
  },
  {
   "cell_type": "code",
   "execution_count": 328,
   "id": "2041d664",
   "metadata": {},
   "outputs": [
    {
     "data": {
      "text/plain": [
       "0"
      ]
     },
     "execution_count": 328,
     "metadata": {},
     "output_type": "execute_result"
    }
   ],
   "source": [
    "bnb_to_drop = mod_calendar_data[(mod_calendar_data['listing_id'] == 47732580)].index\n",
    "mod_calendar_data = mod_calendar_data.drop(bnb_to_drop)\n",
    "mod_calendar_data['price'].isna().sum()"
   ]
  },
  {
   "cell_type": "code",
   "execution_count": 329,
   "id": "9271fc97",
   "metadata": {},
   "outputs": [
    {
     "data": {
      "text/plain": [
       "0          $93.00\n",
       "1         $156.00\n",
       "2         $156.00\n",
       "3         $135.00\n",
       "4         $135.00\n",
       "           ...   \n",
       "958485    $807.00\n",
       "958486    $718.00\n",
       "958487    $706.00\n",
       "958488    $696.00\n",
       "958489    $687.00\n",
       "Name: price, Length: 958125, dtype: object"
      ]
     },
     "execution_count": 329,
     "metadata": {},
     "output_type": "execute_result"
    }
   ],
   "source": [
    "mod_calendar_data['price']"
   ]
  },
  {
   "cell_type": "code",
   "execution_count": 330,
   "id": "dbe80b22",
   "metadata": {},
   "outputs": [
    {
     "name": "stderr",
     "output_type": "stream",
     "text": [
      "/var/folders/vj/wwng1wrx4433kjdgg3pdcmbc0000gn/T/ipykernel_7764/3964135494.py:5: FutureWarning: The default value of regex will change from True to False in a future version. In addition, single character regular expressions will *not* be treated as literal strings when regex=True.\n",
      "  mod_calendar_data['daily_price'] = mod_calendar_data['daily_price'].str.replace('$', '')\n"
     ]
    },
    {
     "data": {
      "text/html": [
       "<div>\n",
       "<style scoped>\n",
       "    .dataframe tbody tr th:only-of-type {\n",
       "        vertical-align: middle;\n",
       "    }\n",
       "\n",
       "    .dataframe tbody tr th {\n",
       "        vertical-align: top;\n",
       "    }\n",
       "\n",
       "    .dataframe thead th {\n",
       "        text-align: right;\n",
       "    }\n",
       "</style>\n",
       "<table border=\"1\" class=\"dataframe\">\n",
       "  <thead>\n",
       "    <tr style=\"text-align: right;\">\n",
       "      <th></th>\n",
       "      <th>listing_id</th>\n",
       "      <th>daily_price</th>\n",
       "      <th>date</th>\n",
       "      <th>available</th>\n",
       "      <th>minimum_nights</th>\n",
       "      <th>maximum_nights</th>\n",
       "    </tr>\n",
       "  </thead>\n",
       "  <tbody>\n",
       "    <tr>\n",
       "      <th>0</th>\n",
       "      <td>881707</td>\n",
       "      <td>93</td>\n",
       "      <td>2021-12-15</td>\n",
       "      <td>0</td>\n",
       "      <td>1</td>\n",
       "      <td>1125</td>\n",
       "    </tr>\n",
       "    <tr>\n",
       "      <th>1</th>\n",
       "      <td>910737</td>\n",
       "      <td>156</td>\n",
       "      <td>2021-12-15</td>\n",
       "      <td>1</td>\n",
       "      <td>2</td>\n",
       "      <td>1125</td>\n",
       "    </tr>\n",
       "    <tr>\n",
       "      <th>2</th>\n",
       "      <td>910737</td>\n",
       "      <td>156</td>\n",
       "      <td>2021-12-16</td>\n",
       "      <td>1</td>\n",
       "      <td>2</td>\n",
       "      <td>1125</td>\n",
       "    </tr>\n",
       "    <tr>\n",
       "      <th>3</th>\n",
       "      <td>910737</td>\n",
       "      <td>135</td>\n",
       "      <td>2021-12-17</td>\n",
       "      <td>0</td>\n",
       "      <td>2</td>\n",
       "      <td>1125</td>\n",
       "    </tr>\n",
       "    <tr>\n",
       "      <th>4</th>\n",
       "      <td>910737</td>\n",
       "      <td>135</td>\n",
       "      <td>2021-12-18</td>\n",
       "      <td>0</td>\n",
       "      <td>2</td>\n",
       "      <td>1125</td>\n",
       "    </tr>\n",
       "    <tr>\n",
       "      <th>...</th>\n",
       "      <td>...</td>\n",
       "      <td>...</td>\n",
       "      <td>...</td>\n",
       "      <td>...</td>\n",
       "      <td>...</td>\n",
       "      <td>...</td>\n",
       "    </tr>\n",
       "    <tr>\n",
       "      <th>958485</th>\n",
       "      <td>51875440</td>\n",
       "      <td>807</td>\n",
       "      <td>2022-12-10</td>\n",
       "      <td>1</td>\n",
       "      <td>5</td>\n",
       "      <td>365</td>\n",
       "    </tr>\n",
       "    <tr>\n",
       "      <th>958486</th>\n",
       "      <td>51875440</td>\n",
       "      <td>718</td>\n",
       "      <td>2022-12-11</td>\n",
       "      <td>1</td>\n",
       "      <td>5</td>\n",
       "      <td>365</td>\n",
       "    </tr>\n",
       "    <tr>\n",
       "      <th>958487</th>\n",
       "      <td>51875440</td>\n",
       "      <td>706</td>\n",
       "      <td>2022-12-12</td>\n",
       "      <td>1</td>\n",
       "      <td>5</td>\n",
       "      <td>365</td>\n",
       "    </tr>\n",
       "    <tr>\n",
       "      <th>958488</th>\n",
       "      <td>51875440</td>\n",
       "      <td>696</td>\n",
       "      <td>2022-12-13</td>\n",
       "      <td>1</td>\n",
       "      <td>5</td>\n",
       "      <td>365</td>\n",
       "    </tr>\n",
       "    <tr>\n",
       "      <th>958489</th>\n",
       "      <td>51875440</td>\n",
       "      <td>687</td>\n",
       "      <td>2022-12-14</td>\n",
       "      <td>1</td>\n",
       "      <td>5</td>\n",
       "      <td>365</td>\n",
       "    </tr>\n",
       "  </tbody>\n",
       "</table>\n",
       "<p>958125 rows × 6 columns</p>\n",
       "</div>"
      ],
      "text/plain": [
       "        listing_id  daily_price       date  available  minimum_nights  \\\n",
       "0           881707           93 2021-12-15          0               1   \n",
       "1           910737          156 2021-12-15          1               2   \n",
       "2           910737          156 2021-12-16          1               2   \n",
       "3           910737          135 2021-12-17          0               2   \n",
       "4           910737          135 2021-12-18          0               2   \n",
       "...            ...          ...        ...        ...             ...   \n",
       "958485    51875440          807 2022-12-10          1               5   \n",
       "958486    51875440          718 2022-12-11          1               5   \n",
       "958487    51875440          706 2022-12-12          1               5   \n",
       "958488    51875440          696 2022-12-13          1               5   \n",
       "958489    51875440          687 2022-12-14          1               5   \n",
       "\n",
       "        maximum_nights  \n",
       "0                 1125  \n",
       "1                 1125  \n",
       "2                 1125  \n",
       "3                 1125  \n",
       "4                 1125  \n",
       "...                ...  \n",
       "958485             365  \n",
       "958486             365  \n",
       "958487             365  \n",
       "958488             365  \n",
       "958489             365  \n",
       "\n",
       "[958125 rows x 6 columns]"
      ]
     },
     "execution_count": 330,
     "metadata": {},
     "output_type": "execute_result"
    }
   ],
   "source": [
    "test_price_df = mod_calendar_data['price'].str.split(\".\", expand=True)\n",
    "test_price_df = test_price_df.rename(columns = {0 : 'daily_price'})\n",
    "test_price_df = test_price_df.drop(labels = [1], axis = 1)\n",
    "mod_calendar_data = test_price_df.join(mod_calendar_data, how = 'left')\n",
    "mod_calendar_data['daily_price'] = mod_calendar_data['daily_price'].str.replace('$', '')\n",
    "mod_calendar_data['daily_price'] = mod_calendar_data['daily_price'].str.replace(',', '')\n",
    "mod_calendar_data['daily_price'] = mod_calendar_data['daily_price'].astype({'daily_price':'int'})\n",
    "mod_calendar_data = mod_calendar_data.drop(labels = ['adjusted_price', 'price'], axis = 1)\n",
    "\n",
    "id_to_move = mod_calendar_data.pop('listing_id')\n",
    "mod_calendar_data.insert(0, 'listing_id', id_to_move)\n",
    "mod_calendar_data"
   ]
  },
  {
   "cell_type": "code",
   "execution_count": 331,
   "id": "06c90962",
   "metadata": {},
   "outputs": [
    {
     "name": "stdout",
     "output_type": "stream",
     "text": [
      "<class 'pandas.core.frame.DataFrame'>\n",
      "Int64Index: 958125 entries, 0 to 958489\n",
      "Data columns (total 6 columns):\n",
      " #   Column          Non-Null Count   Dtype         \n",
      "---  ------          --------------   -----         \n",
      " 0   listing_id      958125 non-null  int64         \n",
      " 1   daily_price     958125 non-null  int64         \n",
      " 2   date            958125 non-null  datetime64[ns]\n",
      " 3   available       958125 non-null  int64         \n",
      " 4   minimum_nights  958125 non-null  int64         \n",
      " 5   maximum_nights  958125 non-null  int64         \n",
      "dtypes: datetime64[ns](1), int64(5)\n",
      "memory usage: 83.4 MB\n"
     ]
    }
   ],
   "source": [
    "mod_calendar_data.info()"
   ]
  },
  {
   "cell_type": "code",
   "execution_count": 332,
   "id": "df273c6a",
   "metadata": {},
   "outputs": [],
   "source": [
    "#For purposes of this project/the stakeholder, we will drop the adjusted avail, price, min nights, max nights\n",
    "mod_calendar_data = mod_calendar_data.drop(['available', 'minimum_nights', 'maximum_nights'],\n",
    "                                          axis = 1)"
   ]
  },
  {
   "cell_type": "code",
   "execution_count": 333,
   "id": "e907b37d",
   "metadata": {},
   "outputs": [
    {
     "name": "stdout",
     "output_type": "stream",
     "text": [
      "<class 'pandas.core.frame.DataFrame'>\n",
      "Int64Index: 958125 entries, 0 to 958489\n",
      "Data columns (total 3 columns):\n",
      " #   Column       Non-Null Count   Dtype         \n",
      "---  ------       --------------   -----         \n",
      " 0   listing_id   958125 non-null  int64         \n",
      " 1   daily_price  958125 non-null  int64         \n",
      " 2   date         958125 non-null  datetime64[ns]\n",
      "dtypes: datetime64[ns](1), int64(2)\n",
      "memory usage: 61.5 MB\n"
     ]
    }
   ],
   "source": [
    "#Check all columns are integer types\n",
    "mod_calendar_data.info()"
   ]
  },
  {
   "cell_type": "code",
   "execution_count": 334,
   "id": "cc1793d3",
   "metadata": {},
   "outputs": [],
   "source": [
    "# mod_calendar_data_id_avail = mod_calendar_data.groupby(['listing_id']).sum()\n",
    "# mod_calendar_data_id_avail = mod_calendar_data_id_avail.reset_index()\n",
    "# mod_calendar_data_id_avail = mod_calendar_data_id_avail.drop(['price'], axis = 1)\n",
    "# mod_calendar_data_id_avail['perc_year_avail'] = mod_calendar_data_id_avail['available'] / 365\n",
    "# mod_calendar_data_id_avail = mod_calendar_data_id_avail.drop(['available'], axis = 1)\n",
    "# mod_calendar_data_id_avail"
   ]
  },
  {
   "cell_type": "code",
   "execution_count": 335,
   "id": "96afcc98",
   "metadata": {},
   "outputs": [],
   "source": [
    "# mod_calendar_data_id_avail.info()"
   ]
  },
  {
   "cell_type": "markdown",
   "id": "174f4041",
   "metadata": {},
   "source": [
    "## Listings Data - 2022"
   ]
  },
  {
   "cell_type": "code",
   "execution_count": 336,
   "id": "50c4198b",
   "metadata": {},
   "outputs": [
    {
     "data": {
      "text/html": [
       "<div>\n",
       "<style scoped>\n",
       "    .dataframe tbody tr th:only-of-type {\n",
       "        vertical-align: middle;\n",
       "    }\n",
       "\n",
       "    .dataframe tbody tr th {\n",
       "        vertical-align: top;\n",
       "    }\n",
       "\n",
       "    .dataframe thead th {\n",
       "        text-align: right;\n",
       "    }\n",
       "</style>\n",
       "<table border=\"1\" class=\"dataframe\">\n",
       "  <thead>\n",
       "    <tr style=\"text-align: right;\">\n",
       "      <th></th>\n",
       "      <th>id</th>\n",
       "      <th>listing_url</th>\n",
       "      <th>scrape_id</th>\n",
       "      <th>last_scraped</th>\n",
       "      <th>name</th>\n",
       "      <th>description</th>\n",
       "      <th>neighborhood_overview</th>\n",
       "      <th>picture_url</th>\n",
       "      <th>host_id</th>\n",
       "      <th>host_url</th>\n",
       "      <th>...</th>\n",
       "      <th>review_scores_communication</th>\n",
       "      <th>review_scores_location</th>\n",
       "      <th>review_scores_value</th>\n",
       "      <th>license</th>\n",
       "      <th>instant_bookable</th>\n",
       "      <th>calculated_host_listings_count</th>\n",
       "      <th>calculated_host_listings_count_entire_homes</th>\n",
       "      <th>calculated_host_listings_count_private_rooms</th>\n",
       "      <th>calculated_host_listings_count_shared_rooms</th>\n",
       "      <th>reviews_per_month</th>\n",
       "    </tr>\n",
       "  </thead>\n",
       "  <tbody>\n",
       "    <tr>\n",
       "      <th>0</th>\n",
       "      <td>108061</td>\n",
       "      <td>https://www.airbnb.com/rooms/108061</td>\n",
       "      <td>20211215062309</td>\n",
       "      <td>2021-12-15</td>\n",
       "      <td>Walk to stores/parks/downtown. Fenced yard/Pet...</td>\n",
       "      <td>Walk to town in ten minutes! Monthly rental in...</td>\n",
       "      <td>I love my neighborhood! Its friendly, easy-goi...</td>\n",
       "      <td>https://a0.muscache.com/pictures/41011975/0cdf...</td>\n",
       "      <td>320564</td>\n",
       "      <td>https://www.airbnb.com/users/show/320564</td>\n",
       "      <td>...</td>\n",
       "      <td>4.79</td>\n",
       "      <td>4.84</td>\n",
       "      <td>4.48</td>\n",
       "      <td>NaN</td>\n",
       "      <td>f</td>\n",
       "      <td>2</td>\n",
       "      <td>2</td>\n",
       "      <td>0</td>\n",
       "      <td>0</td>\n",
       "      <td>0.71</td>\n",
       "    </tr>\n",
       "    <tr>\n",
       "      <th>1</th>\n",
       "      <td>155305</td>\n",
       "      <td>https://www.airbnb.com/rooms/155305</td>\n",
       "      <td>20211215062309</td>\n",
       "      <td>2021-12-15</td>\n",
       "      <td>Cottage! BonPaul + Sharky's Hostel</td>\n",
       "      <td>&lt;b&gt;The space&lt;/b&gt;&lt;br /&gt;Private cottage located ...</td>\n",
       "      <td>We are within easy walk of pubs, breweries, mu...</td>\n",
       "      <td>https://a0.muscache.com/pictures/8880711/cf38d...</td>\n",
       "      <td>746673</td>\n",
       "      <td>https://www.airbnb.com/users/show/746673</td>\n",
       "      <td>...</td>\n",
       "      <td>4.76</td>\n",
       "      <td>4.93</td>\n",
       "      <td>4.53</td>\n",
       "      <td>NaN</td>\n",
       "      <td>t</td>\n",
       "      <td>7</td>\n",
       "      <td>1</td>\n",
       "      <td>2</td>\n",
       "      <td>4</td>\n",
       "      <td>2.75</td>\n",
       "    </tr>\n",
       "    <tr>\n",
       "      <th>2</th>\n",
       "      <td>156805</td>\n",
       "      <td>https://www.airbnb.com/rooms/156805</td>\n",
       "      <td>20211215062309</td>\n",
       "      <td>2021-12-15</td>\n",
       "      <td>Private Room \"Ader\" at BPS Hostel</td>\n",
       "      <td>&lt;b&gt;The space&lt;/b&gt;&lt;br /&gt;Private Rooms at Bon Pau...</td>\n",
       "      <td>Easy walk to pubs, cafes, bakery, breweries, l...</td>\n",
       "      <td>https://a0.muscache.com/pictures/23447d55-fa7e...</td>\n",
       "      <td>746673</td>\n",
       "      <td>https://www.airbnb.com/users/show/746673</td>\n",
       "      <td>...</td>\n",
       "      <td>4.61</td>\n",
       "      <td>4.84</td>\n",
       "      <td>4.46</td>\n",
       "      <td>NaN</td>\n",
       "      <td>t</td>\n",
       "      <td>7</td>\n",
       "      <td>1</td>\n",
       "      <td>2</td>\n",
       "      <td>4</td>\n",
       "      <td>0.54</td>\n",
       "    </tr>\n",
       "    <tr>\n",
       "      <th>3</th>\n",
       "      <td>156926</td>\n",
       "      <td>https://www.airbnb.com/rooms/156926</td>\n",
       "      <td>20211215062309</td>\n",
       "      <td>2021-12-15</td>\n",
       "      <td>Mixed Dorm \"Top Bunk #1\" at BPS Hostel</td>\n",
       "      <td>This is a top bunk in the mixed dorm room&lt;br /...</td>\n",
       "      <td>NaN</td>\n",
       "      <td>https://a0.muscache.com/pictures/98f4e655-c4d6...</td>\n",
       "      <td>746673</td>\n",
       "      <td>https://www.airbnb.com/users/show/746673</td>\n",
       "      <td>...</td>\n",
       "      <td>4.80</td>\n",
       "      <td>4.78</td>\n",
       "      <td>4.78</td>\n",
       "      <td>NaN</td>\n",
       "      <td>t</td>\n",
       "      <td>7</td>\n",
       "      <td>1</td>\n",
       "      <td>2</td>\n",
       "      <td>4</td>\n",
       "      <td>2.36</td>\n",
       "    </tr>\n",
       "    <tr>\n",
       "      <th>4</th>\n",
       "      <td>160594</td>\n",
       "      <td>https://www.airbnb.com/rooms/160594</td>\n",
       "      <td>20211215062309</td>\n",
       "      <td>2021-12-15</td>\n",
       "      <td>Historic Grove Park</td>\n",
       "      <td>Come enjoy the beautiful Grove Park neighborho...</td>\n",
       "      <td>NaN</td>\n",
       "      <td>https://a0.muscache.com/pictures/92433837/d340...</td>\n",
       "      <td>769252</td>\n",
       "      <td>https://www.airbnb.com/users/show/769252</td>\n",
       "      <td>...</td>\n",
       "      <td>4.88</td>\n",
       "      <td>4.90</td>\n",
       "      <td>4.85</td>\n",
       "      <td>NaN</td>\n",
       "      <td>f</td>\n",
       "      <td>1</td>\n",
       "      <td>0</td>\n",
       "      <td>1</td>\n",
       "      <td>0</td>\n",
       "      <td>0.46</td>\n",
       "    </tr>\n",
       "  </tbody>\n",
       "</table>\n",
       "<p>5 rows × 74 columns</p>\n",
       "</div>"
      ],
      "text/plain": [
       "       id                          listing_url       scrape_id last_scraped  \\\n",
       "0  108061  https://www.airbnb.com/rooms/108061  20211215062309   2021-12-15   \n",
       "1  155305  https://www.airbnb.com/rooms/155305  20211215062309   2021-12-15   \n",
       "2  156805  https://www.airbnb.com/rooms/156805  20211215062309   2021-12-15   \n",
       "3  156926  https://www.airbnb.com/rooms/156926  20211215062309   2021-12-15   \n",
       "4  160594  https://www.airbnb.com/rooms/160594  20211215062309   2021-12-15   \n",
       "\n",
       "                                                name  \\\n",
       "0  Walk to stores/parks/downtown. Fenced yard/Pet...   \n",
       "1                 Cottage! BonPaul + Sharky's Hostel   \n",
       "2                  Private Room \"Ader\" at BPS Hostel   \n",
       "3             Mixed Dorm \"Top Bunk #1\" at BPS Hostel   \n",
       "4                                Historic Grove Park   \n",
       "\n",
       "                                         description  \\\n",
       "0  Walk to town in ten minutes! Monthly rental in...   \n",
       "1  <b>The space</b><br />Private cottage located ...   \n",
       "2  <b>The space</b><br />Private Rooms at Bon Pau...   \n",
       "3  This is a top bunk in the mixed dorm room<br /...   \n",
       "4  Come enjoy the beautiful Grove Park neighborho...   \n",
       "\n",
       "                               neighborhood_overview  \\\n",
       "0  I love my neighborhood! Its friendly, easy-goi...   \n",
       "1  We are within easy walk of pubs, breweries, mu...   \n",
       "2  Easy walk to pubs, cafes, bakery, breweries, l...   \n",
       "3                                                NaN   \n",
       "4                                                NaN   \n",
       "\n",
       "                                         picture_url  host_id  \\\n",
       "0  https://a0.muscache.com/pictures/41011975/0cdf...   320564   \n",
       "1  https://a0.muscache.com/pictures/8880711/cf38d...   746673   \n",
       "2  https://a0.muscache.com/pictures/23447d55-fa7e...   746673   \n",
       "3  https://a0.muscache.com/pictures/98f4e655-c4d6...   746673   \n",
       "4  https://a0.muscache.com/pictures/92433837/d340...   769252   \n",
       "\n",
       "                                   host_url  ... review_scores_communication  \\\n",
       "0  https://www.airbnb.com/users/show/320564  ...                        4.79   \n",
       "1  https://www.airbnb.com/users/show/746673  ...                        4.76   \n",
       "2  https://www.airbnb.com/users/show/746673  ...                        4.61   \n",
       "3  https://www.airbnb.com/users/show/746673  ...                        4.80   \n",
       "4  https://www.airbnb.com/users/show/769252  ...                        4.88   \n",
       "\n",
       "  review_scores_location review_scores_value license instant_bookable  \\\n",
       "0                   4.84                4.48     NaN                f   \n",
       "1                   4.93                4.53     NaN                t   \n",
       "2                   4.84                4.46     NaN                t   \n",
       "3                   4.78                4.78     NaN                t   \n",
       "4                   4.90                4.85     NaN                f   \n",
       "\n",
       "  calculated_host_listings_count calculated_host_listings_count_entire_homes  \\\n",
       "0                              2                                           2   \n",
       "1                              7                                           1   \n",
       "2                              7                                           1   \n",
       "3                              7                                           1   \n",
       "4                              1                                           0   \n",
       "\n",
       "  calculated_host_listings_count_private_rooms  \\\n",
       "0                                            0   \n",
       "1                                            2   \n",
       "2                                            2   \n",
       "3                                            2   \n",
       "4                                            1   \n",
       "\n",
       "  calculated_host_listings_count_shared_rooms reviews_per_month  \n",
       "0                                           0              0.71  \n",
       "1                                           4              2.75  \n",
       "2                                           4              0.54  \n",
       "3                                           4              2.36  \n",
       "4                                           0              0.46  \n",
       "\n",
       "[5 rows x 74 columns]"
      ]
     },
     "execution_count": 336,
     "metadata": {},
     "output_type": "execute_result"
    }
   ],
   "source": [
    "raw_listings_data = pd.read_csv('../Data/AirBnB/Asheville/2021/asheville_listings_2021.csv')\n",
    "raw_listings_data.head()"
   ]
  },
  {
   "cell_type": "code",
   "execution_count": 337,
   "id": "5a30e40d",
   "metadata": {},
   "outputs": [
    {
     "name": "stdout",
     "output_type": "stream",
     "text": [
      "<class 'pandas.core.frame.DataFrame'>\n",
      "RangeIndex: 2626 entries, 0 to 2625\n",
      "Data columns (total 74 columns):\n",
      " #   Column                                        Non-Null Count  Dtype  \n",
      "---  ------                                        --------------  -----  \n",
      " 0   id                                            2626 non-null   int64  \n",
      " 1   listing_url                                   2626 non-null   object \n",
      " 2   scrape_id                                     2626 non-null   int64  \n",
      " 3   last_scraped                                  2626 non-null   object \n",
      " 4   name                                          2626 non-null   object \n",
      " 5   description                                   2621 non-null   object \n",
      " 6   neighborhood_overview                         2040 non-null   object \n",
      " 7   picture_url                                   2626 non-null   object \n",
      " 8   host_id                                       2626 non-null   int64  \n",
      " 9   host_url                                      2626 non-null   object \n",
      " 10  host_name                                     2626 non-null   object \n",
      " 11  host_since                                    2626 non-null   object \n",
      " 12  host_location                                 2622 non-null   object \n",
      " 13  host_about                                    1744 non-null   object \n",
      " 14  host_response_time                            2165 non-null   object \n",
      " 15  host_response_rate                            2165 non-null   object \n",
      " 16  host_acceptance_rate                          2249 non-null   object \n",
      " 17  host_is_superhost                             2626 non-null   object \n",
      " 18  host_thumbnail_url                            2626 non-null   object \n",
      " 19  host_picture_url                              2626 non-null   object \n",
      " 20  host_neighbourhood                            658 non-null    object \n",
      " 21  host_listings_count                           2626 non-null   int64  \n",
      " 22  host_total_listings_count                     2626 non-null   int64  \n",
      " 23  host_verifications                            2626 non-null   object \n",
      " 24  host_has_profile_pic                          2626 non-null   object \n",
      " 25  host_identity_verified                        2626 non-null   object \n",
      " 26  neighbourhood                                 2041 non-null   object \n",
      " 27  neighbourhood_cleansed                        2626 non-null   int64  \n",
      " 28  neighbourhood_group_cleansed                  0 non-null      float64\n",
      " 29  latitude                                      2626 non-null   float64\n",
      " 30  longitude                                     2626 non-null   float64\n",
      " 31  property_type                                 2626 non-null   object \n",
      " 32  room_type                                     2626 non-null   object \n",
      " 33  accommodates                                  2626 non-null   int64  \n",
      " 34  bathrooms                                     0 non-null      float64\n",
      " 35  bathrooms_text                                2625 non-null   object \n",
      " 36  bedrooms                                      2463 non-null   float64\n",
      " 37  beds                                          2558 non-null   float64\n",
      " 38  amenities                                     2626 non-null   object \n",
      " 39  price                                         2626 non-null   object \n",
      " 40  minimum_nights                                2626 non-null   int64  \n",
      " 41  maximum_nights                                2626 non-null   int64  \n",
      " 42  minimum_minimum_nights                        2626 non-null   int64  \n",
      " 43  maximum_minimum_nights                        2626 non-null   int64  \n",
      " 44  minimum_maximum_nights                        2626 non-null   int64  \n",
      " 45  maximum_maximum_nights                        2626 non-null   int64  \n",
      " 46  minimum_nights_avg_ntm                        2626 non-null   float64\n",
      " 47  maximum_nights_avg_ntm                        2626 non-null   float64\n",
      " 48  calendar_updated                              0 non-null      float64\n",
      " 49  has_availability                              2626 non-null   object \n",
      " 50  availability_30                               2626 non-null   int64  \n",
      " 51  availability_60                               2626 non-null   int64  \n",
      " 52  availability_90                               2626 non-null   int64  \n",
      " 53  availability_365                              2626 non-null   int64  \n",
      " 54  calendar_last_scraped                         2626 non-null   object \n",
      " 55  number_of_reviews                             2626 non-null   int64  \n",
      " 56  number_of_reviews_ltm                         2626 non-null   int64  \n",
      " 57  number_of_reviews_l30d                        2626 non-null   int64  \n",
      " 58  first_review                                  2487 non-null   object \n",
      " 59  last_review                                   2487 non-null   object \n",
      " 60  review_scores_rating                          2487 non-null   float64\n",
      " 61  review_scores_accuracy                        2485 non-null   float64\n",
      " 62  review_scores_cleanliness                     2485 non-null   float64\n",
      " 63  review_scores_checkin                         2485 non-null   float64\n",
      " 64  review_scores_communication                   2485 non-null   float64\n",
      " 65  review_scores_location                        2485 non-null   float64\n",
      " 66  review_scores_value                           2485 non-null   float64\n",
      " 67  license                                       0 non-null      float64\n",
      " 68  instant_bookable                              2626 non-null   object \n",
      " 69  calculated_host_listings_count                2626 non-null   int64  \n",
      " 70  calculated_host_listings_count_entire_homes   2626 non-null   int64  \n",
      " 71  calculated_host_listings_count_private_rooms  2626 non-null   int64  \n",
      " 72  calculated_host_listings_count_shared_rooms   2626 non-null   int64  \n",
      " 73  reviews_per_month                             2487 non-null   float64\n",
      "dtypes: float64(18), int64(24), object(32)\n",
      "memory usage: 1.5+ MB\n"
     ]
    }
   ],
   "source": [
    "raw_listings_data.info()"
   ]
  },
  {
   "cell_type": "code",
   "execution_count": 338,
   "id": "ee25b5ef",
   "metadata": {},
   "outputs": [],
   "source": [
    "#Remove irrelevant review columns\n",
    "mod_listing_data = raw_listings_data.drop(labels = ['review_scores_accuracy', \n",
    "                                                    'review_scores_cleanliness', \n",
    "                                                    'review_scores_checkin', \n",
    "                                                    'review_scores_communication', \n",
    "                                                    'review_scores_location',\n",
    "                                                    'calendar_updated', \n",
    "                                                    'license'], axis = 1)"
   ]
  },
  {
   "cell_type": "code",
   "execution_count": 339,
   "id": "5872db1d",
   "metadata": {},
   "outputs": [],
   "source": [
    "#Remove irrelevant host columns\n",
    "mod_listing_data = mod_listing_data.drop(labels = ['host_name', \n",
    "                                                   'host_since', \n",
    "                                                   'host_location', \n",
    "                                                   'host_about', \n",
    "                                                   'host_response_time', \n",
    "                                                   'host_acceptance_rate',\n",
    "                                                   'host_thumbnail_url', \n",
    "                                                   'host_picture_url', \n",
    "                                                   'host_neighbourhood', \n",
    "                                                   'host_listings_count', \n",
    "                                                   'host_total_listings_count', \n",
    "                                                   'host_verifications', \n",
    "                                                   'host_has_profile_pic',\n",
    "                                                   'first_review',\n",
    "                                                   'last_review'], axis = 1)"
   ]
  },
  {
   "cell_type": "code",
   "execution_count": 340,
   "id": "4ce7fa85",
   "metadata": {},
   "outputs": [],
   "source": [
    "#Remove\n",
    "\n",
    "mod_listing_data = mod_listing_data.drop(labels = ['scrape_id',\n",
    "                                                  'last_scraped',\n",
    "                                                  'neighbourhood_cleansed',\n",
    "                                                  'neighbourhood_group_cleansed',\n",
    "                                                  'property_type',\n",
    "                                                  'bathrooms',\n",
    "                                                  'price',\n",
    "                                                   'minimum_minimum_nights',\n",
    "                                                   'maximum_minimum_nights',\n",
    "                                                   'minimum_maximum_nights',\n",
    "                                                   'maximum_maximum_nights',\n",
    "                                                   'minimum_nights_avg_ntm',\n",
    "                                                   'maximum_nights_avg_ntm',\n",
    "                                                   'has_availability',\n",
    "                                                   'availability_30',\n",
    "                                                   'availability_60',\n",
    "                                                   'availability_90',\n",
    "                                                   'availability_365',\n",
    "                                                   'calendar_last_scraped',\n",
    "                                                   'number_of_reviews_ltm',\n",
    "                                                   'number_of_reviews_l30d',\n",
    "                                                   'calculated_host_listings_count',\n",
    "                                                   'calculated_host_listings_count_entire_homes',\n",
    "                                                   'calculated_host_listings_count_private_rooms',\n",
    "                                                   'calculated_host_listings_count_shared_rooms',\n",
    "                                                  'neighborhood_overview',\n",
    "                                                  'reviews_per_month',\n",
    "                                                  'review_scores_value',\n",
    "                                                  'host_response_rate',\n",
    "                                                  'description'], axis = 1)"
   ]
  },
  {
   "cell_type": "code",
   "execution_count": 341,
   "id": "2348b0b9",
   "metadata": {},
   "outputs": [
    {
     "name": "stdout",
     "output_type": "stream",
     "text": [
      "<class 'pandas.core.frame.DataFrame'>\n",
      "RangeIndex: 2626 entries, 0 to 2625\n",
      "Data columns (total 22 columns):\n",
      " #   Column                  Non-Null Count  Dtype  \n",
      "---  ------                  --------------  -----  \n",
      " 0   id                      2626 non-null   int64  \n",
      " 1   listing_url             2626 non-null   object \n",
      " 2   name                    2626 non-null   object \n",
      " 3   picture_url             2626 non-null   object \n",
      " 4   host_id                 2626 non-null   int64  \n",
      " 5   host_url                2626 non-null   object \n",
      " 6   host_is_superhost       2626 non-null   object \n",
      " 7   host_identity_verified  2626 non-null   object \n",
      " 8   neighbourhood           2041 non-null   object \n",
      " 9   latitude                2626 non-null   float64\n",
      " 10  longitude               2626 non-null   float64\n",
      " 11  room_type               2626 non-null   object \n",
      " 12  accommodates            2626 non-null   int64  \n",
      " 13  bathrooms_text          2625 non-null   object \n",
      " 14  bedrooms                2463 non-null   float64\n",
      " 15  beds                    2558 non-null   float64\n",
      " 16  amenities               2626 non-null   object \n",
      " 17  minimum_nights          2626 non-null   int64  \n",
      " 18  maximum_nights          2626 non-null   int64  \n",
      " 19  number_of_reviews       2626 non-null   int64  \n",
      " 20  review_scores_rating    2487 non-null   float64\n",
      " 21  instant_bookable        2626 non-null   object \n",
      "dtypes: float64(5), int64(6), object(11)\n",
      "memory usage: 451.5+ KB\n"
     ]
    }
   ],
   "source": [
    "mod_listing_data.info()"
   ]
  },
  {
   "cell_type": "code",
   "execution_count": 342,
   "id": "dd03d835",
   "metadata": {},
   "outputs": [
    {
     "data": {
      "text/plain": [
       "0"
      ]
     },
     "execution_count": 342,
     "metadata": {},
     "output_type": "execute_result"
    }
   ],
   "source": [
    "#Fill the missing neighborhood data with 'Asheville, North Carolina, United States'\n",
    "mod_listing_data['neighbourhood'] = mod_listing_data['neighbourhood'].fillna('Asheville, North Carolina, United States')\n",
    "mod_listing_data['neighbourhood'].isna().sum()"
   ]
  },
  {
   "cell_type": "code",
   "execution_count": 343,
   "id": "e7002629",
   "metadata": {},
   "outputs": [
    {
     "name": "stdout",
     "output_type": "stream",
     "text": [
      "<class 'pandas.core.frame.DataFrame'>\n",
      "RangeIndex: 2626 entries, 0 to 2625\n",
      "Data columns (total 22 columns):\n",
      " #   Column                  Non-Null Count  Dtype  \n",
      "---  ------                  --------------  -----  \n",
      " 0   id                      2626 non-null   int64  \n",
      " 1   listing_url             2626 non-null   object \n",
      " 2   name                    2626 non-null   object \n",
      " 3   picture_url             2626 non-null   object \n",
      " 4   host_id                 2626 non-null   int64  \n",
      " 5   host_url                2626 non-null   object \n",
      " 6   host_is_superhost       2626 non-null   object \n",
      " 7   host_identity_verified  2626 non-null   object \n",
      " 8   latitude                2626 non-null   float64\n",
      " 9   longitude               2626 non-null   float64\n",
      " 10  room_type               2626 non-null   object \n",
      " 11  accommodates            2626 non-null   int64  \n",
      " 12  bathrooms_text          2625 non-null   object \n",
      " 13  bedrooms                2463 non-null   float64\n",
      " 14  beds                    2558 non-null   float64\n",
      " 15  amenities               2626 non-null   object \n",
      " 16  minimum_nights          2626 non-null   int64  \n",
      " 17  maximum_nights          2626 non-null   int64  \n",
      " 18  number_of_reviews       2626 non-null   int64  \n",
      " 19  review_scores_rating    2487 non-null   float64\n",
      " 20  instant_bookable        2626 non-null   object \n",
      " 21  neighborhood            2626 non-null   object \n",
      "dtypes: float64(5), int64(6), object(11)\n",
      "memory usage: 451.5+ KB\n"
     ]
    }
   ],
   "source": [
    "test_neighbor_df = mod_listing_data['neighbourhood'].str.split(\",\", expand=True)\n",
    "test_neighbor_df = test_neighbor_df.rename(columns = {0 : 'neighborhood'})\n",
    "test_neighbor_df = test_neighbor_df.drop(labels = [1, 2, 3, 4], axis = 1)\n",
    "mod_listing_data = mod_listing_data.join(test_neighbor_df, how = 'outer')\n",
    "mod_listing_data = mod_listing_data.drop(labels = ['neighbourhood'], axis = 1)\n",
    "mod_listing_data.info()"
   ]
  },
  {
   "cell_type": "code",
   "execution_count": 344,
   "id": "430b63ab",
   "metadata": {},
   "outputs": [],
   "source": [
    "mod_listing_data['neighborhood'] = mod_listing_data['neighborhood'].replace(['Ashville'],['Asheville'])\n",
    "\n",
    "neigh_to_drop = mod_listing_data[(mod_listing_data['neighborhood'] == 'Leicester') | \n",
    "                                 (mod_listing_data['neighborhood'] == 'Swannanoa') | \n",
    "                                 (mod_listing_data['neighborhood'] == 'Avery Creek') | \n",
    "                                 (mod_listing_data['neighborhood'] == 'Fairview') |\n",
    "                                 (mod_listing_data['neighborhood'] == 'Limestone') |\n",
    "                                 (mod_listing_data['neighborhood'] == 'Biltmore Forest')].index\n",
    "mod_listing_data = mod_listing_data.drop(neigh_to_drop)"
   ]
  },
  {
   "cell_type": "code",
   "execution_count": 345,
   "id": "1e1196ec",
   "metadata": {},
   "outputs": [],
   "source": [
    "mod_listing_data['neighborhood'] = mod_listing_data['neighborhood'].replace(['Asheville '], 'Asheville')"
   ]
  },
  {
   "cell_type": "code",
   "execution_count": 346,
   "id": "5ae26234",
   "metadata": {},
   "outputs": [
    {
     "data": {
      "text/plain": [
       "Asheville    2323\n",
       "Arden         131\n",
       "Woodfin        62\n",
       "Candler        54\n",
       "Fletcher       47\n",
       "Name: neighborhood, dtype: int64"
      ]
     },
     "execution_count": 346,
     "metadata": {},
     "output_type": "execute_result"
    }
   ],
   "source": [
    "mod_listing_data['neighborhood'].value_counts()"
   ]
  },
  {
   "cell_type": "code",
   "execution_count": 347,
   "id": "5e162c60",
   "metadata": {},
   "outputs": [],
   "source": [
    "#Remove rows with no bedrooms data\n",
    "mod_listing_data = mod_listing_data.dropna(subset = ['bedrooms', \n",
    "                                                     'beds', \n",
    "                                                     'review_scores_rating', \n",
    "                                                     'bathrooms_text'], axis = 0)"
   ]
  },
  {
   "cell_type": "code",
   "execution_count": 348,
   "id": "5c2e54eb",
   "metadata": {},
   "outputs": [
    {
     "data": {
      "text/plain": [
       "id                        0\n",
       "listing_url               0\n",
       "name                      0\n",
       "picture_url               0\n",
       "host_id                   0\n",
       "host_url                  0\n",
       "host_is_superhost         0\n",
       "host_identity_verified    0\n",
       "latitude                  0\n",
       "longitude                 0\n",
       "room_type                 0\n",
       "accommodates              0\n",
       "bathrooms_text            0\n",
       "bedrooms                  0\n",
       "beds                      0\n",
       "amenities                 0\n",
       "minimum_nights            0\n",
       "maximum_nights            0\n",
       "number_of_reviews         0\n",
       "review_scores_rating      0\n",
       "instant_bookable          0\n",
       "neighborhood              0\n",
       "dtype: int64"
      ]
     },
     "execution_count": 348,
     "metadata": {},
     "output_type": "execute_result"
    }
   ],
   "source": [
    "mod_listing_data.isna().sum()"
   ]
  },
  {
   "cell_type": "code",
   "execution_count": 349,
   "id": "48981345",
   "metadata": {},
   "outputs": [
    {
     "data": {
      "text/plain": [
       "1    1703\n",
       "0     566\n",
       "Name: host_is_superhost, dtype: int64"
      ]
     },
     "execution_count": 349,
     "metadata": {},
     "output_type": "execute_result"
    }
   ],
   "source": [
    "#Replace the false and true values with 0 and 1\n",
    "mod_listing_data['host_is_superhost'] = mod_listing_data['host_is_superhost'].replace(['f', 't'],[0, 1])\n",
    "mod_listing_data['host_is_superhost'].value_counts()"
   ]
  },
  {
   "cell_type": "code",
   "execution_count": 350,
   "id": "08a86c1c",
   "metadata": {},
   "outputs": [
    {
     "data": {
      "text/plain": [
       "1    1798\n",
       "0     471\n",
       "Name: host_identity_verified, dtype: int64"
      ]
     },
     "execution_count": 350,
     "metadata": {},
     "output_type": "execute_result"
    }
   ],
   "source": [
    "#Replace the false and true values with 0 and 1\n",
    "mod_listing_data['host_identity_verified'] = mod_listing_data['host_identity_verified'].replace(['f', 't'],[0, 1])\n",
    "mod_listing_data['host_identity_verified'].value_counts()"
   ]
  },
  {
   "cell_type": "code",
   "execution_count": 351,
   "id": "a129d551",
   "metadata": {},
   "outputs": [
    {
     "data": {
      "text/plain": [
       "1    1322\n",
       "0     947\n",
       "Name: instant_bookable, dtype: int64"
      ]
     },
     "execution_count": 351,
     "metadata": {},
     "output_type": "execute_result"
    }
   ],
   "source": [
    "#Replace the false and true values with 0 and 1\n",
    "mod_listing_data['instant_bookable'] = mod_listing_data['instant_bookable'].replace(['f', 't'],[0, 1])\n",
    "mod_listing_data['instant_bookable'].value_counts()"
   ]
  },
  {
   "cell_type": "code",
   "execution_count": 352,
   "id": "68275516",
   "metadata": {},
   "outputs": [
    {
     "data": {
      "text/plain": [
       "Asheville    2008\n",
       "Arden         117\n",
       "Woodfin        54\n",
       "Candler        47\n",
       "Fletcher       43\n",
       "Name: neighborhood, dtype: int64"
      ]
     },
     "execution_count": 352,
     "metadata": {},
     "output_type": "execute_result"
    }
   ],
   "source": [
    "mod_listing_data['neighborhood'].value_counts()"
   ]
  },
  {
   "cell_type": "code",
   "execution_count": 353,
   "id": "1c38bfc8",
   "metadata": {},
   "outputs": [
    {
     "data": {
      "text/plain": [
       "1 bath              1122\n",
       "2 baths              481\n",
       "1 private bath       201\n",
       "3 baths              102\n",
       "2.5 baths            100\n",
       "1.5 baths             92\n",
       "1 shared bath         67\n",
       "3.5 baths             32\n",
       "4 baths               26\n",
       "1.5 shared baths       8\n",
       "4.5 baths              8\n",
       "2 shared baths         7\n",
       "5 baths                7\n",
       "2.5 shared baths       6\n",
       "6 baths                4\n",
       "5.5 baths              3\n",
       "0 baths                1\n",
       "7 baths                1\n",
       "8 baths                1\n",
       "Name: bathrooms_text, dtype: int64"
      ]
     },
     "execution_count": 353,
     "metadata": {},
     "output_type": "execute_result"
    }
   ],
   "source": [
    "mod_listing_data['bathrooms_text'].value_counts()"
   ]
  },
  {
   "cell_type": "code",
   "execution_count": 354,
   "id": "a9de09ad",
   "metadata": {},
   "outputs": [
    {
     "data": {
      "text/plain": [
       "1    1322\n",
       "0     947\n",
       "Name: instant_bookable, dtype: int64"
      ]
     },
     "execution_count": 354,
     "metadata": {},
     "output_type": "execute_result"
    }
   ],
   "source": [
    "mod_listing_data['instant_bookable'].value_counts()"
   ]
  },
  {
   "cell_type": "code",
   "execution_count": 355,
   "id": "2bf3693b",
   "metadata": {},
   "outputs": [
    {
     "data": {
      "text/plain": [
       "1.0     779\n",
       "2.0     685\n",
       "3.0     374\n",
       "4.0     196\n",
       "5.0      99\n",
       "6.0      69\n",
       "7.0      27\n",
       "8.0      14\n",
       "9.0       9\n",
       "11.0      6\n",
       "12.0      4\n",
       "10.0      3\n",
       "21.0      2\n",
       "13.0      1\n",
       "15.0      1\n",
       "Name: beds, dtype: int64"
      ]
     },
     "execution_count": 355,
     "metadata": {},
     "output_type": "execute_result"
    }
   ],
   "source": [
    "mod_listing_data['beds'].value_counts()"
   ]
  },
  {
   "cell_type": "code",
   "execution_count": 356,
   "id": "417f7813",
   "metadata": {},
   "outputs": [
    {
     "name": "stdout",
     "output_type": "stream",
     "text": [
      "<class 'pandas.core.frame.DataFrame'>\n",
      "Int64Index: 2269 entries, 0 to 2618\n",
      "Data columns (total 22 columns):\n",
      " #   Column                  Non-Null Count  Dtype  \n",
      "---  ------                  --------------  -----  \n",
      " 0   id                      2269 non-null   int64  \n",
      " 1   listing_url             2269 non-null   object \n",
      " 2   name                    2269 non-null   object \n",
      " 3   picture_url             2269 non-null   object \n",
      " 4   host_id                 2269 non-null   int64  \n",
      " 5   host_url                2269 non-null   object \n",
      " 6   host_is_superhost       2269 non-null   int64  \n",
      " 7   host_identity_verified  2269 non-null   int64  \n",
      " 8   latitude                2269 non-null   float64\n",
      " 9   longitude               2269 non-null   float64\n",
      " 10  room_type               2269 non-null   object \n",
      " 11  accommodates            2269 non-null   int64  \n",
      " 12  bathrooms_text          2269 non-null   object \n",
      " 13  bedrooms                2269 non-null   float64\n",
      " 14  beds                    2269 non-null   float64\n",
      " 15  amenities               2269 non-null   object \n",
      " 16  minimum_nights          2269 non-null   int64  \n",
      " 17  maximum_nights          2269 non-null   int64  \n",
      " 18  number_of_reviews       2269 non-null   int64  \n",
      " 19  review_scores_rating    2269 non-null   float64\n",
      " 20  instant_bookable        2269 non-null   int64  \n",
      " 21  neighborhood            2269 non-null   object \n",
      "dtypes: float64(5), int64(9), object(8)\n",
      "memory usage: 407.7+ KB\n"
     ]
    }
   ],
   "source": [
    "mod_listing_data.info()"
   ]
  },
  {
   "cell_type": "code",
   "execution_count": 357,
   "id": "77a53627",
   "metadata": {},
   "outputs": [
    {
     "data": {
      "text/plain": [
       "0"
      ]
     },
     "execution_count": 357,
     "metadata": {},
     "output_type": "execute_result"
    }
   ],
   "source": [
    "mod_listing_data['bathrooms_text'].isna().sum()"
   ]
  },
  {
   "cell_type": "code",
   "execution_count": 358,
   "id": "83b6ce7b",
   "metadata": {},
   "outputs": [
    {
     "data": {
      "text/plain": [
       "1 bath              1122\n",
       "2 baths              481\n",
       "1 private bath       201\n",
       "3 baths              102\n",
       "2.5 baths            100\n",
       "1.5 baths             92\n",
       "1 shared bath         67\n",
       "3.5 baths             32\n",
       "4 baths               26\n",
       "1.5 shared baths       8\n",
       "4.5 baths              8\n",
       "2 shared baths         7\n",
       "5 baths                7\n",
       "2.5 shared baths       6\n",
       "6 baths                4\n",
       "5.5 baths              3\n",
       "0 baths                1\n",
       "7 baths                1\n",
       "8 baths                1\n",
       "Name: bathrooms_text, dtype: int64"
      ]
     },
     "execution_count": 358,
     "metadata": {},
     "output_type": "execute_result"
    }
   ],
   "source": [
    "mod_listing_data['bathrooms_text'].value_counts()"
   ]
  },
  {
   "cell_type": "code",
   "execution_count": 359,
   "id": "bf0e63bd",
   "metadata": {},
   "outputs": [],
   "source": [
    "mod_listing_data['bathrooms_text'] = mod_listing_data['bathrooms_text'].replace(['Shared half-bath', 'Half-bath', \n",
    "                                                                                'Private half-bath'],\n",
    "                                                                                 [0.5, 0.5, 0.5])"
   ]
  },
  {
   "cell_type": "code",
   "execution_count": 360,
   "id": "8257299d",
   "metadata": {},
   "outputs": [
    {
     "data": {
      "text/plain": [
       "0"
      ]
     },
     "execution_count": 360,
     "metadata": {},
     "output_type": "execute_result"
    }
   ],
   "source": [
    "mod_listing_data['bathrooms_text'].isna().sum()"
   ]
  },
  {
   "cell_type": "code",
   "execution_count": 361,
   "id": "93735805",
   "metadata": {},
   "outputs": [
    {
     "data": {
      "text/plain": [
       "1 bath              1122\n",
       "2 baths              481\n",
       "1 private bath       201\n",
       "3 baths              102\n",
       "2.5 baths            100\n",
       "1.5 baths             92\n",
       "1 shared bath         67\n",
       "3.5 baths             32\n",
       "4 baths               26\n",
       "1.5 shared baths       8\n",
       "4.5 baths              8\n",
       "2 shared baths         7\n",
       "5 baths                7\n",
       "2.5 shared baths       6\n",
       "6 baths                4\n",
       "5.5 baths              3\n",
       "0 baths                1\n",
       "7 baths                1\n",
       "8 baths                1\n",
       "Name: bathrooms_text, dtype: int64"
      ]
     },
     "execution_count": 361,
     "metadata": {},
     "output_type": "execute_result"
    }
   ],
   "source": [
    "mod_listing_data['bathrooms_text'].value_counts()"
   ]
  },
  {
   "cell_type": "code",
   "execution_count": 362,
   "id": "62f37506",
   "metadata": {},
   "outputs": [
    {
     "name": "stdout",
     "output_type": "stream",
     "text": [
      "<class 'pandas.core.frame.DataFrame'>\n",
      "Int64Index: 2269 entries, 0 to 2618\n",
      "Data columns (total 22 columns):\n",
      " #   Column                  Non-Null Count  Dtype  \n",
      "---  ------                  --------------  -----  \n",
      " 0   id                      2269 non-null   int64  \n",
      " 1   listing_url             2269 non-null   object \n",
      " 2   name                    2269 non-null   object \n",
      " 3   picture_url             2269 non-null   object \n",
      " 4   host_id                 2269 non-null   int64  \n",
      " 5   host_url                2269 non-null   object \n",
      " 6   host_is_superhost       2269 non-null   int64  \n",
      " 7   host_identity_verified  2269 non-null   int64  \n",
      " 8   latitude                2269 non-null   float64\n",
      " 9   longitude               2269 non-null   float64\n",
      " 10  room_type               2269 non-null   object \n",
      " 11  accommodates            2269 non-null   int64  \n",
      " 12  bedrooms                2269 non-null   float64\n",
      " 13  beds                    2269 non-null   float64\n",
      " 14  amenities               2269 non-null   object \n",
      " 15  minimum_nights          2269 non-null   int64  \n",
      " 16  maximum_nights          2269 non-null   int64  \n",
      " 17  number_of_reviews       2269 non-null   int64  \n",
      " 18  review_scores_rating    2269 non-null   float64\n",
      " 19  instant_bookable        2269 non-null   int64  \n",
      " 20  neighborhood            2269 non-null   object \n",
      " 21  bathrooms               2269 non-null   float64\n",
      "dtypes: float64(6), int64(9), object(7)\n",
      "memory usage: 472.2+ KB\n"
     ]
    }
   ],
   "source": [
    "# mod_listing_data['bathrooms_text'] = mod_listing_data['bathrooms_text'].str.split(\" \", n = 1, expand = True)\n",
    "\n",
    "test_df = mod_listing_data['bathrooms_text'].str.split(\" \", expand=True)\n",
    "test_df = test_df.rename(columns = {0 : 'bathrooms'})\n",
    "test_df = test_df.drop(labels = [1, 2], axis = 1)\n",
    "mod_listing_data = mod_listing_data.join(test_df, how = 'outer')\n",
    "mod_listing_data = mod_listing_data.drop(labels = ['bathrooms_text'], axis = 1)\n",
    "mod_listing_data['bathrooms'] = mod_listing_data['bathrooms'].fillna(0.5)\n",
    "mod_listing_data['bathrooms'] = pd.to_numeric(mod_listing_data['bathrooms'])\n",
    "mod_listing_data.info()"
   ]
  },
  {
   "cell_type": "code",
   "execution_count": 363,
   "id": "d98b4db1",
   "metadata": {},
   "outputs": [],
   "source": [
    "target_amenities = ['Air conditioning', 'Wifi', 'TV', 'Kitchen', 'Washer', 'Dryer', 'Heating']"
   ]
  },
  {
   "cell_type": "code",
   "execution_count": 364,
   "id": "a2a63251",
   "metadata": {},
   "outputs": [],
   "source": [
    "def add_amenity_column(amenity_name):\n",
    "    mod_listing_data[amenity_name] = mod_listing_data['amenities'].str.contains(amenity_name, regex=False)\n",
    "    mod_listing_data[amenity_name] = mod_listing_data[amenity_name].replace([False, True],[0, 1])"
   ]
  },
  {
   "cell_type": "code",
   "execution_count": 365,
   "id": "90cdad4f",
   "metadata": {},
   "outputs": [],
   "source": [
    "add_amenity_column(target_amenities[0])\n",
    "add_amenity_column(target_amenities[1])\n",
    "add_amenity_column(target_amenities[2])\n",
    "add_amenity_column(target_amenities[3])\n",
    "add_amenity_column(target_amenities[4])\n",
    "add_amenity_column(target_amenities[5])\n",
    "add_amenity_column(target_amenities[6])"
   ]
  },
  {
   "cell_type": "code",
   "execution_count": 366,
   "id": "a75a343a",
   "metadata": {},
   "outputs": [],
   "source": [
    "mod_listing_data = mod_listing_data.drop(['amenities'], axis = 1)"
   ]
  },
  {
   "cell_type": "code",
   "execution_count": 367,
   "id": "7d511a44",
   "metadata": {},
   "outputs": [
    {
     "name": "stdout",
     "output_type": "stream",
     "text": [
      "<class 'pandas.core.frame.DataFrame'>\n",
      "Int64Index: 2269 entries, 0 to 2618\n",
      "Data columns (total 28 columns):\n",
      " #   Column                  Non-Null Count  Dtype  \n",
      "---  ------                  --------------  -----  \n",
      " 0   listing_id              2269 non-null   int64  \n",
      " 1   listing_url             2269 non-null   object \n",
      " 2   name                    2269 non-null   object \n",
      " 3   picture_url             2269 non-null   object \n",
      " 4   host_id                 2269 non-null   int64  \n",
      " 5   host_url                2269 non-null   object \n",
      " 6   host_is_superhost       2269 non-null   int64  \n",
      " 7   host_identity_verified  2269 non-null   int64  \n",
      " 8   latitude                2269 non-null   float64\n",
      " 9   longitude               2269 non-null   float64\n",
      " 10  room_type               2269 non-null   object \n",
      " 11  accommodates            2269 non-null   int64  \n",
      " 12  bedrooms                2269 non-null   float64\n",
      " 13  beds                    2269 non-null   float64\n",
      " 14  minimum_nights          2269 non-null   int64  \n",
      " 15  maximum_nights          2269 non-null   int64  \n",
      " 16  number_of_reviews       2269 non-null   int64  \n",
      " 17  review_scores_rating    2269 non-null   float64\n",
      " 18  instant_bookable        2269 non-null   int64  \n",
      " 19  neighborhood            2269 non-null   object \n",
      " 20  bathrooms               2269 non-null   float64\n",
      " 21  Air conditioning        2269 non-null   int64  \n",
      " 22  Wifi                    2269 non-null   int64  \n",
      " 23  TV                      2269 non-null   int64  \n",
      " 24  Kitchen                 2269 non-null   int64  \n",
      " 25  Washer                  2269 non-null   int64  \n",
      " 26  Dryer                   2269 non-null   int64  \n",
      " 27  Heating                 2269 non-null   int64  \n",
      "dtypes: float64(6), int64(16), object(6)\n",
      "memory usage: 578.6+ KB\n"
     ]
    }
   ],
   "source": [
    "mod_listing_data['listing_id'] = mod_listing_data['id']\n",
    "mod_listing_data = mod_listing_data.drop(['id'], axis = 1)\n",
    "column_to_move = mod_listing_data.pop('listing_id')\n",
    "mod_listing_data.insert(0, 'listing_id', column_to_move)\n",
    "mod_listing_data.info()"
   ]
  },
  {
   "cell_type": "markdown",
   "id": "03a7d8e5",
   "metadata": {},
   "source": [
    "## Combine Calendar Data and Listings Data"
   ]
  },
  {
   "cell_type": "code",
   "execution_count": 368,
   "id": "6c63a3f6",
   "metadata": {},
   "outputs": [
    {
     "data": {
      "text/html": [
       "<div>\n",
       "<style scoped>\n",
       "    .dataframe tbody tr th:only-of-type {\n",
       "        vertical-align: middle;\n",
       "    }\n",
       "\n",
       "    .dataframe tbody tr th {\n",
       "        vertical-align: top;\n",
       "    }\n",
       "\n",
       "    .dataframe thead th {\n",
       "        text-align: right;\n",
       "    }\n",
       "</style>\n",
       "<table border=\"1\" class=\"dataframe\">\n",
       "  <thead>\n",
       "    <tr style=\"text-align: right;\">\n",
       "      <th></th>\n",
       "      <th>listing_id</th>\n",
       "      <th>daily_price</th>\n",
       "      <th>date</th>\n",
       "    </tr>\n",
       "  </thead>\n",
       "  <tbody>\n",
       "    <tr>\n",
       "      <th>0</th>\n",
       "      <td>881707</td>\n",
       "      <td>93</td>\n",
       "      <td>2021-12-15</td>\n",
       "    </tr>\n",
       "    <tr>\n",
       "      <th>1</th>\n",
       "      <td>910737</td>\n",
       "      <td>156</td>\n",
       "      <td>2021-12-15</td>\n",
       "    </tr>\n",
       "    <tr>\n",
       "      <th>2</th>\n",
       "      <td>910737</td>\n",
       "      <td>156</td>\n",
       "      <td>2021-12-16</td>\n",
       "    </tr>\n",
       "    <tr>\n",
       "      <th>3</th>\n",
       "      <td>910737</td>\n",
       "      <td>135</td>\n",
       "      <td>2021-12-17</td>\n",
       "    </tr>\n",
       "    <tr>\n",
       "      <th>4</th>\n",
       "      <td>910737</td>\n",
       "      <td>135</td>\n",
       "      <td>2021-12-18</td>\n",
       "    </tr>\n",
       "    <tr>\n",
       "      <th>...</th>\n",
       "      <td>...</td>\n",
       "      <td>...</td>\n",
       "      <td>...</td>\n",
       "    </tr>\n",
       "    <tr>\n",
       "      <th>958485</th>\n",
       "      <td>51875440</td>\n",
       "      <td>807</td>\n",
       "      <td>2022-12-10</td>\n",
       "    </tr>\n",
       "    <tr>\n",
       "      <th>958486</th>\n",
       "      <td>51875440</td>\n",
       "      <td>718</td>\n",
       "      <td>2022-12-11</td>\n",
       "    </tr>\n",
       "    <tr>\n",
       "      <th>958487</th>\n",
       "      <td>51875440</td>\n",
       "      <td>706</td>\n",
       "      <td>2022-12-12</td>\n",
       "    </tr>\n",
       "    <tr>\n",
       "      <th>958488</th>\n",
       "      <td>51875440</td>\n",
       "      <td>696</td>\n",
       "      <td>2022-12-13</td>\n",
       "    </tr>\n",
       "    <tr>\n",
       "      <th>958489</th>\n",
       "      <td>51875440</td>\n",
       "      <td>687</td>\n",
       "      <td>2022-12-14</td>\n",
       "    </tr>\n",
       "  </tbody>\n",
       "</table>\n",
       "<p>958125 rows × 3 columns</p>\n",
       "</div>"
      ],
      "text/plain": [
       "        listing_id  daily_price       date\n",
       "0           881707           93 2021-12-15\n",
       "1           910737          156 2021-12-15\n",
       "2           910737          156 2021-12-16\n",
       "3           910737          135 2021-12-17\n",
       "4           910737          135 2021-12-18\n",
       "...            ...          ...        ...\n",
       "958485    51875440          807 2022-12-10\n",
       "958486    51875440          718 2022-12-11\n",
       "958487    51875440          706 2022-12-12\n",
       "958488    51875440          696 2022-12-13\n",
       "958489    51875440          687 2022-12-14\n",
       "\n",
       "[958125 rows x 3 columns]"
      ]
     },
     "execution_count": 368,
     "metadata": {},
     "output_type": "execute_result"
    }
   ],
   "source": [
    "mod_calendar_data"
   ]
  },
  {
   "cell_type": "code",
   "execution_count": 369,
   "id": "98668bd9",
   "metadata": {},
   "outputs": [
    {
     "data": {
      "text/plain": [
       "0           881707\n",
       "1           910737\n",
       "2           910737\n",
       "3           910737\n",
       "4           910737\n",
       "            ...   \n",
       "958485    51875440\n",
       "958486    51875440\n",
       "958487    51875440\n",
       "958488    51875440\n",
       "958489    51875440\n",
       "Name: listing_id, Length: 958125, dtype: int64"
      ]
     },
     "execution_count": 369,
     "metadata": {},
     "output_type": "execute_result"
    }
   ],
   "source": [
    "mod_calendar_data['listing_id']"
   ]
  },
  {
   "cell_type": "code",
   "execution_count": 370,
   "id": "1f7f2117",
   "metadata": {},
   "outputs": [
    {
     "name": "stdout",
     "output_type": "stream",
     "text": [
      "Index(['listing_id', 'listing_url', 'name', 'picture_url', 'host_id',\n",
      "       'host_url', 'host_is_superhost', 'host_identity_verified', 'latitude',\n",
      "       'longitude', 'room_type', 'accommodates', 'bedrooms', 'beds',\n",
      "       'minimum_nights', 'maximum_nights', 'number_of_reviews',\n",
      "       'review_scores_rating', 'instant_bookable', 'neighborhood', 'bathrooms',\n",
      "       'Air conditioning', 'Wifi', 'TV', 'Kitchen', 'Washer', 'Dryer',\n",
      "       'Heating'],\n",
      "      dtype='object')\n"
     ]
    },
    {
     "data": {
      "text/plain": [
       "Index(['listing_id', 'daily_price', 'date'], dtype='object')"
      ]
     },
     "execution_count": 370,
     "metadata": {},
     "output_type": "execute_result"
    }
   ],
   "source": [
    "print(mod_listing_data.columns)\n",
    "mod_calendar_data.columns"
   ]
  },
  {
   "cell_type": "code",
   "execution_count": 371,
   "id": "c8be2920",
   "metadata": {},
   "outputs": [
    {
     "name": "stdout",
     "output_type": "stream",
     "text": [
      "<class 'pandas.core.frame.DataFrame'>\n",
      "Int64Index: 958125 entries, 0 to 958489\n",
      "Data columns (total 3 columns):\n",
      " #   Column       Non-Null Count   Dtype         \n",
      "---  ------       --------------   -----         \n",
      " 0   listing_id   958125 non-null  int64         \n",
      " 1   daily_price  958125 non-null  int64         \n",
      " 2   date         958125 non-null  datetime64[ns]\n",
      "dtypes: datetime64[ns](1), int64(2)\n",
      "memory usage: 61.5 MB\n"
     ]
    }
   ],
   "source": [
    "mod_calendar_data.info()"
   ]
  },
  {
   "cell_type": "code",
   "execution_count": 372,
   "id": "2ea75c6c",
   "metadata": {
    "scrolled": true
   },
   "outputs": [
    {
     "name": "stdout",
     "output_type": "stream",
     "text": [
      "<class 'pandas.core.frame.DataFrame'>\n",
      "Int64Index: 2269 entries, 0 to 2618\n",
      "Data columns (total 28 columns):\n",
      " #   Column                  Non-Null Count  Dtype  \n",
      "---  ------                  --------------  -----  \n",
      " 0   listing_id              2269 non-null   int64  \n",
      " 1   listing_url             2269 non-null   object \n",
      " 2   name                    2269 non-null   object \n",
      " 3   picture_url             2269 non-null   object \n",
      " 4   host_id                 2269 non-null   int64  \n",
      " 5   host_url                2269 non-null   object \n",
      " 6   host_is_superhost       2269 non-null   int64  \n",
      " 7   host_identity_verified  2269 non-null   int64  \n",
      " 8   latitude                2269 non-null   float64\n",
      " 9   longitude               2269 non-null   float64\n",
      " 10  room_type               2269 non-null   object \n",
      " 11  accommodates            2269 non-null   int64  \n",
      " 12  bedrooms                2269 non-null   float64\n",
      " 13  beds                    2269 non-null   float64\n",
      " 14  minimum_nights          2269 non-null   int64  \n",
      " 15  maximum_nights          2269 non-null   int64  \n",
      " 16  number_of_reviews       2269 non-null   int64  \n",
      " 17  review_scores_rating    2269 non-null   float64\n",
      " 18  instant_bookable        2269 non-null   int64  \n",
      " 19  neighborhood            2269 non-null   object \n",
      " 20  bathrooms               2269 non-null   float64\n",
      " 21  Air conditioning        2269 non-null   int64  \n",
      " 22  Wifi                    2269 non-null   int64  \n",
      " 23  TV                      2269 non-null   int64  \n",
      " 24  Kitchen                 2269 non-null   int64  \n",
      " 25  Washer                  2269 non-null   int64  \n",
      " 26  Dryer                   2269 non-null   int64  \n",
      " 27  Heating                 2269 non-null   int64  \n",
      "dtypes: float64(6), int64(16), object(6)\n",
      "memory usage: 578.6+ KB\n"
     ]
    }
   ],
   "source": [
    "mod_listing_data.info()"
   ]
  },
  {
   "cell_type": "markdown",
   "id": "24255c05",
   "metadata": {},
   "source": [
    "### Drop Outliers"
   ]
  },
  {
   "cell_type": "code",
   "execution_count": 373,
   "id": "3ab9ca7f",
   "metadata": {},
   "outputs": [
    {
     "name": "stdout",
     "output_type": "stream",
     "text": [
      "<class 'pandas.core.frame.DataFrame'>\n",
      "Int64Index: 827821 entries, 0 to 827820\n",
      "Data columns (total 30 columns):\n",
      " #   Column                  Non-Null Count   Dtype         \n",
      "---  ------                  --------------   -----         \n",
      " 0   listing_id              827821 non-null  int64         \n",
      " 1   listing_url             827821 non-null  object        \n",
      " 2   name                    827821 non-null  object        \n",
      " 3   picture_url             827821 non-null  object        \n",
      " 4   host_id                 827821 non-null  int64         \n",
      " 5   host_url                827821 non-null  object        \n",
      " 6   host_is_superhost       827821 non-null  int64         \n",
      " 7   host_identity_verified  827821 non-null  int64         \n",
      " 8   latitude                827821 non-null  float64       \n",
      " 9   longitude               827821 non-null  float64       \n",
      " 10  room_type               827821 non-null  object        \n",
      " 11  accommodates            827821 non-null  int64         \n",
      " 12  bedrooms                827821 non-null  float64       \n",
      " 13  beds                    827821 non-null  float64       \n",
      " 14  minimum_nights          827821 non-null  int64         \n",
      " 15  maximum_nights          827821 non-null  int64         \n",
      " 16  number_of_reviews       827821 non-null  int64         \n",
      " 17  review_scores_rating    827821 non-null  float64       \n",
      " 18  instant_bookable        827821 non-null  int64         \n",
      " 19  neighborhood            827821 non-null  object        \n",
      " 20  bathrooms               827821 non-null  float64       \n",
      " 21  Air conditioning        827821 non-null  int64         \n",
      " 22  Wifi                    827821 non-null  int64         \n",
      " 23  TV                      827821 non-null  int64         \n",
      " 24  Kitchen                 827821 non-null  int64         \n",
      " 25  Washer                  827821 non-null  int64         \n",
      " 26  Dryer                   827821 non-null  int64         \n",
      " 27  Heating                 827821 non-null  int64         \n",
      " 28  daily_price             827820 non-null  float64       \n",
      " 29  date                    827820 non-null  datetime64[ns]\n",
      "dtypes: datetime64[ns](1), float64(7), int64(16), object(6)\n",
      "memory usage: 195.8+ MB\n"
     ]
    }
   ],
   "source": [
    "asheville_data = pd.merge(mod_listing_data, mod_calendar_data, how = 'left', on = 'listing_id')\n",
    "asheville_data.info()"
   ]
  },
  {
   "cell_type": "code",
   "execution_count": 374,
   "id": "d760a79c",
   "metadata": {},
   "outputs": [],
   "source": [
    "asheville_data = asheville_data.dropna()"
   ]
  },
  {
   "cell_type": "code",
   "execution_count": 375,
   "id": "32da74b5",
   "metadata": {},
   "outputs": [
    {
     "name": "stdout",
     "output_type": "stream",
     "text": [
      "<class 'pandas.core.frame.DataFrame'>\n",
      "Int64Index: 827820 entries, 0 to 827820\n",
      "Data columns (total 30 columns):\n",
      " #   Column                  Non-Null Count   Dtype         \n",
      "---  ------                  --------------   -----         \n",
      " 0   listing_id              827820 non-null  int64         \n",
      " 1   listing_url             827820 non-null  object        \n",
      " 2   name                    827820 non-null  object        \n",
      " 3   picture_url             827820 non-null  object        \n",
      " 4   host_id                 827820 non-null  int64         \n",
      " 5   host_url                827820 non-null  object        \n",
      " 6   host_is_superhost       827820 non-null  int64         \n",
      " 7   host_identity_verified  827820 non-null  int64         \n",
      " 8   latitude                827820 non-null  float64       \n",
      " 9   longitude               827820 non-null  float64       \n",
      " 10  room_type               827820 non-null  object        \n",
      " 11  accommodates            827820 non-null  int64         \n",
      " 12  bedrooms                827820 non-null  float64       \n",
      " 13  beds                    827820 non-null  float64       \n",
      " 14  minimum_nights          827820 non-null  int64         \n",
      " 15  maximum_nights          827820 non-null  int64         \n",
      " 16  number_of_reviews       827820 non-null  int64         \n",
      " 17  review_scores_rating    827820 non-null  float64       \n",
      " 18  instant_bookable        827820 non-null  int64         \n",
      " 19  neighborhood            827820 non-null  object        \n",
      " 20  bathrooms               827820 non-null  float64       \n",
      " 21  Air conditioning        827820 non-null  int64         \n",
      " 22  Wifi                    827820 non-null  int64         \n",
      " 23  TV                      827820 non-null  int64         \n",
      " 24  Kitchen                 827820 non-null  int64         \n",
      " 25  Washer                  827820 non-null  int64         \n",
      " 26  Dryer                   827820 non-null  int64         \n",
      " 27  Heating                 827820 non-null  int64         \n",
      " 28  daily_price             827820 non-null  float64       \n",
      " 29  date                    827820 non-null  datetime64[ns]\n",
      "dtypes: datetime64[ns](1), float64(7), int64(16), object(6)\n",
      "memory usage: 195.8+ MB\n"
     ]
    }
   ],
   "source": [
    "asheville_data.info()"
   ]
  },
  {
   "cell_type": "code",
   "execution_count": 376,
   "id": "19490511",
   "metadata": {},
   "outputs": [
    {
     "data": {
      "text/plain": [
       "0         1.0\n",
       "1         1.0\n",
       "2         1.0\n",
       "3         1.0\n",
       "4         1.0\n",
       "         ... \n",
       "827816    1.0\n",
       "827817    1.0\n",
       "827818    1.0\n",
       "827819    1.0\n",
       "827820    1.0\n",
       "Name: bathrooms, Length: 827820, dtype: float64"
      ]
     },
     "execution_count": 376,
     "metadata": {},
     "output_type": "execute_result"
    }
   ],
   "source": [
    "asheville_data['bathrooms']"
   ]
  },
  {
   "cell_type": "code",
   "execution_count": 377,
   "id": "22676bff",
   "metadata": {},
   "outputs": [],
   "source": [
    "asheville_data = asheville_data[asheville_data['bathrooms'] <= 6]\n",
    "asheville_data = asheville_data[asheville_data['bathrooms'] >= 1]\n",
    "\n",
    "asheville_data = asheville_data[asheville_data['bedrooms'] <= 6]\n",
    "asheville_data = asheville_data[asheville_data['beds'] <= 11]\n",
    "asheville_data = asheville_data[asheville_data['bathrooms'] <= 5]\n",
    "\n",
    "asheville_data = asheville_data[asheville_data['room_type'] != 'Hotel room']\n",
    "asheville_data = asheville_data[asheville_data['room_type'] != 'Shared room']\n",
    "\n",
    "asheville_data = asheville_data[asheville_data['daily_price'] <= 1000]"
   ]
  },
  {
   "cell_type": "code",
   "execution_count": 378,
   "id": "743ea90a",
   "metadata": {},
   "outputs": [],
   "source": [
    "asheville_data = asheville_data.reset_index()\n",
    "asheville_data = asheville_data.drop(['index'], axis = 1)"
   ]
  },
  {
   "cell_type": "code",
   "execution_count": 379,
   "id": "e4dd1359",
   "metadata": {},
   "outputs": [
    {
     "name": "stdout",
     "output_type": "stream",
     "text": [
      "<class 'pandas.core.frame.DataFrame'>\n",
      "RangeIndex: 811427 entries, 0 to 811426\n",
      "Data columns (total 30 columns):\n",
      " #   Column                  Non-Null Count   Dtype         \n",
      "---  ------                  --------------   -----         \n",
      " 0   listing_id              811427 non-null  int64         \n",
      " 1   listing_url             811427 non-null  object        \n",
      " 2   name                    811427 non-null  object        \n",
      " 3   picture_url             811427 non-null  object        \n",
      " 4   host_id                 811427 non-null  int64         \n",
      " 5   host_url                811427 non-null  object        \n",
      " 6   host_is_superhost       811427 non-null  int64         \n",
      " 7   host_identity_verified  811427 non-null  int64         \n",
      " 8   latitude                811427 non-null  float64       \n",
      " 9   longitude               811427 non-null  float64       \n",
      " 10  room_type               811427 non-null  object        \n",
      " 11  accommodates            811427 non-null  int64         \n",
      " 12  bedrooms                811427 non-null  float64       \n",
      " 13  beds                    811427 non-null  float64       \n",
      " 14  minimum_nights          811427 non-null  int64         \n",
      " 15  maximum_nights          811427 non-null  int64         \n",
      " 16  number_of_reviews       811427 non-null  int64         \n",
      " 17  review_scores_rating    811427 non-null  float64       \n",
      " 18  instant_bookable        811427 non-null  int64         \n",
      " 19  neighborhood            811427 non-null  object        \n",
      " 20  bathrooms               811427 non-null  float64       \n",
      " 21  Air conditioning        811427 non-null  int64         \n",
      " 22  Wifi                    811427 non-null  int64         \n",
      " 23  TV                      811427 non-null  int64         \n",
      " 24  Kitchen                 811427 non-null  int64         \n",
      " 25  Washer                  811427 non-null  int64         \n",
      " 26  Dryer                   811427 non-null  int64         \n",
      " 27  Heating                 811427 non-null  int64         \n",
      " 28  daily_price             811427 non-null  float64       \n",
      " 29  date                    811427 non-null  datetime64[ns]\n",
      "dtypes: datetime64[ns](1), float64(7), int64(16), object(6)\n",
      "memory usage: 185.7+ MB\n"
     ]
    }
   ],
   "source": [
    "asheville_data.info()"
   ]
  },
  {
   "cell_type": "markdown",
   "id": "afee37db",
   "metadata": {},
   "source": [
    "# Begin Modeling"
   ]
  },
  {
   "cell_type": "markdown",
   "id": "73b832d9",
   "metadata": {},
   "source": [
    "## Baseline Model - Random Forest"
   ]
  },
  {
   "cell_type": "code",
   "execution_count": 380,
   "id": "6e1bc418",
   "metadata": {},
   "outputs": [
    {
     "data": {
      "text/html": [
       "<div>\n",
       "<style scoped>\n",
       "    .dataframe tbody tr th:only-of-type {\n",
       "        vertical-align: middle;\n",
       "    }\n",
       "\n",
       "    .dataframe tbody tr th {\n",
       "        vertical-align: top;\n",
       "    }\n",
       "\n",
       "    .dataframe thead th {\n",
       "        text-align: right;\n",
       "    }\n",
       "</style>\n",
       "<table border=\"1\" class=\"dataframe\">\n",
       "  <thead>\n",
       "    <tr style=\"text-align: right;\">\n",
       "      <th></th>\n",
       "      <th>host_is_superhost</th>\n",
       "      <th>room_type</th>\n",
       "      <th>accommodates</th>\n",
       "      <th>bedrooms</th>\n",
       "      <th>beds</th>\n",
       "      <th>neighborhood</th>\n",
       "      <th>bathrooms</th>\n",
       "      <th>Air conditioning</th>\n",
       "      <th>Wifi</th>\n",
       "      <th>TV</th>\n",
       "      <th>Kitchen</th>\n",
       "      <th>Washer</th>\n",
       "      <th>Dryer</th>\n",
       "      <th>Heating</th>\n",
       "      <th>daily_price</th>\n",
       "      <th>date</th>\n",
       "    </tr>\n",
       "  </thead>\n",
       "  <tbody>\n",
       "    <tr>\n",
       "      <th>0</th>\n",
       "      <td>0</td>\n",
       "      <td>Entire home/apt</td>\n",
       "      <td>2</td>\n",
       "      <td>1.0</td>\n",
       "      <td>1.0</td>\n",
       "      <td>Asheville</td>\n",
       "      <td>1.0</td>\n",
       "      <td>1</td>\n",
       "      <td>1</td>\n",
       "      <td>0</td>\n",
       "      <td>1</td>\n",
       "      <td>1</td>\n",
       "      <td>1</td>\n",
       "      <td>1</td>\n",
       "      <td>120.0</td>\n",
       "      <td>2021-12-15</td>\n",
       "    </tr>\n",
       "    <tr>\n",
       "      <th>1</th>\n",
       "      <td>0</td>\n",
       "      <td>Entire home/apt</td>\n",
       "      <td>2</td>\n",
       "      <td>1.0</td>\n",
       "      <td>1.0</td>\n",
       "      <td>Asheville</td>\n",
       "      <td>1.0</td>\n",
       "      <td>1</td>\n",
       "      <td>1</td>\n",
       "      <td>0</td>\n",
       "      <td>1</td>\n",
       "      <td>1</td>\n",
       "      <td>1</td>\n",
       "      <td>1</td>\n",
       "      <td>120.0</td>\n",
       "      <td>2021-12-16</td>\n",
       "    </tr>\n",
       "    <tr>\n",
       "      <th>2</th>\n",
       "      <td>0</td>\n",
       "      <td>Entire home/apt</td>\n",
       "      <td>2</td>\n",
       "      <td>1.0</td>\n",
       "      <td>1.0</td>\n",
       "      <td>Asheville</td>\n",
       "      <td>1.0</td>\n",
       "      <td>1</td>\n",
       "      <td>1</td>\n",
       "      <td>0</td>\n",
       "      <td>1</td>\n",
       "      <td>1</td>\n",
       "      <td>1</td>\n",
       "      <td>1</td>\n",
       "      <td>120.0</td>\n",
       "      <td>2021-12-17</td>\n",
       "    </tr>\n",
       "    <tr>\n",
       "      <th>3</th>\n",
       "      <td>0</td>\n",
       "      <td>Entire home/apt</td>\n",
       "      <td>2</td>\n",
       "      <td>1.0</td>\n",
       "      <td>1.0</td>\n",
       "      <td>Asheville</td>\n",
       "      <td>1.0</td>\n",
       "      <td>1</td>\n",
       "      <td>1</td>\n",
       "      <td>0</td>\n",
       "      <td>1</td>\n",
       "      <td>1</td>\n",
       "      <td>1</td>\n",
       "      <td>1</td>\n",
       "      <td>120.0</td>\n",
       "      <td>2021-12-18</td>\n",
       "    </tr>\n",
       "    <tr>\n",
       "      <th>4</th>\n",
       "      <td>0</td>\n",
       "      <td>Entire home/apt</td>\n",
       "      <td>2</td>\n",
       "      <td>1.0</td>\n",
       "      <td>1.0</td>\n",
       "      <td>Asheville</td>\n",
       "      <td>1.0</td>\n",
       "      <td>1</td>\n",
       "      <td>1</td>\n",
       "      <td>0</td>\n",
       "      <td>1</td>\n",
       "      <td>1</td>\n",
       "      <td>1</td>\n",
       "      <td>1</td>\n",
       "      <td>120.0</td>\n",
       "      <td>2021-12-19</td>\n",
       "    </tr>\n",
       "  </tbody>\n",
       "</table>\n",
       "</div>"
      ],
      "text/plain": [
       "   host_is_superhost        room_type  accommodates  bedrooms  beds  \\\n",
       "0                  0  Entire home/apt             2       1.0   1.0   \n",
       "1                  0  Entire home/apt             2       1.0   1.0   \n",
       "2                  0  Entire home/apt             2       1.0   1.0   \n",
       "3                  0  Entire home/apt             2       1.0   1.0   \n",
       "4                  0  Entire home/apt             2       1.0   1.0   \n",
       "\n",
       "  neighborhood  bathrooms  Air conditioning  Wifi  TV  Kitchen  Washer  Dryer  \\\n",
       "0    Asheville        1.0                 1     1   0        1       1      1   \n",
       "1    Asheville        1.0                 1     1   0        1       1      1   \n",
       "2    Asheville        1.0                 1     1   0        1       1      1   \n",
       "3    Asheville        1.0                 1     1   0        1       1      1   \n",
       "4    Asheville        1.0                 1     1   0        1       1      1   \n",
       "\n",
       "   Heating  daily_price       date  \n",
       "0        1        120.0 2021-12-15  \n",
       "1        1        120.0 2021-12-16  \n",
       "2        1        120.0 2021-12-17  \n",
       "3        1        120.0 2021-12-18  \n",
       "4        1        120.0 2021-12-19  "
      ]
     },
     "execution_count": 380,
     "metadata": {},
     "output_type": "execute_result"
    }
   ],
   "source": [
    "asheville_modeling_data = asheville_data.drop(['listing_id', 'listing_url', 'name', 'picture_url', 'host_id',\n",
    "                                              'host_url', 'host_identity_verified', 'latitude', 'longitude',\n",
    "                                              'minimum_nights', 'maximum_nights', 'number_of_reviews',\n",
    "                                              'instant_bookable', 'review_scores_rating'], axis = 1)\n",
    "asheville_modeling_data.head()"
   ]
  },
  {
   "cell_type": "code",
   "execution_count": 381,
   "id": "1743e034",
   "metadata": {},
   "outputs": [
    {
     "data": {
      "text/plain": [
       "Asheville    716942\n",
       "Arden         42421\n",
       "Woodfin       19710\n",
       "Candler       17098\n",
       "Fletcher      15256\n",
       "Name: neighborhood, dtype: int64"
      ]
     },
     "execution_count": 381,
     "metadata": {},
     "output_type": "execute_result"
    }
   ],
   "source": [
    "asheville_modeling_data['neighborhood'].value_counts()"
   ]
  },
  {
   "cell_type": "code",
   "execution_count": 382,
   "id": "70d7d6e5",
   "metadata": {},
   "outputs": [
    {
     "name": "stdout",
     "output_type": "stream",
     "text": [
      "<class 'pandas.core.frame.DataFrame'>\n",
      "RangeIndex: 811427 entries, 0 to 811426\n",
      "Data columns (total 17 columns):\n",
      " #   Column             Non-Null Count   Dtype  \n",
      "---  ------             --------------   -----  \n",
      " 0   host_is_superhost  811427 non-null  int64  \n",
      " 1   room_type          811427 non-null  object \n",
      " 2   accommodates       811427 non-null  int64  \n",
      " 3   bedrooms           811427 non-null  float64\n",
      " 4   beds               811427 non-null  float64\n",
      " 5   neighborhood       811427 non-null  object \n",
      " 6   bathrooms          811427 non-null  float64\n",
      " 7   Air conditioning   811427 non-null  int64  \n",
      " 8   Wifi               811427 non-null  int64  \n",
      " 9   TV                 811427 non-null  int64  \n",
      " 10  Kitchen            811427 non-null  int64  \n",
      " 11  Washer             811427 non-null  int64  \n",
      " 12  Dryer              811427 non-null  int64  \n",
      " 13  Heating            811427 non-null  int64  \n",
      " 14  daily_price        811427 non-null  float64\n",
      " 15  day_of_week        811427 non-null  int64  \n",
      " 16  month              811427 non-null  int64  \n",
      "dtypes: float64(4), int64(11), object(2)\n",
      "memory usage: 105.2+ MB\n"
     ]
    }
   ],
   "source": [
    "asheville_modeling_data['day_of_week'] = asheville_modeling_data['date'].dt.dayofweek\n",
    "asheville_modeling_data['month'] = asheville_modeling_data['date'].dt.month\n",
    "asheville_modeling_data = asheville_modeling_data.drop(['date'], axis = 1)\n",
    "asheville_modeling_data.info()"
   ]
  },
  {
   "cell_type": "code",
   "execution_count": 383,
   "id": "a9bd9045",
   "metadata": {},
   "outputs": [
    {
     "data": {
      "text/plain": [
       "Entire home/apt    693601\n",
       "Private room       117826\n",
       "Name: room_type, dtype: int64"
      ]
     },
     "execution_count": 383,
     "metadata": {},
     "output_type": "execute_result"
    }
   ],
   "source": [
    "asheville_modeling_data['room_type'].value_counts()"
   ]
  },
  {
   "cell_type": "code",
   "execution_count": 384,
   "id": "ed5ee091",
   "metadata": {},
   "outputs": [
    {
     "data": {
      "text/plain": [
       "1    688650\n",
       "0    122777\n",
       "Name: Heating, dtype: int64"
      ]
     },
     "execution_count": 384,
     "metadata": {},
     "output_type": "execute_result"
    }
   ],
   "source": [
    "asheville_modeling_data['Heating'].value_counts()"
   ]
  },
  {
   "cell_type": "code",
   "execution_count": 385,
   "id": "3ee93dfa",
   "metadata": {},
   "outputs": [
    {
     "data": {
      "text/html": [
       "<div>\n",
       "<style scoped>\n",
       "    .dataframe tbody tr th:only-of-type {\n",
       "        vertical-align: middle;\n",
       "    }\n",
       "\n",
       "    .dataframe tbody tr th {\n",
       "        vertical-align: top;\n",
       "    }\n",
       "\n",
       "    .dataframe thead th {\n",
       "        text-align: right;\n",
       "    }\n",
       "</style>\n",
       "<table border=\"1\" class=\"dataframe\">\n",
       "  <thead>\n",
       "    <tr style=\"text-align: right;\">\n",
       "      <th></th>\n",
       "      <th>host_is_superhost</th>\n",
       "      <th>accommodates</th>\n",
       "      <th>bedrooms</th>\n",
       "      <th>beds</th>\n",
       "      <th>bathrooms</th>\n",
       "      <th>Air conditioning</th>\n",
       "      <th>Wifi</th>\n",
       "      <th>TV</th>\n",
       "      <th>Kitchen</th>\n",
       "      <th>Washer</th>\n",
       "      <th>Dryer</th>\n",
       "      <th>Heating</th>\n",
       "      <th>daily_price</th>\n",
       "      <th>day_of_week</th>\n",
       "      <th>month</th>\n",
       "    </tr>\n",
       "  </thead>\n",
       "  <tbody>\n",
       "    <tr>\n",
       "      <th>count</th>\n",
       "      <td>811427.000000</td>\n",
       "      <td>811427.000000</td>\n",
       "      <td>811427.000000</td>\n",
       "      <td>811427.000000</td>\n",
       "      <td>811427.000000</td>\n",
       "      <td>811427.000000</td>\n",
       "      <td>811427.000000</td>\n",
       "      <td>811427.000000</td>\n",
       "      <td>811427.000000</td>\n",
       "      <td>811427.000000</td>\n",
       "      <td>811427.000000</td>\n",
       "      <td>811427.000000</td>\n",
       "      <td>811427.000000</td>\n",
       "      <td>811427.000000</td>\n",
       "      <td>811427.000000</td>\n",
       "    </tr>\n",
       "    <tr>\n",
       "      <th>mean</th>\n",
       "      <td>0.753548</td>\n",
       "      <td>4.442354</td>\n",
       "      <td>1.839915</td>\n",
       "      <td>2.378948</td>\n",
       "      <td>1.477150</td>\n",
       "      <td>0.868490</td>\n",
       "      <td>0.964566</td>\n",
       "      <td>0.878959</td>\n",
       "      <td>0.774608</td>\n",
       "      <td>0.561788</td>\n",
       "      <td>0.549746</td>\n",
       "      <td>0.848690</td>\n",
       "      <td>191.948523</td>\n",
       "      <td>2.994582</td>\n",
       "      <td>6.520620</td>\n",
       "    </tr>\n",
       "    <tr>\n",
       "      <th>std</th>\n",
       "      <td>0.430945</td>\n",
       "      <td>2.596776</td>\n",
       "      <td>1.014856</td>\n",
       "      <td>1.542368</td>\n",
       "      <td>0.713593</td>\n",
       "      <td>0.337958</td>\n",
       "      <td>0.184874</td>\n",
       "      <td>0.326175</td>\n",
       "      <td>0.417840</td>\n",
       "      <td>0.496168</td>\n",
       "      <td>0.497519</td>\n",
       "      <td>0.358351</td>\n",
       "      <td>139.441946</td>\n",
       "      <td>1.998384</td>\n",
       "      <td>3.449343</td>\n",
       "    </tr>\n",
       "    <tr>\n",
       "      <th>min</th>\n",
       "      <td>0.000000</td>\n",
       "      <td>1.000000</td>\n",
       "      <td>1.000000</td>\n",
       "      <td>1.000000</td>\n",
       "      <td>1.000000</td>\n",
       "      <td>0.000000</td>\n",
       "      <td>0.000000</td>\n",
       "      <td>0.000000</td>\n",
       "      <td>0.000000</td>\n",
       "      <td>0.000000</td>\n",
       "      <td>0.000000</td>\n",
       "      <td>0.000000</td>\n",
       "      <td>10.000000</td>\n",
       "      <td>0.000000</td>\n",
       "      <td>1.000000</td>\n",
       "    </tr>\n",
       "    <tr>\n",
       "      <th>25%</th>\n",
       "      <td>1.000000</td>\n",
       "      <td>2.000000</td>\n",
       "      <td>1.000000</td>\n",
       "      <td>1.000000</td>\n",
       "      <td>1.000000</td>\n",
       "      <td>1.000000</td>\n",
       "      <td>1.000000</td>\n",
       "      <td>1.000000</td>\n",
       "      <td>1.000000</td>\n",
       "      <td>0.000000</td>\n",
       "      <td>0.000000</td>\n",
       "      <td>1.000000</td>\n",
       "      <td>99.000000</td>\n",
       "      <td>1.000000</td>\n",
       "      <td>4.000000</td>\n",
       "    </tr>\n",
       "    <tr>\n",
       "      <th>50%</th>\n",
       "      <td>1.000000</td>\n",
       "      <td>4.000000</td>\n",
       "      <td>2.000000</td>\n",
       "      <td>2.000000</td>\n",
       "      <td>1.000000</td>\n",
       "      <td>1.000000</td>\n",
       "      <td>1.000000</td>\n",
       "      <td>1.000000</td>\n",
       "      <td>1.000000</td>\n",
       "      <td>1.000000</td>\n",
       "      <td>1.000000</td>\n",
       "      <td>1.000000</td>\n",
       "      <td>150.000000</td>\n",
       "      <td>3.000000</td>\n",
       "      <td>7.000000</td>\n",
       "    </tr>\n",
       "    <tr>\n",
       "      <th>75%</th>\n",
       "      <td>1.000000</td>\n",
       "      <td>6.000000</td>\n",
       "      <td>2.000000</td>\n",
       "      <td>3.000000</td>\n",
       "      <td>2.000000</td>\n",
       "      <td>1.000000</td>\n",
       "      <td>1.000000</td>\n",
       "      <td>1.000000</td>\n",
       "      <td>1.000000</td>\n",
       "      <td>1.000000</td>\n",
       "      <td>1.000000</td>\n",
       "      <td>1.000000</td>\n",
       "      <td>235.000000</td>\n",
       "      <td>5.000000</td>\n",
       "      <td>10.000000</td>\n",
       "    </tr>\n",
       "    <tr>\n",
       "      <th>max</th>\n",
       "      <td>1.000000</td>\n",
       "      <td>16.000000</td>\n",
       "      <td>6.000000</td>\n",
       "      <td>11.000000</td>\n",
       "      <td>5.000000</td>\n",
       "      <td>1.000000</td>\n",
       "      <td>1.000000</td>\n",
       "      <td>1.000000</td>\n",
       "      <td>1.000000</td>\n",
       "      <td>1.000000</td>\n",
       "      <td>1.000000</td>\n",
       "      <td>1.000000</td>\n",
       "      <td>1000.000000</td>\n",
       "      <td>6.000000</td>\n",
       "      <td>12.000000</td>\n",
       "    </tr>\n",
       "  </tbody>\n",
       "</table>\n",
       "</div>"
      ],
      "text/plain": [
       "       host_is_superhost   accommodates       bedrooms           beds  \\\n",
       "count      811427.000000  811427.000000  811427.000000  811427.000000   \n",
       "mean            0.753548       4.442354       1.839915       2.378948   \n",
       "std             0.430945       2.596776       1.014856       1.542368   \n",
       "min             0.000000       1.000000       1.000000       1.000000   \n",
       "25%             1.000000       2.000000       1.000000       1.000000   \n",
       "50%             1.000000       4.000000       2.000000       2.000000   \n",
       "75%             1.000000       6.000000       2.000000       3.000000   \n",
       "max             1.000000      16.000000       6.000000      11.000000   \n",
       "\n",
       "           bathrooms  Air conditioning           Wifi             TV  \\\n",
       "count  811427.000000     811427.000000  811427.000000  811427.000000   \n",
       "mean        1.477150          0.868490       0.964566       0.878959   \n",
       "std         0.713593          0.337958       0.184874       0.326175   \n",
       "min         1.000000          0.000000       0.000000       0.000000   \n",
       "25%         1.000000          1.000000       1.000000       1.000000   \n",
       "50%         1.000000          1.000000       1.000000       1.000000   \n",
       "75%         2.000000          1.000000       1.000000       1.000000   \n",
       "max         5.000000          1.000000       1.000000       1.000000   \n",
       "\n",
       "             Kitchen         Washer          Dryer        Heating  \\\n",
       "count  811427.000000  811427.000000  811427.000000  811427.000000   \n",
       "mean        0.774608       0.561788       0.549746       0.848690   \n",
       "std         0.417840       0.496168       0.497519       0.358351   \n",
       "min         0.000000       0.000000       0.000000       0.000000   \n",
       "25%         1.000000       0.000000       0.000000       1.000000   \n",
       "50%         1.000000       1.000000       1.000000       1.000000   \n",
       "75%         1.000000       1.000000       1.000000       1.000000   \n",
       "max         1.000000       1.000000       1.000000       1.000000   \n",
       "\n",
       "         daily_price    day_of_week          month  \n",
       "count  811427.000000  811427.000000  811427.000000  \n",
       "mean      191.948523       2.994582       6.520620  \n",
       "std       139.441946       1.998384       3.449343  \n",
       "min        10.000000       0.000000       1.000000  \n",
       "25%        99.000000       1.000000       4.000000  \n",
       "50%       150.000000       3.000000       7.000000  \n",
       "75%       235.000000       5.000000      10.000000  \n",
       "max      1000.000000       6.000000      12.000000  "
      ]
     },
     "execution_count": 385,
     "metadata": {},
     "output_type": "execute_result"
    }
   ],
   "source": [
    "asheville_modeling_data.describe()"
   ]
  },
  {
   "cell_type": "markdown",
   "id": "ae2ee156",
   "metadata": {},
   "source": [
    "## Baseline Model - Random Forest"
   ]
  },
  {
   "cell_type": "code",
   "execution_count": 386,
   "id": "bb732e7f",
   "metadata": {},
   "outputs": [],
   "source": [
    "import time "
   ]
  },
  {
   "cell_type": "code",
   "execution_count": 387,
   "id": "26b61efd",
   "metadata": {},
   "outputs": [
    {
     "name": "stdout",
     "output_type": "stream",
     "text": [
      "CPU times: user 2min 26s, sys: 1.11 s, total: 2min 27s\n",
      "Wall time: 2min 28s\n"
     ]
    }
   ],
   "source": [
    "%%time\n",
    "\n",
    "baseline_X = asheville_modeling_data.drop(['daily_price'], axis = 1)\n",
    "baseline_y = asheville_modeling_data['daily_price']\n",
    "\n",
    "baseline_X_train, baseline_X_test, baseline_y_train, baseline_y_test = train_test_split(baseline_X, \n",
    "                                                                                        baseline_y, \n",
    "                                                                                        test_size = 0.2)\n",
    "\n",
    "baseline_numeric_cols = ['host_is_superhost', 'accommodates', 'bedrooms', 'beds', 'bathrooms', \n",
    "                         'Air conditioning', 'Wifi', 'TV', 'Kitchen', 'Washer', 'Dryer', 'Heating']\n",
    "\n",
    "baseline_nominal_cols = ['neighborhood', 'room_type', 'day_of_week', 'month']\n",
    "\n",
    "baseline_numeric_pipeline = Pipeline([('scaler', StandardScaler())])\n",
    "\n",
    "baseline_nominal_pipeline = Pipeline([('ohe', OneHotEncoder(sparse = False))])\n",
    "\n",
    "ct = ColumnTransformer([('nominalpipe', baseline_nominal_pipeline, baseline_nominal_cols ),\n",
    "                        ('numpipe', baseline_numeric_pipeline, baseline_numeric_cols)])\n",
    "\n",
    "baseline_final_pipe = Pipeline([('preprocess', ct),\n",
    "                                ('model', RandomForestRegressor())])\n",
    "\n",
    "baseline_results = baseline_final_pipe.fit(baseline_X_train, baseline_y_train)"
   ]
  },
  {
   "cell_type": "code",
   "execution_count": 388,
   "id": "32d8ec16",
   "metadata": {},
   "outputs": [
    {
     "name": "stdout",
     "output_type": "stream",
     "text": [
      "Baseline train accuracy 0.774256706092315\n",
      "Baseline train MSE 66.26663195707948\n",
      "Baseline train MAE 36.86613146507277\n",
      "\n",
      "\n",
      "Baseline test accuracy 0.749769070146302\n",
      "Baseline test MSE 69.69250137363021\n",
      "Baseline test MAE 39.21064386370515\n"
     ]
    },
    {
     "data": {
      "image/png": "[encoded data removed]",
      "text/plain": [
       "<Figure size 640x480 with 1 Axes>"
      ]
     },
     "metadata": {},
     "output_type": "display_data"
    }
   ],
   "source": [
    "baseline_train_preds = baseline_final_pipe.predict(baseline_X_train)\n",
    "baseline_test_preds = baseline_final_pipe.predict(baseline_X_test)\n",
    "\n",
    "print(f'Baseline train accuracy {baseline_final_pipe.score(baseline_X_train, baseline_y_train)}')\n",
    "print(f'Baseline train MSE {mean_squared_error(baseline_y_train, baseline_train_preds, squared = False)}')\n",
    "print(f'Baseline train MAE {mean_absolute_error(baseline_y_train, baseline_train_preds)}')\n",
    "print(f'\\n')\n",
    "print(f'Baseline test accuracy {baseline_final_pipe.score(baseline_X_test, baseline_y_test)}')\n",
    "print(f'Baseline test MSE {mean_squared_error(baseline_y_test, baseline_test_preds, squared = False)}')\n",
    "print(f'Baseline test MAE {mean_absolute_error(baseline_y_test, baseline_test_preds)}')\n",
    "\n",
    "sns.scatterplot(y = baseline_test_preds, x = baseline_y_test);\n",
    "\n",
    "#ADD MSE AND MAE"
   ]
  },
  {
   "cell_type": "code",
   "execution_count": 389,
   "id": "1a92c0d3",
   "metadata": {},
   "outputs": [
    {
     "data": {
      "text/plain": [
       "array([0.00565085, 0.01355105, 0.00296826, 0.00115668, 0.00385725,\n",
       "       0.01210088, 0.01399074, 0.00127498, 0.00126582, 0.0013111 ,\n",
       "       0.00188475, 0.01621545, 0.01587282, 0.00202934, 0.0097538 ,\n",
       "       0.00817228, 0.00396435, 0.00248131, 0.00215417, 0.00198271,\n",
       "       0.00272817, 0.00155289, 0.00147986, 0.00392792, 0.00294379,\n",
       "       0.00349261, 0.02990224, 0.11742754, 0.03761645, 0.05400849,\n",
       "       0.51668963, 0.01794085, 0.00439126, 0.01909575, 0.01170345,\n",
       "       0.02319559, 0.01727012, 0.01299479])"
      ]
     },
     "execution_count": 389,
     "metadata": {},
     "output_type": "execute_result"
    }
   ],
   "source": [
    "baseline_final_pipe['model'].feature_importances_"
   ]
  },
  {
   "cell_type": "code",
   "execution_count": 390,
   "id": "61bd81e5",
   "metadata": {},
   "outputs": [
    {
     "data": {
      "text/plain": [
       "array(['nominalpipe__neighborhood_Arden',\n",
       "       'nominalpipe__neighborhood_Asheville',\n",
       "       'nominalpipe__neighborhood_Candler',\n",
       "       'nominalpipe__neighborhood_Fletcher',\n",
       "       'nominalpipe__neighborhood_Woodfin',\n",
       "       'nominalpipe__room_type_Entire home/apt',\n",
       "       'nominalpipe__room_type_Private room',\n",
       "       'nominalpipe__day_of_week_0', 'nominalpipe__day_of_week_1',\n",
       "       'nominalpipe__day_of_week_2', 'nominalpipe__day_of_week_3',\n",
       "       'nominalpipe__day_of_week_4', 'nominalpipe__day_of_week_5',\n",
       "       'nominalpipe__day_of_week_6', 'nominalpipe__month_1',\n",
       "       'nominalpipe__month_2', 'nominalpipe__month_3',\n",
       "       'nominalpipe__month_4', 'nominalpipe__month_5',\n",
       "       'nominalpipe__month_6', 'nominalpipe__month_7',\n",
       "       'nominalpipe__month_8', 'nominalpipe__month_9',\n",
       "       'nominalpipe__month_10', 'nominalpipe__month_11',\n",
       "       'nominalpipe__month_12', 'numpipe__host_is_superhost',\n",
       "       'numpipe__accommodates', 'numpipe__bedrooms', 'numpipe__beds',\n",
       "       'numpipe__bathrooms', 'numpipe__Air conditioning', 'numpipe__Wifi',\n",
       "       'numpipe__TV', 'numpipe__Kitchen', 'numpipe__Washer',\n",
       "       'numpipe__Dryer', 'numpipe__Heating'], dtype=object)"
      ]
     },
     "execution_count": 390,
     "metadata": {},
     "output_type": "execute_result"
    }
   ],
   "source": [
    "baseline_final_pipe['preprocess'].get_feature_names_out()"
   ]
  },
  {
   "cell_type": "code",
   "execution_count": 391,
   "id": "cb954276",
   "metadata": {},
   "outputs": [
    {
     "data": {
      "text/plain": [
       "[('nominalpipe__neighborhood_Fletcher', 0.0011566845541375174),\n",
       " ('nominalpipe__day_of_week_1', 0.001265817977242282),\n",
       " ('nominalpipe__day_of_week_0', 0.001274981411929367),\n",
       " ('nominalpipe__day_of_week_2', 0.0013111002634803033),\n",
       " ('nominalpipe__month_9', 0.0014798594043528193),\n",
       " ('nominalpipe__month_8', 0.0015528933169393494),\n",
       " ('nominalpipe__day_of_week_3', 0.0018847508965069149),\n",
       " ('nominalpipe__month_6', 0.00198270550572404),\n",
       " ('nominalpipe__day_of_week_6', 0.002029335302794257),\n",
       " ('nominalpipe__month_5', 0.002154172321609618),\n",
       " ('nominalpipe__month_4', 0.0024813074252377004),\n",
       " ('nominalpipe__month_7', 0.0027281733239051076),\n",
       " ('nominalpipe__month_11', 0.002943790405117647),\n",
       " ('nominalpipe__neighborhood_Candler', 0.0029682552003040684),\n",
       " ('nominalpipe__month_12', 0.00349261302961317),\n",
       " ('nominalpipe__neighborhood_Woodfin', 0.003857248213359854),\n",
       " ('nominalpipe__month_10', 0.003927922854118448),\n",
       " ('nominalpipe__month_3', 0.003964351861116234),\n",
       " ('numpipe__Wifi', 0.004391262855774517),\n",
       " ('nominalpipe__neighborhood_Arden', 0.005650852605357783),\n",
       " ('nominalpipe__month_2', 0.008172275725587132),\n",
       " ('nominalpipe__month_1', 0.00975379803879699),\n",
       " ('numpipe__Kitchen', 0.011703454769273636),\n",
       " ('nominalpipe__room_type_Entire home/apt', 0.012100883229082184),\n",
       " ('numpipe__Heating', 0.012994791920077799),\n",
       " ('nominalpipe__neighborhood_Asheville', 0.013551053980516299),\n",
       " ('nominalpipe__room_type_Private room', 0.013990740360292974),\n",
       " ('nominalpipe__day_of_week_5', 0.01587281515721749),\n",
       " ('nominalpipe__day_of_week_4', 0.016215447992565003),\n",
       " ('numpipe__Dryer', 0.01727011973905),\n",
       " ('numpipe__Air conditioning', 0.01794085310010669),\n",
       " ('numpipe__TV', 0.019095745660846732),\n",
       " ('numpipe__Washer', 0.023195588977722403),\n",
       " ('numpipe__host_is_superhost', 0.029902243132094854),\n",
       " ('numpipe__bedrooms', 0.03761645193359947),\n",
       " ('numpipe__beds', 0.0540084940216625),\n",
       " ('numpipe__accommodates', 0.11742753777102445),\n",
       " ('numpipe__bathrooms', 0.5166896257618624)]"
      ]
     },
     "execution_count": 391,
     "metadata": {},
     "output_type": "execute_result"
    }
   ],
   "source": [
    "baseline_coeffs = dict(zip(baseline_final_pipe['preprocess'].get_feature_names_out(), \n",
    "                                 baseline_final_pipe['model'].feature_importances_))\n",
    "sorted_baseline_coeffs = sorted(baseline_coeffs.items(), key = lambda x:x[1])\n",
    "sorted_baseline_coeffs"
   ]
  },
  {
   "cell_type": "code",
   "execution_count": 392,
   "id": "84a467f8",
   "metadata": {},
   "outputs": [
    {
     "data": {
      "text/plain": [
       "<Figure size 2000x50000 with 0 Axes>"
      ]
     },
     "execution_count": 392,
     "metadata": {},
     "output_type": "execute_result"
    },
    {
     "data": {
      "image/png": "[encoded data removed]",
      "text/plain": [
       "<Figure size 640x480 with 1 Axes>"
      ]
     },
     "metadata": {},
     "output_type": "display_data"
    },
    {
     "data": {
      "text/plain": [
       "<Figure size 2000x50000 with 0 Axes>"
      ]
     },
     "metadata": {},
     "output_type": "display_data"
    }
   ],
   "source": [
    "baseline_coeffs_graph = plt.barh(baseline_final_pipe['preprocess'].get_feature_names_out(), \n",
    "                                 baseline_final_pipe['model'].feature_importances_)\n",
    "baseline_coeffs_graph\n",
    "plt.figure(figsize=(20, 500))"
   ]
  },
  {
   "cell_type": "markdown",
   "id": "e8ffcd3b",
   "metadata": {},
   "source": [
    "## Model 2 - Neural Network"
   ]
  },
  {
   "cell_type": "code",
   "execution_count": 393,
   "id": "bbdd5984",
   "metadata": {},
   "outputs": [],
   "source": [
    "#Neural Network"
   ]
  },
  {
   "cell_type": "code",
   "execution_count": 394,
   "id": "4a1b8dad",
   "metadata": {},
   "outputs": [
    {
     "data": {
      "text/html": [
       "<div>\n",
       "<style scoped>\n",
       "    .dataframe tbody tr th:only-of-type {\n",
       "        vertical-align: middle;\n",
       "    }\n",
       "\n",
       "    .dataframe tbody tr th {\n",
       "        vertical-align: top;\n",
       "    }\n",
       "\n",
       "    .dataframe thead th {\n",
       "        text-align: right;\n",
       "    }\n",
       "</style>\n",
       "<table border=\"1\" class=\"dataframe\">\n",
       "  <thead>\n",
       "    <tr style=\"text-align: right;\">\n",
       "      <th></th>\n",
       "      <th>neighborhood_Asheville</th>\n",
       "      <th>neighborhood_Candler</th>\n",
       "      <th>neighborhood_Fletcher</th>\n",
       "      <th>neighborhood_Woodfin</th>\n",
       "      <th>room_type_Private room</th>\n",
       "      <th>day_of_week_1</th>\n",
       "      <th>day_of_week_2</th>\n",
       "      <th>day_of_week_3</th>\n",
       "      <th>day_of_week_4</th>\n",
       "      <th>day_of_week_5</th>\n",
       "      <th>...</th>\n",
       "      <th>month_3</th>\n",
       "      <th>month_4</th>\n",
       "      <th>month_5</th>\n",
       "      <th>month_6</th>\n",
       "      <th>month_7</th>\n",
       "      <th>month_8</th>\n",
       "      <th>month_9</th>\n",
       "      <th>month_10</th>\n",
       "      <th>month_11</th>\n",
       "      <th>month_12</th>\n",
       "    </tr>\n",
       "  </thead>\n",
       "  <tbody>\n",
       "    <tr>\n",
       "      <th>0</th>\n",
       "      <td>1.0</td>\n",
       "      <td>0.0</td>\n",
       "      <td>0.0</td>\n",
       "      <td>0.0</td>\n",
       "      <td>0.0</td>\n",
       "      <td>0.0</td>\n",
       "      <td>1.0</td>\n",
       "      <td>0.0</td>\n",
       "      <td>0.0</td>\n",
       "      <td>0.0</td>\n",
       "      <td>...</td>\n",
       "      <td>0.0</td>\n",
       "      <td>0.0</td>\n",
       "      <td>0.0</td>\n",
       "      <td>0.0</td>\n",
       "      <td>0.0</td>\n",
       "      <td>0.0</td>\n",
       "      <td>0.0</td>\n",
       "      <td>0.0</td>\n",
       "      <td>0.0</td>\n",
       "      <td>1.0</td>\n",
       "    </tr>\n",
       "    <tr>\n",
       "      <th>1</th>\n",
       "      <td>1.0</td>\n",
       "      <td>0.0</td>\n",
       "      <td>0.0</td>\n",
       "      <td>0.0</td>\n",
       "      <td>0.0</td>\n",
       "      <td>0.0</td>\n",
       "      <td>0.0</td>\n",
       "      <td>1.0</td>\n",
       "      <td>0.0</td>\n",
       "      <td>0.0</td>\n",
       "      <td>...</td>\n",
       "      <td>0.0</td>\n",
       "      <td>0.0</td>\n",
       "      <td>0.0</td>\n",
       "      <td>0.0</td>\n",
       "      <td>0.0</td>\n",
       "      <td>0.0</td>\n",
       "      <td>0.0</td>\n",
       "      <td>0.0</td>\n",
       "      <td>0.0</td>\n",
       "      <td>1.0</td>\n",
       "    </tr>\n",
       "    <tr>\n",
       "      <th>2</th>\n",
       "      <td>1.0</td>\n",
       "      <td>0.0</td>\n",
       "      <td>0.0</td>\n",
       "      <td>0.0</td>\n",
       "      <td>0.0</td>\n",
       "      <td>0.0</td>\n",
       "      <td>0.0</td>\n",
       "      <td>0.0</td>\n",
       "      <td>1.0</td>\n",
       "      <td>0.0</td>\n",
       "      <td>...</td>\n",
       "      <td>0.0</td>\n",
       "      <td>0.0</td>\n",
       "      <td>0.0</td>\n",
       "      <td>0.0</td>\n",
       "      <td>0.0</td>\n",
       "      <td>0.0</td>\n",
       "      <td>0.0</td>\n",
       "      <td>0.0</td>\n",
       "      <td>0.0</td>\n",
       "      <td>1.0</td>\n",
       "    </tr>\n",
       "    <tr>\n",
       "      <th>3</th>\n",
       "      <td>1.0</td>\n",
       "      <td>0.0</td>\n",
       "      <td>0.0</td>\n",
       "      <td>0.0</td>\n",
       "      <td>0.0</td>\n",
       "      <td>0.0</td>\n",
       "      <td>0.0</td>\n",
       "      <td>0.0</td>\n",
       "      <td>0.0</td>\n",
       "      <td>1.0</td>\n",
       "      <td>...</td>\n",
       "      <td>0.0</td>\n",
       "      <td>0.0</td>\n",
       "      <td>0.0</td>\n",
       "      <td>0.0</td>\n",
       "      <td>0.0</td>\n",
       "      <td>0.0</td>\n",
       "      <td>0.0</td>\n",
       "      <td>0.0</td>\n",
       "      <td>0.0</td>\n",
       "      <td>1.0</td>\n",
       "    </tr>\n",
       "    <tr>\n",
       "      <th>4</th>\n",
       "      <td>1.0</td>\n",
       "      <td>0.0</td>\n",
       "      <td>0.0</td>\n",
       "      <td>0.0</td>\n",
       "      <td>0.0</td>\n",
       "      <td>0.0</td>\n",
       "      <td>0.0</td>\n",
       "      <td>0.0</td>\n",
       "      <td>0.0</td>\n",
       "      <td>0.0</td>\n",
       "      <td>...</td>\n",
       "      <td>0.0</td>\n",
       "      <td>0.0</td>\n",
       "      <td>0.0</td>\n",
       "      <td>0.0</td>\n",
       "      <td>0.0</td>\n",
       "      <td>0.0</td>\n",
       "      <td>0.0</td>\n",
       "      <td>0.0</td>\n",
       "      <td>0.0</td>\n",
       "      <td>1.0</td>\n",
       "    </tr>\n",
       "    <tr>\n",
       "      <th>...</th>\n",
       "      <td>...</td>\n",
       "      <td>...</td>\n",
       "      <td>...</td>\n",
       "      <td>...</td>\n",
       "      <td>...</td>\n",
       "      <td>...</td>\n",
       "      <td>...</td>\n",
       "      <td>...</td>\n",
       "      <td>...</td>\n",
       "      <td>...</td>\n",
       "      <td>...</td>\n",
       "      <td>...</td>\n",
       "      <td>...</td>\n",
       "      <td>...</td>\n",
       "      <td>...</td>\n",
       "      <td>...</td>\n",
       "      <td>...</td>\n",
       "      <td>...</td>\n",
       "      <td>...</td>\n",
       "      <td>...</td>\n",
       "      <td>...</td>\n",
       "    </tr>\n",
       "    <tr>\n",
       "      <th>811422</th>\n",
       "      <td>1.0</td>\n",
       "      <td>0.0</td>\n",
       "      <td>0.0</td>\n",
       "      <td>0.0</td>\n",
       "      <td>0.0</td>\n",
       "      <td>0.0</td>\n",
       "      <td>0.0</td>\n",
       "      <td>0.0</td>\n",
       "      <td>0.0</td>\n",
       "      <td>1.0</td>\n",
       "      <td>...</td>\n",
       "      <td>0.0</td>\n",
       "      <td>0.0</td>\n",
       "      <td>0.0</td>\n",
       "      <td>0.0</td>\n",
       "      <td>0.0</td>\n",
       "      <td>0.0</td>\n",
       "      <td>0.0</td>\n",
       "      <td>0.0</td>\n",
       "      <td>0.0</td>\n",
       "      <td>1.0</td>\n",
       "    </tr>\n",
       "    <tr>\n",
       "      <th>811423</th>\n",
       "      <td>1.0</td>\n",
       "      <td>0.0</td>\n",
       "      <td>0.0</td>\n",
       "      <td>0.0</td>\n",
       "      <td>0.0</td>\n",
       "      <td>0.0</td>\n",
       "      <td>0.0</td>\n",
       "      <td>0.0</td>\n",
       "      <td>0.0</td>\n",
       "      <td>0.0</td>\n",
       "      <td>...</td>\n",
       "      <td>0.0</td>\n",
       "      <td>0.0</td>\n",
       "      <td>0.0</td>\n",
       "      <td>0.0</td>\n",
       "      <td>0.0</td>\n",
       "      <td>0.0</td>\n",
       "      <td>0.0</td>\n",
       "      <td>0.0</td>\n",
       "      <td>0.0</td>\n",
       "      <td>1.0</td>\n",
       "    </tr>\n",
       "    <tr>\n",
       "      <th>811424</th>\n",
       "      <td>1.0</td>\n",
       "      <td>0.0</td>\n",
       "      <td>0.0</td>\n",
       "      <td>0.0</td>\n",
       "      <td>0.0</td>\n",
       "      <td>0.0</td>\n",
       "      <td>0.0</td>\n",
       "      <td>0.0</td>\n",
       "      <td>0.0</td>\n",
       "      <td>0.0</td>\n",
       "      <td>...</td>\n",
       "      <td>0.0</td>\n",
       "      <td>0.0</td>\n",
       "      <td>0.0</td>\n",
       "      <td>0.0</td>\n",
       "      <td>0.0</td>\n",
       "      <td>0.0</td>\n",
       "      <td>0.0</td>\n",
       "      <td>0.0</td>\n",
       "      <td>0.0</td>\n",
       "      <td>1.0</td>\n",
       "    </tr>\n",
       "    <tr>\n",
       "      <th>811425</th>\n",
       "      <td>1.0</td>\n",
       "      <td>0.0</td>\n",
       "      <td>0.0</td>\n",
       "      <td>0.0</td>\n",
       "      <td>0.0</td>\n",
       "      <td>1.0</td>\n",
       "      <td>0.0</td>\n",
       "      <td>0.0</td>\n",
       "      <td>0.0</td>\n",
       "      <td>0.0</td>\n",
       "      <td>...</td>\n",
       "      <td>0.0</td>\n",
       "      <td>0.0</td>\n",
       "      <td>0.0</td>\n",
       "      <td>0.0</td>\n",
       "      <td>0.0</td>\n",
       "      <td>0.0</td>\n",
       "      <td>0.0</td>\n",
       "      <td>0.0</td>\n",
       "      <td>0.0</td>\n",
       "      <td>1.0</td>\n",
       "    </tr>\n",
       "    <tr>\n",
       "      <th>811426</th>\n",
       "      <td>1.0</td>\n",
       "      <td>0.0</td>\n",
       "      <td>0.0</td>\n",
       "      <td>0.0</td>\n",
       "      <td>0.0</td>\n",
       "      <td>0.0</td>\n",
       "      <td>1.0</td>\n",
       "      <td>0.0</td>\n",
       "      <td>0.0</td>\n",
       "      <td>0.0</td>\n",
       "      <td>...</td>\n",
       "      <td>0.0</td>\n",
       "      <td>0.0</td>\n",
       "      <td>0.0</td>\n",
       "      <td>0.0</td>\n",
       "      <td>0.0</td>\n",
       "      <td>0.0</td>\n",
       "      <td>0.0</td>\n",
       "      <td>0.0</td>\n",
       "      <td>0.0</td>\n",
       "      <td>1.0</td>\n",
       "    </tr>\n",
       "  </tbody>\n",
       "</table>\n",
       "<p>811427 rows × 22 columns</p>\n",
       "</div>"
      ],
      "text/plain": [
       "        neighborhood_Asheville  neighborhood_Candler  neighborhood_Fletcher  \\\n",
       "0                          1.0                   0.0                    0.0   \n",
       "1                          1.0                   0.0                    0.0   \n",
       "2                          1.0                   0.0                    0.0   \n",
       "3                          1.0                   0.0                    0.0   \n",
       "4                          1.0                   0.0                    0.0   \n",
       "...                        ...                   ...                    ...   \n",
       "811422                     1.0                   0.0                    0.0   \n",
       "811423                     1.0                   0.0                    0.0   \n",
       "811424                     1.0                   0.0                    0.0   \n",
       "811425                     1.0                   0.0                    0.0   \n",
       "811426                     1.0                   0.0                    0.0   \n",
       "\n",
       "        neighborhood_Woodfin  room_type_Private room  day_of_week_1  \\\n",
       "0                        0.0                     0.0            0.0   \n",
       "1                        0.0                     0.0            0.0   \n",
       "2                        0.0                     0.0            0.0   \n",
       "3                        0.0                     0.0            0.0   \n",
       "4                        0.0                     0.0            0.0   \n",
       "...                      ...                     ...            ...   \n",
       "811422                   0.0                     0.0            0.0   \n",
       "811423                   0.0                     0.0            0.0   \n",
       "811424                   0.0                     0.0            0.0   \n",
       "811425                   0.0                     0.0            1.0   \n",
       "811426                   0.0                     0.0            0.0   \n",
       "\n",
       "        day_of_week_2  day_of_week_3  day_of_week_4  day_of_week_5  ...  \\\n",
       "0                 1.0            0.0            0.0            0.0  ...   \n",
       "1                 0.0            1.0            0.0            0.0  ...   \n",
       "2                 0.0            0.0            1.0            0.0  ...   \n",
       "3                 0.0            0.0            0.0            1.0  ...   \n",
       "4                 0.0            0.0            0.0            0.0  ...   \n",
       "...               ...            ...            ...            ...  ...   \n",
       "811422            0.0            0.0            0.0            1.0  ...   \n",
       "811423            0.0            0.0            0.0            0.0  ...   \n",
       "811424            0.0            0.0            0.0            0.0  ...   \n",
       "811425            0.0            0.0            0.0            0.0  ...   \n",
       "811426            1.0            0.0            0.0            0.0  ...   \n",
       "\n",
       "        month_3  month_4  month_5  month_6  month_7  month_8  month_9  \\\n",
       "0           0.0      0.0      0.0      0.0      0.0      0.0      0.0   \n",
       "1           0.0      0.0      0.0      0.0      0.0      0.0      0.0   \n",
       "2           0.0      0.0      0.0      0.0      0.0      0.0      0.0   \n",
       "3           0.0      0.0      0.0      0.0      0.0      0.0      0.0   \n",
       "4           0.0      0.0      0.0      0.0      0.0      0.0      0.0   \n",
       "...         ...      ...      ...      ...      ...      ...      ...   \n",
       "811422      0.0      0.0      0.0      0.0      0.0      0.0      0.0   \n",
       "811423      0.0      0.0      0.0      0.0      0.0      0.0      0.0   \n",
       "811424      0.0      0.0      0.0      0.0      0.0      0.0      0.0   \n",
       "811425      0.0      0.0      0.0      0.0      0.0      0.0      0.0   \n",
       "811426      0.0      0.0      0.0      0.0      0.0      0.0      0.0   \n",
       "\n",
       "        month_10  month_11  month_12  \n",
       "0            0.0       0.0       1.0  \n",
       "1            0.0       0.0       1.0  \n",
       "2            0.0       0.0       1.0  \n",
       "3            0.0       0.0       1.0  \n",
       "4            0.0       0.0       1.0  \n",
       "...          ...       ...       ...  \n",
       "811422       0.0       0.0       1.0  \n",
       "811423       0.0       0.0       1.0  \n",
       "811424       0.0       0.0       1.0  \n",
       "811425       0.0       0.0       1.0  \n",
       "811426       0.0       0.0       1.0  \n",
       "\n",
       "[811427 rows x 22 columns]"
      ]
     },
     "execution_count": 394,
     "metadata": {},
     "output_type": "execute_result"
    }
   ],
   "source": [
    "#One hot encode the categorical columns\n",
    "model2_sklearn = asheville_modeling_data\n",
    "model2_cat = model2_sklearn[['neighborhood', 'room_type', 'day_of_week', 'month']]\n",
    "\n",
    "ohe = OneHotEncoder(drop=\"first\", sparse=False)\n",
    "ohe.fit(model2_cat)\n",
    "\n",
    "model2_cat_ohe = pd.DataFrame(data = ohe.transform(model2_cat),\n",
    "                              columns = ohe.get_feature_names_out())\n",
    "model2_cat_ohe"
   ]
  },
  {
   "cell_type": "code",
   "execution_count": 395,
   "id": "44ca8c08",
   "metadata": {},
   "outputs": [
    {
     "data": {
      "text/html": [
       "<div>\n",
       "<style scoped>\n",
       "    .dataframe tbody tr th:only-of-type {\n",
       "        vertical-align: middle;\n",
       "    }\n",
       "\n",
       "    .dataframe tbody tr th {\n",
       "        vertical-align: top;\n",
       "    }\n",
       "\n",
       "    .dataframe thead th {\n",
       "        text-align: right;\n",
       "    }\n",
       "</style>\n",
       "<table border=\"1\" class=\"dataframe\">\n",
       "  <thead>\n",
       "    <tr style=\"text-align: right;\">\n",
       "      <th></th>\n",
       "      <th>daily_price</th>\n",
       "      <th>host_is_superhost</th>\n",
       "      <th>accommodates</th>\n",
       "      <th>bedrooms</th>\n",
       "      <th>beds</th>\n",
       "      <th>bathrooms</th>\n",
       "      <th>Air conditioning</th>\n",
       "      <th>Wifi</th>\n",
       "      <th>TV</th>\n",
       "      <th>Kitchen</th>\n",
       "      <th>...</th>\n",
       "      <th>month_3</th>\n",
       "      <th>month_4</th>\n",
       "      <th>month_5</th>\n",
       "      <th>month_6</th>\n",
       "      <th>month_7</th>\n",
       "      <th>month_8</th>\n",
       "      <th>month_9</th>\n",
       "      <th>month_10</th>\n",
       "      <th>month_11</th>\n",
       "      <th>month_12</th>\n",
       "    </tr>\n",
       "  </thead>\n",
       "  <tbody>\n",
       "    <tr>\n",
       "      <th>0</th>\n",
       "      <td>120.0</td>\n",
       "      <td>0</td>\n",
       "      <td>2</td>\n",
       "      <td>1.0</td>\n",
       "      <td>1.0</td>\n",
       "      <td>1.0</td>\n",
       "      <td>1</td>\n",
       "      <td>1</td>\n",
       "      <td>0</td>\n",
       "      <td>1</td>\n",
       "      <td>...</td>\n",
       "      <td>0.0</td>\n",
       "      <td>0.0</td>\n",
       "      <td>0.0</td>\n",
       "      <td>0.0</td>\n",
       "      <td>0.0</td>\n",
       "      <td>0.0</td>\n",
       "      <td>0.0</td>\n",
       "      <td>0.0</td>\n",
       "      <td>0.0</td>\n",
       "      <td>1.0</td>\n",
       "    </tr>\n",
       "    <tr>\n",
       "      <th>1</th>\n",
       "      <td>120.0</td>\n",
       "      <td>0</td>\n",
       "      <td>2</td>\n",
       "      <td>1.0</td>\n",
       "      <td>1.0</td>\n",
       "      <td>1.0</td>\n",
       "      <td>1</td>\n",
       "      <td>1</td>\n",
       "      <td>0</td>\n",
       "      <td>1</td>\n",
       "      <td>...</td>\n",
       "      <td>0.0</td>\n",
       "      <td>0.0</td>\n",
       "      <td>0.0</td>\n",
       "      <td>0.0</td>\n",
       "      <td>0.0</td>\n",
       "      <td>0.0</td>\n",
       "      <td>0.0</td>\n",
       "      <td>0.0</td>\n",
       "      <td>0.0</td>\n",
       "      <td>1.0</td>\n",
       "    </tr>\n",
       "    <tr>\n",
       "      <th>2</th>\n",
       "      <td>120.0</td>\n",
       "      <td>0</td>\n",
       "      <td>2</td>\n",
       "      <td>1.0</td>\n",
       "      <td>1.0</td>\n",
       "      <td>1.0</td>\n",
       "      <td>1</td>\n",
       "      <td>1</td>\n",
       "      <td>0</td>\n",
       "      <td>1</td>\n",
       "      <td>...</td>\n",
       "      <td>0.0</td>\n",
       "      <td>0.0</td>\n",
       "      <td>0.0</td>\n",
       "      <td>0.0</td>\n",
       "      <td>0.0</td>\n",
       "      <td>0.0</td>\n",
       "      <td>0.0</td>\n",
       "      <td>0.0</td>\n",
       "      <td>0.0</td>\n",
       "      <td>1.0</td>\n",
       "    </tr>\n",
       "    <tr>\n",
       "      <th>3</th>\n",
       "      <td>120.0</td>\n",
       "      <td>0</td>\n",
       "      <td>2</td>\n",
       "      <td>1.0</td>\n",
       "      <td>1.0</td>\n",
       "      <td>1.0</td>\n",
       "      <td>1</td>\n",
       "      <td>1</td>\n",
       "      <td>0</td>\n",
       "      <td>1</td>\n",
       "      <td>...</td>\n",
       "      <td>0.0</td>\n",
       "      <td>0.0</td>\n",
       "      <td>0.0</td>\n",
       "      <td>0.0</td>\n",
       "      <td>0.0</td>\n",
       "      <td>0.0</td>\n",
       "      <td>0.0</td>\n",
       "      <td>0.0</td>\n",
       "      <td>0.0</td>\n",
       "      <td>1.0</td>\n",
       "    </tr>\n",
       "    <tr>\n",
       "      <th>4</th>\n",
       "      <td>120.0</td>\n",
       "      <td>0</td>\n",
       "      <td>2</td>\n",
       "      <td>1.0</td>\n",
       "      <td>1.0</td>\n",
       "      <td>1.0</td>\n",
       "      <td>1</td>\n",
       "      <td>1</td>\n",
       "      <td>0</td>\n",
       "      <td>1</td>\n",
       "      <td>...</td>\n",
       "      <td>0.0</td>\n",
       "      <td>0.0</td>\n",
       "      <td>0.0</td>\n",
       "      <td>0.0</td>\n",
       "      <td>0.0</td>\n",
       "      <td>0.0</td>\n",
       "      <td>0.0</td>\n",
       "      <td>0.0</td>\n",
       "      <td>0.0</td>\n",
       "      <td>1.0</td>\n",
       "    </tr>\n",
       "    <tr>\n",
       "      <th>...</th>\n",
       "      <td>...</td>\n",
       "      <td>...</td>\n",
       "      <td>...</td>\n",
       "      <td>...</td>\n",
       "      <td>...</td>\n",
       "      <td>...</td>\n",
       "      <td>...</td>\n",
       "      <td>...</td>\n",
       "      <td>...</td>\n",
       "      <td>...</td>\n",
       "      <td>...</td>\n",
       "      <td>...</td>\n",
       "      <td>...</td>\n",
       "      <td>...</td>\n",
       "      <td>...</td>\n",
       "      <td>...</td>\n",
       "      <td>...</td>\n",
       "      <td>...</td>\n",
       "      <td>...</td>\n",
       "      <td>...</td>\n",
       "      <td>...</td>\n",
       "    </tr>\n",
       "    <tr>\n",
       "      <th>811422</th>\n",
       "      <td>165.0</td>\n",
       "      <td>1</td>\n",
       "      <td>3</td>\n",
       "      <td>1.0</td>\n",
       "      <td>1.0</td>\n",
       "      <td>1.0</td>\n",
       "      <td>1</td>\n",
       "      <td>1</td>\n",
       "      <td>1</td>\n",
       "      <td>1</td>\n",
       "      <td>...</td>\n",
       "      <td>0.0</td>\n",
       "      <td>0.0</td>\n",
       "      <td>0.0</td>\n",
       "      <td>0.0</td>\n",
       "      <td>0.0</td>\n",
       "      <td>0.0</td>\n",
       "      <td>0.0</td>\n",
       "      <td>0.0</td>\n",
       "      <td>0.0</td>\n",
       "      <td>1.0</td>\n",
       "    </tr>\n",
       "    <tr>\n",
       "      <th>811423</th>\n",
       "      <td>150.0</td>\n",
       "      <td>1</td>\n",
       "      <td>3</td>\n",
       "      <td>1.0</td>\n",
       "      <td>1.0</td>\n",
       "      <td>1.0</td>\n",
       "      <td>1</td>\n",
       "      <td>1</td>\n",
       "      <td>1</td>\n",
       "      <td>1</td>\n",
       "      <td>...</td>\n",
       "      <td>0.0</td>\n",
       "      <td>0.0</td>\n",
       "      <td>0.0</td>\n",
       "      <td>0.0</td>\n",
       "      <td>0.0</td>\n",
       "      <td>0.0</td>\n",
       "      <td>0.0</td>\n",
       "      <td>0.0</td>\n",
       "      <td>0.0</td>\n",
       "      <td>1.0</td>\n",
       "    </tr>\n",
       "    <tr>\n",
       "      <th>811424</th>\n",
       "      <td>150.0</td>\n",
       "      <td>1</td>\n",
       "      <td>3</td>\n",
       "      <td>1.0</td>\n",
       "      <td>1.0</td>\n",
       "      <td>1.0</td>\n",
       "      <td>1</td>\n",
       "      <td>1</td>\n",
       "      <td>1</td>\n",
       "      <td>1</td>\n",
       "      <td>...</td>\n",
       "      <td>0.0</td>\n",
       "      <td>0.0</td>\n",
       "      <td>0.0</td>\n",
       "      <td>0.0</td>\n",
       "      <td>0.0</td>\n",
       "      <td>0.0</td>\n",
       "      <td>0.0</td>\n",
       "      <td>0.0</td>\n",
       "      <td>0.0</td>\n",
       "      <td>1.0</td>\n",
       "    </tr>\n",
       "    <tr>\n",
       "      <th>811425</th>\n",
       "      <td>150.0</td>\n",
       "      <td>1</td>\n",
       "      <td>3</td>\n",
       "      <td>1.0</td>\n",
       "      <td>1.0</td>\n",
       "      <td>1.0</td>\n",
       "      <td>1</td>\n",
       "      <td>1</td>\n",
       "      <td>1</td>\n",
       "      <td>1</td>\n",
       "      <td>...</td>\n",
       "      <td>0.0</td>\n",
       "      <td>0.0</td>\n",
       "      <td>0.0</td>\n",
       "      <td>0.0</td>\n",
       "      <td>0.0</td>\n",
       "      <td>0.0</td>\n",
       "      <td>0.0</td>\n",
       "      <td>0.0</td>\n",
       "      <td>0.0</td>\n",
       "      <td>1.0</td>\n",
       "    </tr>\n",
       "    <tr>\n",
       "      <th>811426</th>\n",
       "      <td>150.0</td>\n",
       "      <td>1</td>\n",
       "      <td>3</td>\n",
       "      <td>1.0</td>\n",
       "      <td>1.0</td>\n",
       "      <td>1.0</td>\n",
       "      <td>1</td>\n",
       "      <td>1</td>\n",
       "      <td>1</td>\n",
       "      <td>1</td>\n",
       "      <td>...</td>\n",
       "      <td>0.0</td>\n",
       "      <td>0.0</td>\n",
       "      <td>0.0</td>\n",
       "      <td>0.0</td>\n",
       "      <td>0.0</td>\n",
       "      <td>0.0</td>\n",
       "      <td>0.0</td>\n",
       "      <td>0.0</td>\n",
       "      <td>0.0</td>\n",
       "      <td>1.0</td>\n",
       "    </tr>\n",
       "  </tbody>\n",
       "</table>\n",
       "<p>811427 rows × 35 columns</p>\n",
       "</div>"
      ],
      "text/plain": [
       "        daily_price  host_is_superhost  accommodates  bedrooms  beds  \\\n",
       "0             120.0                  0             2       1.0   1.0   \n",
       "1             120.0                  0             2       1.0   1.0   \n",
       "2             120.0                  0             2       1.0   1.0   \n",
       "3             120.0                  0             2       1.0   1.0   \n",
       "4             120.0                  0             2       1.0   1.0   \n",
       "...             ...                ...           ...       ...   ...   \n",
       "811422        165.0                  1             3       1.0   1.0   \n",
       "811423        150.0                  1             3       1.0   1.0   \n",
       "811424        150.0                  1             3       1.0   1.0   \n",
       "811425        150.0                  1             3       1.0   1.0   \n",
       "811426        150.0                  1             3       1.0   1.0   \n",
       "\n",
       "        bathrooms  Air conditioning  Wifi  TV  Kitchen  ...  month_3  month_4  \\\n",
       "0             1.0                 1     1   0        1  ...      0.0      0.0   \n",
       "1             1.0                 1     1   0        1  ...      0.0      0.0   \n",
       "2             1.0                 1     1   0        1  ...      0.0      0.0   \n",
       "3             1.0                 1     1   0        1  ...      0.0      0.0   \n",
       "4             1.0                 1     1   0        1  ...      0.0      0.0   \n",
       "...           ...               ...   ...  ..      ...  ...      ...      ...   \n",
       "811422        1.0                 1     1   1        1  ...      0.0      0.0   \n",
       "811423        1.0                 1     1   1        1  ...      0.0      0.0   \n",
       "811424        1.0                 1     1   1        1  ...      0.0      0.0   \n",
       "811425        1.0                 1     1   1        1  ...      0.0      0.0   \n",
       "811426        1.0                 1     1   1        1  ...      0.0      0.0   \n",
       "\n",
       "        month_5  month_6  month_7  month_8  month_9  month_10  month_11  \\\n",
       "0           0.0      0.0      0.0      0.0      0.0       0.0       0.0   \n",
       "1           0.0      0.0      0.0      0.0      0.0       0.0       0.0   \n",
       "2           0.0      0.0      0.0      0.0      0.0       0.0       0.0   \n",
       "3           0.0      0.0      0.0      0.0      0.0       0.0       0.0   \n",
       "4           0.0      0.0      0.0      0.0      0.0       0.0       0.0   \n",
       "...         ...      ...      ...      ...      ...       ...       ...   \n",
       "811422      0.0      0.0      0.0      0.0      0.0       0.0       0.0   \n",
       "811423      0.0      0.0      0.0      0.0      0.0       0.0       0.0   \n",
       "811424      0.0      0.0      0.0      0.0      0.0       0.0       0.0   \n",
       "811425      0.0      0.0      0.0      0.0      0.0       0.0       0.0   \n",
       "811426      0.0      0.0      0.0      0.0      0.0       0.0       0.0   \n",
       "\n",
       "        month_12  \n",
       "0            1.0  \n",
       "1            1.0  \n",
       "2            1.0  \n",
       "3            1.0  \n",
       "4            1.0  \n",
       "...          ...  \n",
       "811422       1.0  \n",
       "811423       1.0  \n",
       "811424       1.0  \n",
       "811425       1.0  \n",
       "811426       1.0  \n",
       "\n",
       "[811427 rows x 35 columns]"
      ]
     },
     "execution_count": 395,
     "metadata": {},
     "output_type": "execute_result"
    }
   ],
   "source": [
    "#Merge the one hot encoded dataframe and the numeric columns\n",
    "model2_numeric = asheville_modeling_data[['daily_price', 'host_is_superhost', 'accommodates', 'bedrooms', 'beds', \n",
    "                                          'bathrooms', 'Air conditioning', 'Wifi', 'TV', 'Kitchen', 'Washer', \n",
    "                                          'Dryer', 'Heating']]\n",
    "\n",
    "model2_comb_ohe = model2_numeric.join(model2_cat_ohe, how = 'left')\n",
    "model2_comb_ohe\n"
   ]
  },
  {
   "cell_type": "code",
   "execution_count": 396,
   "id": "5dcd090e",
   "metadata": {},
   "outputs": [],
   "source": [
    "model2_X = model2_comb_ohe.drop(['daily_price'], axis = 1)\n",
    "model2_y = model2_comb_ohe['daily_price']\n",
    "\n",
    "model2_X_train, model2_X_test, model2_y_train, model2_y_test = train_test_split(model2_X, \n",
    "                                                                                model2_y, \n",
    "                                                                                test_size = 0.18)\n",
    "\n",
    "model2_X_train, model2_X_val, model2_y_train, model2_y_val = train_test_split(model2_X_train, \n",
    "                                                                              model2_y_train,\n",
    "                                                                              test_size = 0.12)\n",
    "\n",
    "#### Instantiate a new scaler\n",
    "scaler = StandardScaler()\n",
    "\n",
    "model2_X_train_scaled = scaler.fit_transform(model2_X_train)\n",
    "model2_X_test_scaled = scaler.transform(model2_X_test)\n",
    "model2_X_val_scaled = scaler.transform(model2_X_val)"
   ]
  },
  {
   "cell_type": "code",
   "execution_count": 397,
   "id": "c2ecaa85",
   "metadata": {},
   "outputs": [],
   "source": [
    "#Consider adding a decaying learning rate"
   ]
  },
  {
   "cell_type": "code",
   "execution_count": 398,
   "id": "74fc3295",
   "metadata": {},
   "outputs": [
    {
     "name": "stdout",
     "output_type": "stream",
     "text": [
      "Epoch 1/50\n",
      "  1/586 [..............................] - ETA: 3:01 - loss: 198.3116 - mse: 60526.1445 - mae: 198.2467"
     ]
    },
    {
     "name": "stderr",
     "output_type": "stream",
     "text": [
      "2022-12-20 17:14:24.129147: I tensorflow/core/grappler/optimizers/custom_graph_optimizer_registry.cc:113] Plugin optimizer for device_type GPU is enabled.\n"
     ]
    },
    {
     "name": "stdout",
     "output_type": "stream",
     "text": [
      "586/586 [==============================] - ETA: 0s - loss: 191.6249 - mse: 56218.6211 - mae: 191.5573"
     ]
    },
    {
     "name": "stderr",
     "output_type": "stream",
     "text": [
      "2022-12-20 17:14:28.282151: I tensorflow/core/grappler/optimizers/custom_graph_optimizer_registry.cc:113] Plugin optimizer for device_type GPU is enabled.\n"
     ]
    },
    {
     "name": "stdout",
     "output_type": "stream",
     "text": [
      "586/586 [==============================] - 5s 7ms/step - loss: 191.6249 - mse: 56218.6211 - mae: 191.5573 - val_loss: 190.7922 - val_mse: 55705.6836 - val_mae: 190.7199\n",
      "Epoch 2/50\n",
      "586/586 [==============================] - 4s 7ms/step - loss: 190.2737 - mse: 55657.5391 - mae: 190.1931 - val_loss: 189.3278 - val_mse: 55104.3086 - val_mae: 189.2371\n",
      "Epoch 3/50\n",
      "586/586 [==============================] - 5s 8ms/step - loss: 188.6617 - mse: 54999.7031 - mae: 188.5580 - val_loss: 187.5841 - val_mse: 54399.1211 - val_mae: 187.4660\n",
      "Epoch 4/50\n",
      "586/586 [==============================] - 5s 8ms/step - loss: 186.7628 - mse: 54241.6797 - mae: 186.6274 - val_loss: 185.5512 - val_mse: 53591.2656 - val_mae: 185.3970\n",
      "Epoch 5/50\n",
      "586/586 [==============================] - 5s 8ms/step - loss: 184.5768 - mse: 53389.4062 - mae: 184.4012 - val_loss: 183.2137 - val_mse: 52682.0469 - val_mae: 183.0150\n",
      "Epoch 6/50\n",
      "586/586 [==============================] - 4s 7ms/step - loss: 182.0540 - mse: 52429.3672 - mae: 181.8297 - val_loss: 180.5570 - val_mse: 51675.7383 - val_mae: 180.3062\n",
      "Epoch 7/50\n",
      "586/586 [==============================] - 5s 8ms/step - loss: 179.2235 - mse: 51387.6562 - mae: 178.9438 - val_loss: 177.5925 - val_mse: 50581.0664 - val_mae: 177.2832\n",
      "Epoch 8/50\n",
      "586/586 [==============================] - 4s 7ms/step - loss: 176.1185 - mse: 50266.7344 - mae: 175.7776 - val_loss: 174.3449 - val_mse: 49407.9609 - val_mae: 173.9715\n",
      "Epoch 9/50\n",
      "586/586 [==============================] - 4s 7ms/step - loss: 172.7212 - mse: 49070.4922 - mae: 172.3136 - val_loss: 170.8500 - val_mse: 48167.4531 - val_mae: 170.4071\n",
      "Epoch 10/50\n",
      "586/586 [==============================] - 4s 8ms/step - loss: 169.1916 - mse: 47838.0508 - mae: 168.7124 - val_loss: 167.1545 - val_mse: 46871.7109 - val_mae: 166.6376\n",
      "Epoch 11/50\n",
      "586/586 [==============================] - 4s 7ms/step - loss: 165.5039 - mse: 46562.7812 - mae: 164.9485 - val_loss: 163.2994 - val_mse: 45530.3320 - val_mae: 162.7045\n",
      "Epoch 12/50\n",
      "586/586 [==============================] - 4s 7ms/step - loss: 161.6965 - mse: 45254.8203 - mae: 161.0610 - val_loss: 159.3140 - val_mse: 44151.7891 - val_mae: 158.6374\n",
      "Epoch 13/50\n",
      "586/586 [==============================] - 4s 7ms/step - loss: 157.8421 - mse: 43939.6016 - mae: 157.1239 - val_loss: 155.2248 - val_mse: 42743.4102 - val_mae: 154.4640\n",
      "Epoch 14/50\n",
      "586/586 [==============================] - 4s 8ms/step - loss: 153.9988 - mse: 42593.0625 - mae: 153.1955 - val_loss: 151.0641 - val_mse: 41313.1406 - val_mae: 150.2175\n",
      "Epoch 15/50\n",
      "586/586 [==============================] - 4s 7ms/step - loss: 150.1304 - mse: 41226.0000 - mae: 149.2405 - val_loss: 146.8403 - val_mse: 39867.3984 - val_mae: 145.9067\n",
      "Epoch 16/50\n",
      "586/586 [==============================] - 4s 7ms/step - loss: 146.2585 - mse: 39868.7852 - mae: 145.2813 - val_loss: 142.5825 - val_mse: 38415.1641 - val_mae: 141.5612\n",
      "Epoch 17/50\n",
      "586/586 [==============================] - 4s 7ms/step - loss: 142.5069 - mse: 38551.6250 - mae: 141.4419 - val_loss: 138.3230 - val_mse: 36962.2266 - val_mae: 137.2141\n",
      "Epoch 18/50\n",
      "586/586 [==============================] - 4s 7ms/step - loss: 138.8673 - mse: 37239.1758 - mae: 137.7150 - val_loss: 134.1075 - val_mse: 35518.8711 - val_mae: 132.9120\n",
      "Epoch 19/50\n",
      "586/586 [==============================] - 4s 7ms/step - loss: 135.3179 - mse: 35940.0664 - mae: 134.0793 - val_loss: 129.9376 - val_mse: 34087.0156 - val_mae: 128.6566\n",
      "Epoch 20/50\n",
      "586/586 [==============================] - 4s 7ms/step - loss: 131.8932 - mse: 34708.1445 - mae: 130.5706 - val_loss: 125.8414 - val_mse: 32674.6621 - val_mae: 124.4773\n",
      "Epoch 21/50\n",
      "586/586 [==============================] - 4s 7ms/step - loss: 128.6040 - mse: 33473.6172 - mae: 127.2002 - val_loss: 121.8486 - val_mse: 31289.2598 - val_mae: 120.4050\n",
      "Epoch 22/50\n",
      "586/586 [==============================] - 4s 7ms/step - loss: 125.4720 - mse: 32276.9453 - mae: 123.9899 - val_loss: 117.9554 - val_mse: 29931.1270 - val_mae: 116.4354\n",
      "Epoch 23/50\n",
      "586/586 [==============================] - 4s 7ms/step - loss: 122.5037 - mse: 31108.7754 - mae: 120.9477 - val_loss: 114.1959 - val_mse: 28608.0293 - val_mae: 112.6047\n",
      "Epoch 24/50\n",
      "586/586 [==============================] - 4s 7ms/step - loss: 119.6859 - mse: 29972.1934 - mae: 118.0620 - val_loss: 110.5881 - val_mse: 27325.4688 - val_mae: 108.9316\n",
      "Epoch 25/50\n",
      "586/586 [==============================] - 4s 7ms/step - loss: 117.0537 - mse: 28968.2109 - mae: 115.3674 - val_loss: 107.1205 - val_mse: 26080.0352 - val_mae: 105.4048\n",
      "Epoch 26/50\n",
      "586/586 [==============================] - 4s 8ms/step - loss: 114.6532 - mse: 27925.0957 - mae: 112.9105 - val_loss: 103.7980 - val_mse: 24871.9863 - val_mae: 102.0288\n",
      "Epoch 27/50\n",
      "586/586 [==============================] - 4s 7ms/step - loss: 112.2073 - mse: 26927.5898 - mae: 110.4133 - val_loss: 100.6199 - val_mse: 23702.0254 - val_mae: 98.8015\n",
      "Epoch 28/50\n",
      "586/586 [==============================] - 4s 7ms/step - loss: 110.1239 - mse: 26035.9590 - mae: 108.2829 - val_loss: 97.6033 - val_mse: 22581.9102 - val_mae: 95.7401\n",
      "Epoch 29/50\n",
      "586/586 [==============================] - 4s 7ms/step - loss: 108.2790 - mse: 25239.7324 - mae: 106.3957 - val_loss: 94.7581 - val_mse: 21514.5645 - val_mae: 92.8550\n",
      "Epoch 30/50\n",
      "586/586 [==============================] - 4s 7ms/step - loss: 106.4882 - mse: 24408.6445 - mae: 104.5670 - val_loss: 92.1058 - val_mse: 20507.0508 - val_mae: 90.1675\n",
      "Epoch 31/50\n",
      "586/586 [==============================] - 5s 8ms/step - loss: 104.8919 - mse: 23673.6445 - mae: 102.9378 - val_loss: 89.6349 - val_mse: 19560.0156 - val_mae: 87.6651\n",
      "Epoch 32/50\n",
      "586/586 [==============================] - 5s 8ms/step - loss: 103.5022 - mse: 23001.4316 - mae: 101.5187 - val_loss: 87.3906 - val_mse: 18683.4980 - val_mae: 85.3941\n",
      "Epoch 33/50\n",
      "586/586 [==============================] - 5s 8ms/step - loss: 102.4190 - mse: 22428.6191 - mae: 100.4121 - val_loss: 85.4111 - val_mse: 17897.0449 - val_mae: 83.3944\n",
      "Epoch 34/50\n",
      "586/586 [==============================] - 5s 8ms/step - loss: 101.3590 - mse: 21926.1816 - mae: 99.3343 - val_loss: 83.6491 - val_mse: 17184.1641 - val_mae: 81.6170\n",
      "Epoch 35/50\n",
      "586/586 [==============================] - 5s 8ms/step - loss: 100.5421 - mse: 21410.4395 - mae: 98.5054 - val_loss: 82.1380 - val_mse: 16561.0215 - val_mae: 80.0976\n",
      "Epoch 36/50\n",
      "586/586 [==============================] - 4s 8ms/step - loss: 99.9445 - mse: 21122.4844 - mae: 97.9022 - val_loss: 80.8438 - val_mse: 16018.3848 - val_mae: 78.8007\n",
      "Epoch 37/50\n",
      "586/586 [==============================] - 4s 7ms/step - loss: 99.2971 - mse: 20757.0254 - mae: 97.2551 - val_loss: 79.7897 - val_mse: 15572.2725 - val_mae: 77.7509\n",
      "Epoch 38/50\n",
      "586/586 [==============================] - 4s 7ms/step - loss: 98.7859 - mse: 20495.3945 - mae: 96.7499 - val_loss: 78.8571 - val_mse: 15174.6045 - val_mae: 76.8254\n",
      "Epoch 39/50\n",
      "586/586 [==============================] - 4s 7ms/step - loss: 98.3293 - mse: 20246.3223 - mae: 96.3026 - val_loss: 78.0951 - val_mse: 14857.8320 - val_mae: 76.0751\n",
      "Epoch 40/50\n",
      "586/586 [==============================] - 4s 7ms/step - loss: 98.1244 - mse: 20130.2070 - mae: 96.1123 - val_loss: 77.5139 - val_mse: 14615.4072 - val_mae: 75.5102\n",
      "Epoch 41/50\n",
      "586/586 [==============================] - 4s 7ms/step - loss: 97.7081 - mse: 19913.0625 - mae: 95.7128 - val_loss: 76.9879 - val_mse: 14400.8633 - val_mae: 75.0019\n",
      "Epoch 42/50\n",
      "586/586 [==============================] - 4s 7ms/step - loss: 97.2586 - mse: 19710.5820 - mae: 95.2822 - val_loss: 76.5514 - val_mse: 14229.9600 - val_mae: 74.5848\n",
      "Epoch 43/50\n",
      "586/586 [==============================] - 4s 7ms/step - loss: 97.0970 - mse: 19668.4902 - mae: 95.1406 - val_loss: 76.1912 - val_mse: 14101.1289 - val_mae: 74.2458\n",
      "Epoch 44/50\n",
      "586/586 [==============================] - 4s 7ms/step - loss: 96.6931 - mse: 19523.1445 - mae: 94.7585 - val_loss: 75.8435 - val_mse: 13977.0244 - val_mae: 73.9193\n",
      "Epoch 45/50\n",
      "586/586 [==============================] - 4s 7ms/step - loss: 96.4098 - mse: 19380.1836 - mae: 94.4967 - val_loss: 75.5602 - val_mse: 13878.5859 - val_mae: 73.6584\n",
      "Epoch 46/50\n",
      "586/586 [==============================] - 4s 7ms/step - loss: 96.1212 - mse: 19293.4141 - mae: 94.2309 - val_loss: 75.3158 - val_mse: 13798.1758 - val_mae: 73.4369\n"
     ]
    },
    {
     "name": "stdout",
     "output_type": "stream",
     "text": [
      "Epoch 47/50\n",
      "586/586 [==============================] - 4s 7ms/step - loss: 95.7577 - mse: 19077.2227 - mae: 93.8898 - val_loss: 75.0543 - val_mse: 13709.1953 - val_mae: 73.1979\n",
      "Epoch 48/50\n",
      "586/586 [==============================] - 4s 7ms/step - loss: 95.5348 - mse: 19040.1660 - mae: 93.6896 - val_loss: 74.8065 - val_mse: 13633.6377 - val_mae: 72.9729\n",
      "Epoch 49/50\n",
      "586/586 [==============================] - 4s 7ms/step - loss: 95.1258 - mse: 18866.8105 - mae: 93.3033 - val_loss: 74.5946 - val_mse: 13572.3682 - val_mae: 72.7844\n",
      "Epoch 50/50\n",
      "586/586 [==============================] - 4s 7ms/step - loss: 94.8401 - mse: 18795.0039 - mae: 93.0411 - val_loss: 74.3320 - val_mse: 13482.0947 - val_mae: 72.5435\n"
     ]
    }
   ],
   "source": [
    "#Instantiate a Regularizer\n",
    "\n",
    "reg = l2(3e-3)\n",
    "\n",
    "model2_nn = models.Sequential()\n",
    "model2_nn.add(layers.Flatten())\n",
    "model2_nn.add(layers.Dense(16, activation = 'relu', input_shape=(34, 1), kernel_regularizer = reg))\n",
    "model2_nn.add(layers.Dropout(0.5))\n",
    "model2_nn.add(layers.Dense(1))\n",
    "\n",
    "\n",
    "#Create an opt variable which is set to the learning rate to be used, we will use 0.0002\n",
    "opt = Adam(learning_rate = 0.0001)\n",
    "\n",
    "#Add an early stopping mechanism which will stop fitting the model based on the minimum validation loss, a minimum\n",
    "    #delta of 0.05, and a patience of 10\n",
    "es = EarlyStopping(monitor = 'mae', mode = 'min', min_delta = 0.05, patience = 10)\n",
    "\n",
    "#Set the random seed to 42 for reproducibility\n",
    "np.random.seed(42)\n",
    "\n",
    "#Compile the model and utilize the 'opt' variable, \n",
    "model2_nn.compile(optimizer = opt,\n",
    "                  loss = 'mae',\n",
    "                  metrics = ['mse', 'mae'])\n",
    "\n",
    "#Create a new _histoire variable containing the fit model\n",
    "model2_nn_histoire = model2_nn.fit(model2_X_train_scaled,\n",
    "                                   model2_y_train.values,\n",
    "                                   callbacks = [es],\n",
    "                                   epochs = 50,\n",
    "                                   batch_size = 1000,\n",
    "                                   validation_data = (model2_X_val_scaled, model2_y_val.values))"
   ]
  },
  {
   "cell_type": "code",
   "execution_count": 399,
   "id": "c87d17ba",
   "metadata": {},
   "outputs": [
    {
     "name": "stdout",
     "output_type": "stream",
     "text": [
      "18298/18298 [==============================] - 95s 5ms/step - loss: 74.5261 - mse: 13681.7500 - mae: 72.7378\n",
      "4565/4565 [==============================] - 22s 5ms/step - loss: 74.4478 - mse: 13604.1006 - mae: 72.6591\n",
      "Model 2 Neural Network Train Results: [74.52605438232422, 13681.75, 72.73783874511719]\n",
      "Model 2 Neural Network Test Results: [74.44775390625, 13604.1005859375, 72.65910339355469]\n"
     ]
    }
   ],
   "source": [
    "model2_nn_results_train = model2_nn.evaluate(model2_X_train_scaled, model2_y_train.values)\n",
    "model2_nn_results_test = model2_nn.evaluate(model2_X_test_scaled, model2_y_test.values)\n",
    "\n",
    "print(f'Model 2 Neural Network Train Results: {model2_nn_results_train}')\n",
    "print(f'Model 2 Neural Network Test Results: {model2_nn_results_test}')"
   ]
  },
  {
   "cell_type": "code",
   "execution_count": 400,
   "id": "618de208",
   "metadata": {},
   "outputs": [
    {
     "name": "stdout",
     "output_type": "stream",
     "text": [
      "Model: \"sequential_27\"\n",
      "_________________________________________________________________\n",
      " Layer (type)                Output Shape              Param #   \n",
      "=================================================================\n",
      " flatten_41 (Flatten)        (None, 34)                0         \n",
      "                                                                 \n",
      " dense_78 (Dense)            (None, 16)                560       \n",
      "                                                                 \n",
      " dropout_56 (Dropout)        (None, 16)                0         \n",
      "                                                                 \n",
      " dense_79 (Dense)            (None, 1)                 17        \n",
      "                                                                 \n",
      "=================================================================\n",
      "Total params: 577\n",
      "Trainable params: 577\n",
      "Non-trainable params: 0\n",
      "_________________________________________________________________\n"
     ]
    }
   ],
   "source": [
    "model2_nn.summary()"
   ]
  },
  {
   "cell_type": "code",
   "execution_count": 401,
   "id": "36cd15b8",
   "metadata": {},
   "outputs": [
    {
     "name": "stderr",
     "output_type": "stream",
     "text": [
      "2022-12-20 17:19:52.925452: I tensorflow/core/grappler/optimizers/custom_graph_optimizer_registry.cc:113] Plugin optimizer for device_type GPU is enabled.\n"
     ]
    }
   ],
   "source": [
    "model2_nn_train_preds = model2_nn.predict(model2_X_train_scaled)\n",
    "model2_nn_test_preds = model2_nn.predict(model2_X_test_scaled)"
   ]
  },
  {
   "cell_type": "code",
   "execution_count": 402,
   "id": "92e9ac34",
   "metadata": {},
   "outputs": [
    {
     "data": {
      "image/png": "[encoded data removed]",
      "text/plain": [
       "<Figure size 640x480 with 1 Axes>"
      ]
     },
     "metadata": {},
     "output_type": "display_data"
    },
    {
     "data": {
      "image/png": "[encoded data removed]",
      "text/plain": [
       "<Figure size 640x480 with 1 Axes>"
      ]
     },
     "metadata": {},
     "output_type": "display_data"
    }
   ],
   "source": [
    "#Plot the model's train MAE, validation MAE, train loss, and validation loss by each epoch using the model's\n",
    "    #histoire variable\n",
    "model2_mae = model2_nn_histoire.history['mae']\n",
    "model2_val_mae = model2_nn_histoire.history['val_mae']\n",
    "model2_loss = model2_nn_histoire.history['loss']\n",
    "model2_val_loss = model2_nn_histoire.history['val_loss']\n",
    "model2_epochs = range(len(model2_mae))\n",
    "\n",
    "plt.plot(model2_epochs, model2_mae, 'bo', label = 'Training MAE')\n",
    "plt.plot(model2_epochs, model2_val_mae, 'b', label = 'Validation MAE')\n",
    "plt.title('Model 2 Training and Validation MAE')\n",
    "plt.legend()\n",
    "plt.figure()\n",
    "plt.plot(model2_epochs, model2_loss, 'bo', label = 'Training loss')\n",
    "plt.plot(model2_epochs, model2_val_loss, 'b', label = 'Validation loss')\n",
    "plt.title('Model 2 Training and Validation Loss')\n",
    "plt.legend()\n",
    "plt.show();"
   ]
  },
  {
   "cell_type": "code",
   "execution_count": 403,
   "id": "c37b5e47",
   "metadata": {},
   "outputs": [
    {
     "name": "stdout",
     "output_type": "stream",
     "text": [
      "Model 2 train MAE w/ preds 72.73746252539644\n",
      "Model 2 test MAE w/ preds 72.6591830000976\n",
      "Model 2 explained variance train score 0.4139810231386941\n",
      "Model 2 explained variance test score 0.41228403550837867\n",
      "Model 2 test RMSE 116.63659904934079\n"
     ]
    }
   ],
   "source": [
    "print(f'Model 2 train MAE w/ preds {mean_absolute_error(model2_y_train.values, model2_nn_train_preds)}')\n",
    "print(f'Model 2 test MAE w/ preds {mean_absolute_error(model2_y_test.values, model2_nn_test_preds)}')\n",
    "\n",
    "print(f'Model 2 explained variance train score {explained_variance_score(model2_y_train.values, model2_nn_train_preds)}')\n",
    "print(f'Model 2 explained variance test score {explained_variance_score(model2_y_test.values, model2_nn_test_preds)}')\n",
    "\n",
    "\n",
    "print(f'Model 2 test RMSE {mean_squared_error(model2_y_test.values, model2_nn_test_preds, squared = False)}')\n",
    "\n"
   ]
  },
  {
   "cell_type": "markdown",
   "id": "b68eab53",
   "metadata": {},
   "source": [
    "## Model 3 - Neural Network"
   ]
  },
  {
   "cell_type": "code",
   "execution_count": 404,
   "id": "99589b11",
   "metadata": {},
   "outputs": [],
   "source": [
    "#One hot encode the categorical columns\n",
    "model3_sklearn = asheville_modeling_data\n",
    "model3_cat = model3_sklearn[['neighborhood', 'room_type', 'day_of_week', 'month']]\n",
    "\n",
    "ohe = OneHotEncoder(drop = 'first', sparse=False)\n",
    "ohe.fit(model3_cat)\n",
    "\n",
    "model3_cat_ohe = pd.DataFrame(data = ohe.transform(model3_cat),\n",
    "                              columns = ohe.get_feature_names_out())\n",
    "\n",
    "#Merge the one hot encoded dataframe and the numeric columns\n",
    "model3_numeric = asheville_modeling_data[['daily_price', 'host_is_superhost', 'accommodates', 'bedrooms', 'beds', \n",
    "                                          'bathrooms', 'Air conditioning', 'Wifi', 'TV', 'Kitchen', 'Washer', \n",
    "                                          'Dryer', 'Heating']]\n",
    "\n",
    "model3_comb_ohe = model2_numeric.join(model2_cat_ohe, how = 'left')"
   ]
  },
  {
   "cell_type": "code",
   "execution_count": 405,
   "id": "982018c4",
   "metadata": {},
   "outputs": [],
   "source": [
    "#Begin modeling - set X and y variables\n",
    "model3_X = model3_comb_ohe.drop(['daily_price'], axis = 1)\n",
    "model3_y = model3_comb_ohe['daily_price']\n",
    "\n",
    "model3_X_train, model3_X_test, model3_y_train, model3_y_test = train_test_split(model3_X, \n",
    "                                                                                model3_y, \n",
    "                                                                                test_size = 0.18)\n",
    "\n",
    "model3_X_train, model3_X_val, model3_y_train, model3_y_val = train_test_split(model3_X_train, \n",
    "                                                                              model3_y_train,\n",
    "                                                                              test_size = 0.12)\n",
    "\n",
    "#Instantiate a new scaler\n",
    "scaler = StandardScaler()\n",
    "\n",
    "#Scale all columns\n",
    "model3_X_train_scaled = scaler.fit_transform(model3_X_train)\n",
    "model3_X_test_scaled = scaler.transform(model3_X_test)\n",
    "model3_X_val_scaled = scaler.transform(model3_X_val)"
   ]
  },
  {
   "cell_type": "code",
   "execution_count": 406,
   "id": "36403f99",
   "metadata": {},
   "outputs": [
    {
     "name": "stdout",
     "output_type": "stream",
     "text": [
      "Epoch 1/100\n"
     ]
    },
    {
     "name": "stderr",
     "output_type": "stream",
     "text": [
      "2022-12-20 17:20:44.295050: I tensorflow/core/grappler/optimizers/custom_graph_optimizer_registry.cc:113] Plugin optimizer for device_type GPU is enabled.\n"
     ]
    },
    {
     "name": "stdout",
     "output_type": "stream",
     "text": [
      "586/586 [==============================] - ETA: 0s - loss: 170.0961 - mse: 49252.2070 - mae: 169.9640"
     ]
    },
    {
     "name": "stderr",
     "output_type": "stream",
     "text": [
      "2022-12-20 17:20:57.156526: I tensorflow/core/grappler/optimizers/custom_graph_optimizer_registry.cc:113] Plugin optimizer for device_type GPU is enabled.\n"
     ]
    },
    {
     "name": "stdout",
     "output_type": "stream",
     "text": [
      "586/586 [==============================] - 14s 22ms/step - loss: 170.0961 - mse: 49252.2070 - mae: 169.9640 - val_loss: 124.1032 - val_mse: 34099.4258 - val_mae: 123.9385\n",
      "Epoch 2/100\n",
      "586/586 [==============================] - 13s 23ms/step - loss: 94.7309 - mse: 22313.8828 - mae: 94.5334 - val_loss: 75.5458 - val_mse: 15165.3643 - val_mae: 75.3270\n",
      "Epoch 3/100\n",
      "586/586 [==============================] - 11s 19ms/step - loss: 82.6768 - mse: 16371.4385 - mae: 82.4491 - val_loss: 71.5244 - val_mse: 13180.4824 - val_mae: 71.2888\n",
      "Epoch 4/100\n",
      "586/586 [==============================] - 12s 20ms/step - loss: 79.4306 - mse: 15047.2168 - mae: 79.1896 - val_loss: 69.4352 - val_mse: 12308.0771 - val_mae: 69.1900\n",
      "Epoch 5/100\n",
      "586/586 [==============================] - 12s 20ms/step - loss: 77.6783 - mse: 14411.5957 - mae: 77.4314 - val_loss: 68.4055 - val_mse: 11996.7158 - val_mae: 68.1574\n",
      "Epoch 6/100\n",
      "586/586 [==============================] - 11s 20ms/step - loss: 76.5182 - mse: 13999.3447 - mae: 76.2700 - val_loss: 67.6331 - val_mse: 11764.4434 - val_mae: 67.3852\n",
      "Epoch 7/100\n",
      "586/586 [==============================] - 11s 19ms/step - loss: 75.5828 - mse: 13748.1123 - mae: 75.3359 - val_loss: 67.0868 - val_mse: 11610.9150 - val_mae: 66.8416\n",
      "Epoch 8/100\n",
      "586/586 [==============================] - 11s 20ms/step - loss: 75.0171 - mse: 13581.0742 - mae: 74.7731 - val_loss: 66.7714 - val_mse: 11417.1885 - val_mae: 66.5285\n",
      "Epoch 9/100\n",
      "586/586 [==============================] - 11s 20ms/step - loss: 74.4738 - mse: 13410.2168 - mae: 74.2329 - val_loss: 66.5707 - val_mse: 11432.7783 - val_mae: 66.3316\n",
      "Epoch 10/100\n",
      "586/586 [==============================] - 11s 19ms/step - loss: 74.0229 - mse: 13266.8291 - mae: 73.7852 - val_loss: 66.2912 - val_mse: 11305.3418 - val_mae: 66.0549\n",
      "Epoch 11/100\n",
      "586/586 [==============================] - 11s 19ms/step - loss: 73.6839 - mse: 13161.5674 - mae: 73.4495 - val_loss: 66.2077 - val_mse: 11278.5996 - val_mae: 65.9745\n",
      "Epoch 12/100\n",
      "586/586 [==============================] - 11s 19ms/step - loss: 73.2048 - mse: 13023.3730 - mae: 72.9729 - val_loss: 66.1109 - val_mse: 11304.9922 - val_mae: 65.8799\n",
      "Epoch 13/100\n",
      "586/586 [==============================] - 11s 20ms/step - loss: 72.9511 - mse: 12968.4492 - mae: 72.7211 - val_loss: 66.1232 - val_mse: 11365.6650 - val_mae: 65.8943\n",
      "Epoch 14/100\n",
      "586/586 [==============================] - 12s 20ms/step - loss: 72.6365 - mse: 12869.2842 - mae: 72.4077 - val_loss: 66.0346 - val_mse: 11287.1807 - val_mae: 65.8062\n",
      "Epoch 15/100\n",
      "586/586 [==============================] - 11s 20ms/step - loss: 72.2948 - mse: 12787.5908 - mae: 72.0669 - val_loss: 65.8199 - val_mse: 11208.0469 - val_mae: 65.5918\n",
      "Epoch 16/100\n",
      "586/586 [==============================] - 12s 20ms/step - loss: 72.1401 - mse: 12737.1406 - mae: 71.9122 - val_loss: 65.7395 - val_mse: 11280.6553 - val_mae: 65.5114\n",
      "Epoch 17/100\n",
      "586/586 [==============================] - 11s 19ms/step - loss: 71.9278 - mse: 12674.2305 - mae: 71.6994 - val_loss: 65.6964 - val_mse: 11216.1338 - val_mae: 65.4676\n",
      "Epoch 18/100\n",
      "586/586 [==============================] - 11s 20ms/step - loss: 71.6811 - mse: 12568.2256 - mae: 71.4518 - val_loss: 65.7444 - val_mse: 11302.1768 - val_mae: 65.5146\n",
      "Epoch 19/100\n",
      "586/586 [==============================] - 11s 20ms/step - loss: 71.4627 - mse: 12529.4102 - mae: 71.2322 - val_loss: 65.7088 - val_mse: 11339.7129 - val_mae: 65.4782\n",
      "Epoch 20/100\n",
      "586/586 [==============================] - 12s 20ms/step - loss: 71.2565 - mse: 12461.5361 - mae: 71.0249 - val_loss: 65.5128 - val_mse: 11222.2031 - val_mae: 65.2803\n",
      "Epoch 21/100\n",
      "586/586 [==============================] - 11s 20ms/step - loss: 71.0958 - mse: 12413.5967 - mae: 70.8627 - val_loss: 65.6974 - val_mse: 11293.0654 - val_mae: 65.4639\n",
      "Epoch 22/100\n",
      "586/586 [==============================] - 12s 20ms/step - loss: 70.8482 - mse: 12337.1523 - mae: 70.6138 - val_loss: 65.5169 - val_mse: 11221.4375 - val_mae: 65.2820\n",
      "Epoch 23/100\n",
      "586/586 [==============================] - 11s 20ms/step - loss: 70.7230 - mse: 12300.2246 - mae: 70.4874 - val_loss: 65.3885 - val_mse: 11169.0176 - val_mae: 65.1521\n",
      "Epoch 24/100\n",
      "586/586 [==============================] - 12s 20ms/step - loss: 70.5296 - mse: 12266.8955 - mae: 70.2921 - val_loss: 65.5700 - val_mse: 11359.1738 - val_mae: 65.3317\n",
      "Epoch 25/100\n",
      "586/586 [==============================] - 12s 20ms/step - loss: 70.4741 - mse: 12221.8877 - mae: 70.2350 - val_loss: 65.3828 - val_mse: 11242.1523 - val_mae: 65.1431\n",
      "Epoch 26/100\n",
      "586/586 [==============================] - 11s 20ms/step - loss: 70.2062 - mse: 12156.5479 - mae: 69.9655 - val_loss: 65.4440 - val_mse: 11336.2412 - val_mae: 65.2028\n",
      "Epoch 27/100\n",
      "586/586 [==============================] - 11s 20ms/step - loss: 70.0040 - mse: 12096.4629 - mae: 69.7616 - val_loss: 65.2919 - val_mse: 11201.0957 - val_mae: 65.0484\n",
      "Epoch 28/100\n",
      "586/586 [==============================] - 11s 20ms/step - loss: 70.0378 - mse: 12094.3301 - mae: 69.7937 - val_loss: 65.2741 - val_mse: 11249.4209 - val_mae: 65.0294\n",
      "Epoch 29/100\n",
      "586/586 [==============================] - 11s 20ms/step - loss: 69.9337 - mse: 12072.8145 - mae: 69.6881 - val_loss: 65.2499 - val_mse: 11248.6934 - val_mae: 65.0035\n",
      "Epoch 30/100\n",
      "586/586 [==============================] - 11s 20ms/step - loss: 69.7527 - mse: 12006.4717 - mae: 69.5054 - val_loss: 65.3081 - val_mse: 11223.7021 - val_mae: 65.0598\n",
      "Epoch 31/100\n",
      "586/586 [==============================] - 12s 20ms/step - loss: 69.6631 - mse: 11998.2139 - mae: 69.4141 - val_loss: 65.1520 - val_mse: 11186.4229 - val_mae: 64.9023\n",
      "Epoch 32/100\n",
      "586/586 [==============================] - 11s 20ms/step - loss: 69.5214 - mse: 11961.7051 - mae: 69.2709 - val_loss: 65.2679 - val_mse: 11236.9365 - val_mae: 65.0166\n",
      "Epoch 33/100\n",
      "586/586 [==============================] - 11s 19ms/step - loss: 69.3940 - mse: 11929.2432 - mae: 69.1422 - val_loss: 65.1421 - val_mse: 11181.7109 - val_mae: 64.8896\n",
      "Epoch 34/100\n",
      "586/586 [==============================] - 12s 20ms/step - loss: 69.2695 - mse: 11874.2119 - mae: 69.0163 - val_loss: 65.0007 - val_mse: 11131.1787 - val_mae: 64.7468\n",
      "Epoch 35/100\n",
      "586/586 [==============================] - 12s 20ms/step - loss: 69.2132 - mse: 11851.9121 - mae: 68.9586 - val_loss: 65.0663 - val_mse: 11169.7021 - val_mae: 64.8113\n",
      "Epoch 36/100\n",
      "586/586 [==============================] - 12s 20ms/step - loss: 69.1251 - mse: 11846.1445 - mae: 68.8694 - val_loss: 64.9485 - val_mse: 11140.5293 - val_mae: 64.6924\n",
      "Epoch 37/100\n",
      "586/586 [==============================] - 12s 20ms/step - loss: 68.9666 - mse: 11767.4414 - mae: 68.7097 - val_loss: 64.8216 - val_mse: 11070.4824 - val_mae: 64.5641\n",
      "Epoch 38/100\n",
      "586/586 [==============================] - 12s 20ms/step - loss: 69.0011 - mse: 11821.5508 - mae: 68.7434 - val_loss: 64.8505 - val_mse: 11082.4502 - val_mae: 64.5920\n",
      "Epoch 39/100\n",
      "586/586 [==============================] - 12s 20ms/step - loss: 68.9187 - mse: 11786.1377 - mae: 68.6598 - val_loss: 64.7456 - val_mse: 11062.6494 - val_mae: 64.4862\n",
      "Epoch 40/100\n",
      "586/586 [==============================] - 11s 19ms/step - loss: 68.7499 - mse: 11734.3027 - mae: 68.4900 - val_loss: 64.7706 - val_mse: 11018.4463 - val_mae: 64.5102\n",
      "Epoch 41/100\n",
      "586/586 [==============================] - 11s 19ms/step - loss: 68.6889 - mse: 11709.4209 - mae: 68.4279 - val_loss: 64.7360 - val_mse: 11022.7051 - val_mae: 64.4746\n",
      "Epoch 42/100\n",
      "586/586 [==============================] - 11s 19ms/step - loss: 68.7348 - mse: 11747.4590 - mae: 68.4732 - val_loss: 64.8006 - val_mse: 11075.1162 - val_mae: 64.5388\n",
      "Epoch 43/100\n",
      "586/586 [==============================] - 12s 20ms/step - loss: 68.6268 - mse: 11693.4795 - mae: 68.3645 - val_loss: 64.6876 - val_mse: 11077.2695 - val_mae: 64.4250\n",
      "Epoch 44/100\n",
      "586/586 [==============================] - 12s 20ms/step - loss: 68.4834 - mse: 11656.5996 - mae: 68.2206 - val_loss: 64.5992 - val_mse: 10959.6670 - val_mae: 64.3358\n",
      "Epoch 45/100\n",
      "586/586 [==============================] - 11s 20ms/step - loss: 68.5010 - mse: 11673.6074 - mae: 68.2374 - val_loss: 64.5973 - val_mse: 10999.9072 - val_mae: 64.3334\n",
      "Epoch 46/100\n"
     ]
    },
    {
     "name": "stdout",
     "output_type": "stream",
     "text": [
      "586/586 [==============================] - 12s 20ms/step - loss: 68.3989 - mse: 11630.9336 - mae: 68.1344 - val_loss: 64.5164 - val_mse: 10920.5576 - val_mae: 64.2511\n",
      "Epoch 47/100\n",
      "586/586 [==============================] - 11s 19ms/step - loss: 68.3558 - mse: 11608.4512 - mae: 68.0905 - val_loss: 64.6239 - val_mse: 11024.5615 - val_mae: 64.3587\n",
      "Epoch 48/100\n",
      "586/586 [==============================] - 11s 19ms/step - loss: 68.3221 - mse: 11607.9756 - mae: 68.0563 - val_loss: 64.6597 - val_mse: 11008.5869 - val_mae: 64.3938\n",
      "Epoch 49/100\n",
      "586/586 [==============================] - 11s 19ms/step - loss: 68.1864 - mse: 11573.9805 - mae: 67.9200 - val_loss: 64.4839 - val_mse: 10980.0029 - val_mae: 64.2169\n",
      "Epoch 50/100\n",
      "586/586 [==============================] - 11s 19ms/step - loss: 68.2170 - mse: 11575.2061 - mae: 67.9500 - val_loss: 64.4619 - val_mse: 10937.0654 - val_mae: 64.1946\n",
      "Epoch 51/100\n",
      "586/586 [==============================] - 11s 19ms/step - loss: 68.1662 - mse: 11568.8633 - mae: 67.8988 - val_loss: 64.5259 - val_mse: 10987.3125 - val_mae: 64.2581\n",
      "Epoch 52/100\n",
      "586/586 [==============================] - 11s 19ms/step - loss: 68.1110 - mse: 11549.9639 - mae: 67.8429 - val_loss: 64.5676 - val_mse: 10996.4346 - val_mae: 64.2995\n",
      "Epoch 53/100\n",
      "586/586 [==============================] - 11s 20ms/step - loss: 68.0577 - mse: 11520.2324 - mae: 67.7894 - val_loss: 64.4260 - val_mse: 10948.0801 - val_mae: 64.1574\n",
      "Epoch 54/100\n",
      "586/586 [==============================] - 11s 19ms/step - loss: 67.9705 - mse: 11506.1719 - mae: 67.7016 - val_loss: 64.5005 - val_mse: 10984.4795 - val_mae: 64.2315\n",
      "Epoch 55/100\n",
      "586/586 [==============================] - 12s 20ms/step - loss: 67.9109 - mse: 11504.2666 - mae: 67.6415 - val_loss: 64.2709 - val_mse: 10902.4297 - val_mae: 64.0013\n",
      "Epoch 56/100\n",
      "586/586 [==============================] - 12s 20ms/step - loss: 67.8939 - mse: 11478.4502 - mae: 67.6241 - val_loss: 64.3286 - val_mse: 10946.4375 - val_mae: 64.0585\n",
      "Epoch 57/100\n",
      "586/586 [==============================] - 11s 19ms/step - loss: 67.8946 - mse: 11489.3223 - mae: 67.6242 - val_loss: 64.4515 - val_mse: 11015.3076 - val_mae: 64.1812\n",
      "Epoch 58/100\n",
      "586/586 [==============================] - 11s 19ms/step - loss: 67.8274 - mse: 11471.6309 - mae: 67.5565 - val_loss: 64.3503 - val_mse: 10969.6719 - val_mae: 64.0795\n",
      "Epoch 59/100\n",
      "586/586 [==============================] - 11s 19ms/step - loss: 67.7349 - mse: 11425.2012 - mae: 67.4638 - val_loss: 64.3811 - val_mse: 10975.2197 - val_mae: 64.1100\n",
      "Epoch 60/100\n",
      "586/586 [==============================] - 11s 19ms/step - loss: 67.7271 - mse: 11433.5430 - mae: 67.4556 - val_loss: 64.1378 - val_mse: 10836.1826 - val_mae: 63.8661\n",
      "Epoch 61/100\n",
      "586/586 [==============================] - 11s 19ms/step - loss: 67.6793 - mse: 11416.4932 - mae: 67.4076 - val_loss: 64.2361 - val_mse: 10933.7930 - val_mae: 63.9643\n",
      "Epoch 62/100\n",
      "586/586 [==============================] - 12s 20ms/step - loss: 67.6436 - mse: 11399.4990 - mae: 67.3718 - val_loss: 64.1037 - val_mse: 10806.1289 - val_mae: 63.8319\n",
      "Epoch 63/100\n",
      "586/586 [==============================] - 11s 19ms/step - loss: 67.6702 - mse: 11425.3936 - mae: 67.3983 - val_loss: 64.2334 - val_mse: 10923.6113 - val_mae: 63.9613\n",
      "Epoch 64/100\n",
      "586/586 [==============================] - 11s 19ms/step - loss: 67.6432 - mse: 11407.6396 - mae: 67.3710 - val_loss: 64.3119 - val_mse: 10982.4863 - val_mae: 64.0397\n",
      "Epoch 65/100\n",
      "586/586 [==============================] - 11s 19ms/step - loss: 67.4798 - mse: 11366.0107 - mae: 67.2074 - val_loss: 64.1063 - val_mse: 10860.1787 - val_mae: 63.8337\n",
      "Epoch 66/100\n",
      "586/586 [==============================] - 11s 19ms/step - loss: 67.5152 - mse: 11382.3135 - mae: 67.2426 - val_loss: 64.2176 - val_mse: 10925.4678 - val_mae: 63.9451\n",
      "Epoch 67/100\n",
      "586/586 [==============================] - 11s 19ms/step - loss: 67.4958 - mse: 11388.1631 - mae: 67.2232 - val_loss: 64.1904 - val_mse: 10934.7402 - val_mae: 63.9178\n",
      "Epoch 68/100\n",
      "586/586 [==============================] - 12s 20ms/step - loss: 67.4739 - mse: 11353.7910 - mae: 67.2009 - val_loss: 64.1281 - val_mse: 10904.0918 - val_mae: 63.8549\n",
      "Epoch 69/100\n",
      "586/586 [==============================] - 12s 20ms/step - loss: 67.4823 - mse: 11357.6924 - mae: 67.2088 - val_loss: 63.9589 - val_mse: 10775.7305 - val_mae: 63.6853\n",
      "Epoch 70/100\n",
      "586/586 [==============================] - 11s 19ms/step - loss: 67.4634 - mse: 11337.8154 - mae: 67.1900 - val_loss: 64.1294 - val_mse: 10908.3604 - val_mae: 63.8559\n",
      "Epoch 71/100\n",
      "586/586 [==============================] - 11s 19ms/step - loss: 67.3870 - mse: 11345.8145 - mae: 67.1135 - val_loss: 64.0407 - val_mse: 10841.4307 - val_mae: 63.7671\n",
      "Epoch 72/100\n",
      "586/586 [==============================] - 11s 19ms/step - loss: 67.3907 - mse: 11323.9912 - mae: 67.1172 - val_loss: 64.1663 - val_mse: 10946.6104 - val_mae: 63.8929\n",
      "Epoch 73/100\n",
      "586/586 [==============================] - 11s 19ms/step - loss: 67.3857 - mse: 11333.6006 - mae: 67.1119 - val_loss: 64.1225 - val_mse: 10847.9473 - val_mae: 63.8489\n",
      "Epoch 74/100\n",
      "586/586 [==============================] - 11s 19ms/step - loss: 67.2847 - mse: 11326.6777 - mae: 67.0109 - val_loss: 64.0654 - val_mse: 10869.3408 - val_mae: 63.7917\n",
      "Epoch 75/100\n",
      "586/586 [==============================] - 11s 19ms/step - loss: 67.2758 - mse: 11313.6807 - mae: 67.0021 - val_loss: 63.9123 - val_mse: 10773.4404 - val_mae: 63.6385\n",
      "Epoch 76/100\n",
      "586/586 [==============================] - 11s 19ms/step - loss: 67.2334 - mse: 11310.3408 - mae: 66.9599 - val_loss: 63.8732 - val_mse: 10749.5352 - val_mae: 63.5995\n",
      "Epoch 77/100\n",
      "586/586 [==============================] - 12s 21ms/step - loss: 67.2743 - mse: 11303.9883 - mae: 67.0009 - val_loss: 64.2085 - val_mse: 10979.7734 - val_mae: 63.9352\n",
      "Epoch 78/100\n",
      "586/586 [==============================] - 12s 20ms/step - loss: 67.2056 - mse: 11293.2764 - mae: 66.9322 - val_loss: 63.9162 - val_mse: 10821.6211 - val_mae: 63.6429\n",
      "Epoch 79/100\n",
      "586/586 [==============================] - 12s 20ms/step - loss: 67.2150 - mse: 11284.3428 - mae: 66.9417 - val_loss: 63.8189 - val_mse: 10767.4336 - val_mae: 63.5456\n",
      "Epoch 80/100\n",
      "586/586 [==============================] - 11s 19ms/step - loss: 67.1283 - mse: 11259.6797 - mae: 66.8551 - val_loss: 63.9534 - val_mse: 10862.8008 - val_mae: 63.6801\n",
      "Epoch 81/100\n",
      "586/586 [==============================] - 11s 19ms/step - loss: 67.0613 - mse: 11255.5664 - mae: 66.7882 - val_loss: 63.9920 - val_mse: 10863.1104 - val_mae: 63.7191\n",
      "Epoch 82/100\n",
      "586/586 [==============================] - 11s 20ms/step - loss: 67.1484 - mse: 11276.1875 - mae: 66.8753 - val_loss: 63.8680 - val_mse: 10776.1396 - val_mae: 63.5949\n",
      "Epoch 83/100\n",
      "586/586 [==============================] - 11s 19ms/step - loss: 67.0983 - mse: 11238.0684 - mae: 66.8254 - val_loss: 63.9297 - val_mse: 10821.8486 - val_mae: 63.6569\n",
      "Epoch 84/100\n",
      "586/586 [==============================] - 11s 19ms/step - loss: 66.9962 - mse: 11231.2764 - mae: 66.7232 - val_loss: 64.0650 - val_mse: 10930.8955 - val_mae: 63.7922\n",
      "Epoch 85/100\n",
      "586/586 [==============================] - 12s 20ms/step - loss: 67.0462 - mse: 11229.6514 - mae: 66.7731 - val_loss: 63.9569 - val_mse: 10870.1006 - val_mae: 63.6838\n",
      "Epoch 86/100\n",
      "586/586 [==============================] - 12s 20ms/step - loss: 67.0451 - mse: 11239.5469 - mae: 66.7722 - val_loss: 63.7421 - val_mse: 10738.2432 - val_mae: 63.4692\n",
      "Epoch 87/100\n",
      "586/586 [==============================] - 11s 19ms/step - loss: 67.0049 - mse: 11225.6943 - mae: 66.7323 - val_loss: 63.8714 - val_mse: 10802.3926 - val_mae: 63.5987\n",
      "Epoch 88/100\n",
      "586/586 [==============================] - 11s 19ms/step - loss: 66.9668 - mse: 11219.4160 - mae: 66.6943 - val_loss: 63.9209 - val_mse: 10867.2451 - val_mae: 63.6486\n",
      "Epoch 89/100\n",
      "586/586 [==============================] - 11s 20ms/step - loss: 67.0073 - mse: 11249.6572 - mae: 66.7349 - val_loss: 63.5867 - val_mse: 10670.6748 - val_mae: 63.3143\n",
      "Epoch 90/100\n",
      "586/586 [==============================] - 12s 20ms/step - loss: 67.0046 - mse: 11223.4033 - mae: 66.7327 - val_loss: 63.8468 - val_mse: 10845.3242 - val_mae: 63.5750\n",
      "Epoch 91/100\n"
     ]
    },
    {
     "name": "stdout",
     "output_type": "stream",
     "text": [
      "586/586 [==============================] - 11s 19ms/step - loss: 66.9668 - mse: 11232.7559 - mae: 66.6950 - val_loss: 63.7457 - val_mse: 10760.7314 - val_mae: 63.4741\n",
      "Epoch 92/100\n",
      "586/586 [==============================] - 11s 19ms/step - loss: 66.9187 - mse: 11217.0000 - mae: 66.6471 - val_loss: 63.7562 - val_mse: 10761.6455 - val_mae: 63.4847\n",
      "Epoch 93/100\n",
      "586/586 [==============================] - 11s 19ms/step - loss: 66.9194 - mse: 11206.9189 - mae: 66.6481 - val_loss: 63.8136 - val_mse: 10815.5273 - val_mae: 63.5424\n",
      "Epoch 94/100\n",
      "586/586 [==============================] - 11s 19ms/step - loss: 66.8629 - mse: 11197.3926 - mae: 66.5917 - val_loss: 63.7398 - val_mse: 10803.9326 - val_mae: 63.4688\n",
      "Epoch 95/100\n",
      "586/586 [==============================] - 11s 19ms/step - loss: 66.8657 - mse: 11187.4951 - mae: 66.5946 - val_loss: 63.8561 - val_mse: 10847.7070 - val_mae: 63.5853\n",
      "Epoch 96/100\n",
      "586/586 [==============================] - 11s 20ms/step - loss: 66.8479 - mse: 11183.3652 - mae: 66.5770 - val_loss: 63.7622 - val_mse: 10797.4766 - val_mae: 63.4912\n",
      "Epoch 97/100\n",
      "586/586 [==============================] - 12s 20ms/step - loss: 66.8532 - mse: 11182.6387 - mae: 66.5825 - val_loss: 63.8143 - val_mse: 10838.9473 - val_mae: 63.5439\n",
      "Epoch 98/100\n",
      "586/586 [==============================] - 12s 20ms/step - loss: 66.8305 - mse: 11185.9199 - mae: 66.5603 - val_loss: 63.7332 - val_mse: 10783.2773 - val_mae: 63.4631\n",
      "Epoch 99/100\n",
      "586/586 [==============================] - 12s 20ms/step - loss: 66.8633 - mse: 11186.2627 - mae: 66.5934 - val_loss: 63.7438 - val_mse: 10798.7783 - val_mae: 63.4741\n",
      "Epoch 100/100\n",
      "586/586 [==============================] - 12s 20ms/step - loss: 66.8067 - mse: 11178.8916 - mae: 66.5372 - val_loss: 63.7529 - val_mse: 10812.2695 - val_mae: 63.4835\n"
     ]
    }
   ],
   "source": [
    "#Instantiate a Regularizer\n",
    "reg = l2(3e-3)\n",
    "\n",
    "#Begin a new Sequential Model\n",
    "model3_nn = models.Sequential()\n",
    "#Consider going bigger to smaller filters between conv1d layers\n",
    "model3_nn.add(layers.Conv1D(filters = 50, kernel_size = 3, activation = 'relu', padding = 'causal', \n",
    "                            input_shape = (model3_X_train_scaled.shape[1], 1)))\n",
    "model3_nn.add(layers.MaxPooling1D(pool_size = 2))\n",
    "model3_nn.add(layers.Dropout(0.5))\n",
    "model3_nn.add(layers.BatchNormalization())\n",
    "model3_nn.add(layers.Conv1D(filters = 25, kernel_size = 3, activation = 'relu', padding = 'causal', \n",
    "                            input_shape = (model3_X_train_scaled.shape[1], 1)))\n",
    "model3_nn.add(layers.MaxPooling1D(pool_size = 2))\n",
    "model3_nn.add(layers.BatchNormalization())\n",
    "model3_nn.add(layers.Dropout(0.4))\n",
    "model3_nn.add(layers.Flatten())\n",
    "model3_nn.add(layers.Dense(16, activation = 'relu', input_shape=(34, 1), kernel_regularizer = reg))\n",
    "model3_nn.add(layers.Dropout(0.3))\n",
    "model3_nn.add(layers.Dense(8, activation='relu', input_shape=(34, 1), kernel_regularizer = reg))\n",
    "model3_nn.add(layers.Dense(1))\n",
    "\n",
    "#Create an opt variable which is set to the learning rate to be used, we will use 0.0002\n",
    "opt = Adam(learning_rate = 0.0001)\n",
    "\n",
    "#Add an early stopping mechanism which will stop fitting the model based on the minimum validation loss, a minimum\n",
    "    #delta of 0.05, and a patience of 10\n",
    "es = EarlyStopping(monitor = 'mae', mode = 'min', min_delta = 0.05, patience = 10)\n",
    "\n",
    "#Set the random seed to 42 for reproducibility\n",
    "np.random.seed(42)\n",
    "\n",
    "#Compile the model and utilize the 'opt' variable, \n",
    "model3_nn.compile(optimizer = opt,\n",
    "                  loss = 'mae',\n",
    "                  metrics = ['mse', 'mae'])\n",
    "\n",
    "#Create a new _histoire variable containing the fit model\n",
    "model3_nn_histoire = model3_nn.fit(model3_X_train_scaled,\n",
    "                                   model3_y_train.values,\n",
    "                                   callbacks = [es],\n",
    "                                   epochs = 100,\n",
    "                                   batch_size = 1000,\n",
    "                                   validation_data = (model3_X_val_scaled, model3_y_val.values))"
   ]
  },
  {
   "cell_type": "code",
   "execution_count": 407,
   "id": "531c7c6b",
   "metadata": {},
   "outputs": [
    {
     "name": "stdout",
     "output_type": "stream",
     "text": [
      "18298/18298 [==============================] - 117s 6ms/step - loss: 63.8909 - mse: 10862.0752 - mae: 63.6215\n",
      "4565/4565 [==============================] - 30s 7ms/step - loss: 63.8566 - mse: 10833.7148 - mae: 63.5872\n",
      "Model 2 Neural Network Train Results: [63.890869140625, 10862.0751953125, 63.621498107910156]\n",
      "Model 2 Neural Network Test Results: [63.8565559387207, 10833.71484375, 63.587223052978516]\n"
     ]
    }
   ],
   "source": [
    "model3_nn_results_train = model3_nn.evaluate(model3_X_train_scaled, model3_y_train.values)\n",
    "model3_nn_results_test = model3_nn.evaluate(model3_X_test_scaled, model3_y_test.values)\n",
    "\n",
    "print(f'Model 2 Neural Network Train Results: {model3_nn_results_train}')\n",
    "print(f'Model 2 Neural Network Test Results: {model3_nn_results_test}')"
   ]
  },
  {
   "cell_type": "code",
   "execution_count": 408,
   "id": "96e490ea",
   "metadata": {},
   "outputs": [
    {
     "data": {
      "image/png": "[encoded data removed]",
      "text/plain": [
       "<Figure size 640x480 with 1 Axes>"
      ]
     },
     "metadata": {},
     "output_type": "display_data"
    },
    {
     "data": {
      "image/png": "[encoded data removed]",
      "text/plain": [
       "<Figure size 640x480 with 1 Axes>"
      ]
     },
     "metadata": {},
     "output_type": "display_data"
    }
   ],
   "source": [
    "#Plot the model's train MAE, validation MAE, train loss, and validation loss by each epoch using the model's\n",
    "    #histoire variable\n",
    "model3_mae = model3_nn_histoire.history['mae']\n",
    "model3_val_mae = model3_nn_histoire.history['val_mae']\n",
    "model3_loss = model3_nn_histoire.history['loss']\n",
    "model3_val_loss = model3_nn_histoire.history['val_loss']\n",
    "model3_epochs = range(len(model3_mae))\n",
    "\n",
    "plt.plot(model3_epochs, model3_mae, 'bo', label = 'Training MAE')\n",
    "plt.plot(model3_epochs, model3_val_mae, 'b', label = 'Validation MAE')\n",
    "plt.title('Model 3 Training and Validation MAE')\n",
    "plt.legend()\n",
    "plt.figure()\n",
    "plt.plot(model3_epochs, model3_loss, 'bo', label = 'Training loss')\n",
    "plt.plot(model3_epochs, model3_val_loss, 'b', label = 'Validation loss')\n",
    "plt.title('Model 3 Training and Validation Loss')\n",
    "plt.legend()\n",
    "plt.show();"
   ]
  },
  {
   "cell_type": "code",
   "execution_count": 409,
   "id": "e32a608e",
   "metadata": {},
   "outputs": [
    {
     "name": "stderr",
     "output_type": "stream",
     "text": [
      "2022-12-20 17:42:20.689135: I tensorflow/core/grappler/optimizers/custom_graph_optimizer_registry.cc:113] Plugin optimizer for device_type GPU is enabled.\n"
     ]
    }
   ],
   "source": [
    "model3_nn_train_preds = model3_nn.predict(model3_X_train_scaled)\n",
    "model3_nn_test_preds = model3_nn.predict(model3_X_test_scaled)"
   ]
  },
  {
   "cell_type": "code",
   "execution_count": 410,
   "id": "b6982fdf",
   "metadata": {},
   "outputs": [
    {
     "name": "stdout",
     "output_type": "stream",
     "text": [
      "Model 3 train MAE w/ preds 63.6213989571966\n",
      "Model 3 test MAE w/ preds 63.58722434001476\n",
      "Model 3 explained variance train score 0.4833122798234001\n",
      "Model 3 explained variance test score 0.48321155146595196\n",
      "Model 3 test RMSE 104.08504847082928\n"
     ]
    }
   ],
   "source": [
    "print(f'Model 3 train MAE w/ preds {mean_absolute_error(model3_y_train.values, model3_nn_train_preds)}')\n",
    "print(f'Model 3 test MAE w/ preds {mean_absolute_error(model3_y_test.values, model3_nn_test_preds)}')\n",
    "\n",
    "print(f'Model 3 explained variance train score {explained_variance_score(model3_y_train.values, model3_nn_train_preds)}')\n",
    "print(f'Model 3 explained variance test score {explained_variance_score(model3_y_test.values, model3_nn_test_preds)}')\n",
    "\n",
    "\n",
    "print(f'Model 3 test RMSE {mean_squared_error(model3_y_test.values, model3_nn_test_preds, squared = False)}')"
   ]
  },
  {
   "cell_type": "code",
   "execution_count": 411,
   "id": "ba36db74",
   "metadata": {},
   "outputs": [],
   "source": [
    "#text = input()"
   ]
  }
 ],
 "metadata": {
  "kernelspec": {
   "display_name": "tensorflow_env",
   "language": "python",
   "name": "tensorflow_env"
  },
  "language_info": {
   "codemirror_mode": {
    "name": "ipython",
    "version": 3
   },
   "file_extension": ".py",
   "mimetype": "text/x-python",
   "name": "python",
   "nbconvert_exporter": "python",
   "pygments_lexer": "ipython3",
   "version": "3.8.15"
  }
 },
 "nbformat": 4,
 "nbformat_minor": 5
}
