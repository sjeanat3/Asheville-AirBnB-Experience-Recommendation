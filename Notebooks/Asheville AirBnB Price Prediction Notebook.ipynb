{
 "cells": [
  {
   "cell_type": "markdown",
   "id": "aed8b3fa",
   "metadata": {},
   "source": [
    "# Import Necessary Libraries"
   ]
  },
  {
   "cell_type": "code",
   "execution_count": 1841,
   "id": "2fc2ce3e",
   "metadata": {},
   "outputs": [],
   "source": [
    "import pandas as pd\n",
    "import gzip\n",
    "import shutil"
   ]
  },
  {
   "cell_type": "markdown",
   "id": "fc59262f",
   "metadata": {},
   "source": [
    "# Exploratory Data Analysis (EDA)"
   ]
  },
  {
   "cell_type": "markdown",
   "id": "2a88113a",
   "metadata": {},
   "source": [
    "## Calendar Data"
   ]
  },
  {
   "cell_type": "code",
   "execution_count": 1842,
   "id": "97afa6b0",
   "metadata": {},
   "outputs": [
    {
     "data": {
      "text/html": [
       "<div>\n",
       "<style scoped>\n",
       "    .dataframe tbody tr th:only-of-type {\n",
       "        vertical-align: middle;\n",
       "    }\n",
       "\n",
       "    .dataframe tbody tr th {\n",
       "        vertical-align: top;\n",
       "    }\n",
       "\n",
       "    .dataframe thead th {\n",
       "        text-align: right;\n",
       "    }\n",
       "</style>\n",
       "<table border=\"1\" class=\"dataframe\">\n",
       "  <thead>\n",
       "    <tr style=\"text-align: right;\">\n",
       "      <th></th>\n",
       "      <th>listing_id</th>\n",
       "      <th>date</th>\n",
       "      <th>available</th>\n",
       "      <th>price</th>\n",
       "      <th>adjusted_price</th>\n",
       "      <th>minimum_nights</th>\n",
       "      <th>maximum_nights</th>\n",
       "    </tr>\n",
       "  </thead>\n",
       "  <tbody>\n",
       "    <tr>\n",
       "      <th>0</th>\n",
       "      <td>5868695</td>\n",
       "      <td>2022-09-14</td>\n",
       "      <td>f</td>\n",
       "      <td>$300.00</td>\n",
       "      <td>$240.00</td>\n",
       "      <td>4</td>\n",
       "      <td>1125</td>\n",
       "    </tr>\n",
       "    <tr>\n",
       "      <th>1</th>\n",
       "      <td>5868695</td>\n",
       "      <td>2022-09-15</td>\n",
       "      <td>f</td>\n",
       "      <td>$300.00</td>\n",
       "      <td>$240.00</td>\n",
       "      <td>4</td>\n",
       "      <td>1125</td>\n",
       "    </tr>\n",
       "    <tr>\n",
       "      <th>2</th>\n",
       "      <td>5868695</td>\n",
       "      <td>2022-09-16</td>\n",
       "      <td>f</td>\n",
       "      <td>$400.00</td>\n",
       "      <td>$320.00</td>\n",
       "      <td>4</td>\n",
       "      <td>1125</td>\n",
       "    </tr>\n",
       "    <tr>\n",
       "      <th>3</th>\n",
       "      <td>5868695</td>\n",
       "      <td>2022-09-17</td>\n",
       "      <td>f</td>\n",
       "      <td>$400.00</td>\n",
       "      <td>$320.00</td>\n",
       "      <td>4</td>\n",
       "      <td>1125</td>\n",
       "    </tr>\n",
       "    <tr>\n",
       "      <th>4</th>\n",
       "      <td>5868695</td>\n",
       "      <td>2022-09-18</td>\n",
       "      <td>f</td>\n",
       "      <td>$300.00</td>\n",
       "      <td>$240.00</td>\n",
       "      <td>4</td>\n",
       "      <td>1125</td>\n",
       "    </tr>\n",
       "    <tr>\n",
       "      <th>...</th>\n",
       "      <td>...</td>\n",
       "      <td>...</td>\n",
       "      <td>...</td>\n",
       "      <td>...</td>\n",
       "      <td>...</td>\n",
       "      <td>...</td>\n",
       "      <td>...</td>\n",
       "    </tr>\n",
       "    <tr>\n",
       "      <th>1098280</th>\n",
       "      <td>11510567</td>\n",
       "      <td>2023-09-09</td>\n",
       "      <td>t</td>\n",
       "      <td>$130.00</td>\n",
       "      <td>$130.00</td>\n",
       "      <td>2</td>\n",
       "      <td>1125</td>\n",
       "    </tr>\n",
       "    <tr>\n",
       "      <th>1098281</th>\n",
       "      <td>11510567</td>\n",
       "      <td>2023-09-10</td>\n",
       "      <td>t</td>\n",
       "      <td>$130.00</td>\n",
       "      <td>$130.00</td>\n",
       "      <td>2</td>\n",
       "      <td>1125</td>\n",
       "    </tr>\n",
       "    <tr>\n",
       "      <th>1098282</th>\n",
       "      <td>11510567</td>\n",
       "      <td>2023-09-11</td>\n",
       "      <td>t</td>\n",
       "      <td>$130.00</td>\n",
       "      <td>$130.00</td>\n",
       "      <td>2</td>\n",
       "      <td>1125</td>\n",
       "    </tr>\n",
       "    <tr>\n",
       "      <th>1098283</th>\n",
       "      <td>11510567</td>\n",
       "      <td>2023-09-12</td>\n",
       "      <td>t</td>\n",
       "      <td>$130.00</td>\n",
       "      <td>$130.00</td>\n",
       "      <td>2</td>\n",
       "      <td>1125</td>\n",
       "    </tr>\n",
       "    <tr>\n",
       "      <th>1098284</th>\n",
       "      <td>11510567</td>\n",
       "      <td>2023-09-13</td>\n",
       "      <td>t</td>\n",
       "      <td>$130.00</td>\n",
       "      <td>$130.00</td>\n",
       "      <td>2</td>\n",
       "      <td>1125</td>\n",
       "    </tr>\n",
       "  </tbody>\n",
       "</table>\n",
       "<p>1098285 rows × 7 columns</p>\n",
       "</div>"
      ],
      "text/plain": [
       "         listing_id        date available    price adjusted_price  \\\n",
       "0           5868695  2022-09-14         f  $300.00        $240.00   \n",
       "1           5868695  2022-09-15         f  $300.00        $240.00   \n",
       "2           5868695  2022-09-16         f  $400.00        $320.00   \n",
       "3           5868695  2022-09-17         f  $400.00        $320.00   \n",
       "4           5868695  2022-09-18         f  $300.00        $240.00   \n",
       "...             ...         ...       ...      ...            ...   \n",
       "1098280    11510567  2023-09-09         t  $130.00        $130.00   \n",
       "1098281    11510567  2023-09-10         t  $130.00        $130.00   \n",
       "1098282    11510567  2023-09-11         t  $130.00        $130.00   \n",
       "1098283    11510567  2023-09-12         t  $130.00        $130.00   \n",
       "1098284    11510567  2023-09-13         t  $130.00        $130.00   \n",
       "\n",
       "         minimum_nights  maximum_nights  \n",
       "0                     4            1125  \n",
       "1                     4            1125  \n",
       "2                     4            1125  \n",
       "3                     4            1125  \n",
       "4                     4            1125  \n",
       "...                 ...             ...  \n",
       "1098280               2            1125  \n",
       "1098281               2            1125  \n",
       "1098282               2            1125  \n",
       "1098283               2            1125  \n",
       "1098284               2            1125  \n",
       "\n",
       "[1098285 rows x 7 columns]"
      ]
     },
     "execution_count": 1842,
     "metadata": {},
     "output_type": "execute_result"
    }
   ],
   "source": [
    "#Load raw calendar data from file\n",
    "raw_calendar_data = pd.read_csv('../Data/AirBnB/Asheville/2022/asheville_calendar.csv', compression='gzip')\n",
    "raw_calendar_data"
   ]
  },
  {
   "cell_type": "code",
   "execution_count": 1843,
   "id": "d073ca24",
   "metadata": {},
   "outputs": [
    {
     "name": "stdout",
     "output_type": "stream",
     "text": [
      "<class 'pandas.core.frame.DataFrame'>\n",
      "RangeIndex: 1098285 entries, 0 to 1098284\n",
      "Data columns (total 7 columns):\n",
      " #   Column          Non-Null Count    Dtype \n",
      "---  ------          --------------    ----- \n",
      " 0   listing_id      1098285 non-null  int64 \n",
      " 1   date            1098285 non-null  object\n",
      " 2   available       1098285 non-null  object\n",
      " 3   price           1098285 non-null  object\n",
      " 4   adjusted_price  1098285 non-null  object\n",
      " 5   minimum_nights  1098285 non-null  int64 \n",
      " 6   maximum_nights  1098285 non-null  int64 \n",
      "dtypes: int64(3), object(4)\n",
      "memory usage: 58.7+ MB\n"
     ]
    }
   ],
   "source": [
    "#Check the info / types of data\n",
    "raw_calendar_data.info()"
   ]
  },
  {
   "cell_type": "code",
   "execution_count": 1844,
   "id": "53d34730",
   "metadata": {},
   "outputs": [
    {
     "name": "stdout",
     "output_type": "stream",
     "text": [
      "<class 'pandas.core.frame.DataFrame'>\n",
      "RangeIndex: 1098285 entries, 0 to 1098284\n",
      "Data columns (total 7 columns):\n",
      " #   Column          Non-Null Count    Dtype         \n",
      "---  ------          --------------    -----         \n",
      " 0   listing_id      1098285 non-null  int64         \n",
      " 1   date            1098285 non-null  datetime64[ns]\n",
      " 2   available       1098285 non-null  object        \n",
      " 3   price           1098285 non-null  object        \n",
      " 4   adjusted_price  1098285 non-null  object        \n",
      " 5   minimum_nights  1098285 non-null  int64         \n",
      " 6   maximum_nights  1098285 non-null  int64         \n",
      "dtypes: datetime64[ns](1), int64(3), object(3)\n",
      "memory usage: 58.7+ MB\n"
     ]
    }
   ],
   "source": [
    "#Convert date column to date-times type\n",
    "mod_calendar_data = raw_calendar_data\n",
    "mod_calendar_data['date'] = pd.to_datetime(raw_calendar_data['date'])\n",
    "\n",
    "#Confirm the info / types of data\n",
    "mod_calendar_data.info()"
   ]
  },
  {
   "cell_type": "code",
   "execution_count": 1845,
   "id": "99d0c735",
   "metadata": {},
   "outputs": [
    {
     "name": "stdout",
     "output_type": "stream",
     "text": [
      "Earliest date of data set 2022-09-14 00:00:00\n",
      "Latest date of data set 2023-09-14 00:00:00\n"
     ]
    }
   ],
   "source": [
    "print(f\"Earliest date of data set {raw_calendar_data['date'].min()}\")\n",
    "print(f\"Latest date of data set {raw_calendar_data['date'].max()}\")"
   ]
  },
  {
   "cell_type": "code",
   "execution_count": 1846,
   "id": "a936bfec",
   "metadata": {},
   "outputs": [
    {
     "data": {
      "text/plain": [
       "t    602662\n",
       "f    495623\n",
       "Name: available, dtype: int64"
      ]
     },
     "execution_count": 1846,
     "metadata": {},
     "output_type": "execute_result"
    }
   ],
   "source": [
    "#Check Values of 'Available column'\n",
    "mod_calendar_data['available'].value_counts()"
   ]
  },
  {
   "cell_type": "code",
   "execution_count": 1847,
   "id": "b046b455",
   "metadata": {},
   "outputs": [
    {
     "data": {
      "text/plain": [
       "1    602662\n",
       "0    495623\n",
       "Name: available, dtype: int64"
      ]
     },
     "execution_count": 1847,
     "metadata": {},
     "output_type": "execute_result"
    }
   ],
   "source": [
    "#Replace the false and true values with 0 and 1\n",
    "mod_calendar_data['available'] = mod_calendar_data['available'].replace(['f', 't'],[0, 1])\n",
    "\n",
    "#Confirm available are now integers\n",
    "mod_calendar_data['available'].value_counts()"
   ]
  },
  {
   "cell_type": "code",
   "execution_count": 1848,
   "id": "0693554e",
   "metadata": {},
   "outputs": [
    {
     "name": "stdout",
     "output_type": "stream",
     "text": [
      "<class 'pandas.core.frame.DataFrame'>\n",
      "RangeIndex: 1098285 entries, 0 to 1098284\n",
      "Data columns (total 7 columns):\n",
      " #   Column          Non-Null Count    Dtype         \n",
      "---  ------          --------------    -----         \n",
      " 0   listing_id      1098285 non-null  int64         \n",
      " 1   date            1098285 non-null  datetime64[ns]\n",
      " 2   available       1098285 non-null  int64         \n",
      " 3   price           1098285 non-null  object        \n",
      " 4   adjusted_price  1098285 non-null  object        \n",
      " 5   minimum_nights  1098285 non-null  int64         \n",
      " 6   maximum_nights  1098285 non-null  int64         \n",
      "dtypes: datetime64[ns](1), int64(4), object(2)\n",
      "memory usage: 58.7+ MB\n"
     ]
    }
   ],
   "source": [
    "mod_calendar_data.info()"
   ]
  },
  {
   "cell_type": "code",
   "execution_count": 1849,
   "id": "28a20706",
   "metadata": {},
   "outputs": [
    {
     "data": {
      "text/plain": [
       "$125.00      28816\n",
       "$150.00      28256\n",
       "$100.00      22632\n",
       "$95.00       20149\n",
       "$75.00       16726\n",
       "             ...  \n",
       "$2,382.00        1\n",
       "$2,390.00        1\n",
       "$2,191.00        1\n",
       "$2,485.00        1\n",
       "$2,047.00        1\n",
       "Name: price, Length: 2497, dtype: int64"
      ]
     },
     "execution_count": 1849,
     "metadata": {},
     "output_type": "execute_result"
    }
   ],
   "source": [
    "mod_calendar_data['price'].value_counts()"
   ]
  },
  {
   "cell_type": "code",
   "execution_count": 1850,
   "id": "bfae5ded",
   "metadata": {},
   "outputs": [
    {
     "data": {
      "text/plain": [
       "$125.00      28238\n",
       "$150.00      28155\n",
       "$100.00      22623\n",
       "$95.00       20165\n",
       "$75.00       16680\n",
       "             ...  \n",
       "$2,386.00        1\n",
       "$1,809.00        1\n",
       "$2,304.00        1\n",
       "$2,406.00        1\n",
       "$2,047.00        1\n",
       "Name: adjusted_price, Length: 2493, dtype: int64"
      ]
     },
     "execution_count": 1850,
     "metadata": {},
     "output_type": "execute_result"
    }
   ],
   "source": [
    "mod_calendar_data['adjusted_price'].value_counts()"
   ]
  },
  {
   "cell_type": "code",
   "execution_count": 1851,
   "id": "673dfef7",
   "metadata": {},
   "outputs": [
    {
     "name": "stderr",
     "output_type": "stream",
     "text": [
      "/var/folders/vj/wwng1wrx4433kjdgg3pdcmbc0000gn/T/ipykernel_22697/4244549786.py:5: FutureWarning: The default value of regex will change from True to False in a future version. In addition, single character regular expressions will *not* be treated as literal strings when regex=True.\n",
      "  mod_calendar_data['daily_price'] = mod_calendar_data['daily_price'].str.replace('$', '')\n"
     ]
    },
    {
     "data": {
      "text/html": [
       "<div>\n",
       "<style scoped>\n",
       "    .dataframe tbody tr th:only-of-type {\n",
       "        vertical-align: middle;\n",
       "    }\n",
       "\n",
       "    .dataframe tbody tr th {\n",
       "        vertical-align: top;\n",
       "    }\n",
       "\n",
       "    .dataframe thead th {\n",
       "        text-align: right;\n",
       "    }\n",
       "</style>\n",
       "<table border=\"1\" class=\"dataframe\">\n",
       "  <thead>\n",
       "    <tr style=\"text-align: right;\">\n",
       "      <th></th>\n",
       "      <th>listing_id</th>\n",
       "      <th>date</th>\n",
       "      <th>available</th>\n",
       "      <th>minimum_nights</th>\n",
       "      <th>maximum_nights</th>\n",
       "      <th>daily_price</th>\n",
       "    </tr>\n",
       "  </thead>\n",
       "  <tbody>\n",
       "    <tr>\n",
       "      <th>0</th>\n",
       "      <td>5868695</td>\n",
       "      <td>2022-09-14</td>\n",
       "      <td>0</td>\n",
       "      <td>4</td>\n",
       "      <td>1125</td>\n",
       "      <td>300</td>\n",
       "    </tr>\n",
       "    <tr>\n",
       "      <th>1</th>\n",
       "      <td>5868695</td>\n",
       "      <td>2022-09-15</td>\n",
       "      <td>0</td>\n",
       "      <td>4</td>\n",
       "      <td>1125</td>\n",
       "      <td>300</td>\n",
       "    </tr>\n",
       "    <tr>\n",
       "      <th>2</th>\n",
       "      <td>5868695</td>\n",
       "      <td>2022-09-16</td>\n",
       "      <td>0</td>\n",
       "      <td>4</td>\n",
       "      <td>1125</td>\n",
       "      <td>400</td>\n",
       "    </tr>\n",
       "    <tr>\n",
       "      <th>3</th>\n",
       "      <td>5868695</td>\n",
       "      <td>2022-09-17</td>\n",
       "      <td>0</td>\n",
       "      <td>4</td>\n",
       "      <td>1125</td>\n",
       "      <td>400</td>\n",
       "    </tr>\n",
       "    <tr>\n",
       "      <th>4</th>\n",
       "      <td>5868695</td>\n",
       "      <td>2022-09-18</td>\n",
       "      <td>0</td>\n",
       "      <td>4</td>\n",
       "      <td>1125</td>\n",
       "      <td>300</td>\n",
       "    </tr>\n",
       "    <tr>\n",
       "      <th>...</th>\n",
       "      <td>...</td>\n",
       "      <td>...</td>\n",
       "      <td>...</td>\n",
       "      <td>...</td>\n",
       "      <td>...</td>\n",
       "      <td>...</td>\n",
       "    </tr>\n",
       "    <tr>\n",
       "      <th>1098280</th>\n",
       "      <td>11510567</td>\n",
       "      <td>2023-09-09</td>\n",
       "      <td>1</td>\n",
       "      <td>2</td>\n",
       "      <td>1125</td>\n",
       "      <td>130</td>\n",
       "    </tr>\n",
       "    <tr>\n",
       "      <th>1098281</th>\n",
       "      <td>11510567</td>\n",
       "      <td>2023-09-10</td>\n",
       "      <td>1</td>\n",
       "      <td>2</td>\n",
       "      <td>1125</td>\n",
       "      <td>130</td>\n",
       "    </tr>\n",
       "    <tr>\n",
       "      <th>1098282</th>\n",
       "      <td>11510567</td>\n",
       "      <td>2023-09-11</td>\n",
       "      <td>1</td>\n",
       "      <td>2</td>\n",
       "      <td>1125</td>\n",
       "      <td>130</td>\n",
       "    </tr>\n",
       "    <tr>\n",
       "      <th>1098283</th>\n",
       "      <td>11510567</td>\n",
       "      <td>2023-09-12</td>\n",
       "      <td>1</td>\n",
       "      <td>2</td>\n",
       "      <td>1125</td>\n",
       "      <td>130</td>\n",
       "    </tr>\n",
       "    <tr>\n",
       "      <th>1098284</th>\n",
       "      <td>11510567</td>\n",
       "      <td>2023-09-13</td>\n",
       "      <td>1</td>\n",
       "      <td>2</td>\n",
       "      <td>1125</td>\n",
       "      <td>130</td>\n",
       "    </tr>\n",
       "  </tbody>\n",
       "</table>\n",
       "<p>1098285 rows × 6 columns</p>\n",
       "</div>"
      ],
      "text/plain": [
       "         listing_id       date  available  minimum_nights  maximum_nights  \\\n",
       "0           5868695 2022-09-14          0               4            1125   \n",
       "1           5868695 2022-09-15          0               4            1125   \n",
       "2           5868695 2022-09-16          0               4            1125   \n",
       "3           5868695 2022-09-17          0               4            1125   \n",
       "4           5868695 2022-09-18          0               4            1125   \n",
       "...             ...        ...        ...             ...             ...   \n",
       "1098280    11510567 2023-09-09          1               2            1125   \n",
       "1098281    11510567 2023-09-10          1               2            1125   \n",
       "1098282    11510567 2023-09-11          1               2            1125   \n",
       "1098283    11510567 2023-09-12          1               2            1125   \n",
       "1098284    11510567 2023-09-13          1               2            1125   \n",
       "\n",
       "         daily_price  \n",
       "0                300  \n",
       "1                300  \n",
       "2                400  \n",
       "3                400  \n",
       "4                300  \n",
       "...              ...  \n",
       "1098280          130  \n",
       "1098281          130  \n",
       "1098282          130  \n",
       "1098283          130  \n",
       "1098284          130  \n",
       "\n",
       "[1098285 rows x 6 columns]"
      ]
     },
     "execution_count": 1851,
     "metadata": {},
     "output_type": "execute_result"
    }
   ],
   "source": [
    "test_price_df = mod_calendar_data['price'].str.split(\".\", expand=True)\n",
    "test_price_df = test_price_df.rename(columns = {0 : 'daily_price'})\n",
    "test_price_df = test_price_df.drop(labels = [1], axis = 1)\n",
    "mod_calendar_data = mod_calendar_data.join(test_price_df, how = 'outer')\n",
    "mod_calendar_data['daily_price'] = mod_calendar_data['daily_price'].str.replace('$', '')\n",
    "mod_calendar_data['daily_price'] = mod_calendar_data['daily_price'].str.replace(',', '')\n",
    "mod_calendar_data['daily_price'] = mod_calendar_data['daily_price'].astype({'daily_price':'int'})\n",
    "mod_calendar_data = mod_calendar_data.drop(labels = ['adjusted_price', 'price'], axis = 1)\n",
    "mod_calendar_data"
   ]
  },
  {
   "cell_type": "code",
   "execution_count": 1852,
   "id": "4b791e66",
   "metadata": {},
   "outputs": [
    {
     "name": "stdout",
     "output_type": "stream",
     "text": [
      "<class 'pandas.core.frame.DataFrame'>\n",
      "RangeIndex: 1098285 entries, 0 to 1098284\n",
      "Data columns (total 6 columns):\n",
      " #   Column          Non-Null Count    Dtype         \n",
      "---  ------          --------------    -----         \n",
      " 0   listing_id      1098285 non-null  int64         \n",
      " 1   date            1098285 non-null  datetime64[ns]\n",
      " 2   available       1098285 non-null  int64         \n",
      " 3   minimum_nights  1098285 non-null  int64         \n",
      " 4   maximum_nights  1098285 non-null  int64         \n",
      " 5   daily_price     1098285 non-null  int64         \n",
      "dtypes: datetime64[ns](1), int64(5)\n",
      "memory usage: 50.3 MB\n"
     ]
    }
   ],
   "source": [
    "mod_calendar_data.info()"
   ]
  },
  {
   "cell_type": "code",
   "execution_count": 1853,
   "id": "105ed804",
   "metadata": {},
   "outputs": [],
   "source": [
    "#For purposes of this project/the stakeholder, we will drop the adjusted avail, price, min nights, max nights\n",
    "mod_calendar_data = mod_calendar_data.drop(['available', 'minimum_nights', 'maximum_nights'],\n",
    "                                          axis = 1)"
   ]
  },
  {
   "cell_type": "code",
   "execution_count": 1854,
   "id": "29b2c52f",
   "metadata": {},
   "outputs": [
    {
     "name": "stdout",
     "output_type": "stream",
     "text": [
      "<class 'pandas.core.frame.DataFrame'>\n",
      "RangeIndex: 1098285 entries, 0 to 1098284\n",
      "Data columns (total 3 columns):\n",
      " #   Column       Non-Null Count    Dtype         \n",
      "---  ------       --------------    -----         \n",
      " 0   listing_id   1098285 non-null  int64         \n",
      " 1   date         1098285 non-null  datetime64[ns]\n",
      " 2   daily_price  1098285 non-null  int64         \n",
      "dtypes: datetime64[ns](1), int64(2)\n",
      "memory usage: 25.1 MB\n"
     ]
    }
   ],
   "source": [
    "#Check all columns are integer types\n",
    "mod_calendar_data.info()"
   ]
  },
  {
   "cell_type": "code",
   "execution_count": 1855,
   "id": "5c265e8d",
   "metadata": {},
   "outputs": [],
   "source": [
    "# mod_calendar_data_id_avail = mod_calendar_data.groupby(['listing_id']).sum()\n",
    "# mod_calendar_data_id_avail = mod_calendar_data_id_avail.reset_index()\n",
    "# mod_calendar_data_id_avail = mod_calendar_data_id_avail.drop(['price'], axis = 1)\n",
    "# mod_calendar_data_id_avail['perc_year_avail'] = mod_calendar_data_id_avail['available'] / 365\n",
    "# mod_calendar_data_id_avail = mod_calendar_data_id_avail.drop(['available'], axis = 1)\n",
    "# mod_calendar_data_id_avail"
   ]
  },
  {
   "cell_type": "code",
   "execution_count": 1856,
   "id": "8d16dbec",
   "metadata": {},
   "outputs": [],
   "source": [
    "# mod_calendar_data_id_avail.info()"
   ]
  },
  {
   "cell_type": "markdown",
   "id": "91c8a4bc",
   "metadata": {},
   "source": [
    "## Listings Data"
   ]
  },
  {
   "cell_type": "code",
   "execution_count": 1857,
   "id": "49c0c1aa",
   "metadata": {},
   "outputs": [
    {
     "data": {
      "text/html": [
       "<div>\n",
       "<style scoped>\n",
       "    .dataframe tbody tr th:only-of-type {\n",
       "        vertical-align: middle;\n",
       "    }\n",
       "\n",
       "    .dataframe tbody tr th {\n",
       "        vertical-align: top;\n",
       "    }\n",
       "\n",
       "    .dataframe thead th {\n",
       "        text-align: right;\n",
       "    }\n",
       "</style>\n",
       "<table border=\"1\" class=\"dataframe\">\n",
       "  <thead>\n",
       "    <tr style=\"text-align: right;\">\n",
       "      <th></th>\n",
       "      <th>id</th>\n",
       "      <th>listing_url</th>\n",
       "      <th>scrape_id</th>\n",
       "      <th>last_scraped</th>\n",
       "      <th>source</th>\n",
       "      <th>name</th>\n",
       "      <th>description</th>\n",
       "      <th>neighborhood_overview</th>\n",
       "      <th>picture_url</th>\n",
       "      <th>host_id</th>\n",
       "      <th>...</th>\n",
       "      <th>review_scores_communication</th>\n",
       "      <th>review_scores_location</th>\n",
       "      <th>review_scores_value</th>\n",
       "      <th>license</th>\n",
       "      <th>instant_bookable</th>\n",
       "      <th>calculated_host_listings_count</th>\n",
       "      <th>calculated_host_listings_count_entire_homes</th>\n",
       "      <th>calculated_host_listings_count_private_rooms</th>\n",
       "      <th>calculated_host_listings_count_shared_rooms</th>\n",
       "      <th>reviews_per_month</th>\n",
       "    </tr>\n",
       "  </thead>\n",
       "  <tbody>\n",
       "    <tr>\n",
       "      <th>0</th>\n",
       "      <td>108061</td>\n",
       "      <td>https://www.airbnb.com/rooms/108061</td>\n",
       "      <td>20220914194751</td>\n",
       "      <td>2022-09-14</td>\n",
       "      <td>city scrape</td>\n",
       "      <td>Walk to stores/parks/downtown. Fenced yard/Pet...</td>\n",
       "      <td>Walk to town in ten minutes! Monthly rental $1...</td>\n",
       "      <td>I love my neighborhood! Its friendly, easy-goi...</td>\n",
       "      <td>https://a0.muscache.com/pictures/41011975/0cdf...</td>\n",
       "      <td>320564</td>\n",
       "      <td>...</td>\n",
       "      <td>4.79</td>\n",
       "      <td>4.84</td>\n",
       "      <td>4.48</td>\n",
       "      <td>NaN</td>\n",
       "      <td>f</td>\n",
       "      <td>2</td>\n",
       "      <td>2</td>\n",
       "      <td>0</td>\n",
       "      <td>0</td>\n",
       "      <td>0.67</td>\n",
       "    </tr>\n",
       "    <tr>\n",
       "      <th>1</th>\n",
       "      <td>155305</td>\n",
       "      <td>https://www.airbnb.com/rooms/155305</td>\n",
       "      <td>20220914194751</td>\n",
       "      <td>2022-09-14</td>\n",
       "      <td>city scrape</td>\n",
       "      <td>Cottage! BonPaul + Sharky's Hostel</td>\n",
       "      <td>&lt;b&gt;The space&lt;/b&gt;&lt;br /&gt;Private cottage located ...</td>\n",
       "      <td>We are within easy walk of pubs, breweries, mu...</td>\n",
       "      <td>https://a0.muscache.com/pictures/8880711/cf38d...</td>\n",
       "      <td>746673</td>\n",
       "      <td>...</td>\n",
       "      <td>4.74</td>\n",
       "      <td>4.93</td>\n",
       "      <td>4.54</td>\n",
       "      <td>NaN</td>\n",
       "      <td>t</td>\n",
       "      <td>7</td>\n",
       "      <td>1</td>\n",
       "      <td>2</td>\n",
       "      <td>4</td>\n",
       "      <td>2.72</td>\n",
       "    </tr>\n",
       "    <tr>\n",
       "      <th>2</th>\n",
       "      <td>156805</td>\n",
       "      <td>https://www.airbnb.com/rooms/156805</td>\n",
       "      <td>20220914194751</td>\n",
       "      <td>2022-09-14</td>\n",
       "      <td>previous scrape</td>\n",
       "      <td>Private Room \"Ader\" at BPS Hostel</td>\n",
       "      <td>&lt;b&gt;The space&lt;/b&gt;&lt;br /&gt;Private Rooms at Bon Pau...</td>\n",
       "      <td>Easy walk to pubs, cafes, bakery, breweries, l...</td>\n",
       "      <td>https://a0.muscache.com/pictures/23447d55-fa7e...</td>\n",
       "      <td>746673</td>\n",
       "      <td>...</td>\n",
       "      <td>4.61</td>\n",
       "      <td>4.84</td>\n",
       "      <td>4.46</td>\n",
       "      <td>NaN</td>\n",
       "      <td>t</td>\n",
       "      <td>7</td>\n",
       "      <td>1</td>\n",
       "      <td>2</td>\n",
       "      <td>4</td>\n",
       "      <td>0.50</td>\n",
       "    </tr>\n",
       "    <tr>\n",
       "      <th>3</th>\n",
       "      <td>156926</td>\n",
       "      <td>https://www.airbnb.com/rooms/156926</td>\n",
       "      <td>20220914194751</td>\n",
       "      <td>2022-09-14</td>\n",
       "      <td>city scrape</td>\n",
       "      <td>Mixed Dorm \"Top Bunk #1\" at BPS Hostel</td>\n",
       "      <td>This is a top bunk in the mixed dorm room&lt;br /...</td>\n",
       "      <td>NaN</td>\n",
       "      <td>https://a0.muscache.com/pictures/98f4e655-c4d6...</td>\n",
       "      <td>746673</td>\n",
       "      <td>...</td>\n",
       "      <td>4.80</td>\n",
       "      <td>4.79</td>\n",
       "      <td>4.79</td>\n",
       "      <td>NaN</td>\n",
       "      <td>t</td>\n",
       "      <td>7</td>\n",
       "      <td>1</td>\n",
       "      <td>2</td>\n",
       "      <td>4</td>\n",
       "      <td>2.34</td>\n",
       "    </tr>\n",
       "    <tr>\n",
       "      <th>4</th>\n",
       "      <td>197263</td>\n",
       "      <td>https://www.airbnb.com/rooms/197263</td>\n",
       "      <td>20220914194751</td>\n",
       "      <td>2022-09-14</td>\n",
       "      <td>city scrape</td>\n",
       "      <td>Tranquil Room &amp; Private Bath</td>\n",
       "      <td>This is a comfy, peaceful and clean room with ...</td>\n",
       "      <td>NaN</td>\n",
       "      <td>https://a0.muscache.com/pictures/miso/Hosting-...</td>\n",
       "      <td>961396</td>\n",
       "      <td>...</td>\n",
       "      <td>4.92</td>\n",
       "      <td>4.82</td>\n",
       "      <td>4.98</td>\n",
       "      <td>NaN</td>\n",
       "      <td>f</td>\n",
       "      <td>2</td>\n",
       "      <td>1</td>\n",
       "      <td>1</td>\n",
       "      <td>0</td>\n",
       "      <td>0.49</td>\n",
       "    </tr>\n",
       "  </tbody>\n",
       "</table>\n",
       "<p>5 rows × 75 columns</p>\n",
       "</div>"
      ],
      "text/plain": [
       "       id                          listing_url       scrape_id last_scraped  \\\n",
       "0  108061  https://www.airbnb.com/rooms/108061  20220914194751   2022-09-14   \n",
       "1  155305  https://www.airbnb.com/rooms/155305  20220914194751   2022-09-14   \n",
       "2  156805  https://www.airbnb.com/rooms/156805  20220914194751   2022-09-14   \n",
       "3  156926  https://www.airbnb.com/rooms/156926  20220914194751   2022-09-14   \n",
       "4  197263  https://www.airbnb.com/rooms/197263  20220914194751   2022-09-14   \n",
       "\n",
       "            source                                               name  \\\n",
       "0      city scrape  Walk to stores/parks/downtown. Fenced yard/Pet...   \n",
       "1      city scrape                 Cottage! BonPaul + Sharky's Hostel   \n",
       "2  previous scrape                  Private Room \"Ader\" at BPS Hostel   \n",
       "3      city scrape             Mixed Dorm \"Top Bunk #1\" at BPS Hostel   \n",
       "4      city scrape                       Tranquil Room & Private Bath   \n",
       "\n",
       "                                         description  \\\n",
       "0  Walk to town in ten minutes! Monthly rental $1...   \n",
       "1  <b>The space</b><br />Private cottage located ...   \n",
       "2  <b>The space</b><br />Private Rooms at Bon Pau...   \n",
       "3  This is a top bunk in the mixed dorm room<br /...   \n",
       "4  This is a comfy, peaceful and clean room with ...   \n",
       "\n",
       "                               neighborhood_overview  \\\n",
       "0  I love my neighborhood! Its friendly, easy-goi...   \n",
       "1  We are within easy walk of pubs, breweries, mu...   \n",
       "2  Easy walk to pubs, cafes, bakery, breweries, l...   \n",
       "3                                                NaN   \n",
       "4                                                NaN   \n",
       "\n",
       "                                         picture_url  host_id  ...  \\\n",
       "0  https://a0.muscache.com/pictures/41011975/0cdf...   320564  ...   \n",
       "1  https://a0.muscache.com/pictures/8880711/cf38d...   746673  ...   \n",
       "2  https://a0.muscache.com/pictures/23447d55-fa7e...   746673  ...   \n",
       "3  https://a0.muscache.com/pictures/98f4e655-c4d6...   746673  ...   \n",
       "4  https://a0.muscache.com/pictures/miso/Hosting-...   961396  ...   \n",
       "\n",
       "  review_scores_communication review_scores_location review_scores_value  \\\n",
       "0                        4.79                   4.84                4.48   \n",
       "1                        4.74                   4.93                4.54   \n",
       "2                        4.61                   4.84                4.46   \n",
       "3                        4.80                   4.79                4.79   \n",
       "4                        4.92                   4.82                4.98   \n",
       "\n",
       "  license instant_bookable calculated_host_listings_count  \\\n",
       "0     NaN                f                              2   \n",
       "1     NaN                t                              7   \n",
       "2     NaN                t                              7   \n",
       "3     NaN                t                              7   \n",
       "4     NaN                f                              2   \n",
       "\n",
       "  calculated_host_listings_count_entire_homes  \\\n",
       "0                                           2   \n",
       "1                                           1   \n",
       "2                                           1   \n",
       "3                                           1   \n",
       "4                                           1   \n",
       "\n",
       "  calculated_host_listings_count_private_rooms  \\\n",
       "0                                            0   \n",
       "1                                            2   \n",
       "2                                            2   \n",
       "3                                            2   \n",
       "4                                            1   \n",
       "\n",
       "  calculated_host_listings_count_shared_rooms reviews_per_month  \n",
       "0                                           0              0.67  \n",
       "1                                           4              2.72  \n",
       "2                                           4              0.50  \n",
       "3                                           4              2.34  \n",
       "4                                           0              0.49  \n",
       "\n",
       "[5 rows x 75 columns]"
      ]
     },
     "execution_count": 1857,
     "metadata": {},
     "output_type": "execute_result"
    }
   ],
   "source": [
    "raw_listings_data = pd.read_csv('../Data/AirBnB/Asheville/2022/asheville_listings.csv')\n",
    "raw_listings_data.head()"
   ]
  },
  {
   "cell_type": "code",
   "execution_count": 1858,
   "id": "c0a69144",
   "metadata": {},
   "outputs": [
    {
     "name": "stdout",
     "output_type": "stream",
     "text": [
      "<class 'pandas.core.frame.DataFrame'>\n",
      "RangeIndex: 3009 entries, 0 to 3008\n",
      "Data columns (total 75 columns):\n",
      " #   Column                                        Non-Null Count  Dtype  \n",
      "---  ------                                        --------------  -----  \n",
      " 0   id                                            3009 non-null   int64  \n",
      " 1   listing_url                                   3009 non-null   object \n",
      " 2   scrape_id                                     3009 non-null   int64  \n",
      " 3   last_scraped                                  3009 non-null   object \n",
      " 4   source                                        3009 non-null   object \n",
      " 5   name                                          3009 non-null   object \n",
      " 6   description                                   3004 non-null   object \n",
      " 7   neighborhood_overview                         2290 non-null   object \n",
      " 8   picture_url                                   3009 non-null   object \n",
      " 9   host_id                                       3009 non-null   int64  \n",
      " 10  host_url                                      3009 non-null   object \n",
      " 11  host_name                                     3009 non-null   object \n",
      " 12  host_since                                    3009 non-null   object \n",
      " 13  host_location                                 2604 non-null   object \n",
      " 14  host_about                                    1929 non-null   object \n",
      " 15  host_response_time                            2722 non-null   object \n",
      " 16  host_response_rate                            2722 non-null   object \n",
      " 17  host_acceptance_rate                          2850 non-null   object \n",
      " 18  host_is_superhost                             3009 non-null   object \n",
      " 19  host_thumbnail_url                            3009 non-null   object \n",
      " 20  host_picture_url                              3009 non-null   object \n",
      " 21  host_neighbourhood                            925 non-null    object \n",
      " 22  host_listings_count                           3009 non-null   int64  \n",
      " 23  host_total_listings_count                     3009 non-null   int64  \n",
      " 24  host_verifications                            3009 non-null   object \n",
      " 25  host_has_profile_pic                          3009 non-null   object \n",
      " 26  host_identity_verified                        3009 non-null   object \n",
      " 27  neighbourhood                                 2291 non-null   object \n",
      " 28  neighbourhood_cleansed                        3009 non-null   int64  \n",
      " 29  neighbourhood_group_cleansed                  0 non-null      float64\n",
      " 30  latitude                                      3009 non-null   float64\n",
      " 31  longitude                                     3009 non-null   float64\n",
      " 32  property_type                                 3009 non-null   object \n",
      " 33  room_type                                     3009 non-null   object \n",
      " 34  accommodates                                  3009 non-null   int64  \n",
      " 35  bathrooms                                     0 non-null      float64\n",
      " 36  bathrooms_text                                3008 non-null   object \n",
      " 37  bedrooms                                      2850 non-null   float64\n",
      " 38  beds                                          2980 non-null   float64\n",
      " 39  amenities                                     3009 non-null   object \n",
      " 40  price                                         3009 non-null   object \n",
      " 41  minimum_nights                                3009 non-null   int64  \n",
      " 42  maximum_nights                                3009 non-null   int64  \n",
      " 43  minimum_minimum_nights                        3009 non-null   int64  \n",
      " 44  maximum_minimum_nights                        3009 non-null   int64  \n",
      " 45  minimum_maximum_nights                        3009 non-null   int64  \n",
      " 46  maximum_maximum_nights                        3009 non-null   int64  \n",
      " 47  minimum_nights_avg_ntm                        3009 non-null   float64\n",
      " 48  maximum_nights_avg_ntm                        3009 non-null   float64\n",
      " 49  calendar_updated                              0 non-null      float64\n",
      " 50  has_availability                              3009 non-null   object \n",
      " 51  availability_30                               3009 non-null   int64  \n",
      " 52  availability_60                               3009 non-null   int64  \n",
      " 53  availability_90                               3009 non-null   int64  \n",
      " 54  availability_365                              3009 non-null   int64  \n",
      " 55  calendar_last_scraped                         3009 non-null   object \n",
      " 56  number_of_reviews                             3009 non-null   int64  \n",
      " 57  number_of_reviews_ltm                         3009 non-null   int64  \n",
      " 58  number_of_reviews_l30d                        3009 non-null   int64  \n",
      " 59  first_review                                  2817 non-null   object \n",
      " 60  last_review                                   2817 non-null   object \n",
      " 61  review_scores_rating                          2817 non-null   float64\n",
      " 62  review_scores_accuracy                        2816 non-null   float64\n",
      " 63  review_scores_cleanliness                     2816 non-null   float64\n",
      " 64  review_scores_checkin                         2816 non-null   float64\n",
      " 65  review_scores_communication                   2816 non-null   float64\n",
      " 66  review_scores_location                        2816 non-null   float64\n",
      " 67  review_scores_value                           2816 non-null   float64\n",
      " 68  license                                       0 non-null      float64\n",
      " 69  instant_bookable                              3009 non-null   object \n",
      " 70  calculated_host_listings_count                3009 non-null   int64  \n",
      " 71  calculated_host_listings_count_entire_homes   3009 non-null   int64  \n",
      " 72  calculated_host_listings_count_private_rooms  3009 non-null   int64  \n",
      " 73  calculated_host_listings_count_shared_rooms   3009 non-null   int64  \n",
      " 74  reviews_per_month                             2817 non-null   float64\n",
      "dtypes: float64(18), int64(24), object(33)\n",
      "memory usage: 1.7+ MB\n"
     ]
    }
   ],
   "source": [
    "raw_listings_data.info()"
   ]
  },
  {
   "cell_type": "code",
   "execution_count": 1859,
   "id": "dc6f137d",
   "metadata": {},
   "outputs": [],
   "source": [
    "#Remove irrelevant review columns\n",
    "mod_listing_data = raw_listings_data.drop(labels = ['review_scores_accuracy', \n",
    "                                                    'review_scores_cleanliness', \n",
    "                                                    'review_scores_checkin', \n",
    "                                                    'review_scores_communication', \n",
    "                                                    'review_scores_location',\n",
    "                                                    'calendar_updated', \n",
    "                                                    'license'], axis = 1)"
   ]
  },
  {
   "cell_type": "code",
   "execution_count": 1860,
   "id": "09381e19",
   "metadata": {},
   "outputs": [],
   "source": [
    "#Remove irrelevant host columns\n",
    "mod_listing_data = mod_listing_data.drop(labels = ['host_name', \n",
    "                                                   'host_since', \n",
    "                                                   'host_location', \n",
    "                                                   'host_about', \n",
    "                                                   'host_response_time', \n",
    "                                                   'host_acceptance_rate',\n",
    "                                                   'host_thumbnail_url', \n",
    "                                                   'host_picture_url', \n",
    "                                                   'host_neighbourhood', \n",
    "                                                   'host_listings_count', \n",
    "                                                   'host_total_listings_count', \n",
    "                                                   'host_verifications', \n",
    "                                                   'host_has_profile_pic',\n",
    "                                                   'first_review',\n",
    "                                                   'last_review'], axis = 1)"
   ]
  },
  {
   "cell_type": "code",
   "execution_count": 1861,
   "id": "918b0615",
   "metadata": {},
   "outputs": [],
   "source": [
    "#Remove\n",
    "\n",
    "mod_listing_data = mod_listing_data.drop(labels = ['scrape_id',\n",
    "                                                  'last_scraped',\n",
    "                                                  'source',\n",
    "                                                  'neighbourhood_cleansed',\n",
    "                                                  'neighbourhood_group_cleansed',\n",
    "                                                  'property_type',\n",
    "                                                  'bathrooms',\n",
    "                                                  'price',\n",
    "                                                   'minimum_minimum_nights',\n",
    "                                                   'maximum_minimum_nights',\n",
    "                                                   'minimum_maximum_nights',\n",
    "                                                   'maximum_maximum_nights',\n",
    "                                                   'minimum_nights_avg_ntm',\n",
    "                                                   'maximum_nights_avg_ntm',\n",
    "                                                   'has_availability',\n",
    "                                                   'availability_30',\n",
    "                                                   'availability_60',\n",
    "                                                   'availability_90',\n",
    "                                                   'availability_365',\n",
    "                                                   'calendar_last_scraped',\n",
    "                                                   'number_of_reviews_ltm',\n",
    "                                                   'number_of_reviews_l30d',\n",
    "                                                   'calculated_host_listings_count',\n",
    "                                                   'calculated_host_listings_count_entire_homes',\n",
    "                                                   'calculated_host_listings_count_private_rooms',\n",
    "                                                   'calculated_host_listings_count_shared_rooms',\n",
    "                                                  'neighborhood_overview',\n",
    "                                                  'reviews_per_month',\n",
    "                                                  'review_scores_value',\n",
    "                                                  'host_response_rate',\n",
    "                                                  'description'], axis = 1)"
   ]
  },
  {
   "cell_type": "code",
   "execution_count": 1862,
   "id": "d856b99e",
   "metadata": {},
   "outputs": [
    {
     "name": "stdout",
     "output_type": "stream",
     "text": [
      "<class 'pandas.core.frame.DataFrame'>\n",
      "RangeIndex: 3009 entries, 0 to 3008\n",
      "Data columns (total 22 columns):\n",
      " #   Column                  Non-Null Count  Dtype  \n",
      "---  ------                  --------------  -----  \n",
      " 0   id                      3009 non-null   int64  \n",
      " 1   listing_url             3009 non-null   object \n",
      " 2   name                    3009 non-null   object \n",
      " 3   picture_url             3009 non-null   object \n",
      " 4   host_id                 3009 non-null   int64  \n",
      " 5   host_url                3009 non-null   object \n",
      " 6   host_is_superhost       3009 non-null   object \n",
      " 7   host_identity_verified  3009 non-null   object \n",
      " 8   neighbourhood           2291 non-null   object \n",
      " 9   latitude                3009 non-null   float64\n",
      " 10  longitude               3009 non-null   float64\n",
      " 11  room_type               3009 non-null   object \n",
      " 12  accommodates            3009 non-null   int64  \n",
      " 13  bathrooms_text          3008 non-null   object \n",
      " 14  bedrooms                2850 non-null   float64\n",
      " 15  beds                    2980 non-null   float64\n",
      " 16  amenities               3009 non-null   object \n",
      " 17  minimum_nights          3009 non-null   int64  \n",
      " 18  maximum_nights          3009 non-null   int64  \n",
      " 19  number_of_reviews       3009 non-null   int64  \n",
      " 20  review_scores_rating    2817 non-null   float64\n",
      " 21  instant_bookable        3009 non-null   object \n",
      "dtypes: float64(5), int64(6), object(11)\n",
      "memory usage: 517.3+ KB\n"
     ]
    }
   ],
   "source": [
    "mod_listing_data.info()"
   ]
  },
  {
   "cell_type": "code",
   "execution_count": 1863,
   "id": "08bee78c",
   "metadata": {},
   "outputs": [
    {
     "data": {
      "text/plain": [
       "0"
      ]
     },
     "execution_count": 1863,
     "metadata": {},
     "output_type": "execute_result"
    }
   ],
   "source": [
    "#Fill the missing neighborhood data with 'Asheville, North Carolina, United States'\n",
    "mod_listing_data['neighbourhood'] = mod_listing_data['neighbourhood'].fillna('Asheville, North Carolina, United States')\n",
    "mod_listing_data['neighbourhood'].isna().sum()"
   ]
  },
  {
   "cell_type": "code",
   "execution_count": 1864,
   "id": "393d65a2",
   "metadata": {},
   "outputs": [
    {
     "name": "stdout",
     "output_type": "stream",
     "text": [
      "<class 'pandas.core.frame.DataFrame'>\n",
      "RangeIndex: 3009 entries, 0 to 3008\n",
      "Data columns (total 22 columns):\n",
      " #   Column                  Non-Null Count  Dtype  \n",
      "---  ------                  --------------  -----  \n",
      " 0   id                      3009 non-null   int64  \n",
      " 1   listing_url             3009 non-null   object \n",
      " 2   name                    3009 non-null   object \n",
      " 3   picture_url             3009 non-null   object \n",
      " 4   host_id                 3009 non-null   int64  \n",
      " 5   host_url                3009 non-null   object \n",
      " 6   host_is_superhost       3009 non-null   object \n",
      " 7   host_identity_verified  3009 non-null   object \n",
      " 8   latitude                3009 non-null   float64\n",
      " 9   longitude               3009 non-null   float64\n",
      " 10  room_type               3009 non-null   object \n",
      " 11  accommodates            3009 non-null   int64  \n",
      " 12  bathrooms_text          3008 non-null   object \n",
      " 13  bedrooms                2850 non-null   float64\n",
      " 14  beds                    2980 non-null   float64\n",
      " 15  amenities               3009 non-null   object \n",
      " 16  minimum_nights          3009 non-null   int64  \n",
      " 17  maximum_nights          3009 non-null   int64  \n",
      " 18  number_of_reviews       3009 non-null   int64  \n",
      " 19  review_scores_rating    2817 non-null   float64\n",
      " 20  instant_bookable        3009 non-null   object \n",
      " 21  neighborhood            3009 non-null   object \n",
      "dtypes: float64(5), int64(6), object(11)\n",
      "memory usage: 517.3+ KB\n"
     ]
    }
   ],
   "source": [
    "mod_listing_data['neighbourhood'].value_counts()\n",
    "test_neighbor_df = mod_listing_data['neighbourhood'].str.split(\",\", expand=True)\n",
    "test_neighbor_df = test_neighbor_df.rename(columns = {0 : 'neighborhood'})\n",
    "test_neighbor_df = test_neighbor_df.drop(labels = [1, 2, 3, 4], axis = 1)\n",
    "mod_listing_data = mod_listing_data.join(test_neighbor_df, how = 'outer')\n",
    "mod_listing_data = mod_listing_data.drop(labels = ['neighbourhood'], axis = 1)\n",
    "mod_listing_data.info()"
   ]
  },
  {
   "cell_type": "code",
   "execution_count": 1865,
   "id": "f2d7a72c",
   "metadata": {},
   "outputs": [],
   "source": [
    "#Remove rows with no bedrooms data\n",
    "mod_listing_data = mod_listing_data.dropna(subset = ['bedrooms', \n",
    "                                                     'beds', \n",
    "                                                     'review_scores_rating', \n",
    "                                                     'bathrooms_text'], axis = 0)"
   ]
  },
  {
   "cell_type": "code",
   "execution_count": 1866,
   "id": "4a187cc2",
   "metadata": {},
   "outputs": [
    {
     "data": {
      "text/plain": [
       "id                        0\n",
       "listing_url               0\n",
       "name                      0\n",
       "picture_url               0\n",
       "host_id                   0\n",
       "host_url                  0\n",
       "host_is_superhost         0\n",
       "host_identity_verified    0\n",
       "latitude                  0\n",
       "longitude                 0\n",
       "room_type                 0\n",
       "accommodates              0\n",
       "bathrooms_text            0\n",
       "bedrooms                  0\n",
       "beds                      0\n",
       "amenities                 0\n",
       "minimum_nights            0\n",
       "maximum_nights            0\n",
       "number_of_reviews         0\n",
       "review_scores_rating      0\n",
       "instant_bookable          0\n",
       "neighborhood              0\n",
       "dtype: int64"
      ]
     },
     "execution_count": 1866,
     "metadata": {},
     "output_type": "execute_result"
    }
   ],
   "source": [
    "mod_listing_data.isna().sum()"
   ]
  },
  {
   "cell_type": "code",
   "execution_count": 1867,
   "id": "92e77c5f",
   "metadata": {},
   "outputs": [
    {
     "data": {
      "text/plain": [
       "1    1786\n",
       "0     849\n",
       "Name: host_is_superhost, dtype: int64"
      ]
     },
     "execution_count": 1867,
     "metadata": {},
     "output_type": "execute_result"
    }
   ],
   "source": [
    "#Replace the false and true values with 0 and 1\n",
    "mod_listing_data['host_is_superhost'] = mod_listing_data['host_is_superhost'].replace(['f', 't'],[0, 1])\n",
    "mod_listing_data['host_is_superhost'].value_counts()"
   ]
  },
  {
   "cell_type": "code",
   "execution_count": 1868,
   "id": "c423e8a4",
   "metadata": {},
   "outputs": [
    {
     "data": {
      "text/plain": [
       "1    2104\n",
       "0     531\n",
       "Name: host_identity_verified, dtype: int64"
      ]
     },
     "execution_count": 1868,
     "metadata": {},
     "output_type": "execute_result"
    }
   ],
   "source": [
    "#Replace the false and true values with 0 and 1\n",
    "mod_listing_data['host_identity_verified'] = mod_listing_data['host_identity_verified'].replace(['f', 't'],[0, 1])\n",
    "mod_listing_data['host_identity_verified'].value_counts()"
   ]
  },
  {
   "cell_type": "code",
   "execution_count": 1869,
   "id": "21906186",
   "metadata": {},
   "outputs": [
    {
     "data": {
      "text/plain": [
       "1    1535\n",
       "0    1100\n",
       "Name: instant_bookable, dtype: int64"
      ]
     },
     "execution_count": 1869,
     "metadata": {},
     "output_type": "execute_result"
    }
   ],
   "source": [
    "#Replace the false and true values with 0 and 1\n",
    "mod_listing_data['instant_bookable'] = mod_listing_data['instant_bookable'].replace(['f', 't'],[0, 1])\n",
    "mod_listing_data['instant_bookable'].value_counts()"
   ]
  },
  {
   "cell_type": "code",
   "execution_count": 1870,
   "id": "21264710",
   "metadata": {},
   "outputs": [
    {
     "data": {
      "text/plain": [
       "1 bath               1282\n",
       "2 baths               558\n",
       "1 private bath        206\n",
       "2.5 baths             143\n",
       "3 baths               131\n",
       "1.5 baths             100\n",
       "1 shared bath          74\n",
       "3.5 baths              48\n",
       "4 baths                34\n",
       "2 shared baths         12\n",
       "4.5 baths              10\n",
       "5 baths                 8\n",
       "6 baths                 7\n",
       "2.5 shared baths        6\n",
       "1.5 shared baths        5\n",
       "5.5 baths               5\n",
       "0 baths                 1\n",
       "Shared half-bath        1\n",
       "Half-bath               1\n",
       "7 baths                 1\n",
       "9 baths                 1\n",
       "Private half-bath       1\n",
       "Name: bathrooms_text, dtype: int64"
      ]
     },
     "execution_count": 1870,
     "metadata": {},
     "output_type": "execute_result"
    }
   ],
   "source": [
    "mod_listing_data['bathrooms_text'].value_counts()"
   ]
  },
  {
   "cell_type": "code",
   "execution_count": 1871,
   "id": "a439290a",
   "metadata": {},
   "outputs": [
    {
     "data": {
      "text/plain": [
       "1    1535\n",
       "0    1100\n",
       "Name: instant_bookable, dtype: int64"
      ]
     },
     "execution_count": 1871,
     "metadata": {},
     "output_type": "execute_result"
    }
   ],
   "source": [
    "mod_listing_data['instant_bookable'].value_counts()"
   ]
  },
  {
   "cell_type": "code",
   "execution_count": 1872,
   "id": "4becc830",
   "metadata": {},
   "outputs": [
    {
     "data": {
      "text/plain": [
       "1.0     883\n",
       "2.0     775\n",
       "3.0     429\n",
       "4.0     242\n",
       "5.0     123\n",
       "6.0      79\n",
       "7.0      49\n",
       "8.0      16\n",
       "11.0     11\n",
       "9.0       9\n",
       "12.0      6\n",
       "10.0      6\n",
       "15.0      3\n",
       "13.0      1\n",
       "18.0      1\n",
       "21.0      1\n",
       "16.0      1\n",
       "Name: beds, dtype: int64"
      ]
     },
     "execution_count": 1872,
     "metadata": {},
     "output_type": "execute_result"
    }
   ],
   "source": [
    "mod_listing_data['beds'].value_counts()"
   ]
  },
  {
   "cell_type": "code",
   "execution_count": 1873,
   "id": "b07aa547",
   "metadata": {},
   "outputs": [
    {
     "name": "stdout",
     "output_type": "stream",
     "text": [
      "<class 'pandas.core.frame.DataFrame'>\n",
      "Int64Index: 2635 entries, 0 to 2999\n",
      "Data columns (total 22 columns):\n",
      " #   Column                  Non-Null Count  Dtype  \n",
      "---  ------                  --------------  -----  \n",
      " 0   id                      2635 non-null   int64  \n",
      " 1   listing_url             2635 non-null   object \n",
      " 2   name                    2635 non-null   object \n",
      " 3   picture_url             2635 non-null   object \n",
      " 4   host_id                 2635 non-null   int64  \n",
      " 5   host_url                2635 non-null   object \n",
      " 6   host_is_superhost       2635 non-null   int64  \n",
      " 7   host_identity_verified  2635 non-null   int64  \n",
      " 8   latitude                2635 non-null   float64\n",
      " 9   longitude               2635 non-null   float64\n",
      " 10  room_type               2635 non-null   object \n",
      " 11  accommodates            2635 non-null   int64  \n",
      " 12  bathrooms_text          2635 non-null   object \n",
      " 13  bedrooms                2635 non-null   float64\n",
      " 14  beds                    2635 non-null   float64\n",
      " 15  amenities               2635 non-null   object \n",
      " 16  minimum_nights          2635 non-null   int64  \n",
      " 17  maximum_nights          2635 non-null   int64  \n",
      " 18  number_of_reviews       2635 non-null   int64  \n",
      " 19  review_scores_rating    2635 non-null   float64\n",
      " 20  instant_bookable        2635 non-null   int64  \n",
      " 21  neighborhood            2635 non-null   object \n",
      "dtypes: float64(5), int64(9), object(8)\n",
      "memory usage: 473.5+ KB\n"
     ]
    }
   ],
   "source": [
    "mod_listing_data.info()"
   ]
  },
  {
   "cell_type": "code",
   "execution_count": 1874,
   "id": "1853b07b",
   "metadata": {},
   "outputs": [
    {
     "data": {
      "text/plain": [
       "0"
      ]
     },
     "execution_count": 1874,
     "metadata": {},
     "output_type": "execute_result"
    }
   ],
   "source": [
    "mod_listing_data['bathrooms_text'].isna().sum()"
   ]
  },
  {
   "cell_type": "code",
   "execution_count": 1875,
   "id": "bf1d9771",
   "metadata": {},
   "outputs": [
    {
     "data": {
      "text/plain": [
       "1 bath               1282\n",
       "2 baths               558\n",
       "1 private bath        206\n",
       "2.5 baths             143\n",
       "3 baths               131\n",
       "1.5 baths             100\n",
       "1 shared bath          74\n",
       "3.5 baths              48\n",
       "4 baths                34\n",
       "2 shared baths         12\n",
       "4.5 baths              10\n",
       "5 baths                 8\n",
       "6 baths                 7\n",
       "2.5 shared baths        6\n",
       "1.5 shared baths        5\n",
       "5.5 baths               5\n",
       "0 baths                 1\n",
       "Shared half-bath        1\n",
       "Half-bath               1\n",
       "7 baths                 1\n",
       "9 baths                 1\n",
       "Private half-bath       1\n",
       "Name: bathrooms_text, dtype: int64"
      ]
     },
     "execution_count": 1875,
     "metadata": {},
     "output_type": "execute_result"
    }
   ],
   "source": [
    "mod_listing_data['bathrooms_text'].value_counts()"
   ]
  },
  {
   "cell_type": "code",
   "execution_count": 1876,
   "id": "f2de62dc",
   "metadata": {},
   "outputs": [],
   "source": [
    "mod_listing_data['bathrooms_text'] = mod_listing_data['bathrooms_text'].replace(['Shared half-bath', 'Half-bath', \n",
    "                                                                                'Private half-bath'],\n",
    "                                                                                 [0.5, 0.5, 0.5])"
   ]
  },
  {
   "cell_type": "code",
   "execution_count": 1877,
   "id": "cdf0ad6c",
   "metadata": {},
   "outputs": [
    {
     "data": {
      "text/plain": [
       "0"
      ]
     },
     "execution_count": 1877,
     "metadata": {},
     "output_type": "execute_result"
    }
   ],
   "source": [
    "mod_listing_data['bathrooms_text'].isna().sum()"
   ]
  },
  {
   "cell_type": "code",
   "execution_count": 1878,
   "id": "54000195",
   "metadata": {},
   "outputs": [
    {
     "data": {
      "text/plain": [
       "1 bath              1282\n",
       "2 baths              558\n",
       "1 private bath       206\n",
       "2.5 baths            143\n",
       "3 baths              131\n",
       "1.5 baths            100\n",
       "1 shared bath         74\n",
       "3.5 baths             48\n",
       "4 baths               34\n",
       "2 shared baths        12\n",
       "4.5 baths             10\n",
       "5 baths                8\n",
       "6 baths                7\n",
       "2.5 shared baths       6\n",
       "5.5 baths              5\n",
       "1.5 shared baths       5\n",
       "0.5                    3\n",
       "7 baths                1\n",
       "0 baths                1\n",
       "9 baths                1\n",
       "Name: bathrooms_text, dtype: int64"
      ]
     },
     "execution_count": 1878,
     "metadata": {},
     "output_type": "execute_result"
    }
   ],
   "source": [
    "mod_listing_data['bathrooms_text'].value_counts()"
   ]
  },
  {
   "cell_type": "code",
   "execution_count": 1879,
   "id": "5bfb2902",
   "metadata": {},
   "outputs": [
    {
     "name": "stdout",
     "output_type": "stream",
     "text": [
      "<class 'pandas.core.frame.DataFrame'>\n",
      "Int64Index: 2635 entries, 0 to 2999\n",
      "Data columns (total 22 columns):\n",
      " #   Column                  Non-Null Count  Dtype  \n",
      "---  ------                  --------------  -----  \n",
      " 0   id                      2635 non-null   int64  \n",
      " 1   listing_url             2635 non-null   object \n",
      " 2   name                    2635 non-null   object \n",
      " 3   picture_url             2635 non-null   object \n",
      " 4   host_id                 2635 non-null   int64  \n",
      " 5   host_url                2635 non-null   object \n",
      " 6   host_is_superhost       2635 non-null   int64  \n",
      " 7   host_identity_verified  2635 non-null   int64  \n",
      " 8   latitude                2635 non-null   float64\n",
      " 9   longitude               2635 non-null   float64\n",
      " 10  room_type               2635 non-null   object \n",
      " 11  accommodates            2635 non-null   int64  \n",
      " 12  bedrooms                2635 non-null   float64\n",
      " 13  beds                    2635 non-null   float64\n",
      " 14  amenities               2635 non-null   object \n",
      " 15  minimum_nights          2635 non-null   int64  \n",
      " 16  maximum_nights          2635 non-null   int64  \n",
      " 17  number_of_reviews       2635 non-null   int64  \n",
      " 18  review_scores_rating    2635 non-null   float64\n",
      " 19  instant_bookable        2635 non-null   int64  \n",
      " 20  neighborhood            2635 non-null   object \n",
      " 21  bathrooms               2635 non-null   object \n",
      "dtypes: float64(5), int64(9), object(8)\n",
      "memory usage: 538.0+ KB\n"
     ]
    }
   ],
   "source": [
    "# mod_listing_data['bathrooms_text'] = mod_listing_data['bathrooms_text'].str.split(\" \", n = 1, expand = True)\n",
    "\n",
    "test_df = mod_listing_data['bathrooms_text'].str.split(\" \", expand=True)\n",
    "test_df = test_df.rename(columns = {0 : 'bathrooms'})\n",
    "test_df = test_df.drop(labels = [1, 2], axis = 1)\n",
    "mod_listing_data = mod_listing_data.join(test_df, how = 'outer')\n",
    "mod_listing_data = mod_listing_data.drop(labels = ['bathrooms_text'], axis = 1)\n",
    "mod_listing_data['bathrooms'] = mod_listing_data['bathrooms'].fillna(0.5)\n",
    "mod_listing_data.info()"
   ]
  },
  {
   "cell_type": "code",
   "execution_count": 1880,
   "id": "f6d40665",
   "metadata": {},
   "outputs": [],
   "source": [
    "target_amenities = ['Air conditioning', 'Wifi', 'TV', 'Kitchen', 'Washer', 'Dryer', 'Heating']"
   ]
  },
  {
   "cell_type": "code",
   "execution_count": 1881,
   "id": "ad2ce98d",
   "metadata": {},
   "outputs": [],
   "source": [
    "def add_amenity_column(amenity_name):\n",
    "    mod_listing_data[amenity_name] = mod_listing_data['amenities'].str.contains(amenity_name, regex=False)\n",
    "    mod_listing_data[amenity_name] = mod_listing_data[amenity_name].replace([False, True],[0, 1])"
   ]
  },
  {
   "cell_type": "code",
   "execution_count": 1882,
   "id": "51058c60",
   "metadata": {},
   "outputs": [],
   "source": [
    "add_amenity_column(target_amenities[0])\n",
    "add_amenity_column(target_amenities[1])\n",
    "add_amenity_column(target_amenities[2])\n",
    "add_amenity_column(target_amenities[3])\n",
    "add_amenity_column(target_amenities[4])\n",
    "add_amenity_column(target_amenities[5])\n",
    "add_amenity_column(target_amenities[6])"
   ]
  },
  {
   "cell_type": "code",
   "execution_count": 1883,
   "id": "a36fc79b",
   "metadata": {},
   "outputs": [],
   "source": [
    "mod_listing_data = mod_listing_data.drop(['amenities'], axis = 1)"
   ]
  },
  {
   "cell_type": "code",
   "execution_count": 1884,
   "id": "3ccb8735",
   "metadata": {},
   "outputs": [
    {
     "name": "stdout",
     "output_type": "stream",
     "text": [
      "<class 'pandas.core.frame.DataFrame'>\n",
      "Int64Index: 2635 entries, 0 to 2999\n",
      "Data columns (total 28 columns):\n",
      " #   Column                  Non-Null Count  Dtype  \n",
      "---  ------                  --------------  -----  \n",
      " 0   listing_id              2635 non-null   int64  \n",
      " 1   listing_url             2635 non-null   object \n",
      " 2   name                    2635 non-null   object \n",
      " 3   picture_url             2635 non-null   object \n",
      " 4   host_id                 2635 non-null   int64  \n",
      " 5   host_url                2635 non-null   object \n",
      " 6   host_is_superhost       2635 non-null   int64  \n",
      " 7   host_identity_verified  2635 non-null   int64  \n",
      " 8   latitude                2635 non-null   float64\n",
      " 9   longitude               2635 non-null   float64\n",
      " 10  room_type               2635 non-null   object \n",
      " 11  accommodates            2635 non-null   int64  \n",
      " 12  bedrooms                2635 non-null   float64\n",
      " 13  beds                    2635 non-null   float64\n",
      " 14  minimum_nights          2635 non-null   int64  \n",
      " 15  maximum_nights          2635 non-null   int64  \n",
      " 16  number_of_reviews       2635 non-null   int64  \n",
      " 17  review_scores_rating    2635 non-null   float64\n",
      " 18  instant_bookable        2635 non-null   int64  \n",
      " 19  neighborhood            2635 non-null   object \n",
      " 20  bathrooms               2635 non-null   object \n",
      " 21  Air conditioning        2635 non-null   int64  \n",
      " 22  Wifi                    2635 non-null   int64  \n",
      " 23  TV                      2635 non-null   int64  \n",
      " 24  Kitchen                 2635 non-null   int64  \n",
      " 25  Washer                  2635 non-null   int64  \n",
      " 26  Dryer                   2635 non-null   int64  \n",
      " 27  Heating                 2635 non-null   int64  \n",
      "dtypes: float64(5), int64(16), object(7)\n",
      "memory usage: 661.5+ KB\n"
     ]
    }
   ],
   "source": [
    "mod_listing_data['listing_id'] = mod_listing_data['id']\n",
    "mod_listing_data = mod_listing_data.drop(['id'], axis = 1)\n",
    "column_to_move = mod_listing_data.pop('listing_id')\n",
    "mod_listing_data.insert(0, 'listing_id', column_to_move)\n",
    "mod_listing_data.info()"
   ]
  },
  {
   "cell_type": "markdown",
   "id": "fa6b1deb",
   "metadata": {},
   "source": [
    "## Combine Calendar Data and Listings Data"
   ]
  },
  {
   "cell_type": "code",
   "execution_count": 1885,
   "id": "9c0c96eb",
   "metadata": {},
   "outputs": [
    {
     "data": {
      "text/html": [
       "<div>\n",
       "<style scoped>\n",
       "    .dataframe tbody tr th:only-of-type {\n",
       "        vertical-align: middle;\n",
       "    }\n",
       "\n",
       "    .dataframe tbody tr th {\n",
       "        vertical-align: top;\n",
       "    }\n",
       "\n",
       "    .dataframe thead th {\n",
       "        text-align: right;\n",
       "    }\n",
       "</style>\n",
       "<table border=\"1\" class=\"dataframe\">\n",
       "  <thead>\n",
       "    <tr style=\"text-align: right;\">\n",
       "      <th></th>\n",
       "      <th>listing_id</th>\n",
       "      <th>date</th>\n",
       "      <th>daily_price</th>\n",
       "    </tr>\n",
       "  </thead>\n",
       "  <tbody>\n",
       "    <tr>\n",
       "      <th>0</th>\n",
       "      <td>5868695</td>\n",
       "      <td>2022-09-14</td>\n",
       "      <td>300</td>\n",
       "    </tr>\n",
       "    <tr>\n",
       "      <th>1</th>\n",
       "      <td>5868695</td>\n",
       "      <td>2022-09-15</td>\n",
       "      <td>300</td>\n",
       "    </tr>\n",
       "    <tr>\n",
       "      <th>2</th>\n",
       "      <td>5868695</td>\n",
       "      <td>2022-09-16</td>\n",
       "      <td>400</td>\n",
       "    </tr>\n",
       "    <tr>\n",
       "      <th>3</th>\n",
       "      <td>5868695</td>\n",
       "      <td>2022-09-17</td>\n",
       "      <td>400</td>\n",
       "    </tr>\n",
       "    <tr>\n",
       "      <th>4</th>\n",
       "      <td>5868695</td>\n",
       "      <td>2022-09-18</td>\n",
       "      <td>300</td>\n",
       "    </tr>\n",
       "    <tr>\n",
       "      <th>...</th>\n",
       "      <td>...</td>\n",
       "      <td>...</td>\n",
       "      <td>...</td>\n",
       "    </tr>\n",
       "    <tr>\n",
       "      <th>1098280</th>\n",
       "      <td>11510567</td>\n",
       "      <td>2023-09-09</td>\n",
       "      <td>130</td>\n",
       "    </tr>\n",
       "    <tr>\n",
       "      <th>1098281</th>\n",
       "      <td>11510567</td>\n",
       "      <td>2023-09-10</td>\n",
       "      <td>130</td>\n",
       "    </tr>\n",
       "    <tr>\n",
       "      <th>1098282</th>\n",
       "      <td>11510567</td>\n",
       "      <td>2023-09-11</td>\n",
       "      <td>130</td>\n",
       "    </tr>\n",
       "    <tr>\n",
       "      <th>1098283</th>\n",
       "      <td>11510567</td>\n",
       "      <td>2023-09-12</td>\n",
       "      <td>130</td>\n",
       "    </tr>\n",
       "    <tr>\n",
       "      <th>1098284</th>\n",
       "      <td>11510567</td>\n",
       "      <td>2023-09-13</td>\n",
       "      <td>130</td>\n",
       "    </tr>\n",
       "  </tbody>\n",
       "</table>\n",
       "<p>1098285 rows × 3 columns</p>\n",
       "</div>"
      ],
      "text/plain": [
       "         listing_id       date  daily_price\n",
       "0           5868695 2022-09-14          300\n",
       "1           5868695 2022-09-15          300\n",
       "2           5868695 2022-09-16          400\n",
       "3           5868695 2022-09-17          400\n",
       "4           5868695 2022-09-18          300\n",
       "...             ...        ...          ...\n",
       "1098280    11510567 2023-09-09          130\n",
       "1098281    11510567 2023-09-10          130\n",
       "1098282    11510567 2023-09-11          130\n",
       "1098283    11510567 2023-09-12          130\n",
       "1098284    11510567 2023-09-13          130\n",
       "\n",
       "[1098285 rows x 3 columns]"
      ]
     },
     "execution_count": 1885,
     "metadata": {},
     "output_type": "execute_result"
    }
   ],
   "source": [
    "mod_calendar_data"
   ]
  },
  {
   "cell_type": "code",
   "execution_count": 1886,
   "id": "a2dfb81a",
   "metadata": {},
   "outputs": [
    {
     "data": {
      "text/plain": [
       "0           5868695\n",
       "1           5868695\n",
       "2           5868695\n",
       "3           5868695\n",
       "4           5868695\n",
       "             ...   \n",
       "1098280    11510567\n",
       "1098281    11510567\n",
       "1098282    11510567\n",
       "1098283    11510567\n",
       "1098284    11510567\n",
       "Name: listing_id, Length: 1098285, dtype: int64"
      ]
     },
     "execution_count": 1886,
     "metadata": {},
     "output_type": "execute_result"
    }
   ],
   "source": [
    "mod_calendar_data['listing_id']"
   ]
  },
  {
   "cell_type": "code",
   "execution_count": 1887,
   "id": "6e1a5b79",
   "metadata": {},
   "outputs": [
    {
     "name": "stdout",
     "output_type": "stream",
     "text": [
      "Index(['listing_id', 'listing_url', 'name', 'picture_url', 'host_id',\n",
      "       'host_url', 'host_is_superhost', 'host_identity_verified', 'latitude',\n",
      "       'longitude', 'room_type', 'accommodates', 'bedrooms', 'beds',\n",
      "       'minimum_nights', 'maximum_nights', 'number_of_reviews',\n",
      "       'review_scores_rating', 'instant_bookable', 'neighborhood', 'bathrooms',\n",
      "       'Air conditioning', 'Wifi', 'TV', 'Kitchen', 'Washer', 'Dryer',\n",
      "       'Heating'],\n",
      "      dtype='object')\n"
     ]
    },
    {
     "data": {
      "text/plain": [
       "Index(['listing_id', 'date', 'daily_price'], dtype='object')"
      ]
     },
     "execution_count": 1887,
     "metadata": {},
     "output_type": "execute_result"
    }
   ],
   "source": [
    "print(mod_listing_data.columns)\n",
    "mod_calendar_data.columns"
   ]
  },
  {
   "cell_type": "code",
   "execution_count": 1888,
   "id": "17df358e",
   "metadata": {},
   "outputs": [
    {
     "name": "stdout",
     "output_type": "stream",
     "text": [
      "<class 'pandas.core.frame.DataFrame'>\n",
      "RangeIndex: 1098285 entries, 0 to 1098284\n",
      "Data columns (total 3 columns):\n",
      " #   Column       Non-Null Count    Dtype         \n",
      "---  ------       --------------    -----         \n",
      " 0   listing_id   1098285 non-null  int64         \n",
      " 1   date         1098285 non-null  datetime64[ns]\n",
      " 2   daily_price  1098285 non-null  int64         \n",
      "dtypes: datetime64[ns](1), int64(2)\n",
      "memory usage: 25.1 MB\n"
     ]
    }
   ],
   "source": [
    "mod_calendar_data.info()"
   ]
  },
  {
   "cell_type": "code",
   "execution_count": 1889,
   "id": "fa191412",
   "metadata": {
    "scrolled": true
   },
   "outputs": [
    {
     "name": "stdout",
     "output_type": "stream",
     "text": [
      "<class 'pandas.core.frame.DataFrame'>\n",
      "Int64Index: 2635 entries, 0 to 2999\n",
      "Data columns (total 28 columns):\n",
      " #   Column                  Non-Null Count  Dtype  \n",
      "---  ------                  --------------  -----  \n",
      " 0   listing_id              2635 non-null   int64  \n",
      " 1   listing_url             2635 non-null   object \n",
      " 2   name                    2635 non-null   object \n",
      " 3   picture_url             2635 non-null   object \n",
      " 4   host_id                 2635 non-null   int64  \n",
      " 5   host_url                2635 non-null   object \n",
      " 6   host_is_superhost       2635 non-null   int64  \n",
      " 7   host_identity_verified  2635 non-null   int64  \n",
      " 8   latitude                2635 non-null   float64\n",
      " 9   longitude               2635 non-null   float64\n",
      " 10  room_type               2635 non-null   object \n",
      " 11  accommodates            2635 non-null   int64  \n",
      " 12  bedrooms                2635 non-null   float64\n",
      " 13  beds                    2635 non-null   float64\n",
      " 14  minimum_nights          2635 non-null   int64  \n",
      " 15  maximum_nights          2635 non-null   int64  \n",
      " 16  number_of_reviews       2635 non-null   int64  \n",
      " 17  review_scores_rating    2635 non-null   float64\n",
      " 18  instant_bookable        2635 non-null   int64  \n",
      " 19  neighborhood            2635 non-null   object \n",
      " 20  bathrooms               2635 non-null   object \n",
      " 21  Air conditioning        2635 non-null   int64  \n",
      " 22  Wifi                    2635 non-null   int64  \n",
      " 23  TV                      2635 non-null   int64  \n",
      " 24  Kitchen                 2635 non-null   int64  \n",
      " 25  Washer                  2635 non-null   int64  \n",
      " 26  Dryer                   2635 non-null   int64  \n",
      " 27  Heating                 2635 non-null   int64  \n",
      "dtypes: float64(5), int64(16), object(7)\n",
      "memory usage: 661.5+ KB\n"
     ]
    }
   ],
   "source": [
    "mod_listing_data.info()"
   ]
  },
  {
   "cell_type": "code",
   "execution_count": 1890,
   "id": "996796fb",
   "metadata": {},
   "outputs": [
    {
     "name": "stdout",
     "output_type": "stream",
     "text": [
      "<class 'pandas.core.frame.DataFrame'>\n",
      "Int64Index: 961775 entries, 0 to 961774\n",
      "Data columns (total 30 columns):\n",
      " #   Column                  Non-Null Count   Dtype         \n",
      "---  ------                  --------------   -----         \n",
      " 0   listing_id              961775 non-null  int64         \n",
      " 1   listing_url             961775 non-null  object        \n",
      " 2   name                    961775 non-null  object        \n",
      " 3   picture_url             961775 non-null  object        \n",
      " 4   host_id                 961775 non-null  int64         \n",
      " 5   host_url                961775 non-null  object        \n",
      " 6   host_is_superhost       961775 non-null  int64         \n",
      " 7   host_identity_verified  961775 non-null  int64         \n",
      " 8   latitude                961775 non-null  float64       \n",
      " 9   longitude               961775 non-null  float64       \n",
      " 10  room_type               961775 non-null  object        \n",
      " 11  accommodates            961775 non-null  int64         \n",
      " 12  bedrooms                961775 non-null  float64       \n",
      " 13  beds                    961775 non-null  float64       \n",
      " 14  minimum_nights          961775 non-null  int64         \n",
      " 15  maximum_nights          961775 non-null  int64         \n",
      " 16  number_of_reviews       961775 non-null  int64         \n",
      " 17  review_scores_rating    961775 non-null  float64       \n",
      " 18  instant_bookable        961775 non-null  int64         \n",
      " 19  neighborhood            961775 non-null  object        \n",
      " 20  bathrooms               961775 non-null  object        \n",
      " 21  Air conditioning        961775 non-null  int64         \n",
      " 22  Wifi                    961775 non-null  int64         \n",
      " 23  TV                      961775 non-null  int64         \n",
      " 24  Kitchen                 961775 non-null  int64         \n",
      " 25  Washer                  961775 non-null  int64         \n",
      " 26  Dryer                   961775 non-null  int64         \n",
      " 27  Heating                 961775 non-null  int64         \n",
      " 28  date                    961775 non-null  datetime64[ns]\n",
      " 29  daily_price             961775 non-null  int64         \n",
      "dtypes: datetime64[ns](1), float64(5), int64(17), object(7)\n",
      "memory usage: 227.5+ MB\n"
     ]
    }
   ],
   "source": [
    "asheville_data = pd.merge(mod_listing_data, mod_calendar_data, how = 'left', on = 'listing_id')\n",
    "asheville_data.info()"
   ]
  },
  {
   "cell_type": "code",
   "execution_count": null,
   "id": "c06dd5e4",
   "metadata": {},
   "outputs": [],
   "source": []
  }
 ],
 "metadata": {
  "kernelspec": {
   "display_name": "tensorflow_env",
   "language": "python",
   "name": "tensorflow_env"
  },
  "language_info": {
   "codemirror_mode": {
    "name": "ipython",
    "version": 3
   },
   "file_extension": ".py",
   "mimetype": "text/x-python",
   "name": "python",
   "nbconvert_exporter": "python",
   "pygments_lexer": "ipython3",
   "version": "3.8.15"
  }
 },
 "nbformat": 4,
 "nbformat_minor": 5
}
