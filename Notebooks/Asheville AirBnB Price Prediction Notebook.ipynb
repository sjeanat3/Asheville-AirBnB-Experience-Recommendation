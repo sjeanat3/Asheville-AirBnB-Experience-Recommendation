{
 "cells": [
  {
   "cell_type": "markdown",
   "id": "aed8b3fa",
   "metadata": {},
   "source": [
    "# Import Necessary Libraries"
   ]
  },
  {
   "cell_type": "code",
   "execution_count": 55,
   "id": "2fc2ce3e",
   "metadata": {},
   "outputs": [],
   "source": [
    "import pandas as pd\n",
    "import gzip\n",
    "import shutil"
   ]
  },
  {
   "cell_type": "markdown",
   "id": "fc59262f",
   "metadata": {},
   "source": [
    "# Exploratory Data Analysis (EDA)"
   ]
  },
  {
   "cell_type": "markdown",
   "id": "2a88113a",
   "metadata": {},
   "source": [
    "## Calendar Data - 2022"
   ]
  },
  {
   "cell_type": "code",
   "execution_count": 56,
   "id": "97afa6b0",
   "metadata": {},
   "outputs": [
    {
     "data": {
      "text/html": [
       "<div>\n",
       "<style scoped>\n",
       "    .dataframe tbody tr th:only-of-type {\n",
       "        vertical-align: middle;\n",
       "    }\n",
       "\n",
       "    .dataframe tbody tr th {\n",
       "        vertical-align: top;\n",
       "    }\n",
       "\n",
       "    .dataframe thead th {\n",
       "        text-align: right;\n",
       "    }\n",
       "</style>\n",
       "<table border=\"1\" class=\"dataframe\">\n",
       "  <thead>\n",
       "    <tr style=\"text-align: right;\">\n",
       "      <th></th>\n",
       "      <th>listing_id</th>\n",
       "      <th>date</th>\n",
       "      <th>available</th>\n",
       "      <th>price</th>\n",
       "      <th>adjusted_price</th>\n",
       "      <th>minimum_nights</th>\n",
       "      <th>maximum_nights</th>\n",
       "    </tr>\n",
       "  </thead>\n",
       "  <tbody>\n",
       "    <tr>\n",
       "      <th>0</th>\n",
       "      <td>881707</td>\n",
       "      <td>2021-12-15</td>\n",
       "      <td>f</td>\n",
       "      <td>$93.00</td>\n",
       "      <td>$93.00</td>\n",
       "      <td>1</td>\n",
       "      <td>1125</td>\n",
       "    </tr>\n",
       "    <tr>\n",
       "      <th>1</th>\n",
       "      <td>910737</td>\n",
       "      <td>2021-12-15</td>\n",
       "      <td>t</td>\n",
       "      <td>$156.00</td>\n",
       "      <td>$156.00</td>\n",
       "      <td>2</td>\n",
       "      <td>1125</td>\n",
       "    </tr>\n",
       "    <tr>\n",
       "      <th>2</th>\n",
       "      <td>910737</td>\n",
       "      <td>2021-12-16</td>\n",
       "      <td>t</td>\n",
       "      <td>$156.00</td>\n",
       "      <td>$156.00</td>\n",
       "      <td>2</td>\n",
       "      <td>1125</td>\n",
       "    </tr>\n",
       "    <tr>\n",
       "      <th>3</th>\n",
       "      <td>910737</td>\n",
       "      <td>2021-12-17</td>\n",
       "      <td>f</td>\n",
       "      <td>$135.00</td>\n",
       "      <td>$135.00</td>\n",
       "      <td>2</td>\n",
       "      <td>1125</td>\n",
       "    </tr>\n",
       "    <tr>\n",
       "      <th>4</th>\n",
       "      <td>910737</td>\n",
       "      <td>2021-12-18</td>\n",
       "      <td>f</td>\n",
       "      <td>$135.00</td>\n",
       "      <td>$135.00</td>\n",
       "      <td>2</td>\n",
       "      <td>1125</td>\n",
       "    </tr>\n",
       "    <tr>\n",
       "      <th>...</th>\n",
       "      <td>...</td>\n",
       "      <td>...</td>\n",
       "      <td>...</td>\n",
       "      <td>...</td>\n",
       "      <td>...</td>\n",
       "      <td>...</td>\n",
       "      <td>...</td>\n",
       "    </tr>\n",
       "    <tr>\n",
       "      <th>958485</th>\n",
       "      <td>51875440</td>\n",
       "      <td>2022-12-10</td>\n",
       "      <td>t</td>\n",
       "      <td>$807.00</td>\n",
       "      <td>$807.00</td>\n",
       "      <td>5</td>\n",
       "      <td>365</td>\n",
       "    </tr>\n",
       "    <tr>\n",
       "      <th>958486</th>\n",
       "      <td>51875440</td>\n",
       "      <td>2022-12-11</td>\n",
       "      <td>t</td>\n",
       "      <td>$718.00</td>\n",
       "      <td>$718.00</td>\n",
       "      <td>5</td>\n",
       "      <td>365</td>\n",
       "    </tr>\n",
       "    <tr>\n",
       "      <th>958487</th>\n",
       "      <td>51875440</td>\n",
       "      <td>2022-12-12</td>\n",
       "      <td>t</td>\n",
       "      <td>$706.00</td>\n",
       "      <td>$706.00</td>\n",
       "      <td>5</td>\n",
       "      <td>365</td>\n",
       "    </tr>\n",
       "    <tr>\n",
       "      <th>958488</th>\n",
       "      <td>51875440</td>\n",
       "      <td>2022-12-13</td>\n",
       "      <td>t</td>\n",
       "      <td>$696.00</td>\n",
       "      <td>$696.00</td>\n",
       "      <td>5</td>\n",
       "      <td>365</td>\n",
       "    </tr>\n",
       "    <tr>\n",
       "      <th>958489</th>\n",
       "      <td>51875440</td>\n",
       "      <td>2022-12-14</td>\n",
       "      <td>t</td>\n",
       "      <td>$687.00</td>\n",
       "      <td>$687.00</td>\n",
       "      <td>5</td>\n",
       "      <td>365</td>\n",
       "    </tr>\n",
       "  </tbody>\n",
       "</table>\n",
       "<p>958490 rows × 7 columns</p>\n",
       "</div>"
      ],
      "text/plain": [
       "        listing_id        date available    price adjusted_price  \\\n",
       "0           881707  2021-12-15         f   $93.00         $93.00   \n",
       "1           910737  2021-12-15         t  $156.00        $156.00   \n",
       "2           910737  2021-12-16         t  $156.00        $156.00   \n",
       "3           910737  2021-12-17         f  $135.00        $135.00   \n",
       "4           910737  2021-12-18         f  $135.00        $135.00   \n",
       "...            ...         ...       ...      ...            ...   \n",
       "958485    51875440  2022-12-10         t  $807.00        $807.00   \n",
       "958486    51875440  2022-12-11         t  $718.00        $718.00   \n",
       "958487    51875440  2022-12-12         t  $706.00        $706.00   \n",
       "958488    51875440  2022-12-13         t  $696.00        $696.00   \n",
       "958489    51875440  2022-12-14         t  $687.00        $687.00   \n",
       "\n",
       "        minimum_nights  maximum_nights  \n",
       "0                    1            1125  \n",
       "1                    2            1125  \n",
       "2                    2            1125  \n",
       "3                    2            1125  \n",
       "4                    2            1125  \n",
       "...                ...             ...  \n",
       "958485               5             365  \n",
       "958486               5             365  \n",
       "958487               5             365  \n",
       "958488               5             365  \n",
       "958489               5             365  \n",
       "\n",
       "[958490 rows x 7 columns]"
      ]
     },
     "execution_count": 56,
     "metadata": {},
     "output_type": "execute_result"
    }
   ],
   "source": [
    "#Load raw calendar data from file\n",
    "raw_calendar_data = pd.read_csv('../Data/AirBnB/Asheville/2021/asheville_calendar_2021.csv', compression='gzip')\n",
    "raw_calendar_data"
   ]
  },
  {
   "cell_type": "code",
   "execution_count": 57,
   "id": "d073ca24",
   "metadata": {},
   "outputs": [
    {
     "name": "stdout",
     "output_type": "stream",
     "text": [
      "<class 'pandas.core.frame.DataFrame'>\n",
      "RangeIndex: 958490 entries, 0 to 958489\n",
      "Data columns (total 7 columns):\n",
      " #   Column          Non-Null Count   Dtype \n",
      "---  ------          --------------   ----- \n",
      " 0   listing_id      958490 non-null  int64 \n",
      " 1   date            958490 non-null  object\n",
      " 2   available       958490 non-null  object\n",
      " 3   price           958319 non-null  object\n",
      " 4   adjusted_price  958319 non-null  object\n",
      " 5   minimum_nights  958490 non-null  int64 \n",
      " 6   maximum_nights  958490 non-null  int64 \n",
      "dtypes: int64(3), object(4)\n",
      "memory usage: 51.2+ MB\n"
     ]
    }
   ],
   "source": [
    "#Check the info / types of data\n",
    "raw_calendar_data.info()"
   ]
  },
  {
   "cell_type": "code",
   "execution_count": 58,
   "id": "53d34730",
   "metadata": {},
   "outputs": [
    {
     "name": "stdout",
     "output_type": "stream",
     "text": [
      "<class 'pandas.core.frame.DataFrame'>\n",
      "RangeIndex: 958490 entries, 0 to 958489\n",
      "Data columns (total 7 columns):\n",
      " #   Column          Non-Null Count   Dtype         \n",
      "---  ------          --------------   -----         \n",
      " 0   listing_id      958490 non-null  int64         \n",
      " 1   date            958490 non-null  datetime64[ns]\n",
      " 2   available       958490 non-null  object        \n",
      " 3   price           958319 non-null  object        \n",
      " 4   adjusted_price  958319 non-null  object        \n",
      " 5   minimum_nights  958490 non-null  int64         \n",
      " 6   maximum_nights  958490 non-null  int64         \n",
      "dtypes: datetime64[ns](1), int64(3), object(3)\n",
      "memory usage: 51.2+ MB\n"
     ]
    }
   ],
   "source": [
    "#Convert date column to date-times type\n",
    "mod_calendar_data = raw_calendar_data\n",
    "mod_calendar_data['date'] = pd.to_datetime(raw_calendar_data['date'])\n",
    "\n",
    "#Confirm the info / types of data\n",
    "mod_calendar_data.info()"
   ]
  },
  {
   "cell_type": "code",
   "execution_count": 59,
   "id": "99d0c735",
   "metadata": {},
   "outputs": [
    {
     "name": "stdout",
     "output_type": "stream",
     "text": [
      "Earliest date of data set 2021-12-15 00:00:00\n",
      "Latest date of data set 2022-12-17 00:00:00\n"
     ]
    }
   ],
   "source": [
    "print(f\"Earliest date of data set {raw_calendar_data['date'].min()}\")\n",
    "print(f\"Latest date of data set {raw_calendar_data['date'].max()}\")"
   ]
  },
  {
   "cell_type": "code",
   "execution_count": 60,
   "id": "a936bfec",
   "metadata": {},
   "outputs": [
    {
     "data": {
      "text/plain": [
       "t    532541\n",
       "f    425949\n",
       "Name: available, dtype: int64"
      ]
     },
     "execution_count": 60,
     "metadata": {},
     "output_type": "execute_result"
    }
   ],
   "source": [
    "#Check Values of 'Available column'\n",
    "mod_calendar_data['available'].value_counts()"
   ]
  },
  {
   "cell_type": "code",
   "execution_count": 61,
   "id": "b046b455",
   "metadata": {},
   "outputs": [
    {
     "data": {
      "text/plain": [
       "1    532541\n",
       "0    425949\n",
       "Name: available, dtype: int64"
      ]
     },
     "execution_count": 61,
     "metadata": {},
     "output_type": "execute_result"
    }
   ],
   "source": [
    "#Replace the false and true values with 0 and 1\n",
    "mod_calendar_data['available'] = mod_calendar_data['available'].replace(['f', 't'],[0, 1])\n",
    "\n",
    "#Confirm available are now integers\n",
    "mod_calendar_data['available'].value_counts()"
   ]
  },
  {
   "cell_type": "code",
   "execution_count": 62,
   "id": "0693554e",
   "metadata": {},
   "outputs": [
    {
     "name": "stdout",
     "output_type": "stream",
     "text": [
      "<class 'pandas.core.frame.DataFrame'>\n",
      "RangeIndex: 958490 entries, 0 to 958489\n",
      "Data columns (total 7 columns):\n",
      " #   Column          Non-Null Count   Dtype         \n",
      "---  ------          --------------   -----         \n",
      " 0   listing_id      958490 non-null  int64         \n",
      " 1   date            958490 non-null  datetime64[ns]\n",
      " 2   available       958490 non-null  int64         \n",
      " 3   price           958319 non-null  object        \n",
      " 4   adjusted_price  958319 non-null  object        \n",
      " 5   minimum_nights  958490 non-null  int64         \n",
      " 6   maximum_nights  958490 non-null  int64         \n",
      "dtypes: datetime64[ns](1), int64(4), object(2)\n",
      "memory usage: 51.2+ MB\n"
     ]
    }
   ],
   "source": [
    "mod_calendar_data.info()"
   ]
  },
  {
   "cell_type": "code",
   "execution_count": 63,
   "id": "28a20706",
   "metadata": {},
   "outputs": [
    {
     "data": {
      "text/plain": [
       "$125.00      29854\n",
       "$150.00      24356\n",
       "$99.00       19492\n",
       "$95.00       19240\n",
       "$250.00      16814\n",
       "             ...  \n",
       "$1,391.00        1\n",
       "$1,304.00        1\n",
       "$1,711.00        1\n",
       "$2,445.00        1\n",
       "$1,322.00        1\n",
       "Name: price, Length: 2100, dtype: int64"
      ]
     },
     "execution_count": 63,
     "metadata": {},
     "output_type": "execute_result"
    }
   ],
   "source": [
    "mod_calendar_data['price'].value_counts()"
   ]
  },
  {
   "cell_type": "code",
   "execution_count": 64,
   "id": "f47bc977",
   "metadata": {},
   "outputs": [
    {
     "data": {
      "text/plain": [
       "171"
      ]
     },
     "execution_count": 64,
     "metadata": {},
     "output_type": "execute_result"
    }
   ],
   "source": [
    "mod_calendar_data['price'].isna().sum()"
   ]
  },
  {
   "cell_type": "code",
   "execution_count": 65,
   "id": "bfae5ded",
   "metadata": {},
   "outputs": [
    {
     "data": {
      "text/plain": [
       "$125.00      28413\n",
       "$150.00      24264\n",
       "$99.00       19561\n",
       "$95.00       19077\n",
       "$250.00      16475\n",
       "             ...  \n",
       "$1,565.00        1\n",
       "$1,166.00        1\n",
       "$1,728.00        1\n",
       "$1,688.00        1\n",
       "$1,322.00        1\n",
       "Name: adjusted_price, Length: 2097, dtype: int64"
      ]
     },
     "execution_count": 65,
     "metadata": {},
     "output_type": "execute_result"
    }
   ],
   "source": [
    "mod_calendar_data['adjusted_price'].value_counts()"
   ]
  },
  {
   "cell_type": "code",
   "execution_count": 66,
   "id": "eb82f035",
   "metadata": {},
   "outputs": [
    {
     "data": {
      "text/plain": [
       "47732580    171\n",
       "Name: listing_id, dtype: int64"
      ]
     },
     "execution_count": 66,
     "metadata": {},
     "output_type": "execute_result"
    }
   ],
   "source": [
    "nan_cols = mod_calendar_data[mod_calendar_data['price'].isna()]\n",
    "nan_cols['listing_id'].value_counts()"
   ]
  },
  {
   "cell_type": "code",
   "execution_count": 67,
   "id": "c0f566e4",
   "metadata": {},
   "outputs": [
    {
     "data": {
      "text/plain": [
       "0"
      ]
     },
     "execution_count": 67,
     "metadata": {},
     "output_type": "execute_result"
    }
   ],
   "source": [
    "bnb_to_drop = mod_calendar_data[(mod_calendar_data['listing_id'] == 47732580)].index\n",
    "mod_calendar_data = mod_calendar_data.drop(bnb_to_drop)\n",
    "mod_calendar_data['price'].isna().sum()"
   ]
  },
  {
   "cell_type": "code",
   "execution_count": 68,
   "id": "744c626e",
   "metadata": {},
   "outputs": [
    {
     "data": {
      "text/plain": [
       "0          $93.00\n",
       "1         $156.00\n",
       "2         $156.00\n",
       "3         $135.00\n",
       "4         $135.00\n",
       "           ...   \n",
       "958485    $807.00\n",
       "958486    $718.00\n",
       "958487    $706.00\n",
       "958488    $696.00\n",
       "958489    $687.00\n",
       "Name: price, Length: 958125, dtype: object"
      ]
     },
     "execution_count": 68,
     "metadata": {},
     "output_type": "execute_result"
    }
   ],
   "source": [
    "mod_calendar_data['price']"
   ]
  },
  {
   "cell_type": "code",
   "execution_count": 69,
   "id": "673dfef7",
   "metadata": {},
   "outputs": [
    {
     "name": "stderr",
     "output_type": "stream",
     "text": [
      "/var/folders/vj/wwng1wrx4433kjdgg3pdcmbc0000gn/T/ipykernel_25083/3967628597.py:5: FutureWarning: The default value of regex will change from True to False in a future version. In addition, single character regular expressions will *not* be treated as literal strings when regex=True.\n",
      "  mod_calendar_data['daily_price'] = mod_calendar_data['daily_price'].str.replace('$', '')\n"
     ]
    },
    {
     "name": "stdout",
     "output_type": "stream",
     "text": [
      "<class 'pandas.core.frame.DataFrame'>\n",
      "Int64Index: 958125 entries, 0 to 958489\n",
      "Data columns (total 6 columns):\n",
      " #   Column          Non-Null Count   Dtype         \n",
      "---  ------          --------------   -----         \n",
      " 0   listing_id      958125 non-null  int64         \n",
      " 1   daily_price     958125 non-null  int64         \n",
      " 2   date            958125 non-null  datetime64[ns]\n",
      " 3   available       958125 non-null  int64         \n",
      " 4   minimum_nights  958125 non-null  int64         \n",
      " 5   maximum_nights  958125 non-null  int64         \n",
      "dtypes: datetime64[ns](1), int64(5)\n",
      "memory usage: 83.4 MB\n"
     ]
    },
    {
     "data": {
      "text/html": [
       "<div>\n",
       "<style scoped>\n",
       "    .dataframe tbody tr th:only-of-type {\n",
       "        vertical-align: middle;\n",
       "    }\n",
       "\n",
       "    .dataframe tbody tr th {\n",
       "        vertical-align: top;\n",
       "    }\n",
       "\n",
       "    .dataframe thead th {\n",
       "        text-align: right;\n",
       "    }\n",
       "</style>\n",
       "<table border=\"1\" class=\"dataframe\">\n",
       "  <thead>\n",
       "    <tr style=\"text-align: right;\">\n",
       "      <th></th>\n",
       "      <th>listing_id</th>\n",
       "      <th>daily_price</th>\n",
       "      <th>date</th>\n",
       "      <th>available</th>\n",
       "      <th>minimum_nights</th>\n",
       "      <th>maximum_nights</th>\n",
       "    </tr>\n",
       "  </thead>\n",
       "  <tbody>\n",
       "    <tr>\n",
       "      <th>0</th>\n",
       "      <td>881707</td>\n",
       "      <td>93</td>\n",
       "      <td>2021-12-15</td>\n",
       "      <td>0</td>\n",
       "      <td>1</td>\n",
       "      <td>1125</td>\n",
       "    </tr>\n",
       "    <tr>\n",
       "      <th>1</th>\n",
       "      <td>910737</td>\n",
       "      <td>156</td>\n",
       "      <td>2021-12-15</td>\n",
       "      <td>1</td>\n",
       "      <td>2</td>\n",
       "      <td>1125</td>\n",
       "    </tr>\n",
       "    <tr>\n",
       "      <th>2</th>\n",
       "      <td>910737</td>\n",
       "      <td>156</td>\n",
       "      <td>2021-12-16</td>\n",
       "      <td>1</td>\n",
       "      <td>2</td>\n",
       "      <td>1125</td>\n",
       "    </tr>\n",
       "    <tr>\n",
       "      <th>3</th>\n",
       "      <td>910737</td>\n",
       "      <td>135</td>\n",
       "      <td>2021-12-17</td>\n",
       "      <td>0</td>\n",
       "      <td>2</td>\n",
       "      <td>1125</td>\n",
       "    </tr>\n",
       "    <tr>\n",
       "      <th>4</th>\n",
       "      <td>910737</td>\n",
       "      <td>135</td>\n",
       "      <td>2021-12-18</td>\n",
       "      <td>0</td>\n",
       "      <td>2</td>\n",
       "      <td>1125</td>\n",
       "    </tr>\n",
       "    <tr>\n",
       "      <th>...</th>\n",
       "      <td>...</td>\n",
       "      <td>...</td>\n",
       "      <td>...</td>\n",
       "      <td>...</td>\n",
       "      <td>...</td>\n",
       "      <td>...</td>\n",
       "    </tr>\n",
       "    <tr>\n",
       "      <th>958485</th>\n",
       "      <td>51875440</td>\n",
       "      <td>807</td>\n",
       "      <td>2022-12-10</td>\n",
       "      <td>1</td>\n",
       "      <td>5</td>\n",
       "      <td>365</td>\n",
       "    </tr>\n",
       "    <tr>\n",
       "      <th>958486</th>\n",
       "      <td>51875440</td>\n",
       "      <td>718</td>\n",
       "      <td>2022-12-11</td>\n",
       "      <td>1</td>\n",
       "      <td>5</td>\n",
       "      <td>365</td>\n",
       "    </tr>\n",
       "    <tr>\n",
       "      <th>958487</th>\n",
       "      <td>51875440</td>\n",
       "      <td>706</td>\n",
       "      <td>2022-12-12</td>\n",
       "      <td>1</td>\n",
       "      <td>5</td>\n",
       "      <td>365</td>\n",
       "    </tr>\n",
       "    <tr>\n",
       "      <th>958488</th>\n",
       "      <td>51875440</td>\n",
       "      <td>696</td>\n",
       "      <td>2022-12-13</td>\n",
       "      <td>1</td>\n",
       "      <td>5</td>\n",
       "      <td>365</td>\n",
       "    </tr>\n",
       "    <tr>\n",
       "      <th>958489</th>\n",
       "      <td>51875440</td>\n",
       "      <td>687</td>\n",
       "      <td>2022-12-14</td>\n",
       "      <td>1</td>\n",
       "      <td>5</td>\n",
       "      <td>365</td>\n",
       "    </tr>\n",
       "  </tbody>\n",
       "</table>\n",
       "<p>958125 rows × 6 columns</p>\n",
       "</div>"
      ],
      "text/plain": [
       "        listing_id  daily_price       date  available  minimum_nights  \\\n",
       "0           881707           93 2021-12-15          0               1   \n",
       "1           910737          156 2021-12-15          1               2   \n",
       "2           910737          156 2021-12-16          1               2   \n",
       "3           910737          135 2021-12-17          0               2   \n",
       "4           910737          135 2021-12-18          0               2   \n",
       "...            ...          ...        ...        ...             ...   \n",
       "958485    51875440          807 2022-12-10          1               5   \n",
       "958486    51875440          718 2022-12-11          1               5   \n",
       "958487    51875440          706 2022-12-12          1               5   \n",
       "958488    51875440          696 2022-12-13          1               5   \n",
       "958489    51875440          687 2022-12-14          1               5   \n",
       "\n",
       "        maximum_nights  \n",
       "0                 1125  \n",
       "1                 1125  \n",
       "2                 1125  \n",
       "3                 1125  \n",
       "4                 1125  \n",
       "...                ...  \n",
       "958485             365  \n",
       "958486             365  \n",
       "958487             365  \n",
       "958488             365  \n",
       "958489             365  \n",
       "\n",
       "[958125 rows x 6 columns]"
      ]
     },
     "execution_count": 69,
     "metadata": {},
     "output_type": "execute_result"
    }
   ],
   "source": [
    "test_price_df = mod_calendar_data['price'].str.split(\".\", expand=True)\n",
    "test_price_df = test_price_df.rename(columns = {0 : 'daily_price'})\n",
    "test_price_df = test_price_df.drop(labels = [1], axis = 1)\n",
    "mod_calendar_data = test_price_df.join(mod_calendar_data, how = 'left')\n",
    "mod_calendar_data['daily_price'] = mod_calendar_data['daily_price'].str.replace('$', '')\n",
    "mod_calendar_data['daily_price'] = mod_calendar_data['daily_price'].str.replace(',', '')\n",
    "mod_calendar_data['daily_price'] = mod_calendar_data['daily_price'].astype({'daily_price':'int'})\n",
    "mod_calendar_data = mod_calendar_data.drop(labels = ['adjusted_price', 'price'], axis = 1)\n",
    "\n",
    "id_to_move = mod_calendar_data.pop('listing_id')\n",
    "mod_calendar_data.insert(0, 'listing_id', id_to_move)\n",
    "mod_calendar_data"
   ]
  },
  {
   "cell_type": "code",
   "execution_count": 70,
   "id": "4b791e66",
   "metadata": {},
   "outputs": [
    {
     "name": "stdout",
     "output_type": "stream",
     "text": [
      "<class 'pandas.core.frame.DataFrame'>\n",
      "Int64Index: 958125 entries, 0 to 958489\n",
      "Data columns (total 6 columns):\n",
      " #   Column          Non-Null Count   Dtype         \n",
      "---  ------          --------------   -----         \n",
      " 0   listing_id      958125 non-null  int64         \n",
      " 1   daily_price     958125 non-null  int64         \n",
      " 2   date            958125 non-null  datetime64[ns]\n",
      " 3   available       958125 non-null  int64         \n",
      " 4   minimum_nights  958125 non-null  int64         \n",
      " 5   maximum_nights  958125 non-null  int64         \n",
      "dtypes: datetime64[ns](1), int64(5)\n",
      "memory usage: 83.4 MB\n"
     ]
    }
   ],
   "source": [
    "mod_calendar_data.info()"
   ]
  },
  {
   "cell_type": "code",
   "execution_count": 71,
   "id": "105ed804",
   "metadata": {},
   "outputs": [],
   "source": [
    "#For purposes of this project/the stakeholder, we will drop the adjusted avail, price, min nights, max nights\n",
    "mod_calendar_data = mod_calendar_data.drop(['available', 'minimum_nights', 'maximum_nights'],\n",
    "                                          axis = 1)"
   ]
  },
  {
   "cell_type": "code",
   "execution_count": 72,
   "id": "29b2c52f",
   "metadata": {},
   "outputs": [
    {
     "name": "stdout",
     "output_type": "stream",
     "text": [
      "<class 'pandas.core.frame.DataFrame'>\n",
      "Int64Index: 958125 entries, 0 to 958489\n",
      "Data columns (total 3 columns):\n",
      " #   Column       Non-Null Count   Dtype         \n",
      "---  ------       --------------   -----         \n",
      " 0   listing_id   958125 non-null  int64         \n",
      " 1   daily_price  958125 non-null  int64         \n",
      " 2   date         958125 non-null  datetime64[ns]\n",
      "dtypes: datetime64[ns](1), int64(2)\n",
      "memory usage: 61.5 MB\n"
     ]
    }
   ],
   "source": [
    "#Check all columns are integer types\n",
    "mod_calendar_data.info()"
   ]
  },
  {
   "cell_type": "code",
   "execution_count": null,
   "id": "5c265e8d",
   "metadata": {},
   "outputs": [],
   "source": [
    "# mod_calendar_data_id_avail = mod_calendar_data.groupby(['listing_id']).sum()\n",
    "# mod_calendar_data_id_avail = mod_calendar_data_id_avail.reset_index()\n",
    "# mod_calendar_data_id_avail = mod_calendar_data_id_avail.drop(['price'], axis = 1)\n",
    "# mod_calendar_data_id_avail['perc_year_avail'] = mod_calendar_data_id_avail['available'] / 365\n",
    "# mod_calendar_data_id_avail = mod_calendar_data_id_avail.drop(['available'], axis = 1)\n",
    "# mod_calendar_data_id_avail"
   ]
  },
  {
   "cell_type": "code",
   "execution_count": null,
   "id": "8d16dbec",
   "metadata": {},
   "outputs": [],
   "source": [
    "# mod_calendar_data_id_avail.info()"
   ]
  },
  {
   "cell_type": "markdown",
   "id": "91c8a4bc",
   "metadata": {},
   "source": [
    "## Listings Data - 2022"
   ]
  },
  {
   "cell_type": "code",
   "execution_count": 73,
   "id": "49c0c1aa",
   "metadata": {},
   "outputs": [
    {
     "data": {
      "text/html": [
       "<div>\n",
       "<style scoped>\n",
       "    .dataframe tbody tr th:only-of-type {\n",
       "        vertical-align: middle;\n",
       "    }\n",
       "\n",
       "    .dataframe tbody tr th {\n",
       "        vertical-align: top;\n",
       "    }\n",
       "\n",
       "    .dataframe thead th {\n",
       "        text-align: right;\n",
       "    }\n",
       "</style>\n",
       "<table border=\"1\" class=\"dataframe\">\n",
       "  <thead>\n",
       "    <tr style=\"text-align: right;\">\n",
       "      <th></th>\n",
       "      <th>id</th>\n",
       "      <th>listing_url</th>\n",
       "      <th>scrape_id</th>\n",
       "      <th>last_scraped</th>\n",
       "      <th>name</th>\n",
       "      <th>description</th>\n",
       "      <th>neighborhood_overview</th>\n",
       "      <th>picture_url</th>\n",
       "      <th>host_id</th>\n",
       "      <th>host_url</th>\n",
       "      <th>...</th>\n",
       "      <th>review_scores_communication</th>\n",
       "      <th>review_scores_location</th>\n",
       "      <th>review_scores_value</th>\n",
       "      <th>license</th>\n",
       "      <th>instant_bookable</th>\n",
       "      <th>calculated_host_listings_count</th>\n",
       "      <th>calculated_host_listings_count_entire_homes</th>\n",
       "      <th>calculated_host_listings_count_private_rooms</th>\n",
       "      <th>calculated_host_listings_count_shared_rooms</th>\n",
       "      <th>reviews_per_month</th>\n",
       "    </tr>\n",
       "  </thead>\n",
       "  <tbody>\n",
       "    <tr>\n",
       "      <th>0</th>\n",
       "      <td>108061</td>\n",
       "      <td>https://www.airbnb.com/rooms/108061</td>\n",
       "      <td>20211215062309</td>\n",
       "      <td>2021-12-15</td>\n",
       "      <td>Walk to stores/parks/downtown. Fenced yard/Pet...</td>\n",
       "      <td>Walk to town in ten minutes! Monthly rental in...</td>\n",
       "      <td>I love my neighborhood! Its friendly, easy-goi...</td>\n",
       "      <td>https://a0.muscache.com/pictures/41011975/0cdf...</td>\n",
       "      <td>320564</td>\n",
       "      <td>https://www.airbnb.com/users/show/320564</td>\n",
       "      <td>...</td>\n",
       "      <td>4.79</td>\n",
       "      <td>4.84</td>\n",
       "      <td>4.48</td>\n",
       "      <td>NaN</td>\n",
       "      <td>f</td>\n",
       "      <td>2</td>\n",
       "      <td>2</td>\n",
       "      <td>0</td>\n",
       "      <td>0</td>\n",
       "      <td>0.71</td>\n",
       "    </tr>\n",
       "    <tr>\n",
       "      <th>1</th>\n",
       "      <td>155305</td>\n",
       "      <td>https://www.airbnb.com/rooms/155305</td>\n",
       "      <td>20211215062309</td>\n",
       "      <td>2021-12-15</td>\n",
       "      <td>Cottage! BonPaul + Sharky's Hostel</td>\n",
       "      <td>&lt;b&gt;The space&lt;/b&gt;&lt;br /&gt;Private cottage located ...</td>\n",
       "      <td>We are within easy walk of pubs, breweries, mu...</td>\n",
       "      <td>https://a0.muscache.com/pictures/8880711/cf38d...</td>\n",
       "      <td>746673</td>\n",
       "      <td>https://www.airbnb.com/users/show/746673</td>\n",
       "      <td>...</td>\n",
       "      <td>4.76</td>\n",
       "      <td>4.93</td>\n",
       "      <td>4.53</td>\n",
       "      <td>NaN</td>\n",
       "      <td>t</td>\n",
       "      <td>7</td>\n",
       "      <td>1</td>\n",
       "      <td>2</td>\n",
       "      <td>4</td>\n",
       "      <td>2.75</td>\n",
       "    </tr>\n",
       "    <tr>\n",
       "      <th>2</th>\n",
       "      <td>156805</td>\n",
       "      <td>https://www.airbnb.com/rooms/156805</td>\n",
       "      <td>20211215062309</td>\n",
       "      <td>2021-12-15</td>\n",
       "      <td>Private Room \"Ader\" at BPS Hostel</td>\n",
       "      <td>&lt;b&gt;The space&lt;/b&gt;&lt;br /&gt;Private Rooms at Bon Pau...</td>\n",
       "      <td>Easy walk to pubs, cafes, bakery, breweries, l...</td>\n",
       "      <td>https://a0.muscache.com/pictures/23447d55-fa7e...</td>\n",
       "      <td>746673</td>\n",
       "      <td>https://www.airbnb.com/users/show/746673</td>\n",
       "      <td>...</td>\n",
       "      <td>4.61</td>\n",
       "      <td>4.84</td>\n",
       "      <td>4.46</td>\n",
       "      <td>NaN</td>\n",
       "      <td>t</td>\n",
       "      <td>7</td>\n",
       "      <td>1</td>\n",
       "      <td>2</td>\n",
       "      <td>4</td>\n",
       "      <td>0.54</td>\n",
       "    </tr>\n",
       "    <tr>\n",
       "      <th>3</th>\n",
       "      <td>156926</td>\n",
       "      <td>https://www.airbnb.com/rooms/156926</td>\n",
       "      <td>20211215062309</td>\n",
       "      <td>2021-12-15</td>\n",
       "      <td>Mixed Dorm \"Top Bunk #1\" at BPS Hostel</td>\n",
       "      <td>This is a top bunk in the mixed dorm room&lt;br /...</td>\n",
       "      <td>NaN</td>\n",
       "      <td>https://a0.muscache.com/pictures/98f4e655-c4d6...</td>\n",
       "      <td>746673</td>\n",
       "      <td>https://www.airbnb.com/users/show/746673</td>\n",
       "      <td>...</td>\n",
       "      <td>4.80</td>\n",
       "      <td>4.78</td>\n",
       "      <td>4.78</td>\n",
       "      <td>NaN</td>\n",
       "      <td>t</td>\n",
       "      <td>7</td>\n",
       "      <td>1</td>\n",
       "      <td>2</td>\n",
       "      <td>4</td>\n",
       "      <td>2.36</td>\n",
       "    </tr>\n",
       "    <tr>\n",
       "      <th>4</th>\n",
       "      <td>160594</td>\n",
       "      <td>https://www.airbnb.com/rooms/160594</td>\n",
       "      <td>20211215062309</td>\n",
       "      <td>2021-12-15</td>\n",
       "      <td>Historic Grove Park</td>\n",
       "      <td>Come enjoy the beautiful Grove Park neighborho...</td>\n",
       "      <td>NaN</td>\n",
       "      <td>https://a0.muscache.com/pictures/92433837/d340...</td>\n",
       "      <td>769252</td>\n",
       "      <td>https://www.airbnb.com/users/show/769252</td>\n",
       "      <td>...</td>\n",
       "      <td>4.88</td>\n",
       "      <td>4.90</td>\n",
       "      <td>4.85</td>\n",
       "      <td>NaN</td>\n",
       "      <td>f</td>\n",
       "      <td>1</td>\n",
       "      <td>0</td>\n",
       "      <td>1</td>\n",
       "      <td>0</td>\n",
       "      <td>0.46</td>\n",
       "    </tr>\n",
       "  </tbody>\n",
       "</table>\n",
       "<p>5 rows × 74 columns</p>\n",
       "</div>"
      ],
      "text/plain": [
       "       id                          listing_url       scrape_id last_scraped  \\\n",
       "0  108061  https://www.airbnb.com/rooms/108061  20211215062309   2021-12-15   \n",
       "1  155305  https://www.airbnb.com/rooms/155305  20211215062309   2021-12-15   \n",
       "2  156805  https://www.airbnb.com/rooms/156805  20211215062309   2021-12-15   \n",
       "3  156926  https://www.airbnb.com/rooms/156926  20211215062309   2021-12-15   \n",
       "4  160594  https://www.airbnb.com/rooms/160594  20211215062309   2021-12-15   \n",
       "\n",
       "                                                name  \\\n",
       "0  Walk to stores/parks/downtown. Fenced yard/Pet...   \n",
       "1                 Cottage! BonPaul + Sharky's Hostel   \n",
       "2                  Private Room \"Ader\" at BPS Hostel   \n",
       "3             Mixed Dorm \"Top Bunk #1\" at BPS Hostel   \n",
       "4                                Historic Grove Park   \n",
       "\n",
       "                                         description  \\\n",
       "0  Walk to town in ten minutes! Monthly rental in...   \n",
       "1  <b>The space</b><br />Private cottage located ...   \n",
       "2  <b>The space</b><br />Private Rooms at Bon Pau...   \n",
       "3  This is a top bunk in the mixed dorm room<br /...   \n",
       "4  Come enjoy the beautiful Grove Park neighborho...   \n",
       "\n",
       "                               neighborhood_overview  \\\n",
       "0  I love my neighborhood! Its friendly, easy-goi...   \n",
       "1  We are within easy walk of pubs, breweries, mu...   \n",
       "2  Easy walk to pubs, cafes, bakery, breweries, l...   \n",
       "3                                                NaN   \n",
       "4                                                NaN   \n",
       "\n",
       "                                         picture_url  host_id  \\\n",
       "0  https://a0.muscache.com/pictures/41011975/0cdf...   320564   \n",
       "1  https://a0.muscache.com/pictures/8880711/cf38d...   746673   \n",
       "2  https://a0.muscache.com/pictures/23447d55-fa7e...   746673   \n",
       "3  https://a0.muscache.com/pictures/98f4e655-c4d6...   746673   \n",
       "4  https://a0.muscache.com/pictures/92433837/d340...   769252   \n",
       "\n",
       "                                   host_url  ... review_scores_communication  \\\n",
       "0  https://www.airbnb.com/users/show/320564  ...                        4.79   \n",
       "1  https://www.airbnb.com/users/show/746673  ...                        4.76   \n",
       "2  https://www.airbnb.com/users/show/746673  ...                        4.61   \n",
       "3  https://www.airbnb.com/users/show/746673  ...                        4.80   \n",
       "4  https://www.airbnb.com/users/show/769252  ...                        4.88   \n",
       "\n",
       "  review_scores_location review_scores_value license instant_bookable  \\\n",
       "0                   4.84                4.48     NaN                f   \n",
       "1                   4.93                4.53     NaN                t   \n",
       "2                   4.84                4.46     NaN                t   \n",
       "3                   4.78                4.78     NaN                t   \n",
       "4                   4.90                4.85     NaN                f   \n",
       "\n",
       "  calculated_host_listings_count calculated_host_listings_count_entire_homes  \\\n",
       "0                              2                                           2   \n",
       "1                              7                                           1   \n",
       "2                              7                                           1   \n",
       "3                              7                                           1   \n",
       "4                              1                                           0   \n",
       "\n",
       "  calculated_host_listings_count_private_rooms  \\\n",
       "0                                            0   \n",
       "1                                            2   \n",
       "2                                            2   \n",
       "3                                            2   \n",
       "4                                            1   \n",
       "\n",
       "  calculated_host_listings_count_shared_rooms reviews_per_month  \n",
       "0                                           0              0.71  \n",
       "1                                           4              2.75  \n",
       "2                                           4              0.54  \n",
       "3                                           4              2.36  \n",
       "4                                           0              0.46  \n",
       "\n",
       "[5 rows x 74 columns]"
      ]
     },
     "execution_count": 73,
     "metadata": {},
     "output_type": "execute_result"
    }
   ],
   "source": [
    "raw_listings_data = pd.read_csv('../Data/AirBnB/Asheville/2021/asheville_listings_2021.csv')\n",
    "raw_listings_data.head()"
   ]
  },
  {
   "cell_type": "code",
   "execution_count": 74,
   "id": "c0a69144",
   "metadata": {},
   "outputs": [
    {
     "name": "stdout",
     "output_type": "stream",
     "text": [
      "<class 'pandas.core.frame.DataFrame'>\n",
      "RangeIndex: 2626 entries, 0 to 2625\n",
      "Data columns (total 74 columns):\n",
      " #   Column                                        Non-Null Count  Dtype  \n",
      "---  ------                                        --------------  -----  \n",
      " 0   id                                            2626 non-null   int64  \n",
      " 1   listing_url                                   2626 non-null   object \n",
      " 2   scrape_id                                     2626 non-null   int64  \n",
      " 3   last_scraped                                  2626 non-null   object \n",
      " 4   name                                          2626 non-null   object \n",
      " 5   description                                   2621 non-null   object \n",
      " 6   neighborhood_overview                         2040 non-null   object \n",
      " 7   picture_url                                   2626 non-null   object \n",
      " 8   host_id                                       2626 non-null   int64  \n",
      " 9   host_url                                      2626 non-null   object \n",
      " 10  host_name                                     2626 non-null   object \n",
      " 11  host_since                                    2626 non-null   object \n",
      " 12  host_location                                 2622 non-null   object \n",
      " 13  host_about                                    1744 non-null   object \n",
      " 14  host_response_time                            2165 non-null   object \n",
      " 15  host_response_rate                            2165 non-null   object \n",
      " 16  host_acceptance_rate                          2249 non-null   object \n",
      " 17  host_is_superhost                             2626 non-null   object \n",
      " 18  host_thumbnail_url                            2626 non-null   object \n",
      " 19  host_picture_url                              2626 non-null   object \n",
      " 20  host_neighbourhood                            658 non-null    object \n",
      " 21  host_listings_count                           2626 non-null   int64  \n",
      " 22  host_total_listings_count                     2626 non-null   int64  \n",
      " 23  host_verifications                            2626 non-null   object \n",
      " 24  host_has_profile_pic                          2626 non-null   object \n",
      " 25  host_identity_verified                        2626 non-null   object \n",
      " 26  neighbourhood                                 2041 non-null   object \n",
      " 27  neighbourhood_cleansed                        2626 non-null   int64  \n",
      " 28  neighbourhood_group_cleansed                  0 non-null      float64\n",
      " 29  latitude                                      2626 non-null   float64\n",
      " 30  longitude                                     2626 non-null   float64\n",
      " 31  property_type                                 2626 non-null   object \n",
      " 32  room_type                                     2626 non-null   object \n",
      " 33  accommodates                                  2626 non-null   int64  \n",
      " 34  bathrooms                                     0 non-null      float64\n",
      " 35  bathrooms_text                                2625 non-null   object \n",
      " 36  bedrooms                                      2463 non-null   float64\n",
      " 37  beds                                          2558 non-null   float64\n",
      " 38  amenities                                     2626 non-null   object \n",
      " 39  price                                         2626 non-null   object \n",
      " 40  minimum_nights                                2626 non-null   int64  \n",
      " 41  maximum_nights                                2626 non-null   int64  \n",
      " 42  minimum_minimum_nights                        2626 non-null   int64  \n",
      " 43  maximum_minimum_nights                        2626 non-null   int64  \n",
      " 44  minimum_maximum_nights                        2626 non-null   int64  \n",
      " 45  maximum_maximum_nights                        2626 non-null   int64  \n",
      " 46  minimum_nights_avg_ntm                        2626 non-null   float64\n",
      " 47  maximum_nights_avg_ntm                        2626 non-null   float64\n",
      " 48  calendar_updated                              0 non-null      float64\n",
      " 49  has_availability                              2626 non-null   object \n",
      " 50  availability_30                               2626 non-null   int64  \n",
      " 51  availability_60                               2626 non-null   int64  \n",
      " 52  availability_90                               2626 non-null   int64  \n",
      " 53  availability_365                              2626 non-null   int64  \n",
      " 54  calendar_last_scraped                         2626 non-null   object \n",
      " 55  number_of_reviews                             2626 non-null   int64  \n",
      " 56  number_of_reviews_ltm                         2626 non-null   int64  \n",
      " 57  number_of_reviews_l30d                        2626 non-null   int64  \n",
      " 58  first_review                                  2487 non-null   object \n",
      " 59  last_review                                   2487 non-null   object \n",
      " 60  review_scores_rating                          2487 non-null   float64\n",
      " 61  review_scores_accuracy                        2485 non-null   float64\n",
      " 62  review_scores_cleanliness                     2485 non-null   float64\n",
      " 63  review_scores_checkin                         2485 non-null   float64\n",
      " 64  review_scores_communication                   2485 non-null   float64\n",
      " 65  review_scores_location                        2485 non-null   float64\n",
      " 66  review_scores_value                           2485 non-null   float64\n",
      " 67  license                                       0 non-null      float64\n",
      " 68  instant_bookable                              2626 non-null   object \n",
      " 69  calculated_host_listings_count                2626 non-null   int64  \n",
      " 70  calculated_host_listings_count_entire_homes   2626 non-null   int64  \n",
      " 71  calculated_host_listings_count_private_rooms  2626 non-null   int64  \n",
      " 72  calculated_host_listings_count_shared_rooms   2626 non-null   int64  \n",
      " 73  reviews_per_month                             2487 non-null   float64\n",
      "dtypes: float64(18), int64(24), object(32)\n",
      "memory usage: 1.5+ MB\n"
     ]
    }
   ],
   "source": [
    "raw_listings_data.info()"
   ]
  },
  {
   "cell_type": "code",
   "execution_count": 75,
   "id": "dc6f137d",
   "metadata": {},
   "outputs": [],
   "source": [
    "#Remove irrelevant review columns\n",
    "mod_listing_data = raw_listings_data.drop(labels = ['review_scores_accuracy', \n",
    "                                                    'review_scores_cleanliness', \n",
    "                                                    'review_scores_checkin', \n",
    "                                                    'review_scores_communication', \n",
    "                                                    'review_scores_location',\n",
    "                                                    'calendar_updated', \n",
    "                                                    'license'], axis = 1)"
   ]
  },
  {
   "cell_type": "code",
   "execution_count": 76,
   "id": "09381e19",
   "metadata": {},
   "outputs": [],
   "source": [
    "#Remove irrelevant host columns\n",
    "mod_listing_data = mod_listing_data.drop(labels = ['host_name', \n",
    "                                                   'host_since', \n",
    "                                                   'host_location', \n",
    "                                                   'host_about', \n",
    "                                                   'host_response_time', \n",
    "                                                   'host_acceptance_rate',\n",
    "                                                   'host_thumbnail_url', \n",
    "                                                   'host_picture_url', \n",
    "                                                   'host_neighbourhood', \n",
    "                                                   'host_listings_count', \n",
    "                                                   'host_total_listings_count', \n",
    "                                                   'host_verifications', \n",
    "                                                   'host_has_profile_pic',\n",
    "                                                   'first_review',\n",
    "                                                   'last_review'], axis = 1)"
   ]
  },
  {
   "cell_type": "code",
   "execution_count": 79,
   "id": "918b0615",
   "metadata": {},
   "outputs": [],
   "source": [
    "#Remove\n",
    "\n",
    "mod_listing_data = mod_listing_data.drop(labels = ['scrape_id',\n",
    "                                                  'last_scraped',\n",
    "                                                  'neighbourhood_cleansed',\n",
    "                                                  'neighbourhood_group_cleansed',\n",
    "                                                  'property_type',\n",
    "                                                  'bathrooms',\n",
    "                                                  'price',\n",
    "                                                   'minimum_minimum_nights',\n",
    "                                                   'maximum_minimum_nights',\n",
    "                                                   'minimum_maximum_nights',\n",
    "                                                   'maximum_maximum_nights',\n",
    "                                                   'minimum_nights_avg_ntm',\n",
    "                                                   'maximum_nights_avg_ntm',\n",
    "                                                   'has_availability',\n",
    "                                                   'availability_30',\n",
    "                                                   'availability_60',\n",
    "                                                   'availability_90',\n",
    "                                                   'availability_365',\n",
    "                                                   'calendar_last_scraped',\n",
    "                                                   'number_of_reviews_ltm',\n",
    "                                                   'number_of_reviews_l30d',\n",
    "                                                   'calculated_host_listings_count',\n",
    "                                                   'calculated_host_listings_count_entire_homes',\n",
    "                                                   'calculated_host_listings_count_private_rooms',\n",
    "                                                   'calculated_host_listings_count_shared_rooms',\n",
    "                                                  'neighborhood_overview',\n",
    "                                                  'reviews_per_month',\n",
    "                                                  'review_scores_value',\n",
    "                                                  'host_response_rate',\n",
    "                                                  'description'], axis = 1)"
   ]
  },
  {
   "cell_type": "code",
   "execution_count": 80,
   "id": "d856b99e",
   "metadata": {},
   "outputs": [
    {
     "name": "stdout",
     "output_type": "stream",
     "text": [
      "<class 'pandas.core.frame.DataFrame'>\n",
      "RangeIndex: 2626 entries, 0 to 2625\n",
      "Data columns (total 22 columns):\n",
      " #   Column                  Non-Null Count  Dtype  \n",
      "---  ------                  --------------  -----  \n",
      " 0   id                      2626 non-null   int64  \n",
      " 1   listing_url             2626 non-null   object \n",
      " 2   name                    2626 non-null   object \n",
      " 3   picture_url             2626 non-null   object \n",
      " 4   host_id                 2626 non-null   int64  \n",
      " 5   host_url                2626 non-null   object \n",
      " 6   host_is_superhost       2626 non-null   object \n",
      " 7   host_identity_verified  2626 non-null   object \n",
      " 8   neighbourhood           2041 non-null   object \n",
      " 9   latitude                2626 non-null   float64\n",
      " 10  longitude               2626 non-null   float64\n",
      " 11  room_type               2626 non-null   object \n",
      " 12  accommodates            2626 non-null   int64  \n",
      " 13  bathrooms_text          2625 non-null   object \n",
      " 14  bedrooms                2463 non-null   float64\n",
      " 15  beds                    2558 non-null   float64\n",
      " 16  amenities               2626 non-null   object \n",
      " 17  minimum_nights          2626 non-null   int64  \n",
      " 18  maximum_nights          2626 non-null   int64  \n",
      " 19  number_of_reviews       2626 non-null   int64  \n",
      " 20  review_scores_rating    2487 non-null   float64\n",
      " 21  instant_bookable        2626 non-null   object \n",
      "dtypes: float64(5), int64(6), object(11)\n",
      "memory usage: 451.5+ KB\n"
     ]
    }
   ],
   "source": [
    "mod_listing_data.info()"
   ]
  },
  {
   "cell_type": "code",
   "execution_count": 81,
   "id": "08bee78c",
   "metadata": {},
   "outputs": [
    {
     "data": {
      "text/plain": [
       "0"
      ]
     },
     "execution_count": 81,
     "metadata": {},
     "output_type": "execute_result"
    }
   ],
   "source": [
    "#Fill the missing neighborhood data with 'Asheville, North Carolina, United States'\n",
    "mod_listing_data['neighbourhood'] = mod_listing_data['neighbourhood'].fillna('Asheville, North Carolina, United States')\n",
    "mod_listing_data['neighbourhood'].isna().sum()"
   ]
  },
  {
   "cell_type": "code",
   "execution_count": 82,
   "id": "393d65a2",
   "metadata": {},
   "outputs": [
    {
     "name": "stdout",
     "output_type": "stream",
     "text": [
      "<class 'pandas.core.frame.DataFrame'>\n",
      "RangeIndex: 2626 entries, 0 to 2625\n",
      "Data columns (total 22 columns):\n",
      " #   Column                  Non-Null Count  Dtype  \n",
      "---  ------                  --------------  -----  \n",
      " 0   id                      2626 non-null   int64  \n",
      " 1   listing_url             2626 non-null   object \n",
      " 2   name                    2626 non-null   object \n",
      " 3   picture_url             2626 non-null   object \n",
      " 4   host_id                 2626 non-null   int64  \n",
      " 5   host_url                2626 non-null   object \n",
      " 6   host_is_superhost       2626 non-null   object \n",
      " 7   host_identity_verified  2626 non-null   object \n",
      " 8   latitude                2626 non-null   float64\n",
      " 9   longitude               2626 non-null   float64\n",
      " 10  room_type               2626 non-null   object \n",
      " 11  accommodates            2626 non-null   int64  \n",
      " 12  bathrooms_text          2625 non-null   object \n",
      " 13  bedrooms                2463 non-null   float64\n",
      " 14  beds                    2558 non-null   float64\n",
      " 15  amenities               2626 non-null   object \n",
      " 16  minimum_nights          2626 non-null   int64  \n",
      " 17  maximum_nights          2626 non-null   int64  \n",
      " 18  number_of_reviews       2626 non-null   int64  \n",
      " 19  review_scores_rating    2487 non-null   float64\n",
      " 20  instant_bookable        2626 non-null   object \n",
      " 21  neighborhood            2626 non-null   object \n",
      "dtypes: float64(5), int64(6), object(11)\n",
      "memory usage: 451.5+ KB\n"
     ]
    }
   ],
   "source": [
    "mod_listing_data['neighbourhood'].value_counts()\n",
    "test_neighbor_df = mod_listing_data['neighbourhood'].str.split(\",\", expand=True)\n",
    "test_neighbor_df = test_neighbor_df.rename(columns = {0 : 'neighborhood'})\n",
    "test_neighbor_df = test_neighbor_df.drop(labels = [1, 2, 3, 4], axis = 1)\n",
    "mod_listing_data = mod_listing_data.join(test_neighbor_df, how = 'outer')\n",
    "mod_listing_data = mod_listing_data.drop(labels = ['neighbourhood'], axis = 1)\n",
    "mod_listing_data.info()"
   ]
  },
  {
   "cell_type": "code",
   "execution_count": 83,
   "id": "f2d7a72c",
   "metadata": {},
   "outputs": [],
   "source": [
    "#Remove rows with no bedrooms data\n",
    "mod_listing_data = mod_listing_data.dropna(subset = ['bedrooms', \n",
    "                                                     'beds', \n",
    "                                                     'review_scores_rating', \n",
    "                                                     'bathrooms_text'], axis = 0)"
   ]
  },
  {
   "cell_type": "code",
   "execution_count": 84,
   "id": "4a187cc2",
   "metadata": {},
   "outputs": [
    {
     "data": {
      "text/plain": [
       "id                        0\n",
       "listing_url               0\n",
       "name                      0\n",
       "picture_url               0\n",
       "host_id                   0\n",
       "host_url                  0\n",
       "host_is_superhost         0\n",
       "host_identity_verified    0\n",
       "latitude                  0\n",
       "longitude                 0\n",
       "room_type                 0\n",
       "accommodates              0\n",
       "bathrooms_text            0\n",
       "bedrooms                  0\n",
       "beds                      0\n",
       "amenities                 0\n",
       "minimum_nights            0\n",
       "maximum_nights            0\n",
       "number_of_reviews         0\n",
       "review_scores_rating      0\n",
       "instant_bookable          0\n",
       "neighborhood              0\n",
       "dtype: int64"
      ]
     },
     "execution_count": 84,
     "metadata": {},
     "output_type": "execute_result"
    }
   ],
   "source": [
    "mod_listing_data.isna().sum()"
   ]
  },
  {
   "cell_type": "code",
   "execution_count": 85,
   "id": "92e77c5f",
   "metadata": {},
   "outputs": [
    {
     "data": {
      "text/plain": [
       "1    1709\n",
       "0     567\n",
       "Name: host_is_superhost, dtype: int64"
      ]
     },
     "execution_count": 85,
     "metadata": {},
     "output_type": "execute_result"
    }
   ],
   "source": [
    "#Replace the false and true values with 0 and 1\n",
    "mod_listing_data['host_is_superhost'] = mod_listing_data['host_is_superhost'].replace(['f', 't'],[0, 1])\n",
    "mod_listing_data['host_is_superhost'].value_counts()"
   ]
  },
  {
   "cell_type": "code",
   "execution_count": 86,
   "id": "c423e8a4",
   "metadata": {},
   "outputs": [
    {
     "data": {
      "text/plain": [
       "1    1805\n",
       "0     471\n",
       "Name: host_identity_verified, dtype: int64"
      ]
     },
     "execution_count": 86,
     "metadata": {},
     "output_type": "execute_result"
    }
   ],
   "source": [
    "#Replace the false and true values with 0 and 1\n",
    "mod_listing_data['host_identity_verified'] = mod_listing_data['host_identity_verified'].replace(['f', 't'],[0, 1])\n",
    "mod_listing_data['host_identity_verified'].value_counts()"
   ]
  },
  {
   "cell_type": "code",
   "execution_count": 87,
   "id": "21906186",
   "metadata": {},
   "outputs": [
    {
     "data": {
      "text/plain": [
       "1    1325\n",
       "0     951\n",
       "Name: instant_bookable, dtype: int64"
      ]
     },
     "execution_count": 87,
     "metadata": {},
     "output_type": "execute_result"
    }
   ],
   "source": [
    "#Replace the false and true values with 0 and 1\n",
    "mod_listing_data['instant_bookable'] = mod_listing_data['instant_bookable'].replace(['f', 't'],[0, 1])\n",
    "mod_listing_data['instant_bookable'].value_counts()"
   ]
  },
  {
   "cell_type": "code",
   "execution_count": 88,
   "id": "21264710",
   "metadata": {},
   "outputs": [
    {
     "data": {
      "text/plain": [
       "1 bath              1125\n",
       "2 baths              481\n",
       "1 private bath       201\n",
       "3 baths              102\n",
       "2.5 baths            101\n",
       "1.5 baths             92\n",
       "1 shared bath         68\n",
       "3.5 baths             32\n",
       "4 baths               27\n",
       "1.5 shared baths       9\n",
       "4.5 baths              8\n",
       "2 shared baths         7\n",
       "5 baths                7\n",
       "2.5 shared baths       6\n",
       "6 baths                4\n",
       "5.5 baths              3\n",
       "0 baths                1\n",
       "7 baths                1\n",
       "8 baths                1\n",
       "Name: bathrooms_text, dtype: int64"
      ]
     },
     "execution_count": 88,
     "metadata": {},
     "output_type": "execute_result"
    }
   ],
   "source": [
    "mod_listing_data['bathrooms_text'].value_counts()"
   ]
  },
  {
   "cell_type": "code",
   "execution_count": 89,
   "id": "a439290a",
   "metadata": {},
   "outputs": [
    {
     "data": {
      "text/plain": [
       "1    1325\n",
       "0     951\n",
       "Name: instant_bookable, dtype: int64"
      ]
     },
     "execution_count": 89,
     "metadata": {},
     "output_type": "execute_result"
    }
   ],
   "source": [
    "mod_listing_data['instant_bookable'].value_counts()"
   ]
  },
  {
   "cell_type": "code",
   "execution_count": 90,
   "id": "4becc830",
   "metadata": {},
   "outputs": [
    {
     "data": {
      "text/plain": [
       "1.0     781\n",
       "2.0     686\n",
       "3.0     376\n",
       "4.0     196\n",
       "5.0     100\n",
       "6.0      69\n",
       "7.0      27\n",
       "8.0      14\n",
       "9.0       9\n",
       "11.0      7\n",
       "12.0      4\n",
       "10.0      3\n",
       "21.0      2\n",
       "13.0      1\n",
       "15.0      1\n",
       "Name: beds, dtype: int64"
      ]
     },
     "execution_count": 90,
     "metadata": {},
     "output_type": "execute_result"
    }
   ],
   "source": [
    "mod_listing_data['beds'].value_counts()"
   ]
  },
  {
   "cell_type": "code",
   "execution_count": 91,
   "id": "b07aa547",
   "metadata": {},
   "outputs": [
    {
     "name": "stdout",
     "output_type": "stream",
     "text": [
      "<class 'pandas.core.frame.DataFrame'>\n",
      "Int64Index: 2276 entries, 0 to 2618\n",
      "Data columns (total 22 columns):\n",
      " #   Column                  Non-Null Count  Dtype  \n",
      "---  ------                  --------------  -----  \n",
      " 0   id                      2276 non-null   int64  \n",
      " 1   listing_url             2276 non-null   object \n",
      " 2   name                    2276 non-null   object \n",
      " 3   picture_url             2276 non-null   object \n",
      " 4   host_id                 2276 non-null   int64  \n",
      " 5   host_url                2276 non-null   object \n",
      " 6   host_is_superhost       2276 non-null   int64  \n",
      " 7   host_identity_verified  2276 non-null   int64  \n",
      " 8   latitude                2276 non-null   float64\n",
      " 9   longitude               2276 non-null   float64\n",
      " 10  room_type               2276 non-null   object \n",
      " 11  accommodates            2276 non-null   int64  \n",
      " 12  bathrooms_text          2276 non-null   object \n",
      " 13  bedrooms                2276 non-null   float64\n",
      " 14  beds                    2276 non-null   float64\n",
      " 15  amenities               2276 non-null   object \n",
      " 16  minimum_nights          2276 non-null   int64  \n",
      " 17  maximum_nights          2276 non-null   int64  \n",
      " 18  number_of_reviews       2276 non-null   int64  \n",
      " 19  review_scores_rating    2276 non-null   float64\n",
      " 20  instant_bookable        2276 non-null   int64  \n",
      " 21  neighborhood            2276 non-null   object \n",
      "dtypes: float64(5), int64(9), object(8)\n",
      "memory usage: 409.0+ KB\n"
     ]
    }
   ],
   "source": [
    "mod_listing_data.info()"
   ]
  },
  {
   "cell_type": "code",
   "execution_count": 92,
   "id": "1853b07b",
   "metadata": {},
   "outputs": [
    {
     "data": {
      "text/plain": [
       "0"
      ]
     },
     "execution_count": 92,
     "metadata": {},
     "output_type": "execute_result"
    }
   ],
   "source": [
    "mod_listing_data['bathrooms_text'].isna().sum()"
   ]
  },
  {
   "cell_type": "code",
   "execution_count": 93,
   "id": "bf1d9771",
   "metadata": {},
   "outputs": [
    {
     "data": {
      "text/plain": [
       "1 bath              1125\n",
       "2 baths              481\n",
       "1 private bath       201\n",
       "3 baths              102\n",
       "2.5 baths            101\n",
       "1.5 baths             92\n",
       "1 shared bath         68\n",
       "3.5 baths             32\n",
       "4 baths               27\n",
       "1.5 shared baths       9\n",
       "4.5 baths              8\n",
       "2 shared baths         7\n",
       "5 baths                7\n",
       "2.5 shared baths       6\n",
       "6 baths                4\n",
       "5.5 baths              3\n",
       "0 baths                1\n",
       "7 baths                1\n",
       "8 baths                1\n",
       "Name: bathrooms_text, dtype: int64"
      ]
     },
     "execution_count": 93,
     "metadata": {},
     "output_type": "execute_result"
    }
   ],
   "source": [
    "mod_listing_data['bathrooms_text'].value_counts()"
   ]
  },
  {
   "cell_type": "code",
   "execution_count": 94,
   "id": "f2de62dc",
   "metadata": {},
   "outputs": [],
   "source": [
    "mod_listing_data['bathrooms_text'] = mod_listing_data['bathrooms_text'].replace(['Shared half-bath', 'Half-bath', \n",
    "                                                                                'Private half-bath'],\n",
    "                                                                                 [0.5, 0.5, 0.5])"
   ]
  },
  {
   "cell_type": "code",
   "execution_count": 95,
   "id": "cdf0ad6c",
   "metadata": {},
   "outputs": [
    {
     "data": {
      "text/plain": [
       "0"
      ]
     },
     "execution_count": 95,
     "metadata": {},
     "output_type": "execute_result"
    }
   ],
   "source": [
    "mod_listing_data['bathrooms_text'].isna().sum()"
   ]
  },
  {
   "cell_type": "code",
   "execution_count": 96,
   "id": "54000195",
   "metadata": {},
   "outputs": [
    {
     "data": {
      "text/plain": [
       "1 bath              1125\n",
       "2 baths              481\n",
       "1 private bath       201\n",
       "3 baths              102\n",
       "2.5 baths            101\n",
       "1.5 baths             92\n",
       "1 shared bath         68\n",
       "3.5 baths             32\n",
       "4 baths               27\n",
       "1.5 shared baths       9\n",
       "4.5 baths              8\n",
       "2 shared baths         7\n",
       "5 baths                7\n",
       "2.5 shared baths       6\n",
       "6 baths                4\n",
       "5.5 baths              3\n",
       "0 baths                1\n",
       "7 baths                1\n",
       "8 baths                1\n",
       "Name: bathrooms_text, dtype: int64"
      ]
     },
     "execution_count": 96,
     "metadata": {},
     "output_type": "execute_result"
    }
   ],
   "source": [
    "mod_listing_data['bathrooms_text'].value_counts()"
   ]
  },
  {
   "cell_type": "code",
   "execution_count": 97,
   "id": "5bfb2902",
   "metadata": {},
   "outputs": [
    {
     "name": "stdout",
     "output_type": "stream",
     "text": [
      "<class 'pandas.core.frame.DataFrame'>\n",
      "Int64Index: 2276 entries, 0 to 2618\n",
      "Data columns (total 22 columns):\n",
      " #   Column                  Non-Null Count  Dtype  \n",
      "---  ------                  --------------  -----  \n",
      " 0   id                      2276 non-null   int64  \n",
      " 1   listing_url             2276 non-null   object \n",
      " 2   name                    2276 non-null   object \n",
      " 3   picture_url             2276 non-null   object \n",
      " 4   host_id                 2276 non-null   int64  \n",
      " 5   host_url                2276 non-null   object \n",
      " 6   host_is_superhost       2276 non-null   int64  \n",
      " 7   host_identity_verified  2276 non-null   int64  \n",
      " 8   latitude                2276 non-null   float64\n",
      " 9   longitude               2276 non-null   float64\n",
      " 10  room_type               2276 non-null   object \n",
      " 11  accommodates            2276 non-null   int64  \n",
      " 12  bedrooms                2276 non-null   float64\n",
      " 13  beds                    2276 non-null   float64\n",
      " 14  amenities               2276 non-null   object \n",
      " 15  minimum_nights          2276 non-null   int64  \n",
      " 16  maximum_nights          2276 non-null   int64  \n",
      " 17  number_of_reviews       2276 non-null   int64  \n",
      " 18  review_scores_rating    2276 non-null   float64\n",
      " 19  instant_bookable        2276 non-null   int64  \n",
      " 20  neighborhood            2276 non-null   object \n",
      " 21  bathrooms               2276 non-null   object \n",
      "dtypes: float64(5), int64(9), object(8)\n",
      "memory usage: 473.5+ KB\n"
     ]
    }
   ],
   "source": [
    "# mod_listing_data['bathrooms_text'] = mod_listing_data['bathrooms_text'].str.split(\" \", n = 1, expand = True)\n",
    "\n",
    "test_df = mod_listing_data['bathrooms_text'].str.split(\" \", expand=True)\n",
    "test_df = test_df.rename(columns = {0 : 'bathrooms'})\n",
    "test_df = test_df.drop(labels = [1, 2], axis = 1)\n",
    "mod_listing_data = mod_listing_data.join(test_df, how = 'outer')\n",
    "mod_listing_data = mod_listing_data.drop(labels = ['bathrooms_text'], axis = 1)\n",
    "mod_listing_data['bathrooms'] = mod_listing_data['bathrooms'].fillna(0.5)\n",
    "mod_listing_data.info()"
   ]
  },
  {
   "cell_type": "code",
   "execution_count": 98,
   "id": "f6d40665",
   "metadata": {},
   "outputs": [],
   "source": [
    "target_amenities = ['Air conditioning', 'Wifi', 'TV', 'Kitchen', 'Washer', 'Dryer', 'Heating']"
   ]
  },
  {
   "cell_type": "code",
   "execution_count": 99,
   "id": "ad2ce98d",
   "metadata": {},
   "outputs": [],
   "source": [
    "def add_amenity_column(amenity_name):\n",
    "    mod_listing_data[amenity_name] = mod_listing_data['amenities'].str.contains(amenity_name, regex=False)\n",
    "    mod_listing_data[amenity_name] = mod_listing_data[amenity_name].replace([False, True],[0, 1])"
   ]
  },
  {
   "cell_type": "code",
   "execution_count": 100,
   "id": "51058c60",
   "metadata": {},
   "outputs": [],
   "source": [
    "add_amenity_column(target_amenities[0])\n",
    "add_amenity_column(target_amenities[1])\n",
    "add_amenity_column(target_amenities[2])\n",
    "add_amenity_column(target_amenities[3])\n",
    "add_amenity_column(target_amenities[4])\n",
    "add_amenity_column(target_amenities[5])\n",
    "add_amenity_column(target_amenities[6])"
   ]
  },
  {
   "cell_type": "code",
   "execution_count": 101,
   "id": "a36fc79b",
   "metadata": {},
   "outputs": [],
   "source": [
    "mod_listing_data = mod_listing_data.drop(['amenities'], axis = 1)"
   ]
  },
  {
   "cell_type": "code",
   "execution_count": 102,
   "id": "3ccb8735",
   "metadata": {},
   "outputs": [
    {
     "name": "stdout",
     "output_type": "stream",
     "text": [
      "<class 'pandas.core.frame.DataFrame'>\n",
      "Int64Index: 2276 entries, 0 to 2618\n",
      "Data columns (total 28 columns):\n",
      " #   Column                  Non-Null Count  Dtype  \n",
      "---  ------                  --------------  -----  \n",
      " 0   listing_id              2276 non-null   int64  \n",
      " 1   listing_url             2276 non-null   object \n",
      " 2   name                    2276 non-null   object \n",
      " 3   picture_url             2276 non-null   object \n",
      " 4   host_id                 2276 non-null   int64  \n",
      " 5   host_url                2276 non-null   object \n",
      " 6   host_is_superhost       2276 non-null   int64  \n",
      " 7   host_identity_verified  2276 non-null   int64  \n",
      " 8   latitude                2276 non-null   float64\n",
      " 9   longitude               2276 non-null   float64\n",
      " 10  room_type               2276 non-null   object \n",
      " 11  accommodates            2276 non-null   int64  \n",
      " 12  bedrooms                2276 non-null   float64\n",
      " 13  beds                    2276 non-null   float64\n",
      " 14  minimum_nights          2276 non-null   int64  \n",
      " 15  maximum_nights          2276 non-null   int64  \n",
      " 16  number_of_reviews       2276 non-null   int64  \n",
      " 17  review_scores_rating    2276 non-null   float64\n",
      " 18  instant_bookable        2276 non-null   int64  \n",
      " 19  neighborhood            2276 non-null   object \n",
      " 20  bathrooms               2276 non-null   object \n",
      " 21  Air conditioning        2276 non-null   int64  \n",
      " 22  Wifi                    2276 non-null   int64  \n",
      " 23  TV                      2276 non-null   int64  \n",
      " 24  Kitchen                 2276 non-null   int64  \n",
      " 25  Washer                  2276 non-null   int64  \n",
      " 26  Dryer                   2276 non-null   int64  \n",
      " 27  Heating                 2276 non-null   int64  \n",
      "dtypes: float64(5), int64(16), object(7)\n",
      "memory usage: 580.2+ KB\n"
     ]
    }
   ],
   "source": [
    "mod_listing_data['listing_id'] = mod_listing_data['id']\n",
    "mod_listing_data = mod_listing_data.drop(['id'], axis = 1)\n",
    "column_to_move = mod_listing_data.pop('listing_id')\n",
    "mod_listing_data.insert(0, 'listing_id', column_to_move)\n",
    "mod_listing_data.info()"
   ]
  },
  {
   "cell_type": "markdown",
   "id": "fa6b1deb",
   "metadata": {},
   "source": [
    "## Combine Calendar Data and Listings Data"
   ]
  },
  {
   "cell_type": "code",
   "execution_count": 103,
   "id": "9c0c96eb",
   "metadata": {},
   "outputs": [
    {
     "data": {
      "text/html": [
       "<div>\n",
       "<style scoped>\n",
       "    .dataframe tbody tr th:only-of-type {\n",
       "        vertical-align: middle;\n",
       "    }\n",
       "\n",
       "    .dataframe tbody tr th {\n",
       "        vertical-align: top;\n",
       "    }\n",
       "\n",
       "    .dataframe thead th {\n",
       "        text-align: right;\n",
       "    }\n",
       "</style>\n",
       "<table border=\"1\" class=\"dataframe\">\n",
       "  <thead>\n",
       "    <tr style=\"text-align: right;\">\n",
       "      <th></th>\n",
       "      <th>listing_id</th>\n",
       "      <th>daily_price</th>\n",
       "      <th>date</th>\n",
       "    </tr>\n",
       "  </thead>\n",
       "  <tbody>\n",
       "    <tr>\n",
       "      <th>0</th>\n",
       "      <td>881707</td>\n",
       "      <td>93</td>\n",
       "      <td>2021-12-15</td>\n",
       "    </tr>\n",
       "    <tr>\n",
       "      <th>1</th>\n",
       "      <td>910737</td>\n",
       "      <td>156</td>\n",
       "      <td>2021-12-15</td>\n",
       "    </tr>\n",
       "    <tr>\n",
       "      <th>2</th>\n",
       "      <td>910737</td>\n",
       "      <td>156</td>\n",
       "      <td>2021-12-16</td>\n",
       "    </tr>\n",
       "    <tr>\n",
       "      <th>3</th>\n",
       "      <td>910737</td>\n",
       "      <td>135</td>\n",
       "      <td>2021-12-17</td>\n",
       "    </tr>\n",
       "    <tr>\n",
       "      <th>4</th>\n",
       "      <td>910737</td>\n",
       "      <td>135</td>\n",
       "      <td>2021-12-18</td>\n",
       "    </tr>\n",
       "    <tr>\n",
       "      <th>...</th>\n",
       "      <td>...</td>\n",
       "      <td>...</td>\n",
       "      <td>...</td>\n",
       "    </tr>\n",
       "    <tr>\n",
       "      <th>958485</th>\n",
       "      <td>51875440</td>\n",
       "      <td>807</td>\n",
       "      <td>2022-12-10</td>\n",
       "    </tr>\n",
       "    <tr>\n",
       "      <th>958486</th>\n",
       "      <td>51875440</td>\n",
       "      <td>718</td>\n",
       "      <td>2022-12-11</td>\n",
       "    </tr>\n",
       "    <tr>\n",
       "      <th>958487</th>\n",
       "      <td>51875440</td>\n",
       "      <td>706</td>\n",
       "      <td>2022-12-12</td>\n",
       "    </tr>\n",
       "    <tr>\n",
       "      <th>958488</th>\n",
       "      <td>51875440</td>\n",
       "      <td>696</td>\n",
       "      <td>2022-12-13</td>\n",
       "    </tr>\n",
       "    <tr>\n",
       "      <th>958489</th>\n",
       "      <td>51875440</td>\n",
       "      <td>687</td>\n",
       "      <td>2022-12-14</td>\n",
       "    </tr>\n",
       "  </tbody>\n",
       "</table>\n",
       "<p>958125 rows × 3 columns</p>\n",
       "</div>"
      ],
      "text/plain": [
       "        listing_id  daily_price       date\n",
       "0           881707           93 2021-12-15\n",
       "1           910737          156 2021-12-15\n",
       "2           910737          156 2021-12-16\n",
       "3           910737          135 2021-12-17\n",
       "4           910737          135 2021-12-18\n",
       "...            ...          ...        ...\n",
       "958485    51875440          807 2022-12-10\n",
       "958486    51875440          718 2022-12-11\n",
       "958487    51875440          706 2022-12-12\n",
       "958488    51875440          696 2022-12-13\n",
       "958489    51875440          687 2022-12-14\n",
       "\n",
       "[958125 rows x 3 columns]"
      ]
     },
     "execution_count": 103,
     "metadata": {},
     "output_type": "execute_result"
    }
   ],
   "source": [
    "mod_calendar_data"
   ]
  },
  {
   "cell_type": "code",
   "execution_count": 104,
   "id": "a2dfb81a",
   "metadata": {},
   "outputs": [
    {
     "data": {
      "text/plain": [
       "0           881707\n",
       "1           910737\n",
       "2           910737\n",
       "3           910737\n",
       "4           910737\n",
       "            ...   \n",
       "958485    51875440\n",
       "958486    51875440\n",
       "958487    51875440\n",
       "958488    51875440\n",
       "958489    51875440\n",
       "Name: listing_id, Length: 958125, dtype: int64"
      ]
     },
     "execution_count": 104,
     "metadata": {},
     "output_type": "execute_result"
    }
   ],
   "source": [
    "mod_calendar_data['listing_id']"
   ]
  },
  {
   "cell_type": "code",
   "execution_count": 105,
   "id": "6e1a5b79",
   "metadata": {},
   "outputs": [
    {
     "name": "stdout",
     "output_type": "stream",
     "text": [
      "Index(['listing_id', 'listing_url', 'name', 'picture_url', 'host_id',\n",
      "       'host_url', 'host_is_superhost', 'host_identity_verified', 'latitude',\n",
      "       'longitude', 'room_type', 'accommodates', 'bedrooms', 'beds',\n",
      "       'minimum_nights', 'maximum_nights', 'number_of_reviews',\n",
      "       'review_scores_rating', 'instant_bookable', 'neighborhood', 'bathrooms',\n",
      "       'Air conditioning', 'Wifi', 'TV', 'Kitchen', 'Washer', 'Dryer',\n",
      "       'Heating'],\n",
      "      dtype='object')\n"
     ]
    },
    {
     "data": {
      "text/plain": [
       "Index(['listing_id', 'daily_price', 'date'], dtype='object')"
      ]
     },
     "execution_count": 105,
     "metadata": {},
     "output_type": "execute_result"
    }
   ],
   "source": [
    "print(mod_listing_data.columns)\n",
    "mod_calendar_data.columns"
   ]
  },
  {
   "cell_type": "code",
   "execution_count": 106,
   "id": "17df358e",
   "metadata": {},
   "outputs": [
    {
     "name": "stdout",
     "output_type": "stream",
     "text": [
      "<class 'pandas.core.frame.DataFrame'>\n",
      "Int64Index: 958125 entries, 0 to 958489\n",
      "Data columns (total 3 columns):\n",
      " #   Column       Non-Null Count   Dtype         \n",
      "---  ------       --------------   -----         \n",
      " 0   listing_id   958125 non-null  int64         \n",
      " 1   daily_price  958125 non-null  int64         \n",
      " 2   date         958125 non-null  datetime64[ns]\n",
      "dtypes: datetime64[ns](1), int64(2)\n",
      "memory usage: 61.5 MB\n"
     ]
    }
   ],
   "source": [
    "mod_calendar_data.info()"
   ]
  },
  {
   "cell_type": "code",
   "execution_count": 107,
   "id": "fa191412",
   "metadata": {
    "scrolled": true
   },
   "outputs": [
    {
     "name": "stdout",
     "output_type": "stream",
     "text": [
      "<class 'pandas.core.frame.DataFrame'>\n",
      "Int64Index: 2276 entries, 0 to 2618\n",
      "Data columns (total 28 columns):\n",
      " #   Column                  Non-Null Count  Dtype  \n",
      "---  ------                  --------------  -----  \n",
      " 0   listing_id              2276 non-null   int64  \n",
      " 1   listing_url             2276 non-null   object \n",
      " 2   name                    2276 non-null   object \n",
      " 3   picture_url             2276 non-null   object \n",
      " 4   host_id                 2276 non-null   int64  \n",
      " 5   host_url                2276 non-null   object \n",
      " 6   host_is_superhost       2276 non-null   int64  \n",
      " 7   host_identity_verified  2276 non-null   int64  \n",
      " 8   latitude                2276 non-null   float64\n",
      " 9   longitude               2276 non-null   float64\n",
      " 10  room_type               2276 non-null   object \n",
      " 11  accommodates            2276 non-null   int64  \n",
      " 12  bedrooms                2276 non-null   float64\n",
      " 13  beds                    2276 non-null   float64\n",
      " 14  minimum_nights          2276 non-null   int64  \n",
      " 15  maximum_nights          2276 non-null   int64  \n",
      " 16  number_of_reviews       2276 non-null   int64  \n",
      " 17  review_scores_rating    2276 non-null   float64\n",
      " 18  instant_bookable        2276 non-null   int64  \n",
      " 19  neighborhood            2276 non-null   object \n",
      " 20  bathrooms               2276 non-null   object \n",
      " 21  Air conditioning        2276 non-null   int64  \n",
      " 22  Wifi                    2276 non-null   int64  \n",
      " 23  TV                      2276 non-null   int64  \n",
      " 24  Kitchen                 2276 non-null   int64  \n",
      " 25  Washer                  2276 non-null   int64  \n",
      " 26  Dryer                   2276 non-null   int64  \n",
      " 27  Heating                 2276 non-null   int64  \n",
      "dtypes: float64(5), int64(16), object(7)\n",
      "memory usage: 580.2+ KB\n"
     ]
    }
   ],
   "source": [
    "mod_listing_data.info()"
   ]
  },
  {
   "cell_type": "code",
   "execution_count": 108,
   "id": "996796fb",
   "metadata": {},
   "outputs": [
    {
     "name": "stdout",
     "output_type": "stream",
     "text": [
      "<class 'pandas.core.frame.DataFrame'>\n",
      "Int64Index: 830376 entries, 0 to 830375\n",
      "Data columns (total 30 columns):\n",
      " #   Column                  Non-Null Count   Dtype         \n",
      "---  ------                  --------------   -----         \n",
      " 0   listing_id              830376 non-null  int64         \n",
      " 1   listing_url             830376 non-null  object        \n",
      " 2   name                    830376 non-null  object        \n",
      " 3   picture_url             830376 non-null  object        \n",
      " 4   host_id                 830376 non-null  int64         \n",
      " 5   host_url                830376 non-null  object        \n",
      " 6   host_is_superhost       830376 non-null  int64         \n",
      " 7   host_identity_verified  830376 non-null  int64         \n",
      " 8   latitude                830376 non-null  float64       \n",
      " 9   longitude               830376 non-null  float64       \n",
      " 10  room_type               830376 non-null  object        \n",
      " 11  accommodates            830376 non-null  int64         \n",
      " 12  bedrooms                830376 non-null  float64       \n",
      " 13  beds                    830376 non-null  float64       \n",
      " 14  minimum_nights          830376 non-null  int64         \n",
      " 15  maximum_nights          830376 non-null  int64         \n",
      " 16  number_of_reviews       830376 non-null  int64         \n",
      " 17  review_scores_rating    830376 non-null  float64       \n",
      " 18  instant_bookable        830376 non-null  int64         \n",
      " 19  neighborhood            830376 non-null  object        \n",
      " 20  bathrooms               830376 non-null  object        \n",
      " 21  Air conditioning        830376 non-null  int64         \n",
      " 22  Wifi                    830376 non-null  int64         \n",
      " 23  TV                      830376 non-null  int64         \n",
      " 24  Kitchen                 830376 non-null  int64         \n",
      " 25  Washer                  830376 non-null  int64         \n",
      " 26  Dryer                   830376 non-null  int64         \n",
      " 27  Heating                 830376 non-null  int64         \n",
      " 28  daily_price             830375 non-null  float64       \n",
      " 29  date                    830375 non-null  datetime64[ns]\n",
      "dtypes: datetime64[ns](1), float64(6), int64(16), object(7)\n",
      "memory usage: 196.4+ MB\n"
     ]
    }
   ],
   "source": [
    "asheville_data = pd.merge(mod_listing_data, mod_calendar_data, how = 'left', on = 'listing_id')\n",
    "asheville_data.info()"
   ]
  },
  {
   "cell_type": "code",
   "execution_count": 114,
   "id": "442cff2a",
   "metadata": {},
   "outputs": [],
   "source": [
    "asheville_data = asheville_data.dropna()"
   ]
  },
  {
   "cell_type": "code",
   "execution_count": 116,
   "id": "232e0a1a",
   "metadata": {},
   "outputs": [
    {
     "name": "stdout",
     "output_type": "stream",
     "text": [
      "<class 'pandas.core.frame.DataFrame'>\n",
      "Int64Index: 830375 entries, 0 to 830375\n",
      "Data columns (total 30 columns):\n",
      " #   Column                  Non-Null Count   Dtype         \n",
      "---  ------                  --------------   -----         \n",
      " 0   listing_id              830375 non-null  int64         \n",
      " 1   listing_url             830375 non-null  object        \n",
      " 2   name                    830375 non-null  object        \n",
      " 3   picture_url             830375 non-null  object        \n",
      " 4   host_id                 830375 non-null  int64         \n",
      " 5   host_url                830375 non-null  object        \n",
      " 6   host_is_superhost       830375 non-null  int64         \n",
      " 7   host_identity_verified  830375 non-null  int64         \n",
      " 8   latitude                830375 non-null  float64       \n",
      " 9   longitude               830375 non-null  float64       \n",
      " 10  room_type               830375 non-null  object        \n",
      " 11  accommodates            830375 non-null  int64         \n",
      " 12  bedrooms                830375 non-null  float64       \n",
      " 13  beds                    830375 non-null  float64       \n",
      " 14  minimum_nights          830375 non-null  int64         \n",
      " 15  maximum_nights          830375 non-null  int64         \n",
      " 16  number_of_reviews       830375 non-null  int64         \n",
      " 17  review_scores_rating    830375 non-null  float64       \n",
      " 18  instant_bookable        830375 non-null  int64         \n",
      " 19  neighborhood            830375 non-null  object        \n",
      " 20  bathrooms               830375 non-null  object        \n",
      " 21  Air conditioning        830375 non-null  int64         \n",
      " 22  Wifi                    830375 non-null  int64         \n",
      " 23  TV                      830375 non-null  int64         \n",
      " 24  Kitchen                 830375 non-null  int64         \n",
      " 25  Washer                  830375 non-null  int64         \n",
      " 26  Dryer                   830375 non-null  int64         \n",
      " 27  Heating                 830375 non-null  int64         \n",
      " 28  daily_price             830375 non-null  float64       \n",
      " 29  date                    830375 non-null  datetime64[ns]\n",
      "dtypes: datetime64[ns](1), float64(6), int64(16), object(7)\n",
      "memory usage: 196.4+ MB\n"
     ]
    }
   ],
   "source": [
    "asheville_data.info()"
   ]
  },
  {
   "cell_type": "code",
   "execution_count": null,
   "id": "8c4729e5",
   "metadata": {},
   "outputs": [],
   "source": []
  }
 ],
 "metadata": {
  "kernelspec": {
   "display_name": "tensorflow_env",
   "language": "python",
   "name": "tensorflow_env"
  },
  "language_info": {
   "codemirror_mode": {
    "name": "ipython",
    "version": 3
   },
   "file_extension": ".py",
   "mimetype": "text/x-python",
   "name": "python",
   "nbconvert_exporter": "python",
   "pygments_lexer": "ipython3",
   "version": "3.8.15"
  }
 },
 "nbformat": 4,
 "nbformat_minor": 5
}
