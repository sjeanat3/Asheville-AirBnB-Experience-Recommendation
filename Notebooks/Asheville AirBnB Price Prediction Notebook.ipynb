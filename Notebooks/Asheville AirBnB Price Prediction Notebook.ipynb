{
 "cells": [
  {
   "cell_type": "markdown",
   "id": "283821fc",
   "metadata": {},
   "source": [
    "# Import Necessary Libraries"
   ]
  },
  {
   "cell_type": "code",
   "execution_count": 297,
   "id": "6085ced8",
   "metadata": {},
   "outputs": [],
   "source": [
    "import pandas as pd\n",
    "import gzip\n",
    "import shutil\n",
    "import seaborn as sns\n",
    "import numpy as np\n",
    "\n",
    "from sklearn.linear_model import LogisticRegression\n",
    "from sklearn.model_selection import train_test_split\n",
    "from sklearn.tree import DecisionTreeClassifier\n",
    "from sklearn.ensemble import BaggingClassifier, RandomForestRegressor\n",
    "from sklearn.preprocessing import StandardScaler, OneHotEncoder, OrdinalEncoder, MaxAbsScaler\n",
    "from sklearn.metrics import accuracy_score, confusion_matrix, classification_report, r2_score, mean_squared_error, \\\n",
    "mean_absolute_error, explained_variance_score\n",
    "\n",
    "from sklearn.pipeline import make_pipeline, Pipeline\n",
    "from sklearn.impute import SimpleImputer\n",
    "from sklearn.compose import ColumnTransformer\n",
    "\n",
    "\n",
    "from keras import models, layers \n",
    "from keras.callbacks import EarlyStopping\n",
    "from tensorflow.keras.regularizers import l2\n",
    "from tensorflow.keras.models import Sequential, Model, load_model\n",
    "from tensorflow.keras.optimizers import  Adam\n",
    "\n",
    "from matplotlib import pyplot as plt\n",
    "import matplotlib.image as mpimg\n",
    "%matplotlib inline"
   ]
  },
  {
   "cell_type": "markdown",
   "id": "815b336a",
   "metadata": {},
   "source": [
    "# Exploratory Data Analysis (EDA)"
   ]
  },
  {
   "cell_type": "markdown",
   "id": "85a2c796",
   "metadata": {},
   "source": [
    "## Calendar Data - 2022"
   ]
  },
  {
   "cell_type": "code",
   "execution_count": 298,
   "id": "13b917a2",
   "metadata": {},
   "outputs": [
    {
     "data": {
      "text/html": [
       "<div>\n",
       "<style scoped>\n",
       "    .dataframe tbody tr th:only-of-type {\n",
       "        vertical-align: middle;\n",
       "    }\n",
       "\n",
       "    .dataframe tbody tr th {\n",
       "        vertical-align: top;\n",
       "    }\n",
       "\n",
       "    .dataframe thead th {\n",
       "        text-align: right;\n",
       "    }\n",
       "</style>\n",
       "<table border=\"1\" class=\"dataframe\">\n",
       "  <thead>\n",
       "    <tr style=\"text-align: right;\">\n",
       "      <th></th>\n",
       "      <th>listing_id</th>\n",
       "      <th>date</th>\n",
       "      <th>available</th>\n",
       "      <th>price</th>\n",
       "      <th>adjusted_price</th>\n",
       "      <th>minimum_nights</th>\n",
       "      <th>maximum_nights</th>\n",
       "    </tr>\n",
       "  </thead>\n",
       "  <tbody>\n",
       "    <tr>\n",
       "      <th>0</th>\n",
       "      <td>881707</td>\n",
       "      <td>2021-12-15</td>\n",
       "      <td>f</td>\n",
       "      <td>$93.00</td>\n",
       "      <td>$93.00</td>\n",
       "      <td>1</td>\n",
       "      <td>1125</td>\n",
       "    </tr>\n",
       "    <tr>\n",
       "      <th>1</th>\n",
       "      <td>910737</td>\n",
       "      <td>2021-12-15</td>\n",
       "      <td>t</td>\n",
       "      <td>$156.00</td>\n",
       "      <td>$156.00</td>\n",
       "      <td>2</td>\n",
       "      <td>1125</td>\n",
       "    </tr>\n",
       "    <tr>\n",
       "      <th>2</th>\n",
       "      <td>910737</td>\n",
       "      <td>2021-12-16</td>\n",
       "      <td>t</td>\n",
       "      <td>$156.00</td>\n",
       "      <td>$156.00</td>\n",
       "      <td>2</td>\n",
       "      <td>1125</td>\n",
       "    </tr>\n",
       "    <tr>\n",
       "      <th>3</th>\n",
       "      <td>910737</td>\n",
       "      <td>2021-12-17</td>\n",
       "      <td>f</td>\n",
       "      <td>$135.00</td>\n",
       "      <td>$135.00</td>\n",
       "      <td>2</td>\n",
       "      <td>1125</td>\n",
       "    </tr>\n",
       "    <tr>\n",
       "      <th>4</th>\n",
       "      <td>910737</td>\n",
       "      <td>2021-12-18</td>\n",
       "      <td>f</td>\n",
       "      <td>$135.00</td>\n",
       "      <td>$135.00</td>\n",
       "      <td>2</td>\n",
       "      <td>1125</td>\n",
       "    </tr>\n",
       "    <tr>\n",
       "      <th>...</th>\n",
       "      <td>...</td>\n",
       "      <td>...</td>\n",
       "      <td>...</td>\n",
       "      <td>...</td>\n",
       "      <td>...</td>\n",
       "      <td>...</td>\n",
       "      <td>...</td>\n",
       "    </tr>\n",
       "    <tr>\n",
       "      <th>958485</th>\n",
       "      <td>51875440</td>\n",
       "      <td>2022-12-10</td>\n",
       "      <td>t</td>\n",
       "      <td>$807.00</td>\n",
       "      <td>$807.00</td>\n",
       "      <td>5</td>\n",
       "      <td>365</td>\n",
       "    </tr>\n",
       "    <tr>\n",
       "      <th>958486</th>\n",
       "      <td>51875440</td>\n",
       "      <td>2022-12-11</td>\n",
       "      <td>t</td>\n",
       "      <td>$718.00</td>\n",
       "      <td>$718.00</td>\n",
       "      <td>5</td>\n",
       "      <td>365</td>\n",
       "    </tr>\n",
       "    <tr>\n",
       "      <th>958487</th>\n",
       "      <td>51875440</td>\n",
       "      <td>2022-12-12</td>\n",
       "      <td>t</td>\n",
       "      <td>$706.00</td>\n",
       "      <td>$706.00</td>\n",
       "      <td>5</td>\n",
       "      <td>365</td>\n",
       "    </tr>\n",
       "    <tr>\n",
       "      <th>958488</th>\n",
       "      <td>51875440</td>\n",
       "      <td>2022-12-13</td>\n",
       "      <td>t</td>\n",
       "      <td>$696.00</td>\n",
       "      <td>$696.00</td>\n",
       "      <td>5</td>\n",
       "      <td>365</td>\n",
       "    </tr>\n",
       "    <tr>\n",
       "      <th>958489</th>\n",
       "      <td>51875440</td>\n",
       "      <td>2022-12-14</td>\n",
       "      <td>t</td>\n",
       "      <td>$687.00</td>\n",
       "      <td>$687.00</td>\n",
       "      <td>5</td>\n",
       "      <td>365</td>\n",
       "    </tr>\n",
       "  </tbody>\n",
       "</table>\n",
       "<p>958490 rows × 7 columns</p>\n",
       "</div>"
      ],
      "text/plain": [
       "        listing_id        date available    price adjusted_price  \\\n",
       "0           881707  2021-12-15         f   $93.00         $93.00   \n",
       "1           910737  2021-12-15         t  $156.00        $156.00   \n",
       "2           910737  2021-12-16         t  $156.00        $156.00   \n",
       "3           910737  2021-12-17         f  $135.00        $135.00   \n",
       "4           910737  2021-12-18         f  $135.00        $135.00   \n",
       "...            ...         ...       ...      ...            ...   \n",
       "958485    51875440  2022-12-10         t  $807.00        $807.00   \n",
       "958486    51875440  2022-12-11         t  $718.00        $718.00   \n",
       "958487    51875440  2022-12-12         t  $706.00        $706.00   \n",
       "958488    51875440  2022-12-13         t  $696.00        $696.00   \n",
       "958489    51875440  2022-12-14         t  $687.00        $687.00   \n",
       "\n",
       "        minimum_nights  maximum_nights  \n",
       "0                    1            1125  \n",
       "1                    2            1125  \n",
       "2                    2            1125  \n",
       "3                    2            1125  \n",
       "4                    2            1125  \n",
       "...                ...             ...  \n",
       "958485               5             365  \n",
       "958486               5             365  \n",
       "958487               5             365  \n",
       "958488               5             365  \n",
       "958489               5             365  \n",
       "\n",
       "[958490 rows x 7 columns]"
      ]
     },
     "execution_count": 298,
     "metadata": {},
     "output_type": "execute_result"
    }
   ],
   "source": [
    "#Load raw calendar data from file\n",
    "raw_calendar_data = pd.read_csv('../Data/AirBnB/Asheville/2021/asheville_calendar_2021.csv', compression='gzip')\n",
    "raw_calendar_data"
   ]
  },
  {
   "cell_type": "code",
   "execution_count": 299,
   "id": "9a653ba0",
   "metadata": {},
   "outputs": [
    {
     "name": "stdout",
     "output_type": "stream",
     "text": [
      "<class 'pandas.core.frame.DataFrame'>\n",
      "RangeIndex: 958490 entries, 0 to 958489\n",
      "Data columns (total 7 columns):\n",
      " #   Column          Non-Null Count   Dtype \n",
      "---  ------          --------------   ----- \n",
      " 0   listing_id      958490 non-null  int64 \n",
      " 1   date            958490 non-null  object\n",
      " 2   available       958490 non-null  object\n",
      " 3   price           958319 non-null  object\n",
      " 4   adjusted_price  958319 non-null  object\n",
      " 5   minimum_nights  958490 non-null  int64 \n",
      " 6   maximum_nights  958490 non-null  int64 \n",
      "dtypes: int64(3), object(4)\n",
      "memory usage: 51.2+ MB\n"
     ]
    }
   ],
   "source": [
    "#Check the info / types of data\n",
    "raw_calendar_data.info()"
   ]
  },
  {
   "cell_type": "code",
   "execution_count": 300,
   "id": "56b0bbb3",
   "metadata": {},
   "outputs": [
    {
     "name": "stdout",
     "output_type": "stream",
     "text": [
      "<class 'pandas.core.frame.DataFrame'>\n",
      "RangeIndex: 958490 entries, 0 to 958489\n",
      "Data columns (total 7 columns):\n",
      " #   Column          Non-Null Count   Dtype         \n",
      "---  ------          --------------   -----         \n",
      " 0   listing_id      958490 non-null  int64         \n",
      " 1   date            958490 non-null  datetime64[ns]\n",
      " 2   available       958490 non-null  object        \n",
      " 3   price           958319 non-null  object        \n",
      " 4   adjusted_price  958319 non-null  object        \n",
      " 5   minimum_nights  958490 non-null  int64         \n",
      " 6   maximum_nights  958490 non-null  int64         \n",
      "dtypes: datetime64[ns](1), int64(3), object(3)\n",
      "memory usage: 51.2+ MB\n"
     ]
    }
   ],
   "source": [
    "#Convert date column to date-times type\n",
    "mod_calendar_data = raw_calendar_data\n",
    "mod_calendar_data['date'] = pd.to_datetime(raw_calendar_data['date'])\n",
    "\n",
    "#Confirm the info / types of data\n",
    "mod_calendar_data.info()"
   ]
  },
  {
   "cell_type": "code",
   "execution_count": 301,
   "id": "65f961eb",
   "metadata": {},
   "outputs": [
    {
     "name": "stdout",
     "output_type": "stream",
     "text": [
      "Earliest date of data set 2021-12-15 00:00:00\n",
      "Latest date of data set 2022-12-17 00:00:00\n"
     ]
    }
   ],
   "source": [
    "print(f\"Earliest date of data set {raw_calendar_data['date'].min()}\")\n",
    "print(f\"Latest date of data set {raw_calendar_data['date'].max()}\")"
   ]
  },
  {
   "cell_type": "code",
   "execution_count": 302,
   "id": "3e19f17e",
   "metadata": {},
   "outputs": [
    {
     "data": {
      "text/plain": [
       "t    532541\n",
       "f    425949\n",
       "Name: available, dtype: int64"
      ]
     },
     "execution_count": 302,
     "metadata": {},
     "output_type": "execute_result"
    }
   ],
   "source": [
    "#Check Values of 'Available column'\n",
    "mod_calendar_data['available'].value_counts()"
   ]
  },
  {
   "cell_type": "code",
   "execution_count": 303,
   "id": "aa2f2d0a",
   "metadata": {},
   "outputs": [
    {
     "data": {
      "text/plain": [
       "1    532541\n",
       "0    425949\n",
       "Name: available, dtype: int64"
      ]
     },
     "execution_count": 303,
     "metadata": {},
     "output_type": "execute_result"
    }
   ],
   "source": [
    "#Replace the false and true values with 0 and 1\n",
    "mod_calendar_data['available'] = mod_calendar_data['available'].replace(['f', 't'],[0, 1])\n",
    "\n",
    "#Confirm available are now integers\n",
    "mod_calendar_data['available'].value_counts()"
   ]
  },
  {
   "cell_type": "code",
   "execution_count": 304,
   "id": "a440d5c4",
   "metadata": {},
   "outputs": [
    {
     "name": "stdout",
     "output_type": "stream",
     "text": [
      "<class 'pandas.core.frame.DataFrame'>\n",
      "RangeIndex: 958490 entries, 0 to 958489\n",
      "Data columns (total 7 columns):\n",
      " #   Column          Non-Null Count   Dtype         \n",
      "---  ------          --------------   -----         \n",
      " 0   listing_id      958490 non-null  int64         \n",
      " 1   date            958490 non-null  datetime64[ns]\n",
      " 2   available       958490 non-null  int64         \n",
      " 3   price           958319 non-null  object        \n",
      " 4   adjusted_price  958319 non-null  object        \n",
      " 5   minimum_nights  958490 non-null  int64         \n",
      " 6   maximum_nights  958490 non-null  int64         \n",
      "dtypes: datetime64[ns](1), int64(4), object(2)\n",
      "memory usage: 51.2+ MB\n"
     ]
    }
   ],
   "source": [
    "mod_calendar_data.info()"
   ]
  },
  {
   "cell_type": "code",
   "execution_count": 305,
   "id": "f566d697",
   "metadata": {},
   "outputs": [
    {
     "data": {
      "text/plain": [
       "$125.00      29854\n",
       "$150.00      24356\n",
       "$99.00       19492\n",
       "$95.00       19240\n",
       "$250.00      16814\n",
       "             ...  \n",
       "$1,391.00        1\n",
       "$1,304.00        1\n",
       "$1,711.00        1\n",
       "$2,445.00        1\n",
       "$1,322.00        1\n",
       "Name: price, Length: 2100, dtype: int64"
      ]
     },
     "execution_count": 305,
     "metadata": {},
     "output_type": "execute_result"
    }
   ],
   "source": [
    "mod_calendar_data['price'].value_counts()"
   ]
  },
  {
   "cell_type": "code",
   "execution_count": 306,
   "id": "cdc3c3ce",
   "metadata": {},
   "outputs": [
    {
     "data": {
      "text/plain": [
       "171"
      ]
     },
     "execution_count": 306,
     "metadata": {},
     "output_type": "execute_result"
    }
   ],
   "source": [
    "mod_calendar_data['price'].isna().sum()"
   ]
  },
  {
   "cell_type": "code",
   "execution_count": 307,
   "id": "96c4f7b2",
   "metadata": {},
   "outputs": [
    {
     "data": {
      "text/plain": [
       "$125.00      28413\n",
       "$150.00      24264\n",
       "$99.00       19561\n",
       "$95.00       19077\n",
       "$250.00      16475\n",
       "             ...  \n",
       "$1,565.00        1\n",
       "$1,166.00        1\n",
       "$1,728.00        1\n",
       "$1,688.00        1\n",
       "$1,322.00        1\n",
       "Name: adjusted_price, Length: 2097, dtype: int64"
      ]
     },
     "execution_count": 307,
     "metadata": {},
     "output_type": "execute_result"
    }
   ],
   "source": [
    "mod_calendar_data['adjusted_price'].value_counts()"
   ]
  },
  {
   "cell_type": "code",
   "execution_count": 308,
   "id": "1d970964",
   "metadata": {},
   "outputs": [
    {
     "data": {
      "text/plain": [
       "47732580    171\n",
       "Name: listing_id, dtype: int64"
      ]
     },
     "execution_count": 308,
     "metadata": {},
     "output_type": "execute_result"
    }
   ],
   "source": [
    "nan_cols = mod_calendar_data[mod_calendar_data['price'].isna()]\n",
    "nan_cols['listing_id'].value_counts()"
   ]
  },
  {
   "cell_type": "code",
   "execution_count": 309,
   "id": "2041d664",
   "metadata": {},
   "outputs": [
    {
     "data": {
      "text/plain": [
       "0"
      ]
     },
     "execution_count": 309,
     "metadata": {},
     "output_type": "execute_result"
    }
   ],
   "source": [
    "bnb_to_drop = mod_calendar_data[(mod_calendar_data['listing_id'] == 47732580)].index\n",
    "mod_calendar_data = mod_calendar_data.drop(bnb_to_drop)\n",
    "mod_calendar_data['price'].isna().sum()"
   ]
  },
  {
   "cell_type": "code",
   "execution_count": 310,
   "id": "9271fc97",
   "metadata": {},
   "outputs": [
    {
     "data": {
      "text/plain": [
       "0          $93.00\n",
       "1         $156.00\n",
       "2         $156.00\n",
       "3         $135.00\n",
       "4         $135.00\n",
       "           ...   \n",
       "958485    $807.00\n",
       "958486    $718.00\n",
       "958487    $706.00\n",
       "958488    $696.00\n",
       "958489    $687.00\n",
       "Name: price, Length: 958125, dtype: object"
      ]
     },
     "execution_count": 310,
     "metadata": {},
     "output_type": "execute_result"
    }
   ],
   "source": [
    "mod_calendar_data['price']"
   ]
  },
  {
   "cell_type": "code",
   "execution_count": 311,
   "id": "dbe80b22",
   "metadata": {},
   "outputs": [
    {
     "name": "stderr",
     "output_type": "stream",
     "text": [
      "/var/folders/vj/wwng1wrx4433kjdgg3pdcmbc0000gn/T/ipykernel_6698/3964135494.py:5: FutureWarning: The default value of regex will change from True to False in a future version. In addition, single character regular expressions will *not* be treated as literal strings when regex=True.\n",
      "  mod_calendar_data['daily_price'] = mod_calendar_data['daily_price'].str.replace('$', '')\n"
     ]
    },
    {
     "data": {
      "text/html": [
       "<div>\n",
       "<style scoped>\n",
       "    .dataframe tbody tr th:only-of-type {\n",
       "        vertical-align: middle;\n",
       "    }\n",
       "\n",
       "    .dataframe tbody tr th {\n",
       "        vertical-align: top;\n",
       "    }\n",
       "\n",
       "    .dataframe thead th {\n",
       "        text-align: right;\n",
       "    }\n",
       "</style>\n",
       "<table border=\"1\" class=\"dataframe\">\n",
       "  <thead>\n",
       "    <tr style=\"text-align: right;\">\n",
       "      <th></th>\n",
       "      <th>listing_id</th>\n",
       "      <th>daily_price</th>\n",
       "      <th>date</th>\n",
       "      <th>available</th>\n",
       "      <th>minimum_nights</th>\n",
       "      <th>maximum_nights</th>\n",
       "    </tr>\n",
       "  </thead>\n",
       "  <tbody>\n",
       "    <tr>\n",
       "      <th>0</th>\n",
       "      <td>881707</td>\n",
       "      <td>93</td>\n",
       "      <td>2021-12-15</td>\n",
       "      <td>0</td>\n",
       "      <td>1</td>\n",
       "      <td>1125</td>\n",
       "    </tr>\n",
       "    <tr>\n",
       "      <th>1</th>\n",
       "      <td>910737</td>\n",
       "      <td>156</td>\n",
       "      <td>2021-12-15</td>\n",
       "      <td>1</td>\n",
       "      <td>2</td>\n",
       "      <td>1125</td>\n",
       "    </tr>\n",
       "    <tr>\n",
       "      <th>2</th>\n",
       "      <td>910737</td>\n",
       "      <td>156</td>\n",
       "      <td>2021-12-16</td>\n",
       "      <td>1</td>\n",
       "      <td>2</td>\n",
       "      <td>1125</td>\n",
       "    </tr>\n",
       "    <tr>\n",
       "      <th>3</th>\n",
       "      <td>910737</td>\n",
       "      <td>135</td>\n",
       "      <td>2021-12-17</td>\n",
       "      <td>0</td>\n",
       "      <td>2</td>\n",
       "      <td>1125</td>\n",
       "    </tr>\n",
       "    <tr>\n",
       "      <th>4</th>\n",
       "      <td>910737</td>\n",
       "      <td>135</td>\n",
       "      <td>2021-12-18</td>\n",
       "      <td>0</td>\n",
       "      <td>2</td>\n",
       "      <td>1125</td>\n",
       "    </tr>\n",
       "    <tr>\n",
       "      <th>...</th>\n",
       "      <td>...</td>\n",
       "      <td>...</td>\n",
       "      <td>...</td>\n",
       "      <td>...</td>\n",
       "      <td>...</td>\n",
       "      <td>...</td>\n",
       "    </tr>\n",
       "    <tr>\n",
       "      <th>958485</th>\n",
       "      <td>51875440</td>\n",
       "      <td>807</td>\n",
       "      <td>2022-12-10</td>\n",
       "      <td>1</td>\n",
       "      <td>5</td>\n",
       "      <td>365</td>\n",
       "    </tr>\n",
       "    <tr>\n",
       "      <th>958486</th>\n",
       "      <td>51875440</td>\n",
       "      <td>718</td>\n",
       "      <td>2022-12-11</td>\n",
       "      <td>1</td>\n",
       "      <td>5</td>\n",
       "      <td>365</td>\n",
       "    </tr>\n",
       "    <tr>\n",
       "      <th>958487</th>\n",
       "      <td>51875440</td>\n",
       "      <td>706</td>\n",
       "      <td>2022-12-12</td>\n",
       "      <td>1</td>\n",
       "      <td>5</td>\n",
       "      <td>365</td>\n",
       "    </tr>\n",
       "    <tr>\n",
       "      <th>958488</th>\n",
       "      <td>51875440</td>\n",
       "      <td>696</td>\n",
       "      <td>2022-12-13</td>\n",
       "      <td>1</td>\n",
       "      <td>5</td>\n",
       "      <td>365</td>\n",
       "    </tr>\n",
       "    <tr>\n",
       "      <th>958489</th>\n",
       "      <td>51875440</td>\n",
       "      <td>687</td>\n",
       "      <td>2022-12-14</td>\n",
       "      <td>1</td>\n",
       "      <td>5</td>\n",
       "      <td>365</td>\n",
       "    </tr>\n",
       "  </tbody>\n",
       "</table>\n",
       "<p>958125 rows × 6 columns</p>\n",
       "</div>"
      ],
      "text/plain": [
       "        listing_id  daily_price       date  available  minimum_nights  \\\n",
       "0           881707           93 2021-12-15          0               1   \n",
       "1           910737          156 2021-12-15          1               2   \n",
       "2           910737          156 2021-12-16          1               2   \n",
       "3           910737          135 2021-12-17          0               2   \n",
       "4           910737          135 2021-12-18          0               2   \n",
       "...            ...          ...        ...        ...             ...   \n",
       "958485    51875440          807 2022-12-10          1               5   \n",
       "958486    51875440          718 2022-12-11          1               5   \n",
       "958487    51875440          706 2022-12-12          1               5   \n",
       "958488    51875440          696 2022-12-13          1               5   \n",
       "958489    51875440          687 2022-12-14          1               5   \n",
       "\n",
       "        maximum_nights  \n",
       "0                 1125  \n",
       "1                 1125  \n",
       "2                 1125  \n",
       "3                 1125  \n",
       "4                 1125  \n",
       "...                ...  \n",
       "958485             365  \n",
       "958486             365  \n",
       "958487             365  \n",
       "958488             365  \n",
       "958489             365  \n",
       "\n",
       "[958125 rows x 6 columns]"
      ]
     },
     "execution_count": 311,
     "metadata": {},
     "output_type": "execute_result"
    }
   ],
   "source": [
    "test_price_df = mod_calendar_data['price'].str.split(\".\", expand=True)\n",
    "test_price_df = test_price_df.rename(columns = {0 : 'daily_price'})\n",
    "test_price_df = test_price_df.drop(labels = [1], axis = 1)\n",
    "mod_calendar_data = test_price_df.join(mod_calendar_data, how = 'left')\n",
    "mod_calendar_data['daily_price'] = mod_calendar_data['daily_price'].str.replace('$', '')\n",
    "mod_calendar_data['daily_price'] = mod_calendar_data['daily_price'].str.replace(',', '')\n",
    "mod_calendar_data['daily_price'] = mod_calendar_data['daily_price'].astype({'daily_price':'int'})\n",
    "mod_calendar_data = mod_calendar_data.drop(labels = ['adjusted_price', 'price'], axis = 1)\n",
    "\n",
    "id_to_move = mod_calendar_data.pop('listing_id')\n",
    "mod_calendar_data.insert(0, 'listing_id', id_to_move)\n",
    "mod_calendar_data"
   ]
  },
  {
   "cell_type": "code",
   "execution_count": 312,
   "id": "06c90962",
   "metadata": {},
   "outputs": [
    {
     "name": "stdout",
     "output_type": "stream",
     "text": [
      "<class 'pandas.core.frame.DataFrame'>\n",
      "Int64Index: 958125 entries, 0 to 958489\n",
      "Data columns (total 6 columns):\n",
      " #   Column          Non-Null Count   Dtype         \n",
      "---  ------          --------------   -----         \n",
      " 0   listing_id      958125 non-null  int64         \n",
      " 1   daily_price     958125 non-null  int64         \n",
      " 2   date            958125 non-null  datetime64[ns]\n",
      " 3   available       958125 non-null  int64         \n",
      " 4   minimum_nights  958125 non-null  int64         \n",
      " 5   maximum_nights  958125 non-null  int64         \n",
      "dtypes: datetime64[ns](1), int64(5)\n",
      "memory usage: 83.4 MB\n"
     ]
    }
   ],
   "source": [
    "mod_calendar_data.info()"
   ]
  },
  {
   "cell_type": "code",
   "execution_count": 313,
   "id": "df273c6a",
   "metadata": {},
   "outputs": [],
   "source": [
    "#For purposes of this project/the stakeholder, we will drop the adjusted avail, price, min nights, max nights\n",
    "mod_calendar_data = mod_calendar_data.drop(['available', 'minimum_nights', 'maximum_nights'],\n",
    "                                          axis = 1)"
   ]
  },
  {
   "cell_type": "code",
   "execution_count": 314,
   "id": "e907b37d",
   "metadata": {},
   "outputs": [
    {
     "name": "stdout",
     "output_type": "stream",
     "text": [
      "<class 'pandas.core.frame.DataFrame'>\n",
      "Int64Index: 958125 entries, 0 to 958489\n",
      "Data columns (total 3 columns):\n",
      " #   Column       Non-Null Count   Dtype         \n",
      "---  ------       --------------   -----         \n",
      " 0   listing_id   958125 non-null  int64         \n",
      " 1   daily_price  958125 non-null  int64         \n",
      " 2   date         958125 non-null  datetime64[ns]\n",
      "dtypes: datetime64[ns](1), int64(2)\n",
      "memory usage: 61.5 MB\n"
     ]
    }
   ],
   "source": [
    "#Check all columns are integer types\n",
    "mod_calendar_data.info()"
   ]
  },
  {
   "cell_type": "code",
   "execution_count": 315,
   "id": "cc1793d3",
   "metadata": {},
   "outputs": [],
   "source": [
    "# mod_calendar_data_id_avail = mod_calendar_data.groupby(['listing_id']).sum()\n",
    "# mod_calendar_data_id_avail = mod_calendar_data_id_avail.reset_index()\n",
    "# mod_calendar_data_id_avail = mod_calendar_data_id_avail.drop(['price'], axis = 1)\n",
    "# mod_calendar_data_id_avail['perc_year_avail'] = mod_calendar_data_id_avail['available'] / 365\n",
    "# mod_calendar_data_id_avail = mod_calendar_data_id_avail.drop(['available'], axis = 1)\n",
    "# mod_calendar_data_id_avail"
   ]
  },
  {
   "cell_type": "code",
   "execution_count": 316,
   "id": "96afcc98",
   "metadata": {},
   "outputs": [],
   "source": [
    "# mod_calendar_data_id_avail.info()"
   ]
  },
  {
   "cell_type": "markdown",
   "id": "174f4041",
   "metadata": {},
   "source": [
    "## Listings Data - 2022"
   ]
  },
  {
   "cell_type": "code",
   "execution_count": 317,
   "id": "50c4198b",
   "metadata": {},
   "outputs": [
    {
     "data": {
      "text/html": [
       "<div>\n",
       "<style scoped>\n",
       "    .dataframe tbody tr th:only-of-type {\n",
       "        vertical-align: middle;\n",
       "    }\n",
       "\n",
       "    .dataframe tbody tr th {\n",
       "        vertical-align: top;\n",
       "    }\n",
       "\n",
       "    .dataframe thead th {\n",
       "        text-align: right;\n",
       "    }\n",
       "</style>\n",
       "<table border=\"1\" class=\"dataframe\">\n",
       "  <thead>\n",
       "    <tr style=\"text-align: right;\">\n",
       "      <th></th>\n",
       "      <th>id</th>\n",
       "      <th>listing_url</th>\n",
       "      <th>scrape_id</th>\n",
       "      <th>last_scraped</th>\n",
       "      <th>name</th>\n",
       "      <th>description</th>\n",
       "      <th>neighborhood_overview</th>\n",
       "      <th>picture_url</th>\n",
       "      <th>host_id</th>\n",
       "      <th>host_url</th>\n",
       "      <th>...</th>\n",
       "      <th>review_scores_communication</th>\n",
       "      <th>review_scores_location</th>\n",
       "      <th>review_scores_value</th>\n",
       "      <th>license</th>\n",
       "      <th>instant_bookable</th>\n",
       "      <th>calculated_host_listings_count</th>\n",
       "      <th>calculated_host_listings_count_entire_homes</th>\n",
       "      <th>calculated_host_listings_count_private_rooms</th>\n",
       "      <th>calculated_host_listings_count_shared_rooms</th>\n",
       "      <th>reviews_per_month</th>\n",
       "    </tr>\n",
       "  </thead>\n",
       "  <tbody>\n",
       "    <tr>\n",
       "      <th>0</th>\n",
       "      <td>108061</td>\n",
       "      <td>https://www.airbnb.com/rooms/108061</td>\n",
       "      <td>20211215062309</td>\n",
       "      <td>2021-12-15</td>\n",
       "      <td>Walk to stores/parks/downtown. Fenced yard/Pet...</td>\n",
       "      <td>Walk to town in ten minutes! Monthly rental in...</td>\n",
       "      <td>I love my neighborhood! Its friendly, easy-goi...</td>\n",
       "      <td>https://a0.muscache.com/pictures/41011975/0cdf...</td>\n",
       "      <td>320564</td>\n",
       "      <td>https://www.airbnb.com/users/show/320564</td>\n",
       "      <td>...</td>\n",
       "      <td>4.79</td>\n",
       "      <td>4.84</td>\n",
       "      <td>4.48</td>\n",
       "      <td>NaN</td>\n",
       "      <td>f</td>\n",
       "      <td>2</td>\n",
       "      <td>2</td>\n",
       "      <td>0</td>\n",
       "      <td>0</td>\n",
       "      <td>0.71</td>\n",
       "    </tr>\n",
       "    <tr>\n",
       "      <th>1</th>\n",
       "      <td>155305</td>\n",
       "      <td>https://www.airbnb.com/rooms/155305</td>\n",
       "      <td>20211215062309</td>\n",
       "      <td>2021-12-15</td>\n",
       "      <td>Cottage! BonPaul + Sharky's Hostel</td>\n",
       "      <td>&lt;b&gt;The space&lt;/b&gt;&lt;br /&gt;Private cottage located ...</td>\n",
       "      <td>We are within easy walk of pubs, breweries, mu...</td>\n",
       "      <td>https://a0.muscache.com/pictures/8880711/cf38d...</td>\n",
       "      <td>746673</td>\n",
       "      <td>https://www.airbnb.com/users/show/746673</td>\n",
       "      <td>...</td>\n",
       "      <td>4.76</td>\n",
       "      <td>4.93</td>\n",
       "      <td>4.53</td>\n",
       "      <td>NaN</td>\n",
       "      <td>t</td>\n",
       "      <td>7</td>\n",
       "      <td>1</td>\n",
       "      <td>2</td>\n",
       "      <td>4</td>\n",
       "      <td>2.75</td>\n",
       "    </tr>\n",
       "    <tr>\n",
       "      <th>2</th>\n",
       "      <td>156805</td>\n",
       "      <td>https://www.airbnb.com/rooms/156805</td>\n",
       "      <td>20211215062309</td>\n",
       "      <td>2021-12-15</td>\n",
       "      <td>Private Room \"Ader\" at BPS Hostel</td>\n",
       "      <td>&lt;b&gt;The space&lt;/b&gt;&lt;br /&gt;Private Rooms at Bon Pau...</td>\n",
       "      <td>Easy walk to pubs, cafes, bakery, breweries, l...</td>\n",
       "      <td>https://a0.muscache.com/pictures/23447d55-fa7e...</td>\n",
       "      <td>746673</td>\n",
       "      <td>https://www.airbnb.com/users/show/746673</td>\n",
       "      <td>...</td>\n",
       "      <td>4.61</td>\n",
       "      <td>4.84</td>\n",
       "      <td>4.46</td>\n",
       "      <td>NaN</td>\n",
       "      <td>t</td>\n",
       "      <td>7</td>\n",
       "      <td>1</td>\n",
       "      <td>2</td>\n",
       "      <td>4</td>\n",
       "      <td>0.54</td>\n",
       "    </tr>\n",
       "    <tr>\n",
       "      <th>3</th>\n",
       "      <td>156926</td>\n",
       "      <td>https://www.airbnb.com/rooms/156926</td>\n",
       "      <td>20211215062309</td>\n",
       "      <td>2021-12-15</td>\n",
       "      <td>Mixed Dorm \"Top Bunk #1\" at BPS Hostel</td>\n",
       "      <td>This is a top bunk in the mixed dorm room&lt;br /...</td>\n",
       "      <td>NaN</td>\n",
       "      <td>https://a0.muscache.com/pictures/98f4e655-c4d6...</td>\n",
       "      <td>746673</td>\n",
       "      <td>https://www.airbnb.com/users/show/746673</td>\n",
       "      <td>...</td>\n",
       "      <td>4.80</td>\n",
       "      <td>4.78</td>\n",
       "      <td>4.78</td>\n",
       "      <td>NaN</td>\n",
       "      <td>t</td>\n",
       "      <td>7</td>\n",
       "      <td>1</td>\n",
       "      <td>2</td>\n",
       "      <td>4</td>\n",
       "      <td>2.36</td>\n",
       "    </tr>\n",
       "    <tr>\n",
       "      <th>4</th>\n",
       "      <td>160594</td>\n",
       "      <td>https://www.airbnb.com/rooms/160594</td>\n",
       "      <td>20211215062309</td>\n",
       "      <td>2021-12-15</td>\n",
       "      <td>Historic Grove Park</td>\n",
       "      <td>Come enjoy the beautiful Grove Park neighborho...</td>\n",
       "      <td>NaN</td>\n",
       "      <td>https://a0.muscache.com/pictures/92433837/d340...</td>\n",
       "      <td>769252</td>\n",
       "      <td>https://www.airbnb.com/users/show/769252</td>\n",
       "      <td>...</td>\n",
       "      <td>4.88</td>\n",
       "      <td>4.90</td>\n",
       "      <td>4.85</td>\n",
       "      <td>NaN</td>\n",
       "      <td>f</td>\n",
       "      <td>1</td>\n",
       "      <td>0</td>\n",
       "      <td>1</td>\n",
       "      <td>0</td>\n",
       "      <td>0.46</td>\n",
       "    </tr>\n",
       "  </tbody>\n",
       "</table>\n",
       "<p>5 rows × 74 columns</p>\n",
       "</div>"
      ],
      "text/plain": [
       "       id                          listing_url       scrape_id last_scraped  \\\n",
       "0  108061  https://www.airbnb.com/rooms/108061  20211215062309   2021-12-15   \n",
       "1  155305  https://www.airbnb.com/rooms/155305  20211215062309   2021-12-15   \n",
       "2  156805  https://www.airbnb.com/rooms/156805  20211215062309   2021-12-15   \n",
       "3  156926  https://www.airbnb.com/rooms/156926  20211215062309   2021-12-15   \n",
       "4  160594  https://www.airbnb.com/rooms/160594  20211215062309   2021-12-15   \n",
       "\n",
       "                                                name  \\\n",
       "0  Walk to stores/parks/downtown. Fenced yard/Pet...   \n",
       "1                 Cottage! BonPaul + Sharky's Hostel   \n",
       "2                  Private Room \"Ader\" at BPS Hostel   \n",
       "3             Mixed Dorm \"Top Bunk #1\" at BPS Hostel   \n",
       "4                                Historic Grove Park   \n",
       "\n",
       "                                         description  \\\n",
       "0  Walk to town in ten minutes! Monthly rental in...   \n",
       "1  <b>The space</b><br />Private cottage located ...   \n",
       "2  <b>The space</b><br />Private Rooms at Bon Pau...   \n",
       "3  This is a top bunk in the mixed dorm room<br /...   \n",
       "4  Come enjoy the beautiful Grove Park neighborho...   \n",
       "\n",
       "                               neighborhood_overview  \\\n",
       "0  I love my neighborhood! Its friendly, easy-goi...   \n",
       "1  We are within easy walk of pubs, breweries, mu...   \n",
       "2  Easy walk to pubs, cafes, bakery, breweries, l...   \n",
       "3                                                NaN   \n",
       "4                                                NaN   \n",
       "\n",
       "                                         picture_url  host_id  \\\n",
       "0  https://a0.muscache.com/pictures/41011975/0cdf...   320564   \n",
       "1  https://a0.muscache.com/pictures/8880711/cf38d...   746673   \n",
       "2  https://a0.muscache.com/pictures/23447d55-fa7e...   746673   \n",
       "3  https://a0.muscache.com/pictures/98f4e655-c4d6...   746673   \n",
       "4  https://a0.muscache.com/pictures/92433837/d340...   769252   \n",
       "\n",
       "                                   host_url  ... review_scores_communication  \\\n",
       "0  https://www.airbnb.com/users/show/320564  ...                        4.79   \n",
       "1  https://www.airbnb.com/users/show/746673  ...                        4.76   \n",
       "2  https://www.airbnb.com/users/show/746673  ...                        4.61   \n",
       "3  https://www.airbnb.com/users/show/746673  ...                        4.80   \n",
       "4  https://www.airbnb.com/users/show/769252  ...                        4.88   \n",
       "\n",
       "  review_scores_location review_scores_value license instant_bookable  \\\n",
       "0                   4.84                4.48     NaN                f   \n",
       "1                   4.93                4.53     NaN                t   \n",
       "2                   4.84                4.46     NaN                t   \n",
       "3                   4.78                4.78     NaN                t   \n",
       "4                   4.90                4.85     NaN                f   \n",
       "\n",
       "  calculated_host_listings_count calculated_host_listings_count_entire_homes  \\\n",
       "0                              2                                           2   \n",
       "1                              7                                           1   \n",
       "2                              7                                           1   \n",
       "3                              7                                           1   \n",
       "4                              1                                           0   \n",
       "\n",
       "  calculated_host_listings_count_private_rooms  \\\n",
       "0                                            0   \n",
       "1                                            2   \n",
       "2                                            2   \n",
       "3                                            2   \n",
       "4                                            1   \n",
       "\n",
       "  calculated_host_listings_count_shared_rooms reviews_per_month  \n",
       "0                                           0              0.71  \n",
       "1                                           4              2.75  \n",
       "2                                           4              0.54  \n",
       "3                                           4              2.36  \n",
       "4                                           0              0.46  \n",
       "\n",
       "[5 rows x 74 columns]"
      ]
     },
     "execution_count": 317,
     "metadata": {},
     "output_type": "execute_result"
    }
   ],
   "source": [
    "raw_listings_data = pd.read_csv('../Data/AirBnB/Asheville/2021/asheville_listings_2021.csv')\n",
    "raw_listings_data.head()"
   ]
  },
  {
   "cell_type": "code",
   "execution_count": 318,
   "id": "5a30e40d",
   "metadata": {},
   "outputs": [
    {
     "name": "stdout",
     "output_type": "stream",
     "text": [
      "<class 'pandas.core.frame.DataFrame'>\n",
      "RangeIndex: 2626 entries, 0 to 2625\n",
      "Data columns (total 74 columns):\n",
      " #   Column                                        Non-Null Count  Dtype  \n",
      "---  ------                                        --------------  -----  \n",
      " 0   id                                            2626 non-null   int64  \n",
      " 1   listing_url                                   2626 non-null   object \n",
      " 2   scrape_id                                     2626 non-null   int64  \n",
      " 3   last_scraped                                  2626 non-null   object \n",
      " 4   name                                          2626 non-null   object \n",
      " 5   description                                   2621 non-null   object \n",
      " 6   neighborhood_overview                         2040 non-null   object \n",
      " 7   picture_url                                   2626 non-null   object \n",
      " 8   host_id                                       2626 non-null   int64  \n",
      " 9   host_url                                      2626 non-null   object \n",
      " 10  host_name                                     2626 non-null   object \n",
      " 11  host_since                                    2626 non-null   object \n",
      " 12  host_location                                 2622 non-null   object \n",
      " 13  host_about                                    1744 non-null   object \n",
      " 14  host_response_time                            2165 non-null   object \n",
      " 15  host_response_rate                            2165 non-null   object \n",
      " 16  host_acceptance_rate                          2249 non-null   object \n",
      " 17  host_is_superhost                             2626 non-null   object \n",
      " 18  host_thumbnail_url                            2626 non-null   object \n",
      " 19  host_picture_url                              2626 non-null   object \n",
      " 20  host_neighbourhood                            658 non-null    object \n",
      " 21  host_listings_count                           2626 non-null   int64  \n",
      " 22  host_total_listings_count                     2626 non-null   int64  \n",
      " 23  host_verifications                            2626 non-null   object \n",
      " 24  host_has_profile_pic                          2626 non-null   object \n",
      " 25  host_identity_verified                        2626 non-null   object \n",
      " 26  neighbourhood                                 2041 non-null   object \n",
      " 27  neighbourhood_cleansed                        2626 non-null   int64  \n",
      " 28  neighbourhood_group_cleansed                  0 non-null      float64\n",
      " 29  latitude                                      2626 non-null   float64\n",
      " 30  longitude                                     2626 non-null   float64\n",
      " 31  property_type                                 2626 non-null   object \n",
      " 32  room_type                                     2626 non-null   object \n",
      " 33  accommodates                                  2626 non-null   int64  \n",
      " 34  bathrooms                                     0 non-null      float64\n",
      " 35  bathrooms_text                                2625 non-null   object \n",
      " 36  bedrooms                                      2463 non-null   float64\n",
      " 37  beds                                          2558 non-null   float64\n",
      " 38  amenities                                     2626 non-null   object \n",
      " 39  price                                         2626 non-null   object \n",
      " 40  minimum_nights                                2626 non-null   int64  \n",
      " 41  maximum_nights                                2626 non-null   int64  \n",
      " 42  minimum_minimum_nights                        2626 non-null   int64  \n",
      " 43  maximum_minimum_nights                        2626 non-null   int64  \n",
      " 44  minimum_maximum_nights                        2626 non-null   int64  \n",
      " 45  maximum_maximum_nights                        2626 non-null   int64  \n",
      " 46  minimum_nights_avg_ntm                        2626 non-null   float64\n",
      " 47  maximum_nights_avg_ntm                        2626 non-null   float64\n",
      " 48  calendar_updated                              0 non-null      float64\n",
      " 49  has_availability                              2626 non-null   object \n",
      " 50  availability_30                               2626 non-null   int64  \n",
      " 51  availability_60                               2626 non-null   int64  \n",
      " 52  availability_90                               2626 non-null   int64  \n",
      " 53  availability_365                              2626 non-null   int64  \n",
      " 54  calendar_last_scraped                         2626 non-null   object \n",
      " 55  number_of_reviews                             2626 non-null   int64  \n",
      " 56  number_of_reviews_ltm                         2626 non-null   int64  \n",
      " 57  number_of_reviews_l30d                        2626 non-null   int64  \n",
      " 58  first_review                                  2487 non-null   object \n",
      " 59  last_review                                   2487 non-null   object \n",
      " 60  review_scores_rating                          2487 non-null   float64\n",
      " 61  review_scores_accuracy                        2485 non-null   float64\n",
      " 62  review_scores_cleanliness                     2485 non-null   float64\n",
      " 63  review_scores_checkin                         2485 non-null   float64\n",
      " 64  review_scores_communication                   2485 non-null   float64\n",
      " 65  review_scores_location                        2485 non-null   float64\n",
      " 66  review_scores_value                           2485 non-null   float64\n",
      " 67  license                                       0 non-null      float64\n",
      " 68  instant_bookable                              2626 non-null   object \n",
      " 69  calculated_host_listings_count                2626 non-null   int64  \n",
      " 70  calculated_host_listings_count_entire_homes   2626 non-null   int64  \n",
      " 71  calculated_host_listings_count_private_rooms  2626 non-null   int64  \n",
      " 72  calculated_host_listings_count_shared_rooms   2626 non-null   int64  \n",
      " 73  reviews_per_month                             2487 non-null   float64\n",
      "dtypes: float64(18), int64(24), object(32)\n",
      "memory usage: 1.5+ MB\n"
     ]
    }
   ],
   "source": [
    "raw_listings_data.info()"
   ]
  },
  {
   "cell_type": "code",
   "execution_count": 319,
   "id": "ee25b5ef",
   "metadata": {},
   "outputs": [],
   "source": [
    "#Remove irrelevant review columns\n",
    "mod_listing_data = raw_listings_data.drop(labels = ['review_scores_accuracy', \n",
    "                                                    'review_scores_cleanliness', \n",
    "                                                    'review_scores_checkin', \n",
    "                                                    'review_scores_communication', \n",
    "                                                    'review_scores_location',\n",
    "                                                    'calendar_updated', \n",
    "                                                    'license'], axis = 1)"
   ]
  },
  {
   "cell_type": "code",
   "execution_count": 320,
   "id": "5872db1d",
   "metadata": {},
   "outputs": [],
   "source": [
    "#Remove irrelevant host columns\n",
    "mod_listing_data = mod_listing_data.drop(labels = ['host_name', \n",
    "                                                   'host_since', \n",
    "                                                   'host_location', \n",
    "                                                   'host_about', \n",
    "                                                   'host_response_time', \n",
    "                                                   'host_acceptance_rate',\n",
    "                                                   'host_thumbnail_url', \n",
    "                                                   'host_picture_url', \n",
    "                                                   'host_neighbourhood', \n",
    "                                                   'host_listings_count', \n",
    "                                                   'host_total_listings_count', \n",
    "                                                   'host_verifications', \n",
    "                                                   'host_has_profile_pic',\n",
    "                                                   'first_review',\n",
    "                                                   'last_review'], axis = 1)"
   ]
  },
  {
   "cell_type": "code",
   "execution_count": 321,
   "id": "4ce7fa85",
   "metadata": {},
   "outputs": [],
   "source": [
    "#Remove\n",
    "\n",
    "mod_listing_data = mod_listing_data.drop(labels = ['scrape_id',\n",
    "                                                  'last_scraped',\n",
    "                                                  'neighbourhood_cleansed',\n",
    "                                                  'neighbourhood_group_cleansed',\n",
    "                                                  'property_type',\n",
    "                                                  'bathrooms',\n",
    "                                                  'price',\n",
    "                                                   'minimum_minimum_nights',\n",
    "                                                   'maximum_minimum_nights',\n",
    "                                                   'minimum_maximum_nights',\n",
    "                                                   'maximum_maximum_nights',\n",
    "                                                   'minimum_nights_avg_ntm',\n",
    "                                                   'maximum_nights_avg_ntm',\n",
    "                                                   'has_availability',\n",
    "                                                   'availability_30',\n",
    "                                                   'availability_60',\n",
    "                                                   'availability_90',\n",
    "                                                   'availability_365',\n",
    "                                                   'calendar_last_scraped',\n",
    "                                                   'number_of_reviews_ltm',\n",
    "                                                   'number_of_reviews_l30d',\n",
    "                                                   'calculated_host_listings_count',\n",
    "                                                   'calculated_host_listings_count_entire_homes',\n",
    "                                                   'calculated_host_listings_count_private_rooms',\n",
    "                                                   'calculated_host_listings_count_shared_rooms',\n",
    "                                                  'neighborhood_overview',\n",
    "                                                  'reviews_per_month',\n",
    "                                                  'review_scores_value',\n",
    "                                                  'host_response_rate',\n",
    "                                                  'description'], axis = 1)"
   ]
  },
  {
   "cell_type": "code",
   "execution_count": 322,
   "id": "2348b0b9",
   "metadata": {},
   "outputs": [
    {
     "name": "stdout",
     "output_type": "stream",
     "text": [
      "<class 'pandas.core.frame.DataFrame'>\n",
      "RangeIndex: 2626 entries, 0 to 2625\n",
      "Data columns (total 22 columns):\n",
      " #   Column                  Non-Null Count  Dtype  \n",
      "---  ------                  --------------  -----  \n",
      " 0   id                      2626 non-null   int64  \n",
      " 1   listing_url             2626 non-null   object \n",
      " 2   name                    2626 non-null   object \n",
      " 3   picture_url             2626 non-null   object \n",
      " 4   host_id                 2626 non-null   int64  \n",
      " 5   host_url                2626 non-null   object \n",
      " 6   host_is_superhost       2626 non-null   object \n",
      " 7   host_identity_verified  2626 non-null   object \n",
      " 8   neighbourhood           2041 non-null   object \n",
      " 9   latitude                2626 non-null   float64\n",
      " 10  longitude               2626 non-null   float64\n",
      " 11  room_type               2626 non-null   object \n",
      " 12  accommodates            2626 non-null   int64  \n",
      " 13  bathrooms_text          2625 non-null   object \n",
      " 14  bedrooms                2463 non-null   float64\n",
      " 15  beds                    2558 non-null   float64\n",
      " 16  amenities               2626 non-null   object \n",
      " 17  minimum_nights          2626 non-null   int64  \n",
      " 18  maximum_nights          2626 non-null   int64  \n",
      " 19  number_of_reviews       2626 non-null   int64  \n",
      " 20  review_scores_rating    2487 non-null   float64\n",
      " 21  instant_bookable        2626 non-null   object \n",
      "dtypes: float64(5), int64(6), object(11)\n",
      "memory usage: 451.5+ KB\n"
     ]
    }
   ],
   "source": [
    "mod_listing_data.info()"
   ]
  },
  {
   "cell_type": "code",
   "execution_count": 323,
   "id": "dd03d835",
   "metadata": {},
   "outputs": [
    {
     "data": {
      "text/plain": [
       "0"
      ]
     },
     "execution_count": 323,
     "metadata": {},
     "output_type": "execute_result"
    }
   ],
   "source": [
    "#Fill the missing neighborhood data with 'Asheville, North Carolina, United States'\n",
    "mod_listing_data['neighbourhood'] = mod_listing_data['neighbourhood'].fillna('Asheville, North Carolina, United States')\n",
    "mod_listing_data['neighbourhood'].isna().sum()"
   ]
  },
  {
   "cell_type": "code",
   "execution_count": 324,
   "id": "e7002629",
   "metadata": {},
   "outputs": [
    {
     "name": "stdout",
     "output_type": "stream",
     "text": [
      "<class 'pandas.core.frame.DataFrame'>\n",
      "RangeIndex: 2626 entries, 0 to 2625\n",
      "Data columns (total 22 columns):\n",
      " #   Column                  Non-Null Count  Dtype  \n",
      "---  ------                  --------------  -----  \n",
      " 0   id                      2626 non-null   int64  \n",
      " 1   listing_url             2626 non-null   object \n",
      " 2   name                    2626 non-null   object \n",
      " 3   picture_url             2626 non-null   object \n",
      " 4   host_id                 2626 non-null   int64  \n",
      " 5   host_url                2626 non-null   object \n",
      " 6   host_is_superhost       2626 non-null   object \n",
      " 7   host_identity_verified  2626 non-null   object \n",
      " 8   latitude                2626 non-null   float64\n",
      " 9   longitude               2626 non-null   float64\n",
      " 10  room_type               2626 non-null   object \n",
      " 11  accommodates            2626 non-null   int64  \n",
      " 12  bathrooms_text          2625 non-null   object \n",
      " 13  bedrooms                2463 non-null   float64\n",
      " 14  beds                    2558 non-null   float64\n",
      " 15  amenities               2626 non-null   object \n",
      " 16  minimum_nights          2626 non-null   int64  \n",
      " 17  maximum_nights          2626 non-null   int64  \n",
      " 18  number_of_reviews       2626 non-null   int64  \n",
      " 19  review_scores_rating    2487 non-null   float64\n",
      " 20  instant_bookable        2626 non-null   object \n",
      " 21  neighborhood            2626 non-null   object \n",
      "dtypes: float64(5), int64(6), object(11)\n",
      "memory usage: 451.5+ KB\n"
     ]
    }
   ],
   "source": [
    "test_neighbor_df = mod_listing_data['neighbourhood'].str.split(\",\", expand=True)\n",
    "test_neighbor_df = test_neighbor_df.rename(columns = {0 : 'neighborhood'})\n",
    "test_neighbor_df = test_neighbor_df.drop(labels = [1, 2, 3, 4], axis = 1)\n",
    "mod_listing_data = mod_listing_data.join(test_neighbor_df, how = 'outer')\n",
    "mod_listing_data = mod_listing_data.drop(labels = ['neighbourhood'], axis = 1)\n",
    "mod_listing_data.info()"
   ]
  },
  {
   "cell_type": "code",
   "execution_count": 325,
   "id": "430b63ab",
   "metadata": {},
   "outputs": [],
   "source": [
    "mod_listing_data['neighborhood'] = mod_listing_data['neighborhood'].replace(['Ashville'],['Asheville'])\n",
    "\n",
    "neigh_to_drop = mod_listing_data[(mod_listing_data['neighborhood'] == 'Leicester') | \n",
    "                                 (mod_listing_data['neighborhood'] == 'Swannanoa') | \n",
    "                                 (mod_listing_data['neighborhood'] == 'Avery Creek') | \n",
    "                                 (mod_listing_data['neighborhood'] == 'Fairview') |\n",
    "                                 (mod_listing_data['neighborhood'] == 'Limestone') |\n",
    "                                 (mod_listing_data['neighborhood'] == 'Biltmore Forest')].index\n",
    "mod_listing_data = mod_listing_data.drop(neigh_to_drop)"
   ]
  },
  {
   "cell_type": "code",
   "execution_count": 326,
   "id": "1e1196ec",
   "metadata": {},
   "outputs": [],
   "source": [
    "mod_listing_data['neighborhood'] = mod_listing_data['neighborhood'].replace(['Asheville '], 'Asheville')"
   ]
  },
  {
   "cell_type": "code",
   "execution_count": 327,
   "id": "5ae26234",
   "metadata": {},
   "outputs": [
    {
     "data": {
      "text/plain": [
       "Asheville    2323\n",
       "Arden         131\n",
       "Woodfin        62\n",
       "Candler        54\n",
       "Fletcher       47\n",
       "Name: neighborhood, dtype: int64"
      ]
     },
     "execution_count": 327,
     "metadata": {},
     "output_type": "execute_result"
    }
   ],
   "source": [
    "mod_listing_data['neighborhood'].value_counts()"
   ]
  },
  {
   "cell_type": "code",
   "execution_count": 328,
   "id": "5e162c60",
   "metadata": {},
   "outputs": [],
   "source": [
    "#Remove rows with no bedrooms data\n",
    "mod_listing_data = mod_listing_data.dropna(subset = ['bedrooms', \n",
    "                                                     'beds', \n",
    "                                                     'review_scores_rating', \n",
    "                                                     'bathrooms_text'], axis = 0)"
   ]
  },
  {
   "cell_type": "code",
   "execution_count": 329,
   "id": "5c2e54eb",
   "metadata": {},
   "outputs": [
    {
     "data": {
      "text/plain": [
       "id                        0\n",
       "listing_url               0\n",
       "name                      0\n",
       "picture_url               0\n",
       "host_id                   0\n",
       "host_url                  0\n",
       "host_is_superhost         0\n",
       "host_identity_verified    0\n",
       "latitude                  0\n",
       "longitude                 0\n",
       "room_type                 0\n",
       "accommodates              0\n",
       "bathrooms_text            0\n",
       "bedrooms                  0\n",
       "beds                      0\n",
       "amenities                 0\n",
       "minimum_nights            0\n",
       "maximum_nights            0\n",
       "number_of_reviews         0\n",
       "review_scores_rating      0\n",
       "instant_bookable          0\n",
       "neighborhood              0\n",
       "dtype: int64"
      ]
     },
     "execution_count": 329,
     "metadata": {},
     "output_type": "execute_result"
    }
   ],
   "source": [
    "mod_listing_data.isna().sum()"
   ]
  },
  {
   "cell_type": "code",
   "execution_count": 330,
   "id": "48981345",
   "metadata": {},
   "outputs": [
    {
     "data": {
      "text/plain": [
       "1    1703\n",
       "0     566\n",
       "Name: host_is_superhost, dtype: int64"
      ]
     },
     "execution_count": 330,
     "metadata": {},
     "output_type": "execute_result"
    }
   ],
   "source": [
    "#Replace the false and true values with 0 and 1\n",
    "mod_listing_data['host_is_superhost'] = mod_listing_data['host_is_superhost'].replace(['f', 't'],[0, 1])\n",
    "mod_listing_data['host_is_superhost'].value_counts()"
   ]
  },
  {
   "cell_type": "code",
   "execution_count": 331,
   "id": "08a86c1c",
   "metadata": {},
   "outputs": [
    {
     "data": {
      "text/plain": [
       "1    1798\n",
       "0     471\n",
       "Name: host_identity_verified, dtype: int64"
      ]
     },
     "execution_count": 331,
     "metadata": {},
     "output_type": "execute_result"
    }
   ],
   "source": [
    "#Replace the false and true values with 0 and 1\n",
    "mod_listing_data['host_identity_verified'] = mod_listing_data['host_identity_verified'].replace(['f', 't'],[0, 1])\n",
    "mod_listing_data['host_identity_verified'].value_counts()"
   ]
  },
  {
   "cell_type": "code",
   "execution_count": 332,
   "id": "a129d551",
   "metadata": {},
   "outputs": [
    {
     "data": {
      "text/plain": [
       "1    1322\n",
       "0     947\n",
       "Name: instant_bookable, dtype: int64"
      ]
     },
     "execution_count": 332,
     "metadata": {},
     "output_type": "execute_result"
    }
   ],
   "source": [
    "#Replace the false and true values with 0 and 1\n",
    "mod_listing_data['instant_bookable'] = mod_listing_data['instant_bookable'].replace(['f', 't'],[0, 1])\n",
    "mod_listing_data['instant_bookable'].value_counts()"
   ]
  },
  {
   "cell_type": "code",
   "execution_count": 333,
   "id": "68275516",
   "metadata": {},
   "outputs": [
    {
     "data": {
      "text/plain": [
       "Asheville    2008\n",
       "Arden         117\n",
       "Woodfin        54\n",
       "Candler        47\n",
       "Fletcher       43\n",
       "Name: neighborhood, dtype: int64"
      ]
     },
     "execution_count": 333,
     "metadata": {},
     "output_type": "execute_result"
    }
   ],
   "source": [
    "mod_listing_data['neighborhood'].value_counts()"
   ]
  },
  {
   "cell_type": "code",
   "execution_count": 334,
   "id": "1c38bfc8",
   "metadata": {},
   "outputs": [
    {
     "data": {
      "text/plain": [
       "1 bath              1122\n",
       "2 baths              481\n",
       "1 private bath       201\n",
       "3 baths              102\n",
       "2.5 baths            100\n",
       "1.5 baths             92\n",
       "1 shared bath         67\n",
       "3.5 baths             32\n",
       "4 baths               26\n",
       "1.5 shared baths       8\n",
       "4.5 baths              8\n",
       "2 shared baths         7\n",
       "5 baths                7\n",
       "2.5 shared baths       6\n",
       "6 baths                4\n",
       "5.5 baths              3\n",
       "0 baths                1\n",
       "7 baths                1\n",
       "8 baths                1\n",
       "Name: bathrooms_text, dtype: int64"
      ]
     },
     "execution_count": 334,
     "metadata": {},
     "output_type": "execute_result"
    }
   ],
   "source": [
    "mod_listing_data['bathrooms_text'].value_counts()"
   ]
  },
  {
   "cell_type": "code",
   "execution_count": 335,
   "id": "a9de09ad",
   "metadata": {},
   "outputs": [
    {
     "data": {
      "text/plain": [
       "1    1322\n",
       "0     947\n",
       "Name: instant_bookable, dtype: int64"
      ]
     },
     "execution_count": 335,
     "metadata": {},
     "output_type": "execute_result"
    }
   ],
   "source": [
    "mod_listing_data['instant_bookable'].value_counts()"
   ]
  },
  {
   "cell_type": "code",
   "execution_count": 336,
   "id": "2bf3693b",
   "metadata": {},
   "outputs": [
    {
     "data": {
      "text/plain": [
       "1.0     779\n",
       "2.0     685\n",
       "3.0     374\n",
       "4.0     196\n",
       "5.0      99\n",
       "6.0      69\n",
       "7.0      27\n",
       "8.0      14\n",
       "9.0       9\n",
       "11.0      6\n",
       "12.0      4\n",
       "10.0      3\n",
       "21.0      2\n",
       "13.0      1\n",
       "15.0      1\n",
       "Name: beds, dtype: int64"
      ]
     },
     "execution_count": 336,
     "metadata": {},
     "output_type": "execute_result"
    }
   ],
   "source": [
    "mod_listing_data['beds'].value_counts()"
   ]
  },
  {
   "cell_type": "code",
   "execution_count": 337,
   "id": "417f7813",
   "metadata": {},
   "outputs": [
    {
     "name": "stdout",
     "output_type": "stream",
     "text": [
      "<class 'pandas.core.frame.DataFrame'>\n",
      "Int64Index: 2269 entries, 0 to 2618\n",
      "Data columns (total 22 columns):\n",
      " #   Column                  Non-Null Count  Dtype  \n",
      "---  ------                  --------------  -----  \n",
      " 0   id                      2269 non-null   int64  \n",
      " 1   listing_url             2269 non-null   object \n",
      " 2   name                    2269 non-null   object \n",
      " 3   picture_url             2269 non-null   object \n",
      " 4   host_id                 2269 non-null   int64  \n",
      " 5   host_url                2269 non-null   object \n",
      " 6   host_is_superhost       2269 non-null   int64  \n",
      " 7   host_identity_verified  2269 non-null   int64  \n",
      " 8   latitude                2269 non-null   float64\n",
      " 9   longitude               2269 non-null   float64\n",
      " 10  room_type               2269 non-null   object \n",
      " 11  accommodates            2269 non-null   int64  \n",
      " 12  bathrooms_text          2269 non-null   object \n",
      " 13  bedrooms                2269 non-null   float64\n",
      " 14  beds                    2269 non-null   float64\n",
      " 15  amenities               2269 non-null   object \n",
      " 16  minimum_nights          2269 non-null   int64  \n",
      " 17  maximum_nights          2269 non-null   int64  \n",
      " 18  number_of_reviews       2269 non-null   int64  \n",
      " 19  review_scores_rating    2269 non-null   float64\n",
      " 20  instant_bookable        2269 non-null   int64  \n",
      " 21  neighborhood            2269 non-null   object \n",
      "dtypes: float64(5), int64(9), object(8)\n",
      "memory usage: 407.7+ KB\n"
     ]
    }
   ],
   "source": [
    "mod_listing_data.info()"
   ]
  },
  {
   "cell_type": "code",
   "execution_count": 338,
   "id": "77a53627",
   "metadata": {},
   "outputs": [
    {
     "data": {
      "text/plain": [
       "0"
      ]
     },
     "execution_count": 338,
     "metadata": {},
     "output_type": "execute_result"
    }
   ],
   "source": [
    "mod_listing_data['bathrooms_text'].isna().sum()"
   ]
  },
  {
   "cell_type": "code",
   "execution_count": 339,
   "id": "83b6ce7b",
   "metadata": {},
   "outputs": [
    {
     "data": {
      "text/plain": [
       "1 bath              1122\n",
       "2 baths              481\n",
       "1 private bath       201\n",
       "3 baths              102\n",
       "2.5 baths            100\n",
       "1.5 baths             92\n",
       "1 shared bath         67\n",
       "3.5 baths             32\n",
       "4 baths               26\n",
       "1.5 shared baths       8\n",
       "4.5 baths              8\n",
       "2 shared baths         7\n",
       "5 baths                7\n",
       "2.5 shared baths       6\n",
       "6 baths                4\n",
       "5.5 baths              3\n",
       "0 baths                1\n",
       "7 baths                1\n",
       "8 baths                1\n",
       "Name: bathrooms_text, dtype: int64"
      ]
     },
     "execution_count": 339,
     "metadata": {},
     "output_type": "execute_result"
    }
   ],
   "source": [
    "mod_listing_data['bathrooms_text'].value_counts()"
   ]
  },
  {
   "cell_type": "code",
   "execution_count": 340,
   "id": "bf0e63bd",
   "metadata": {},
   "outputs": [],
   "source": [
    "mod_listing_data['bathrooms_text'] = mod_listing_data['bathrooms_text'].replace(['Shared half-bath', 'Half-bath', \n",
    "                                                                                'Private half-bath'],\n",
    "                                                                                 [0.5, 0.5, 0.5])"
   ]
  },
  {
   "cell_type": "code",
   "execution_count": 341,
   "id": "8257299d",
   "metadata": {},
   "outputs": [
    {
     "data": {
      "text/plain": [
       "0"
      ]
     },
     "execution_count": 341,
     "metadata": {},
     "output_type": "execute_result"
    }
   ],
   "source": [
    "mod_listing_data['bathrooms_text'].isna().sum()"
   ]
  },
  {
   "cell_type": "code",
   "execution_count": 342,
   "id": "93735805",
   "metadata": {},
   "outputs": [
    {
     "data": {
      "text/plain": [
       "1 bath              1122\n",
       "2 baths              481\n",
       "1 private bath       201\n",
       "3 baths              102\n",
       "2.5 baths            100\n",
       "1.5 baths             92\n",
       "1 shared bath         67\n",
       "3.5 baths             32\n",
       "4 baths               26\n",
       "1.5 shared baths       8\n",
       "4.5 baths              8\n",
       "2 shared baths         7\n",
       "5 baths                7\n",
       "2.5 shared baths       6\n",
       "6 baths                4\n",
       "5.5 baths              3\n",
       "0 baths                1\n",
       "7 baths                1\n",
       "8 baths                1\n",
       "Name: bathrooms_text, dtype: int64"
      ]
     },
     "execution_count": 342,
     "metadata": {},
     "output_type": "execute_result"
    }
   ],
   "source": [
    "mod_listing_data['bathrooms_text'].value_counts()"
   ]
  },
  {
   "cell_type": "code",
   "execution_count": 343,
   "id": "62f37506",
   "metadata": {},
   "outputs": [
    {
     "name": "stdout",
     "output_type": "stream",
     "text": [
      "<class 'pandas.core.frame.DataFrame'>\n",
      "Int64Index: 2269 entries, 0 to 2618\n",
      "Data columns (total 22 columns):\n",
      " #   Column                  Non-Null Count  Dtype  \n",
      "---  ------                  --------------  -----  \n",
      " 0   id                      2269 non-null   int64  \n",
      " 1   listing_url             2269 non-null   object \n",
      " 2   name                    2269 non-null   object \n",
      " 3   picture_url             2269 non-null   object \n",
      " 4   host_id                 2269 non-null   int64  \n",
      " 5   host_url                2269 non-null   object \n",
      " 6   host_is_superhost       2269 non-null   int64  \n",
      " 7   host_identity_verified  2269 non-null   int64  \n",
      " 8   latitude                2269 non-null   float64\n",
      " 9   longitude               2269 non-null   float64\n",
      " 10  room_type               2269 non-null   object \n",
      " 11  accommodates            2269 non-null   int64  \n",
      " 12  bedrooms                2269 non-null   float64\n",
      " 13  beds                    2269 non-null   float64\n",
      " 14  amenities               2269 non-null   object \n",
      " 15  minimum_nights          2269 non-null   int64  \n",
      " 16  maximum_nights          2269 non-null   int64  \n",
      " 17  number_of_reviews       2269 non-null   int64  \n",
      " 18  review_scores_rating    2269 non-null   float64\n",
      " 19  instant_bookable        2269 non-null   int64  \n",
      " 20  neighborhood            2269 non-null   object \n",
      " 21  bathrooms               2269 non-null   float64\n",
      "dtypes: float64(6), int64(9), object(7)\n",
      "memory usage: 472.2+ KB\n"
     ]
    }
   ],
   "source": [
    "# mod_listing_data['bathrooms_text'] = mod_listing_data['bathrooms_text'].str.split(\" \", n = 1, expand = True)\n",
    "\n",
    "test_df = mod_listing_data['bathrooms_text'].str.split(\" \", expand=True)\n",
    "test_df = test_df.rename(columns = {0 : 'bathrooms'})\n",
    "test_df = test_df.drop(labels = [1, 2], axis = 1)\n",
    "mod_listing_data = mod_listing_data.join(test_df, how = 'outer')\n",
    "mod_listing_data = mod_listing_data.drop(labels = ['bathrooms_text'], axis = 1)\n",
    "mod_listing_data['bathrooms'] = mod_listing_data['bathrooms'].fillna(0.5)\n",
    "mod_listing_data['bathrooms'] = pd.to_numeric(mod_listing_data['bathrooms'])\n",
    "mod_listing_data.info()"
   ]
  },
  {
   "cell_type": "code",
   "execution_count": 344,
   "id": "d98b4db1",
   "metadata": {},
   "outputs": [],
   "source": [
    "target_amenities = ['Air conditioning', 'Wifi', 'TV', 'Kitchen', 'Washer', 'Dryer', 'Heating']"
   ]
  },
  {
   "cell_type": "code",
   "execution_count": 345,
   "id": "a2a63251",
   "metadata": {},
   "outputs": [],
   "source": [
    "def add_amenity_column(amenity_name):\n",
    "    mod_listing_data[amenity_name] = mod_listing_data['amenities'].str.contains(amenity_name, regex=False)\n",
    "    mod_listing_data[amenity_name] = mod_listing_data[amenity_name].replace([False, True],[0, 1])"
   ]
  },
  {
   "cell_type": "code",
   "execution_count": 346,
   "id": "90cdad4f",
   "metadata": {},
   "outputs": [],
   "source": [
    "add_amenity_column(target_amenities[0])\n",
    "add_amenity_column(target_amenities[1])\n",
    "add_amenity_column(target_amenities[2])\n",
    "add_amenity_column(target_amenities[3])\n",
    "add_amenity_column(target_amenities[4])\n",
    "add_amenity_column(target_amenities[5])\n",
    "add_amenity_column(target_amenities[6])"
   ]
  },
  {
   "cell_type": "code",
   "execution_count": 347,
   "id": "a75a343a",
   "metadata": {},
   "outputs": [],
   "source": [
    "mod_listing_data = mod_listing_data.drop(['amenities'], axis = 1)"
   ]
  },
  {
   "cell_type": "code",
   "execution_count": 348,
   "id": "7d511a44",
   "metadata": {},
   "outputs": [
    {
     "name": "stdout",
     "output_type": "stream",
     "text": [
      "<class 'pandas.core.frame.DataFrame'>\n",
      "Int64Index: 2269 entries, 0 to 2618\n",
      "Data columns (total 28 columns):\n",
      " #   Column                  Non-Null Count  Dtype  \n",
      "---  ------                  --------------  -----  \n",
      " 0   listing_id              2269 non-null   int64  \n",
      " 1   listing_url             2269 non-null   object \n",
      " 2   name                    2269 non-null   object \n",
      " 3   picture_url             2269 non-null   object \n",
      " 4   host_id                 2269 non-null   int64  \n",
      " 5   host_url                2269 non-null   object \n",
      " 6   host_is_superhost       2269 non-null   int64  \n",
      " 7   host_identity_verified  2269 non-null   int64  \n",
      " 8   latitude                2269 non-null   float64\n",
      " 9   longitude               2269 non-null   float64\n",
      " 10  room_type               2269 non-null   object \n",
      " 11  accommodates            2269 non-null   int64  \n",
      " 12  bedrooms                2269 non-null   float64\n",
      " 13  beds                    2269 non-null   float64\n",
      " 14  minimum_nights          2269 non-null   int64  \n",
      " 15  maximum_nights          2269 non-null   int64  \n",
      " 16  number_of_reviews       2269 non-null   int64  \n",
      " 17  review_scores_rating    2269 non-null   float64\n",
      " 18  instant_bookable        2269 non-null   int64  \n",
      " 19  neighborhood            2269 non-null   object \n",
      " 20  bathrooms               2269 non-null   float64\n",
      " 21  Air conditioning        2269 non-null   int64  \n",
      " 22  Wifi                    2269 non-null   int64  \n",
      " 23  TV                      2269 non-null   int64  \n",
      " 24  Kitchen                 2269 non-null   int64  \n",
      " 25  Washer                  2269 non-null   int64  \n",
      " 26  Dryer                   2269 non-null   int64  \n",
      " 27  Heating                 2269 non-null   int64  \n",
      "dtypes: float64(6), int64(16), object(6)\n",
      "memory usage: 578.6+ KB\n"
     ]
    }
   ],
   "source": [
    "mod_listing_data['listing_id'] = mod_listing_data['id']\n",
    "mod_listing_data = mod_listing_data.drop(['id'], axis = 1)\n",
    "column_to_move = mod_listing_data.pop('listing_id')\n",
    "mod_listing_data.insert(0, 'listing_id', column_to_move)\n",
    "mod_listing_data.info()"
   ]
  },
  {
   "cell_type": "markdown",
   "id": "03a7d8e5",
   "metadata": {},
   "source": [
    "## Combine Calendar Data and Listings Data"
   ]
  },
  {
   "cell_type": "code",
   "execution_count": 349,
   "id": "6c63a3f6",
   "metadata": {},
   "outputs": [
    {
     "data": {
      "text/html": [
       "<div>\n",
       "<style scoped>\n",
       "    .dataframe tbody tr th:only-of-type {\n",
       "        vertical-align: middle;\n",
       "    }\n",
       "\n",
       "    .dataframe tbody tr th {\n",
       "        vertical-align: top;\n",
       "    }\n",
       "\n",
       "    .dataframe thead th {\n",
       "        text-align: right;\n",
       "    }\n",
       "</style>\n",
       "<table border=\"1\" class=\"dataframe\">\n",
       "  <thead>\n",
       "    <tr style=\"text-align: right;\">\n",
       "      <th></th>\n",
       "      <th>listing_id</th>\n",
       "      <th>daily_price</th>\n",
       "      <th>date</th>\n",
       "    </tr>\n",
       "  </thead>\n",
       "  <tbody>\n",
       "    <tr>\n",
       "      <th>0</th>\n",
       "      <td>881707</td>\n",
       "      <td>93</td>\n",
       "      <td>2021-12-15</td>\n",
       "    </tr>\n",
       "    <tr>\n",
       "      <th>1</th>\n",
       "      <td>910737</td>\n",
       "      <td>156</td>\n",
       "      <td>2021-12-15</td>\n",
       "    </tr>\n",
       "    <tr>\n",
       "      <th>2</th>\n",
       "      <td>910737</td>\n",
       "      <td>156</td>\n",
       "      <td>2021-12-16</td>\n",
       "    </tr>\n",
       "    <tr>\n",
       "      <th>3</th>\n",
       "      <td>910737</td>\n",
       "      <td>135</td>\n",
       "      <td>2021-12-17</td>\n",
       "    </tr>\n",
       "    <tr>\n",
       "      <th>4</th>\n",
       "      <td>910737</td>\n",
       "      <td>135</td>\n",
       "      <td>2021-12-18</td>\n",
       "    </tr>\n",
       "    <tr>\n",
       "      <th>...</th>\n",
       "      <td>...</td>\n",
       "      <td>...</td>\n",
       "      <td>...</td>\n",
       "    </tr>\n",
       "    <tr>\n",
       "      <th>958485</th>\n",
       "      <td>51875440</td>\n",
       "      <td>807</td>\n",
       "      <td>2022-12-10</td>\n",
       "    </tr>\n",
       "    <tr>\n",
       "      <th>958486</th>\n",
       "      <td>51875440</td>\n",
       "      <td>718</td>\n",
       "      <td>2022-12-11</td>\n",
       "    </tr>\n",
       "    <tr>\n",
       "      <th>958487</th>\n",
       "      <td>51875440</td>\n",
       "      <td>706</td>\n",
       "      <td>2022-12-12</td>\n",
       "    </tr>\n",
       "    <tr>\n",
       "      <th>958488</th>\n",
       "      <td>51875440</td>\n",
       "      <td>696</td>\n",
       "      <td>2022-12-13</td>\n",
       "    </tr>\n",
       "    <tr>\n",
       "      <th>958489</th>\n",
       "      <td>51875440</td>\n",
       "      <td>687</td>\n",
       "      <td>2022-12-14</td>\n",
       "    </tr>\n",
       "  </tbody>\n",
       "</table>\n",
       "<p>958125 rows × 3 columns</p>\n",
       "</div>"
      ],
      "text/plain": [
       "        listing_id  daily_price       date\n",
       "0           881707           93 2021-12-15\n",
       "1           910737          156 2021-12-15\n",
       "2           910737          156 2021-12-16\n",
       "3           910737          135 2021-12-17\n",
       "4           910737          135 2021-12-18\n",
       "...            ...          ...        ...\n",
       "958485    51875440          807 2022-12-10\n",
       "958486    51875440          718 2022-12-11\n",
       "958487    51875440          706 2022-12-12\n",
       "958488    51875440          696 2022-12-13\n",
       "958489    51875440          687 2022-12-14\n",
       "\n",
       "[958125 rows x 3 columns]"
      ]
     },
     "execution_count": 349,
     "metadata": {},
     "output_type": "execute_result"
    }
   ],
   "source": [
    "mod_calendar_data"
   ]
  },
  {
   "cell_type": "code",
   "execution_count": 350,
   "id": "98668bd9",
   "metadata": {},
   "outputs": [
    {
     "data": {
      "text/plain": [
       "0           881707\n",
       "1           910737\n",
       "2           910737\n",
       "3           910737\n",
       "4           910737\n",
       "            ...   \n",
       "958485    51875440\n",
       "958486    51875440\n",
       "958487    51875440\n",
       "958488    51875440\n",
       "958489    51875440\n",
       "Name: listing_id, Length: 958125, dtype: int64"
      ]
     },
     "execution_count": 350,
     "metadata": {},
     "output_type": "execute_result"
    }
   ],
   "source": [
    "mod_calendar_data['listing_id']"
   ]
  },
  {
   "cell_type": "code",
   "execution_count": 351,
   "id": "1f7f2117",
   "metadata": {},
   "outputs": [
    {
     "name": "stdout",
     "output_type": "stream",
     "text": [
      "Index(['listing_id', 'listing_url', 'name', 'picture_url', 'host_id',\n",
      "       'host_url', 'host_is_superhost', 'host_identity_verified', 'latitude',\n",
      "       'longitude', 'room_type', 'accommodates', 'bedrooms', 'beds',\n",
      "       'minimum_nights', 'maximum_nights', 'number_of_reviews',\n",
      "       'review_scores_rating', 'instant_bookable', 'neighborhood', 'bathrooms',\n",
      "       'Air conditioning', 'Wifi', 'TV', 'Kitchen', 'Washer', 'Dryer',\n",
      "       'Heating'],\n",
      "      dtype='object')\n"
     ]
    },
    {
     "data": {
      "text/plain": [
       "Index(['listing_id', 'daily_price', 'date'], dtype='object')"
      ]
     },
     "execution_count": 351,
     "metadata": {},
     "output_type": "execute_result"
    }
   ],
   "source": [
    "print(mod_listing_data.columns)\n",
    "mod_calendar_data.columns"
   ]
  },
  {
   "cell_type": "code",
   "execution_count": 352,
   "id": "c8be2920",
   "metadata": {},
   "outputs": [
    {
     "name": "stdout",
     "output_type": "stream",
     "text": [
      "<class 'pandas.core.frame.DataFrame'>\n",
      "Int64Index: 958125 entries, 0 to 958489\n",
      "Data columns (total 3 columns):\n",
      " #   Column       Non-Null Count   Dtype         \n",
      "---  ------       --------------   -----         \n",
      " 0   listing_id   958125 non-null  int64         \n",
      " 1   daily_price  958125 non-null  int64         \n",
      " 2   date         958125 non-null  datetime64[ns]\n",
      "dtypes: datetime64[ns](1), int64(2)\n",
      "memory usage: 61.5 MB\n"
     ]
    }
   ],
   "source": [
    "mod_calendar_data.info()"
   ]
  },
  {
   "cell_type": "code",
   "execution_count": 353,
   "id": "2ea75c6c",
   "metadata": {
    "scrolled": true
   },
   "outputs": [
    {
     "name": "stdout",
     "output_type": "stream",
     "text": [
      "<class 'pandas.core.frame.DataFrame'>\n",
      "Int64Index: 2269 entries, 0 to 2618\n",
      "Data columns (total 28 columns):\n",
      " #   Column                  Non-Null Count  Dtype  \n",
      "---  ------                  --------------  -----  \n",
      " 0   listing_id              2269 non-null   int64  \n",
      " 1   listing_url             2269 non-null   object \n",
      " 2   name                    2269 non-null   object \n",
      " 3   picture_url             2269 non-null   object \n",
      " 4   host_id                 2269 non-null   int64  \n",
      " 5   host_url                2269 non-null   object \n",
      " 6   host_is_superhost       2269 non-null   int64  \n",
      " 7   host_identity_verified  2269 non-null   int64  \n",
      " 8   latitude                2269 non-null   float64\n",
      " 9   longitude               2269 non-null   float64\n",
      " 10  room_type               2269 non-null   object \n",
      " 11  accommodates            2269 non-null   int64  \n",
      " 12  bedrooms                2269 non-null   float64\n",
      " 13  beds                    2269 non-null   float64\n",
      " 14  minimum_nights          2269 non-null   int64  \n",
      " 15  maximum_nights          2269 non-null   int64  \n",
      " 16  number_of_reviews       2269 non-null   int64  \n",
      " 17  review_scores_rating    2269 non-null   float64\n",
      " 18  instant_bookable        2269 non-null   int64  \n",
      " 19  neighborhood            2269 non-null   object \n",
      " 20  bathrooms               2269 non-null   float64\n",
      " 21  Air conditioning        2269 non-null   int64  \n",
      " 22  Wifi                    2269 non-null   int64  \n",
      " 23  TV                      2269 non-null   int64  \n",
      " 24  Kitchen                 2269 non-null   int64  \n",
      " 25  Washer                  2269 non-null   int64  \n",
      " 26  Dryer                   2269 non-null   int64  \n",
      " 27  Heating                 2269 non-null   int64  \n",
      "dtypes: float64(6), int64(16), object(6)\n",
      "memory usage: 578.6+ KB\n"
     ]
    }
   ],
   "source": [
    "mod_listing_data.info()"
   ]
  },
  {
   "cell_type": "markdown",
   "id": "24255c05",
   "metadata": {},
   "source": [
    "### Drop Outliers"
   ]
  },
  {
   "cell_type": "code",
   "execution_count": 354,
   "id": "3ab9ca7f",
   "metadata": {},
   "outputs": [
    {
     "name": "stdout",
     "output_type": "stream",
     "text": [
      "<class 'pandas.core.frame.DataFrame'>\n",
      "Int64Index: 827821 entries, 0 to 827820\n",
      "Data columns (total 30 columns):\n",
      " #   Column                  Non-Null Count   Dtype         \n",
      "---  ------                  --------------   -----         \n",
      " 0   listing_id              827821 non-null  int64         \n",
      " 1   listing_url             827821 non-null  object        \n",
      " 2   name                    827821 non-null  object        \n",
      " 3   picture_url             827821 non-null  object        \n",
      " 4   host_id                 827821 non-null  int64         \n",
      " 5   host_url                827821 non-null  object        \n",
      " 6   host_is_superhost       827821 non-null  int64         \n",
      " 7   host_identity_verified  827821 non-null  int64         \n",
      " 8   latitude                827821 non-null  float64       \n",
      " 9   longitude               827821 non-null  float64       \n",
      " 10  room_type               827821 non-null  object        \n",
      " 11  accommodates            827821 non-null  int64         \n",
      " 12  bedrooms                827821 non-null  float64       \n",
      " 13  beds                    827821 non-null  float64       \n",
      " 14  minimum_nights          827821 non-null  int64         \n",
      " 15  maximum_nights          827821 non-null  int64         \n",
      " 16  number_of_reviews       827821 non-null  int64         \n",
      " 17  review_scores_rating    827821 non-null  float64       \n",
      " 18  instant_bookable        827821 non-null  int64         \n",
      " 19  neighborhood            827821 non-null  object        \n",
      " 20  bathrooms               827821 non-null  float64       \n",
      " 21  Air conditioning        827821 non-null  int64         \n",
      " 22  Wifi                    827821 non-null  int64         \n",
      " 23  TV                      827821 non-null  int64         \n",
      " 24  Kitchen                 827821 non-null  int64         \n",
      " 25  Washer                  827821 non-null  int64         \n",
      " 26  Dryer                   827821 non-null  int64         \n",
      " 27  Heating                 827821 non-null  int64         \n",
      " 28  daily_price             827820 non-null  float64       \n",
      " 29  date                    827820 non-null  datetime64[ns]\n",
      "dtypes: datetime64[ns](1), float64(7), int64(16), object(6)\n",
      "memory usage: 195.8+ MB\n"
     ]
    }
   ],
   "source": [
    "asheville_data = pd.merge(mod_listing_data, mod_calendar_data, how = 'left', on = 'listing_id')\n",
    "asheville_data.info()"
   ]
  },
  {
   "cell_type": "code",
   "execution_count": 355,
   "id": "d760a79c",
   "metadata": {},
   "outputs": [],
   "source": [
    "asheville_data = asheville_data.dropna()"
   ]
  },
  {
   "cell_type": "code",
   "execution_count": 356,
   "id": "32da74b5",
   "metadata": {},
   "outputs": [
    {
     "name": "stdout",
     "output_type": "stream",
     "text": [
      "<class 'pandas.core.frame.DataFrame'>\n",
      "Int64Index: 827820 entries, 0 to 827820\n",
      "Data columns (total 30 columns):\n",
      " #   Column                  Non-Null Count   Dtype         \n",
      "---  ------                  --------------   -----         \n",
      " 0   listing_id              827820 non-null  int64         \n",
      " 1   listing_url             827820 non-null  object        \n",
      " 2   name                    827820 non-null  object        \n",
      " 3   picture_url             827820 non-null  object        \n",
      " 4   host_id                 827820 non-null  int64         \n",
      " 5   host_url                827820 non-null  object        \n",
      " 6   host_is_superhost       827820 non-null  int64         \n",
      " 7   host_identity_verified  827820 non-null  int64         \n",
      " 8   latitude                827820 non-null  float64       \n",
      " 9   longitude               827820 non-null  float64       \n",
      " 10  room_type               827820 non-null  object        \n",
      " 11  accommodates            827820 non-null  int64         \n",
      " 12  bedrooms                827820 non-null  float64       \n",
      " 13  beds                    827820 non-null  float64       \n",
      " 14  minimum_nights          827820 non-null  int64         \n",
      " 15  maximum_nights          827820 non-null  int64         \n",
      " 16  number_of_reviews       827820 non-null  int64         \n",
      " 17  review_scores_rating    827820 non-null  float64       \n",
      " 18  instant_bookable        827820 non-null  int64         \n",
      " 19  neighborhood            827820 non-null  object        \n",
      " 20  bathrooms               827820 non-null  float64       \n",
      " 21  Air conditioning        827820 non-null  int64         \n",
      " 22  Wifi                    827820 non-null  int64         \n",
      " 23  TV                      827820 non-null  int64         \n",
      " 24  Kitchen                 827820 non-null  int64         \n",
      " 25  Washer                  827820 non-null  int64         \n",
      " 26  Dryer                   827820 non-null  int64         \n",
      " 27  Heating                 827820 non-null  int64         \n",
      " 28  daily_price             827820 non-null  float64       \n",
      " 29  date                    827820 non-null  datetime64[ns]\n",
      "dtypes: datetime64[ns](1), float64(7), int64(16), object(6)\n",
      "memory usage: 195.8+ MB\n"
     ]
    }
   ],
   "source": [
    "asheville_data.info()"
   ]
  },
  {
   "cell_type": "code",
   "execution_count": 357,
   "id": "19490511",
   "metadata": {},
   "outputs": [
    {
     "data": {
      "text/plain": [
       "0         1.0\n",
       "1         1.0\n",
       "2         1.0\n",
       "3         1.0\n",
       "4         1.0\n",
       "         ... \n",
       "827816    1.0\n",
       "827817    1.0\n",
       "827818    1.0\n",
       "827819    1.0\n",
       "827820    1.0\n",
       "Name: bathrooms, Length: 827820, dtype: float64"
      ]
     },
     "execution_count": 357,
     "metadata": {},
     "output_type": "execute_result"
    }
   ],
   "source": [
    "asheville_data['bathrooms']"
   ]
  },
  {
   "cell_type": "code",
   "execution_count": 358,
   "id": "22676bff",
   "metadata": {},
   "outputs": [],
   "source": [
    "asheville_data = asheville_data[asheville_data['bathrooms'] <= 6]\n",
    "asheville_data = asheville_data[asheville_data['bathrooms'] >= 1]\n",
    "\n",
    "asheville_data = asheville_data[asheville_data['bedrooms'] <= 6]\n",
    "asheville_data = asheville_data[asheville_data['beds'] <= 11]\n",
    "asheville_data = asheville_data[asheville_data['bathrooms'] <= 5]\n",
    "\n",
    "asheville_data = asheville_data[asheville_data['room_type'] != 'Hotel room']\n",
    "asheville_data = asheville_data[asheville_data['room_type'] != 'Shared room']\n",
    "\n",
    "asheville_data = asheville_data[asheville_data['daily_price'] <= 4000]"
   ]
  },
  {
   "cell_type": "code",
   "execution_count": 359,
   "id": "743ea90a",
   "metadata": {},
   "outputs": [],
   "source": [
    "asheville_data = asheville_data.reset_index()\n",
    "asheville_data = asheville_data.drop(['index'], axis = 1)"
   ]
  },
  {
   "cell_type": "code",
   "execution_count": 360,
   "id": "e4dd1359",
   "metadata": {},
   "outputs": [
    {
     "name": "stdout",
     "output_type": "stream",
     "text": [
      "<class 'pandas.core.frame.DataFrame'>\n",
      "RangeIndex: 815740 entries, 0 to 815739\n",
      "Data columns (total 30 columns):\n",
      " #   Column                  Non-Null Count   Dtype         \n",
      "---  ------                  --------------   -----         \n",
      " 0   listing_id              815740 non-null  int64         \n",
      " 1   listing_url             815740 non-null  object        \n",
      " 2   name                    815740 non-null  object        \n",
      " 3   picture_url             815740 non-null  object        \n",
      " 4   host_id                 815740 non-null  int64         \n",
      " 5   host_url                815740 non-null  object        \n",
      " 6   host_is_superhost       815740 non-null  int64         \n",
      " 7   host_identity_verified  815740 non-null  int64         \n",
      " 8   latitude                815740 non-null  float64       \n",
      " 9   longitude               815740 non-null  float64       \n",
      " 10  room_type               815740 non-null  object        \n",
      " 11  accommodates            815740 non-null  int64         \n",
      " 12  bedrooms                815740 non-null  float64       \n",
      " 13  beds                    815740 non-null  float64       \n",
      " 14  minimum_nights          815740 non-null  int64         \n",
      " 15  maximum_nights          815740 non-null  int64         \n",
      " 16  number_of_reviews       815740 non-null  int64         \n",
      " 17  review_scores_rating    815740 non-null  float64       \n",
      " 18  instant_bookable        815740 non-null  int64         \n",
      " 19  neighborhood            815740 non-null  object        \n",
      " 20  bathrooms               815740 non-null  float64       \n",
      " 21  Air conditioning        815740 non-null  int64         \n",
      " 22  Wifi                    815740 non-null  int64         \n",
      " 23  TV                      815740 non-null  int64         \n",
      " 24  Kitchen                 815740 non-null  int64         \n",
      " 25  Washer                  815740 non-null  int64         \n",
      " 26  Dryer                   815740 non-null  int64         \n",
      " 27  Heating                 815740 non-null  int64         \n",
      " 28  daily_price             815740 non-null  float64       \n",
      " 29  date                    815740 non-null  datetime64[ns]\n",
      "dtypes: datetime64[ns](1), float64(7), int64(16), object(6)\n",
      "memory usage: 186.7+ MB\n"
     ]
    }
   ],
   "source": [
    "asheville_data.info()"
   ]
  },
  {
   "cell_type": "markdown",
   "id": "afee37db",
   "metadata": {},
   "source": [
    "# Begin Modeling"
   ]
  },
  {
   "cell_type": "markdown",
   "id": "73b832d9",
   "metadata": {},
   "source": [
    "## Baseline Model - Random Forest"
   ]
  },
  {
   "cell_type": "code",
   "execution_count": 361,
   "id": "6e1bc418",
   "metadata": {},
   "outputs": [
    {
     "data": {
      "text/html": [
       "<div>\n",
       "<style scoped>\n",
       "    .dataframe tbody tr th:only-of-type {\n",
       "        vertical-align: middle;\n",
       "    }\n",
       "\n",
       "    .dataframe tbody tr th {\n",
       "        vertical-align: top;\n",
       "    }\n",
       "\n",
       "    .dataframe thead th {\n",
       "        text-align: right;\n",
       "    }\n",
       "</style>\n",
       "<table border=\"1\" class=\"dataframe\">\n",
       "  <thead>\n",
       "    <tr style=\"text-align: right;\">\n",
       "      <th></th>\n",
       "      <th>host_is_superhost</th>\n",
       "      <th>room_type</th>\n",
       "      <th>accommodates</th>\n",
       "      <th>bedrooms</th>\n",
       "      <th>beds</th>\n",
       "      <th>neighborhood</th>\n",
       "      <th>bathrooms</th>\n",
       "      <th>Air conditioning</th>\n",
       "      <th>Wifi</th>\n",
       "      <th>TV</th>\n",
       "      <th>Kitchen</th>\n",
       "      <th>Washer</th>\n",
       "      <th>Dryer</th>\n",
       "      <th>Heating</th>\n",
       "      <th>daily_price</th>\n",
       "      <th>date</th>\n",
       "    </tr>\n",
       "  </thead>\n",
       "  <tbody>\n",
       "    <tr>\n",
       "      <th>0</th>\n",
       "      <td>0</td>\n",
       "      <td>Entire home/apt</td>\n",
       "      <td>2</td>\n",
       "      <td>1.0</td>\n",
       "      <td>1.0</td>\n",
       "      <td>Asheville</td>\n",
       "      <td>1.0</td>\n",
       "      <td>1</td>\n",
       "      <td>1</td>\n",
       "      <td>0</td>\n",
       "      <td>1</td>\n",
       "      <td>1</td>\n",
       "      <td>1</td>\n",
       "      <td>1</td>\n",
       "      <td>120.0</td>\n",
       "      <td>2021-12-15</td>\n",
       "    </tr>\n",
       "    <tr>\n",
       "      <th>1</th>\n",
       "      <td>0</td>\n",
       "      <td>Entire home/apt</td>\n",
       "      <td>2</td>\n",
       "      <td>1.0</td>\n",
       "      <td>1.0</td>\n",
       "      <td>Asheville</td>\n",
       "      <td>1.0</td>\n",
       "      <td>1</td>\n",
       "      <td>1</td>\n",
       "      <td>0</td>\n",
       "      <td>1</td>\n",
       "      <td>1</td>\n",
       "      <td>1</td>\n",
       "      <td>1</td>\n",
       "      <td>120.0</td>\n",
       "      <td>2021-12-16</td>\n",
       "    </tr>\n",
       "    <tr>\n",
       "      <th>2</th>\n",
       "      <td>0</td>\n",
       "      <td>Entire home/apt</td>\n",
       "      <td>2</td>\n",
       "      <td>1.0</td>\n",
       "      <td>1.0</td>\n",
       "      <td>Asheville</td>\n",
       "      <td>1.0</td>\n",
       "      <td>1</td>\n",
       "      <td>1</td>\n",
       "      <td>0</td>\n",
       "      <td>1</td>\n",
       "      <td>1</td>\n",
       "      <td>1</td>\n",
       "      <td>1</td>\n",
       "      <td>120.0</td>\n",
       "      <td>2021-12-17</td>\n",
       "    </tr>\n",
       "    <tr>\n",
       "      <th>3</th>\n",
       "      <td>0</td>\n",
       "      <td>Entire home/apt</td>\n",
       "      <td>2</td>\n",
       "      <td>1.0</td>\n",
       "      <td>1.0</td>\n",
       "      <td>Asheville</td>\n",
       "      <td>1.0</td>\n",
       "      <td>1</td>\n",
       "      <td>1</td>\n",
       "      <td>0</td>\n",
       "      <td>1</td>\n",
       "      <td>1</td>\n",
       "      <td>1</td>\n",
       "      <td>1</td>\n",
       "      <td>120.0</td>\n",
       "      <td>2021-12-18</td>\n",
       "    </tr>\n",
       "    <tr>\n",
       "      <th>4</th>\n",
       "      <td>0</td>\n",
       "      <td>Entire home/apt</td>\n",
       "      <td>2</td>\n",
       "      <td>1.0</td>\n",
       "      <td>1.0</td>\n",
       "      <td>Asheville</td>\n",
       "      <td>1.0</td>\n",
       "      <td>1</td>\n",
       "      <td>1</td>\n",
       "      <td>0</td>\n",
       "      <td>1</td>\n",
       "      <td>1</td>\n",
       "      <td>1</td>\n",
       "      <td>1</td>\n",
       "      <td>120.0</td>\n",
       "      <td>2021-12-19</td>\n",
       "    </tr>\n",
       "  </tbody>\n",
       "</table>\n",
       "</div>"
      ],
      "text/plain": [
       "   host_is_superhost        room_type  accommodates  bedrooms  beds  \\\n",
       "0                  0  Entire home/apt             2       1.0   1.0   \n",
       "1                  0  Entire home/apt             2       1.0   1.0   \n",
       "2                  0  Entire home/apt             2       1.0   1.0   \n",
       "3                  0  Entire home/apt             2       1.0   1.0   \n",
       "4                  0  Entire home/apt             2       1.0   1.0   \n",
       "\n",
       "  neighborhood  bathrooms  Air conditioning  Wifi  TV  Kitchen  Washer  Dryer  \\\n",
       "0    Asheville        1.0                 1     1   0        1       1      1   \n",
       "1    Asheville        1.0                 1     1   0        1       1      1   \n",
       "2    Asheville        1.0                 1     1   0        1       1      1   \n",
       "3    Asheville        1.0                 1     1   0        1       1      1   \n",
       "4    Asheville        1.0                 1     1   0        1       1      1   \n",
       "\n",
       "   Heating  daily_price       date  \n",
       "0        1        120.0 2021-12-15  \n",
       "1        1        120.0 2021-12-16  \n",
       "2        1        120.0 2021-12-17  \n",
       "3        1        120.0 2021-12-18  \n",
       "4        1        120.0 2021-12-19  "
      ]
     },
     "execution_count": 361,
     "metadata": {},
     "output_type": "execute_result"
    }
   ],
   "source": [
    "asheville_modeling_data = asheville_data.drop(['listing_id', 'listing_url', 'name', 'picture_url', 'host_id',\n",
    "                                              'host_url', 'host_identity_verified', 'latitude', 'longitude',\n",
    "                                              'minimum_nights', 'maximum_nights', 'number_of_reviews',\n",
    "                                              'instant_bookable', 'review_scores_rating'], axis = 1)\n",
    "asheville_modeling_data.head()"
   ]
  },
  {
   "cell_type": "code",
   "execution_count": 362,
   "id": "1743e034",
   "metadata": {},
   "outputs": [
    {
     "data": {
      "text/plain": [
       "Asheville    720840\n",
       "Arden         42705\n",
       "Woodfin       19710\n",
       "Candler       17155\n",
       "Fletcher      15330\n",
       "Name: neighborhood, dtype: int64"
      ]
     },
     "execution_count": 362,
     "metadata": {},
     "output_type": "execute_result"
    }
   ],
   "source": [
    "asheville_modeling_data['neighborhood'].value_counts()"
   ]
  },
  {
   "cell_type": "code",
   "execution_count": 363,
   "id": "70d7d6e5",
   "metadata": {},
   "outputs": [
    {
     "name": "stdout",
     "output_type": "stream",
     "text": [
      "<class 'pandas.core.frame.DataFrame'>\n",
      "RangeIndex: 815740 entries, 0 to 815739\n",
      "Data columns (total 17 columns):\n",
      " #   Column             Non-Null Count   Dtype  \n",
      "---  ------             --------------   -----  \n",
      " 0   host_is_superhost  815740 non-null  int64  \n",
      " 1   room_type          815740 non-null  object \n",
      " 2   accommodates       815740 non-null  int64  \n",
      " 3   bedrooms           815740 non-null  float64\n",
      " 4   beds               815740 non-null  float64\n",
      " 5   neighborhood       815740 non-null  object \n",
      " 6   bathrooms          815740 non-null  float64\n",
      " 7   Air conditioning   815740 non-null  int64  \n",
      " 8   Wifi               815740 non-null  int64  \n",
      " 9   TV                 815740 non-null  int64  \n",
      " 10  Kitchen            815740 non-null  int64  \n",
      " 11  Washer             815740 non-null  int64  \n",
      " 12  Dryer              815740 non-null  int64  \n",
      " 13  Heating            815740 non-null  int64  \n",
      " 14  daily_price        815740 non-null  float64\n",
      " 15  day_of_week        815740 non-null  int64  \n",
      " 16  month              815740 non-null  int64  \n",
      "dtypes: float64(4), int64(11), object(2)\n",
      "memory usage: 105.8+ MB\n"
     ]
    }
   ],
   "source": [
    "asheville_modeling_data['day_of_week'] = asheville_modeling_data['date'].dt.dayofweek\n",
    "asheville_modeling_data['month'] = asheville_modeling_data['date'].dt.month\n",
    "asheville_modeling_data = asheville_modeling_data.drop(['date'], axis = 1)\n",
    "asheville_modeling_data.info()"
   ]
  },
  {
   "cell_type": "code",
   "execution_count": 364,
   "id": "a9bd9045",
   "metadata": {},
   "outputs": [
    {
     "data": {
      "text/plain": [
       "Entire home/apt    697480\n",
       "Private room       118260\n",
       "Name: room_type, dtype: int64"
      ]
     },
     "execution_count": 364,
     "metadata": {},
     "output_type": "execute_result"
    }
   ],
   "source": [
    "asheville_modeling_data['room_type'].value_counts()"
   ]
  },
  {
   "cell_type": "code",
   "execution_count": 365,
   "id": "ed5ee091",
   "metadata": {},
   "outputs": [
    {
     "data": {
      "text/plain": [
       "1    692380\n",
       "0    123360\n",
       "Name: Heating, dtype: int64"
      ]
     },
     "execution_count": 365,
     "metadata": {},
     "output_type": "execute_result"
    }
   ],
   "source": [
    "asheville_modeling_data['Heating'].value_counts()"
   ]
  },
  {
   "cell_type": "code",
   "execution_count": 366,
   "id": "3ee93dfa",
   "metadata": {},
   "outputs": [
    {
     "data": {
      "text/html": [
       "<div>\n",
       "<style scoped>\n",
       "    .dataframe tbody tr th:only-of-type {\n",
       "        vertical-align: middle;\n",
       "    }\n",
       "\n",
       "    .dataframe tbody tr th {\n",
       "        vertical-align: top;\n",
       "    }\n",
       "\n",
       "    .dataframe thead th {\n",
       "        text-align: right;\n",
       "    }\n",
       "</style>\n",
       "<table border=\"1\" class=\"dataframe\">\n",
       "  <thead>\n",
       "    <tr style=\"text-align: right;\">\n",
       "      <th></th>\n",
       "      <th>host_is_superhost</th>\n",
       "      <th>accommodates</th>\n",
       "      <th>bedrooms</th>\n",
       "      <th>beds</th>\n",
       "      <th>bathrooms</th>\n",
       "      <th>Air conditioning</th>\n",
       "      <th>Wifi</th>\n",
       "      <th>TV</th>\n",
       "      <th>Kitchen</th>\n",
       "      <th>Washer</th>\n",
       "      <th>Dryer</th>\n",
       "      <th>Heating</th>\n",
       "      <th>daily_price</th>\n",
       "      <th>day_of_week</th>\n",
       "      <th>month</th>\n",
       "    </tr>\n",
       "  </thead>\n",
       "  <tbody>\n",
       "    <tr>\n",
       "      <th>count</th>\n",
       "      <td>815740.000000</td>\n",
       "      <td>815740.000000</td>\n",
       "      <td>815740.000000</td>\n",
       "      <td>815740.000000</td>\n",
       "      <td>815740.000000</td>\n",
       "      <td>815740.000000</td>\n",
       "      <td>815740.000000</td>\n",
       "      <td>815740.000000</td>\n",
       "      <td>815740.000000</td>\n",
       "      <td>815740.000000</td>\n",
       "      <td>815740.000000</td>\n",
       "      <td>815740.000000</td>\n",
       "      <td>815740.000000</td>\n",
       "      <td>815740.000000</td>\n",
       "      <td>815740.000000</td>\n",
       "    </tr>\n",
       "    <tr>\n",
       "      <th>mean</th>\n",
       "      <td>0.753017</td>\n",
       "      <td>4.478261</td>\n",
       "      <td>1.853679</td>\n",
       "      <td>2.398198</td>\n",
       "      <td>1.488350</td>\n",
       "      <td>0.868910</td>\n",
       "      <td>0.964652</td>\n",
       "      <td>0.878754</td>\n",
       "      <td>0.775382</td>\n",
       "      <td>0.562845</td>\n",
       "      <td>0.551211</td>\n",
       "      <td>0.848775</td>\n",
       "      <td>197.989394</td>\n",
       "      <td>2.997203</td>\n",
       "      <td>6.526011</td>\n",
       "    </tr>\n",
       "    <tr>\n",
       "      <th>std</th>\n",
       "      <td>0.431257</td>\n",
       "      <td>2.653051</td>\n",
       "      <td>1.033865</td>\n",
       "      <td>1.571789</td>\n",
       "      <td>0.731852</td>\n",
       "      <td>0.337498</td>\n",
       "      <td>0.184659</td>\n",
       "      <td>0.326413</td>\n",
       "      <td>0.417331</td>\n",
       "      <td>0.496035</td>\n",
       "      <td>0.497371</td>\n",
       "      <td>0.358268</td>\n",
       "      <td>163.548304</td>\n",
       "      <td>1.997961</td>\n",
       "      <td>3.447891</td>\n",
       "    </tr>\n",
       "    <tr>\n",
       "      <th>min</th>\n",
       "      <td>0.000000</td>\n",
       "      <td>1.000000</td>\n",
       "      <td>1.000000</td>\n",
       "      <td>1.000000</td>\n",
       "      <td>1.000000</td>\n",
       "      <td>0.000000</td>\n",
       "      <td>0.000000</td>\n",
       "      <td>0.000000</td>\n",
       "      <td>0.000000</td>\n",
       "      <td>0.000000</td>\n",
       "      <td>0.000000</td>\n",
       "      <td>0.000000</td>\n",
       "      <td>10.000000</td>\n",
       "      <td>0.000000</td>\n",
       "      <td>1.000000</td>\n",
       "    </tr>\n",
       "    <tr>\n",
       "      <th>25%</th>\n",
       "      <td>1.000000</td>\n",
       "      <td>2.000000</td>\n",
       "      <td>1.000000</td>\n",
       "      <td>1.000000</td>\n",
       "      <td>1.000000</td>\n",
       "      <td>1.000000</td>\n",
       "      <td>1.000000</td>\n",
       "      <td>1.000000</td>\n",
       "      <td>1.000000</td>\n",
       "      <td>0.000000</td>\n",
       "      <td>0.000000</td>\n",
       "      <td>1.000000</td>\n",
       "      <td>99.000000</td>\n",
       "      <td>1.000000</td>\n",
       "      <td>4.000000</td>\n",
       "    </tr>\n",
       "    <tr>\n",
       "      <th>50%</th>\n",
       "      <td>1.000000</td>\n",
       "      <td>4.000000</td>\n",
       "      <td>2.000000</td>\n",
       "      <td>2.000000</td>\n",
       "      <td>1.000000</td>\n",
       "      <td>1.000000</td>\n",
       "      <td>1.000000</td>\n",
       "      <td>1.000000</td>\n",
       "      <td>1.000000</td>\n",
       "      <td>1.000000</td>\n",
       "      <td>1.000000</td>\n",
       "      <td>1.000000</td>\n",
       "      <td>150.000000</td>\n",
       "      <td>3.000000</td>\n",
       "      <td>7.000000</td>\n",
       "    </tr>\n",
       "    <tr>\n",
       "      <th>75%</th>\n",
       "      <td>1.000000</td>\n",
       "      <td>6.000000</td>\n",
       "      <td>2.000000</td>\n",
       "      <td>3.000000</td>\n",
       "      <td>2.000000</td>\n",
       "      <td>1.000000</td>\n",
       "      <td>1.000000</td>\n",
       "      <td>1.000000</td>\n",
       "      <td>1.000000</td>\n",
       "      <td>1.000000</td>\n",
       "      <td>1.000000</td>\n",
       "      <td>1.000000</td>\n",
       "      <td>239.000000</td>\n",
       "      <td>5.000000</td>\n",
       "      <td>10.000000</td>\n",
       "    </tr>\n",
       "    <tr>\n",
       "      <th>max</th>\n",
       "      <td>1.000000</td>\n",
       "      <td>16.000000</td>\n",
       "      <td>6.000000</td>\n",
       "      <td>11.000000</td>\n",
       "      <td>5.000000</td>\n",
       "      <td>1.000000</td>\n",
       "      <td>1.000000</td>\n",
       "      <td>1.000000</td>\n",
       "      <td>1.000000</td>\n",
       "      <td>1.000000</td>\n",
       "      <td>1.000000</td>\n",
       "      <td>1.000000</td>\n",
       "      <td>3874.000000</td>\n",
       "      <td>6.000000</td>\n",
       "      <td>12.000000</td>\n",
       "    </tr>\n",
       "  </tbody>\n",
       "</table>\n",
       "</div>"
      ],
      "text/plain": [
       "       host_is_superhost   accommodates       bedrooms           beds  \\\n",
       "count      815740.000000  815740.000000  815740.000000  815740.000000   \n",
       "mean            0.753017       4.478261       1.853679       2.398198   \n",
       "std             0.431257       2.653051       1.033865       1.571789   \n",
       "min             0.000000       1.000000       1.000000       1.000000   \n",
       "25%             1.000000       2.000000       1.000000       1.000000   \n",
       "50%             1.000000       4.000000       2.000000       2.000000   \n",
       "75%             1.000000       6.000000       2.000000       3.000000   \n",
       "max             1.000000      16.000000       6.000000      11.000000   \n",
       "\n",
       "           bathrooms  Air conditioning           Wifi             TV  \\\n",
       "count  815740.000000     815740.000000  815740.000000  815740.000000   \n",
       "mean        1.488350          0.868910       0.964652       0.878754   \n",
       "std         0.731852          0.337498       0.184659       0.326413   \n",
       "min         1.000000          0.000000       0.000000       0.000000   \n",
       "25%         1.000000          1.000000       1.000000       1.000000   \n",
       "50%         1.000000          1.000000       1.000000       1.000000   \n",
       "75%         2.000000          1.000000       1.000000       1.000000   \n",
       "max         5.000000          1.000000       1.000000       1.000000   \n",
       "\n",
       "             Kitchen         Washer          Dryer        Heating  \\\n",
       "count  815740.000000  815740.000000  815740.000000  815740.000000   \n",
       "mean        0.775382       0.562845       0.551211       0.848775   \n",
       "std         0.417331       0.496035       0.497371       0.358268   \n",
       "min         0.000000       0.000000       0.000000       0.000000   \n",
       "25%         1.000000       0.000000       0.000000       1.000000   \n",
       "50%         1.000000       1.000000       1.000000       1.000000   \n",
       "75%         1.000000       1.000000       1.000000       1.000000   \n",
       "max         1.000000       1.000000       1.000000       1.000000   \n",
       "\n",
       "         daily_price    day_of_week          month  \n",
       "count  815740.000000  815740.000000  815740.000000  \n",
       "mean      197.989394       2.997203       6.526011  \n",
       "std       163.548304       1.997961       3.447891  \n",
       "min        10.000000       0.000000       1.000000  \n",
       "25%        99.000000       1.000000       4.000000  \n",
       "50%       150.000000       3.000000       7.000000  \n",
       "75%       239.000000       5.000000      10.000000  \n",
       "max      3874.000000       6.000000      12.000000  "
      ]
     },
     "execution_count": 366,
     "metadata": {},
     "output_type": "execute_result"
    }
   ],
   "source": [
    "asheville_modeling_data.describe()"
   ]
  },
  {
   "cell_type": "markdown",
   "id": "ae2ee156",
   "metadata": {},
   "source": [
    "## Baseline Model - Random Forest"
   ]
  },
  {
   "cell_type": "code",
   "execution_count": 367,
   "id": "bb732e7f",
   "metadata": {},
   "outputs": [],
   "source": [
    "import time "
   ]
  },
  {
   "cell_type": "code",
   "execution_count": 388,
   "id": "26b61efd",
   "metadata": {},
   "outputs": [
    {
     "name": "stdout",
     "output_type": "stream",
     "text": [
      "CPU times: user 2min 28s, sys: 882 ms, total: 2min 29s\n",
      "Wall time: 2min 29s\n"
     ]
    }
   ],
   "source": [
    "%%time\n",
    "\n",
    "baseline_X = asheville_modeling_data.drop(['daily_price'], axis = 1)\n",
    "baseline_y = asheville_modeling_data['daily_price']\n",
    "\n",
    "baseline_X_train, baseline_X_test, baseline_y_train, baseline_y_test = train_test_split(baseline_X, \n",
    "                                                                                        baseline_y, \n",
    "                                                                                        test_size = 0.2)\n",
    "\n",
    "baseline_numeric_cols = ['host_is_superhost', 'accommodates', 'bedrooms', 'beds', 'bathrooms', \n",
    "                         'Air conditioning', 'Wifi', 'TV', 'Kitchen', 'Washer', 'Dryer', 'Heating']\n",
    "\n",
    "baseline_nominal_cols = ['neighborhood', 'room_type', 'day_of_week', 'month']\n",
    "\n",
    "baseline_numeric_pipeline = Pipeline([('scaler', StandardScaler())])\n",
    "\n",
    "baseline_nominal_pipeline = Pipeline([('ohe', OneHotEncoder(sparse = False))])\n",
    "\n",
    "ct = ColumnTransformer([('nominalpipe', baseline_nominal_pipeline, baseline_nominal_cols ),\n",
    "                        ('numpipe', baseline_numeric_pipeline, baseline_numeric_cols)])\n",
    "\n",
    "baseline_final_pipe = Pipeline([('preprocess', ct),\n",
    "                                ('model', RandomForestRegressor())])\n",
    "\n",
    "baseline_results = baseline_final_pipe.fit(baseline_X_train, baseline_y_train)"
   ]
  },
  {
   "cell_type": "code",
   "execution_count": 389,
   "id": "32d8ec16",
   "metadata": {},
   "outputs": [
    {
     "name": "stdout",
     "output_type": "stream",
     "text": [
      "Baseline train accuracy 0.8199244867162262\n",
      "Baseline train MSE 69.30029353632543\n",
      "Baseline train MAE 37.66429231065366\n",
      "\n",
      "\n",
      "Baseline test accuracy 0.7940635717021842\n",
      "Baseline test MSE 74.65230197961498\n",
      "Baseline test MAE 40.537328259914645\n"
     ]
    },
    {
     "data": {
      "image/png": "[encoded data removed]",
      "text/plain": [
       "<Figure size 640x480 with 1 Axes>"
      ]
     },
     "metadata": {},
     "output_type": "display_data"
    }
   ],
   "source": [
    "baseline_train_preds = baseline_final_pipe.predict(baseline_X_train)\n",
    "baseline_test_preds = baseline_final_pipe.predict(baseline_X_test)\n",
    "\n",
    "print(f'Baseline train accuracy {baseline_final_pipe.score(baseline_X_train, baseline_y_train)}')\n",
    "print(f'Baseline train MSE {mean_squared_error(baseline_y_train, baseline_train_preds, squared = False)}')\n",
    "print(f'Baseline train MAE {mean_absolute_error(baseline_y_train, baseline_train_preds)}')\n",
    "print(f'\\n')\n",
    "print(f'Baseline test accuracy {baseline_final_pipe.score(baseline_X_test, baseline_y_test)}')\n",
    "print(f'Baseline test MSE {mean_squared_error(baseline_y_test, baseline_test_preds, squared = False)}')\n",
    "print(f'Baseline test MAE {mean_absolute_error(baseline_y_test, baseline_test_preds)}')\n",
    "\n",
    "sns.scatterplot(y = baseline_test_preds, x = baseline_y_test);\n",
    "\n",
    "#ADD MSE AND MAE"
   ]
  },
  {
   "cell_type": "markdown",
   "id": "e8ffcd3b",
   "metadata": {},
   "source": [
    "## Model 2 - Neural Network"
   ]
  },
  {
   "cell_type": "code",
   "execution_count": 370,
   "id": "bbdd5984",
   "metadata": {},
   "outputs": [],
   "source": [
    "#Neural Network"
   ]
  },
  {
   "cell_type": "code",
   "execution_count": 371,
   "id": "08e69646",
   "metadata": {},
   "outputs": [
    {
     "data": {
      "text/html": [
       "<div>\n",
       "<style scoped>\n",
       "    .dataframe tbody tr th:only-of-type {\n",
       "        vertical-align: middle;\n",
       "    }\n",
       "\n",
       "    .dataframe tbody tr th {\n",
       "        vertical-align: top;\n",
       "    }\n",
       "\n",
       "    .dataframe thead th {\n",
       "        text-align: right;\n",
       "    }\n",
       "</style>\n",
       "<table border=\"1\" class=\"dataframe\">\n",
       "  <thead>\n",
       "    <tr style=\"text-align: right;\">\n",
       "      <th></th>\n",
       "      <th>neighborhood</th>\n",
       "      <th>room_type</th>\n",
       "      <th>day_of_week</th>\n",
       "      <th>month</th>\n",
       "    </tr>\n",
       "  </thead>\n",
       "  <tbody>\n",
       "    <tr>\n",
       "      <th>0</th>\n",
       "      <td>Asheville</td>\n",
       "      <td>Entire home/apt</td>\n",
       "      <td>2</td>\n",
       "      <td>12</td>\n",
       "    </tr>\n",
       "    <tr>\n",
       "      <th>1</th>\n",
       "      <td>Asheville</td>\n",
       "      <td>Entire home/apt</td>\n",
       "      <td>3</td>\n",
       "      <td>12</td>\n",
       "    </tr>\n",
       "    <tr>\n",
       "      <th>2</th>\n",
       "      <td>Asheville</td>\n",
       "      <td>Entire home/apt</td>\n",
       "      <td>4</td>\n",
       "      <td>12</td>\n",
       "    </tr>\n",
       "    <tr>\n",
       "      <th>3</th>\n",
       "      <td>Asheville</td>\n",
       "      <td>Entire home/apt</td>\n",
       "      <td>5</td>\n",
       "      <td>12</td>\n",
       "    </tr>\n",
       "    <tr>\n",
       "      <th>4</th>\n",
       "      <td>Asheville</td>\n",
       "      <td>Entire home/apt</td>\n",
       "      <td>6</td>\n",
       "      <td>12</td>\n",
       "    </tr>\n",
       "    <tr>\n",
       "      <th>...</th>\n",
       "      <td>...</td>\n",
       "      <td>...</td>\n",
       "      <td>...</td>\n",
       "      <td>...</td>\n",
       "    </tr>\n",
       "    <tr>\n",
       "      <th>815735</th>\n",
       "      <td>Asheville</td>\n",
       "      <td>Entire home/apt</td>\n",
       "      <td>5</td>\n",
       "      <td>12</td>\n",
       "    </tr>\n",
       "    <tr>\n",
       "      <th>815736</th>\n",
       "      <td>Asheville</td>\n",
       "      <td>Entire home/apt</td>\n",
       "      <td>6</td>\n",
       "      <td>12</td>\n",
       "    </tr>\n",
       "    <tr>\n",
       "      <th>815737</th>\n",
       "      <td>Asheville</td>\n",
       "      <td>Entire home/apt</td>\n",
       "      <td>0</td>\n",
       "      <td>12</td>\n",
       "    </tr>\n",
       "    <tr>\n",
       "      <th>815738</th>\n",
       "      <td>Asheville</td>\n",
       "      <td>Entire home/apt</td>\n",
       "      <td>1</td>\n",
       "      <td>12</td>\n",
       "    </tr>\n",
       "    <tr>\n",
       "      <th>815739</th>\n",
       "      <td>Asheville</td>\n",
       "      <td>Entire home/apt</td>\n",
       "      <td>2</td>\n",
       "      <td>12</td>\n",
       "    </tr>\n",
       "  </tbody>\n",
       "</table>\n",
       "<p>815740 rows × 4 columns</p>\n",
       "</div>"
      ],
      "text/plain": [
       "       neighborhood        room_type  day_of_week  month\n",
       "0         Asheville  Entire home/apt            2     12\n",
       "1         Asheville  Entire home/apt            3     12\n",
       "2         Asheville  Entire home/apt            4     12\n",
       "3         Asheville  Entire home/apt            5     12\n",
       "4         Asheville  Entire home/apt            6     12\n",
       "...             ...              ...          ...    ...\n",
       "815735    Asheville  Entire home/apt            5     12\n",
       "815736    Asheville  Entire home/apt            6     12\n",
       "815737    Asheville  Entire home/apt            0     12\n",
       "815738    Asheville  Entire home/apt            1     12\n",
       "815739    Asheville  Entire home/apt            2     12\n",
       "\n",
       "[815740 rows x 4 columns]"
      ]
     },
     "execution_count": 371,
     "metadata": {},
     "output_type": "execute_result"
    }
   ],
   "source": [
    "model2_cat_cols = asheville_modeling_data[['neighborhood', 'room_type', 'day_of_week', 'month']]\n",
    "model2_cat_cols"
   ]
  },
  {
   "cell_type": "code",
   "execution_count": 372,
   "id": "4a1b8dad",
   "metadata": {},
   "outputs": [
    {
     "data": {
      "text/html": [
       "<div>\n",
       "<style scoped>\n",
       "    .dataframe tbody tr th:only-of-type {\n",
       "        vertical-align: middle;\n",
       "    }\n",
       "\n",
       "    .dataframe tbody tr th {\n",
       "        vertical-align: top;\n",
       "    }\n",
       "\n",
       "    .dataframe thead th {\n",
       "        text-align: right;\n",
       "    }\n",
       "</style>\n",
       "<table border=\"1\" class=\"dataframe\">\n",
       "  <thead>\n",
       "    <tr style=\"text-align: right;\">\n",
       "      <th></th>\n",
       "      <th>neighborhood_Asheville</th>\n",
       "      <th>neighborhood_Candler</th>\n",
       "      <th>neighborhood_Fletcher</th>\n",
       "      <th>neighborhood_Woodfin</th>\n",
       "      <th>room_type_Private room</th>\n",
       "      <th>day_of_week_1</th>\n",
       "      <th>day_of_week_2</th>\n",
       "      <th>day_of_week_3</th>\n",
       "      <th>day_of_week_4</th>\n",
       "      <th>day_of_week_5</th>\n",
       "      <th>...</th>\n",
       "      <th>month_3</th>\n",
       "      <th>month_4</th>\n",
       "      <th>month_5</th>\n",
       "      <th>month_6</th>\n",
       "      <th>month_7</th>\n",
       "      <th>month_8</th>\n",
       "      <th>month_9</th>\n",
       "      <th>month_10</th>\n",
       "      <th>month_11</th>\n",
       "      <th>month_12</th>\n",
       "    </tr>\n",
       "  </thead>\n",
       "  <tbody>\n",
       "    <tr>\n",
       "      <th>0</th>\n",
       "      <td>1.0</td>\n",
       "      <td>0.0</td>\n",
       "      <td>0.0</td>\n",
       "      <td>0.0</td>\n",
       "      <td>0.0</td>\n",
       "      <td>0.0</td>\n",
       "      <td>1.0</td>\n",
       "      <td>0.0</td>\n",
       "      <td>0.0</td>\n",
       "      <td>0.0</td>\n",
       "      <td>...</td>\n",
       "      <td>0.0</td>\n",
       "      <td>0.0</td>\n",
       "      <td>0.0</td>\n",
       "      <td>0.0</td>\n",
       "      <td>0.0</td>\n",
       "      <td>0.0</td>\n",
       "      <td>0.0</td>\n",
       "      <td>0.0</td>\n",
       "      <td>0.0</td>\n",
       "      <td>1.0</td>\n",
       "    </tr>\n",
       "    <tr>\n",
       "      <th>1</th>\n",
       "      <td>1.0</td>\n",
       "      <td>0.0</td>\n",
       "      <td>0.0</td>\n",
       "      <td>0.0</td>\n",
       "      <td>0.0</td>\n",
       "      <td>0.0</td>\n",
       "      <td>0.0</td>\n",
       "      <td>1.0</td>\n",
       "      <td>0.0</td>\n",
       "      <td>0.0</td>\n",
       "      <td>...</td>\n",
       "      <td>0.0</td>\n",
       "      <td>0.0</td>\n",
       "      <td>0.0</td>\n",
       "      <td>0.0</td>\n",
       "      <td>0.0</td>\n",
       "      <td>0.0</td>\n",
       "      <td>0.0</td>\n",
       "      <td>0.0</td>\n",
       "      <td>0.0</td>\n",
       "      <td>1.0</td>\n",
       "    </tr>\n",
       "    <tr>\n",
       "      <th>2</th>\n",
       "      <td>1.0</td>\n",
       "      <td>0.0</td>\n",
       "      <td>0.0</td>\n",
       "      <td>0.0</td>\n",
       "      <td>0.0</td>\n",
       "      <td>0.0</td>\n",
       "      <td>0.0</td>\n",
       "      <td>0.0</td>\n",
       "      <td>1.0</td>\n",
       "      <td>0.0</td>\n",
       "      <td>...</td>\n",
       "      <td>0.0</td>\n",
       "      <td>0.0</td>\n",
       "      <td>0.0</td>\n",
       "      <td>0.0</td>\n",
       "      <td>0.0</td>\n",
       "      <td>0.0</td>\n",
       "      <td>0.0</td>\n",
       "      <td>0.0</td>\n",
       "      <td>0.0</td>\n",
       "      <td>1.0</td>\n",
       "    </tr>\n",
       "    <tr>\n",
       "      <th>3</th>\n",
       "      <td>1.0</td>\n",
       "      <td>0.0</td>\n",
       "      <td>0.0</td>\n",
       "      <td>0.0</td>\n",
       "      <td>0.0</td>\n",
       "      <td>0.0</td>\n",
       "      <td>0.0</td>\n",
       "      <td>0.0</td>\n",
       "      <td>0.0</td>\n",
       "      <td>1.0</td>\n",
       "      <td>...</td>\n",
       "      <td>0.0</td>\n",
       "      <td>0.0</td>\n",
       "      <td>0.0</td>\n",
       "      <td>0.0</td>\n",
       "      <td>0.0</td>\n",
       "      <td>0.0</td>\n",
       "      <td>0.0</td>\n",
       "      <td>0.0</td>\n",
       "      <td>0.0</td>\n",
       "      <td>1.0</td>\n",
       "    </tr>\n",
       "    <tr>\n",
       "      <th>4</th>\n",
       "      <td>1.0</td>\n",
       "      <td>0.0</td>\n",
       "      <td>0.0</td>\n",
       "      <td>0.0</td>\n",
       "      <td>0.0</td>\n",
       "      <td>0.0</td>\n",
       "      <td>0.0</td>\n",
       "      <td>0.0</td>\n",
       "      <td>0.0</td>\n",
       "      <td>0.0</td>\n",
       "      <td>...</td>\n",
       "      <td>0.0</td>\n",
       "      <td>0.0</td>\n",
       "      <td>0.0</td>\n",
       "      <td>0.0</td>\n",
       "      <td>0.0</td>\n",
       "      <td>0.0</td>\n",
       "      <td>0.0</td>\n",
       "      <td>0.0</td>\n",
       "      <td>0.0</td>\n",
       "      <td>1.0</td>\n",
       "    </tr>\n",
       "    <tr>\n",
       "      <th>...</th>\n",
       "      <td>...</td>\n",
       "      <td>...</td>\n",
       "      <td>...</td>\n",
       "      <td>...</td>\n",
       "      <td>...</td>\n",
       "      <td>...</td>\n",
       "      <td>...</td>\n",
       "      <td>...</td>\n",
       "      <td>...</td>\n",
       "      <td>...</td>\n",
       "      <td>...</td>\n",
       "      <td>...</td>\n",
       "      <td>...</td>\n",
       "      <td>...</td>\n",
       "      <td>...</td>\n",
       "      <td>...</td>\n",
       "      <td>...</td>\n",
       "      <td>...</td>\n",
       "      <td>...</td>\n",
       "      <td>...</td>\n",
       "      <td>...</td>\n",
       "    </tr>\n",
       "    <tr>\n",
       "      <th>815735</th>\n",
       "      <td>1.0</td>\n",
       "      <td>0.0</td>\n",
       "      <td>0.0</td>\n",
       "      <td>0.0</td>\n",
       "      <td>0.0</td>\n",
       "      <td>0.0</td>\n",
       "      <td>0.0</td>\n",
       "      <td>0.0</td>\n",
       "      <td>0.0</td>\n",
       "      <td>1.0</td>\n",
       "      <td>...</td>\n",
       "      <td>0.0</td>\n",
       "      <td>0.0</td>\n",
       "      <td>0.0</td>\n",
       "      <td>0.0</td>\n",
       "      <td>0.0</td>\n",
       "      <td>0.0</td>\n",
       "      <td>0.0</td>\n",
       "      <td>0.0</td>\n",
       "      <td>0.0</td>\n",
       "      <td>1.0</td>\n",
       "    </tr>\n",
       "    <tr>\n",
       "      <th>815736</th>\n",
       "      <td>1.0</td>\n",
       "      <td>0.0</td>\n",
       "      <td>0.0</td>\n",
       "      <td>0.0</td>\n",
       "      <td>0.0</td>\n",
       "      <td>0.0</td>\n",
       "      <td>0.0</td>\n",
       "      <td>0.0</td>\n",
       "      <td>0.0</td>\n",
       "      <td>0.0</td>\n",
       "      <td>...</td>\n",
       "      <td>0.0</td>\n",
       "      <td>0.0</td>\n",
       "      <td>0.0</td>\n",
       "      <td>0.0</td>\n",
       "      <td>0.0</td>\n",
       "      <td>0.0</td>\n",
       "      <td>0.0</td>\n",
       "      <td>0.0</td>\n",
       "      <td>0.0</td>\n",
       "      <td>1.0</td>\n",
       "    </tr>\n",
       "    <tr>\n",
       "      <th>815737</th>\n",
       "      <td>1.0</td>\n",
       "      <td>0.0</td>\n",
       "      <td>0.0</td>\n",
       "      <td>0.0</td>\n",
       "      <td>0.0</td>\n",
       "      <td>0.0</td>\n",
       "      <td>0.0</td>\n",
       "      <td>0.0</td>\n",
       "      <td>0.0</td>\n",
       "      <td>0.0</td>\n",
       "      <td>...</td>\n",
       "      <td>0.0</td>\n",
       "      <td>0.0</td>\n",
       "      <td>0.0</td>\n",
       "      <td>0.0</td>\n",
       "      <td>0.0</td>\n",
       "      <td>0.0</td>\n",
       "      <td>0.0</td>\n",
       "      <td>0.0</td>\n",
       "      <td>0.0</td>\n",
       "      <td>1.0</td>\n",
       "    </tr>\n",
       "    <tr>\n",
       "      <th>815738</th>\n",
       "      <td>1.0</td>\n",
       "      <td>0.0</td>\n",
       "      <td>0.0</td>\n",
       "      <td>0.0</td>\n",
       "      <td>0.0</td>\n",
       "      <td>1.0</td>\n",
       "      <td>0.0</td>\n",
       "      <td>0.0</td>\n",
       "      <td>0.0</td>\n",
       "      <td>0.0</td>\n",
       "      <td>...</td>\n",
       "      <td>0.0</td>\n",
       "      <td>0.0</td>\n",
       "      <td>0.0</td>\n",
       "      <td>0.0</td>\n",
       "      <td>0.0</td>\n",
       "      <td>0.0</td>\n",
       "      <td>0.0</td>\n",
       "      <td>0.0</td>\n",
       "      <td>0.0</td>\n",
       "      <td>1.0</td>\n",
       "    </tr>\n",
       "    <tr>\n",
       "      <th>815739</th>\n",
       "      <td>1.0</td>\n",
       "      <td>0.0</td>\n",
       "      <td>0.0</td>\n",
       "      <td>0.0</td>\n",
       "      <td>0.0</td>\n",
       "      <td>0.0</td>\n",
       "      <td>1.0</td>\n",
       "      <td>0.0</td>\n",
       "      <td>0.0</td>\n",
       "      <td>0.0</td>\n",
       "      <td>...</td>\n",
       "      <td>0.0</td>\n",
       "      <td>0.0</td>\n",
       "      <td>0.0</td>\n",
       "      <td>0.0</td>\n",
       "      <td>0.0</td>\n",
       "      <td>0.0</td>\n",
       "      <td>0.0</td>\n",
       "      <td>0.0</td>\n",
       "      <td>0.0</td>\n",
       "      <td>1.0</td>\n",
       "    </tr>\n",
       "  </tbody>\n",
       "</table>\n",
       "<p>815740 rows × 22 columns</p>\n",
       "</div>"
      ],
      "text/plain": [
       "        neighborhood_Asheville  neighborhood_Candler  neighborhood_Fletcher  \\\n",
       "0                          1.0                   0.0                    0.0   \n",
       "1                          1.0                   0.0                    0.0   \n",
       "2                          1.0                   0.0                    0.0   \n",
       "3                          1.0                   0.0                    0.0   \n",
       "4                          1.0                   0.0                    0.0   \n",
       "...                        ...                   ...                    ...   \n",
       "815735                     1.0                   0.0                    0.0   \n",
       "815736                     1.0                   0.0                    0.0   \n",
       "815737                     1.0                   0.0                    0.0   \n",
       "815738                     1.0                   0.0                    0.0   \n",
       "815739                     1.0                   0.0                    0.0   \n",
       "\n",
       "        neighborhood_Woodfin  room_type_Private room  day_of_week_1  \\\n",
       "0                        0.0                     0.0            0.0   \n",
       "1                        0.0                     0.0            0.0   \n",
       "2                        0.0                     0.0            0.0   \n",
       "3                        0.0                     0.0            0.0   \n",
       "4                        0.0                     0.0            0.0   \n",
       "...                      ...                     ...            ...   \n",
       "815735                   0.0                     0.0            0.0   \n",
       "815736                   0.0                     0.0            0.0   \n",
       "815737                   0.0                     0.0            0.0   \n",
       "815738                   0.0                     0.0            1.0   \n",
       "815739                   0.0                     0.0            0.0   \n",
       "\n",
       "        day_of_week_2  day_of_week_3  day_of_week_4  day_of_week_5  ...  \\\n",
       "0                 1.0            0.0            0.0            0.0  ...   \n",
       "1                 0.0            1.0            0.0            0.0  ...   \n",
       "2                 0.0            0.0            1.0            0.0  ...   \n",
       "3                 0.0            0.0            0.0            1.0  ...   \n",
       "4                 0.0            0.0            0.0            0.0  ...   \n",
       "...               ...            ...            ...            ...  ...   \n",
       "815735            0.0            0.0            0.0            1.0  ...   \n",
       "815736            0.0            0.0            0.0            0.0  ...   \n",
       "815737            0.0            0.0            0.0            0.0  ...   \n",
       "815738            0.0            0.0            0.0            0.0  ...   \n",
       "815739            1.0            0.0            0.0            0.0  ...   \n",
       "\n",
       "        month_3  month_4  month_5  month_6  month_7  month_8  month_9  \\\n",
       "0           0.0      0.0      0.0      0.0      0.0      0.0      0.0   \n",
       "1           0.0      0.0      0.0      0.0      0.0      0.0      0.0   \n",
       "2           0.0      0.0      0.0      0.0      0.0      0.0      0.0   \n",
       "3           0.0      0.0      0.0      0.0      0.0      0.0      0.0   \n",
       "4           0.0      0.0      0.0      0.0      0.0      0.0      0.0   \n",
       "...         ...      ...      ...      ...      ...      ...      ...   \n",
       "815735      0.0      0.0      0.0      0.0      0.0      0.0      0.0   \n",
       "815736      0.0      0.0      0.0      0.0      0.0      0.0      0.0   \n",
       "815737      0.0      0.0      0.0      0.0      0.0      0.0      0.0   \n",
       "815738      0.0      0.0      0.0      0.0      0.0      0.0      0.0   \n",
       "815739      0.0      0.0      0.0      0.0      0.0      0.0      0.0   \n",
       "\n",
       "        month_10  month_11  month_12  \n",
       "0            0.0       0.0       1.0  \n",
       "1            0.0       0.0       1.0  \n",
       "2            0.0       0.0       1.0  \n",
       "3            0.0       0.0       1.0  \n",
       "4            0.0       0.0       1.0  \n",
       "...          ...       ...       ...  \n",
       "815735       0.0       0.0       1.0  \n",
       "815736       0.0       0.0       1.0  \n",
       "815737       0.0       0.0       1.0  \n",
       "815738       0.0       0.0       1.0  \n",
       "815739       0.0       0.0       1.0  \n",
       "\n",
       "[815740 rows x 22 columns]"
      ]
     },
     "execution_count": 372,
     "metadata": {},
     "output_type": "execute_result"
    }
   ],
   "source": [
    "#One hot encode the categorical columns\n",
    "model2_sklearn = asheville_modeling_data\n",
    "model2_cat = model2_sklearn[['neighborhood', 'room_type', 'day_of_week', 'month']]\n",
    "\n",
    "ohe = OneHotEncoder(drop=\"first\", sparse=False)\n",
    "ohe.fit(model2_cat)\n",
    "\n",
    "model2_cat_ohe = pd.DataFrame(data = ohe.transform(model2_cat),\n",
    "                              columns = ohe.get_feature_names_out())\n",
    "model2_cat_ohe"
   ]
  },
  {
   "cell_type": "code",
   "execution_count": 373,
   "id": "44ca8c08",
   "metadata": {},
   "outputs": [
    {
     "data": {
      "text/html": [
       "<div>\n",
       "<style scoped>\n",
       "    .dataframe tbody tr th:only-of-type {\n",
       "        vertical-align: middle;\n",
       "    }\n",
       "\n",
       "    .dataframe tbody tr th {\n",
       "        vertical-align: top;\n",
       "    }\n",
       "\n",
       "    .dataframe thead th {\n",
       "        text-align: right;\n",
       "    }\n",
       "</style>\n",
       "<table border=\"1\" class=\"dataframe\">\n",
       "  <thead>\n",
       "    <tr style=\"text-align: right;\">\n",
       "      <th></th>\n",
       "      <th>daily_price</th>\n",
       "      <th>host_is_superhost</th>\n",
       "      <th>accommodates</th>\n",
       "      <th>bedrooms</th>\n",
       "      <th>beds</th>\n",
       "      <th>bathrooms</th>\n",
       "      <th>Air conditioning</th>\n",
       "      <th>Wifi</th>\n",
       "      <th>TV</th>\n",
       "      <th>Kitchen</th>\n",
       "      <th>...</th>\n",
       "      <th>month_3</th>\n",
       "      <th>month_4</th>\n",
       "      <th>month_5</th>\n",
       "      <th>month_6</th>\n",
       "      <th>month_7</th>\n",
       "      <th>month_8</th>\n",
       "      <th>month_9</th>\n",
       "      <th>month_10</th>\n",
       "      <th>month_11</th>\n",
       "      <th>month_12</th>\n",
       "    </tr>\n",
       "  </thead>\n",
       "  <tbody>\n",
       "    <tr>\n",
       "      <th>0</th>\n",
       "      <td>120.0</td>\n",
       "      <td>0</td>\n",
       "      <td>2</td>\n",
       "      <td>1.0</td>\n",
       "      <td>1.0</td>\n",
       "      <td>1.0</td>\n",
       "      <td>1</td>\n",
       "      <td>1</td>\n",
       "      <td>0</td>\n",
       "      <td>1</td>\n",
       "      <td>...</td>\n",
       "      <td>0.0</td>\n",
       "      <td>0.0</td>\n",
       "      <td>0.0</td>\n",
       "      <td>0.0</td>\n",
       "      <td>0.0</td>\n",
       "      <td>0.0</td>\n",
       "      <td>0.0</td>\n",
       "      <td>0.0</td>\n",
       "      <td>0.0</td>\n",
       "      <td>1.0</td>\n",
       "    </tr>\n",
       "    <tr>\n",
       "      <th>1</th>\n",
       "      <td>120.0</td>\n",
       "      <td>0</td>\n",
       "      <td>2</td>\n",
       "      <td>1.0</td>\n",
       "      <td>1.0</td>\n",
       "      <td>1.0</td>\n",
       "      <td>1</td>\n",
       "      <td>1</td>\n",
       "      <td>0</td>\n",
       "      <td>1</td>\n",
       "      <td>...</td>\n",
       "      <td>0.0</td>\n",
       "      <td>0.0</td>\n",
       "      <td>0.0</td>\n",
       "      <td>0.0</td>\n",
       "      <td>0.0</td>\n",
       "      <td>0.0</td>\n",
       "      <td>0.0</td>\n",
       "      <td>0.0</td>\n",
       "      <td>0.0</td>\n",
       "      <td>1.0</td>\n",
       "    </tr>\n",
       "    <tr>\n",
       "      <th>2</th>\n",
       "      <td>120.0</td>\n",
       "      <td>0</td>\n",
       "      <td>2</td>\n",
       "      <td>1.0</td>\n",
       "      <td>1.0</td>\n",
       "      <td>1.0</td>\n",
       "      <td>1</td>\n",
       "      <td>1</td>\n",
       "      <td>0</td>\n",
       "      <td>1</td>\n",
       "      <td>...</td>\n",
       "      <td>0.0</td>\n",
       "      <td>0.0</td>\n",
       "      <td>0.0</td>\n",
       "      <td>0.0</td>\n",
       "      <td>0.0</td>\n",
       "      <td>0.0</td>\n",
       "      <td>0.0</td>\n",
       "      <td>0.0</td>\n",
       "      <td>0.0</td>\n",
       "      <td>1.0</td>\n",
       "    </tr>\n",
       "    <tr>\n",
       "      <th>3</th>\n",
       "      <td>120.0</td>\n",
       "      <td>0</td>\n",
       "      <td>2</td>\n",
       "      <td>1.0</td>\n",
       "      <td>1.0</td>\n",
       "      <td>1.0</td>\n",
       "      <td>1</td>\n",
       "      <td>1</td>\n",
       "      <td>0</td>\n",
       "      <td>1</td>\n",
       "      <td>...</td>\n",
       "      <td>0.0</td>\n",
       "      <td>0.0</td>\n",
       "      <td>0.0</td>\n",
       "      <td>0.0</td>\n",
       "      <td>0.0</td>\n",
       "      <td>0.0</td>\n",
       "      <td>0.0</td>\n",
       "      <td>0.0</td>\n",
       "      <td>0.0</td>\n",
       "      <td>1.0</td>\n",
       "    </tr>\n",
       "    <tr>\n",
       "      <th>4</th>\n",
       "      <td>120.0</td>\n",
       "      <td>0</td>\n",
       "      <td>2</td>\n",
       "      <td>1.0</td>\n",
       "      <td>1.0</td>\n",
       "      <td>1.0</td>\n",
       "      <td>1</td>\n",
       "      <td>1</td>\n",
       "      <td>0</td>\n",
       "      <td>1</td>\n",
       "      <td>...</td>\n",
       "      <td>0.0</td>\n",
       "      <td>0.0</td>\n",
       "      <td>0.0</td>\n",
       "      <td>0.0</td>\n",
       "      <td>0.0</td>\n",
       "      <td>0.0</td>\n",
       "      <td>0.0</td>\n",
       "      <td>0.0</td>\n",
       "      <td>0.0</td>\n",
       "      <td>1.0</td>\n",
       "    </tr>\n",
       "    <tr>\n",
       "      <th>...</th>\n",
       "      <td>...</td>\n",
       "      <td>...</td>\n",
       "      <td>...</td>\n",
       "      <td>...</td>\n",
       "      <td>...</td>\n",
       "      <td>...</td>\n",
       "      <td>...</td>\n",
       "      <td>...</td>\n",
       "      <td>...</td>\n",
       "      <td>...</td>\n",
       "      <td>...</td>\n",
       "      <td>...</td>\n",
       "      <td>...</td>\n",
       "      <td>...</td>\n",
       "      <td>...</td>\n",
       "      <td>...</td>\n",
       "      <td>...</td>\n",
       "      <td>...</td>\n",
       "      <td>...</td>\n",
       "      <td>...</td>\n",
       "      <td>...</td>\n",
       "    </tr>\n",
       "    <tr>\n",
       "      <th>815735</th>\n",
       "      <td>165.0</td>\n",
       "      <td>1</td>\n",
       "      <td>3</td>\n",
       "      <td>1.0</td>\n",
       "      <td>1.0</td>\n",
       "      <td>1.0</td>\n",
       "      <td>1</td>\n",
       "      <td>1</td>\n",
       "      <td>1</td>\n",
       "      <td>1</td>\n",
       "      <td>...</td>\n",
       "      <td>0.0</td>\n",
       "      <td>0.0</td>\n",
       "      <td>0.0</td>\n",
       "      <td>0.0</td>\n",
       "      <td>0.0</td>\n",
       "      <td>0.0</td>\n",
       "      <td>0.0</td>\n",
       "      <td>0.0</td>\n",
       "      <td>0.0</td>\n",
       "      <td>1.0</td>\n",
       "    </tr>\n",
       "    <tr>\n",
       "      <th>815736</th>\n",
       "      <td>150.0</td>\n",
       "      <td>1</td>\n",
       "      <td>3</td>\n",
       "      <td>1.0</td>\n",
       "      <td>1.0</td>\n",
       "      <td>1.0</td>\n",
       "      <td>1</td>\n",
       "      <td>1</td>\n",
       "      <td>1</td>\n",
       "      <td>1</td>\n",
       "      <td>...</td>\n",
       "      <td>0.0</td>\n",
       "      <td>0.0</td>\n",
       "      <td>0.0</td>\n",
       "      <td>0.0</td>\n",
       "      <td>0.0</td>\n",
       "      <td>0.0</td>\n",
       "      <td>0.0</td>\n",
       "      <td>0.0</td>\n",
       "      <td>0.0</td>\n",
       "      <td>1.0</td>\n",
       "    </tr>\n",
       "    <tr>\n",
       "      <th>815737</th>\n",
       "      <td>150.0</td>\n",
       "      <td>1</td>\n",
       "      <td>3</td>\n",
       "      <td>1.0</td>\n",
       "      <td>1.0</td>\n",
       "      <td>1.0</td>\n",
       "      <td>1</td>\n",
       "      <td>1</td>\n",
       "      <td>1</td>\n",
       "      <td>1</td>\n",
       "      <td>...</td>\n",
       "      <td>0.0</td>\n",
       "      <td>0.0</td>\n",
       "      <td>0.0</td>\n",
       "      <td>0.0</td>\n",
       "      <td>0.0</td>\n",
       "      <td>0.0</td>\n",
       "      <td>0.0</td>\n",
       "      <td>0.0</td>\n",
       "      <td>0.0</td>\n",
       "      <td>1.0</td>\n",
       "    </tr>\n",
       "    <tr>\n",
       "      <th>815738</th>\n",
       "      <td>150.0</td>\n",
       "      <td>1</td>\n",
       "      <td>3</td>\n",
       "      <td>1.0</td>\n",
       "      <td>1.0</td>\n",
       "      <td>1.0</td>\n",
       "      <td>1</td>\n",
       "      <td>1</td>\n",
       "      <td>1</td>\n",
       "      <td>1</td>\n",
       "      <td>...</td>\n",
       "      <td>0.0</td>\n",
       "      <td>0.0</td>\n",
       "      <td>0.0</td>\n",
       "      <td>0.0</td>\n",
       "      <td>0.0</td>\n",
       "      <td>0.0</td>\n",
       "      <td>0.0</td>\n",
       "      <td>0.0</td>\n",
       "      <td>0.0</td>\n",
       "      <td>1.0</td>\n",
       "    </tr>\n",
       "    <tr>\n",
       "      <th>815739</th>\n",
       "      <td>150.0</td>\n",
       "      <td>1</td>\n",
       "      <td>3</td>\n",
       "      <td>1.0</td>\n",
       "      <td>1.0</td>\n",
       "      <td>1.0</td>\n",
       "      <td>1</td>\n",
       "      <td>1</td>\n",
       "      <td>1</td>\n",
       "      <td>1</td>\n",
       "      <td>...</td>\n",
       "      <td>0.0</td>\n",
       "      <td>0.0</td>\n",
       "      <td>0.0</td>\n",
       "      <td>0.0</td>\n",
       "      <td>0.0</td>\n",
       "      <td>0.0</td>\n",
       "      <td>0.0</td>\n",
       "      <td>0.0</td>\n",
       "      <td>0.0</td>\n",
       "      <td>1.0</td>\n",
       "    </tr>\n",
       "  </tbody>\n",
       "</table>\n",
       "<p>815740 rows × 35 columns</p>\n",
       "</div>"
      ],
      "text/plain": [
       "        daily_price  host_is_superhost  accommodates  bedrooms  beds  \\\n",
       "0             120.0                  0             2       1.0   1.0   \n",
       "1             120.0                  0             2       1.0   1.0   \n",
       "2             120.0                  0             2       1.0   1.0   \n",
       "3             120.0                  0             2       1.0   1.0   \n",
       "4             120.0                  0             2       1.0   1.0   \n",
       "...             ...                ...           ...       ...   ...   \n",
       "815735        165.0                  1             3       1.0   1.0   \n",
       "815736        150.0                  1             3       1.0   1.0   \n",
       "815737        150.0                  1             3       1.0   1.0   \n",
       "815738        150.0                  1             3       1.0   1.0   \n",
       "815739        150.0                  1             3       1.0   1.0   \n",
       "\n",
       "        bathrooms  Air conditioning  Wifi  TV  Kitchen  ...  month_3  month_4  \\\n",
       "0             1.0                 1     1   0        1  ...      0.0      0.0   \n",
       "1             1.0                 1     1   0        1  ...      0.0      0.0   \n",
       "2             1.0                 1     1   0        1  ...      0.0      0.0   \n",
       "3             1.0                 1     1   0        1  ...      0.0      0.0   \n",
       "4             1.0                 1     1   0        1  ...      0.0      0.0   \n",
       "...           ...               ...   ...  ..      ...  ...      ...      ...   \n",
       "815735        1.0                 1     1   1        1  ...      0.0      0.0   \n",
       "815736        1.0                 1     1   1        1  ...      0.0      0.0   \n",
       "815737        1.0                 1     1   1        1  ...      0.0      0.0   \n",
       "815738        1.0                 1     1   1        1  ...      0.0      0.0   \n",
       "815739        1.0                 1     1   1        1  ...      0.0      0.0   \n",
       "\n",
       "        month_5  month_6  month_7  month_8  month_9  month_10  month_11  \\\n",
       "0           0.0      0.0      0.0      0.0      0.0       0.0       0.0   \n",
       "1           0.0      0.0      0.0      0.0      0.0       0.0       0.0   \n",
       "2           0.0      0.0      0.0      0.0      0.0       0.0       0.0   \n",
       "3           0.0      0.0      0.0      0.0      0.0       0.0       0.0   \n",
       "4           0.0      0.0      0.0      0.0      0.0       0.0       0.0   \n",
       "...         ...      ...      ...      ...      ...       ...       ...   \n",
       "815735      0.0      0.0      0.0      0.0      0.0       0.0       0.0   \n",
       "815736      0.0      0.0      0.0      0.0      0.0       0.0       0.0   \n",
       "815737      0.0      0.0      0.0      0.0      0.0       0.0       0.0   \n",
       "815738      0.0      0.0      0.0      0.0      0.0       0.0       0.0   \n",
       "815739      0.0      0.0      0.0      0.0      0.0       0.0       0.0   \n",
       "\n",
       "        month_12  \n",
       "0            1.0  \n",
       "1            1.0  \n",
       "2            1.0  \n",
       "3            1.0  \n",
       "4            1.0  \n",
       "...          ...  \n",
       "815735       1.0  \n",
       "815736       1.0  \n",
       "815737       1.0  \n",
       "815738       1.0  \n",
       "815739       1.0  \n",
       "\n",
       "[815740 rows x 35 columns]"
      ]
     },
     "execution_count": 373,
     "metadata": {},
     "output_type": "execute_result"
    }
   ],
   "source": [
    "#Merge the one hot encoded dataframe and the numeric columns\n",
    "model2_numeric = asheville_modeling_data[['daily_price', 'host_is_superhost', 'accommodates', 'bedrooms', 'beds', \n",
    "                                          'bathrooms', 'Air conditioning', 'Wifi', 'TV', 'Kitchen', 'Washer', \n",
    "                                          'Dryer', 'Heating']]\n",
    "\n",
    "model2_comb_ohe = model2_numeric.join(model2_cat_ohe, how = 'left')\n",
    "model2_comb_ohe\n"
   ]
  },
  {
   "cell_type": "code",
   "execution_count": 374,
   "id": "5dcd090e",
   "metadata": {},
   "outputs": [],
   "source": [
    "model2_X = model2_comb_ohe.drop(['daily_price'], axis = 1)\n",
    "model2_y = model2_comb_ohe['daily_price']\n",
    "\n",
    "model2_X_train, model2_X_test, model2_y_train, model2_y_test = train_test_split(model2_X, \n",
    "                                                                                model2_y, \n",
    "                                                                                test_size = 0.18)\n",
    "\n",
    "model2_X_train, model2_X_val, model2_y_train, model2_y_val = train_test_split(model2_X_train, \n",
    "                                                                              model2_y_train,\n",
    "                                                                              test_size = 0.12)\n",
    "\n",
    "#### Instantiate a new scaler\n",
    "scaler = StandardScaler()\n",
    "\n",
    "model2_X_train_scaled = scaler.fit_transform(model2_X_train)\n",
    "model2_X_test_scaled = scaler.transform(model2_X_test)\n",
    "model2_X_val_scaled = scaler.transform(model2_X_val)"
   ]
  },
  {
   "cell_type": "code",
   "execution_count": 375,
   "id": "33211fa3",
   "metadata": {},
   "outputs": [
    {
     "data": {
      "text/plain": [
       "(588637, 34)"
      ]
     },
     "execution_count": 375,
     "metadata": {},
     "output_type": "execute_result"
    }
   ],
   "source": [
    "model2_X_train.shape"
   ]
  },
  {
   "cell_type": "code",
   "execution_count": 376,
   "id": "f78ab0cc",
   "metadata": {},
   "outputs": [
    {
     "data": {
      "text/plain": [
       "(80269, 34)"
      ]
     },
     "execution_count": 376,
     "metadata": {},
     "output_type": "execute_result"
    }
   ],
   "source": [
    "model2_X_val.shape"
   ]
  },
  {
   "cell_type": "code",
   "execution_count": 377,
   "id": "f8223a68",
   "metadata": {},
   "outputs": [
    {
     "data": {
      "text/plain": [
       "(146834, 34)"
      ]
     },
     "execution_count": 377,
     "metadata": {},
     "output_type": "execute_result"
    }
   ],
   "source": [
    "model2_X_test.shape"
   ]
  },
  {
   "cell_type": "code",
   "execution_count": 378,
   "id": "c2ecaa85",
   "metadata": {},
   "outputs": [],
   "source": [
    "#Consider adding a decaying learning rate"
   ]
  },
  {
   "cell_type": "code",
   "execution_count": 379,
   "id": "ad928364",
   "metadata": {},
   "outputs": [
    {
     "data": {
      "text/plain": [
       "(588637, 34)"
      ]
     },
     "execution_count": 379,
     "metadata": {},
     "output_type": "execute_result"
    }
   ],
   "source": [
    "model2_X_train_scaled.shape"
   ]
  },
  {
   "cell_type": "code",
   "execution_count": 380,
   "id": "74fc3295",
   "metadata": {},
   "outputs": [
    {
     "name": "stdout",
     "output_type": "stream",
     "text": [
      "Epoch 1/50\n",
      "  5/589 [..............................] - ETA: 8s - loss: 196.6895 - mse: 64666.3008 - mae: 196.6245  "
     ]
    },
    {
     "name": "stderr",
     "output_type": "stream",
     "text": [
      "2022-12-20 12:04:36.166294: I tensorflow/core/grappler/optimizers/custom_graph_optimizer_registry.cc:113] Plugin optimizer for device_type GPU is enabled.\n"
     ]
    },
    {
     "name": "stdout",
     "output_type": "stream",
     "text": [
      "589/589 [==============================] - ETA: 0s - loss: 197.7205 - mse: 65850.8281 - mae: 197.6528"
     ]
    },
    {
     "name": "stderr",
     "output_type": "stream",
     "text": [
      "2022-12-20 12:04:40.032832: I tensorflow/core/grappler/optimizers/custom_graph_optimizer_registry.cc:113] Plugin optimizer for device_type GPU is enabled.\n"
     ]
    },
    {
     "name": "stdout",
     "output_type": "stream",
     "text": [
      "589/589 [==============================] - 4s 7ms/step - loss: 197.7205 - mse: 65850.8281 - mae: 197.6528 - val_loss: 196.7392 - val_mse: 65760.8594 - val_mae: 196.6668\n",
      "Epoch 2/50\n",
      "589/589 [==============================] - 4s 6ms/step - loss: 196.3577 - mse: 65259.1250 - mae: 196.2767 - val_loss: 195.2653 - val_mse: 65127.5273 - val_mae: 195.1743\n",
      "Epoch 3/50\n",
      "589/589 [==============================] - 4s 7ms/step - loss: 194.7352 - mse: 64566.5039 - mae: 194.6308 - val_loss: 193.5112 - val_mse: 64385.4336 - val_mae: 193.3925\n",
      "Epoch 4/50\n",
      "589/589 [==============================] - 4s 7ms/step - loss: 192.8278 - mse: 63767.8867 - mae: 192.6916 - val_loss: 191.4660 - val_mse: 63534.4766 - val_mae: 191.3109\n",
      "Epoch 5/50\n",
      "589/589 [==============================] - 4s 7ms/step - loss: 190.6105 - mse: 62854.6602 - mae: 190.4338 - val_loss: 189.1107 - val_mse: 62573.3359 - val_mae: 188.9106\n",
      "Epoch 6/50\n",
      "589/589 [==============================] - 4s 7ms/step - loss: 188.0880 - mse: 61846.1406 - mae: 187.8620 - val_loss: 186.4447 - val_mse: 61509.2539 - val_mae: 186.1917\n",
      "Epoch 7/50\n",
      "589/589 [==============================] - 4s 7ms/step - loss: 185.2688 - mse: 60749.9336 - mae: 184.9868 - val_loss: 183.4817 - val_mse: 60350.8633 - val_mae: 183.1694\n",
      "Epoch 8/50\n",
      "589/589 [==============================] - 4s 7ms/step - loss: 182.1503 - mse: 59559.0430 - mae: 181.8060 - val_loss: 180.2369 - val_mse: 59106.8359 - val_mae: 179.8595\n",
      "Epoch 9/50\n",
      "589/589 [==============================] - 4s 7ms/step - loss: 178.8191 - mse: 58305.5078 - mae: 178.4072 - val_loss: 176.7445 - val_mse: 57789.4102 - val_mae: 176.2970\n",
      "Epoch 10/50\n",
      "589/589 [==============================] - 4s 7ms/step - loss: 175.2350 - mse: 56967.5078 - mae: 174.7503 - val_loss: 173.0332 - val_mse: 56407.4570 - val_mae: 172.5106\n",
      "Epoch 11/50\n",
      "589/589 [==============================] - 4s 7ms/step - loss: 171.5383 - mse: 55603.9648 - mae: 170.9763 - val_loss: 169.1533 - val_mse: 54972.0547 - val_mae: 168.5514\n",
      "Epoch 12/50\n",
      "589/589 [==============================] - 5s 8ms/step - loss: 167.7006 - mse: 54190.3008 - mae: 167.0575 - val_loss: 165.1236 - val_mse: 53490.4531 - val_mae: 164.4387\n",
      "Epoch 13/50\n",
      "589/589 [==============================] - 4s 7ms/step - loss: 163.8035 - mse: 52754.4141 - mae: 163.0760 - val_loss: 160.9809 - val_mse: 51973.6836 - val_mae: 160.2100\n",
      "Epoch 14/50\n",
      "589/589 [==============================] - 4s 7ms/step - loss: 159.8525 - mse: 51320.9883 - mae: 159.0377 - val_loss: 156.7411 - val_mse: 50428.1445 - val_mae: 155.8820\n",
      "Epoch 15/50\n",
      "589/589 [==============================] - 4s 7ms/step - loss: 155.8853 - mse: 49842.2969 - mae: 154.9816 - val_loss: 152.4336 - val_mse: 48861.2109 - val_mae: 151.4848\n",
      "Epoch 16/50\n",
      "589/589 [==============================] - 4s 7ms/step - loss: 151.9429 - mse: 48350.3828 - mae: 150.9489 - val_loss: 148.0918 - val_mse: 47283.7617 - val_mae: 147.0528\n",
      "Epoch 17/50\n",
      "589/589 [==============================] - 4s 7ms/step - loss: 148.0603 - mse: 46882.4102 - mae: 146.9763 - val_loss: 143.7285 - val_mse: 45703.0156 - val_mae: 142.5991\n",
      "Epoch 18/50\n",
      "589/589 [==============================] - 4s 7ms/step - loss: 144.2762 - mse: 45421.0820 - mae: 143.1020 - val_loss: 139.3824 - val_mse: 44128.3086 - val_mae: 138.1630\n",
      "Epoch 19/50\n",
      "589/589 [==============================] - 4s 7ms/step - loss: 140.7187 - mse: 44019.5742 - mae: 139.4551 - val_loss: 135.1014 - val_mse: 42568.8516 - val_mae: 133.7940\n",
      "Epoch 20/50\n",
      "589/589 [==============================] - 4s 7ms/step - loss: 137.1721 - mse: 42617.6016 - mae: 135.8217 - val_loss: 130.8973 - val_mse: 41027.9453 - val_mae: 129.5044\n",
      "Epoch 21/50\n",
      "589/589 [==============================] - 4s 7ms/step - loss: 133.8730 - mse: 41298.5039 - mae: 132.4391 - val_loss: 126.8118 - val_mse: 39512.5430 - val_mae: 125.3373\n",
      "Epoch 22/50\n",
      "589/589 [==============================] - 4s 7ms/step - loss: 130.6556 - mse: 39982.7773 - mae: 129.1417 - val_loss: 122.8521 - val_mse: 38023.8516 - val_mae: 121.2996\n",
      "Epoch 23/50\n",
      "589/589 [==============================] - 4s 7ms/step - loss: 127.5551 - mse: 38663.3164 - mae: 125.9659 - val_loss: 119.0332 - val_mse: 36560.9102 - val_mae: 117.4078\n",
      "Epoch 24/50\n",
      "589/589 [==============================] - 4s 7ms/step - loss: 124.8029 - mse: 37425.2383 - mae: 123.1435 - val_loss: 115.3631 - val_mse: 35132.0430 - val_mae: 113.6701\n",
      "Epoch 25/50\n",
      "589/589 [==============================] - 4s 7ms/step - loss: 122.0994 - mse: 36230.2539 - mae: 120.3753 - val_loss: 111.8662 - val_mse: 33742.2148 - val_mae: 110.1122\n",
      "Epoch 26/50\n",
      "589/589 [==============================] - 4s 7ms/step - loss: 119.5173 - mse: 35027.3242 - mae: 117.7351 - val_loss: 108.5374 - val_mse: 32394.8047 - val_mae: 106.7281\n",
      "Epoch 27/50\n",
      "589/589 [==============================] - 4s 7ms/step - loss: 117.2467 - mse: 34011.3555 - mae: 115.4118 - val_loss: 105.3708 - val_mse: 31093.9609 - val_mae: 103.5114\n",
      "Epoch 28/50\n",
      "589/589 [==============================] - 4s 7ms/step - loss: 115.1292 - mse: 32898.9883 - mae: 113.2470 - val_loss: 102.3811 - val_mse: 29844.2812 - val_mae: 100.4768\n",
      "Epoch 29/50\n",
      "589/589 [==============================] - 4s 7ms/step - loss: 113.0973 - mse: 31883.1094 - mae: 111.1720 - val_loss: 99.5644 - val_mse: 28647.8965 - val_mae: 97.6192\n",
      "Epoch 30/50\n",
      "589/589 [==============================] - 4s 7ms/step - loss: 111.4209 - mse: 31037.4004 - mae: 109.4575 - val_loss: 96.9397 - val_mse: 27517.0488 - val_mae: 94.9585\n",
      "Epoch 31/50\n",
      "589/589 [==============================] - 4s 7ms/step - loss: 109.8650 - mse: 30169.4277 - mae: 107.8684 - val_loss: 94.5404 - val_mse: 26460.1289 - val_mae: 92.5289\n",
      "Epoch 32/50\n",
      "589/589 [==============================] - 4s 7ms/step - loss: 108.5379 - mse: 29314.9609 - mae: 106.5133 - val_loss: 92.3631 - val_mse: 25487.7012 - val_mae: 90.3264\n",
      "Epoch 33/50\n",
      "589/589 [==============================] - 4s 7ms/step - loss: 107.4139 - mse: 28719.5605 - mae: 105.3674 - val_loss: 90.4341 - val_mse: 24602.8555 - val_mae: 88.3787\n",
      "Epoch 34/50\n",
      "589/589 [==============================] - 4s 7ms/step - loss: 106.4856 - mse: 28163.8516 - mae: 104.4231 - val_loss: 88.6697 - val_mse: 23786.2617 - val_mae: 86.6005\n",
      "Epoch 35/50\n",
      "589/589 [==============================] - 4s 7ms/step - loss: 105.5949 - mse: 27551.6973 - mae: 103.5215 - val_loss: 87.1505 - val_mse: 23064.0098 - val_mae: 85.0738\n",
      "Epoch 36/50\n",
      "589/589 [==============================] - 4s 7ms/step - loss: 104.8300 - mse: 27117.9863 - mae: 102.7526 - val_loss: 85.8624 - val_mse: 22439.6934 - val_mae: 83.7850\n",
      "Epoch 37/50\n",
      "589/589 [==============================] - 4s 7ms/step - loss: 104.2196 - mse: 26690.5684 - mae: 102.1437 - val_loss: 84.7476 - val_mse: 21890.8340 - val_mae: 82.6746\n",
      "Epoch 38/50\n",
      "589/589 [==============================] - 4s 7ms/step - loss: 103.6757 - mse: 26328.8242 - mae: 101.6068 - val_loss: 83.8049 - val_mse: 21416.7832 - val_mae: 81.7406\n",
      "Epoch 39/50\n",
      "589/589 [==============================] - 4s 7ms/step - loss: 103.2224 - mse: 26029.1094 - mae: 101.1644 - val_loss: 83.0151 - val_mse: 21027.8105 - val_mae: 80.9637\n",
      "Epoch 40/50\n",
      "589/589 [==============================] - 4s 7ms/step - loss: 102.9171 - mse: 25831.5469 - mae: 100.8735 - val_loss: 82.3574 - val_mse: 20710.1133 - val_mae: 80.3223\n",
      "Epoch 41/50\n",
      "589/589 [==============================] - 4s 7ms/step - loss: 102.5214 - mse: 25540.1719 - mae: 100.4952 - val_loss: 81.8044 - val_mse: 20440.7188 - val_mae: 79.7875\n",
      "Epoch 42/50\n",
      "589/589 [==============================] - 4s 7ms/step - loss: 102.0840 - mse: 25279.3477 - mae: 100.0773 - val_loss: 81.3521 - val_mse: 20236.7676 - val_mae: 79.3556\n",
      "Epoch 43/50\n",
      "589/589 [==============================] - 4s 7ms/step - loss: 101.7410 - mse: 25137.0469 - mae: 99.7550 - val_loss: 80.9638 - val_mse: 20059.7637 - val_mae: 78.9887\n",
      "Epoch 44/50\n",
      "589/589 [==============================] - 4s 7ms/step - loss: 101.4484 - mse: 25058.2773 - mae: 99.4847 - val_loss: 80.6381 - val_mse: 19919.7695 - val_mae: 78.6858\n",
      "Epoch 45/50\n",
      "589/589 [==============================] - 4s 7ms/step - loss: 101.1330 - mse: 24850.8223 - mae: 99.1917 - val_loss: 80.3447 - val_mse: 19808.5879 - val_mae: 78.4152\n",
      "Epoch 46/50\n"
     ]
    },
    {
     "name": "stdout",
     "output_type": "stream",
     "text": [
      "589/589 [==============================] - 4s 7ms/step - loss: 100.8980 - mse: 24814.4180 - mae: 98.9797 - val_loss: 80.0508 - val_mse: 19684.6172 - val_mae: 78.1436\n",
      "Epoch 47/50\n",
      "589/589 [==============================] - 4s 7ms/step - loss: 100.4699 - mse: 24641.1660 - mae: 98.5744 - val_loss: 79.8122 - val_mse: 19603.3242 - val_mae: 77.9288\n",
      "Epoch 48/50\n",
      "589/589 [==============================] - 4s 7ms/step - loss: 100.2813 - mse: 24518.1836 - mae: 98.4093 - val_loss: 79.5633 - val_mse: 19515.8789 - val_mae: 77.7031\n",
      "Epoch 49/50\n",
      "589/589 [==============================] - 4s 7ms/step - loss: 100.0366 - mse: 24404.8320 - mae: 98.1872 - val_loss: 79.2991 - val_mse: 19421.8379 - val_mae: 77.4613\n",
      "Epoch 50/50\n",
      "589/589 [==============================] - 4s 7ms/step - loss: 99.8070 - mse: 24388.2578 - mae: 97.9810 - val_loss: 79.0827 - val_mse: 19350.5117 - val_mae: 77.2683\n"
     ]
    }
   ],
   "source": [
    "#Instantiate a Regularizer\n",
    "\n",
    "reg = l2(3e-3)\n",
    "\n",
    "model2_nn = models.Sequential()\n",
    "model2_nn.add(layers.Flatten())\n",
    "model2_nn.add(layers.Dense(16, activation = 'relu', input_shape=(34, 1), kernel_regularizer = reg))\n",
    "model2_nn.add(layers.Dropout(0.5))\n",
    "model2_nn.add(layers.Dense(1))\n",
    "\n",
    "\n",
    "#Create an opt variable which is set to the learning rate to be used, we will use 0.0002\n",
    "opt = Adam(learning_rate = 0.0001)\n",
    "\n",
    "#Add an early stopping mechanism which will stop fitting the model based on the minimum validation loss, a minimum\n",
    "    #delta of 0.05, and a patience of 10\n",
    "es = EarlyStopping(monitor = 'mae', mode = 'min', min_delta = 0.05, patience = 10)\n",
    "\n",
    "#Set the random seed to 42 for reproducibility\n",
    "np.random.seed(42)\n",
    "\n",
    "#Compile the model and utilize the 'opt' variable, \n",
    "model2_nn.compile(optimizer = opt,\n",
    "                  loss = 'mae',\n",
    "                  metrics = ['mse', 'mae'])\n",
    "\n",
    "#Create a new _histoire variable containing the fit model\n",
    "model2_nn_histoire = model2_nn.fit(model2_X_train_scaled,\n",
    "                                   model2_y_train.values,\n",
    "                                   callbacks = [es],\n",
    "                                   epochs = 50,\n",
    "                                   batch_size = 1000,\n",
    "                                   validation_data = (model2_X_val_scaled, model2_y_val.values))"
   ]
  },
  {
   "cell_type": "code",
   "execution_count": 381,
   "id": "c87d17ba",
   "metadata": {},
   "outputs": [
    {
     "name": "stdout",
     "output_type": "stream",
     "text": [
      "18395/18395 [==============================] - 78s 4ms/step - loss: 79.2148 - mse: 19000.8789 - mae: 77.4004\n",
      "4589/4589 [==============================] - 19s 4ms/step - loss: 79.1948 - mse: 18964.1113 - mae: 77.3804\n",
      "Model 2 Neural Network Train Results: [79.21477508544922, 19000.87890625, 77.40042114257812]\n",
      "Model 2 Neural Network Test Results: [79.19483947753906, 18964.111328125, 77.3803939819336]\n"
     ]
    }
   ],
   "source": [
    "model2_nn_results_train = model2_nn.evaluate(model2_X_train_scaled, model2_y_train.values)\n",
    "model2_nn_results_test = model2_nn.evaluate(model2_X_test_scaled, model2_y_test.values)\n",
    "\n",
    "print(f'Model 2 Neural Network Train Results: {model2_nn_results_train}')\n",
    "print(f'Model 2 Neural Network Test Results: {model2_nn_results_test}')"
   ]
  },
  {
   "cell_type": "code",
   "execution_count": 382,
   "id": "618de208",
   "metadata": {},
   "outputs": [
    {
     "name": "stdout",
     "output_type": "stream",
     "text": [
      "Model: \"sequential_9\"\n",
      "_________________________________________________________________\n",
      " Layer (type)                Output Shape              Param #   \n",
      "=================================================================\n",
      " flatten_2 (Flatten)         (None, 34)                0         \n",
      "                                                                 \n",
      " dense_18 (Dense)            (None, 16)                560       \n",
      "                                                                 \n",
      " dropout_6 (Dropout)         (None, 16)                0         \n",
      "                                                                 \n",
      " dense_19 (Dense)            (None, 1)                 17        \n",
      "                                                                 \n",
      "=================================================================\n",
      "Total params: 577\n",
      "Trainable params: 577\n",
      "Non-trainable params: 0\n",
      "_________________________________________________________________\n"
     ]
    }
   ],
   "source": [
    "model2_nn.summary()"
   ]
  },
  {
   "cell_type": "code",
   "execution_count": 383,
   "id": "93c9cb1e",
   "metadata": {},
   "outputs": [
    {
     "data": {
      "image/png": "[encoded data removed]",
      "text/plain": [
       "<Figure size 640x480 with 1 Axes>"
      ]
     },
     "metadata": {},
     "output_type": "display_data"
    },
    {
     "data": {
      "image/png": "[encoded data removed]",
      "text/plain": [
       "<Figure size 640x480 with 1 Axes>"
      ]
     },
     "metadata": {},
     "output_type": "display_data"
    }
   ],
   "source": [
    "#Plot the model's train MAE, validation MAE, train loss, and validation loss by each epoch using the model's\n",
    "    #histoire variable\n",
    "model2_mae = model2_nn_histoire.history['mae']\n",
    "model2_val_mae = model2_nn_histoire.history['val_mae']\n",
    "model2_loss = model2_nn_histoire.history['loss']\n",
    "model2_val_loss = model2_nn_histoire.history['val_loss']\n",
    "model2_epochs = range(len(model2_mae))\n",
    "\n",
    "plt.plot(model2_epochs, model2_mae, 'bo', label = 'Training MAE')\n",
    "plt.plot(model2_epochs, model2_val_mae, 'b', label = 'Validation MAE')\n",
    "plt.title('Model 2 Training and Validation MAE')\n",
    "plt.legend()\n",
    "plt.figure()\n",
    "plt.plot(model2_epochs, model2_loss, 'bo', label = 'Training loss')\n",
    "plt.plot(model2_epochs, model2_val_loss, 'b', label = 'Validation loss')\n",
    "plt.title('Model 2 Training and Validation Loss')\n",
    "plt.legend()\n",
    "plt.show();"
   ]
  },
  {
   "cell_type": "code",
   "execution_count": 384,
   "id": "0f8e042b",
   "metadata": {},
   "outputs": [
    {
     "name": "stderr",
     "output_type": "stream",
     "text": [
      "2022-12-20 12:09:33.019230: I tensorflow/core/grappler/optimizers/custom_graph_optimizer_registry.cc:113] Plugin optimizer for device_type GPU is enabled.\n"
     ]
    }
   ],
   "source": [
    "model2_nn_train_preds = model2_nn.predict(model2_X_train_scaled)\n",
    "model2_nn_test_preds = model2_nn.predict(model2_X_test_scaled)"
   ]
  },
  {
   "cell_type": "code",
   "execution_count": 385,
   "id": "c13f57cf",
   "metadata": {},
   "outputs": [
    {
     "name": "stdout",
     "output_type": "stream",
     "text": [
      "Model 2 train MAE w/ preds 77.40047627346688\n",
      "Model 2 test MAE w/ preds 77.38055685587759\n",
      "Model 2 explained variance train score 0.38853372938072417\n",
      "Model 2 explained variance test score 0.3877873299773108\n",
      "Model 2 test RMSE 137.7102084794943\n"
     ]
    }
   ],
   "source": [
    "print(f'Model 2 train MAE w/ preds {mean_absolute_error(model2_y_train.values, model2_nn_train_preds)}')\n",
    "print(f'Model 2 test MAE w/ preds {mean_absolute_error(model2_y_test.values, model2_nn_test_preds)}')\n",
    "\n",
    "print(f'Model 2 explained variance train score {explained_variance_score(model2_y_train.values, model2_nn_train_preds)}')\n",
    "print(f'Model 2 explained variance test score {explained_variance_score(model2_y_test.values, model2_nn_test_preds)}')\n",
    "\n",
    "\n",
    "print(f'Model 2 test RMSE {mean_squared_error(model2_y_test.values, model2_nn_test_preds, squared = False)}')\n",
    "\n"
   ]
  },
  {
   "cell_type": "markdown",
   "id": "076cba3e",
   "metadata": {},
   "source": [
    "## Model 3 - Neural Network"
   ]
  },
  {
   "cell_type": "code",
   "execution_count": 386,
   "id": "effd75d5",
   "metadata": {},
   "outputs": [],
   "source": [
    "#One Hot Encode\n",
    "#Scale"
   ]
  },
  {
   "cell_type": "code",
   "execution_count": 387,
   "id": "5ddb295d",
   "metadata": {},
   "outputs": [],
   "source": [
    "#text = input()"
   ]
  }
 ],
 "metadata": {
  "kernelspec": {
   "display_name": "tensorflow_env",
   "language": "python",
   "name": "tensorflow_env"
  },
  "language_info": {
   "codemirror_mode": {
    "name": "ipython",
    "version": 3
   },
   "file_extension": ".py",
   "mimetype": "text/x-python",
   "name": "python",
   "nbconvert_exporter": "python",
   "pygments_lexer": "ipython3",
   "version": "3.8.15"
  }
 },
 "nbformat": 4,
 "nbformat_minor": 5
}
