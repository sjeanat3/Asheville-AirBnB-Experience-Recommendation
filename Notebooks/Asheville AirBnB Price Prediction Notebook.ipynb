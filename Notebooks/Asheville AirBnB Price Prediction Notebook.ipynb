{
 "cells": [
  {
   "cell_type": "markdown",
   "id": "aed8b3fa",
   "metadata": {},
   "source": [
    "# Import Necessary Libraries"
   ]
  },
  {
   "cell_type": "code",
   "execution_count": 153,
   "id": "2fc2ce3e",
   "metadata": {},
   "outputs": [],
   "source": [
    "import pandas as pd\n",
    "import gzip\n",
    "import shutil\n",
    "import seaborn as sns\n",
    "from sklearn.linear_model import LogisticRegression\n",
    "from sklearn.model_selection import train_test_split\n",
    "from sklearn.tree import DecisionTreeClassifier\n",
    "from sklearn.ensemble import BaggingClassifier, RandomForestRegressor\n",
    "from sklearn.preprocessing import StandardScaler, OneHotEncoder, OrdinalEncoder, MaxAbsScaler\n",
    "from sklearn.metrics import accuracy_score, confusion_matrix, classification_report\n",
    "from sklearn.pipeline import make_pipeline, Pipeline\n",
    "from sklearn.impute import SimpleImputer\n",
    "from sklearn.compose import ColumnTransformer"
   ]
  },
  {
   "cell_type": "markdown",
   "id": "fc59262f",
   "metadata": {},
   "source": [
    "# Exploratory Data Analysis (EDA)"
   ]
  },
  {
   "cell_type": "markdown",
   "id": "2a88113a",
   "metadata": {},
   "source": [
    "## Calendar Data - 2022"
   ]
  },
  {
   "cell_type": "code",
   "execution_count": 154,
   "id": "97afa6b0",
   "metadata": {},
   "outputs": [
    {
     "data": {
      "text/html": [
       "<div>\n",
       "<style scoped>\n",
       "    .dataframe tbody tr th:only-of-type {\n",
       "        vertical-align: middle;\n",
       "    }\n",
       "\n",
       "    .dataframe tbody tr th {\n",
       "        vertical-align: top;\n",
       "    }\n",
       "\n",
       "    .dataframe thead th {\n",
       "        text-align: right;\n",
       "    }\n",
       "</style>\n",
       "<table border=\"1\" class=\"dataframe\">\n",
       "  <thead>\n",
       "    <tr style=\"text-align: right;\">\n",
       "      <th></th>\n",
       "      <th>listing_id</th>\n",
       "      <th>date</th>\n",
       "      <th>available</th>\n",
       "      <th>price</th>\n",
       "      <th>adjusted_price</th>\n",
       "      <th>minimum_nights</th>\n",
       "      <th>maximum_nights</th>\n",
       "    </tr>\n",
       "  </thead>\n",
       "  <tbody>\n",
       "    <tr>\n",
       "      <th>0</th>\n",
       "      <td>881707</td>\n",
       "      <td>2021-12-15</td>\n",
       "      <td>f</td>\n",
       "      <td>$93.00</td>\n",
       "      <td>$93.00</td>\n",
       "      <td>1</td>\n",
       "      <td>1125</td>\n",
       "    </tr>\n",
       "    <tr>\n",
       "      <th>1</th>\n",
       "      <td>910737</td>\n",
       "      <td>2021-12-15</td>\n",
       "      <td>t</td>\n",
       "      <td>$156.00</td>\n",
       "      <td>$156.00</td>\n",
       "      <td>2</td>\n",
       "      <td>1125</td>\n",
       "    </tr>\n",
       "    <tr>\n",
       "      <th>2</th>\n",
       "      <td>910737</td>\n",
       "      <td>2021-12-16</td>\n",
       "      <td>t</td>\n",
       "      <td>$156.00</td>\n",
       "      <td>$156.00</td>\n",
       "      <td>2</td>\n",
       "      <td>1125</td>\n",
       "    </tr>\n",
       "    <tr>\n",
       "      <th>3</th>\n",
       "      <td>910737</td>\n",
       "      <td>2021-12-17</td>\n",
       "      <td>f</td>\n",
       "      <td>$135.00</td>\n",
       "      <td>$135.00</td>\n",
       "      <td>2</td>\n",
       "      <td>1125</td>\n",
       "    </tr>\n",
       "    <tr>\n",
       "      <th>4</th>\n",
       "      <td>910737</td>\n",
       "      <td>2021-12-18</td>\n",
       "      <td>f</td>\n",
       "      <td>$135.00</td>\n",
       "      <td>$135.00</td>\n",
       "      <td>2</td>\n",
       "      <td>1125</td>\n",
       "    </tr>\n",
       "    <tr>\n",
       "      <th>...</th>\n",
       "      <td>...</td>\n",
       "      <td>...</td>\n",
       "      <td>...</td>\n",
       "      <td>...</td>\n",
       "      <td>...</td>\n",
       "      <td>...</td>\n",
       "      <td>...</td>\n",
       "    </tr>\n",
       "    <tr>\n",
       "      <th>958485</th>\n",
       "      <td>51875440</td>\n",
       "      <td>2022-12-10</td>\n",
       "      <td>t</td>\n",
       "      <td>$807.00</td>\n",
       "      <td>$807.00</td>\n",
       "      <td>5</td>\n",
       "      <td>365</td>\n",
       "    </tr>\n",
       "    <tr>\n",
       "      <th>958486</th>\n",
       "      <td>51875440</td>\n",
       "      <td>2022-12-11</td>\n",
       "      <td>t</td>\n",
       "      <td>$718.00</td>\n",
       "      <td>$718.00</td>\n",
       "      <td>5</td>\n",
       "      <td>365</td>\n",
       "    </tr>\n",
       "    <tr>\n",
       "      <th>958487</th>\n",
       "      <td>51875440</td>\n",
       "      <td>2022-12-12</td>\n",
       "      <td>t</td>\n",
       "      <td>$706.00</td>\n",
       "      <td>$706.00</td>\n",
       "      <td>5</td>\n",
       "      <td>365</td>\n",
       "    </tr>\n",
       "    <tr>\n",
       "      <th>958488</th>\n",
       "      <td>51875440</td>\n",
       "      <td>2022-12-13</td>\n",
       "      <td>t</td>\n",
       "      <td>$696.00</td>\n",
       "      <td>$696.00</td>\n",
       "      <td>5</td>\n",
       "      <td>365</td>\n",
       "    </tr>\n",
       "    <tr>\n",
       "      <th>958489</th>\n",
       "      <td>51875440</td>\n",
       "      <td>2022-12-14</td>\n",
       "      <td>t</td>\n",
       "      <td>$687.00</td>\n",
       "      <td>$687.00</td>\n",
       "      <td>5</td>\n",
       "      <td>365</td>\n",
       "    </tr>\n",
       "  </tbody>\n",
       "</table>\n",
       "<p>958490 rows × 7 columns</p>\n",
       "</div>"
      ],
      "text/plain": [
       "        listing_id        date available    price adjusted_price  \\\n",
       "0           881707  2021-12-15         f   $93.00         $93.00   \n",
       "1           910737  2021-12-15         t  $156.00        $156.00   \n",
       "2           910737  2021-12-16         t  $156.00        $156.00   \n",
       "3           910737  2021-12-17         f  $135.00        $135.00   \n",
       "4           910737  2021-12-18         f  $135.00        $135.00   \n",
       "...            ...         ...       ...      ...            ...   \n",
       "958485    51875440  2022-12-10         t  $807.00        $807.00   \n",
       "958486    51875440  2022-12-11         t  $718.00        $718.00   \n",
       "958487    51875440  2022-12-12         t  $706.00        $706.00   \n",
       "958488    51875440  2022-12-13         t  $696.00        $696.00   \n",
       "958489    51875440  2022-12-14         t  $687.00        $687.00   \n",
       "\n",
       "        minimum_nights  maximum_nights  \n",
       "0                    1            1125  \n",
       "1                    2            1125  \n",
       "2                    2            1125  \n",
       "3                    2            1125  \n",
       "4                    2            1125  \n",
       "...                ...             ...  \n",
       "958485               5             365  \n",
       "958486               5             365  \n",
       "958487               5             365  \n",
       "958488               5             365  \n",
       "958489               5             365  \n",
       "\n",
       "[958490 rows x 7 columns]"
      ]
     },
     "execution_count": 154,
     "metadata": {},
     "output_type": "execute_result"
    }
   ],
   "source": [
    "#Load raw calendar data from file\n",
    "raw_calendar_data = pd.read_csv('../Data/AirBnB/Asheville/2021/asheville_calendar_2021.csv', compression='gzip')\n",
    "raw_calendar_data"
   ]
  },
  {
   "cell_type": "code",
   "execution_count": 155,
   "id": "d073ca24",
   "metadata": {},
   "outputs": [
    {
     "name": "stdout",
     "output_type": "stream",
     "text": [
      "<class 'pandas.core.frame.DataFrame'>\n",
      "RangeIndex: 958490 entries, 0 to 958489\n",
      "Data columns (total 7 columns):\n",
      " #   Column          Non-Null Count   Dtype \n",
      "---  ------          --------------   ----- \n",
      " 0   listing_id      958490 non-null  int64 \n",
      " 1   date            958490 non-null  object\n",
      " 2   available       958490 non-null  object\n",
      " 3   price           958319 non-null  object\n",
      " 4   adjusted_price  958319 non-null  object\n",
      " 5   minimum_nights  958490 non-null  int64 \n",
      " 6   maximum_nights  958490 non-null  int64 \n",
      "dtypes: int64(3), object(4)\n",
      "memory usage: 51.2+ MB\n"
     ]
    }
   ],
   "source": [
    "#Check the info / types of data\n",
    "raw_calendar_data.info()"
   ]
  },
  {
   "cell_type": "code",
   "execution_count": 156,
   "id": "53d34730",
   "metadata": {},
   "outputs": [
    {
     "name": "stdout",
     "output_type": "stream",
     "text": [
      "<class 'pandas.core.frame.DataFrame'>\n",
      "RangeIndex: 958490 entries, 0 to 958489\n",
      "Data columns (total 7 columns):\n",
      " #   Column          Non-Null Count   Dtype         \n",
      "---  ------          --------------   -----         \n",
      " 0   listing_id      958490 non-null  int64         \n",
      " 1   date            958490 non-null  datetime64[ns]\n",
      " 2   available       958490 non-null  object        \n",
      " 3   price           958319 non-null  object        \n",
      " 4   adjusted_price  958319 non-null  object        \n",
      " 5   minimum_nights  958490 non-null  int64         \n",
      " 6   maximum_nights  958490 non-null  int64         \n",
      "dtypes: datetime64[ns](1), int64(3), object(3)\n",
      "memory usage: 51.2+ MB\n"
     ]
    }
   ],
   "source": [
    "#Convert date column to date-times type\n",
    "mod_calendar_data = raw_calendar_data\n",
    "mod_calendar_data['date'] = pd.to_datetime(raw_calendar_data['date'])\n",
    "\n",
    "#Confirm the info / types of data\n",
    "mod_calendar_data.info()"
   ]
  },
  {
   "cell_type": "code",
   "execution_count": 157,
   "id": "99d0c735",
   "metadata": {},
   "outputs": [
    {
     "name": "stdout",
     "output_type": "stream",
     "text": [
      "Earliest date of data set 2021-12-15 00:00:00\n",
      "Latest date of data set 2022-12-17 00:00:00\n"
     ]
    }
   ],
   "source": [
    "print(f\"Earliest date of data set {raw_calendar_data['date'].min()}\")\n",
    "print(f\"Latest date of data set {raw_calendar_data['date'].max()}\")"
   ]
  },
  {
   "cell_type": "code",
   "execution_count": 158,
   "id": "a936bfec",
   "metadata": {},
   "outputs": [
    {
     "data": {
      "text/plain": [
       "t    532541\n",
       "f    425949\n",
       "Name: available, dtype: int64"
      ]
     },
     "execution_count": 158,
     "metadata": {},
     "output_type": "execute_result"
    }
   ],
   "source": [
    "#Check Values of 'Available column'\n",
    "mod_calendar_data['available'].value_counts()"
   ]
  },
  {
   "cell_type": "code",
   "execution_count": 159,
   "id": "b046b455",
   "metadata": {},
   "outputs": [
    {
     "data": {
      "text/plain": [
       "1    532541\n",
       "0    425949\n",
       "Name: available, dtype: int64"
      ]
     },
     "execution_count": 159,
     "metadata": {},
     "output_type": "execute_result"
    }
   ],
   "source": [
    "#Replace the false and true values with 0 and 1\n",
    "mod_calendar_data['available'] = mod_calendar_data['available'].replace(['f', 't'],[0, 1])\n",
    "\n",
    "#Confirm available are now integers\n",
    "mod_calendar_data['available'].value_counts()"
   ]
  },
  {
   "cell_type": "code",
   "execution_count": 160,
   "id": "0693554e",
   "metadata": {},
   "outputs": [
    {
     "name": "stdout",
     "output_type": "stream",
     "text": [
      "<class 'pandas.core.frame.DataFrame'>\n",
      "RangeIndex: 958490 entries, 0 to 958489\n",
      "Data columns (total 7 columns):\n",
      " #   Column          Non-Null Count   Dtype         \n",
      "---  ------          --------------   -----         \n",
      " 0   listing_id      958490 non-null  int64         \n",
      " 1   date            958490 non-null  datetime64[ns]\n",
      " 2   available       958490 non-null  int64         \n",
      " 3   price           958319 non-null  object        \n",
      " 4   adjusted_price  958319 non-null  object        \n",
      " 5   minimum_nights  958490 non-null  int64         \n",
      " 6   maximum_nights  958490 non-null  int64         \n",
      "dtypes: datetime64[ns](1), int64(4), object(2)\n",
      "memory usage: 51.2+ MB\n"
     ]
    }
   ],
   "source": [
    "mod_calendar_data.info()"
   ]
  },
  {
   "cell_type": "code",
   "execution_count": 161,
   "id": "28a20706",
   "metadata": {},
   "outputs": [
    {
     "data": {
      "text/plain": [
       "$125.00      29854\n",
       "$150.00      24356\n",
       "$99.00       19492\n",
       "$95.00       19240\n",
       "$250.00      16814\n",
       "             ...  \n",
       "$1,725.00        1\n",
       "$1,931.00        1\n",
       "$1,730.00        1\n",
       "$1,731.00        1\n",
       "$1,699.00        1\n",
       "Name: price, Length: 2100, dtype: int64"
      ]
     },
     "execution_count": 161,
     "metadata": {},
     "output_type": "execute_result"
    }
   ],
   "source": [
    "mod_calendar_data['price'].value_counts()"
   ]
  },
  {
   "cell_type": "code",
   "execution_count": 162,
   "id": "f47bc977",
   "metadata": {},
   "outputs": [
    {
     "data": {
      "text/plain": [
       "171"
      ]
     },
     "execution_count": 162,
     "metadata": {},
     "output_type": "execute_result"
    }
   ],
   "source": [
    "mod_calendar_data['price'].isna().sum()"
   ]
  },
  {
   "cell_type": "code",
   "execution_count": 163,
   "id": "bfae5ded",
   "metadata": {},
   "outputs": [
    {
     "data": {
      "text/plain": [
       "$125.00      28413\n",
       "$150.00      24264\n",
       "$99.00       19561\n",
       "$95.00       19077\n",
       "$250.00      16475\n",
       "             ...  \n",
       "$1,730.00        1\n",
       "$2,326.00        1\n",
       "$2,261.00        1\n",
       "$2,123.00        1\n",
       "$986.00          1\n",
       "Name: adjusted_price, Length: 2097, dtype: int64"
      ]
     },
     "execution_count": 163,
     "metadata": {},
     "output_type": "execute_result"
    }
   ],
   "source": [
    "mod_calendar_data['adjusted_price'].value_counts()"
   ]
  },
  {
   "cell_type": "code",
   "execution_count": 164,
   "id": "eb82f035",
   "metadata": {},
   "outputs": [
    {
     "data": {
      "text/plain": [
       "47732580    171\n",
       "Name: listing_id, dtype: int64"
      ]
     },
     "execution_count": 164,
     "metadata": {},
     "output_type": "execute_result"
    }
   ],
   "source": [
    "nan_cols = mod_calendar_data[mod_calendar_data['price'].isna()]\n",
    "nan_cols['listing_id'].value_counts()"
   ]
  },
  {
   "cell_type": "code",
   "execution_count": 165,
   "id": "c0f566e4",
   "metadata": {},
   "outputs": [
    {
     "data": {
      "text/plain": [
       "0"
      ]
     },
     "execution_count": 165,
     "metadata": {},
     "output_type": "execute_result"
    }
   ],
   "source": [
    "bnb_to_drop = mod_calendar_data[(mod_calendar_data['listing_id'] == 47732580)].index\n",
    "mod_calendar_data = mod_calendar_data.drop(bnb_to_drop)\n",
    "mod_calendar_data['price'].isna().sum()"
   ]
  },
  {
   "cell_type": "code",
   "execution_count": 166,
   "id": "744c626e",
   "metadata": {},
   "outputs": [
    {
     "data": {
      "text/plain": [
       "0          $93.00\n",
       "1         $156.00\n",
       "2         $156.00\n",
       "3         $135.00\n",
       "4         $135.00\n",
       "           ...   \n",
       "958485    $807.00\n",
       "958486    $718.00\n",
       "958487    $706.00\n",
       "958488    $696.00\n",
       "958489    $687.00\n",
       "Name: price, Length: 958125, dtype: object"
      ]
     },
     "execution_count": 166,
     "metadata": {},
     "output_type": "execute_result"
    }
   ],
   "source": [
    "mod_calendar_data['price']"
   ]
  },
  {
   "cell_type": "code",
   "execution_count": 167,
   "id": "673dfef7",
   "metadata": {},
   "outputs": [
    {
     "data": {
      "text/html": [
       "<div>\n",
       "<style scoped>\n",
       "    .dataframe tbody tr th:only-of-type {\n",
       "        vertical-align: middle;\n",
       "    }\n",
       "\n",
       "    .dataframe tbody tr th {\n",
       "        vertical-align: top;\n",
       "    }\n",
       "\n",
       "    .dataframe thead th {\n",
       "        text-align: right;\n",
       "    }\n",
       "</style>\n",
       "<table border=\"1\" class=\"dataframe\">\n",
       "  <thead>\n",
       "    <tr style=\"text-align: right;\">\n",
       "      <th></th>\n",
       "      <th>listing_id</th>\n",
       "      <th>daily_price</th>\n",
       "      <th>date</th>\n",
       "      <th>available</th>\n",
       "      <th>minimum_nights</th>\n",
       "      <th>maximum_nights</th>\n",
       "    </tr>\n",
       "  </thead>\n",
       "  <tbody>\n",
       "    <tr>\n",
       "      <th>0</th>\n",
       "      <td>881707</td>\n",
       "      <td>93</td>\n",
       "      <td>2021-12-15</td>\n",
       "      <td>0</td>\n",
       "      <td>1</td>\n",
       "      <td>1125</td>\n",
       "    </tr>\n",
       "    <tr>\n",
       "      <th>1</th>\n",
       "      <td>910737</td>\n",
       "      <td>156</td>\n",
       "      <td>2021-12-15</td>\n",
       "      <td>1</td>\n",
       "      <td>2</td>\n",
       "      <td>1125</td>\n",
       "    </tr>\n",
       "    <tr>\n",
       "      <th>2</th>\n",
       "      <td>910737</td>\n",
       "      <td>156</td>\n",
       "      <td>2021-12-16</td>\n",
       "      <td>1</td>\n",
       "      <td>2</td>\n",
       "      <td>1125</td>\n",
       "    </tr>\n",
       "    <tr>\n",
       "      <th>3</th>\n",
       "      <td>910737</td>\n",
       "      <td>135</td>\n",
       "      <td>2021-12-17</td>\n",
       "      <td>0</td>\n",
       "      <td>2</td>\n",
       "      <td>1125</td>\n",
       "    </tr>\n",
       "    <tr>\n",
       "      <th>4</th>\n",
       "      <td>910737</td>\n",
       "      <td>135</td>\n",
       "      <td>2021-12-18</td>\n",
       "      <td>0</td>\n",
       "      <td>2</td>\n",
       "      <td>1125</td>\n",
       "    </tr>\n",
       "    <tr>\n",
       "      <th>...</th>\n",
       "      <td>...</td>\n",
       "      <td>...</td>\n",
       "      <td>...</td>\n",
       "      <td>...</td>\n",
       "      <td>...</td>\n",
       "      <td>...</td>\n",
       "    </tr>\n",
       "    <tr>\n",
       "      <th>958485</th>\n",
       "      <td>51875440</td>\n",
       "      <td>807</td>\n",
       "      <td>2022-12-10</td>\n",
       "      <td>1</td>\n",
       "      <td>5</td>\n",
       "      <td>365</td>\n",
       "    </tr>\n",
       "    <tr>\n",
       "      <th>958486</th>\n",
       "      <td>51875440</td>\n",
       "      <td>718</td>\n",
       "      <td>2022-12-11</td>\n",
       "      <td>1</td>\n",
       "      <td>5</td>\n",
       "      <td>365</td>\n",
       "    </tr>\n",
       "    <tr>\n",
       "      <th>958487</th>\n",
       "      <td>51875440</td>\n",
       "      <td>706</td>\n",
       "      <td>2022-12-12</td>\n",
       "      <td>1</td>\n",
       "      <td>5</td>\n",
       "      <td>365</td>\n",
       "    </tr>\n",
       "    <tr>\n",
       "      <th>958488</th>\n",
       "      <td>51875440</td>\n",
       "      <td>696</td>\n",
       "      <td>2022-12-13</td>\n",
       "      <td>1</td>\n",
       "      <td>5</td>\n",
       "      <td>365</td>\n",
       "    </tr>\n",
       "    <tr>\n",
       "      <th>958489</th>\n",
       "      <td>51875440</td>\n",
       "      <td>687</td>\n",
       "      <td>2022-12-14</td>\n",
       "      <td>1</td>\n",
       "      <td>5</td>\n",
       "      <td>365</td>\n",
       "    </tr>\n",
       "  </tbody>\n",
       "</table>\n",
       "<p>958125 rows × 6 columns</p>\n",
       "</div>"
      ],
      "text/plain": [
       "        listing_id  daily_price       date  available  minimum_nights  \\\n",
       "0           881707           93 2021-12-15          0               1   \n",
       "1           910737          156 2021-12-15          1               2   \n",
       "2           910737          156 2021-12-16          1               2   \n",
       "3           910737          135 2021-12-17          0               2   \n",
       "4           910737          135 2021-12-18          0               2   \n",
       "...            ...          ...        ...        ...             ...   \n",
       "958485    51875440          807 2022-12-10          1               5   \n",
       "958486    51875440          718 2022-12-11          1               5   \n",
       "958487    51875440          706 2022-12-12          1               5   \n",
       "958488    51875440          696 2022-12-13          1               5   \n",
       "958489    51875440          687 2022-12-14          1               5   \n",
       "\n",
       "        maximum_nights  \n",
       "0                 1125  \n",
       "1                 1125  \n",
       "2                 1125  \n",
       "3                 1125  \n",
       "4                 1125  \n",
       "...                ...  \n",
       "958485             365  \n",
       "958486             365  \n",
       "958487             365  \n",
       "958488             365  \n",
       "958489             365  \n",
       "\n",
       "[958125 rows x 6 columns]"
      ]
     },
     "execution_count": 167,
     "metadata": {},
     "output_type": "execute_result"
    }
   ],
   "source": [
    "test_price_df = mod_calendar_data['price'].str.split(\".\", expand=True)\n",
    "test_price_df = test_price_df.rename(columns = {0 : 'daily_price'})\n",
    "test_price_df = test_price_df.drop(labels = [1], axis = 1)\n",
    "mod_calendar_data = test_price_df.join(mod_calendar_data, how = 'left')\n",
    "mod_calendar_data['daily_price'] = mod_calendar_data['daily_price'].str.replace('$', '')\n",
    "mod_calendar_data['daily_price'] = mod_calendar_data['daily_price'].str.replace(',', '')\n",
    "mod_calendar_data['daily_price'] = mod_calendar_data['daily_price'].astype({'daily_price':'int'})\n",
    "mod_calendar_data = mod_calendar_data.drop(labels = ['adjusted_price', 'price'], axis = 1)\n",
    "\n",
    "id_to_move = mod_calendar_data.pop('listing_id')\n",
    "mod_calendar_data.insert(0, 'listing_id', id_to_move)\n",
    "mod_calendar_data"
   ]
  },
  {
   "cell_type": "code",
   "execution_count": 168,
   "id": "4b791e66",
   "metadata": {},
   "outputs": [
    {
     "name": "stdout",
     "output_type": "stream",
     "text": [
      "<class 'pandas.core.frame.DataFrame'>\n",
      "Int64Index: 958125 entries, 0 to 958489\n",
      "Data columns (total 6 columns):\n",
      " #   Column          Non-Null Count   Dtype         \n",
      "---  ------          --------------   -----         \n",
      " 0   listing_id      958125 non-null  int64         \n",
      " 1   daily_price     958125 non-null  int64         \n",
      " 2   date            958125 non-null  datetime64[ns]\n",
      " 3   available       958125 non-null  int64         \n",
      " 4   minimum_nights  958125 non-null  int64         \n",
      " 5   maximum_nights  958125 non-null  int64         \n",
      "dtypes: datetime64[ns](1), int64(5)\n",
      "memory usage: 91.2 MB\n"
     ]
    }
   ],
   "source": [
    "mod_calendar_data.info()"
   ]
  },
  {
   "cell_type": "code",
   "execution_count": 169,
   "id": "105ed804",
   "metadata": {},
   "outputs": [],
   "source": [
    "#For purposes of this project/the stakeholder, we will drop the adjusted avail, price, min nights, max nights\n",
    "mod_calendar_data = mod_calendar_data.drop(['available', 'minimum_nights', 'maximum_nights'],\n",
    "                                          axis = 1)"
   ]
  },
  {
   "cell_type": "code",
   "execution_count": 170,
   "id": "29b2c52f",
   "metadata": {},
   "outputs": [
    {
     "name": "stdout",
     "output_type": "stream",
     "text": [
      "<class 'pandas.core.frame.DataFrame'>\n",
      "Int64Index: 958125 entries, 0 to 958489\n",
      "Data columns (total 3 columns):\n",
      " #   Column       Non-Null Count   Dtype         \n",
      "---  ------       --------------   -----         \n",
      " 0   listing_id   958125 non-null  int64         \n",
      " 1   daily_price  958125 non-null  int64         \n",
      " 2   date         958125 non-null  datetime64[ns]\n",
      "dtypes: datetime64[ns](1), int64(2)\n",
      "memory usage: 69.2 MB\n"
     ]
    }
   ],
   "source": [
    "#Check all columns are integer types\n",
    "mod_calendar_data.info()"
   ]
  },
  {
   "cell_type": "code",
   "execution_count": 171,
   "id": "5c265e8d",
   "metadata": {},
   "outputs": [],
   "source": [
    "# mod_calendar_data_id_avail = mod_calendar_data.groupby(['listing_id']).sum()\n",
    "# mod_calendar_data_id_avail = mod_calendar_data_id_avail.reset_index()\n",
    "# mod_calendar_data_id_avail = mod_calendar_data_id_avail.drop(['price'], axis = 1)\n",
    "# mod_calendar_data_id_avail['perc_year_avail'] = mod_calendar_data_id_avail['available'] / 365\n",
    "# mod_calendar_data_id_avail = mod_calendar_data_id_avail.drop(['available'], axis = 1)\n",
    "# mod_calendar_data_id_avail"
   ]
  },
  {
   "cell_type": "code",
   "execution_count": 172,
   "id": "8d16dbec",
   "metadata": {},
   "outputs": [],
   "source": [
    "# mod_calendar_data_id_avail.info()"
   ]
  },
  {
   "cell_type": "markdown",
   "id": "91c8a4bc",
   "metadata": {},
   "source": [
    "## Listings Data - 2022"
   ]
  },
  {
   "cell_type": "code",
   "execution_count": 173,
   "id": "49c0c1aa",
   "metadata": {},
   "outputs": [
    {
     "data": {
      "text/html": [
       "<div>\n",
       "<style scoped>\n",
       "    .dataframe tbody tr th:only-of-type {\n",
       "        vertical-align: middle;\n",
       "    }\n",
       "\n",
       "    .dataframe tbody tr th {\n",
       "        vertical-align: top;\n",
       "    }\n",
       "\n",
       "    .dataframe thead th {\n",
       "        text-align: right;\n",
       "    }\n",
       "</style>\n",
       "<table border=\"1\" class=\"dataframe\">\n",
       "  <thead>\n",
       "    <tr style=\"text-align: right;\">\n",
       "      <th></th>\n",
       "      <th>id</th>\n",
       "      <th>listing_url</th>\n",
       "      <th>scrape_id</th>\n",
       "      <th>last_scraped</th>\n",
       "      <th>name</th>\n",
       "      <th>description</th>\n",
       "      <th>neighborhood_overview</th>\n",
       "      <th>picture_url</th>\n",
       "      <th>host_id</th>\n",
       "      <th>host_url</th>\n",
       "      <th>...</th>\n",
       "      <th>review_scores_communication</th>\n",
       "      <th>review_scores_location</th>\n",
       "      <th>review_scores_value</th>\n",
       "      <th>license</th>\n",
       "      <th>instant_bookable</th>\n",
       "      <th>calculated_host_listings_count</th>\n",
       "      <th>calculated_host_listings_count_entire_homes</th>\n",
       "      <th>calculated_host_listings_count_private_rooms</th>\n",
       "      <th>calculated_host_listings_count_shared_rooms</th>\n",
       "      <th>reviews_per_month</th>\n",
       "    </tr>\n",
       "  </thead>\n",
       "  <tbody>\n",
       "    <tr>\n",
       "      <th>0</th>\n",
       "      <td>108061</td>\n",
       "      <td>https://www.airbnb.com/rooms/108061</td>\n",
       "      <td>20211215062309</td>\n",
       "      <td>2021-12-15</td>\n",
       "      <td>Walk to stores/parks/downtown. Fenced yard/Pet...</td>\n",
       "      <td>Walk to town in ten minutes! Monthly rental in...</td>\n",
       "      <td>I love my neighborhood! Its friendly, easy-goi...</td>\n",
       "      <td>https://a0.muscache.com/pictures/41011975/0cdf...</td>\n",
       "      <td>320564</td>\n",
       "      <td>https://www.airbnb.com/users/show/320564</td>\n",
       "      <td>...</td>\n",
       "      <td>4.79</td>\n",
       "      <td>4.84</td>\n",
       "      <td>4.48</td>\n",
       "      <td>NaN</td>\n",
       "      <td>f</td>\n",
       "      <td>2</td>\n",
       "      <td>2</td>\n",
       "      <td>0</td>\n",
       "      <td>0</td>\n",
       "      <td>0.71</td>\n",
       "    </tr>\n",
       "    <tr>\n",
       "      <th>1</th>\n",
       "      <td>155305</td>\n",
       "      <td>https://www.airbnb.com/rooms/155305</td>\n",
       "      <td>20211215062309</td>\n",
       "      <td>2021-12-15</td>\n",
       "      <td>Cottage! BonPaul + Sharky's Hostel</td>\n",
       "      <td>&lt;b&gt;The space&lt;/b&gt;&lt;br /&gt;Private cottage located ...</td>\n",
       "      <td>We are within easy walk of pubs, breweries, mu...</td>\n",
       "      <td>https://a0.muscache.com/pictures/8880711/cf38d...</td>\n",
       "      <td>746673</td>\n",
       "      <td>https://www.airbnb.com/users/show/746673</td>\n",
       "      <td>...</td>\n",
       "      <td>4.76</td>\n",
       "      <td>4.93</td>\n",
       "      <td>4.53</td>\n",
       "      <td>NaN</td>\n",
       "      <td>t</td>\n",
       "      <td>7</td>\n",
       "      <td>1</td>\n",
       "      <td>2</td>\n",
       "      <td>4</td>\n",
       "      <td>2.75</td>\n",
       "    </tr>\n",
       "    <tr>\n",
       "      <th>2</th>\n",
       "      <td>156805</td>\n",
       "      <td>https://www.airbnb.com/rooms/156805</td>\n",
       "      <td>20211215062309</td>\n",
       "      <td>2021-12-15</td>\n",
       "      <td>Private Room \"Ader\" at BPS Hostel</td>\n",
       "      <td>&lt;b&gt;The space&lt;/b&gt;&lt;br /&gt;Private Rooms at Bon Pau...</td>\n",
       "      <td>Easy walk to pubs, cafes, bakery, breweries, l...</td>\n",
       "      <td>https://a0.muscache.com/pictures/23447d55-fa7e...</td>\n",
       "      <td>746673</td>\n",
       "      <td>https://www.airbnb.com/users/show/746673</td>\n",
       "      <td>...</td>\n",
       "      <td>4.61</td>\n",
       "      <td>4.84</td>\n",
       "      <td>4.46</td>\n",
       "      <td>NaN</td>\n",
       "      <td>t</td>\n",
       "      <td>7</td>\n",
       "      <td>1</td>\n",
       "      <td>2</td>\n",
       "      <td>4</td>\n",
       "      <td>0.54</td>\n",
       "    </tr>\n",
       "    <tr>\n",
       "      <th>3</th>\n",
       "      <td>156926</td>\n",
       "      <td>https://www.airbnb.com/rooms/156926</td>\n",
       "      <td>20211215062309</td>\n",
       "      <td>2021-12-15</td>\n",
       "      <td>Mixed Dorm \"Top Bunk #1\" at BPS Hostel</td>\n",
       "      <td>This is a top bunk in the mixed dorm room&lt;br /...</td>\n",
       "      <td>NaN</td>\n",
       "      <td>https://a0.muscache.com/pictures/98f4e655-c4d6...</td>\n",
       "      <td>746673</td>\n",
       "      <td>https://www.airbnb.com/users/show/746673</td>\n",
       "      <td>...</td>\n",
       "      <td>4.80</td>\n",
       "      <td>4.78</td>\n",
       "      <td>4.78</td>\n",
       "      <td>NaN</td>\n",
       "      <td>t</td>\n",
       "      <td>7</td>\n",
       "      <td>1</td>\n",
       "      <td>2</td>\n",
       "      <td>4</td>\n",
       "      <td>2.36</td>\n",
       "    </tr>\n",
       "    <tr>\n",
       "      <th>4</th>\n",
       "      <td>160594</td>\n",
       "      <td>https://www.airbnb.com/rooms/160594</td>\n",
       "      <td>20211215062309</td>\n",
       "      <td>2021-12-15</td>\n",
       "      <td>Historic Grove Park</td>\n",
       "      <td>Come enjoy the beautiful Grove Park neighborho...</td>\n",
       "      <td>NaN</td>\n",
       "      <td>https://a0.muscache.com/pictures/92433837/d340...</td>\n",
       "      <td>769252</td>\n",
       "      <td>https://www.airbnb.com/users/show/769252</td>\n",
       "      <td>...</td>\n",
       "      <td>4.88</td>\n",
       "      <td>4.90</td>\n",
       "      <td>4.85</td>\n",
       "      <td>NaN</td>\n",
       "      <td>f</td>\n",
       "      <td>1</td>\n",
       "      <td>0</td>\n",
       "      <td>1</td>\n",
       "      <td>0</td>\n",
       "      <td>0.46</td>\n",
       "    </tr>\n",
       "  </tbody>\n",
       "</table>\n",
       "<p>5 rows × 74 columns</p>\n",
       "</div>"
      ],
      "text/plain": [
       "       id                          listing_url       scrape_id last_scraped  \\\n",
       "0  108061  https://www.airbnb.com/rooms/108061  20211215062309   2021-12-15   \n",
       "1  155305  https://www.airbnb.com/rooms/155305  20211215062309   2021-12-15   \n",
       "2  156805  https://www.airbnb.com/rooms/156805  20211215062309   2021-12-15   \n",
       "3  156926  https://www.airbnb.com/rooms/156926  20211215062309   2021-12-15   \n",
       "4  160594  https://www.airbnb.com/rooms/160594  20211215062309   2021-12-15   \n",
       "\n",
       "                                                name  \\\n",
       "0  Walk to stores/parks/downtown. Fenced yard/Pet...   \n",
       "1                 Cottage! BonPaul + Sharky's Hostel   \n",
       "2                  Private Room \"Ader\" at BPS Hostel   \n",
       "3             Mixed Dorm \"Top Bunk #1\" at BPS Hostel   \n",
       "4                                Historic Grove Park   \n",
       "\n",
       "                                         description  \\\n",
       "0  Walk to town in ten minutes! Monthly rental in...   \n",
       "1  <b>The space</b><br />Private cottage located ...   \n",
       "2  <b>The space</b><br />Private Rooms at Bon Pau...   \n",
       "3  This is a top bunk in the mixed dorm room<br /...   \n",
       "4  Come enjoy the beautiful Grove Park neighborho...   \n",
       "\n",
       "                               neighborhood_overview  \\\n",
       "0  I love my neighborhood! Its friendly, easy-goi...   \n",
       "1  We are within easy walk of pubs, breweries, mu...   \n",
       "2  Easy walk to pubs, cafes, bakery, breweries, l...   \n",
       "3                                                NaN   \n",
       "4                                                NaN   \n",
       "\n",
       "                                         picture_url  host_id  \\\n",
       "0  https://a0.muscache.com/pictures/41011975/0cdf...   320564   \n",
       "1  https://a0.muscache.com/pictures/8880711/cf38d...   746673   \n",
       "2  https://a0.muscache.com/pictures/23447d55-fa7e...   746673   \n",
       "3  https://a0.muscache.com/pictures/98f4e655-c4d6...   746673   \n",
       "4  https://a0.muscache.com/pictures/92433837/d340...   769252   \n",
       "\n",
       "                                   host_url  ... review_scores_communication  \\\n",
       "0  https://www.airbnb.com/users/show/320564  ...                        4.79   \n",
       "1  https://www.airbnb.com/users/show/746673  ...                        4.76   \n",
       "2  https://www.airbnb.com/users/show/746673  ...                        4.61   \n",
       "3  https://www.airbnb.com/users/show/746673  ...                        4.80   \n",
       "4  https://www.airbnb.com/users/show/769252  ...                        4.88   \n",
       "\n",
       "  review_scores_location review_scores_value license instant_bookable  \\\n",
       "0                   4.84                4.48     NaN                f   \n",
       "1                   4.93                4.53     NaN                t   \n",
       "2                   4.84                4.46     NaN                t   \n",
       "3                   4.78                4.78     NaN                t   \n",
       "4                   4.90                4.85     NaN                f   \n",
       "\n",
       "  calculated_host_listings_count calculated_host_listings_count_entire_homes  \\\n",
       "0                              2                                           2   \n",
       "1                              7                                           1   \n",
       "2                              7                                           1   \n",
       "3                              7                                           1   \n",
       "4                              1                                           0   \n",
       "\n",
       "  calculated_host_listings_count_private_rooms  \\\n",
       "0                                            0   \n",
       "1                                            2   \n",
       "2                                            2   \n",
       "3                                            2   \n",
       "4                                            1   \n",
       "\n",
       "  calculated_host_listings_count_shared_rooms reviews_per_month  \n",
       "0                                           0              0.71  \n",
       "1                                           4              2.75  \n",
       "2                                           4              0.54  \n",
       "3                                           4              2.36  \n",
       "4                                           0              0.46  \n",
       "\n",
       "[5 rows x 74 columns]"
      ]
     },
     "execution_count": 173,
     "metadata": {},
     "output_type": "execute_result"
    }
   ],
   "source": [
    "raw_listings_data = pd.read_csv('../Data/AirBnB/Asheville/2021/asheville_listings_2021.csv')\n",
    "raw_listings_data.head()"
   ]
  },
  {
   "cell_type": "code",
   "execution_count": 174,
   "id": "c0a69144",
   "metadata": {},
   "outputs": [
    {
     "name": "stdout",
     "output_type": "stream",
     "text": [
      "<class 'pandas.core.frame.DataFrame'>\n",
      "RangeIndex: 2626 entries, 0 to 2625\n",
      "Data columns (total 74 columns):\n",
      " #   Column                                        Non-Null Count  Dtype  \n",
      "---  ------                                        --------------  -----  \n",
      " 0   id                                            2626 non-null   int64  \n",
      " 1   listing_url                                   2626 non-null   object \n",
      " 2   scrape_id                                     2626 non-null   int64  \n",
      " 3   last_scraped                                  2626 non-null   object \n",
      " 4   name                                          2626 non-null   object \n",
      " 5   description                                   2621 non-null   object \n",
      " 6   neighborhood_overview                         2040 non-null   object \n",
      " 7   picture_url                                   2626 non-null   object \n",
      " 8   host_id                                       2626 non-null   int64  \n",
      " 9   host_url                                      2626 non-null   object \n",
      " 10  host_name                                     2626 non-null   object \n",
      " 11  host_since                                    2626 non-null   object \n",
      " 12  host_location                                 2622 non-null   object \n",
      " 13  host_about                                    1744 non-null   object \n",
      " 14  host_response_time                            2165 non-null   object \n",
      " 15  host_response_rate                            2165 non-null   object \n",
      " 16  host_acceptance_rate                          2249 non-null   object \n",
      " 17  host_is_superhost                             2626 non-null   object \n",
      " 18  host_thumbnail_url                            2626 non-null   object \n",
      " 19  host_picture_url                              2626 non-null   object \n",
      " 20  host_neighbourhood                            658 non-null    object \n",
      " 21  host_listings_count                           2626 non-null   int64  \n",
      " 22  host_total_listings_count                     2626 non-null   int64  \n",
      " 23  host_verifications                            2626 non-null   object \n",
      " 24  host_has_profile_pic                          2626 non-null   object \n",
      " 25  host_identity_verified                        2626 non-null   object \n",
      " 26  neighbourhood                                 2041 non-null   object \n",
      " 27  neighbourhood_cleansed                        2626 non-null   int64  \n",
      " 28  neighbourhood_group_cleansed                  0 non-null      float64\n",
      " 29  latitude                                      2626 non-null   float64\n",
      " 30  longitude                                     2626 non-null   float64\n",
      " 31  property_type                                 2626 non-null   object \n",
      " 32  room_type                                     2626 non-null   object \n",
      " 33  accommodates                                  2626 non-null   int64  \n",
      " 34  bathrooms                                     0 non-null      float64\n",
      " 35  bathrooms_text                                2625 non-null   object \n",
      " 36  bedrooms                                      2463 non-null   float64\n",
      " 37  beds                                          2558 non-null   float64\n",
      " 38  amenities                                     2626 non-null   object \n",
      " 39  price                                         2626 non-null   object \n",
      " 40  minimum_nights                                2626 non-null   int64  \n",
      " 41  maximum_nights                                2626 non-null   int64  \n",
      " 42  minimum_minimum_nights                        2626 non-null   int64  \n",
      " 43  maximum_minimum_nights                        2626 non-null   int64  \n",
      " 44  minimum_maximum_nights                        2626 non-null   int64  \n",
      " 45  maximum_maximum_nights                        2626 non-null   int64  \n",
      " 46  minimum_nights_avg_ntm                        2626 non-null   float64\n",
      " 47  maximum_nights_avg_ntm                        2626 non-null   float64\n",
      " 48  calendar_updated                              0 non-null      float64\n",
      " 49  has_availability                              2626 non-null   object \n",
      " 50  availability_30                               2626 non-null   int64  \n",
      " 51  availability_60                               2626 non-null   int64  \n",
      " 52  availability_90                               2626 non-null   int64  \n",
      " 53  availability_365                              2626 non-null   int64  \n",
      " 54  calendar_last_scraped                         2626 non-null   object \n",
      " 55  number_of_reviews                             2626 non-null   int64  \n",
      " 56  number_of_reviews_ltm                         2626 non-null   int64  \n",
      " 57  number_of_reviews_l30d                        2626 non-null   int64  \n",
      " 58  first_review                                  2487 non-null   object \n",
      " 59  last_review                                   2487 non-null   object \n",
      " 60  review_scores_rating                          2487 non-null   float64\n",
      " 61  review_scores_accuracy                        2485 non-null   float64\n",
      " 62  review_scores_cleanliness                     2485 non-null   float64\n",
      " 63  review_scores_checkin                         2485 non-null   float64\n",
      " 64  review_scores_communication                   2485 non-null   float64\n",
      " 65  review_scores_location                        2485 non-null   float64\n",
      " 66  review_scores_value                           2485 non-null   float64\n",
      " 67  license                                       0 non-null      float64\n",
      " 68  instant_bookable                              2626 non-null   object \n",
      " 69  calculated_host_listings_count                2626 non-null   int64  \n",
      " 70  calculated_host_listings_count_entire_homes   2626 non-null   int64  \n",
      " 71  calculated_host_listings_count_private_rooms  2626 non-null   int64  \n",
      " 72  calculated_host_listings_count_shared_rooms   2626 non-null   int64  \n",
      " 73  reviews_per_month                             2487 non-null   float64\n",
      "dtypes: float64(18), int64(24), object(32)\n",
      "memory usage: 1.5+ MB\n"
     ]
    }
   ],
   "source": [
    "raw_listings_data.info()"
   ]
  },
  {
   "cell_type": "code",
   "execution_count": 175,
   "id": "dc6f137d",
   "metadata": {},
   "outputs": [],
   "source": [
    "#Remove irrelevant review columns\n",
    "mod_listing_data = raw_listings_data.drop(labels = ['review_scores_accuracy', \n",
    "                                                    'review_scores_cleanliness', \n",
    "                                                    'review_scores_checkin', \n",
    "                                                    'review_scores_communication', \n",
    "                                                    'review_scores_location',\n",
    "                                                    'calendar_updated', \n",
    "                                                    'license'], axis = 1)"
   ]
  },
  {
   "cell_type": "code",
   "execution_count": 176,
   "id": "09381e19",
   "metadata": {},
   "outputs": [],
   "source": [
    "#Remove irrelevant host columns\n",
    "mod_listing_data = mod_listing_data.drop(labels = ['host_name', \n",
    "                                                   'host_since', \n",
    "                                                   'host_location', \n",
    "                                                   'host_about', \n",
    "                                                   'host_response_time', \n",
    "                                                   'host_acceptance_rate',\n",
    "                                                   'host_thumbnail_url', \n",
    "                                                   'host_picture_url', \n",
    "                                                   'host_neighbourhood', \n",
    "                                                   'host_listings_count', \n",
    "                                                   'host_total_listings_count', \n",
    "                                                   'host_verifications', \n",
    "                                                   'host_has_profile_pic',\n",
    "                                                   'first_review',\n",
    "                                                   'last_review'], axis = 1)"
   ]
  },
  {
   "cell_type": "code",
   "execution_count": 177,
   "id": "918b0615",
   "metadata": {},
   "outputs": [],
   "source": [
    "#Remove\n",
    "\n",
    "mod_listing_data = mod_listing_data.drop(labels = ['scrape_id',\n",
    "                                                  'last_scraped',\n",
    "                                                  'neighbourhood_cleansed',\n",
    "                                                  'neighbourhood_group_cleansed',\n",
    "                                                  'property_type',\n",
    "                                                  'bathrooms',\n",
    "                                                  'price',\n",
    "                                                   'minimum_minimum_nights',\n",
    "                                                   'maximum_minimum_nights',\n",
    "                                                   'minimum_maximum_nights',\n",
    "                                                   'maximum_maximum_nights',\n",
    "                                                   'minimum_nights_avg_ntm',\n",
    "                                                   'maximum_nights_avg_ntm',\n",
    "                                                   'has_availability',\n",
    "                                                   'availability_30',\n",
    "                                                   'availability_60',\n",
    "                                                   'availability_90',\n",
    "                                                   'availability_365',\n",
    "                                                   'calendar_last_scraped',\n",
    "                                                   'number_of_reviews_ltm',\n",
    "                                                   'number_of_reviews_l30d',\n",
    "                                                   'calculated_host_listings_count',\n",
    "                                                   'calculated_host_listings_count_entire_homes',\n",
    "                                                   'calculated_host_listings_count_private_rooms',\n",
    "                                                   'calculated_host_listings_count_shared_rooms',\n",
    "                                                  'neighborhood_overview',\n",
    "                                                  'reviews_per_month',\n",
    "                                                  'review_scores_value',\n",
    "                                                  'host_response_rate',\n",
    "                                                  'description'], axis = 1)"
   ]
  },
  {
   "cell_type": "code",
   "execution_count": 178,
   "id": "d856b99e",
   "metadata": {},
   "outputs": [
    {
     "name": "stdout",
     "output_type": "stream",
     "text": [
      "<class 'pandas.core.frame.DataFrame'>\n",
      "RangeIndex: 2626 entries, 0 to 2625\n",
      "Data columns (total 22 columns):\n",
      " #   Column                  Non-Null Count  Dtype  \n",
      "---  ------                  --------------  -----  \n",
      " 0   id                      2626 non-null   int64  \n",
      " 1   listing_url             2626 non-null   object \n",
      " 2   name                    2626 non-null   object \n",
      " 3   picture_url             2626 non-null   object \n",
      " 4   host_id                 2626 non-null   int64  \n",
      " 5   host_url                2626 non-null   object \n",
      " 6   host_is_superhost       2626 non-null   object \n",
      " 7   host_identity_verified  2626 non-null   object \n",
      " 8   neighbourhood           2041 non-null   object \n",
      " 9   latitude                2626 non-null   float64\n",
      " 10  longitude               2626 non-null   float64\n",
      " 11  room_type               2626 non-null   object \n",
      " 12  accommodates            2626 non-null   int64  \n",
      " 13  bathrooms_text          2625 non-null   object \n",
      " 14  bedrooms                2463 non-null   float64\n",
      " 15  beds                    2558 non-null   float64\n",
      " 16  amenities               2626 non-null   object \n",
      " 17  minimum_nights          2626 non-null   int64  \n",
      " 18  maximum_nights          2626 non-null   int64  \n",
      " 19  number_of_reviews       2626 non-null   int64  \n",
      " 20  review_scores_rating    2487 non-null   float64\n",
      " 21  instant_bookable        2626 non-null   object \n",
      "dtypes: float64(5), int64(6), object(11)\n",
      "memory usage: 451.5+ KB\n"
     ]
    }
   ],
   "source": [
    "mod_listing_data.info()"
   ]
  },
  {
   "cell_type": "code",
   "execution_count": 179,
   "id": "08bee78c",
   "metadata": {},
   "outputs": [
    {
     "data": {
      "text/plain": [
       "0"
      ]
     },
     "execution_count": 179,
     "metadata": {},
     "output_type": "execute_result"
    }
   ],
   "source": [
    "#Fill the missing neighborhood data with 'Asheville, North Carolina, United States'\n",
    "mod_listing_data['neighbourhood'] = mod_listing_data['neighbourhood'].fillna('Asheville, North Carolina, United States')\n",
    "mod_listing_data['neighbourhood'].isna().sum()"
   ]
  },
  {
   "cell_type": "code",
   "execution_count": 180,
   "id": "393d65a2",
   "metadata": {},
   "outputs": [
    {
     "name": "stdout",
     "output_type": "stream",
     "text": [
      "<class 'pandas.core.frame.DataFrame'>\n",
      "Int64Index: 2626 entries, 0 to 2625\n",
      "Data columns (total 22 columns):\n",
      " #   Column                  Non-Null Count  Dtype  \n",
      "---  ------                  --------------  -----  \n",
      " 0   id                      2626 non-null   int64  \n",
      " 1   listing_url             2626 non-null   object \n",
      " 2   name                    2626 non-null   object \n",
      " 3   picture_url             2626 non-null   object \n",
      " 4   host_id                 2626 non-null   int64  \n",
      " 5   host_url                2626 non-null   object \n",
      " 6   host_is_superhost       2626 non-null   object \n",
      " 7   host_identity_verified  2626 non-null   object \n",
      " 8   latitude                2626 non-null   float64\n",
      " 9   longitude               2626 non-null   float64\n",
      " 10  room_type               2626 non-null   object \n",
      " 11  accommodates            2626 non-null   int64  \n",
      " 12  bathrooms_text          2625 non-null   object \n",
      " 13  bedrooms                2463 non-null   float64\n",
      " 14  beds                    2558 non-null   float64\n",
      " 15  amenities               2626 non-null   object \n",
      " 16  minimum_nights          2626 non-null   int64  \n",
      " 17  maximum_nights          2626 non-null   int64  \n",
      " 18  number_of_reviews       2626 non-null   int64  \n",
      " 19  review_scores_rating    2487 non-null   float64\n",
      " 20  instant_bookable        2626 non-null   object \n",
      " 21  neighborhood            2626 non-null   object \n",
      "dtypes: float64(5), int64(6), object(11)\n",
      "memory usage: 551.9+ KB\n"
     ]
    }
   ],
   "source": [
    "test_neighbor_df = mod_listing_data['neighbourhood'].str.split(\",\", expand=True)\n",
    "test_neighbor_df = test_neighbor_df.rename(columns = {0 : 'neighborhood'})\n",
    "test_neighbor_df = test_neighbor_df.drop(labels = [1, 2, 3, 4], axis = 1)\n",
    "mod_listing_data = mod_listing_data.join(test_neighbor_df, how = 'outer')\n",
    "mod_listing_data = mod_listing_data.drop(labels = ['neighbourhood'], axis = 1)\n",
    "mod_listing_data.info()"
   ]
  },
  {
   "cell_type": "code",
   "execution_count": 181,
   "id": "04e8b04f",
   "metadata": {},
   "outputs": [],
   "source": [
    "mod_listing_data['neighborhood'] = mod_listing_data['neighborhood'].replace(['Ashville'],['Asheville'])\n",
    "\n",
    "neigh_to_drop = mod_listing_data[(mod_listing_data['neighborhood'] == 'Leicester') | \n",
    "                                 (mod_listing_data['neighborhood'] == 'Swannanoa') | \n",
    "                                 (mod_listing_data['neighborhood'] == 'Avery Creek') | \n",
    "                                 (mod_listing_data['neighborhood'] == 'Fairview') |\n",
    "                                 (mod_listing_data['neighborhood'] == 'Limestone') |\n",
    "                                 (mod_listing_data['neighborhood'] == 'Biltmore Forest')].index\n",
    "mod_listing_data = mod_listing_data.drop(neigh_to_drop)"
   ]
  },
  {
   "cell_type": "code",
   "execution_count": 182,
   "id": "86b8e130",
   "metadata": {},
   "outputs": [],
   "source": [
    "mod_listing_data['neighborhood'] = mod_listing_data['neighborhood'].replace(['Asheville '], 'Asheville')"
   ]
  },
  {
   "cell_type": "code",
   "execution_count": 183,
   "id": "0bd858e8",
   "metadata": {},
   "outputs": [
    {
     "data": {
      "text/plain": [
       "Asheville    2323\n",
       "Arden         131\n",
       "Woodfin        62\n",
       "Candler        54\n",
       "Fletcher       47\n",
       "Name: neighborhood, dtype: int64"
      ]
     },
     "execution_count": 183,
     "metadata": {},
     "output_type": "execute_result"
    }
   ],
   "source": [
    "mod_listing_data['neighborhood'].value_counts()"
   ]
  },
  {
   "cell_type": "code",
   "execution_count": 184,
   "id": "f2d7a72c",
   "metadata": {},
   "outputs": [],
   "source": [
    "#Remove rows with no bedrooms data\n",
    "mod_listing_data = mod_listing_data.dropna(subset = ['bedrooms', \n",
    "                                                     'beds', \n",
    "                                                     'review_scores_rating', \n",
    "                                                     'bathrooms_text'], axis = 0)"
   ]
  },
  {
   "cell_type": "code",
   "execution_count": 185,
   "id": "4a187cc2",
   "metadata": {},
   "outputs": [
    {
     "data": {
      "text/plain": [
       "id                        0\n",
       "listing_url               0\n",
       "name                      0\n",
       "picture_url               0\n",
       "host_id                   0\n",
       "host_url                  0\n",
       "host_is_superhost         0\n",
       "host_identity_verified    0\n",
       "latitude                  0\n",
       "longitude                 0\n",
       "room_type                 0\n",
       "accommodates              0\n",
       "bathrooms_text            0\n",
       "bedrooms                  0\n",
       "beds                      0\n",
       "amenities                 0\n",
       "minimum_nights            0\n",
       "maximum_nights            0\n",
       "number_of_reviews         0\n",
       "review_scores_rating      0\n",
       "instant_bookable          0\n",
       "neighborhood              0\n",
       "dtype: int64"
      ]
     },
     "execution_count": 185,
     "metadata": {},
     "output_type": "execute_result"
    }
   ],
   "source": [
    "mod_listing_data.isna().sum()"
   ]
  },
  {
   "cell_type": "code",
   "execution_count": 186,
   "id": "92e77c5f",
   "metadata": {},
   "outputs": [
    {
     "data": {
      "text/plain": [
       "1    1703\n",
       "0     566\n",
       "Name: host_is_superhost, dtype: int64"
      ]
     },
     "execution_count": 186,
     "metadata": {},
     "output_type": "execute_result"
    }
   ],
   "source": [
    "#Replace the false and true values with 0 and 1\n",
    "mod_listing_data['host_is_superhost'] = mod_listing_data['host_is_superhost'].replace(['f', 't'],[0, 1])\n",
    "mod_listing_data['host_is_superhost'].value_counts()"
   ]
  },
  {
   "cell_type": "code",
   "execution_count": 187,
   "id": "c423e8a4",
   "metadata": {},
   "outputs": [
    {
     "data": {
      "text/plain": [
       "1    1798\n",
       "0     471\n",
       "Name: host_identity_verified, dtype: int64"
      ]
     },
     "execution_count": 187,
     "metadata": {},
     "output_type": "execute_result"
    }
   ],
   "source": [
    "#Replace the false and true values with 0 and 1\n",
    "mod_listing_data['host_identity_verified'] = mod_listing_data['host_identity_verified'].replace(['f', 't'],[0, 1])\n",
    "mod_listing_data['host_identity_verified'].value_counts()"
   ]
  },
  {
   "cell_type": "code",
   "execution_count": 188,
   "id": "21906186",
   "metadata": {},
   "outputs": [
    {
     "data": {
      "text/plain": [
       "1    1322\n",
       "0     947\n",
       "Name: instant_bookable, dtype: int64"
      ]
     },
     "execution_count": 188,
     "metadata": {},
     "output_type": "execute_result"
    }
   ],
   "source": [
    "#Replace the false and true values with 0 and 1\n",
    "mod_listing_data['instant_bookable'] = mod_listing_data['instant_bookable'].replace(['f', 't'],[0, 1])\n",
    "mod_listing_data['instant_bookable'].value_counts()"
   ]
  },
  {
   "cell_type": "code",
   "execution_count": 189,
   "id": "64469779",
   "metadata": {},
   "outputs": [
    {
     "data": {
      "text/plain": [
       "Asheville    2008\n",
       "Arden         117\n",
       "Woodfin        54\n",
       "Candler        47\n",
       "Fletcher       43\n",
       "Name: neighborhood, dtype: int64"
      ]
     },
     "execution_count": 189,
     "metadata": {},
     "output_type": "execute_result"
    }
   ],
   "source": [
    "mod_listing_data['neighborhood'].value_counts()"
   ]
  },
  {
   "cell_type": "code",
   "execution_count": 190,
   "id": "21264710",
   "metadata": {},
   "outputs": [
    {
     "data": {
      "text/plain": [
       "1 bath              1122\n",
       "2 baths              481\n",
       "1 private bath       201\n",
       "3 baths              102\n",
       "2.5 baths            100\n",
       "1.5 baths             92\n",
       "1 shared bath         67\n",
       "3.5 baths             32\n",
       "4 baths               26\n",
       "1.5 shared baths       8\n",
       "4.5 baths              8\n",
       "2 shared baths         7\n",
       "5 baths                7\n",
       "2.5 shared baths       6\n",
       "6 baths                4\n",
       "5.5 baths              3\n",
       "8 baths                1\n",
       "0 baths                1\n",
       "7 baths                1\n",
       "Name: bathrooms_text, dtype: int64"
      ]
     },
     "execution_count": 190,
     "metadata": {},
     "output_type": "execute_result"
    }
   ],
   "source": [
    "mod_listing_data['bathrooms_text'].value_counts()"
   ]
  },
  {
   "cell_type": "code",
   "execution_count": 191,
   "id": "a439290a",
   "metadata": {},
   "outputs": [
    {
     "data": {
      "text/plain": [
       "1    1322\n",
       "0     947\n",
       "Name: instant_bookable, dtype: int64"
      ]
     },
     "execution_count": 191,
     "metadata": {},
     "output_type": "execute_result"
    }
   ],
   "source": [
    "mod_listing_data['instant_bookable'].value_counts()"
   ]
  },
  {
   "cell_type": "code",
   "execution_count": 192,
   "id": "4becc830",
   "metadata": {},
   "outputs": [
    {
     "data": {
      "text/plain": [
       "1.0     779\n",
       "2.0     685\n",
       "3.0     374\n",
       "4.0     196\n",
       "5.0      99\n",
       "6.0      69\n",
       "7.0      27\n",
       "8.0      14\n",
       "9.0       9\n",
       "11.0      6\n",
       "12.0      4\n",
       "10.0      3\n",
       "21.0      2\n",
       "15.0      1\n",
       "13.0      1\n",
       "Name: beds, dtype: int64"
      ]
     },
     "execution_count": 192,
     "metadata": {},
     "output_type": "execute_result"
    }
   ],
   "source": [
    "mod_listing_data['beds'].value_counts()"
   ]
  },
  {
   "cell_type": "code",
   "execution_count": 193,
   "id": "b07aa547",
   "metadata": {},
   "outputs": [
    {
     "name": "stdout",
     "output_type": "stream",
     "text": [
      "<class 'pandas.core.frame.DataFrame'>\n",
      "Int64Index: 2269 entries, 0 to 2618\n",
      "Data columns (total 22 columns):\n",
      " #   Column                  Non-Null Count  Dtype  \n",
      "---  ------                  --------------  -----  \n",
      " 0   id                      2269 non-null   int64  \n",
      " 1   listing_url             2269 non-null   object \n",
      " 2   name                    2269 non-null   object \n",
      " 3   picture_url             2269 non-null   object \n",
      " 4   host_id                 2269 non-null   int64  \n",
      " 5   host_url                2269 non-null   object \n",
      " 6   host_is_superhost       2269 non-null   int64  \n",
      " 7   host_identity_verified  2269 non-null   int64  \n",
      " 8   latitude                2269 non-null   float64\n",
      " 9   longitude               2269 non-null   float64\n",
      " 10  room_type               2269 non-null   object \n",
      " 11  accommodates            2269 non-null   int64  \n",
      " 12  bathrooms_text          2269 non-null   object \n",
      " 13  bedrooms                2269 non-null   float64\n",
      " 14  beds                    2269 non-null   float64\n",
      " 15  amenities               2269 non-null   object \n",
      " 16  minimum_nights          2269 non-null   int64  \n",
      " 17  maximum_nights          2269 non-null   int64  \n",
      " 18  number_of_reviews       2269 non-null   int64  \n",
      " 19  review_scores_rating    2269 non-null   float64\n",
      " 20  instant_bookable        2269 non-null   int64  \n",
      " 21  neighborhood            2269 non-null   object \n",
      "dtypes: float64(5), int64(9), object(8)\n",
      "memory usage: 407.7+ KB\n"
     ]
    }
   ],
   "source": [
    "mod_listing_data.info()"
   ]
  },
  {
   "cell_type": "code",
   "execution_count": 194,
   "id": "1853b07b",
   "metadata": {},
   "outputs": [
    {
     "data": {
      "text/plain": [
       "0"
      ]
     },
     "execution_count": 194,
     "metadata": {},
     "output_type": "execute_result"
    }
   ],
   "source": [
    "mod_listing_data['bathrooms_text'].isna().sum()"
   ]
  },
  {
   "cell_type": "code",
   "execution_count": 195,
   "id": "bf1d9771",
   "metadata": {},
   "outputs": [
    {
     "data": {
      "text/plain": [
       "1 bath              1122\n",
       "2 baths              481\n",
       "1 private bath       201\n",
       "3 baths              102\n",
       "2.5 baths            100\n",
       "1.5 baths             92\n",
       "1 shared bath         67\n",
       "3.5 baths             32\n",
       "4 baths               26\n",
       "1.5 shared baths       8\n",
       "4.5 baths              8\n",
       "2 shared baths         7\n",
       "5 baths                7\n",
       "2.5 shared baths       6\n",
       "6 baths                4\n",
       "5.5 baths              3\n",
       "8 baths                1\n",
       "0 baths                1\n",
       "7 baths                1\n",
       "Name: bathrooms_text, dtype: int64"
      ]
     },
     "execution_count": 195,
     "metadata": {},
     "output_type": "execute_result"
    }
   ],
   "source": [
    "mod_listing_data['bathrooms_text'].value_counts()"
   ]
  },
  {
   "cell_type": "code",
   "execution_count": 196,
   "id": "f2de62dc",
   "metadata": {},
   "outputs": [],
   "source": [
    "mod_listing_data['bathrooms_text'] = mod_listing_data['bathrooms_text'].replace(['Shared half-bath', 'Half-bath', \n",
    "                                                                                'Private half-bath'],\n",
    "                                                                                 [0.5, 0.5, 0.5])"
   ]
  },
  {
   "cell_type": "code",
   "execution_count": 197,
   "id": "cdf0ad6c",
   "metadata": {},
   "outputs": [
    {
     "data": {
      "text/plain": [
       "0"
      ]
     },
     "execution_count": 197,
     "metadata": {},
     "output_type": "execute_result"
    }
   ],
   "source": [
    "mod_listing_data['bathrooms_text'].isna().sum()"
   ]
  },
  {
   "cell_type": "code",
   "execution_count": 198,
   "id": "54000195",
   "metadata": {},
   "outputs": [
    {
     "data": {
      "text/plain": [
       "1 bath              1122\n",
       "2 baths              481\n",
       "1 private bath       201\n",
       "3 baths              102\n",
       "2.5 baths            100\n",
       "1.5 baths             92\n",
       "1 shared bath         67\n",
       "3.5 baths             32\n",
       "4 baths               26\n",
       "1.5 shared baths       8\n",
       "4.5 baths              8\n",
       "2 shared baths         7\n",
       "5 baths                7\n",
       "2.5 shared baths       6\n",
       "6 baths                4\n",
       "5.5 baths              3\n",
       "8 baths                1\n",
       "0 baths                1\n",
       "7 baths                1\n",
       "Name: bathrooms_text, dtype: int64"
      ]
     },
     "execution_count": 198,
     "metadata": {},
     "output_type": "execute_result"
    }
   ],
   "source": [
    "mod_listing_data['bathrooms_text'].value_counts()"
   ]
  },
  {
   "cell_type": "code",
   "execution_count": 199,
   "id": "5bfb2902",
   "metadata": {},
   "outputs": [
    {
     "name": "stdout",
     "output_type": "stream",
     "text": [
      "<class 'pandas.core.frame.DataFrame'>\n",
      "Int64Index: 2269 entries, 0 to 2618\n",
      "Data columns (total 22 columns):\n",
      " #   Column                  Non-Null Count  Dtype  \n",
      "---  ------                  --------------  -----  \n",
      " 0   id                      2269 non-null   int64  \n",
      " 1   listing_url             2269 non-null   object \n",
      " 2   name                    2269 non-null   object \n",
      " 3   picture_url             2269 non-null   object \n",
      " 4   host_id                 2269 non-null   int64  \n",
      " 5   host_url                2269 non-null   object \n",
      " 6   host_is_superhost       2269 non-null   int64  \n",
      " 7   host_identity_verified  2269 non-null   int64  \n",
      " 8   latitude                2269 non-null   float64\n",
      " 9   longitude               2269 non-null   float64\n",
      " 10  room_type               2269 non-null   object \n",
      " 11  accommodates            2269 non-null   int64  \n",
      " 12  bedrooms                2269 non-null   float64\n",
      " 13  beds                    2269 non-null   float64\n",
      " 14  amenities               2269 non-null   object \n",
      " 15  minimum_nights          2269 non-null   int64  \n",
      " 16  maximum_nights          2269 non-null   int64  \n",
      " 17  number_of_reviews       2269 non-null   int64  \n",
      " 18  review_scores_rating    2269 non-null   float64\n",
      " 19  instant_bookable        2269 non-null   int64  \n",
      " 20  neighborhood            2269 non-null   object \n",
      " 21  bathrooms               2269 non-null   float64\n",
      "dtypes: float64(6), int64(9), object(7)\n",
      "memory usage: 487.7+ KB\n"
     ]
    }
   ],
   "source": [
    "# mod_listing_data['bathrooms_text'] = mod_listing_data['bathrooms_text'].str.split(\" \", n = 1, expand = True)\n",
    "\n",
    "test_df = mod_listing_data['bathrooms_text'].str.split(\" \", expand=True)\n",
    "test_df = test_df.rename(columns = {0 : 'bathrooms'})\n",
    "test_df = test_df.drop(labels = [1, 2], axis = 1)\n",
    "mod_listing_data = mod_listing_data.join(test_df, how = 'outer')\n",
    "mod_listing_data = mod_listing_data.drop(labels = ['bathrooms_text'], axis = 1)\n",
    "mod_listing_data['bathrooms'] = mod_listing_data['bathrooms'].fillna(0.5)\n",
    "mod_listing_data['bathrooms'] = pd.to_numeric(mod_listing_data['bathrooms'])\n",
    "mod_listing_data.info()"
   ]
  },
  {
   "cell_type": "code",
   "execution_count": 200,
   "id": "f6d40665",
   "metadata": {},
   "outputs": [],
   "source": [
    "target_amenities = ['Air conditioning', 'Wifi', 'TV', 'Kitchen', 'Washer', 'Dryer', 'Heating']"
   ]
  },
  {
   "cell_type": "code",
   "execution_count": 201,
   "id": "ad2ce98d",
   "metadata": {},
   "outputs": [],
   "source": [
    "def add_amenity_column(amenity_name):\n",
    "    mod_listing_data[amenity_name] = mod_listing_data['amenities'].str.contains(amenity_name, regex=False)\n",
    "    mod_listing_data[amenity_name] = mod_listing_data[amenity_name].replace([False, True],[0, 1])"
   ]
  },
  {
   "cell_type": "code",
   "execution_count": 202,
   "id": "51058c60",
   "metadata": {},
   "outputs": [],
   "source": [
    "add_amenity_column(target_amenities[0])\n",
    "add_amenity_column(target_amenities[1])\n",
    "add_amenity_column(target_amenities[2])\n",
    "add_amenity_column(target_amenities[3])\n",
    "add_amenity_column(target_amenities[4])\n",
    "add_amenity_column(target_amenities[5])\n",
    "add_amenity_column(target_amenities[6])"
   ]
  },
  {
   "cell_type": "code",
   "execution_count": 203,
   "id": "a36fc79b",
   "metadata": {},
   "outputs": [],
   "source": [
    "mod_listing_data = mod_listing_data.drop(['amenities'], axis = 1)"
   ]
  },
  {
   "cell_type": "code",
   "execution_count": 204,
   "id": "3ccb8735",
   "metadata": {},
   "outputs": [
    {
     "name": "stdout",
     "output_type": "stream",
     "text": [
      "<class 'pandas.core.frame.DataFrame'>\n",
      "Int64Index: 2269 entries, 0 to 2618\n",
      "Data columns (total 28 columns):\n",
      " #   Column                  Non-Null Count  Dtype  \n",
      "---  ------                  --------------  -----  \n",
      " 0   listing_id              2269 non-null   int64  \n",
      " 1   listing_url             2269 non-null   object \n",
      " 2   name                    2269 non-null   object \n",
      " 3   picture_url             2269 non-null   object \n",
      " 4   host_id                 2269 non-null   int64  \n",
      " 5   host_url                2269 non-null   object \n",
      " 6   host_is_superhost       2269 non-null   int64  \n",
      " 7   host_identity_verified  2269 non-null   int64  \n",
      " 8   latitude                2269 non-null   float64\n",
      " 9   longitude               2269 non-null   float64\n",
      " 10  room_type               2269 non-null   object \n",
      " 11  accommodates            2269 non-null   int64  \n",
      " 12  bedrooms                2269 non-null   float64\n",
      " 13  beds                    2269 non-null   float64\n",
      " 14  minimum_nights          2269 non-null   int64  \n",
      " 15  maximum_nights          2269 non-null   int64  \n",
      " 16  number_of_reviews       2269 non-null   int64  \n",
      " 17  review_scores_rating    2269 non-null   float64\n",
      " 18  instant_bookable        2269 non-null   int64  \n",
      " 19  neighborhood            2269 non-null   object \n",
      " 20  bathrooms               2269 non-null   float64\n",
      " 21  Air conditioning        2269 non-null   int64  \n",
      " 22  Wifi                    2269 non-null   int64  \n",
      " 23  TV                      2269 non-null   int64  \n",
      " 24  Kitchen                 2269 non-null   int64  \n",
      " 25  Washer                  2269 non-null   int64  \n",
      " 26  Dryer                   2269 non-null   int64  \n",
      " 27  Heating                 2269 non-null   int64  \n",
      "dtypes: float64(6), int64(16), object(6)\n",
      "memory usage: 594.1+ KB\n"
     ]
    }
   ],
   "source": [
    "mod_listing_data['listing_id'] = mod_listing_data['id']\n",
    "mod_listing_data = mod_listing_data.drop(['id'], axis = 1)\n",
    "column_to_move = mod_listing_data.pop('listing_id')\n",
    "mod_listing_data.insert(0, 'listing_id', column_to_move)\n",
    "mod_listing_data.info()"
   ]
  },
  {
   "cell_type": "markdown",
   "id": "fa6b1deb",
   "metadata": {},
   "source": [
    "## Combine Calendar Data and Listings Data"
   ]
  },
  {
   "cell_type": "code",
   "execution_count": 205,
   "id": "9c0c96eb",
   "metadata": {},
   "outputs": [
    {
     "data": {
      "text/html": [
       "<div>\n",
       "<style scoped>\n",
       "    .dataframe tbody tr th:only-of-type {\n",
       "        vertical-align: middle;\n",
       "    }\n",
       "\n",
       "    .dataframe tbody tr th {\n",
       "        vertical-align: top;\n",
       "    }\n",
       "\n",
       "    .dataframe thead th {\n",
       "        text-align: right;\n",
       "    }\n",
       "</style>\n",
       "<table border=\"1\" class=\"dataframe\">\n",
       "  <thead>\n",
       "    <tr style=\"text-align: right;\">\n",
       "      <th></th>\n",
       "      <th>listing_id</th>\n",
       "      <th>daily_price</th>\n",
       "      <th>date</th>\n",
       "    </tr>\n",
       "  </thead>\n",
       "  <tbody>\n",
       "    <tr>\n",
       "      <th>0</th>\n",
       "      <td>881707</td>\n",
       "      <td>93</td>\n",
       "      <td>2021-12-15</td>\n",
       "    </tr>\n",
       "    <tr>\n",
       "      <th>1</th>\n",
       "      <td>910737</td>\n",
       "      <td>156</td>\n",
       "      <td>2021-12-15</td>\n",
       "    </tr>\n",
       "    <tr>\n",
       "      <th>2</th>\n",
       "      <td>910737</td>\n",
       "      <td>156</td>\n",
       "      <td>2021-12-16</td>\n",
       "    </tr>\n",
       "    <tr>\n",
       "      <th>3</th>\n",
       "      <td>910737</td>\n",
       "      <td>135</td>\n",
       "      <td>2021-12-17</td>\n",
       "    </tr>\n",
       "    <tr>\n",
       "      <th>4</th>\n",
       "      <td>910737</td>\n",
       "      <td>135</td>\n",
       "      <td>2021-12-18</td>\n",
       "    </tr>\n",
       "    <tr>\n",
       "      <th>...</th>\n",
       "      <td>...</td>\n",
       "      <td>...</td>\n",
       "      <td>...</td>\n",
       "    </tr>\n",
       "    <tr>\n",
       "      <th>958485</th>\n",
       "      <td>51875440</td>\n",
       "      <td>807</td>\n",
       "      <td>2022-12-10</td>\n",
       "    </tr>\n",
       "    <tr>\n",
       "      <th>958486</th>\n",
       "      <td>51875440</td>\n",
       "      <td>718</td>\n",
       "      <td>2022-12-11</td>\n",
       "    </tr>\n",
       "    <tr>\n",
       "      <th>958487</th>\n",
       "      <td>51875440</td>\n",
       "      <td>706</td>\n",
       "      <td>2022-12-12</td>\n",
       "    </tr>\n",
       "    <tr>\n",
       "      <th>958488</th>\n",
       "      <td>51875440</td>\n",
       "      <td>696</td>\n",
       "      <td>2022-12-13</td>\n",
       "    </tr>\n",
       "    <tr>\n",
       "      <th>958489</th>\n",
       "      <td>51875440</td>\n",
       "      <td>687</td>\n",
       "      <td>2022-12-14</td>\n",
       "    </tr>\n",
       "  </tbody>\n",
       "</table>\n",
       "<p>958125 rows × 3 columns</p>\n",
       "</div>"
      ],
      "text/plain": [
       "        listing_id  daily_price       date\n",
       "0           881707           93 2021-12-15\n",
       "1           910737          156 2021-12-15\n",
       "2           910737          156 2021-12-16\n",
       "3           910737          135 2021-12-17\n",
       "4           910737          135 2021-12-18\n",
       "...            ...          ...        ...\n",
       "958485    51875440          807 2022-12-10\n",
       "958486    51875440          718 2022-12-11\n",
       "958487    51875440          706 2022-12-12\n",
       "958488    51875440          696 2022-12-13\n",
       "958489    51875440          687 2022-12-14\n",
       "\n",
       "[958125 rows x 3 columns]"
      ]
     },
     "execution_count": 205,
     "metadata": {},
     "output_type": "execute_result"
    }
   ],
   "source": [
    "mod_calendar_data"
   ]
  },
  {
   "cell_type": "code",
   "execution_count": 206,
   "id": "a2dfb81a",
   "metadata": {},
   "outputs": [
    {
     "data": {
      "text/plain": [
       "0           881707\n",
       "1           910737\n",
       "2           910737\n",
       "3           910737\n",
       "4           910737\n",
       "            ...   \n",
       "958485    51875440\n",
       "958486    51875440\n",
       "958487    51875440\n",
       "958488    51875440\n",
       "958489    51875440\n",
       "Name: listing_id, Length: 958125, dtype: int64"
      ]
     },
     "execution_count": 206,
     "metadata": {},
     "output_type": "execute_result"
    }
   ],
   "source": [
    "mod_calendar_data['listing_id']"
   ]
  },
  {
   "cell_type": "code",
   "execution_count": 207,
   "id": "6e1a5b79",
   "metadata": {},
   "outputs": [
    {
     "name": "stdout",
     "output_type": "stream",
     "text": [
      "Index(['listing_id', 'listing_url', 'name', 'picture_url', 'host_id',\n",
      "       'host_url', 'host_is_superhost', 'host_identity_verified', 'latitude',\n",
      "       'longitude', 'room_type', 'accommodates', 'bedrooms', 'beds',\n",
      "       'minimum_nights', 'maximum_nights', 'number_of_reviews',\n",
      "       'review_scores_rating', 'instant_bookable', 'neighborhood', 'bathrooms',\n",
      "       'Air conditioning', 'Wifi', 'TV', 'Kitchen', 'Washer', 'Dryer',\n",
      "       'Heating'],\n",
      "      dtype='object')\n"
     ]
    },
    {
     "data": {
      "text/plain": [
       "Index(['listing_id', 'daily_price', 'date'], dtype='object')"
      ]
     },
     "execution_count": 207,
     "metadata": {},
     "output_type": "execute_result"
    }
   ],
   "source": [
    "print(mod_listing_data.columns)\n",
    "mod_calendar_data.columns"
   ]
  },
  {
   "cell_type": "code",
   "execution_count": 208,
   "id": "17df358e",
   "metadata": {},
   "outputs": [
    {
     "name": "stdout",
     "output_type": "stream",
     "text": [
      "<class 'pandas.core.frame.DataFrame'>\n",
      "Int64Index: 958125 entries, 0 to 958489\n",
      "Data columns (total 3 columns):\n",
      " #   Column       Non-Null Count   Dtype         \n",
      "---  ------       --------------   -----         \n",
      " 0   listing_id   958125 non-null  int64         \n",
      " 1   daily_price  958125 non-null  int64         \n",
      " 2   date         958125 non-null  datetime64[ns]\n",
      "dtypes: datetime64[ns](1), int64(2)\n",
      "memory usage: 69.2 MB\n"
     ]
    }
   ],
   "source": [
    "mod_calendar_data.info()"
   ]
  },
  {
   "cell_type": "code",
   "execution_count": 209,
   "id": "fa191412",
   "metadata": {
    "scrolled": true
   },
   "outputs": [
    {
     "name": "stdout",
     "output_type": "stream",
     "text": [
      "<class 'pandas.core.frame.DataFrame'>\n",
      "Int64Index: 2269 entries, 0 to 2618\n",
      "Data columns (total 28 columns):\n",
      " #   Column                  Non-Null Count  Dtype  \n",
      "---  ------                  --------------  -----  \n",
      " 0   listing_id              2269 non-null   int64  \n",
      " 1   listing_url             2269 non-null   object \n",
      " 2   name                    2269 non-null   object \n",
      " 3   picture_url             2269 non-null   object \n",
      " 4   host_id                 2269 non-null   int64  \n",
      " 5   host_url                2269 non-null   object \n",
      " 6   host_is_superhost       2269 non-null   int64  \n",
      " 7   host_identity_verified  2269 non-null   int64  \n",
      " 8   latitude                2269 non-null   float64\n",
      " 9   longitude               2269 non-null   float64\n",
      " 10  room_type               2269 non-null   object \n",
      " 11  accommodates            2269 non-null   int64  \n",
      " 12  bedrooms                2269 non-null   float64\n",
      " 13  beds                    2269 non-null   float64\n",
      " 14  minimum_nights          2269 non-null   int64  \n",
      " 15  maximum_nights          2269 non-null   int64  \n",
      " 16  number_of_reviews       2269 non-null   int64  \n",
      " 17  review_scores_rating    2269 non-null   float64\n",
      " 18  instant_bookable        2269 non-null   int64  \n",
      " 19  neighborhood            2269 non-null   object \n",
      " 20  bathrooms               2269 non-null   float64\n",
      " 21  Air conditioning        2269 non-null   int64  \n",
      " 22  Wifi                    2269 non-null   int64  \n",
      " 23  TV                      2269 non-null   int64  \n",
      " 24  Kitchen                 2269 non-null   int64  \n",
      " 25  Washer                  2269 non-null   int64  \n",
      " 26  Dryer                   2269 non-null   int64  \n",
      " 27  Heating                 2269 non-null   int64  \n",
      "dtypes: float64(6), int64(16), object(6)\n",
      "memory usage: 594.1+ KB\n"
     ]
    }
   ],
   "source": [
    "mod_listing_data.info()"
   ]
  },
  {
   "cell_type": "markdown",
   "id": "de4fb524",
   "metadata": {},
   "source": [
    "### Drop Outliers"
   ]
  },
  {
   "cell_type": "code",
   "execution_count": 210,
   "id": "996796fb",
   "metadata": {},
   "outputs": [
    {
     "name": "stdout",
     "output_type": "stream",
     "text": [
      "<class 'pandas.core.frame.DataFrame'>\n",
      "Int64Index: 827821 entries, 0 to 827820\n",
      "Data columns (total 30 columns):\n",
      " #   Column                  Non-Null Count   Dtype         \n",
      "---  ------                  --------------   -----         \n",
      " 0   listing_id              827821 non-null  int64         \n",
      " 1   listing_url             827821 non-null  object        \n",
      " 2   name                    827821 non-null  object        \n",
      " 3   picture_url             827821 non-null  object        \n",
      " 4   host_id                 827821 non-null  int64         \n",
      " 5   host_url                827821 non-null  object        \n",
      " 6   host_is_superhost       827821 non-null  int64         \n",
      " 7   host_identity_verified  827821 non-null  int64         \n",
      " 8   latitude                827821 non-null  float64       \n",
      " 9   longitude               827821 non-null  float64       \n",
      " 10  room_type               827821 non-null  object        \n",
      " 11  accommodates            827821 non-null  int64         \n",
      " 12  bedrooms                827821 non-null  float64       \n",
      " 13  beds                    827821 non-null  float64       \n",
      " 14  minimum_nights          827821 non-null  int64         \n",
      " 15  maximum_nights          827821 non-null  int64         \n",
      " 16  number_of_reviews       827821 non-null  int64         \n",
      " 17  review_scores_rating    827821 non-null  float64       \n",
      " 18  instant_bookable        827821 non-null  int64         \n",
      " 19  neighborhood            827821 non-null  object        \n",
      " 20  bathrooms               827821 non-null  float64       \n",
      " 21  Air conditioning        827821 non-null  int64         \n",
      " 22  Wifi                    827821 non-null  int64         \n",
      " 23  TV                      827821 non-null  int64         \n",
      " 24  Kitchen                 827821 non-null  int64         \n",
      " 25  Washer                  827821 non-null  int64         \n",
      " 26  Dryer                   827821 non-null  int64         \n",
      " 27  Heating                 827821 non-null  int64         \n",
      " 28  daily_price             827820 non-null  float64       \n",
      " 29  date                    827820 non-null  datetime64[ns]\n",
      "dtypes: datetime64[ns](1), float64(7), int64(16), object(6)\n",
      "memory usage: 195.8+ MB\n"
     ]
    }
   ],
   "source": [
    "asheville_data = pd.merge(mod_listing_data, mod_calendar_data, how = 'left', on = 'listing_id')\n",
    "asheville_data.info()"
   ]
  },
  {
   "cell_type": "code",
   "execution_count": 211,
   "id": "442cff2a",
   "metadata": {},
   "outputs": [],
   "source": [
    "asheville_data = asheville_data.dropna()"
   ]
  },
  {
   "cell_type": "code",
   "execution_count": 212,
   "id": "232e0a1a",
   "metadata": {},
   "outputs": [
    {
     "name": "stdout",
     "output_type": "stream",
     "text": [
      "<class 'pandas.core.frame.DataFrame'>\n",
      "Int64Index: 827820 entries, 0 to 827820\n",
      "Data columns (total 30 columns):\n",
      " #   Column                  Non-Null Count   Dtype         \n",
      "---  ------                  --------------   -----         \n",
      " 0   listing_id              827820 non-null  int64         \n",
      " 1   listing_url             827820 non-null  object        \n",
      " 2   name                    827820 non-null  object        \n",
      " 3   picture_url             827820 non-null  object        \n",
      " 4   host_id                 827820 non-null  int64         \n",
      " 5   host_url                827820 non-null  object        \n",
      " 6   host_is_superhost       827820 non-null  int64         \n",
      " 7   host_identity_verified  827820 non-null  int64         \n",
      " 8   latitude                827820 non-null  float64       \n",
      " 9   longitude               827820 non-null  float64       \n",
      " 10  room_type               827820 non-null  object        \n",
      " 11  accommodates            827820 non-null  int64         \n",
      " 12  bedrooms                827820 non-null  float64       \n",
      " 13  beds                    827820 non-null  float64       \n",
      " 14  minimum_nights          827820 non-null  int64         \n",
      " 15  maximum_nights          827820 non-null  int64         \n",
      " 16  number_of_reviews       827820 non-null  int64         \n",
      " 17  review_scores_rating    827820 non-null  float64       \n",
      " 18  instant_bookable        827820 non-null  int64         \n",
      " 19  neighborhood            827820 non-null  object        \n",
      " 20  bathrooms               827820 non-null  float64       \n",
      " 21  Air conditioning        827820 non-null  int64         \n",
      " 22  Wifi                    827820 non-null  int64         \n",
      " 23  TV                      827820 non-null  int64         \n",
      " 24  Kitchen                 827820 non-null  int64         \n",
      " 25  Washer                  827820 non-null  int64         \n",
      " 26  Dryer                   827820 non-null  int64         \n",
      " 27  Heating                 827820 non-null  int64         \n",
      " 28  daily_price             827820 non-null  float64       \n",
      " 29  date                    827820 non-null  datetime64[ns]\n",
      "dtypes: datetime64[ns](1), float64(7), int64(16), object(6)\n",
      "memory usage: 195.8+ MB\n"
     ]
    }
   ],
   "source": [
    "asheville_data.info()"
   ]
  },
  {
   "cell_type": "code",
   "execution_count": 213,
   "id": "e879c519",
   "metadata": {},
   "outputs": [
    {
     "data": {
      "text/plain": [
       "0         1.0\n",
       "1         1.0\n",
       "2         1.0\n",
       "3         1.0\n",
       "4         1.0\n",
       "         ... \n",
       "827816    1.0\n",
       "827817    1.0\n",
       "827818    1.0\n",
       "827819    1.0\n",
       "827820    1.0\n",
       "Name: bathrooms, Length: 827820, dtype: float64"
      ]
     },
     "execution_count": 213,
     "metadata": {},
     "output_type": "execute_result"
    }
   ],
   "source": [
    "asheville_data['bathrooms']"
   ]
  },
  {
   "cell_type": "code",
   "execution_count": 228,
   "id": "95b5a042",
   "metadata": {},
   "outputs": [],
   "source": [
    "asheville_data = asheville_data[asheville_data['bathrooms'] <= 6]\n",
    "asheville_data = asheville_data[asheville_data['bathrooms'] >= 1]\n",
    "\n",
    "asheville_data = asheville_data[asheville_data['bedrooms'] <= 6]\n",
    "asheville_data = asheville_data[asheville_data['beds'] <= 11]\n",
    "asheville_data = asheville_data[asheville_data['bathrooms'] <= 5]\n",
    "\n",
    "asheville_data = asheville_data[asheville_data['room_type'] != 'Hotel room']\n",
    "asheville_data = asheville_data[asheville_data['room_type'] != 'Shared room']"
   ]
  },
  {
   "cell_type": "code",
   "execution_count": 231,
   "id": "365614f7",
   "metadata": {},
   "outputs": [
    {
     "name": "stdout",
     "output_type": "stream",
     "text": [
      "<class 'pandas.core.frame.DataFrame'>\n",
      "Int64Index: 720875 entries, 0 to 827820\n",
      "Data columns (total 30 columns):\n",
      " #   Column                  Non-Null Count   Dtype         \n",
      "---  ------                  --------------   -----         \n",
      " 0   listing_id              720875 non-null  int64         \n",
      " 1   listing_url             720875 non-null  object        \n",
      " 2   name                    720875 non-null  object        \n",
      " 3   picture_url             720875 non-null  object        \n",
      " 4   host_id                 720875 non-null  int64         \n",
      " 5   host_url                720875 non-null  object        \n",
      " 6   host_is_superhost       720875 non-null  int64         \n",
      " 7   host_identity_verified  720875 non-null  int64         \n",
      " 8   latitude                720875 non-null  float64       \n",
      " 9   longitude               720875 non-null  float64       \n",
      " 10  room_type               720875 non-null  object        \n",
      " 11  accommodates            720875 non-null  int64         \n",
      " 12  bedrooms                720875 non-null  float64       \n",
      " 13  beds                    720875 non-null  float64       \n",
      " 14  minimum_nights          720875 non-null  int64         \n",
      " 15  maximum_nights          720875 non-null  int64         \n",
      " 16  number_of_reviews       720875 non-null  int64         \n",
      " 17  review_scores_rating    720875 non-null  float64       \n",
      " 18  instant_bookable        720875 non-null  int64         \n",
      " 19  neighborhood            720875 non-null  object        \n",
      " 20  bathrooms               720875 non-null  float64       \n",
      " 21  Air conditioning        720875 non-null  int64         \n",
      " 22  Wifi                    720875 non-null  int64         \n",
      " 23  TV                      720875 non-null  int64         \n",
      " 24  Kitchen                 720875 non-null  int64         \n",
      " 25  Washer                  720875 non-null  int64         \n",
      " 26  Dryer                   720875 non-null  int64         \n",
      " 27  Heating                 720875 non-null  int64         \n",
      " 28  daily_price             720875 non-null  float64       \n",
      " 29  date                    720875 non-null  datetime64[ns]\n",
      "dtypes: datetime64[ns](1), float64(7), int64(16), object(6)\n",
      "memory usage: 170.5+ MB\n"
     ]
    }
   ],
   "source": [
    "asheville_data.info()"
   ]
  },
  {
   "cell_type": "markdown",
   "id": "9d59e2cb",
   "metadata": {},
   "source": [
    "# Begin Modeling"
   ]
  },
  {
   "cell_type": "markdown",
   "id": "c80473e6",
   "metadata": {},
   "source": [
    "## Baseline Model - Random Forest"
   ]
  },
  {
   "cell_type": "code",
   "execution_count": 232,
   "id": "27db314d",
   "metadata": {},
   "outputs": [
    {
     "data": {
      "text/html": [
       "<div>\n",
       "<style scoped>\n",
       "    .dataframe tbody tr th:only-of-type {\n",
       "        vertical-align: middle;\n",
       "    }\n",
       "\n",
       "    .dataframe tbody tr th {\n",
       "        vertical-align: top;\n",
       "    }\n",
       "\n",
       "    .dataframe thead th {\n",
       "        text-align: right;\n",
       "    }\n",
       "</style>\n",
       "<table border=\"1\" class=\"dataframe\">\n",
       "  <thead>\n",
       "    <tr style=\"text-align: right;\">\n",
       "      <th></th>\n",
       "      <th>host_is_superhost</th>\n",
       "      <th>room_type</th>\n",
       "      <th>accommodates</th>\n",
       "      <th>bedrooms</th>\n",
       "      <th>beds</th>\n",
       "      <th>neighborhood</th>\n",
       "      <th>bathrooms</th>\n",
       "      <th>Air conditioning</th>\n",
       "      <th>Wifi</th>\n",
       "      <th>TV</th>\n",
       "      <th>Kitchen</th>\n",
       "      <th>Washer</th>\n",
       "      <th>Dryer</th>\n",
       "      <th>Heating</th>\n",
       "      <th>daily_price</th>\n",
       "      <th>date</th>\n",
       "    </tr>\n",
       "  </thead>\n",
       "  <tbody>\n",
       "    <tr>\n",
       "      <th>0</th>\n",
       "      <td>0</td>\n",
       "      <td>Entire home/apt</td>\n",
       "      <td>2</td>\n",
       "      <td>1.0</td>\n",
       "      <td>1.0</td>\n",
       "      <td>Asheville</td>\n",
       "      <td>1.0</td>\n",
       "      <td>1</td>\n",
       "      <td>1</td>\n",
       "      <td>0</td>\n",
       "      <td>1</td>\n",
       "      <td>1</td>\n",
       "      <td>1</td>\n",
       "      <td>1</td>\n",
       "      <td>120.0</td>\n",
       "      <td>2021-12-15</td>\n",
       "    </tr>\n",
       "    <tr>\n",
       "      <th>1</th>\n",
       "      <td>0</td>\n",
       "      <td>Entire home/apt</td>\n",
       "      <td>2</td>\n",
       "      <td>1.0</td>\n",
       "      <td>1.0</td>\n",
       "      <td>Asheville</td>\n",
       "      <td>1.0</td>\n",
       "      <td>1</td>\n",
       "      <td>1</td>\n",
       "      <td>0</td>\n",
       "      <td>1</td>\n",
       "      <td>1</td>\n",
       "      <td>1</td>\n",
       "      <td>1</td>\n",
       "      <td>120.0</td>\n",
       "      <td>2021-12-16</td>\n",
       "    </tr>\n",
       "    <tr>\n",
       "      <th>2</th>\n",
       "      <td>0</td>\n",
       "      <td>Entire home/apt</td>\n",
       "      <td>2</td>\n",
       "      <td>1.0</td>\n",
       "      <td>1.0</td>\n",
       "      <td>Asheville</td>\n",
       "      <td>1.0</td>\n",
       "      <td>1</td>\n",
       "      <td>1</td>\n",
       "      <td>0</td>\n",
       "      <td>1</td>\n",
       "      <td>1</td>\n",
       "      <td>1</td>\n",
       "      <td>1</td>\n",
       "      <td>120.0</td>\n",
       "      <td>2021-12-17</td>\n",
       "    </tr>\n",
       "    <tr>\n",
       "      <th>3</th>\n",
       "      <td>0</td>\n",
       "      <td>Entire home/apt</td>\n",
       "      <td>2</td>\n",
       "      <td>1.0</td>\n",
       "      <td>1.0</td>\n",
       "      <td>Asheville</td>\n",
       "      <td>1.0</td>\n",
       "      <td>1</td>\n",
       "      <td>1</td>\n",
       "      <td>0</td>\n",
       "      <td>1</td>\n",
       "      <td>1</td>\n",
       "      <td>1</td>\n",
       "      <td>1</td>\n",
       "      <td>120.0</td>\n",
       "      <td>2021-12-18</td>\n",
       "    </tr>\n",
       "    <tr>\n",
       "      <th>4</th>\n",
       "      <td>0</td>\n",
       "      <td>Entire home/apt</td>\n",
       "      <td>2</td>\n",
       "      <td>1.0</td>\n",
       "      <td>1.0</td>\n",
       "      <td>Asheville</td>\n",
       "      <td>1.0</td>\n",
       "      <td>1</td>\n",
       "      <td>1</td>\n",
       "      <td>0</td>\n",
       "      <td>1</td>\n",
       "      <td>1</td>\n",
       "      <td>1</td>\n",
       "      <td>1</td>\n",
       "      <td>120.0</td>\n",
       "      <td>2021-12-19</td>\n",
       "    </tr>\n",
       "  </tbody>\n",
       "</table>\n",
       "</div>"
      ],
      "text/plain": [
       "   host_is_superhost        room_type  accommodates  bedrooms  beds  \\\n",
       "0                  0  Entire home/apt             2       1.0   1.0   \n",
       "1                  0  Entire home/apt             2       1.0   1.0   \n",
       "2                  0  Entire home/apt             2       1.0   1.0   \n",
       "3                  0  Entire home/apt             2       1.0   1.0   \n",
       "4                  0  Entire home/apt             2       1.0   1.0   \n",
       "\n",
       "  neighborhood  bathrooms  Air conditioning  Wifi  TV  Kitchen  Washer  Dryer  \\\n",
       "0    Asheville        1.0                 1     1   0        1       1      1   \n",
       "1    Asheville        1.0                 1     1   0        1       1      1   \n",
       "2    Asheville        1.0                 1     1   0        1       1      1   \n",
       "3    Asheville        1.0                 1     1   0        1       1      1   \n",
       "4    Asheville        1.0                 1     1   0        1       1      1   \n",
       "\n",
       "   Heating  daily_price       date  \n",
       "0        1        120.0 2021-12-15  \n",
       "1        1        120.0 2021-12-16  \n",
       "2        1        120.0 2021-12-17  \n",
       "3        1        120.0 2021-12-18  \n",
       "4        1        120.0 2021-12-19  "
      ]
     },
     "execution_count": 232,
     "metadata": {},
     "output_type": "execute_result"
    }
   ],
   "source": [
    "asheville_modeling_data = asheville_data.drop(['listing_id', 'listing_url', 'name', 'picture_url', 'host_id',\n",
    "                                              'host_url', 'host_identity_verified', 'latitude', 'longitude',\n",
    "                                              'minimum_nights', 'maximum_nights', 'number_of_reviews',\n",
    "                                              'instant_bookable', 'review_scores_rating'], axis = 1)\n",
    "asheville_modeling_data.head()"
   ]
  },
  {
   "cell_type": "code",
   "execution_count": 233,
   "id": "cc78f4a4",
   "metadata": {},
   "outputs": [
    {
     "data": {
      "text/plain": [
       "Asheville    720875\n",
       "Name: neighborhood, dtype: int64"
      ]
     },
     "execution_count": 233,
     "metadata": {},
     "output_type": "execute_result"
    }
   ],
   "source": [
    "asheville_modeling_data['neighborhood'].value_counts()"
   ]
  },
  {
   "cell_type": "code",
   "execution_count": 234,
   "id": "0d922d78",
   "metadata": {},
   "outputs": [
    {
     "name": "stdout",
     "output_type": "stream",
     "text": [
      "<class 'pandas.core.frame.DataFrame'>\n",
      "Int64Index: 720875 entries, 0 to 827820\n",
      "Data columns (total 17 columns):\n",
      " #   Column             Non-Null Count   Dtype  \n",
      "---  ------             --------------   -----  \n",
      " 0   host_is_superhost  720875 non-null  int64  \n",
      " 1   room_type          720875 non-null  object \n",
      " 2   accommodates       720875 non-null  int64  \n",
      " 3   bedrooms           720875 non-null  float64\n",
      " 4   beds               720875 non-null  float64\n",
      " 5   neighborhood       720875 non-null  object \n",
      " 6   bathrooms          720875 non-null  float64\n",
      " 7   Air conditioning   720875 non-null  int64  \n",
      " 8   Wifi               720875 non-null  int64  \n",
      " 9   TV                 720875 non-null  int64  \n",
      " 10  Kitchen            720875 non-null  int64  \n",
      " 11  Washer             720875 non-null  int64  \n",
      " 12  Dryer              720875 non-null  int64  \n",
      " 13  Heating            720875 non-null  int64  \n",
      " 14  daily_price        720875 non-null  float64\n",
      " 15  day_of_week        720875 non-null  int64  \n",
      " 16  month              720875 non-null  int64  \n",
      "dtypes: float64(4), int64(11), object(2)\n",
      "memory usage: 99.0+ MB\n"
     ]
    }
   ],
   "source": [
    "asheville_modeling_data['day_of_week'] = asheville_modeling_data['date'].dt.dayofweek\n",
    "asheville_modeling_data['month'] = asheville_modeling_data['date'].dt.month\n",
    "asheville_modeling_data = asheville_modeling_data.drop(['date'], axis = 1)\n",
    "asheville_modeling_data.info()"
   ]
  },
  {
   "cell_type": "code",
   "execution_count": 235,
   "id": "aa0510b2",
   "metadata": {},
   "outputs": [
    {
     "data": {
      "text/plain": [
       "Entire home/apt    611740\n",
       "Private room       109135\n",
       "Name: room_type, dtype: int64"
      ]
     },
     "execution_count": 235,
     "metadata": {},
     "output_type": "execute_result"
    }
   ],
   "source": [
    "asheville_modeling_data['room_type'].value_counts()"
   ]
  },
  {
   "cell_type": "code",
   "execution_count": 236,
   "id": "83581e49",
   "metadata": {},
   "outputs": [
    {
     "data": {
      "text/plain": [
       "1    613565\n",
       "0    107310\n",
       "Name: Heating, dtype: int64"
      ]
     },
     "execution_count": 236,
     "metadata": {},
     "output_type": "execute_result"
    }
   ],
   "source": [
    "asheville_modeling_data['Heating'].value_counts()"
   ]
  },
  {
   "cell_type": "markdown",
   "id": "af75b2a8",
   "metadata": {},
   "source": [
    "## Baseline Model - Random Forest"
   ]
  },
  {
   "cell_type": "code",
   "execution_count": 239,
   "id": "d4188cb7",
   "metadata": {},
   "outputs": [],
   "source": [
    "import time "
   ]
  },
  {
   "cell_type": "code",
   "execution_count": 242,
   "id": "a9c95108",
   "metadata": {},
   "outputs": [
    {
     "name": "stdout",
     "output_type": "stream",
     "text": [
      "CPU times: user 2min 33s, sys: 1.08 s, total: 2min 34s\n",
      "Wall time: 2min 34s\n"
     ]
    },
    {
     "data": {
      "text/plain": [
       "Pipeline(steps=[('preprocess',\n",
       "                 ColumnTransformer(transformers=[('nominalpipe',\n",
       "                                                  Pipeline(steps=[('ohe',\n",
       "                                                                   OneHotEncoder(sparse=False))]),\n",
       "                                                  ['neighborhood', 'room_type',\n",
       "                                                   'day_of_week', 'month']),\n",
       "                                                 ('numpipe',\n",
       "                                                  Pipeline(steps=[('scaler',\n",
       "                                                                   StandardScaler())]),\n",
       "                                                  ['host_is_superhost',\n",
       "                                                   'accommodates', 'bedrooms',\n",
       "                                                   'beds', 'bathrooms',\n",
       "                                                   'Air conditioning', 'Wifi',\n",
       "                                                   'TV', 'Kitchen', 'Washer',\n",
       "                                                   'Dryer', 'Heating'])])),\n",
       "                ('model', RandomForestRegressor())])"
      ]
     },
     "execution_count": 242,
     "metadata": {},
     "output_type": "execute_result"
    }
   ],
   "source": [
    "%%time\n",
    "\n",
    "baseline_X = asheville_modeling_data.drop(['daily_price'], axis = 1)\n",
    "baseline_y = asheville_modeling_data['daily_price']\n",
    "\n",
    "baseline_X_train, baseline_X_test, baseline_y_train, baseline_y_test = train_test_split(baseline_X, \n",
    "                                                                                        baseline_y, \n",
    "                                                                                        test_size = 0.2)\n",
    "\n",
    "baseline_numeric_cols = ['host_is_superhost', 'accommodates', 'bedrooms', 'beds', 'bathrooms', \n",
    "                         'Air conditioning', 'Wifi', 'TV', 'Kitchen', 'Washer', 'Dryer', 'Heating']\n",
    "\n",
    "baseline_nominal_cols = ['neighborhood', 'room_type', 'day_of_week', 'month']\n",
    "\n",
    "baseline_numeric_pipeline = Pipeline([('scaler', StandardScaler())])\n",
    "\n",
    "baseline_nominal_pipeline = Pipeline([('ohe', OneHotEncoder(sparse = False))])\n",
    "\n",
    "ct = ColumnTransformer([('nominalpipe', baseline_nominal_pipeline, baseline_nominal_cols ),\n",
    "                        ('numpipe', baseline_numeric_pipeline, baseline_numeric_cols)])\n",
    "\n",
    "baseline_final_pipe = Pipeline([('preprocess', ct),\n",
    "                                ('model', RandomForestRegressor())])\n",
    "\n",
    "baseline_final_pipe.fit(baseline_X_train, baseline_y_train)"
   ]
  },
  {
   "cell_type": "code",
   "execution_count": 243,
   "id": "31d05fdf",
   "metadata": {},
   "outputs": [
    {
     "name": "stdout",
     "output_type": "stream",
     "text": [
      "0.7892456742067304\n",
      "0.7685199332668012\n"
     ]
    },
    {
     "data": {
      "text/plain": [
       "<AxesSubplot:xlabel='daily_price'>"
      ]
     },
     "execution_count": 243,
     "metadata": {},
     "output_type": "execute_result"
    },
    {
     "data": {
      "image/png": "[encoded data removed]",
      "text/plain": [
       "<Figure size 432x288 with 1 Axes>"
      ]
     },
     "metadata": {
      "needs_background": "light"
     },
     "output_type": "display_data"
    }
   ],
   "source": [
    "print(baseline_final_pipe.score(baseline_X_train, baseline_y_train))\n",
    "print(baseline_final_pipe.score(baseline_X_test, baseline_y_test))\n",
    "\n",
    "baseline_preds = baseline_final_pipe.predict(baseline_X_test)\n",
    "sns.scatterplot(y = baseline_preds, x = baseline_y_test)"
   ]
  },
  {
   "cell_type": "markdown",
   "id": "fd2b79ff",
   "metadata": {},
   "source": [
    "## Model 1 Neural Network"
   ]
  },
  {
   "cell_type": "code",
   "execution_count": null,
   "id": "dbb24ec0",
   "metadata": {},
   "outputs": [],
   "source": [
    "#Random Forest\n",
    "#Grid Search\n",
    "#Neural Network"
   ]
  },
  {
   "cell_type": "code",
   "execution_count": null,
   "id": "1c855586",
   "metadata": {},
   "outputs": [],
   "source": [
    "#"
   ]
  },
  {
   "cell_type": "code",
   "execution_count": null,
   "id": "717fe196",
   "metadata": {},
   "outputs": [],
   "source": [
    "\n",
    "#     # get the numeric column names\n",
    "# baseline_numeric_cols = baseline_X_train.drop(['room_type', 'neighborhood', 'day_of_week', 'month'],\n",
    "#                                              axis = 1).columns\n",
    "#     # pipeline for numerical columns\n",
    "# # baseline_numeric_steps = [SimpleImputer(strategy = 'median'), StandardScaler()]\n",
    "# baseline_numeric_pipe = Pipeline(steps = [('simp', SimpleImputer(strategy = 'median')), \n",
    "#                                           ('scaler', StandardScaler())])\n",
    "\n",
    "# # get the nominal column names\n",
    "# baseline_nominal_cols = ['room_type', 'neighborhood', 'day_of_week', 'month']\n",
    "#     # pipeline for nominal columns\n",
    "# # baseline_nominal_steps = [SimpleImputer(strategy = 'constant'), \n",
    "# #                           OneHotEncoder(handle_unknown='ignore', sparse = False)]\n",
    "# baseline_nominal_pipe = Pipeline(baseline_nominal_steps)\n",
    "\n",
    "# # get the ordinal column names\n",
    "# baseline_ord_cols = ['review_scores_rating']\n",
    "#      # pipeline for ordinal columns\n",
    "# baseline_ordinal_steps = [SimpleImputer(strategy = 'constant'), \n",
    "#                           OrdinalEncoder(handle_unknown = 'ignore')]\n",
    "# baseline_ordinal_pipe = Pipeline(baseline_ordinal_steps)\n",
    "\n",
    "\n",
    "\n",
    "# # combine the pipelines\n",
    "# baseline_col_transf = ColumnTransformer([\n",
    "#     ('numeric', baseline_numeric_pipe, baseline_numeric_cols),\n",
    "#     ('nominal', baseline_nominal_pipe, baseline_nominal_cols),\n",
    "#     ('ordinal', baseline_ordinal_pipe, baseline_ord_cols)])\n",
    "\n",
    "# # build the model\n",
    "# #baseline_full_pipe_steps = [column_transformer = baseline_col_transf, LogisticRegression(max_iter = 500, \n",
    "#                                                                       #random_state = 42, )\n",
    "# pipe_brendo = Pipeline(steps= [('ct', baseline_col_transf), ('model', LogisticRegression())])\n",
    "                            \n",
    "# pipe_brendo.fit(baseline_X_train, baseline_y_train)                                                                                 \n",
    "\n",
    "# pipe_brendo.score(baseline_X_train, baseline_y_train)\n",
    "# # baseline_full_pipe = Pipeline(baseline_full_pipe_steps)\n",
    "\n",
    "# # # train the model\n",
    "# # baseline_X_train_scaled = baseline_full_pipe.fit_transform(baseline_X_train, baseline_y_train)\n",
    "# # baseline_X_test_scaled = baseline_full_pip.transform(baseline_X_test, baseline_y_test)\n",
    "\n",
    "# # # make predictions on the test set\n",
    "# # baseline_y_pred = baseline_full_pipe.predict(baseline_X_test)\n",
    "\n",
    "# # # measure accuracy\n",
    "# # baseline_score = accuracy_score(baseline_y_test, baseline_y_pred)\n",
    "# # print(\"Baseline Model Accuracy Score:\", baseline_score)\n",
    "\n",
    "# # scaler = StandardScaler()\n",
    "\n",
    "# # lr = LogisticRegression(max_iter = 400,\n",
    "# #                         verbose = 0,\n",
    "# #                         random_state = 42)"
   ]
  },
  {
   "cell_type": "code",
   "execution_count": null,
   "id": "470c37f5",
   "metadata": {},
   "outputs": [],
   "source": []
  }
 ],
 "metadata": {
  "kernelspec": {
   "display_name": "Python (learn-env)",
   "language": "python",
   "name": "learn-env"
  },
  "language_info": {
   "codemirror_mode": {
    "name": "ipython",
    "version": 3
   },
   "file_extension": ".py",
   "mimetype": "text/x-python",
   "name": "python",
   "nbconvert_exporter": "python",
   "pygments_lexer": "ipython3",
   "version": "3.8.5"
  }
 },
 "nbformat": 4,
 "nbformat_minor": 5
}
