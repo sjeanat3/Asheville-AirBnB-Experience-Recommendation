{
 "cells": [
  {
   "cell_type": "markdown",
   "metadata": {},
   "source": [
    "# Import Necessary Libraries"
   ]
  },
  {
   "cell_type": "code",
   "execution_count": 392,
   "metadata": {},
   "outputs": [],
   "source": [
    "import pandas as pd\n",
    "import gzip\n",
    "import shutil\n",
    "import seaborn as sns\n",
    "import numpy as np\n",
    "\n",
    "from sklearn.linear_model import LogisticRegression\n",
    "from sklearn.model_selection import train_test_split\n",
    "from sklearn.tree import DecisionTreeClassifier\n",
    "from sklearn.ensemble import BaggingClassifier, RandomForestRegressor\n",
    "from sklearn.preprocessing import StandardScaler, OneHotEncoder, OrdinalEncoder, MaxAbsScaler\n",
    "from sklearn.metrics import accuracy_score, confusion_matrix, classification_report\n",
    "from sklearn.pipeline import make_pipeline, Pipeline\n",
    "from sklearn.impute import SimpleImputer\n",
    "from sklearn.compose import ColumnTransformer\n",
    "\n",
    "\n",
    "from keras import models, layers \n",
    "from keras.callbacks import EarlyStopping\n",
    "from tensorflow.keras.regularizers import l2\n",
    "from tensorflow.keras.models import Sequential, Model, load_model\n",
    "from tensorflow.keras.optimizers import  Adam"
   ]
  },
  {
   "cell_type": "markdown",
   "metadata": {},
   "source": [
    "# Exploratory Data Analysis (EDA)"
   ]
  },
  {
   "cell_type": "markdown",
   "metadata": {},
   "source": [
    "## Calendar Data - 2022"
   ]
  },
  {
   "cell_type": "code",
   "execution_count": 393,
   "metadata": {},
   "outputs": [
    {
     "data": {
      "text/html": [
       "<div>\n",
       "<style scoped>\n",
       "    .dataframe tbody tr th:only-of-type {\n",
       "        vertical-align: middle;\n",
       "    }\n",
       "\n",
       "    .dataframe tbody tr th {\n",
       "        vertical-align: top;\n",
       "    }\n",
       "\n",
       "    .dataframe thead th {\n",
       "        text-align: right;\n",
       "    }\n",
       "</style>\n",
       "<table border=\"1\" class=\"dataframe\">\n",
       "  <thead>\n",
       "    <tr style=\"text-align: right;\">\n",
       "      <th></th>\n",
       "      <th>listing_id</th>\n",
       "      <th>date</th>\n",
       "      <th>available</th>\n",
       "      <th>price</th>\n",
       "      <th>adjusted_price</th>\n",
       "      <th>minimum_nights</th>\n",
       "      <th>maximum_nights</th>\n",
       "    </tr>\n",
       "  </thead>\n",
       "  <tbody>\n",
       "    <tr>\n",
       "      <th>0</th>\n",
       "      <td>881707</td>\n",
       "      <td>2021-12-15</td>\n",
       "      <td>f</td>\n",
       "      <td>$93.00</td>\n",
       "      <td>$93.00</td>\n",
       "      <td>1</td>\n",
       "      <td>1125</td>\n",
       "    </tr>\n",
       "    <tr>\n",
       "      <th>1</th>\n",
       "      <td>910737</td>\n",
       "      <td>2021-12-15</td>\n",
       "      <td>t</td>\n",
       "      <td>$156.00</td>\n",
       "      <td>$156.00</td>\n",
       "      <td>2</td>\n",
       "      <td>1125</td>\n",
       "    </tr>\n",
       "    <tr>\n",
       "      <th>2</th>\n",
       "      <td>910737</td>\n",
       "      <td>2021-12-16</td>\n",
       "      <td>t</td>\n",
       "      <td>$156.00</td>\n",
       "      <td>$156.00</td>\n",
       "      <td>2</td>\n",
       "      <td>1125</td>\n",
       "    </tr>\n",
       "    <tr>\n",
       "      <th>3</th>\n",
       "      <td>910737</td>\n",
       "      <td>2021-12-17</td>\n",
       "      <td>f</td>\n",
       "      <td>$135.00</td>\n",
       "      <td>$135.00</td>\n",
       "      <td>2</td>\n",
       "      <td>1125</td>\n",
       "    </tr>\n",
       "    <tr>\n",
       "      <th>4</th>\n",
       "      <td>910737</td>\n",
       "      <td>2021-12-18</td>\n",
       "      <td>f</td>\n",
       "      <td>$135.00</td>\n",
       "      <td>$135.00</td>\n",
       "      <td>2</td>\n",
       "      <td>1125</td>\n",
       "    </tr>\n",
       "    <tr>\n",
       "      <th>...</th>\n",
       "      <td>...</td>\n",
       "      <td>...</td>\n",
       "      <td>...</td>\n",
       "      <td>...</td>\n",
       "      <td>...</td>\n",
       "      <td>...</td>\n",
       "      <td>...</td>\n",
       "    </tr>\n",
       "    <tr>\n",
       "      <th>958485</th>\n",
       "      <td>51875440</td>\n",
       "      <td>2022-12-10</td>\n",
       "      <td>t</td>\n",
       "      <td>$807.00</td>\n",
       "      <td>$807.00</td>\n",
       "      <td>5</td>\n",
       "      <td>365</td>\n",
       "    </tr>\n",
       "    <tr>\n",
       "      <th>958486</th>\n",
       "      <td>51875440</td>\n",
       "      <td>2022-12-11</td>\n",
       "      <td>t</td>\n",
       "      <td>$718.00</td>\n",
       "      <td>$718.00</td>\n",
       "      <td>5</td>\n",
       "      <td>365</td>\n",
       "    </tr>\n",
       "    <tr>\n",
       "      <th>958487</th>\n",
       "      <td>51875440</td>\n",
       "      <td>2022-12-12</td>\n",
       "      <td>t</td>\n",
       "      <td>$706.00</td>\n",
       "      <td>$706.00</td>\n",
       "      <td>5</td>\n",
       "      <td>365</td>\n",
       "    </tr>\n",
       "    <tr>\n",
       "      <th>958488</th>\n",
       "      <td>51875440</td>\n",
       "      <td>2022-12-13</td>\n",
       "      <td>t</td>\n",
       "      <td>$696.00</td>\n",
       "      <td>$696.00</td>\n",
       "      <td>5</td>\n",
       "      <td>365</td>\n",
       "    </tr>\n",
       "    <tr>\n",
       "      <th>958489</th>\n",
       "      <td>51875440</td>\n",
       "      <td>2022-12-14</td>\n",
       "      <td>t</td>\n",
       "      <td>$687.00</td>\n",
       "      <td>$687.00</td>\n",
       "      <td>5</td>\n",
       "      <td>365</td>\n",
       "    </tr>\n",
       "  </tbody>\n",
       "</table>\n",
       "<p>958490 rows × 7 columns</p>\n",
       "</div>"
      ],
      "text/plain": [
       "        listing_id        date available    price adjusted_price  \\\n",
       "0           881707  2021-12-15         f   $93.00         $93.00   \n",
       "1           910737  2021-12-15         t  $156.00        $156.00   \n",
       "2           910737  2021-12-16         t  $156.00        $156.00   \n",
       "3           910737  2021-12-17         f  $135.00        $135.00   \n",
       "4           910737  2021-12-18         f  $135.00        $135.00   \n",
       "...            ...         ...       ...      ...            ...   \n",
       "958485    51875440  2022-12-10         t  $807.00        $807.00   \n",
       "958486    51875440  2022-12-11         t  $718.00        $718.00   \n",
       "958487    51875440  2022-12-12         t  $706.00        $706.00   \n",
       "958488    51875440  2022-12-13         t  $696.00        $696.00   \n",
       "958489    51875440  2022-12-14         t  $687.00        $687.00   \n",
       "\n",
       "        minimum_nights  maximum_nights  \n",
       "0                    1            1125  \n",
       "1                    2            1125  \n",
       "2                    2            1125  \n",
       "3                    2            1125  \n",
       "4                    2            1125  \n",
       "...                ...             ...  \n",
       "958485               5             365  \n",
       "958486               5             365  \n",
       "958487               5             365  \n",
       "958488               5             365  \n",
       "958489               5             365  \n",
       "\n",
       "[958490 rows x 7 columns]"
      ]
     },
     "execution_count": 393,
     "metadata": {},
     "output_type": "execute_result"
    }
   ],
   "source": [
    "#Load raw calendar data from file\n",
    "raw_calendar_data = pd.read_csv('../Data/AirBnB/Asheville/2021/asheville_calendar_2021.csv', compression='gzip')\n",
    "raw_calendar_data"
   ]
  },
  {
   "cell_type": "code",
   "execution_count": 394,
   "metadata": {},
   "outputs": [
    {
     "name": "stdout",
     "output_type": "stream",
     "text": [
      "<class 'pandas.core.frame.DataFrame'>\n",
      "RangeIndex: 958490 entries, 0 to 958489\n",
      "Data columns (total 7 columns):\n",
      " #   Column          Non-Null Count   Dtype \n",
      "---  ------          --------------   ----- \n",
      " 0   listing_id      958490 non-null  int64 \n",
      " 1   date            958490 non-null  object\n",
      " 2   available       958490 non-null  object\n",
      " 3   price           958319 non-null  object\n",
      " 4   adjusted_price  958319 non-null  object\n",
      " 5   minimum_nights  958490 non-null  int64 \n",
      " 6   maximum_nights  958490 non-null  int64 \n",
      "dtypes: int64(3), object(4)\n",
      "memory usage: 51.2+ MB\n"
     ]
    }
   ],
   "source": [
    "#Check the info / types of data\n",
    "raw_calendar_data.info()"
   ]
  },
  {
   "cell_type": "code",
   "execution_count": 395,
   "metadata": {},
   "outputs": [
    {
     "name": "stdout",
     "output_type": "stream",
     "text": [
      "<class 'pandas.core.frame.DataFrame'>\n",
      "RangeIndex: 958490 entries, 0 to 958489\n",
      "Data columns (total 7 columns):\n",
      " #   Column          Non-Null Count   Dtype         \n",
      "---  ------          --------------   -----         \n",
      " 0   listing_id      958490 non-null  int64         \n",
      " 1   date            958490 non-null  datetime64[ns]\n",
      " 2   available       958490 non-null  object        \n",
      " 3   price           958319 non-null  object        \n",
      " 4   adjusted_price  958319 non-null  object        \n",
      " 5   minimum_nights  958490 non-null  int64         \n",
      " 6   maximum_nights  958490 non-null  int64         \n",
      "dtypes: datetime64[ns](1), int64(3), object(3)\n",
      "memory usage: 51.2+ MB\n"
     ]
    }
   ],
   "source": [
    "#Convert date column to date-times type\n",
    "mod_calendar_data = raw_calendar_data\n",
    "mod_calendar_data['date'] = pd.to_datetime(raw_calendar_data['date'])\n",
    "\n",
    "#Confirm the info / types of data\n",
    "mod_calendar_data.info()"
   ]
  },
  {
   "cell_type": "code",
   "execution_count": 396,
   "metadata": {},
   "outputs": [
    {
     "name": "stdout",
     "output_type": "stream",
     "text": [
      "Earliest date of data set 2021-12-15 00:00:00\n",
      "Latest date of data set 2022-12-17 00:00:00\n"
     ]
    }
   ],
   "source": [
    "print(f\"Earliest date of data set {raw_calendar_data['date'].min()}\")\n",
    "print(f\"Latest date of data set {raw_calendar_data['date'].max()}\")"
   ]
  },
  {
   "cell_type": "code",
   "execution_count": 397,
   "metadata": {},
   "outputs": [
    {
     "data": {
      "text/plain": [
       "t    532541\n",
       "f    425949\n",
       "Name: available, dtype: int64"
      ]
     },
     "execution_count": 397,
     "metadata": {},
     "output_type": "execute_result"
    }
   ],
   "source": [
    "#Check Values of 'Available column'\n",
    "mod_calendar_data['available'].value_counts()"
   ]
  },
  {
   "cell_type": "code",
   "execution_count": 398,
   "metadata": {},
   "outputs": [
    {
     "data": {
      "text/plain": [
       "1    532541\n",
       "0    425949\n",
       "Name: available, dtype: int64"
      ]
     },
     "execution_count": 398,
     "metadata": {},
     "output_type": "execute_result"
    }
   ],
   "source": [
    "#Replace the false and true values with 0 and 1\n",
    "mod_calendar_data['available'] = mod_calendar_data['available'].replace(['f', 't'],[0, 1])\n",
    "\n",
    "#Confirm available are now integers\n",
    "mod_calendar_data['available'].value_counts()"
   ]
  },
  {
   "cell_type": "code",
   "execution_count": 399,
   "metadata": {},
   "outputs": [
    {
     "name": "stdout",
     "output_type": "stream",
     "text": [
      "<class 'pandas.core.frame.DataFrame'>\n",
      "RangeIndex: 958490 entries, 0 to 958489\n",
      "Data columns (total 7 columns):\n",
      " #   Column          Non-Null Count   Dtype         \n",
      "---  ------          --------------   -----         \n",
      " 0   listing_id      958490 non-null  int64         \n",
      " 1   date            958490 non-null  datetime64[ns]\n",
      " 2   available       958490 non-null  int64         \n",
      " 3   price           958319 non-null  object        \n",
      " 4   adjusted_price  958319 non-null  object        \n",
      " 5   minimum_nights  958490 non-null  int64         \n",
      " 6   maximum_nights  958490 non-null  int64         \n",
      "dtypes: datetime64[ns](1), int64(4), object(2)\n",
      "memory usage: 51.2+ MB\n"
     ]
    }
   ],
   "source": [
    "mod_calendar_data.info()"
   ]
  },
  {
   "cell_type": "code",
   "execution_count": 400,
   "metadata": {},
   "outputs": [
    {
     "data": {
      "text/plain": [
       "$125.00      29854\n",
       "$150.00      24356\n",
       "$99.00       19492\n",
       "$95.00       19240\n",
       "$250.00      16814\n",
       "             ...  \n",
       "$1,391.00        1\n",
       "$1,304.00        1\n",
       "$1,711.00        1\n",
       "$2,445.00        1\n",
       "$1,322.00        1\n",
       "Name: price, Length: 2100, dtype: int64"
      ]
     },
     "execution_count": 400,
     "metadata": {},
     "output_type": "execute_result"
    }
   ],
   "source": [
    "mod_calendar_data['price'].value_counts()"
   ]
  },
  {
   "cell_type": "code",
   "execution_count": 401,
   "metadata": {},
   "outputs": [
    {
     "data": {
      "text/plain": [
       "171"
      ]
     },
     "execution_count": 401,
     "metadata": {},
     "output_type": "execute_result"
    }
   ],
   "source": [
    "mod_calendar_data['price'].isna().sum()"
   ]
  },
  {
   "cell_type": "code",
   "execution_count": 402,
   "metadata": {},
   "outputs": [
    {
     "data": {
      "text/plain": [
       "$125.00      28413\n",
       "$150.00      24264\n",
       "$99.00       19561\n",
       "$95.00       19077\n",
       "$250.00      16475\n",
       "             ...  \n",
       "$1,565.00        1\n",
       "$1,166.00        1\n",
       "$1,728.00        1\n",
       "$1,688.00        1\n",
       "$1,322.00        1\n",
       "Name: adjusted_price, Length: 2097, dtype: int64"
      ]
     },
     "execution_count": 402,
     "metadata": {},
     "output_type": "execute_result"
    }
   ],
   "source": [
    "mod_calendar_data['adjusted_price'].value_counts()"
   ]
  },
  {
   "cell_type": "code",
   "execution_count": 403,
   "metadata": {},
   "outputs": [
    {
     "data": {
      "text/plain": [
       "47732580    171\n",
       "Name: listing_id, dtype: int64"
      ]
     },
     "execution_count": 403,
     "metadata": {},
     "output_type": "execute_result"
    }
   ],
   "source": [
    "nan_cols = mod_calendar_data[mod_calendar_data['price'].isna()]\n",
    "nan_cols['listing_id'].value_counts()"
   ]
  },
  {
   "cell_type": "code",
   "execution_count": 404,
   "metadata": {},
   "outputs": [
    {
     "data": {
      "text/plain": [
       "0"
      ]
     },
     "execution_count": 404,
     "metadata": {},
     "output_type": "execute_result"
    }
   ],
   "source": [
    "bnb_to_drop = mod_calendar_data[(mod_calendar_data['listing_id'] == 47732580)].index\n",
    "mod_calendar_data = mod_calendar_data.drop(bnb_to_drop)\n",
    "mod_calendar_data['price'].isna().sum()"
   ]
  },
  {
   "cell_type": "code",
   "execution_count": 405,
   "metadata": {},
   "outputs": [
    {
     "data": {
      "text/plain": [
       "0          $93.00\n",
       "1         $156.00\n",
       "2         $156.00\n",
       "3         $135.00\n",
       "4         $135.00\n",
       "           ...   \n",
       "958485    $807.00\n",
       "958486    $718.00\n",
       "958487    $706.00\n",
       "958488    $696.00\n",
       "958489    $687.00\n",
       "Name: price, Length: 958125, dtype: object"
      ]
     },
     "execution_count": 405,
     "metadata": {},
     "output_type": "execute_result"
    }
   ],
   "source": [
    "mod_calendar_data['price']"
   ]
  },
  {
   "cell_type": "code",
   "execution_count": 406,
   "metadata": {},
   "outputs": [
    {
     "name": "stderr",
     "output_type": "stream",
     "text": [
      "/var/folders/vj/wwng1wrx4433kjdgg3pdcmbc0000gn/T/ipykernel_3470/3964135494.py:5: FutureWarning: The default value of regex will change from True to False in a future version. In addition, single character regular expressions will *not* be treated as literal strings when regex=True.\n",
      "  mod_calendar_data['daily_price'] = mod_calendar_data['daily_price'].str.replace('$', '')\n"
     ]
    },
    {
     "data": {
      "text/html": [
       "<div>\n",
       "<style scoped>\n",
       "    .dataframe tbody tr th:only-of-type {\n",
       "        vertical-align: middle;\n",
       "    }\n",
       "\n",
       "    .dataframe tbody tr th {\n",
       "        vertical-align: top;\n",
       "    }\n",
       "\n",
       "    .dataframe thead th {\n",
       "        text-align: right;\n",
       "    }\n",
       "</style>\n",
       "<table border=\"1\" class=\"dataframe\">\n",
       "  <thead>\n",
       "    <tr style=\"text-align: right;\">\n",
       "      <th></th>\n",
       "      <th>listing_id</th>\n",
       "      <th>daily_price</th>\n",
       "      <th>date</th>\n",
       "      <th>available</th>\n",
       "      <th>minimum_nights</th>\n",
       "      <th>maximum_nights</th>\n",
       "    </tr>\n",
       "  </thead>\n",
       "  <tbody>\n",
       "    <tr>\n",
       "      <th>0</th>\n",
       "      <td>881707</td>\n",
       "      <td>93</td>\n",
       "      <td>2021-12-15</td>\n",
       "      <td>0</td>\n",
       "      <td>1</td>\n",
       "      <td>1125</td>\n",
       "    </tr>\n",
       "    <tr>\n",
       "      <th>1</th>\n",
       "      <td>910737</td>\n",
       "      <td>156</td>\n",
       "      <td>2021-12-15</td>\n",
       "      <td>1</td>\n",
       "      <td>2</td>\n",
       "      <td>1125</td>\n",
       "    </tr>\n",
       "    <tr>\n",
       "      <th>2</th>\n",
       "      <td>910737</td>\n",
       "      <td>156</td>\n",
       "      <td>2021-12-16</td>\n",
       "      <td>1</td>\n",
       "      <td>2</td>\n",
       "      <td>1125</td>\n",
       "    </tr>\n",
       "    <tr>\n",
       "      <th>3</th>\n",
       "      <td>910737</td>\n",
       "      <td>135</td>\n",
       "      <td>2021-12-17</td>\n",
       "      <td>0</td>\n",
       "      <td>2</td>\n",
       "      <td>1125</td>\n",
       "    </tr>\n",
       "    <tr>\n",
       "      <th>4</th>\n",
       "      <td>910737</td>\n",
       "      <td>135</td>\n",
       "      <td>2021-12-18</td>\n",
       "      <td>0</td>\n",
       "      <td>2</td>\n",
       "      <td>1125</td>\n",
       "    </tr>\n",
       "    <tr>\n",
       "      <th>...</th>\n",
       "      <td>...</td>\n",
       "      <td>...</td>\n",
       "      <td>...</td>\n",
       "      <td>...</td>\n",
       "      <td>...</td>\n",
       "      <td>...</td>\n",
       "    </tr>\n",
       "    <tr>\n",
       "      <th>958485</th>\n",
       "      <td>51875440</td>\n",
       "      <td>807</td>\n",
       "      <td>2022-12-10</td>\n",
       "      <td>1</td>\n",
       "      <td>5</td>\n",
       "      <td>365</td>\n",
       "    </tr>\n",
       "    <tr>\n",
       "      <th>958486</th>\n",
       "      <td>51875440</td>\n",
       "      <td>718</td>\n",
       "      <td>2022-12-11</td>\n",
       "      <td>1</td>\n",
       "      <td>5</td>\n",
       "      <td>365</td>\n",
       "    </tr>\n",
       "    <tr>\n",
       "      <th>958487</th>\n",
       "      <td>51875440</td>\n",
       "      <td>706</td>\n",
       "      <td>2022-12-12</td>\n",
       "      <td>1</td>\n",
       "      <td>5</td>\n",
       "      <td>365</td>\n",
       "    </tr>\n",
       "    <tr>\n",
       "      <th>958488</th>\n",
       "      <td>51875440</td>\n",
       "      <td>696</td>\n",
       "      <td>2022-12-13</td>\n",
       "      <td>1</td>\n",
       "      <td>5</td>\n",
       "      <td>365</td>\n",
       "    </tr>\n",
       "    <tr>\n",
       "      <th>958489</th>\n",
       "      <td>51875440</td>\n",
       "      <td>687</td>\n",
       "      <td>2022-12-14</td>\n",
       "      <td>1</td>\n",
       "      <td>5</td>\n",
       "      <td>365</td>\n",
       "    </tr>\n",
       "  </tbody>\n",
       "</table>\n",
       "<p>958125 rows × 6 columns</p>\n",
       "</div>"
      ],
      "text/plain": [
       "        listing_id  daily_price       date  available  minimum_nights  \\\n",
       "0           881707           93 2021-12-15          0               1   \n",
       "1           910737          156 2021-12-15          1               2   \n",
       "2           910737          156 2021-12-16          1               2   \n",
       "3           910737          135 2021-12-17          0               2   \n",
       "4           910737          135 2021-12-18          0               2   \n",
       "...            ...          ...        ...        ...             ...   \n",
       "958485    51875440          807 2022-12-10          1               5   \n",
       "958486    51875440          718 2022-12-11          1               5   \n",
       "958487    51875440          706 2022-12-12          1               5   \n",
       "958488    51875440          696 2022-12-13          1               5   \n",
       "958489    51875440          687 2022-12-14          1               5   \n",
       "\n",
       "        maximum_nights  \n",
       "0                 1125  \n",
       "1                 1125  \n",
       "2                 1125  \n",
       "3                 1125  \n",
       "4                 1125  \n",
       "...                ...  \n",
       "958485             365  \n",
       "958486             365  \n",
       "958487             365  \n",
       "958488             365  \n",
       "958489             365  \n",
       "\n",
       "[958125 rows x 6 columns]"
      ]
     },
     "execution_count": 406,
     "metadata": {},
     "output_type": "execute_result"
    }
   ],
   "source": [
    "test_price_df = mod_calendar_data['price'].str.split(\".\", expand=True)\n",
    "test_price_df = test_price_df.rename(columns = {0 : 'daily_price'})\n",
    "test_price_df = test_price_df.drop(labels = [1], axis = 1)\n",
    "mod_calendar_data = test_price_df.join(mod_calendar_data, how = 'left')\n",
    "mod_calendar_data['daily_price'] = mod_calendar_data['daily_price'].str.replace('$', '')\n",
    "mod_calendar_data['daily_price'] = mod_calendar_data['daily_price'].str.replace(',', '')\n",
    "mod_calendar_data['daily_price'] = mod_calendar_data['daily_price'].astype({'daily_price':'int'})\n",
    "mod_calendar_data = mod_calendar_data.drop(labels = ['adjusted_price', 'price'], axis = 1)\n",
    "\n",
    "id_to_move = mod_calendar_data.pop('listing_id')\n",
    "mod_calendar_data.insert(0, 'listing_id', id_to_move)\n",
    "mod_calendar_data"
   ]
  },
  {
   "cell_type": "code",
   "execution_count": 407,
   "metadata": {},
   "outputs": [
    {
     "name": "stdout",
     "output_type": "stream",
     "text": [
      "<class 'pandas.core.frame.DataFrame'>\n",
      "Int64Index: 958125 entries, 0 to 958489\n",
      "Data columns (total 6 columns):\n",
      " #   Column          Non-Null Count   Dtype         \n",
      "---  ------          --------------   -----         \n",
      " 0   listing_id      958125 non-null  int64         \n",
      " 1   daily_price     958125 non-null  int64         \n",
      " 2   date            958125 non-null  datetime64[ns]\n",
      " 3   available       958125 non-null  int64         \n",
      " 4   minimum_nights  958125 non-null  int64         \n",
      " 5   maximum_nights  958125 non-null  int64         \n",
      "dtypes: datetime64[ns](1), int64(5)\n",
      "memory usage: 83.4 MB\n"
     ]
    }
   ],
   "source": [
    "mod_calendar_data.info()"
   ]
  },
  {
   "cell_type": "code",
   "execution_count": 408,
   "metadata": {},
   "outputs": [],
   "source": [
    "#For purposes of this project/the stakeholder, we will drop the adjusted avail, price, min nights, max nights\n",
    "mod_calendar_data = mod_calendar_data.drop(['available', 'minimum_nights', 'maximum_nights'],\n",
    "                                          axis = 1)"
   ]
  },
  {
   "cell_type": "code",
   "execution_count": 409,
   "metadata": {},
   "outputs": [
    {
     "name": "stdout",
     "output_type": "stream",
     "text": [
      "<class 'pandas.core.frame.DataFrame'>\n",
      "Int64Index: 958125 entries, 0 to 958489\n",
      "Data columns (total 3 columns):\n",
      " #   Column       Non-Null Count   Dtype         \n",
      "---  ------       --------------   -----         \n",
      " 0   listing_id   958125 non-null  int64         \n",
      " 1   daily_price  958125 non-null  int64         \n",
      " 2   date         958125 non-null  datetime64[ns]\n",
      "dtypes: datetime64[ns](1), int64(2)\n",
      "memory usage: 61.5 MB\n"
     ]
    }
   ],
   "source": [
    "#Check all columns are integer types\n",
    "mod_calendar_data.info()"
   ]
  },
  {
   "cell_type": "code",
   "execution_count": 410,
   "metadata": {},
   "outputs": [],
   "source": [
    "# mod_calendar_data_id_avail = mod_calendar_data.groupby(['listing_id']).sum()\n",
    "# mod_calendar_data_id_avail = mod_calendar_data_id_avail.reset_index()\n",
    "# mod_calendar_data_id_avail = mod_calendar_data_id_avail.drop(['price'], axis = 1)\n",
    "# mod_calendar_data_id_avail['perc_year_avail'] = mod_calendar_data_id_avail['available'] / 365\n",
    "# mod_calendar_data_id_avail = mod_calendar_data_id_avail.drop(['available'], axis = 1)\n",
    "# mod_calendar_data_id_avail"
   ]
  },
  {
   "cell_type": "code",
   "execution_count": 411,
   "metadata": {},
   "outputs": [],
   "source": [
    "# mod_calendar_data_id_avail.info()"
   ]
  },
  {
   "cell_type": "markdown",
   "metadata": {},
   "source": [
    "## Listings Data - 2022"
   ]
  },
  {
   "cell_type": "code",
   "execution_count": 412,
   "metadata": {},
   "outputs": [
    {
     "data": {
      "text/html": [
       "<div>\n",
       "<style scoped>\n",
       "    .dataframe tbody tr th:only-of-type {\n",
       "        vertical-align: middle;\n",
       "    }\n",
       "\n",
       "    .dataframe tbody tr th {\n",
       "        vertical-align: top;\n",
       "    }\n",
       "\n",
       "    .dataframe thead th {\n",
       "        text-align: right;\n",
       "    }\n",
       "</style>\n",
       "<table border=\"1\" class=\"dataframe\">\n",
       "  <thead>\n",
       "    <tr style=\"text-align: right;\">\n",
       "      <th></th>\n",
       "      <th>id</th>\n",
       "      <th>listing_url</th>\n",
       "      <th>scrape_id</th>\n",
       "      <th>last_scraped</th>\n",
       "      <th>name</th>\n",
       "      <th>description</th>\n",
       "      <th>neighborhood_overview</th>\n",
       "      <th>picture_url</th>\n",
       "      <th>host_id</th>\n",
       "      <th>host_url</th>\n",
       "      <th>...</th>\n",
       "      <th>review_scores_communication</th>\n",
       "      <th>review_scores_location</th>\n",
       "      <th>review_scores_value</th>\n",
       "      <th>license</th>\n",
       "      <th>instant_bookable</th>\n",
       "      <th>calculated_host_listings_count</th>\n",
       "      <th>calculated_host_listings_count_entire_homes</th>\n",
       "      <th>calculated_host_listings_count_private_rooms</th>\n",
       "      <th>calculated_host_listings_count_shared_rooms</th>\n",
       "      <th>reviews_per_month</th>\n",
       "    </tr>\n",
       "  </thead>\n",
       "  <tbody>\n",
       "    <tr>\n",
       "      <th>0</th>\n",
       "      <td>108061</td>\n",
       "      <td>https://www.airbnb.com/rooms/108061</td>\n",
       "      <td>20211215062309</td>\n",
       "      <td>2021-12-15</td>\n",
       "      <td>Walk to stores/parks/downtown. Fenced yard/Pet...</td>\n",
       "      <td>Walk to town in ten minutes! Monthly rental in...</td>\n",
       "      <td>I love my neighborhood! Its friendly, easy-goi...</td>\n",
       "      <td>https://a0.muscache.com/pictures/41011975/0cdf...</td>\n",
       "      <td>320564</td>\n",
       "      <td>https://www.airbnb.com/users/show/320564</td>\n",
       "      <td>...</td>\n",
       "      <td>4.79</td>\n",
       "      <td>4.84</td>\n",
       "      <td>4.48</td>\n",
       "      <td>NaN</td>\n",
       "      <td>f</td>\n",
       "      <td>2</td>\n",
       "      <td>2</td>\n",
       "      <td>0</td>\n",
       "      <td>0</td>\n",
       "      <td>0.71</td>\n",
       "    </tr>\n",
       "    <tr>\n",
       "      <th>1</th>\n",
       "      <td>155305</td>\n",
       "      <td>https://www.airbnb.com/rooms/155305</td>\n",
       "      <td>20211215062309</td>\n",
       "      <td>2021-12-15</td>\n",
       "      <td>Cottage! BonPaul + Sharky's Hostel</td>\n",
       "      <td>&lt;b&gt;The space&lt;/b&gt;&lt;br /&gt;Private cottage located ...</td>\n",
       "      <td>We are within easy walk of pubs, breweries, mu...</td>\n",
       "      <td>https://a0.muscache.com/pictures/8880711/cf38d...</td>\n",
       "      <td>746673</td>\n",
       "      <td>https://www.airbnb.com/users/show/746673</td>\n",
       "      <td>...</td>\n",
       "      <td>4.76</td>\n",
       "      <td>4.93</td>\n",
       "      <td>4.53</td>\n",
       "      <td>NaN</td>\n",
       "      <td>t</td>\n",
       "      <td>7</td>\n",
       "      <td>1</td>\n",
       "      <td>2</td>\n",
       "      <td>4</td>\n",
       "      <td>2.75</td>\n",
       "    </tr>\n",
       "    <tr>\n",
       "      <th>2</th>\n",
       "      <td>156805</td>\n",
       "      <td>https://www.airbnb.com/rooms/156805</td>\n",
       "      <td>20211215062309</td>\n",
       "      <td>2021-12-15</td>\n",
       "      <td>Private Room \"Ader\" at BPS Hostel</td>\n",
       "      <td>&lt;b&gt;The space&lt;/b&gt;&lt;br /&gt;Private Rooms at Bon Pau...</td>\n",
       "      <td>Easy walk to pubs, cafes, bakery, breweries, l...</td>\n",
       "      <td>https://a0.muscache.com/pictures/23447d55-fa7e...</td>\n",
       "      <td>746673</td>\n",
       "      <td>https://www.airbnb.com/users/show/746673</td>\n",
       "      <td>...</td>\n",
       "      <td>4.61</td>\n",
       "      <td>4.84</td>\n",
       "      <td>4.46</td>\n",
       "      <td>NaN</td>\n",
       "      <td>t</td>\n",
       "      <td>7</td>\n",
       "      <td>1</td>\n",
       "      <td>2</td>\n",
       "      <td>4</td>\n",
       "      <td>0.54</td>\n",
       "    </tr>\n",
       "    <tr>\n",
       "      <th>3</th>\n",
       "      <td>156926</td>\n",
       "      <td>https://www.airbnb.com/rooms/156926</td>\n",
       "      <td>20211215062309</td>\n",
       "      <td>2021-12-15</td>\n",
       "      <td>Mixed Dorm \"Top Bunk #1\" at BPS Hostel</td>\n",
       "      <td>This is a top bunk in the mixed dorm room&lt;br /...</td>\n",
       "      <td>NaN</td>\n",
       "      <td>https://a0.muscache.com/pictures/98f4e655-c4d6...</td>\n",
       "      <td>746673</td>\n",
       "      <td>https://www.airbnb.com/users/show/746673</td>\n",
       "      <td>...</td>\n",
       "      <td>4.80</td>\n",
       "      <td>4.78</td>\n",
       "      <td>4.78</td>\n",
       "      <td>NaN</td>\n",
       "      <td>t</td>\n",
       "      <td>7</td>\n",
       "      <td>1</td>\n",
       "      <td>2</td>\n",
       "      <td>4</td>\n",
       "      <td>2.36</td>\n",
       "    </tr>\n",
       "    <tr>\n",
       "      <th>4</th>\n",
       "      <td>160594</td>\n",
       "      <td>https://www.airbnb.com/rooms/160594</td>\n",
       "      <td>20211215062309</td>\n",
       "      <td>2021-12-15</td>\n",
       "      <td>Historic Grove Park</td>\n",
       "      <td>Come enjoy the beautiful Grove Park neighborho...</td>\n",
       "      <td>NaN</td>\n",
       "      <td>https://a0.muscache.com/pictures/92433837/d340...</td>\n",
       "      <td>769252</td>\n",
       "      <td>https://www.airbnb.com/users/show/769252</td>\n",
       "      <td>...</td>\n",
       "      <td>4.88</td>\n",
       "      <td>4.90</td>\n",
       "      <td>4.85</td>\n",
       "      <td>NaN</td>\n",
       "      <td>f</td>\n",
       "      <td>1</td>\n",
       "      <td>0</td>\n",
       "      <td>1</td>\n",
       "      <td>0</td>\n",
       "      <td>0.46</td>\n",
       "    </tr>\n",
       "  </tbody>\n",
       "</table>\n",
       "<p>5 rows × 74 columns</p>\n",
       "</div>"
      ],
      "text/plain": [
       "       id                          listing_url       scrape_id last_scraped  \\\n",
       "0  108061  https://www.airbnb.com/rooms/108061  20211215062309   2021-12-15   \n",
       "1  155305  https://www.airbnb.com/rooms/155305  20211215062309   2021-12-15   \n",
       "2  156805  https://www.airbnb.com/rooms/156805  20211215062309   2021-12-15   \n",
       "3  156926  https://www.airbnb.com/rooms/156926  20211215062309   2021-12-15   \n",
       "4  160594  https://www.airbnb.com/rooms/160594  20211215062309   2021-12-15   \n",
       "\n",
       "                                                name  \\\n",
       "0  Walk to stores/parks/downtown. Fenced yard/Pet...   \n",
       "1                 Cottage! BonPaul + Sharky's Hostel   \n",
       "2                  Private Room \"Ader\" at BPS Hostel   \n",
       "3             Mixed Dorm \"Top Bunk #1\" at BPS Hostel   \n",
       "4                                Historic Grove Park   \n",
       "\n",
       "                                         description  \\\n",
       "0  Walk to town in ten minutes! Monthly rental in...   \n",
       "1  <b>The space</b><br />Private cottage located ...   \n",
       "2  <b>The space</b><br />Private Rooms at Bon Pau...   \n",
       "3  This is a top bunk in the mixed dorm room<br /...   \n",
       "4  Come enjoy the beautiful Grove Park neighborho...   \n",
       "\n",
       "                               neighborhood_overview  \\\n",
       "0  I love my neighborhood! Its friendly, easy-goi...   \n",
       "1  We are within easy walk of pubs, breweries, mu...   \n",
       "2  Easy walk to pubs, cafes, bakery, breweries, l...   \n",
       "3                                                NaN   \n",
       "4                                                NaN   \n",
       "\n",
       "                                         picture_url  host_id  \\\n",
       "0  https://a0.muscache.com/pictures/41011975/0cdf...   320564   \n",
       "1  https://a0.muscache.com/pictures/8880711/cf38d...   746673   \n",
       "2  https://a0.muscache.com/pictures/23447d55-fa7e...   746673   \n",
       "3  https://a0.muscache.com/pictures/98f4e655-c4d6...   746673   \n",
       "4  https://a0.muscache.com/pictures/92433837/d340...   769252   \n",
       "\n",
       "                                   host_url  ... review_scores_communication  \\\n",
       "0  https://www.airbnb.com/users/show/320564  ...                        4.79   \n",
       "1  https://www.airbnb.com/users/show/746673  ...                        4.76   \n",
       "2  https://www.airbnb.com/users/show/746673  ...                        4.61   \n",
       "3  https://www.airbnb.com/users/show/746673  ...                        4.80   \n",
       "4  https://www.airbnb.com/users/show/769252  ...                        4.88   \n",
       "\n",
       "  review_scores_location review_scores_value license instant_bookable  \\\n",
       "0                   4.84                4.48     NaN                f   \n",
       "1                   4.93                4.53     NaN                t   \n",
       "2                   4.84                4.46     NaN                t   \n",
       "3                   4.78                4.78     NaN                t   \n",
       "4                   4.90                4.85     NaN                f   \n",
       "\n",
       "  calculated_host_listings_count calculated_host_listings_count_entire_homes  \\\n",
       "0                              2                                           2   \n",
       "1                              7                                           1   \n",
       "2                              7                                           1   \n",
       "3                              7                                           1   \n",
       "4                              1                                           0   \n",
       "\n",
       "  calculated_host_listings_count_private_rooms  \\\n",
       "0                                            0   \n",
       "1                                            2   \n",
       "2                                            2   \n",
       "3                                            2   \n",
       "4                                            1   \n",
       "\n",
       "  calculated_host_listings_count_shared_rooms reviews_per_month  \n",
       "0                                           0              0.71  \n",
       "1                                           4              2.75  \n",
       "2                                           4              0.54  \n",
       "3                                           4              2.36  \n",
       "4                                           0              0.46  \n",
       "\n",
       "[5 rows x 74 columns]"
      ]
     },
     "execution_count": 412,
     "metadata": {},
     "output_type": "execute_result"
    }
   ],
   "source": [
    "raw_listings_data = pd.read_csv('../Data/AirBnB/Asheville/2021/asheville_listings_2021.csv')\n",
    "raw_listings_data.head()"
   ]
  },
  {
   "cell_type": "code",
   "execution_count": 413,
   "metadata": {},
   "outputs": [
    {
     "name": "stdout",
     "output_type": "stream",
     "text": [
      "<class 'pandas.core.frame.DataFrame'>\n",
      "RangeIndex: 2626 entries, 0 to 2625\n",
      "Data columns (total 74 columns):\n",
      " #   Column                                        Non-Null Count  Dtype  \n",
      "---  ------                                        --------------  -----  \n",
      " 0   id                                            2626 non-null   int64  \n",
      " 1   listing_url                                   2626 non-null   object \n",
      " 2   scrape_id                                     2626 non-null   int64  \n",
      " 3   last_scraped                                  2626 non-null   object \n",
      " 4   name                                          2626 non-null   object \n",
      " 5   description                                   2621 non-null   object \n",
      " 6   neighborhood_overview                         2040 non-null   object \n",
      " 7   picture_url                                   2626 non-null   object \n",
      " 8   host_id                                       2626 non-null   int64  \n",
      " 9   host_url                                      2626 non-null   object \n",
      " 10  host_name                                     2626 non-null   object \n",
      " 11  host_since                                    2626 non-null   object \n",
      " 12  host_location                                 2622 non-null   object \n",
      " 13  host_about                                    1744 non-null   object \n",
      " 14  host_response_time                            2165 non-null   object \n",
      " 15  host_response_rate                            2165 non-null   object \n",
      " 16  host_acceptance_rate                          2249 non-null   object \n",
      " 17  host_is_superhost                             2626 non-null   object \n",
      " 18  host_thumbnail_url                            2626 non-null   object \n",
      " 19  host_picture_url                              2626 non-null   object \n",
      " 20  host_neighbourhood                            658 non-null    object \n",
      " 21  host_listings_count                           2626 non-null   int64  \n",
      " 22  host_total_listings_count                     2626 non-null   int64  \n",
      " 23  host_verifications                            2626 non-null   object \n",
      " 24  host_has_profile_pic                          2626 non-null   object \n",
      " 25  host_identity_verified                        2626 non-null   object \n",
      " 26  neighbourhood                                 2041 non-null   object \n",
      " 27  neighbourhood_cleansed                        2626 non-null   int64  \n",
      " 28  neighbourhood_group_cleansed                  0 non-null      float64\n",
      " 29  latitude                                      2626 non-null   float64\n",
      " 30  longitude                                     2626 non-null   float64\n",
      " 31  property_type                                 2626 non-null   object \n",
      " 32  room_type                                     2626 non-null   object \n",
      " 33  accommodates                                  2626 non-null   int64  \n",
      " 34  bathrooms                                     0 non-null      float64\n",
      " 35  bathrooms_text                                2625 non-null   object \n",
      " 36  bedrooms                                      2463 non-null   float64\n",
      " 37  beds                                          2558 non-null   float64\n",
      " 38  amenities                                     2626 non-null   object \n",
      " 39  price                                         2626 non-null   object \n",
      " 40  minimum_nights                                2626 non-null   int64  \n",
      " 41  maximum_nights                                2626 non-null   int64  \n",
      " 42  minimum_minimum_nights                        2626 non-null   int64  \n",
      " 43  maximum_minimum_nights                        2626 non-null   int64  \n",
      " 44  minimum_maximum_nights                        2626 non-null   int64  \n",
      " 45  maximum_maximum_nights                        2626 non-null   int64  \n",
      " 46  minimum_nights_avg_ntm                        2626 non-null   float64\n",
      " 47  maximum_nights_avg_ntm                        2626 non-null   float64\n",
      " 48  calendar_updated                              0 non-null      float64\n",
      " 49  has_availability                              2626 non-null   object \n",
      " 50  availability_30                               2626 non-null   int64  \n",
      " 51  availability_60                               2626 non-null   int64  \n",
      " 52  availability_90                               2626 non-null   int64  \n",
      " 53  availability_365                              2626 non-null   int64  \n",
      " 54  calendar_last_scraped                         2626 non-null   object \n",
      " 55  number_of_reviews                             2626 non-null   int64  \n",
      " 56  number_of_reviews_ltm                         2626 non-null   int64  \n",
      " 57  number_of_reviews_l30d                        2626 non-null   int64  \n",
      " 58  first_review                                  2487 non-null   object \n",
      " 59  last_review                                   2487 non-null   object \n",
      " 60  review_scores_rating                          2487 non-null   float64\n",
      " 61  review_scores_accuracy                        2485 non-null   float64\n",
      " 62  review_scores_cleanliness                     2485 non-null   float64\n",
      " 63  review_scores_checkin                         2485 non-null   float64\n",
      " 64  review_scores_communication                   2485 non-null   float64\n",
      " 65  review_scores_location                        2485 non-null   float64\n",
      " 66  review_scores_value                           2485 non-null   float64\n",
      " 67  license                                       0 non-null      float64\n",
      " 68  instant_bookable                              2626 non-null   object \n",
      " 69  calculated_host_listings_count                2626 non-null   int64  \n",
      " 70  calculated_host_listings_count_entire_homes   2626 non-null   int64  \n",
      " 71  calculated_host_listings_count_private_rooms  2626 non-null   int64  \n",
      " 72  calculated_host_listings_count_shared_rooms   2626 non-null   int64  \n",
      " 73  reviews_per_month                             2487 non-null   float64\n",
      "dtypes: float64(18), int64(24), object(32)\n",
      "memory usage: 1.5+ MB\n"
     ]
    }
   ],
   "source": [
    "raw_listings_data.info()"
   ]
  },
  {
   "cell_type": "code",
   "execution_count": 414,
   "metadata": {},
   "outputs": [],
   "source": [
    "#Remove irrelevant review columns\n",
    "mod_listing_data = raw_listings_data.drop(labels = ['review_scores_accuracy', \n",
    "                                                    'review_scores_cleanliness', \n",
    "                                                    'review_scores_checkin', \n",
    "                                                    'review_scores_communication', \n",
    "                                                    'review_scores_location',\n",
    "                                                    'calendar_updated', \n",
    "                                                    'license'], axis = 1)"
   ]
  },
  {
   "cell_type": "code",
   "execution_count": 415,
   "metadata": {},
   "outputs": [],
   "source": [
    "#Remove irrelevant host columns\n",
    "mod_listing_data = mod_listing_data.drop(labels = ['host_name', \n",
    "                                                   'host_since', \n",
    "                                                   'host_location', \n",
    "                                                   'host_about', \n",
    "                                                   'host_response_time', \n",
    "                                                   'host_acceptance_rate',\n",
    "                                                   'host_thumbnail_url', \n",
    "                                                   'host_picture_url', \n",
    "                                                   'host_neighbourhood', \n",
    "                                                   'host_listings_count', \n",
    "                                                   'host_total_listings_count', \n",
    "                                                   'host_verifications', \n",
    "                                                   'host_has_profile_pic',\n",
    "                                                   'first_review',\n",
    "                                                   'last_review'], axis = 1)"
   ]
  },
  {
   "cell_type": "code",
   "execution_count": 416,
   "metadata": {},
   "outputs": [],
   "source": [
    "#Remove\n",
    "\n",
    "mod_listing_data = mod_listing_data.drop(labels = ['scrape_id',\n",
    "                                                  'last_scraped',\n",
    "                                                  'neighbourhood_cleansed',\n",
    "                                                  'neighbourhood_group_cleansed',\n",
    "                                                  'property_type',\n",
    "                                                  'bathrooms',\n",
    "                                                  'price',\n",
    "                                                   'minimum_minimum_nights',\n",
    "                                                   'maximum_minimum_nights',\n",
    "                                                   'minimum_maximum_nights',\n",
    "                                                   'maximum_maximum_nights',\n",
    "                                                   'minimum_nights_avg_ntm',\n",
    "                                                   'maximum_nights_avg_ntm',\n",
    "                                                   'has_availability',\n",
    "                                                   'availability_30',\n",
    "                                                   'availability_60',\n",
    "                                                   'availability_90',\n",
    "                                                   'availability_365',\n",
    "                                                   'calendar_last_scraped',\n",
    "                                                   'number_of_reviews_ltm',\n",
    "                                                   'number_of_reviews_l30d',\n",
    "                                                   'calculated_host_listings_count',\n",
    "                                                   'calculated_host_listings_count_entire_homes',\n",
    "                                                   'calculated_host_listings_count_private_rooms',\n",
    "                                                   'calculated_host_listings_count_shared_rooms',\n",
    "                                                  'neighborhood_overview',\n",
    "                                                  'reviews_per_month',\n",
    "                                                  'review_scores_value',\n",
    "                                                  'host_response_rate',\n",
    "                                                  'description'], axis = 1)"
   ]
  },
  {
   "cell_type": "code",
   "execution_count": 417,
   "metadata": {},
   "outputs": [
    {
     "name": "stdout",
     "output_type": "stream",
     "text": [
      "<class 'pandas.core.frame.DataFrame'>\n",
      "RangeIndex: 2626 entries, 0 to 2625\n",
      "Data columns (total 22 columns):\n",
      " #   Column                  Non-Null Count  Dtype  \n",
      "---  ------                  --------------  -----  \n",
      " 0   id                      2626 non-null   int64  \n",
      " 1   listing_url             2626 non-null   object \n",
      " 2   name                    2626 non-null   object \n",
      " 3   picture_url             2626 non-null   object \n",
      " 4   host_id                 2626 non-null   int64  \n",
      " 5   host_url                2626 non-null   object \n",
      " 6   host_is_superhost       2626 non-null   object \n",
      " 7   host_identity_verified  2626 non-null   object \n",
      " 8   neighbourhood           2041 non-null   object \n",
      " 9   latitude                2626 non-null   float64\n",
      " 10  longitude               2626 non-null   float64\n",
      " 11  room_type               2626 non-null   object \n",
      " 12  accommodates            2626 non-null   int64  \n",
      " 13  bathrooms_text          2625 non-null   object \n",
      " 14  bedrooms                2463 non-null   float64\n",
      " 15  beds                    2558 non-null   float64\n",
      " 16  amenities               2626 non-null   object \n",
      " 17  minimum_nights          2626 non-null   int64  \n",
      " 18  maximum_nights          2626 non-null   int64  \n",
      " 19  number_of_reviews       2626 non-null   int64  \n",
      " 20  review_scores_rating    2487 non-null   float64\n",
      " 21  instant_bookable        2626 non-null   object \n",
      "dtypes: float64(5), int64(6), object(11)\n",
      "memory usage: 451.5+ KB\n"
     ]
    }
   ],
   "source": [
    "mod_listing_data.info()"
   ]
  },
  {
   "cell_type": "code",
   "execution_count": 418,
   "metadata": {},
   "outputs": [
    {
     "data": {
      "text/plain": [
       "0"
      ]
     },
     "execution_count": 418,
     "metadata": {},
     "output_type": "execute_result"
    }
   ],
   "source": [
    "#Fill the missing neighborhood data with 'Asheville, North Carolina, United States'\n",
    "mod_listing_data['neighbourhood'] = mod_listing_data['neighbourhood'].fillna('Asheville, North Carolina, United States')\n",
    "mod_listing_data['neighbourhood'].isna().sum()"
   ]
  },
  {
   "cell_type": "code",
   "execution_count": 419,
   "metadata": {},
   "outputs": [
    {
     "name": "stdout",
     "output_type": "stream",
     "text": [
      "<class 'pandas.core.frame.DataFrame'>\n",
      "RangeIndex: 2626 entries, 0 to 2625\n",
      "Data columns (total 22 columns):\n",
      " #   Column                  Non-Null Count  Dtype  \n",
      "---  ------                  --------------  -----  \n",
      " 0   id                      2626 non-null   int64  \n",
      " 1   listing_url             2626 non-null   object \n",
      " 2   name                    2626 non-null   object \n",
      " 3   picture_url             2626 non-null   object \n",
      " 4   host_id                 2626 non-null   int64  \n",
      " 5   host_url                2626 non-null   object \n",
      " 6   host_is_superhost       2626 non-null   object \n",
      " 7   host_identity_verified  2626 non-null   object \n",
      " 8   latitude                2626 non-null   float64\n",
      " 9   longitude               2626 non-null   float64\n",
      " 10  room_type               2626 non-null   object \n",
      " 11  accommodates            2626 non-null   int64  \n",
      " 12  bathrooms_text          2625 non-null   object \n",
      " 13  bedrooms                2463 non-null   float64\n",
      " 14  beds                    2558 non-null   float64\n",
      " 15  amenities               2626 non-null   object \n",
      " 16  minimum_nights          2626 non-null   int64  \n",
      " 17  maximum_nights          2626 non-null   int64  \n",
      " 18  number_of_reviews       2626 non-null   int64  \n",
      " 19  review_scores_rating    2487 non-null   float64\n",
      " 20  instant_bookable        2626 non-null   object \n",
      " 21  neighborhood            2626 non-null   object \n",
      "dtypes: float64(5), int64(6), object(11)\n",
      "memory usage: 451.5+ KB\n"
     ]
    }
   ],
   "source": [
    "test_neighbor_df = mod_listing_data['neighbourhood'].str.split(\",\", expand=True)\n",
    "test_neighbor_df = test_neighbor_df.rename(columns = {0 : 'neighborhood'})\n",
    "test_neighbor_df = test_neighbor_df.drop(labels = [1, 2, 3, 4], axis = 1)\n",
    "mod_listing_data = mod_listing_data.join(test_neighbor_df, how = 'outer')\n",
    "mod_listing_data = mod_listing_data.drop(labels = ['neighbourhood'], axis = 1)\n",
    "mod_listing_data.info()"
   ]
  },
  {
   "cell_type": "code",
   "execution_count": 420,
   "metadata": {},
   "outputs": [],
   "source": [
    "mod_listing_data['neighborhood'] = mod_listing_data['neighborhood'].replace(['Ashville'],['Asheville'])\n",
    "\n",
    "neigh_to_drop = mod_listing_data[(mod_listing_data['neighborhood'] == 'Leicester') | \n",
    "                                 (mod_listing_data['neighborhood'] == 'Swannanoa') | \n",
    "                                 (mod_listing_data['neighborhood'] == 'Avery Creek') | \n",
    "                                 (mod_listing_data['neighborhood'] == 'Fairview') |\n",
    "                                 (mod_listing_data['neighborhood'] == 'Limestone') |\n",
    "                                 (mod_listing_data['neighborhood'] == 'Biltmore Forest')].index\n",
    "mod_listing_data = mod_listing_data.drop(neigh_to_drop)"
   ]
  },
  {
   "cell_type": "code",
   "execution_count": 421,
   "metadata": {},
   "outputs": [],
   "source": [
    "mod_listing_data['neighborhood'] = mod_listing_data['neighborhood'].replace(['Asheville '], 'Asheville')"
   ]
  },
  {
   "cell_type": "code",
   "execution_count": 422,
   "metadata": {},
   "outputs": [
    {
     "data": {
      "text/plain": [
       "Asheville    2323\n",
       "Arden         131\n",
       "Woodfin        62\n",
       "Candler        54\n",
       "Fletcher       47\n",
       "Name: neighborhood, dtype: int64"
      ]
     },
     "execution_count": 422,
     "metadata": {},
     "output_type": "execute_result"
    }
   ],
   "source": [
    "mod_listing_data['neighborhood'].value_counts()"
   ]
  },
  {
   "cell_type": "code",
   "execution_count": 423,
   "metadata": {},
   "outputs": [],
   "source": [
    "#Remove rows with no bedrooms data\n",
    "mod_listing_data = mod_listing_data.dropna(subset = ['bedrooms', \n",
    "                                                     'beds', \n",
    "                                                     'review_scores_rating', \n",
    "                                                     'bathrooms_text'], axis = 0)"
   ]
  },
  {
   "cell_type": "code",
   "execution_count": 424,
   "metadata": {},
   "outputs": [
    {
     "data": {
      "text/plain": [
       "id                        0\n",
       "listing_url               0\n",
       "name                      0\n",
       "picture_url               0\n",
       "host_id                   0\n",
       "host_url                  0\n",
       "host_is_superhost         0\n",
       "host_identity_verified    0\n",
       "latitude                  0\n",
       "longitude                 0\n",
       "room_type                 0\n",
       "accommodates              0\n",
       "bathrooms_text            0\n",
       "bedrooms                  0\n",
       "beds                      0\n",
       "amenities                 0\n",
       "minimum_nights            0\n",
       "maximum_nights            0\n",
       "number_of_reviews         0\n",
       "review_scores_rating      0\n",
       "instant_bookable          0\n",
       "neighborhood              0\n",
       "dtype: int64"
      ]
     },
     "execution_count": 424,
     "metadata": {},
     "output_type": "execute_result"
    }
   ],
   "source": [
    "mod_listing_data.isna().sum()"
   ]
  },
  {
   "cell_type": "code",
   "execution_count": 425,
   "metadata": {},
   "outputs": [
    {
     "data": {
      "text/plain": [
       "1    1703\n",
       "0     566\n",
       "Name: host_is_superhost, dtype: int64"
      ]
     },
     "execution_count": 425,
     "metadata": {},
     "output_type": "execute_result"
    }
   ],
   "source": [
    "#Replace the false and true values with 0 and 1\n",
    "mod_listing_data['host_is_superhost'] = mod_listing_data['host_is_superhost'].replace(['f', 't'],[0, 1])\n",
    "mod_listing_data['host_is_superhost'].value_counts()"
   ]
  },
  {
   "cell_type": "code",
   "execution_count": 426,
   "metadata": {},
   "outputs": [
    {
     "data": {
      "text/plain": [
       "1    1798\n",
       "0     471\n",
       "Name: host_identity_verified, dtype: int64"
      ]
     },
     "execution_count": 426,
     "metadata": {},
     "output_type": "execute_result"
    }
   ],
   "source": [
    "#Replace the false and true values with 0 and 1\n",
    "mod_listing_data['host_identity_verified'] = mod_listing_data['host_identity_verified'].replace(['f', 't'],[0, 1])\n",
    "mod_listing_data['host_identity_verified'].value_counts()"
   ]
  },
  {
   "cell_type": "code",
   "execution_count": 427,
   "metadata": {},
   "outputs": [
    {
     "data": {
      "text/plain": [
       "1    1322\n",
       "0     947\n",
       "Name: instant_bookable, dtype: int64"
      ]
     },
     "execution_count": 427,
     "metadata": {},
     "output_type": "execute_result"
    }
   ],
   "source": [
    "#Replace the false and true values with 0 and 1\n",
    "mod_listing_data['instant_bookable'] = mod_listing_data['instant_bookable'].replace(['f', 't'],[0, 1])\n",
    "mod_listing_data['instant_bookable'].value_counts()"
   ]
  },
  {
   "cell_type": "code",
   "execution_count": 428,
   "metadata": {},
   "outputs": [
    {
     "data": {
      "text/plain": [
       "Asheville    2008\n",
       "Arden         117\n",
       "Woodfin        54\n",
       "Candler        47\n",
       "Fletcher       43\n",
       "Name: neighborhood, dtype: int64"
      ]
     },
     "execution_count": 428,
     "metadata": {},
     "output_type": "execute_result"
    }
   ],
   "source": [
    "mod_listing_data['neighborhood'].value_counts()"
   ]
  },
  {
   "cell_type": "code",
   "execution_count": 429,
   "metadata": {},
   "outputs": [
    {
     "data": {
      "text/plain": [
       "1 bath              1122\n",
       "2 baths              481\n",
       "1 private bath       201\n",
       "3 baths              102\n",
       "2.5 baths            100\n",
       "1.5 baths             92\n",
       "1 shared bath         67\n",
       "3.5 baths             32\n",
       "4 baths               26\n",
       "1.5 shared baths       8\n",
       "4.5 baths              8\n",
       "2 shared baths         7\n",
       "5 baths                7\n",
       "2.5 shared baths       6\n",
       "6 baths                4\n",
       "5.5 baths              3\n",
       "0 baths                1\n",
       "7 baths                1\n",
       "8 baths                1\n",
       "Name: bathrooms_text, dtype: int64"
      ]
     },
     "execution_count": 429,
     "metadata": {},
     "output_type": "execute_result"
    }
   ],
   "source": [
    "mod_listing_data['bathrooms_text'].value_counts()"
   ]
  },
  {
   "cell_type": "code",
   "execution_count": 430,
   "metadata": {},
   "outputs": [
    {
     "data": {
      "text/plain": [
       "1    1322\n",
       "0     947\n",
       "Name: instant_bookable, dtype: int64"
      ]
     },
     "execution_count": 430,
     "metadata": {},
     "output_type": "execute_result"
    }
   ],
   "source": [
    "mod_listing_data['instant_bookable'].value_counts()"
   ]
  },
  {
   "cell_type": "code",
   "execution_count": 431,
   "metadata": {},
   "outputs": [
    {
     "data": {
      "text/plain": [
       "1.0     779\n",
       "2.0     685\n",
       "3.0     374\n",
       "4.0     196\n",
       "5.0      99\n",
       "6.0      69\n",
       "7.0      27\n",
       "8.0      14\n",
       "9.0       9\n",
       "11.0      6\n",
       "12.0      4\n",
       "10.0      3\n",
       "21.0      2\n",
       "13.0      1\n",
       "15.0      1\n",
       "Name: beds, dtype: int64"
      ]
     },
     "execution_count": 431,
     "metadata": {},
     "output_type": "execute_result"
    }
   ],
   "source": [
    "mod_listing_data['beds'].value_counts()"
   ]
  },
  {
   "cell_type": "code",
   "execution_count": 432,
   "metadata": {},
   "outputs": [
    {
     "name": "stdout",
     "output_type": "stream",
     "text": [
      "<class 'pandas.core.frame.DataFrame'>\n",
      "Int64Index: 2269 entries, 0 to 2618\n",
      "Data columns (total 22 columns):\n",
      " #   Column                  Non-Null Count  Dtype  \n",
      "---  ------                  --------------  -----  \n",
      " 0   id                      2269 non-null   int64  \n",
      " 1   listing_url             2269 non-null   object \n",
      " 2   name                    2269 non-null   object \n",
      " 3   picture_url             2269 non-null   object \n",
      " 4   host_id                 2269 non-null   int64  \n",
      " 5   host_url                2269 non-null   object \n",
      " 6   host_is_superhost       2269 non-null   int64  \n",
      " 7   host_identity_verified  2269 non-null   int64  \n",
      " 8   latitude                2269 non-null   float64\n",
      " 9   longitude               2269 non-null   float64\n",
      " 10  room_type               2269 non-null   object \n",
      " 11  accommodates            2269 non-null   int64  \n",
      " 12  bathrooms_text          2269 non-null   object \n",
      " 13  bedrooms                2269 non-null   float64\n",
      " 14  beds                    2269 non-null   float64\n",
      " 15  amenities               2269 non-null   object \n",
      " 16  minimum_nights          2269 non-null   int64  \n",
      " 17  maximum_nights          2269 non-null   int64  \n",
      " 18  number_of_reviews       2269 non-null   int64  \n",
      " 19  review_scores_rating    2269 non-null   float64\n",
      " 20  instant_bookable        2269 non-null   int64  \n",
      " 21  neighborhood            2269 non-null   object \n",
      "dtypes: float64(5), int64(9), object(8)\n",
      "memory usage: 407.7+ KB\n"
     ]
    }
   ],
   "source": [
    "mod_listing_data.info()"
   ]
  },
  {
   "cell_type": "code",
   "execution_count": 433,
   "metadata": {},
   "outputs": [
    {
     "data": {
      "text/plain": [
       "0"
      ]
     },
     "execution_count": 433,
     "metadata": {},
     "output_type": "execute_result"
    }
   ],
   "source": [
    "mod_listing_data['bathrooms_text'].isna().sum()"
   ]
  },
  {
   "cell_type": "code",
   "execution_count": 434,
   "metadata": {},
   "outputs": [
    {
     "data": {
      "text/plain": [
       "1 bath              1122\n",
       "2 baths              481\n",
       "1 private bath       201\n",
       "3 baths              102\n",
       "2.5 baths            100\n",
       "1.5 baths             92\n",
       "1 shared bath         67\n",
       "3.5 baths             32\n",
       "4 baths               26\n",
       "1.5 shared baths       8\n",
       "4.5 baths              8\n",
       "2 shared baths         7\n",
       "5 baths                7\n",
       "2.5 shared baths       6\n",
       "6 baths                4\n",
       "5.5 baths              3\n",
       "0 baths                1\n",
       "7 baths                1\n",
       "8 baths                1\n",
       "Name: bathrooms_text, dtype: int64"
      ]
     },
     "execution_count": 434,
     "metadata": {},
     "output_type": "execute_result"
    }
   ],
   "source": [
    "mod_listing_data['bathrooms_text'].value_counts()"
   ]
  },
  {
   "cell_type": "code",
   "execution_count": 435,
   "metadata": {},
   "outputs": [],
   "source": [
    "mod_listing_data['bathrooms_text'] = mod_listing_data['bathrooms_text'].replace(['Shared half-bath', 'Half-bath', \n",
    "                                                                                'Private half-bath'],\n",
    "                                                                                 [0.5, 0.5, 0.5])"
   ]
  },
  {
   "cell_type": "code",
   "execution_count": 436,
   "metadata": {},
   "outputs": [
    {
     "data": {
      "text/plain": [
       "0"
      ]
     },
     "execution_count": 436,
     "metadata": {},
     "output_type": "execute_result"
    }
   ],
   "source": [
    "mod_listing_data['bathrooms_text'].isna().sum()"
   ]
  },
  {
   "cell_type": "code",
   "execution_count": 437,
   "metadata": {},
   "outputs": [
    {
     "data": {
      "text/plain": [
       "1 bath              1122\n",
       "2 baths              481\n",
       "1 private bath       201\n",
       "3 baths              102\n",
       "2.5 baths            100\n",
       "1.5 baths             92\n",
       "1 shared bath         67\n",
       "3.5 baths             32\n",
       "4 baths               26\n",
       "1.5 shared baths       8\n",
       "4.5 baths              8\n",
       "2 shared baths         7\n",
       "5 baths                7\n",
       "2.5 shared baths       6\n",
       "6 baths                4\n",
       "5.5 baths              3\n",
       "0 baths                1\n",
       "7 baths                1\n",
       "8 baths                1\n",
       "Name: bathrooms_text, dtype: int64"
      ]
     },
     "execution_count": 437,
     "metadata": {},
     "output_type": "execute_result"
    }
   ],
   "source": [
    "mod_listing_data['bathrooms_text'].value_counts()"
   ]
  },
  {
   "cell_type": "code",
   "execution_count": 438,
   "metadata": {},
   "outputs": [
    {
     "name": "stdout",
     "output_type": "stream",
     "text": [
      "<class 'pandas.core.frame.DataFrame'>\n",
      "Int64Index: 2269 entries, 0 to 2618\n",
      "Data columns (total 22 columns):\n",
      " #   Column                  Non-Null Count  Dtype  \n",
      "---  ------                  --------------  -----  \n",
      " 0   id                      2269 non-null   int64  \n",
      " 1   listing_url             2269 non-null   object \n",
      " 2   name                    2269 non-null   object \n",
      " 3   picture_url             2269 non-null   object \n",
      " 4   host_id                 2269 non-null   int64  \n",
      " 5   host_url                2269 non-null   object \n",
      " 6   host_is_superhost       2269 non-null   int64  \n",
      " 7   host_identity_verified  2269 non-null   int64  \n",
      " 8   latitude                2269 non-null   float64\n",
      " 9   longitude               2269 non-null   float64\n",
      " 10  room_type               2269 non-null   object \n",
      " 11  accommodates            2269 non-null   int64  \n",
      " 12  bedrooms                2269 non-null   float64\n",
      " 13  beds                    2269 non-null   float64\n",
      " 14  amenities               2269 non-null   object \n",
      " 15  minimum_nights          2269 non-null   int64  \n",
      " 16  maximum_nights          2269 non-null   int64  \n",
      " 17  number_of_reviews       2269 non-null   int64  \n",
      " 18  review_scores_rating    2269 non-null   float64\n",
      " 19  instant_bookable        2269 non-null   int64  \n",
      " 20  neighborhood            2269 non-null   object \n",
      " 21  bathrooms               2269 non-null   float64\n",
      "dtypes: float64(6), int64(9), object(7)\n",
      "memory usage: 472.2+ KB\n"
     ]
    }
   ],
   "source": [
    "# mod_listing_data['bathrooms_text'] = mod_listing_data['bathrooms_text'].str.split(\" \", n = 1, expand = True)\n",
    "\n",
    "test_df = mod_listing_data['bathrooms_text'].str.split(\" \", expand=True)\n",
    "test_df = test_df.rename(columns = {0 : 'bathrooms'})\n",
    "test_df = test_df.drop(labels = [1, 2], axis = 1)\n",
    "mod_listing_data = mod_listing_data.join(test_df, how = 'outer')\n",
    "mod_listing_data = mod_listing_data.drop(labels = ['bathrooms_text'], axis = 1)\n",
    "mod_listing_data['bathrooms'] = mod_listing_data['bathrooms'].fillna(0.5)\n",
    "mod_listing_data['bathrooms'] = pd.to_numeric(mod_listing_data['bathrooms'])\n",
    "mod_listing_data.info()"
   ]
  },
  {
   "cell_type": "code",
   "execution_count": 439,
   "metadata": {},
   "outputs": [],
   "source": [
    "target_amenities = ['Air conditioning', 'Wifi', 'TV', 'Kitchen', 'Washer', 'Dryer', 'Heating']"
   ]
  },
  {
   "cell_type": "code",
   "execution_count": 440,
   "metadata": {},
   "outputs": [],
   "source": [
    "def add_amenity_column(amenity_name):\n",
    "    mod_listing_data[amenity_name] = mod_listing_data['amenities'].str.contains(amenity_name, regex=False)\n",
    "    mod_listing_data[amenity_name] = mod_listing_data[amenity_name].replace([False, True],[0, 1])"
   ]
  },
  {
   "cell_type": "code",
   "execution_count": 441,
   "metadata": {},
   "outputs": [],
   "source": [
    "add_amenity_column(target_amenities[0])\n",
    "add_amenity_column(target_amenities[1])\n",
    "add_amenity_column(target_amenities[2])\n",
    "add_amenity_column(target_amenities[3])\n",
    "add_amenity_column(target_amenities[4])\n",
    "add_amenity_column(target_amenities[5])\n",
    "add_amenity_column(target_amenities[6])"
   ]
  },
  {
   "cell_type": "code",
   "execution_count": 442,
   "metadata": {},
   "outputs": [],
   "source": [
    "mod_listing_data = mod_listing_data.drop(['amenities'], axis = 1)"
   ]
  },
  {
   "cell_type": "code",
   "execution_count": 443,
   "metadata": {},
   "outputs": [
    {
     "name": "stdout",
     "output_type": "stream",
     "text": [
      "<class 'pandas.core.frame.DataFrame'>\n",
      "Int64Index: 2269 entries, 0 to 2618\n",
      "Data columns (total 28 columns):\n",
      " #   Column                  Non-Null Count  Dtype  \n",
      "---  ------                  --------------  -----  \n",
      " 0   listing_id              2269 non-null   int64  \n",
      " 1   listing_url             2269 non-null   object \n",
      " 2   name                    2269 non-null   object \n",
      " 3   picture_url             2269 non-null   object \n",
      " 4   host_id                 2269 non-null   int64  \n",
      " 5   host_url                2269 non-null   object \n",
      " 6   host_is_superhost       2269 non-null   int64  \n",
      " 7   host_identity_verified  2269 non-null   int64  \n",
      " 8   latitude                2269 non-null   float64\n",
      " 9   longitude               2269 non-null   float64\n",
      " 10  room_type               2269 non-null   object \n",
      " 11  accommodates            2269 non-null   int64  \n",
      " 12  bedrooms                2269 non-null   float64\n",
      " 13  beds                    2269 non-null   float64\n",
      " 14  minimum_nights          2269 non-null   int64  \n",
      " 15  maximum_nights          2269 non-null   int64  \n",
      " 16  number_of_reviews       2269 non-null   int64  \n",
      " 17  review_scores_rating    2269 non-null   float64\n",
      " 18  instant_bookable        2269 non-null   int64  \n",
      " 19  neighborhood            2269 non-null   object \n",
      " 20  bathrooms               2269 non-null   float64\n",
      " 21  Air conditioning        2269 non-null   int64  \n",
      " 22  Wifi                    2269 non-null   int64  \n",
      " 23  TV                      2269 non-null   int64  \n",
      " 24  Kitchen                 2269 non-null   int64  \n",
      " 25  Washer                  2269 non-null   int64  \n",
      " 26  Dryer                   2269 non-null   int64  \n",
      " 27  Heating                 2269 non-null   int64  \n",
      "dtypes: float64(6), int64(16), object(6)\n",
      "memory usage: 578.6+ KB\n"
     ]
    }
   ],
   "source": [
    "mod_listing_data['listing_id'] = mod_listing_data['id']\n",
    "mod_listing_data = mod_listing_data.drop(['id'], axis = 1)\n",
    "column_to_move = mod_listing_data.pop('listing_id')\n",
    "mod_listing_data.insert(0, 'listing_id', column_to_move)\n",
    "mod_listing_data.info()"
   ]
  },
  {
   "cell_type": "markdown",
   "metadata": {},
   "source": [
    "## Combine Calendar Data and Listings Data"
   ]
  },
  {
   "cell_type": "code",
   "execution_count": 444,
   "metadata": {},
   "outputs": [
    {
     "data": {
      "text/html": [
       "<div>\n",
       "<style scoped>\n",
       "    .dataframe tbody tr th:only-of-type {\n",
       "        vertical-align: middle;\n",
       "    }\n",
       "\n",
       "    .dataframe tbody tr th {\n",
       "        vertical-align: top;\n",
       "    }\n",
       "\n",
       "    .dataframe thead th {\n",
       "        text-align: right;\n",
       "    }\n",
       "</style>\n",
       "<table border=\"1\" class=\"dataframe\">\n",
       "  <thead>\n",
       "    <tr style=\"text-align: right;\">\n",
       "      <th></th>\n",
       "      <th>listing_id</th>\n",
       "      <th>daily_price</th>\n",
       "      <th>date</th>\n",
       "    </tr>\n",
       "  </thead>\n",
       "  <tbody>\n",
       "    <tr>\n",
       "      <th>0</th>\n",
       "      <td>881707</td>\n",
       "      <td>93</td>\n",
       "      <td>2021-12-15</td>\n",
       "    </tr>\n",
       "    <tr>\n",
       "      <th>1</th>\n",
       "      <td>910737</td>\n",
       "      <td>156</td>\n",
       "      <td>2021-12-15</td>\n",
       "    </tr>\n",
       "    <tr>\n",
       "      <th>2</th>\n",
       "      <td>910737</td>\n",
       "      <td>156</td>\n",
       "      <td>2021-12-16</td>\n",
       "    </tr>\n",
       "    <tr>\n",
       "      <th>3</th>\n",
       "      <td>910737</td>\n",
       "      <td>135</td>\n",
       "      <td>2021-12-17</td>\n",
       "    </tr>\n",
       "    <tr>\n",
       "      <th>4</th>\n",
       "      <td>910737</td>\n",
       "      <td>135</td>\n",
       "      <td>2021-12-18</td>\n",
       "    </tr>\n",
       "    <tr>\n",
       "      <th>...</th>\n",
       "      <td>...</td>\n",
       "      <td>...</td>\n",
       "      <td>...</td>\n",
       "    </tr>\n",
       "    <tr>\n",
       "      <th>958485</th>\n",
       "      <td>51875440</td>\n",
       "      <td>807</td>\n",
       "      <td>2022-12-10</td>\n",
       "    </tr>\n",
       "    <tr>\n",
       "      <th>958486</th>\n",
       "      <td>51875440</td>\n",
       "      <td>718</td>\n",
       "      <td>2022-12-11</td>\n",
       "    </tr>\n",
       "    <tr>\n",
       "      <th>958487</th>\n",
       "      <td>51875440</td>\n",
       "      <td>706</td>\n",
       "      <td>2022-12-12</td>\n",
       "    </tr>\n",
       "    <tr>\n",
       "      <th>958488</th>\n",
       "      <td>51875440</td>\n",
       "      <td>696</td>\n",
       "      <td>2022-12-13</td>\n",
       "    </tr>\n",
       "    <tr>\n",
       "      <th>958489</th>\n",
       "      <td>51875440</td>\n",
       "      <td>687</td>\n",
       "      <td>2022-12-14</td>\n",
       "    </tr>\n",
       "  </tbody>\n",
       "</table>\n",
       "<p>958125 rows × 3 columns</p>\n",
       "</div>"
      ],
      "text/plain": [
       "        listing_id  daily_price       date\n",
       "0           881707           93 2021-12-15\n",
       "1           910737          156 2021-12-15\n",
       "2           910737          156 2021-12-16\n",
       "3           910737          135 2021-12-17\n",
       "4           910737          135 2021-12-18\n",
       "...            ...          ...        ...\n",
       "958485    51875440          807 2022-12-10\n",
       "958486    51875440          718 2022-12-11\n",
       "958487    51875440          706 2022-12-12\n",
       "958488    51875440          696 2022-12-13\n",
       "958489    51875440          687 2022-12-14\n",
       "\n",
       "[958125 rows x 3 columns]"
      ]
     },
     "execution_count": 444,
     "metadata": {},
     "output_type": "execute_result"
    }
   ],
   "source": [
    "mod_calendar_data"
   ]
  },
  {
   "cell_type": "code",
   "execution_count": 445,
   "metadata": {},
   "outputs": [
    {
     "data": {
      "text/plain": [
       "0           881707\n",
       "1           910737\n",
       "2           910737\n",
       "3           910737\n",
       "4           910737\n",
       "            ...   \n",
       "958485    51875440\n",
       "958486    51875440\n",
       "958487    51875440\n",
       "958488    51875440\n",
       "958489    51875440\n",
       "Name: listing_id, Length: 958125, dtype: int64"
      ]
     },
     "execution_count": 445,
     "metadata": {},
     "output_type": "execute_result"
    }
   ],
   "source": [
    "mod_calendar_data['listing_id']"
   ]
  },
  {
   "cell_type": "code",
   "execution_count": 446,
   "metadata": {},
   "outputs": [
    {
     "name": "stdout",
     "output_type": "stream",
     "text": [
      "Index(['listing_id', 'listing_url', 'name', 'picture_url', 'host_id',\n",
      "       'host_url', 'host_is_superhost', 'host_identity_verified', 'latitude',\n",
      "       'longitude', 'room_type', 'accommodates', 'bedrooms', 'beds',\n",
      "       'minimum_nights', 'maximum_nights', 'number_of_reviews',\n",
      "       'review_scores_rating', 'instant_bookable', 'neighborhood', 'bathrooms',\n",
      "       'Air conditioning', 'Wifi', 'TV', 'Kitchen', 'Washer', 'Dryer',\n",
      "       'Heating'],\n",
      "      dtype='object')\n"
     ]
    },
    {
     "data": {
      "text/plain": [
       "Index(['listing_id', 'daily_price', 'date'], dtype='object')"
      ]
     },
     "execution_count": 446,
     "metadata": {},
     "output_type": "execute_result"
    }
   ],
   "source": [
    "print(mod_listing_data.columns)\n",
    "mod_calendar_data.columns"
   ]
  },
  {
   "cell_type": "code",
   "execution_count": 447,
   "metadata": {},
   "outputs": [
    {
     "name": "stdout",
     "output_type": "stream",
     "text": [
      "<class 'pandas.core.frame.DataFrame'>\n",
      "Int64Index: 958125 entries, 0 to 958489\n",
      "Data columns (total 3 columns):\n",
      " #   Column       Non-Null Count   Dtype         \n",
      "---  ------       --------------   -----         \n",
      " 0   listing_id   958125 non-null  int64         \n",
      " 1   daily_price  958125 non-null  int64         \n",
      " 2   date         958125 non-null  datetime64[ns]\n",
      "dtypes: datetime64[ns](1), int64(2)\n",
      "memory usage: 61.5 MB\n"
     ]
    }
   ],
   "source": [
    "mod_calendar_data.info()"
   ]
  },
  {
   "cell_type": "code",
   "execution_count": 448,
   "metadata": {
    "scrolled": true
   },
   "outputs": [
    {
     "name": "stdout",
     "output_type": "stream",
     "text": [
      "<class 'pandas.core.frame.DataFrame'>\n",
      "Int64Index: 2269 entries, 0 to 2618\n",
      "Data columns (total 28 columns):\n",
      " #   Column                  Non-Null Count  Dtype  \n",
      "---  ------                  --------------  -----  \n",
      " 0   listing_id              2269 non-null   int64  \n",
      " 1   listing_url             2269 non-null   object \n",
      " 2   name                    2269 non-null   object \n",
      " 3   picture_url             2269 non-null   object \n",
      " 4   host_id                 2269 non-null   int64  \n",
      " 5   host_url                2269 non-null   object \n",
      " 6   host_is_superhost       2269 non-null   int64  \n",
      " 7   host_identity_verified  2269 non-null   int64  \n",
      " 8   latitude                2269 non-null   float64\n",
      " 9   longitude               2269 non-null   float64\n",
      " 10  room_type               2269 non-null   object \n",
      " 11  accommodates            2269 non-null   int64  \n",
      " 12  bedrooms                2269 non-null   float64\n",
      " 13  beds                    2269 non-null   float64\n",
      " 14  minimum_nights          2269 non-null   int64  \n",
      " 15  maximum_nights          2269 non-null   int64  \n",
      " 16  number_of_reviews       2269 non-null   int64  \n",
      " 17  review_scores_rating    2269 non-null   float64\n",
      " 18  instant_bookable        2269 non-null   int64  \n",
      " 19  neighborhood            2269 non-null   object \n",
      " 20  bathrooms               2269 non-null   float64\n",
      " 21  Air conditioning        2269 non-null   int64  \n",
      " 22  Wifi                    2269 non-null   int64  \n",
      " 23  TV                      2269 non-null   int64  \n",
      " 24  Kitchen                 2269 non-null   int64  \n",
      " 25  Washer                  2269 non-null   int64  \n",
      " 26  Dryer                   2269 non-null   int64  \n",
      " 27  Heating                 2269 non-null   int64  \n",
      "dtypes: float64(6), int64(16), object(6)\n",
      "memory usage: 578.6+ KB\n"
     ]
    }
   ],
   "source": [
    "mod_listing_data.info()"
   ]
  },
  {
   "cell_type": "markdown",
   "metadata": {},
   "source": [
    "### Drop Outliers"
   ]
  },
  {
   "cell_type": "code",
   "execution_count": 454,
   "metadata": {},
   "outputs": [
    {
     "name": "stdout",
     "output_type": "stream",
     "text": [
      "<class 'pandas.core.frame.DataFrame'>\n",
      "Int64Index: 827821 entries, 0 to 827820\n",
      "Data columns (total 30 columns):\n",
      " #   Column                  Non-Null Count   Dtype         \n",
      "---  ------                  --------------   -----         \n",
      " 0   listing_id              827821 non-null  int64         \n",
      " 1   listing_url             827821 non-null  object        \n",
      " 2   name                    827821 non-null  object        \n",
      " 3   picture_url             827821 non-null  object        \n",
      " 4   host_id                 827821 non-null  int64         \n",
      " 5   host_url                827821 non-null  object        \n",
      " 6   host_is_superhost       827821 non-null  int64         \n",
      " 7   host_identity_verified  827821 non-null  int64         \n",
      " 8   latitude                827821 non-null  float64       \n",
      " 9   longitude               827821 non-null  float64       \n",
      " 10  room_type               827821 non-null  object        \n",
      " 11  accommodates            827821 non-null  int64         \n",
      " 12  bedrooms                827821 non-null  float64       \n",
      " 13  beds                    827821 non-null  float64       \n",
      " 14  minimum_nights          827821 non-null  int64         \n",
      " 15  maximum_nights          827821 non-null  int64         \n",
      " 16  number_of_reviews       827821 non-null  int64         \n",
      " 17  review_scores_rating    827821 non-null  float64       \n",
      " 18  instant_bookable        827821 non-null  int64         \n",
      " 19  neighborhood            827821 non-null  object        \n",
      " 20  bathrooms               827821 non-null  float64       \n",
      " 21  Air conditioning        827821 non-null  int64         \n",
      " 22  Wifi                    827821 non-null  int64         \n",
      " 23  TV                      827821 non-null  int64         \n",
      " 24  Kitchen                 827821 non-null  int64         \n",
      " 25  Washer                  827821 non-null  int64         \n",
      " 26  Dryer                   827821 non-null  int64         \n",
      " 27  Heating                 827821 non-null  int64         \n",
      " 28  daily_price             827820 non-null  float64       \n",
      " 29  date                    827820 non-null  datetime64[ns]\n",
      "dtypes: datetime64[ns](1), float64(7), int64(16), object(6)\n",
      "memory usage: 195.8+ MB\n"
     ]
    }
   ],
   "source": [
    "asheville_data = pd.merge(mod_listing_data, mod_calendar_data, how = 'left', on = 'listing_id')\n",
    "asheville_data.info()"
   ]
  },
  {
   "cell_type": "code",
   "execution_count": 457,
   "metadata": {},
   "outputs": [],
   "source": [
    "asheville_data = asheville_data.dropna()"
   ]
  },
  {
   "cell_type": "code",
   "execution_count": 458,
   "metadata": {},
   "outputs": [
    {
     "name": "stdout",
     "output_type": "stream",
     "text": [
      "<class 'pandas.core.frame.DataFrame'>\n",
      "Int64Index: 827820 entries, 0 to 827820\n",
      "Data columns (total 30 columns):\n",
      " #   Column                  Non-Null Count   Dtype         \n",
      "---  ------                  --------------   -----         \n",
      " 0   listing_id              827820 non-null  int64         \n",
      " 1   listing_url             827820 non-null  object        \n",
      " 2   name                    827820 non-null  object        \n",
      " 3   picture_url             827820 non-null  object        \n",
      " 4   host_id                 827820 non-null  int64         \n",
      " 5   host_url                827820 non-null  object        \n",
      " 6   host_is_superhost       827820 non-null  int64         \n",
      " 7   host_identity_verified  827820 non-null  int64         \n",
      " 8   latitude                827820 non-null  float64       \n",
      " 9   longitude               827820 non-null  float64       \n",
      " 10  room_type               827820 non-null  object        \n",
      " 11  accommodates            827820 non-null  int64         \n",
      " 12  bedrooms                827820 non-null  float64       \n",
      " 13  beds                    827820 non-null  float64       \n",
      " 14  minimum_nights          827820 non-null  int64         \n",
      " 15  maximum_nights          827820 non-null  int64         \n",
      " 16  number_of_reviews       827820 non-null  int64         \n",
      " 17  review_scores_rating    827820 non-null  float64       \n",
      " 18  instant_bookable        827820 non-null  int64         \n",
      " 19  neighborhood            827820 non-null  object        \n",
      " 20  bathrooms               827820 non-null  float64       \n",
      " 21  Air conditioning        827820 non-null  int64         \n",
      " 22  Wifi                    827820 non-null  int64         \n",
      " 23  TV                      827820 non-null  int64         \n",
      " 24  Kitchen                 827820 non-null  int64         \n",
      " 25  Washer                  827820 non-null  int64         \n",
      " 26  Dryer                   827820 non-null  int64         \n",
      " 27  Heating                 827820 non-null  int64         \n",
      " 28  daily_price             827820 non-null  float64       \n",
      " 29  date                    827820 non-null  datetime64[ns]\n",
      "dtypes: datetime64[ns](1), float64(7), int64(16), object(6)\n",
      "memory usage: 195.8+ MB\n"
     ]
    }
   ],
   "source": [
    "asheville_data.info()"
   ]
  },
  {
   "cell_type": "code",
   "execution_count": 459,
   "metadata": {},
   "outputs": [
    {
     "data": {
      "text/plain": [
       "0         1.0\n",
       "1         1.0\n",
       "2         1.0\n",
       "3         1.0\n",
       "4         1.0\n",
       "         ... \n",
       "827816    1.0\n",
       "827817    1.0\n",
       "827818    1.0\n",
       "827819    1.0\n",
       "827820    1.0\n",
       "Name: bathrooms, Length: 827820, dtype: float64"
      ]
     },
     "execution_count": 459,
     "metadata": {},
     "output_type": "execute_result"
    }
   ],
   "source": [
    "asheville_data['bathrooms']"
   ]
  },
  {
   "cell_type": "code",
   "execution_count": 460,
   "metadata": {},
   "outputs": [],
   "source": [
    "asheville_data = asheville_data[asheville_data['bathrooms'] <= 6]\n",
    "asheville_data = asheville_data[asheville_data['bathrooms'] >= 1]\n",
    "\n",
    "asheville_data = asheville_data[asheville_data['bedrooms'] <= 6]\n",
    "asheville_data = asheville_data[asheville_data['beds'] <= 11]\n",
    "asheville_data = asheville_data[asheville_data['bathrooms'] <= 5]\n",
    "\n",
    "asheville_data = asheville_data[asheville_data['room_type'] != 'Hotel room']\n",
    "asheville_data = asheville_data[asheville_data['room_type'] != 'Shared room']"
   ]
  },
  {
   "cell_type": "code",
   "execution_count": 467,
   "metadata": {},
   "outputs": [],
   "source": [
    "asheville_data = asheville_data.reset_index()\n",
    "asheville_data = asheville_data.drop(['index'], axis = 1)"
   ]
  },
  {
   "cell_type": "code",
   "execution_count": 468,
   "metadata": {},
   "outputs": [
    {
     "name": "stdout",
     "output_type": "stream",
     "text": [
      "<class 'pandas.core.frame.DataFrame'>\n",
      "RangeIndex: 815775 entries, 0 to 815774\n",
      "Data columns (total 30 columns):\n",
      " #   Column                  Non-Null Count   Dtype         \n",
      "---  ------                  --------------   -----         \n",
      " 0   listing_id              815775 non-null  int64         \n",
      " 1   listing_url             815775 non-null  object        \n",
      " 2   name                    815775 non-null  object        \n",
      " 3   picture_url             815775 non-null  object        \n",
      " 4   host_id                 815775 non-null  int64         \n",
      " 5   host_url                815775 non-null  object        \n",
      " 6   host_is_superhost       815775 non-null  int64         \n",
      " 7   host_identity_verified  815775 non-null  int64         \n",
      " 8   latitude                815775 non-null  float64       \n",
      " 9   longitude               815775 non-null  float64       \n",
      " 10  room_type               815775 non-null  object        \n",
      " 11  accommodates            815775 non-null  int64         \n",
      " 12  bedrooms                815775 non-null  float64       \n",
      " 13  beds                    815775 non-null  float64       \n",
      " 14  minimum_nights          815775 non-null  int64         \n",
      " 15  maximum_nights          815775 non-null  int64         \n",
      " 16  number_of_reviews       815775 non-null  int64         \n",
      " 17  review_scores_rating    815775 non-null  float64       \n",
      " 18  instant_bookable        815775 non-null  int64         \n",
      " 19  neighborhood            815775 non-null  object        \n",
      " 20  bathrooms               815775 non-null  float64       \n",
      " 21  Air conditioning        815775 non-null  int64         \n",
      " 22  Wifi                    815775 non-null  int64         \n",
      " 23  TV                      815775 non-null  int64         \n",
      " 24  Kitchen                 815775 non-null  int64         \n",
      " 25  Washer                  815775 non-null  int64         \n",
      " 26  Dryer                   815775 non-null  int64         \n",
      " 27  Heating                 815775 non-null  int64         \n",
      " 28  daily_price             815775 non-null  float64       \n",
      " 29  date                    815775 non-null  datetime64[ns]\n",
      "dtypes: datetime64[ns](1), float64(7), int64(16), object(6)\n",
      "memory usage: 186.7+ MB\n"
     ]
    }
   ],
   "source": [
    "asheville_data.info()"
   ]
  },
  {
   "cell_type": "markdown",
   "metadata": {},
   "source": [
    "# Begin Modeling"
   ]
  },
  {
   "cell_type": "markdown",
   "metadata": {},
   "source": [
    "## Baseline Model - Random Forest"
   ]
  },
  {
   "cell_type": "code",
   "execution_count": 469,
   "metadata": {},
   "outputs": [
    {
     "data": {
      "text/html": [
       "<div>\n",
       "<style scoped>\n",
       "    .dataframe tbody tr th:only-of-type {\n",
       "        vertical-align: middle;\n",
       "    }\n",
       "\n",
       "    .dataframe tbody tr th {\n",
       "        vertical-align: top;\n",
       "    }\n",
       "\n",
       "    .dataframe thead th {\n",
       "        text-align: right;\n",
       "    }\n",
       "</style>\n",
       "<table border=\"1\" class=\"dataframe\">\n",
       "  <thead>\n",
       "    <tr style=\"text-align: right;\">\n",
       "      <th></th>\n",
       "      <th>host_is_superhost</th>\n",
       "      <th>room_type</th>\n",
       "      <th>accommodates</th>\n",
       "      <th>bedrooms</th>\n",
       "      <th>beds</th>\n",
       "      <th>neighborhood</th>\n",
       "      <th>bathrooms</th>\n",
       "      <th>Air conditioning</th>\n",
       "      <th>Wifi</th>\n",
       "      <th>TV</th>\n",
       "      <th>Kitchen</th>\n",
       "      <th>Washer</th>\n",
       "      <th>Dryer</th>\n",
       "      <th>Heating</th>\n",
       "      <th>daily_price</th>\n",
       "      <th>date</th>\n",
       "    </tr>\n",
       "  </thead>\n",
       "  <tbody>\n",
       "    <tr>\n",
       "      <th>0</th>\n",
       "      <td>0</td>\n",
       "      <td>Entire home/apt</td>\n",
       "      <td>2</td>\n",
       "      <td>1.0</td>\n",
       "      <td>1.0</td>\n",
       "      <td>Asheville</td>\n",
       "      <td>1.0</td>\n",
       "      <td>1</td>\n",
       "      <td>1</td>\n",
       "      <td>0</td>\n",
       "      <td>1</td>\n",
       "      <td>1</td>\n",
       "      <td>1</td>\n",
       "      <td>1</td>\n",
       "      <td>120.0</td>\n",
       "      <td>2021-12-15</td>\n",
       "    </tr>\n",
       "    <tr>\n",
       "      <th>1</th>\n",
       "      <td>0</td>\n",
       "      <td>Entire home/apt</td>\n",
       "      <td>2</td>\n",
       "      <td>1.0</td>\n",
       "      <td>1.0</td>\n",
       "      <td>Asheville</td>\n",
       "      <td>1.0</td>\n",
       "      <td>1</td>\n",
       "      <td>1</td>\n",
       "      <td>0</td>\n",
       "      <td>1</td>\n",
       "      <td>1</td>\n",
       "      <td>1</td>\n",
       "      <td>1</td>\n",
       "      <td>120.0</td>\n",
       "      <td>2021-12-16</td>\n",
       "    </tr>\n",
       "    <tr>\n",
       "      <th>2</th>\n",
       "      <td>0</td>\n",
       "      <td>Entire home/apt</td>\n",
       "      <td>2</td>\n",
       "      <td>1.0</td>\n",
       "      <td>1.0</td>\n",
       "      <td>Asheville</td>\n",
       "      <td>1.0</td>\n",
       "      <td>1</td>\n",
       "      <td>1</td>\n",
       "      <td>0</td>\n",
       "      <td>1</td>\n",
       "      <td>1</td>\n",
       "      <td>1</td>\n",
       "      <td>1</td>\n",
       "      <td>120.0</td>\n",
       "      <td>2021-12-17</td>\n",
       "    </tr>\n",
       "    <tr>\n",
       "      <th>3</th>\n",
       "      <td>0</td>\n",
       "      <td>Entire home/apt</td>\n",
       "      <td>2</td>\n",
       "      <td>1.0</td>\n",
       "      <td>1.0</td>\n",
       "      <td>Asheville</td>\n",
       "      <td>1.0</td>\n",
       "      <td>1</td>\n",
       "      <td>1</td>\n",
       "      <td>0</td>\n",
       "      <td>1</td>\n",
       "      <td>1</td>\n",
       "      <td>1</td>\n",
       "      <td>1</td>\n",
       "      <td>120.0</td>\n",
       "      <td>2021-12-18</td>\n",
       "    </tr>\n",
       "    <tr>\n",
       "      <th>4</th>\n",
       "      <td>0</td>\n",
       "      <td>Entire home/apt</td>\n",
       "      <td>2</td>\n",
       "      <td>1.0</td>\n",
       "      <td>1.0</td>\n",
       "      <td>Asheville</td>\n",
       "      <td>1.0</td>\n",
       "      <td>1</td>\n",
       "      <td>1</td>\n",
       "      <td>0</td>\n",
       "      <td>1</td>\n",
       "      <td>1</td>\n",
       "      <td>1</td>\n",
       "      <td>1</td>\n",
       "      <td>120.0</td>\n",
       "      <td>2021-12-19</td>\n",
       "    </tr>\n",
       "  </tbody>\n",
       "</table>\n",
       "</div>"
      ],
      "text/plain": [
       "   host_is_superhost        room_type  accommodates  bedrooms  beds  \\\n",
       "0                  0  Entire home/apt             2       1.0   1.0   \n",
       "1                  0  Entire home/apt             2       1.0   1.0   \n",
       "2                  0  Entire home/apt             2       1.0   1.0   \n",
       "3                  0  Entire home/apt             2       1.0   1.0   \n",
       "4                  0  Entire home/apt             2       1.0   1.0   \n",
       "\n",
       "  neighborhood  bathrooms  Air conditioning  Wifi  TV  Kitchen  Washer  Dryer  \\\n",
       "0    Asheville        1.0                 1     1   0        1       1      1   \n",
       "1    Asheville        1.0                 1     1   0        1       1      1   \n",
       "2    Asheville        1.0                 1     1   0        1       1      1   \n",
       "3    Asheville        1.0                 1     1   0        1       1      1   \n",
       "4    Asheville        1.0                 1     1   0        1       1      1   \n",
       "\n",
       "   Heating  daily_price       date  \n",
       "0        1        120.0 2021-12-15  \n",
       "1        1        120.0 2021-12-16  \n",
       "2        1        120.0 2021-12-17  \n",
       "3        1        120.0 2021-12-18  \n",
       "4        1        120.0 2021-12-19  "
      ]
     },
     "execution_count": 469,
     "metadata": {},
     "output_type": "execute_result"
    }
   ],
   "source": [
    "asheville_modeling_data = asheville_data.drop(['listing_id', 'listing_url', 'name', 'picture_url', 'host_id',\n",
    "                                              'host_url', 'host_identity_verified', 'latitude', 'longitude',\n",
    "                                              'minimum_nights', 'maximum_nights', 'number_of_reviews',\n",
    "                                              'instant_bookable', 'review_scores_rating'], axis = 1)\n",
    "asheville_modeling_data.head()"
   ]
  },
  {
   "cell_type": "code",
   "execution_count": 472,
   "metadata": {},
   "outputs": [
    {
     "data": {
      "text/plain": [
       "Asheville    720875\n",
       "Arden         42705\n",
       "Woodfin       19710\n",
       "Candler       17155\n",
       "Fletcher      15330\n",
       "Name: neighborhood, dtype: int64"
      ]
     },
     "execution_count": 472,
     "metadata": {},
     "output_type": "execute_result"
    }
   ],
   "source": [
    "asheville_modeling_data['neighborhood'].value_counts()"
   ]
  },
  {
   "cell_type": "code",
   "execution_count": 473,
   "metadata": {},
   "outputs": [
    {
     "name": "stdout",
     "output_type": "stream",
     "text": [
      "<class 'pandas.core.frame.DataFrame'>\n",
      "RangeIndex: 815775 entries, 0 to 815774\n",
      "Data columns (total 17 columns):\n",
      " #   Column             Non-Null Count   Dtype  \n",
      "---  ------             --------------   -----  \n",
      " 0   host_is_superhost  815775 non-null  int64  \n",
      " 1   room_type          815775 non-null  object \n",
      " 2   accommodates       815775 non-null  int64  \n",
      " 3   bedrooms           815775 non-null  float64\n",
      " 4   beds               815775 non-null  float64\n",
      " 5   neighborhood       815775 non-null  object \n",
      " 6   bathrooms          815775 non-null  float64\n",
      " 7   Air conditioning   815775 non-null  int64  \n",
      " 8   Wifi               815775 non-null  int64  \n",
      " 9   TV                 815775 non-null  int64  \n",
      " 10  Kitchen            815775 non-null  int64  \n",
      " 11  Washer             815775 non-null  int64  \n",
      " 12  Dryer              815775 non-null  int64  \n",
      " 13  Heating            815775 non-null  int64  \n",
      " 14  daily_price        815775 non-null  float64\n",
      " 15  day_of_week        815775 non-null  int64  \n",
      " 16  month              815775 non-null  int64  \n",
      "dtypes: float64(4), int64(11), object(2)\n",
      "memory usage: 105.8+ MB\n"
     ]
    }
   ],
   "source": [
    "asheville_modeling_data['day_of_week'] = asheville_modeling_data['date'].dt.dayofweek\n",
    "asheville_modeling_data['month'] = asheville_modeling_data['date'].dt.month\n",
    "asheville_modeling_data = asheville_modeling_data.drop(['date'], axis = 1)\n",
    "asheville_modeling_data.info()"
   ]
  },
  {
   "cell_type": "code",
   "execution_count": 474,
   "metadata": {},
   "outputs": [
    {
     "data": {
      "text/plain": [
       "Entire home/apt    697515\n",
       "Private room       118260\n",
       "Name: room_type, dtype: int64"
      ]
     },
     "execution_count": 474,
     "metadata": {},
     "output_type": "execute_result"
    }
   ],
   "source": [
    "asheville_modeling_data['room_type'].value_counts()"
   ]
  },
  {
   "cell_type": "code",
   "execution_count": 475,
   "metadata": {},
   "outputs": [
    {
     "data": {
      "text/plain": [
       "1    692405\n",
       "0    123370\n",
       "Name: Heating, dtype: int64"
      ]
     },
     "execution_count": 475,
     "metadata": {},
     "output_type": "execute_result"
    }
   ],
   "source": [
    "asheville_modeling_data['Heating'].value_counts()"
   ]
  },
  {
   "cell_type": "markdown",
   "metadata": {},
   "source": [
    "## Baseline Model - Random Forest"
   ]
  },
  {
   "cell_type": "code",
   "execution_count": 476,
   "metadata": {},
   "outputs": [],
   "source": [
    "import time "
   ]
  },
  {
   "cell_type": "code",
   "execution_count": 477,
   "metadata": {},
   "outputs": [
    {
     "name": "stdout",
     "output_type": "stream",
     "text": [
      "CPU times: user 2min 31s, sys: 758 ms, total: 2min 32s\n",
      "Wall time: 2min 32s\n"
     ]
    },
    {
     "data": {
      "text/html": [
       "<style>#sk-container-id-4 {color: black;background-color: white;}#sk-container-id-4 pre{padding: 0;}#sk-container-id-4 div.sk-toggleable {background-color: white;}#sk-container-id-4 label.sk-toggleable__label {cursor: pointer;display: block;width: 100%;margin-bottom: 0;padding: 0.3em;box-sizing: border-box;text-align: center;}#sk-container-id-4 label.sk-toggleable__label-arrow:before {content: \"▸\";float: left;margin-right: 0.25em;color: #696969;}#sk-container-id-4 label.sk-toggleable__label-arrow:hover:before {color: black;}#sk-container-id-4 div.sk-estimator:hover label.sk-toggleable__label-arrow:before {color: black;}#sk-container-id-4 div.sk-toggleable__content {max-height: 0;max-width: 0;overflow: hidden;text-align: left;background-color: #f0f8ff;}#sk-container-id-4 div.sk-toggleable__content pre {margin: 0.2em;color: black;border-radius: 0.25em;background-color: #f0f8ff;}#sk-container-id-4 input.sk-toggleable__control:checked~div.sk-toggleable__content {max-height: 200px;max-width: 100%;overflow: auto;}#sk-container-id-4 input.sk-toggleable__control:checked~label.sk-toggleable__label-arrow:before {content: \"▾\";}#sk-container-id-4 div.sk-estimator input.sk-toggleable__control:checked~label.sk-toggleable__label {background-color: #d4ebff;}#sk-container-id-4 div.sk-label input.sk-toggleable__control:checked~label.sk-toggleable__label {background-color: #d4ebff;}#sk-container-id-4 input.sk-hidden--visually {border: 0;clip: rect(1px 1px 1px 1px);clip: rect(1px, 1px, 1px, 1px);height: 1px;margin: -1px;overflow: hidden;padding: 0;position: absolute;width: 1px;}#sk-container-id-4 div.sk-estimator {font-family: monospace;background-color: #f0f8ff;border: 1px dotted black;border-radius: 0.25em;box-sizing: border-box;margin-bottom: 0.5em;}#sk-container-id-4 div.sk-estimator:hover {background-color: #d4ebff;}#sk-container-id-4 div.sk-parallel-item::after {content: \"\";width: 100%;border-bottom: 1px solid gray;flex-grow: 1;}#sk-container-id-4 div.sk-label:hover label.sk-toggleable__label {background-color: #d4ebff;}#sk-container-id-4 div.sk-serial::before {content: \"\";position: absolute;border-left: 1px solid gray;box-sizing: border-box;top: 0;bottom: 0;left: 50%;z-index: 0;}#sk-container-id-4 div.sk-serial {display: flex;flex-direction: column;align-items: center;background-color: white;padding-right: 0.2em;padding-left: 0.2em;position: relative;}#sk-container-id-4 div.sk-item {position: relative;z-index: 1;}#sk-container-id-4 div.sk-parallel {display: flex;align-items: stretch;justify-content: center;background-color: white;position: relative;}#sk-container-id-4 div.sk-item::before, #sk-container-id-4 div.sk-parallel-item::before {content: \"\";position: absolute;border-left: 1px solid gray;box-sizing: border-box;top: 0;bottom: 0;left: 50%;z-index: -1;}#sk-container-id-4 div.sk-parallel-item {display: flex;flex-direction: column;z-index: 1;position: relative;background-color: white;}#sk-container-id-4 div.sk-parallel-item:first-child::after {align-self: flex-end;width: 50%;}#sk-container-id-4 div.sk-parallel-item:last-child::after {align-self: flex-start;width: 50%;}#sk-container-id-4 div.sk-parallel-item:only-child::after {width: 0;}#sk-container-id-4 div.sk-dashed-wrapped {border: 1px dashed gray;margin: 0 0.4em 0.5em 0.4em;box-sizing: border-box;padding-bottom: 0.4em;background-color: white;}#sk-container-id-4 div.sk-label label {font-family: monospace;font-weight: bold;display: inline-block;line-height: 1.2em;}#sk-container-id-4 div.sk-label-container {text-align: center;}#sk-container-id-4 div.sk-container {/* jupyter's `normalize.less` sets `[hidden] { display: none; }` but bootstrap.min.css set `[hidden] { display: none !important; }` so we also need the `!important` here to be able to override the default hidden behavior on the sphinx rendered scikit-learn.org. See: https://github.com/scikit-learn/scikit-learn/issues/21755 */display: inline-block !important;position: relative;}#sk-container-id-4 div.sk-text-repr-fallback {display: none;}</style><div id=\"sk-container-id-4\" class=\"sk-top-container\"><div class=\"sk-text-repr-fallback\"><pre>Pipeline(steps=[(&#x27;preprocess&#x27;,\n",
       "                 ColumnTransformer(transformers=[(&#x27;nominalpipe&#x27;,\n",
       "                                                  Pipeline(steps=[(&#x27;ohe&#x27;,\n",
       "                                                                   OneHotEncoder(sparse=False))]),\n",
       "                                                  [&#x27;neighborhood&#x27;, &#x27;room_type&#x27;,\n",
       "                                                   &#x27;day_of_week&#x27;, &#x27;month&#x27;]),\n",
       "                                                 (&#x27;numpipe&#x27;,\n",
       "                                                  Pipeline(steps=[(&#x27;scaler&#x27;,\n",
       "                                                                   StandardScaler())]),\n",
       "                                                  [&#x27;host_is_superhost&#x27;,\n",
       "                                                   &#x27;accommodates&#x27;, &#x27;bedrooms&#x27;,\n",
       "                                                   &#x27;beds&#x27;, &#x27;bathrooms&#x27;,\n",
       "                                                   &#x27;Air conditioning&#x27;, &#x27;Wifi&#x27;,\n",
       "                                                   &#x27;TV&#x27;, &#x27;Kitchen&#x27;, &#x27;Washer&#x27;,\n",
       "                                                   &#x27;Dryer&#x27;, &#x27;Heating&#x27;])])),\n",
       "                (&#x27;model&#x27;, RandomForestRegressor())])</pre><b>In a Jupyter environment, please rerun this cell to show the HTML representation or trust the notebook. <br />On GitHub, the HTML representation is unable to render, please try loading this page with nbviewer.org.</b></div><div class=\"sk-container\" hidden><div class=\"sk-item sk-dashed-wrapped\"><div class=\"sk-label-container\"><div class=\"sk-label sk-toggleable\"><input class=\"sk-toggleable__control sk-hidden--visually\" id=\"sk-estimator-id-22\" type=\"checkbox\" ><label for=\"sk-estimator-id-22\" class=\"sk-toggleable__label sk-toggleable__label-arrow\">Pipeline</label><div class=\"sk-toggleable__content\"><pre>Pipeline(steps=[(&#x27;preprocess&#x27;,\n",
       "                 ColumnTransformer(transformers=[(&#x27;nominalpipe&#x27;,\n",
       "                                                  Pipeline(steps=[(&#x27;ohe&#x27;,\n",
       "                                                                   OneHotEncoder(sparse=False))]),\n",
       "                                                  [&#x27;neighborhood&#x27;, &#x27;room_type&#x27;,\n",
       "                                                   &#x27;day_of_week&#x27;, &#x27;month&#x27;]),\n",
       "                                                 (&#x27;numpipe&#x27;,\n",
       "                                                  Pipeline(steps=[(&#x27;scaler&#x27;,\n",
       "                                                                   StandardScaler())]),\n",
       "                                                  [&#x27;host_is_superhost&#x27;,\n",
       "                                                   &#x27;accommodates&#x27;, &#x27;bedrooms&#x27;,\n",
       "                                                   &#x27;beds&#x27;, &#x27;bathrooms&#x27;,\n",
       "                                                   &#x27;Air conditioning&#x27;, &#x27;Wifi&#x27;,\n",
       "                                                   &#x27;TV&#x27;, &#x27;Kitchen&#x27;, &#x27;Washer&#x27;,\n",
       "                                                   &#x27;Dryer&#x27;, &#x27;Heating&#x27;])])),\n",
       "                (&#x27;model&#x27;, RandomForestRegressor())])</pre></div></div></div><div class=\"sk-serial\"><div class=\"sk-item sk-dashed-wrapped\"><div class=\"sk-label-container\"><div class=\"sk-label sk-toggleable\"><input class=\"sk-toggleable__control sk-hidden--visually\" id=\"sk-estimator-id-23\" type=\"checkbox\" ><label for=\"sk-estimator-id-23\" class=\"sk-toggleable__label sk-toggleable__label-arrow\">preprocess: ColumnTransformer</label><div class=\"sk-toggleable__content\"><pre>ColumnTransformer(transformers=[(&#x27;nominalpipe&#x27;,\n",
       "                                 Pipeline(steps=[(&#x27;ohe&#x27;,\n",
       "                                                  OneHotEncoder(sparse=False))]),\n",
       "                                 [&#x27;neighborhood&#x27;, &#x27;room_type&#x27;, &#x27;day_of_week&#x27;,\n",
       "                                  &#x27;month&#x27;]),\n",
       "                                (&#x27;numpipe&#x27;,\n",
       "                                 Pipeline(steps=[(&#x27;scaler&#x27;, StandardScaler())]),\n",
       "                                 [&#x27;host_is_superhost&#x27;, &#x27;accommodates&#x27;,\n",
       "                                  &#x27;bedrooms&#x27;, &#x27;beds&#x27;, &#x27;bathrooms&#x27;,\n",
       "                                  &#x27;Air conditioning&#x27;, &#x27;Wifi&#x27;, &#x27;TV&#x27;, &#x27;Kitchen&#x27;,\n",
       "                                  &#x27;Washer&#x27;, &#x27;Dryer&#x27;, &#x27;Heating&#x27;])])</pre></div></div></div><div class=\"sk-parallel\"><div class=\"sk-parallel-item\"><div class=\"sk-item\"><div class=\"sk-label-container\"><div class=\"sk-label sk-toggleable\"><input class=\"sk-toggleable__control sk-hidden--visually\" id=\"sk-estimator-id-24\" type=\"checkbox\" ><label for=\"sk-estimator-id-24\" class=\"sk-toggleable__label sk-toggleable__label-arrow\">nominalpipe</label><div class=\"sk-toggleable__content\"><pre>[&#x27;neighborhood&#x27;, &#x27;room_type&#x27;, &#x27;day_of_week&#x27;, &#x27;month&#x27;]</pre></div></div></div><div class=\"sk-serial\"><div class=\"sk-item\"><div class=\"sk-serial\"><div class=\"sk-item\"><div class=\"sk-estimator sk-toggleable\"><input class=\"sk-toggleable__control sk-hidden--visually\" id=\"sk-estimator-id-25\" type=\"checkbox\" ><label for=\"sk-estimator-id-25\" class=\"sk-toggleable__label sk-toggleable__label-arrow\">OneHotEncoder</label><div class=\"sk-toggleable__content\"><pre>OneHotEncoder(sparse=False)</pre></div></div></div></div></div></div></div></div><div class=\"sk-parallel-item\"><div class=\"sk-item\"><div class=\"sk-label-container\"><div class=\"sk-label sk-toggleable\"><input class=\"sk-toggleable__control sk-hidden--visually\" id=\"sk-estimator-id-26\" type=\"checkbox\" ><label for=\"sk-estimator-id-26\" class=\"sk-toggleable__label sk-toggleable__label-arrow\">numpipe</label><div class=\"sk-toggleable__content\"><pre>[&#x27;host_is_superhost&#x27;, &#x27;accommodates&#x27;, &#x27;bedrooms&#x27;, &#x27;beds&#x27;, &#x27;bathrooms&#x27;, &#x27;Air conditioning&#x27;, &#x27;Wifi&#x27;, &#x27;TV&#x27;, &#x27;Kitchen&#x27;, &#x27;Washer&#x27;, &#x27;Dryer&#x27;, &#x27;Heating&#x27;]</pre></div></div></div><div class=\"sk-serial\"><div class=\"sk-item\"><div class=\"sk-serial\"><div class=\"sk-item\"><div class=\"sk-estimator sk-toggleable\"><input class=\"sk-toggleable__control sk-hidden--visually\" id=\"sk-estimator-id-27\" type=\"checkbox\" ><label for=\"sk-estimator-id-27\" class=\"sk-toggleable__label sk-toggleable__label-arrow\">StandardScaler</label><div class=\"sk-toggleable__content\"><pre>StandardScaler()</pre></div></div></div></div></div></div></div></div></div></div><div class=\"sk-item\"><div class=\"sk-estimator sk-toggleable\"><input class=\"sk-toggleable__control sk-hidden--visually\" id=\"sk-estimator-id-28\" type=\"checkbox\" ><label for=\"sk-estimator-id-28\" class=\"sk-toggleable__label sk-toggleable__label-arrow\">RandomForestRegressor</label><div class=\"sk-toggleable__content\"><pre>RandomForestRegressor()</pre></div></div></div></div></div></div></div>"
      ],
      "text/plain": [
       "Pipeline(steps=[('preprocess',\n",
       "                 ColumnTransformer(transformers=[('nominalpipe',\n",
       "                                                  Pipeline(steps=[('ohe',\n",
       "                                                                   OneHotEncoder(sparse=False))]),\n",
       "                                                  ['neighborhood', 'room_type',\n",
       "                                                   'day_of_week', 'month']),\n",
       "                                                 ('numpipe',\n",
       "                                                  Pipeline(steps=[('scaler',\n",
       "                                                                   StandardScaler())]),\n",
       "                                                  ['host_is_superhost',\n",
       "                                                   'accommodates', 'bedrooms',\n",
       "                                                   'beds', 'bathrooms',\n",
       "                                                   'Air conditioning', 'Wifi',\n",
       "                                                   'TV', 'Kitchen', 'Washer',\n",
       "                                                   'Dryer', 'Heating'])])),\n",
       "                ('model', RandomForestRegressor())])"
      ]
     },
     "execution_count": 477,
     "metadata": {},
     "output_type": "execute_result"
    }
   ],
   "source": [
    "%%time\n",
    "\n",
    "baseline_X = asheville_modeling_data.drop(['daily_price'], axis = 1)\n",
    "baseline_y = asheville_modeling_data['daily_price']\n",
    "\n",
    "baseline_X_train, baseline_X_test, baseline_y_train, baseline_y_test = train_test_split(baseline_X, \n",
    "                                                                                        baseline_y, \n",
    "                                                                                        test_size = 0.2)\n",
    "\n",
    "baseline_numeric_cols = ['host_is_superhost', 'accommodates', 'bedrooms', 'beds', 'bathrooms', \n",
    "                         'Air conditioning', 'Wifi', 'TV', 'Kitchen', 'Washer', 'Dryer', 'Heating']\n",
    "\n",
    "baseline_nominal_cols = ['neighborhood', 'room_type', 'day_of_week', 'month']\n",
    "\n",
    "baseline_numeric_pipeline = Pipeline([('scaler', StandardScaler())])\n",
    "\n",
    "baseline_nominal_pipeline = Pipeline([('ohe', OneHotEncoder(sparse = False))])\n",
    "\n",
    "ct = ColumnTransformer([('nominalpipe', baseline_nominal_pipeline, baseline_nominal_cols ),\n",
    "                        ('numpipe', baseline_numeric_pipeline, baseline_numeric_cols)])\n",
    "\n",
    "baseline_final_pipe = Pipeline([('preprocess', ct),\n",
    "                                ('model', RandomForestRegressor())])\n",
    "\n",
    "baseline_final_pipe.fit(baseline_X_train, baseline_y_train)"
   ]
  },
  {
   "cell_type": "code",
   "execution_count": 478,
   "metadata": {},
   "outputs": [
    {
     "name": "stdout",
     "output_type": "stream",
     "text": [
      "0.8086167109719568\n",
      "0.7662536859046953\n"
     ]
    },
    {
     "data": {
      "text/plain": [
       "<AxesSubplot: xlabel='daily_price'>"
      ]
     },
     "execution_count": 478,
     "metadata": {},
     "output_type": "execute_result"
    },
    {
     "data": {
      "image/png": "[encoded data removed]",
      "text/plain": [
       "<Figure size 640x480 with 1 Axes>"
      ]
     },
     "metadata": {},
     "output_type": "display_data"
    }
   ],
   "source": [
    "print(baseline_final_pipe.score(baseline_X_train, baseline_y_train))\n",
    "print(baseline_final_pipe.score(baseline_X_test, baseline_y_test))\n",
    "\n",
    "baseline_preds = baseline_final_pipe.predict(baseline_X_test)\n",
    "sns.scatterplot(y = baseline_preds, x = baseline_y_test)"
   ]
  },
  {
   "cell_type": "markdown",
   "metadata": {},
   "source": [
    "## Model 2 - Neural Network"
   ]
  },
  {
   "cell_type": "code",
   "execution_count": 479,
   "metadata": {},
   "outputs": [],
   "source": [
    "#Neural Network"
   ]
  },
  {
   "cell_type": "code",
   "execution_count": 480,
   "metadata": {},
   "outputs": [
    {
     "data": {
      "text/html": [
       "<div>\n",
       "<style scoped>\n",
       "    .dataframe tbody tr th:only-of-type {\n",
       "        vertical-align: middle;\n",
       "    }\n",
       "\n",
       "    .dataframe tbody tr th {\n",
       "        vertical-align: top;\n",
       "    }\n",
       "\n",
       "    .dataframe thead th {\n",
       "        text-align: right;\n",
       "    }\n",
       "</style>\n",
       "<table border=\"1\" class=\"dataframe\">\n",
       "  <thead>\n",
       "    <tr style=\"text-align: right;\">\n",
       "      <th></th>\n",
       "      <th>neighborhood</th>\n",
       "      <th>room_type</th>\n",
       "      <th>day_of_week</th>\n",
       "      <th>month</th>\n",
       "    </tr>\n",
       "  </thead>\n",
       "  <tbody>\n",
       "    <tr>\n",
       "      <th>0</th>\n",
       "      <td>Asheville</td>\n",
       "      <td>Entire home/apt</td>\n",
       "      <td>2</td>\n",
       "      <td>12</td>\n",
       "    </tr>\n",
       "    <tr>\n",
       "      <th>1</th>\n",
       "      <td>Asheville</td>\n",
       "      <td>Entire home/apt</td>\n",
       "      <td>3</td>\n",
       "      <td>12</td>\n",
       "    </tr>\n",
       "    <tr>\n",
       "      <th>2</th>\n",
       "      <td>Asheville</td>\n",
       "      <td>Entire home/apt</td>\n",
       "      <td>4</td>\n",
       "      <td>12</td>\n",
       "    </tr>\n",
       "    <tr>\n",
       "      <th>3</th>\n",
       "      <td>Asheville</td>\n",
       "      <td>Entire home/apt</td>\n",
       "      <td>5</td>\n",
       "      <td>12</td>\n",
       "    </tr>\n",
       "    <tr>\n",
       "      <th>4</th>\n",
       "      <td>Asheville</td>\n",
       "      <td>Entire home/apt</td>\n",
       "      <td>6</td>\n",
       "      <td>12</td>\n",
       "    </tr>\n",
       "    <tr>\n",
       "      <th>...</th>\n",
       "      <td>...</td>\n",
       "      <td>...</td>\n",
       "      <td>...</td>\n",
       "      <td>...</td>\n",
       "    </tr>\n",
       "    <tr>\n",
       "      <th>815770</th>\n",
       "      <td>Asheville</td>\n",
       "      <td>Entire home/apt</td>\n",
       "      <td>5</td>\n",
       "      <td>12</td>\n",
       "    </tr>\n",
       "    <tr>\n",
       "      <th>815771</th>\n",
       "      <td>Asheville</td>\n",
       "      <td>Entire home/apt</td>\n",
       "      <td>6</td>\n",
       "      <td>12</td>\n",
       "    </tr>\n",
       "    <tr>\n",
       "      <th>815772</th>\n",
       "      <td>Asheville</td>\n",
       "      <td>Entire home/apt</td>\n",
       "      <td>0</td>\n",
       "      <td>12</td>\n",
       "    </tr>\n",
       "    <tr>\n",
       "      <th>815773</th>\n",
       "      <td>Asheville</td>\n",
       "      <td>Entire home/apt</td>\n",
       "      <td>1</td>\n",
       "      <td>12</td>\n",
       "    </tr>\n",
       "    <tr>\n",
       "      <th>815774</th>\n",
       "      <td>Asheville</td>\n",
       "      <td>Entire home/apt</td>\n",
       "      <td>2</td>\n",
       "      <td>12</td>\n",
       "    </tr>\n",
       "  </tbody>\n",
       "</table>\n",
       "<p>815775 rows × 4 columns</p>\n",
       "</div>"
      ],
      "text/plain": [
       "       neighborhood        room_type  day_of_week  month\n",
       "0         Asheville  Entire home/apt            2     12\n",
       "1         Asheville  Entire home/apt            3     12\n",
       "2         Asheville  Entire home/apt            4     12\n",
       "3         Asheville  Entire home/apt            5     12\n",
       "4         Asheville  Entire home/apt            6     12\n",
       "...             ...              ...          ...    ...\n",
       "815770    Asheville  Entire home/apt            5     12\n",
       "815771    Asheville  Entire home/apt            6     12\n",
       "815772    Asheville  Entire home/apt            0     12\n",
       "815773    Asheville  Entire home/apt            1     12\n",
       "815774    Asheville  Entire home/apt            2     12\n",
       "\n",
       "[815775 rows x 4 columns]"
      ]
     },
     "execution_count": 480,
     "metadata": {},
     "output_type": "execute_result"
    }
   ],
   "source": [
    "model2_cat_cols = asheville_modeling_data[['neighborhood', 'room_type', 'day_of_week', 'month']]\n",
    "model2_cat_cols"
   ]
  },
  {
   "cell_type": "code",
   "execution_count": 481,
   "metadata": {},
   "outputs": [
    {
     "data": {
      "text/html": [
       "<div>\n",
       "<style scoped>\n",
       "    .dataframe tbody tr th:only-of-type {\n",
       "        vertical-align: middle;\n",
       "    }\n",
       "\n",
       "    .dataframe tbody tr th {\n",
       "        vertical-align: top;\n",
       "    }\n",
       "\n",
       "    .dataframe thead th {\n",
       "        text-align: right;\n",
       "    }\n",
       "</style>\n",
       "<table border=\"1\" class=\"dataframe\">\n",
       "  <thead>\n",
       "    <tr style=\"text-align: right;\">\n",
       "      <th></th>\n",
       "      <th>neighborhood_Asheville</th>\n",
       "      <th>neighborhood_Candler</th>\n",
       "      <th>neighborhood_Fletcher</th>\n",
       "      <th>neighborhood_Woodfin</th>\n",
       "      <th>room_type_Private room</th>\n",
       "      <th>day_of_week_1</th>\n",
       "      <th>day_of_week_2</th>\n",
       "      <th>day_of_week_3</th>\n",
       "      <th>day_of_week_4</th>\n",
       "      <th>day_of_week_5</th>\n",
       "      <th>...</th>\n",
       "      <th>month_3</th>\n",
       "      <th>month_4</th>\n",
       "      <th>month_5</th>\n",
       "      <th>month_6</th>\n",
       "      <th>month_7</th>\n",
       "      <th>month_8</th>\n",
       "      <th>month_9</th>\n",
       "      <th>month_10</th>\n",
       "      <th>month_11</th>\n",
       "      <th>month_12</th>\n",
       "    </tr>\n",
       "  </thead>\n",
       "  <tbody>\n",
       "    <tr>\n",
       "      <th>0</th>\n",
       "      <td>1.0</td>\n",
       "      <td>0.0</td>\n",
       "      <td>0.0</td>\n",
       "      <td>0.0</td>\n",
       "      <td>0.0</td>\n",
       "      <td>0.0</td>\n",
       "      <td>1.0</td>\n",
       "      <td>0.0</td>\n",
       "      <td>0.0</td>\n",
       "      <td>0.0</td>\n",
       "      <td>...</td>\n",
       "      <td>0.0</td>\n",
       "      <td>0.0</td>\n",
       "      <td>0.0</td>\n",
       "      <td>0.0</td>\n",
       "      <td>0.0</td>\n",
       "      <td>0.0</td>\n",
       "      <td>0.0</td>\n",
       "      <td>0.0</td>\n",
       "      <td>0.0</td>\n",
       "      <td>1.0</td>\n",
       "    </tr>\n",
       "    <tr>\n",
       "      <th>1</th>\n",
       "      <td>1.0</td>\n",
       "      <td>0.0</td>\n",
       "      <td>0.0</td>\n",
       "      <td>0.0</td>\n",
       "      <td>0.0</td>\n",
       "      <td>0.0</td>\n",
       "      <td>0.0</td>\n",
       "      <td>1.0</td>\n",
       "      <td>0.0</td>\n",
       "      <td>0.0</td>\n",
       "      <td>...</td>\n",
       "      <td>0.0</td>\n",
       "      <td>0.0</td>\n",
       "      <td>0.0</td>\n",
       "      <td>0.0</td>\n",
       "      <td>0.0</td>\n",
       "      <td>0.0</td>\n",
       "      <td>0.0</td>\n",
       "      <td>0.0</td>\n",
       "      <td>0.0</td>\n",
       "      <td>1.0</td>\n",
       "    </tr>\n",
       "    <tr>\n",
       "      <th>2</th>\n",
       "      <td>1.0</td>\n",
       "      <td>0.0</td>\n",
       "      <td>0.0</td>\n",
       "      <td>0.0</td>\n",
       "      <td>0.0</td>\n",
       "      <td>0.0</td>\n",
       "      <td>0.0</td>\n",
       "      <td>0.0</td>\n",
       "      <td>1.0</td>\n",
       "      <td>0.0</td>\n",
       "      <td>...</td>\n",
       "      <td>0.0</td>\n",
       "      <td>0.0</td>\n",
       "      <td>0.0</td>\n",
       "      <td>0.0</td>\n",
       "      <td>0.0</td>\n",
       "      <td>0.0</td>\n",
       "      <td>0.0</td>\n",
       "      <td>0.0</td>\n",
       "      <td>0.0</td>\n",
       "      <td>1.0</td>\n",
       "    </tr>\n",
       "    <tr>\n",
       "      <th>3</th>\n",
       "      <td>1.0</td>\n",
       "      <td>0.0</td>\n",
       "      <td>0.0</td>\n",
       "      <td>0.0</td>\n",
       "      <td>0.0</td>\n",
       "      <td>0.0</td>\n",
       "      <td>0.0</td>\n",
       "      <td>0.0</td>\n",
       "      <td>0.0</td>\n",
       "      <td>1.0</td>\n",
       "      <td>...</td>\n",
       "      <td>0.0</td>\n",
       "      <td>0.0</td>\n",
       "      <td>0.0</td>\n",
       "      <td>0.0</td>\n",
       "      <td>0.0</td>\n",
       "      <td>0.0</td>\n",
       "      <td>0.0</td>\n",
       "      <td>0.0</td>\n",
       "      <td>0.0</td>\n",
       "      <td>1.0</td>\n",
       "    </tr>\n",
       "    <tr>\n",
       "      <th>4</th>\n",
       "      <td>1.0</td>\n",
       "      <td>0.0</td>\n",
       "      <td>0.0</td>\n",
       "      <td>0.0</td>\n",
       "      <td>0.0</td>\n",
       "      <td>0.0</td>\n",
       "      <td>0.0</td>\n",
       "      <td>0.0</td>\n",
       "      <td>0.0</td>\n",
       "      <td>0.0</td>\n",
       "      <td>...</td>\n",
       "      <td>0.0</td>\n",
       "      <td>0.0</td>\n",
       "      <td>0.0</td>\n",
       "      <td>0.0</td>\n",
       "      <td>0.0</td>\n",
       "      <td>0.0</td>\n",
       "      <td>0.0</td>\n",
       "      <td>0.0</td>\n",
       "      <td>0.0</td>\n",
       "      <td>1.0</td>\n",
       "    </tr>\n",
       "    <tr>\n",
       "      <th>...</th>\n",
       "      <td>...</td>\n",
       "      <td>...</td>\n",
       "      <td>...</td>\n",
       "      <td>...</td>\n",
       "      <td>...</td>\n",
       "      <td>...</td>\n",
       "      <td>...</td>\n",
       "      <td>...</td>\n",
       "      <td>...</td>\n",
       "      <td>...</td>\n",
       "      <td>...</td>\n",
       "      <td>...</td>\n",
       "      <td>...</td>\n",
       "      <td>...</td>\n",
       "      <td>...</td>\n",
       "      <td>...</td>\n",
       "      <td>...</td>\n",
       "      <td>...</td>\n",
       "      <td>...</td>\n",
       "      <td>...</td>\n",
       "      <td>...</td>\n",
       "    </tr>\n",
       "    <tr>\n",
       "      <th>815770</th>\n",
       "      <td>1.0</td>\n",
       "      <td>0.0</td>\n",
       "      <td>0.0</td>\n",
       "      <td>0.0</td>\n",
       "      <td>0.0</td>\n",
       "      <td>0.0</td>\n",
       "      <td>0.0</td>\n",
       "      <td>0.0</td>\n",
       "      <td>0.0</td>\n",
       "      <td>1.0</td>\n",
       "      <td>...</td>\n",
       "      <td>0.0</td>\n",
       "      <td>0.0</td>\n",
       "      <td>0.0</td>\n",
       "      <td>0.0</td>\n",
       "      <td>0.0</td>\n",
       "      <td>0.0</td>\n",
       "      <td>0.0</td>\n",
       "      <td>0.0</td>\n",
       "      <td>0.0</td>\n",
       "      <td>1.0</td>\n",
       "    </tr>\n",
       "    <tr>\n",
       "      <th>815771</th>\n",
       "      <td>1.0</td>\n",
       "      <td>0.0</td>\n",
       "      <td>0.0</td>\n",
       "      <td>0.0</td>\n",
       "      <td>0.0</td>\n",
       "      <td>0.0</td>\n",
       "      <td>0.0</td>\n",
       "      <td>0.0</td>\n",
       "      <td>0.0</td>\n",
       "      <td>0.0</td>\n",
       "      <td>...</td>\n",
       "      <td>0.0</td>\n",
       "      <td>0.0</td>\n",
       "      <td>0.0</td>\n",
       "      <td>0.0</td>\n",
       "      <td>0.0</td>\n",
       "      <td>0.0</td>\n",
       "      <td>0.0</td>\n",
       "      <td>0.0</td>\n",
       "      <td>0.0</td>\n",
       "      <td>1.0</td>\n",
       "    </tr>\n",
       "    <tr>\n",
       "      <th>815772</th>\n",
       "      <td>1.0</td>\n",
       "      <td>0.0</td>\n",
       "      <td>0.0</td>\n",
       "      <td>0.0</td>\n",
       "      <td>0.0</td>\n",
       "      <td>0.0</td>\n",
       "      <td>0.0</td>\n",
       "      <td>0.0</td>\n",
       "      <td>0.0</td>\n",
       "      <td>0.0</td>\n",
       "      <td>...</td>\n",
       "      <td>0.0</td>\n",
       "      <td>0.0</td>\n",
       "      <td>0.0</td>\n",
       "      <td>0.0</td>\n",
       "      <td>0.0</td>\n",
       "      <td>0.0</td>\n",
       "      <td>0.0</td>\n",
       "      <td>0.0</td>\n",
       "      <td>0.0</td>\n",
       "      <td>1.0</td>\n",
       "    </tr>\n",
       "    <tr>\n",
       "      <th>815773</th>\n",
       "      <td>1.0</td>\n",
       "      <td>0.0</td>\n",
       "      <td>0.0</td>\n",
       "      <td>0.0</td>\n",
       "      <td>0.0</td>\n",
       "      <td>1.0</td>\n",
       "      <td>0.0</td>\n",
       "      <td>0.0</td>\n",
       "      <td>0.0</td>\n",
       "      <td>0.0</td>\n",
       "      <td>...</td>\n",
       "      <td>0.0</td>\n",
       "      <td>0.0</td>\n",
       "      <td>0.0</td>\n",
       "      <td>0.0</td>\n",
       "      <td>0.0</td>\n",
       "      <td>0.0</td>\n",
       "      <td>0.0</td>\n",
       "      <td>0.0</td>\n",
       "      <td>0.0</td>\n",
       "      <td>1.0</td>\n",
       "    </tr>\n",
       "    <tr>\n",
       "      <th>815774</th>\n",
       "      <td>1.0</td>\n",
       "      <td>0.0</td>\n",
       "      <td>0.0</td>\n",
       "      <td>0.0</td>\n",
       "      <td>0.0</td>\n",
       "      <td>0.0</td>\n",
       "      <td>1.0</td>\n",
       "      <td>0.0</td>\n",
       "      <td>0.0</td>\n",
       "      <td>0.0</td>\n",
       "      <td>...</td>\n",
       "      <td>0.0</td>\n",
       "      <td>0.0</td>\n",
       "      <td>0.0</td>\n",
       "      <td>0.0</td>\n",
       "      <td>0.0</td>\n",
       "      <td>0.0</td>\n",
       "      <td>0.0</td>\n",
       "      <td>0.0</td>\n",
       "      <td>0.0</td>\n",
       "      <td>1.0</td>\n",
       "    </tr>\n",
       "  </tbody>\n",
       "</table>\n",
       "<p>815775 rows × 22 columns</p>\n",
       "</div>"
      ],
      "text/plain": [
       "        neighborhood_Asheville  neighborhood_Candler  neighborhood_Fletcher  \\\n",
       "0                          1.0                   0.0                    0.0   \n",
       "1                          1.0                   0.0                    0.0   \n",
       "2                          1.0                   0.0                    0.0   \n",
       "3                          1.0                   0.0                    0.0   \n",
       "4                          1.0                   0.0                    0.0   \n",
       "...                        ...                   ...                    ...   \n",
       "815770                     1.0                   0.0                    0.0   \n",
       "815771                     1.0                   0.0                    0.0   \n",
       "815772                     1.0                   0.0                    0.0   \n",
       "815773                     1.0                   0.0                    0.0   \n",
       "815774                     1.0                   0.0                    0.0   \n",
       "\n",
       "        neighborhood_Woodfin  room_type_Private room  day_of_week_1  \\\n",
       "0                        0.0                     0.0            0.0   \n",
       "1                        0.0                     0.0            0.0   \n",
       "2                        0.0                     0.0            0.0   \n",
       "3                        0.0                     0.0            0.0   \n",
       "4                        0.0                     0.0            0.0   \n",
       "...                      ...                     ...            ...   \n",
       "815770                   0.0                     0.0            0.0   \n",
       "815771                   0.0                     0.0            0.0   \n",
       "815772                   0.0                     0.0            0.0   \n",
       "815773                   0.0                     0.0            1.0   \n",
       "815774                   0.0                     0.0            0.0   \n",
       "\n",
       "        day_of_week_2  day_of_week_3  day_of_week_4  day_of_week_5  ...  \\\n",
       "0                 1.0            0.0            0.0            0.0  ...   \n",
       "1                 0.0            1.0            0.0            0.0  ...   \n",
       "2                 0.0            0.0            1.0            0.0  ...   \n",
       "3                 0.0            0.0            0.0            1.0  ...   \n",
       "4                 0.0            0.0            0.0            0.0  ...   \n",
       "...               ...            ...            ...            ...  ...   \n",
       "815770            0.0            0.0            0.0            1.0  ...   \n",
       "815771            0.0            0.0            0.0            0.0  ...   \n",
       "815772            0.0            0.0            0.0            0.0  ...   \n",
       "815773            0.0            0.0            0.0            0.0  ...   \n",
       "815774            1.0            0.0            0.0            0.0  ...   \n",
       "\n",
       "        month_3  month_4  month_5  month_6  month_7  month_8  month_9  \\\n",
       "0           0.0      0.0      0.0      0.0      0.0      0.0      0.0   \n",
       "1           0.0      0.0      0.0      0.0      0.0      0.0      0.0   \n",
       "2           0.0      0.0      0.0      0.0      0.0      0.0      0.0   \n",
       "3           0.0      0.0      0.0      0.0      0.0      0.0      0.0   \n",
       "4           0.0      0.0      0.0      0.0      0.0      0.0      0.0   \n",
       "...         ...      ...      ...      ...      ...      ...      ...   \n",
       "815770      0.0      0.0      0.0      0.0      0.0      0.0      0.0   \n",
       "815771      0.0      0.0      0.0      0.0      0.0      0.0      0.0   \n",
       "815772      0.0      0.0      0.0      0.0      0.0      0.0      0.0   \n",
       "815773      0.0      0.0      0.0      0.0      0.0      0.0      0.0   \n",
       "815774      0.0      0.0      0.0      0.0      0.0      0.0      0.0   \n",
       "\n",
       "        month_10  month_11  month_12  \n",
       "0            0.0       0.0       1.0  \n",
       "1            0.0       0.0       1.0  \n",
       "2            0.0       0.0       1.0  \n",
       "3            0.0       0.0       1.0  \n",
       "4            0.0       0.0       1.0  \n",
       "...          ...       ...       ...  \n",
       "815770       0.0       0.0       1.0  \n",
       "815771       0.0       0.0       1.0  \n",
       "815772       0.0       0.0       1.0  \n",
       "815773       0.0       0.0       1.0  \n",
       "815774       0.0       0.0       1.0  \n",
       "\n",
       "[815775 rows x 22 columns]"
      ]
     },
     "execution_count": 481,
     "metadata": {},
     "output_type": "execute_result"
    }
   ],
   "source": [
    "#One hot encode the categorical columns\n",
    "model2_sklearn = asheville_modeling_data\n",
    "model2_cat = model2_sklearn[['neighborhood', 'room_type', 'day_of_week', 'month']]\n",
    "\n",
    "ohe = OneHotEncoder(drop=\"first\", sparse=False)\n",
    "ohe.fit(model2_cat)\n",
    "\n",
    "model2_cat_ohe = pd.DataFrame(data = ohe.transform(model2_cat),\n",
    "                              columns = ohe.get_feature_names_out())\n",
    "model2_cat_ohe"
   ]
  },
  {
   "cell_type": "code",
   "execution_count": 483,
   "metadata": {},
   "outputs": [
    {
     "data": {
      "text/html": [
       "<div>\n",
       "<style scoped>\n",
       "    .dataframe tbody tr th:only-of-type {\n",
       "        vertical-align: middle;\n",
       "    }\n",
       "\n",
       "    .dataframe tbody tr th {\n",
       "        vertical-align: top;\n",
       "    }\n",
       "\n",
       "    .dataframe thead th {\n",
       "        text-align: right;\n",
       "    }\n",
       "</style>\n",
       "<table border=\"1\" class=\"dataframe\">\n",
       "  <thead>\n",
       "    <tr style=\"text-align: right;\">\n",
       "      <th></th>\n",
       "      <th>daily_price</th>\n",
       "      <th>host_is_superhost</th>\n",
       "      <th>accommodates</th>\n",
       "      <th>bedrooms</th>\n",
       "      <th>beds</th>\n",
       "      <th>bathrooms</th>\n",
       "      <th>Air conditioning</th>\n",
       "      <th>Wifi</th>\n",
       "      <th>TV</th>\n",
       "      <th>Kitchen</th>\n",
       "      <th>...</th>\n",
       "      <th>month_3</th>\n",
       "      <th>month_4</th>\n",
       "      <th>month_5</th>\n",
       "      <th>month_6</th>\n",
       "      <th>month_7</th>\n",
       "      <th>month_8</th>\n",
       "      <th>month_9</th>\n",
       "      <th>month_10</th>\n",
       "      <th>month_11</th>\n",
       "      <th>month_12</th>\n",
       "    </tr>\n",
       "  </thead>\n",
       "  <tbody>\n",
       "    <tr>\n",
       "      <th>0</th>\n",
       "      <td>120.0</td>\n",
       "      <td>0</td>\n",
       "      <td>2</td>\n",
       "      <td>1.0</td>\n",
       "      <td>1.0</td>\n",
       "      <td>1.0</td>\n",
       "      <td>1</td>\n",
       "      <td>1</td>\n",
       "      <td>0</td>\n",
       "      <td>1</td>\n",
       "      <td>...</td>\n",
       "      <td>0.0</td>\n",
       "      <td>0.0</td>\n",
       "      <td>0.0</td>\n",
       "      <td>0.0</td>\n",
       "      <td>0.0</td>\n",
       "      <td>0.0</td>\n",
       "      <td>0.0</td>\n",
       "      <td>0.0</td>\n",
       "      <td>0.0</td>\n",
       "      <td>1.0</td>\n",
       "    </tr>\n",
       "    <tr>\n",
       "      <th>1</th>\n",
       "      <td>120.0</td>\n",
       "      <td>0</td>\n",
       "      <td>2</td>\n",
       "      <td>1.0</td>\n",
       "      <td>1.0</td>\n",
       "      <td>1.0</td>\n",
       "      <td>1</td>\n",
       "      <td>1</td>\n",
       "      <td>0</td>\n",
       "      <td>1</td>\n",
       "      <td>...</td>\n",
       "      <td>0.0</td>\n",
       "      <td>0.0</td>\n",
       "      <td>0.0</td>\n",
       "      <td>0.0</td>\n",
       "      <td>0.0</td>\n",
       "      <td>0.0</td>\n",
       "      <td>0.0</td>\n",
       "      <td>0.0</td>\n",
       "      <td>0.0</td>\n",
       "      <td>1.0</td>\n",
       "    </tr>\n",
       "    <tr>\n",
       "      <th>2</th>\n",
       "      <td>120.0</td>\n",
       "      <td>0</td>\n",
       "      <td>2</td>\n",
       "      <td>1.0</td>\n",
       "      <td>1.0</td>\n",
       "      <td>1.0</td>\n",
       "      <td>1</td>\n",
       "      <td>1</td>\n",
       "      <td>0</td>\n",
       "      <td>1</td>\n",
       "      <td>...</td>\n",
       "      <td>0.0</td>\n",
       "      <td>0.0</td>\n",
       "      <td>0.0</td>\n",
       "      <td>0.0</td>\n",
       "      <td>0.0</td>\n",
       "      <td>0.0</td>\n",
       "      <td>0.0</td>\n",
       "      <td>0.0</td>\n",
       "      <td>0.0</td>\n",
       "      <td>1.0</td>\n",
       "    </tr>\n",
       "    <tr>\n",
       "      <th>3</th>\n",
       "      <td>120.0</td>\n",
       "      <td>0</td>\n",
       "      <td>2</td>\n",
       "      <td>1.0</td>\n",
       "      <td>1.0</td>\n",
       "      <td>1.0</td>\n",
       "      <td>1</td>\n",
       "      <td>1</td>\n",
       "      <td>0</td>\n",
       "      <td>1</td>\n",
       "      <td>...</td>\n",
       "      <td>0.0</td>\n",
       "      <td>0.0</td>\n",
       "      <td>0.0</td>\n",
       "      <td>0.0</td>\n",
       "      <td>0.0</td>\n",
       "      <td>0.0</td>\n",
       "      <td>0.0</td>\n",
       "      <td>0.0</td>\n",
       "      <td>0.0</td>\n",
       "      <td>1.0</td>\n",
       "    </tr>\n",
       "    <tr>\n",
       "      <th>4</th>\n",
       "      <td>120.0</td>\n",
       "      <td>0</td>\n",
       "      <td>2</td>\n",
       "      <td>1.0</td>\n",
       "      <td>1.0</td>\n",
       "      <td>1.0</td>\n",
       "      <td>1</td>\n",
       "      <td>1</td>\n",
       "      <td>0</td>\n",
       "      <td>1</td>\n",
       "      <td>...</td>\n",
       "      <td>0.0</td>\n",
       "      <td>0.0</td>\n",
       "      <td>0.0</td>\n",
       "      <td>0.0</td>\n",
       "      <td>0.0</td>\n",
       "      <td>0.0</td>\n",
       "      <td>0.0</td>\n",
       "      <td>0.0</td>\n",
       "      <td>0.0</td>\n",
       "      <td>1.0</td>\n",
       "    </tr>\n",
       "    <tr>\n",
       "      <th>...</th>\n",
       "      <td>...</td>\n",
       "      <td>...</td>\n",
       "      <td>...</td>\n",
       "      <td>...</td>\n",
       "      <td>...</td>\n",
       "      <td>...</td>\n",
       "      <td>...</td>\n",
       "      <td>...</td>\n",
       "      <td>...</td>\n",
       "      <td>...</td>\n",
       "      <td>...</td>\n",
       "      <td>...</td>\n",
       "      <td>...</td>\n",
       "      <td>...</td>\n",
       "      <td>...</td>\n",
       "      <td>...</td>\n",
       "      <td>...</td>\n",
       "      <td>...</td>\n",
       "      <td>...</td>\n",
       "      <td>...</td>\n",
       "      <td>...</td>\n",
       "    </tr>\n",
       "    <tr>\n",
       "      <th>815770</th>\n",
       "      <td>165.0</td>\n",
       "      <td>1</td>\n",
       "      <td>3</td>\n",
       "      <td>1.0</td>\n",
       "      <td>1.0</td>\n",
       "      <td>1.0</td>\n",
       "      <td>1</td>\n",
       "      <td>1</td>\n",
       "      <td>1</td>\n",
       "      <td>1</td>\n",
       "      <td>...</td>\n",
       "      <td>0.0</td>\n",
       "      <td>0.0</td>\n",
       "      <td>0.0</td>\n",
       "      <td>0.0</td>\n",
       "      <td>0.0</td>\n",
       "      <td>0.0</td>\n",
       "      <td>0.0</td>\n",
       "      <td>0.0</td>\n",
       "      <td>0.0</td>\n",
       "      <td>1.0</td>\n",
       "    </tr>\n",
       "    <tr>\n",
       "      <th>815771</th>\n",
       "      <td>150.0</td>\n",
       "      <td>1</td>\n",
       "      <td>3</td>\n",
       "      <td>1.0</td>\n",
       "      <td>1.0</td>\n",
       "      <td>1.0</td>\n",
       "      <td>1</td>\n",
       "      <td>1</td>\n",
       "      <td>1</td>\n",
       "      <td>1</td>\n",
       "      <td>...</td>\n",
       "      <td>0.0</td>\n",
       "      <td>0.0</td>\n",
       "      <td>0.0</td>\n",
       "      <td>0.0</td>\n",
       "      <td>0.0</td>\n",
       "      <td>0.0</td>\n",
       "      <td>0.0</td>\n",
       "      <td>0.0</td>\n",
       "      <td>0.0</td>\n",
       "      <td>1.0</td>\n",
       "    </tr>\n",
       "    <tr>\n",
       "      <th>815772</th>\n",
       "      <td>150.0</td>\n",
       "      <td>1</td>\n",
       "      <td>3</td>\n",
       "      <td>1.0</td>\n",
       "      <td>1.0</td>\n",
       "      <td>1.0</td>\n",
       "      <td>1</td>\n",
       "      <td>1</td>\n",
       "      <td>1</td>\n",
       "      <td>1</td>\n",
       "      <td>...</td>\n",
       "      <td>0.0</td>\n",
       "      <td>0.0</td>\n",
       "      <td>0.0</td>\n",
       "      <td>0.0</td>\n",
       "      <td>0.0</td>\n",
       "      <td>0.0</td>\n",
       "      <td>0.0</td>\n",
       "      <td>0.0</td>\n",
       "      <td>0.0</td>\n",
       "      <td>1.0</td>\n",
       "    </tr>\n",
       "    <tr>\n",
       "      <th>815773</th>\n",
       "      <td>150.0</td>\n",
       "      <td>1</td>\n",
       "      <td>3</td>\n",
       "      <td>1.0</td>\n",
       "      <td>1.0</td>\n",
       "      <td>1.0</td>\n",
       "      <td>1</td>\n",
       "      <td>1</td>\n",
       "      <td>1</td>\n",
       "      <td>1</td>\n",
       "      <td>...</td>\n",
       "      <td>0.0</td>\n",
       "      <td>0.0</td>\n",
       "      <td>0.0</td>\n",
       "      <td>0.0</td>\n",
       "      <td>0.0</td>\n",
       "      <td>0.0</td>\n",
       "      <td>0.0</td>\n",
       "      <td>0.0</td>\n",
       "      <td>0.0</td>\n",
       "      <td>1.0</td>\n",
       "    </tr>\n",
       "    <tr>\n",
       "      <th>815774</th>\n",
       "      <td>150.0</td>\n",
       "      <td>1</td>\n",
       "      <td>3</td>\n",
       "      <td>1.0</td>\n",
       "      <td>1.0</td>\n",
       "      <td>1.0</td>\n",
       "      <td>1</td>\n",
       "      <td>1</td>\n",
       "      <td>1</td>\n",
       "      <td>1</td>\n",
       "      <td>...</td>\n",
       "      <td>0.0</td>\n",
       "      <td>0.0</td>\n",
       "      <td>0.0</td>\n",
       "      <td>0.0</td>\n",
       "      <td>0.0</td>\n",
       "      <td>0.0</td>\n",
       "      <td>0.0</td>\n",
       "      <td>0.0</td>\n",
       "      <td>0.0</td>\n",
       "      <td>1.0</td>\n",
       "    </tr>\n",
       "  </tbody>\n",
       "</table>\n",
       "<p>815775 rows × 35 columns</p>\n",
       "</div>"
      ],
      "text/plain": [
       "        daily_price  host_is_superhost  accommodates  bedrooms  beds  \\\n",
       "0             120.0                  0             2       1.0   1.0   \n",
       "1             120.0                  0             2       1.0   1.0   \n",
       "2             120.0                  0             2       1.0   1.0   \n",
       "3             120.0                  0             2       1.0   1.0   \n",
       "4             120.0                  0             2       1.0   1.0   \n",
       "...             ...                ...           ...       ...   ...   \n",
       "815770        165.0                  1             3       1.0   1.0   \n",
       "815771        150.0                  1             3       1.0   1.0   \n",
       "815772        150.0                  1             3       1.0   1.0   \n",
       "815773        150.0                  1             3       1.0   1.0   \n",
       "815774        150.0                  1             3       1.0   1.0   \n",
       "\n",
       "        bathrooms  Air conditioning  Wifi  TV  Kitchen  ...  month_3  month_4  \\\n",
       "0             1.0                 1     1   0        1  ...      0.0      0.0   \n",
       "1             1.0                 1     1   0        1  ...      0.0      0.0   \n",
       "2             1.0                 1     1   0        1  ...      0.0      0.0   \n",
       "3             1.0                 1     1   0        1  ...      0.0      0.0   \n",
       "4             1.0                 1     1   0        1  ...      0.0      0.0   \n",
       "...           ...               ...   ...  ..      ...  ...      ...      ...   \n",
       "815770        1.0                 1     1   1        1  ...      0.0      0.0   \n",
       "815771        1.0                 1     1   1        1  ...      0.0      0.0   \n",
       "815772        1.0                 1     1   1        1  ...      0.0      0.0   \n",
       "815773        1.0                 1     1   1        1  ...      0.0      0.0   \n",
       "815774        1.0                 1     1   1        1  ...      0.0      0.0   \n",
       "\n",
       "        month_5  month_6  month_7  month_8  month_9  month_10  month_11  \\\n",
       "0           0.0      0.0      0.0      0.0      0.0       0.0       0.0   \n",
       "1           0.0      0.0      0.0      0.0      0.0       0.0       0.0   \n",
       "2           0.0      0.0      0.0      0.0      0.0       0.0       0.0   \n",
       "3           0.0      0.0      0.0      0.0      0.0       0.0       0.0   \n",
       "4           0.0      0.0      0.0      0.0      0.0       0.0       0.0   \n",
       "...         ...      ...      ...      ...      ...       ...       ...   \n",
       "815770      0.0      0.0      0.0      0.0      0.0       0.0       0.0   \n",
       "815771      0.0      0.0      0.0      0.0      0.0       0.0       0.0   \n",
       "815772      0.0      0.0      0.0      0.0      0.0       0.0       0.0   \n",
       "815773      0.0      0.0      0.0      0.0      0.0       0.0       0.0   \n",
       "815774      0.0      0.0      0.0      0.0      0.0       0.0       0.0   \n",
       "\n",
       "        month_12  \n",
       "0            1.0  \n",
       "1            1.0  \n",
       "2            1.0  \n",
       "3            1.0  \n",
       "4            1.0  \n",
       "...          ...  \n",
       "815770       1.0  \n",
       "815771       1.0  \n",
       "815772       1.0  \n",
       "815773       1.0  \n",
       "815774       1.0  \n",
       "\n",
       "[815775 rows x 35 columns]"
      ]
     },
     "execution_count": 483,
     "metadata": {},
     "output_type": "execute_result"
    }
   ],
   "source": [
    "#Merge the one hot encoded dataframe and the numeric columns\n",
    "model2_numeric = asheville_modeling_data[['daily_price', 'host_is_superhost', 'accommodates', 'bedrooms', 'beds', \n",
    "                                          'bathrooms', 'Air conditioning', 'Wifi', 'TV', 'Kitchen', 'Washer', \n",
    "                                          'Dryer', 'Heating']]\n",
    "\n",
    "model2_comb_ohe = model2_numeric.join(model2_cat_ohe, how = 'left')\n",
    "model2_comb_ohe\n"
   ]
  },
  {
   "cell_type": "code",
   "execution_count": 484,
   "metadata": {},
   "outputs": [],
   "source": [
    "model2_X = model2_comb_ohe.drop(['daily_price'], axis = 1)\n",
    "model2_y = model2_comb_ohe['daily_price']\n",
    "\n",
    "model2_X_train, model2_X_test, model2_y_train, model2_y_test = train_test_split(model2_X, \n",
    "                                                                                model2_y, \n",
    "                                                                                test_size = 0.15)\n",
    "\n",
    "model2_X_train, model2_X_val, model2_y_train, model2_y_val = train_test_split(model2_X_train, \n",
    "                                                                              model2_y_train,\n",
    "                                                                              test_size = 0.12)"
   ]
  },
  {
   "cell_type": "code",
   "execution_count": null,
   "metadata": {},
   "outputs": [],
   "source": [
    "#Consider adding a decaying learning rate"
   ]
  },
  {
   "cell_type": "code",
   "execution_count": 485,
   "metadata": {},
   "outputs": [
    {
     "name": "stdout",
     "output_type": "stream",
     "text": [
      "Epoch 1/50\n",
      "   1/1221 [..............................] - ETA: 5:16 - loss: 64225.6367 - mse: 64225.6289 - mae: 195.0535"
     ]
    },
    {
     "name": "stderr",
     "output_type": "stream",
     "text": [
      "2022-12-19 16:28:22.174067: I tensorflow/core/grappler/optimizers/custom_graph_optimizer_registry.cc:113] Plugin optimizer for device_type GPU is enabled.\n"
     ]
    },
    {
     "name": "stdout",
     "output_type": "stream",
     "text": [
      "1221/1221 [==============================] - ETA: 0s - loss: 66286.7812 - mse: 66286.7031 - mae: 195.8363"
     ]
    },
    {
     "name": "stderr",
     "output_type": "stream",
     "text": [
      "2022-12-19 16:28:41.217722: I tensorflow/core/grappler/optimizers/custom_graph_optimizer_registry.cc:113] Plugin optimizer for device_type GPU is enabled.\n"
     ]
    },
    {
     "name": "stdout",
     "output_type": "stream",
     "text": [
      "1221/1221 [==============================] - 20s 16ms/step - loss: 66286.7812 - mse: 66286.7031 - mae: 195.8363 - val_loss: 64720.1953 - val_mse: 64720.1719 - val_mae: 192.9872\n",
      "Epoch 2/50\n",
      "1221/1221 [==============================] - 20s 17ms/step - loss: 63360.7266 - mse: 63360.7188 - mae: 188.0661 - val_loss: 60928.2773 - val_mse: 60928.2422 - val_mae: 182.6929\n",
      "Epoch 3/50\n",
      "1221/1221 [==============================] - 21s 17ms/step - loss: 59054.7305 - mse: 59054.7031 - mae: 176.0862 - val_loss: 56255.2930 - val_mse: 56255.2148 - val_mae: 169.4335\n",
      "Epoch 4/50\n",
      "1221/1221 [==============================] - 20s 17ms/step - loss: 54275.6758 - mse: 54275.5977 - mae: 162.2776 - val_loss: 51467.6953 - val_mse: 51467.5977 - val_mae: 155.3968\n",
      "Epoch 5/50\n",
      "1221/1221 [==============================] - 20s 17ms/step - loss: 49670.2734 - mse: 49670.1289 - mae: 148.5646 - val_loss: 47107.8750 - val_mse: 47107.7461 - val_mae: 142.2512\n",
      "Epoch 6/50\n",
      "1221/1221 [==============================] - 21s 17ms/step - loss: 45672.6680 - mse: 45672.5742 - mae: 136.5119 - val_loss: 43478.7617 - val_mse: 43478.6445 - val_mae: 131.4530\n",
      "Epoch 7/50\n",
      "1221/1221 [==============================] - 20s 17ms/step - loss: 42347.3438 - mse: 42347.2422 - mae: 126.6791 - val_loss: 40343.1875 - val_mse: 40343.0664 - val_mae: 122.2151\n",
      "Epoch 8/50\n",
      "1221/1221 [==============================] - 20s 17ms/step - loss: 39234.4062 - mse: 39234.2734 - mae: 117.7719 - val_loss: 37222.9453 - val_mse: 37222.8477 - val_mae: 113.6334\n",
      "Epoch 9/50\n",
      "1221/1221 [==============================] - 20s 17ms/step - loss: 36180.2422 - mse: 36180.1875 - mae: 109.9299 - val_loss: 34271.3750 - val_mse: 34271.3164 - val_mae: 106.7788\n",
      "Epoch 10/50\n",
      "1221/1221 [==============================] - 20s 16ms/step - loss: 33413.8789 - mse: 33413.8867 - mae: 104.3110 - val_loss: 31717.6992 - val_mse: 31717.6621 - val_mae: 102.2765\n",
      "Epoch 11/50\n",
      "1221/1221 [==============================] - 20s 16ms/step - loss: 31130.2148 - mse: 31130.1914 - mae: 101.2360 - val_loss: 29720.7852 - val_mse: 29720.7891 - val_mae: 100.5269\n",
      "Epoch 12/50\n",
      "1221/1221 [==============================] - 21s 17ms/step - loss: 29465.0254 - mse: 29465.0273 - mae: 100.7104 - val_loss: 28390.2227 - val_mse: 28390.2188 - val_mae: 101.0595\n",
      "Epoch 13/50\n",
      "1221/1221 [==============================] - 20s 17ms/step - loss: 28465.8945 - mse: 28465.8887 - mae: 102.0648 - val_loss: 27703.3242 - val_mse: 27703.3164 - val_mae: 102.9561\n",
      "Epoch 14/50\n",
      "1221/1221 [==============================] - 20s 17ms/step - loss: 28038.0293 - mse: 28038.0586 - mae: 104.1024 - val_loss: 27486.1602 - val_mse: 27486.1621 - val_mae: 104.8567\n",
      "Epoch 15/50\n",
      "1221/1221 [==============================] - 20s 17ms/step - loss: 27936.1426 - mse: 27936.1191 - mae: 105.5365 - val_loss: 27455.4004 - val_mse: 27455.3906 - val_mae: 105.9189\n",
      "Epoch 16/50\n",
      "1221/1221 [==============================] - 21s 17ms/step - loss: 27926.4434 - mse: 27926.4355 - mae: 106.1303 - val_loss: 27454.0059 - val_mse: 27454.0156 - val_mae: 106.0855\n",
      "Epoch 17/50\n",
      "1221/1221 [==============================] - 21s 17ms/step - loss: 27926.0996 - mse: 27926.0566 - mae: 106.2634 - val_loss: 27454.2402 - val_mse: 27454.2383 - val_mae: 105.9468\n",
      "Epoch 18/50\n",
      "1221/1221 [==============================] - 21s 17ms/step - loss: 27926.0703 - mse: 27926.0723 - mae: 106.2133 - val_loss: 27454.0742 - val_mse: 27454.0703 - val_mae: 106.0132\n",
      "Epoch 19/50\n",
      "1221/1221 [==============================] - 20s 17ms/step - loss: 27926.1289 - mse: 27926.1289 - mae: 106.1966 - val_loss: 27454.0156 - val_mse: 27454.0117 - val_mae: 106.1704\n",
      "Epoch 20/50\n",
      "1221/1221 [==============================] - 21s 17ms/step - loss: 27926.1484 - mse: 27926.1445 - mae: 106.2529 - val_loss: 27453.9785 - val_mse: 27453.9648 - val_mae: 106.0693\n",
      "Epoch 21/50\n",
      "1221/1221 [==============================] - 21s 17ms/step - loss: 27926.1133 - mse: 27926.0820 - mae: 106.2393 - val_loss: 27453.9941 - val_mse: 27453.9863 - val_mae: 106.0559\n",
      "Epoch 22/50\n",
      "1221/1221 [==============================] - 21s 17ms/step - loss: 27926.0625 - mse: 27926.0742 - mae: 106.2068 - val_loss: 27454.0098 - val_mse: 27454.0039 - val_mae: 106.1744\n",
      "Epoch 23/50\n",
      "1221/1221 [==============================] - 21s 17ms/step - loss: 27926.1621 - mse: 27926.1660 - mae: 106.2515 - val_loss: 27453.9609 - val_mse: 27453.9746 - val_mae: 106.0867\n",
      "Epoch 24/50\n",
      "1221/1221 [==============================] - 21s 17ms/step - loss: 27926.0605 - mse: 27926.0156 - mae: 106.2398 - val_loss: 27453.9785 - val_mse: 27453.9629 - val_mae: 106.0706\n",
      "Epoch 25/50\n",
      "1221/1221 [==============================] - 21s 17ms/step - loss: 27926.1973 - mse: 27926.1699 - mae: 106.2263 - val_loss: 27453.9766 - val_mse: 27453.9688 - val_mae: 106.0791\n",
      "Epoch 26/50\n",
      "1221/1221 [==============================] - 21s 17ms/step - loss: 27926.1895 - mse: 27926.2051 - mae: 106.2429 - val_loss: 27453.9902 - val_mse: 27453.9766 - val_mae: 106.0625\n",
      "Epoch 27/50\n",
      "1221/1221 [==============================] - 21s 17ms/step - loss: 27925.9902 - mse: 27925.9805 - mae: 106.1716 - val_loss: 27454.3574 - val_mse: 27454.3516 - val_mae: 106.2863\n",
      "Epoch 28/50\n",
      "1221/1221 [==============================] - 21s 17ms/step - loss: 27926.2734 - mse: 27926.2871 - mae: 106.2695 - val_loss: 27453.9844 - val_mse: 27453.9941 - val_mae: 106.1566\n",
      "Epoch 29/50\n",
      "1221/1221 [==============================] - 21s 17ms/step - loss: 27926.0996 - mse: 27926.1191 - mae: 106.2658 - val_loss: 27454.2500 - val_mse: 27454.2520 - val_mae: 105.9402\n",
      "Epoch 30/50\n",
      "1221/1221 [==============================] - 21s 17ms/step - loss: 27926.1387 - mse: 27926.1133 - mae: 106.1848 - val_loss: 27454.0840 - val_mse: 27454.0938 - val_mae: 106.2024\n",
      "Epoch 31/50\n",
      "1221/1221 [==============================] - 21s 17ms/step - loss: 27926.2559 - mse: 27926.2051 - mae: 106.2521 - val_loss: 27453.9688 - val_mse: 27453.9590 - val_mae: 106.1211\n",
      "Epoch 32/50\n",
      "1221/1221 [==============================] - 21s 17ms/step - loss: 27926.1328 - mse: 27926.1387 - mae: 106.2623 - val_loss: 27454.1914 - val_mse: 27454.1895 - val_mae: 105.9642\n",
      "Epoch 33/50\n",
      "1221/1221 [==============================] - 20s 17ms/step - loss: 27926.1797 - mse: 27926.1758 - mae: 106.2060 - val_loss: 27453.9785 - val_mse: 27453.9688 - val_mae: 106.0816\n",
      "Epoch 34/50\n",
      "1221/1221 [==============================] - 21s 17ms/step - loss: 27926.1328 - mse: 27926.1602 - mae: 106.2245 - val_loss: 27453.9824 - val_mse: 27453.9766 - val_mae: 106.0665\n",
      "Epoch 35/50\n",
      "1221/1221 [==============================] - 20s 16ms/step - loss: 27926.1758 - mse: 27926.1758 - mae: 106.2210 - val_loss: 27453.9941 - val_mse: 27453.9980 - val_mae: 106.1479\n",
      "Epoch 36/50\n",
      "1221/1221 [==============================] - 20s 16ms/step - loss: 27926.1934 - mse: 27926.2227 - mae: 106.2391 - val_loss: 27453.9629 - val_mse: 27453.9570 - val_mae: 106.1036\n",
      "Epoch 37/50\n",
      "1221/1221 [==============================] - 20s 16ms/step - loss: 27926.1855 - mse: 27926.1816 - mae: 106.2455 - val_loss: 27453.9824 - val_mse: 27454.0000 - val_mae: 106.0513\n"
     ]
    }
   ],
   "source": [
    "#Instantiate a Regularizer\n",
    "reg = l2(3e-3)\n",
    "\n",
    "model2_nn = models.Sequential()\n",
    "model2_nn.add(layers.Dense(34, activation = 'relu', kernel_regularizer = reg, input_shape=(34, 1)))\n",
    "model2_nn.add(layers.Dense(1))\n",
    "\n",
    "#Create an opt variable which is set to the learning rate to be used, we will use 0.0002\n",
    "opt = Adam(learning_rate = 0.0002)\n",
    "\n",
    "#Add an early stopping mechanism which will stop fitting the model based on the minimum validation loss, a minimum\n",
    "    #delta of le-8, and a patience of 10\n",
    "es = EarlyStopping(monitor = 'mse', mode = 'min', min_delta = 1e-8, patience = 10)\n",
    "\n",
    "#Set the random seed to 42 for reproducibility\n",
    "np.random.seed(42)\n",
    "\n",
    "#Compile the model and utilize the 'opt' variable, \n",
    "model2_nn.compile(optimizer = opt,\n",
    "                  loss = 'mse',\n",
    "                  metrics = ['mse', 'mae'])\n",
    "\n",
    "#Create a new _histoire variable containing the fit model\n",
    "model2_nn_histoire = model2_nn.fit(model2_X_train.values,\n",
    "                                   model2_y_train.values,\n",
    "                                   callbacks = [es],\n",
    "                                   epochs = 50,\n",
    "                                   batch_size = 500,\n",
    "                                   validation_data = (model2_X_val.values, model2_y_val.values))"
   ]
  },
  {
   "cell_type": "code",
   "execution_count": null,
   "metadata": {},
   "outputs": [],
   "source": [
    "#One Hot Encode\n",
    "#Scale"
   ]
  },
  {
   "cell_type": "code",
   "execution_count": null,
   "metadata": {},
   "outputs": [],
   "source": [
    "#text = input()`"
   ]
  }
 ],
 "metadata": {
  "kernelspec": {
   "display_name": "tensorflow_env",
   "language": "python",
   "name": "tensorflow_env"
  },
  "language_info": {
   "codemirror_mode": {
    "name": "ipython",
    "version": 3
   },
   "file_extension": ".py",
   "mimetype": "text/x-python",
   "name": "python",
   "nbconvert_exporter": "python",
   "pygments_lexer": "ipython3",
   "version": "3.8.15"
  }
 },
 "nbformat": 4,
 "nbformat_minor": 5
}
